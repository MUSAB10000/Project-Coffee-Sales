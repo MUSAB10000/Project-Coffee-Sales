{
  "cells": [
    {
      "cell_type": "markdown",
      "id": "bbfe860e",
      "metadata": {
        "id": "bbfe860e"
      },
      "source": [
        "# ☕ Coffee Sales Analysis Project\n"
      ]
    },
    {
      "cell_type": "markdown",
      "id": "2e951db3",
      "metadata": {
        "vscode": {
          "languageId": "markdown"
        },
        "id": "2e951db3"
      },
      "source": [
        "#  Table of Contents\n",
        "\n",
        "1. [Project Title & Team](#project-title-coffee-shop-sales-analysis)\n",
        "2. [Problem Statement](#problem-statement)\n",
        "3. [Objectives](#objectives)\n",
        "4. [Dataset Overview](#-dataset-overview)\n",
        "    - [Feature Description](#-feature-description)\n",
        "    - [Dataset Link](#-dataset-link)\n",
        "5. [Methodology](#methodology)\n",
        "    - Data Cleaning\n",
        "    - Exploratory Data Analysis (EDA)\n",
        "    - Modeling & Evaluation\n",
        "6. [Data Cleaning](#data-cleaning)\n",
        "7. [Exploratory Data Analysis (EDA)](#eda)\n",
        "    - Sales by Weekday\n",
        "    - Coffee Popularity\n",
        "    - Average Spending by Time of Day\n",
        "    - Weekday vs Weekend Sales\n",
        "    - Monthly & Seasonal Trends\n",
        "    - Best Coffee Type in March\n",
        "    - Best Coffee Type by Season\n",
        "    - Sales by Hour of Day\n",
        "    - Yearly/Monthly Comparisons\n",
        "    - Correlation Heatmap\n",
        "8. [Modeling](#model)\n",
        "    - OLS Regression\n",
        "    - Linear Regression\n",
        "    - Random Forest & XGBoost\n",
        "    - Model Comparison\n",
        "9. [Insights from EDA](#-insights-from-eda)\n",
        "10. [Business Recommendations](#business-recommendations)"
      ]
    },
    {
      "cell_type": "markdown",
      "id": "f61ae09d",
      "metadata": {
        "id": "f61ae09d"
      },
      "source": [
        "# Table of Contents"
      ]
    },
    {
      "cell_type": "markdown",
      "id": "46cabe2c",
      "metadata": {
        "id": "46cabe2c"
      },
      "source": [
        "# Project Title: Coffee Shop Sales Analysis\n",
        "\n",
        "## Team Members & Roles\n",
        "- Mudhawi Saleh Alshiha : Data Cleaning & EDA & answer quetions  \n",
        "- Musab Alabdullatif : EDA & answer quetions & modeling   \n",
        "- Mousa Hamoud : Modeling & Evaluation &  Dashboard\n",
        "\n",
        "\n"
      ]
    },
    {
      "cell_type": "markdown",
      "id": "e083fd06",
      "metadata": {
        "id": "e083fd06"
      },
      "source": [
        "# Problem Statement  \n",
        "\n",
        "Coffee shops operate in highly competitive environments where customer preferences, peak hours, and seasonal demand directly influence revenue.  \n",
        "Without proper analysis, businesses may miss opportunities to optimize staffing, adjust pricing strategies, or promote the right products at the right time.  \n",
        "\n",
        "This project aims to analyze coffee shop transaction data to uncover patterns in sales, payment methods, and customer behavior.  \n",
        "By applying statistical models and predictive analytics, we can provide actionable recommendations that support better decision-making and improved business performance.\n"
      ]
    },
    {
      "cell_type": "markdown",
      "id": "99f3141c",
      "metadata": {
        "id": "99f3141c"
      },
      "source": [
        "# Objectives\n",
        "\n",
        "We will answer the following questions:  \n",
        "- On which day of the week are there the most sales?\n",
        "\n",
        "- What is the most popular coffee type by number of orders?\n",
        "\n",
        "- What is the average money spent in the morning vs afternoon vs evening?\n",
        "\n",
        "- Are weekends vs weekdays different in average sales?\n",
        "\n",
        "- Are there seasonal or monthly trends in coffee sales, and which months generate the highest revenue?  \n",
        "\n",
        "- Which hour of the day generates the most sales?\n",
        "\n",
        "- and more\n",
        "---------------------------------------------------\n",
        "- Build and evaluate statistical & ML models for sales prediction.\n",
        "\n",
        "- Provide actionable business recommendations.  \n"
      ]
    },
    {
      "cell_type": "markdown",
      "id": "76b4dec5",
      "metadata": {
        "id": "76b4dec5"
      },
      "source": [
        "##  Dataset Overview\n",
        "\n",
        "This dataset contains **coffee shop transaction records** across **2024 and early 2025**.  \n",
        "It captures details about each purchase such as the **time of sale, coffee type, payment method, transaction value, and temporal attributes** (weekday, month, season).  \n",
        "\n",
        "The dataset is well-suited for **business analysis, trend detection, customer behavior insights, and predictive modeling**.\n",
        "\n",
        "---\n",
        "\n",
        "###  Feature Description\n",
        "\n",
        "| Column        | Description                                                                 |\n",
        "|---------------|-----------------------------------------------------------------------------|\n",
        "| `Date`        | Full date of the transaction                                                |\n",
        "| `hour_of_day` | Hour when the purchase was made (0–23)                                      |\n",
        "| `cash_type`   | Mode of payment (*cash* / *card*)                                           |\n",
        "| `money`       | Transaction amount (local currency)                                         |\n",
        "| `coffee_name` | Type of coffee purchased (Latte, Americano, Cappuccino, etc.)               |\n",
        "| `Time_of_Day` | Categorized time of purchase (*Morning, Afternoon, Night*)                  |\n",
        "| `Weekday`     | Day of the week (Mon–Sun)                                                   |\n",
        "| `Month_name`  | Month of the purchase (Jan–Dec)                                             |\n",
        "| `Weekdaysort` | Numeric representation for weekday ordering (1 = Monday, 7 = Sunday)        |\n",
        "| `Monthsort`   | Numeric representation for month ordering (1 = January, 12 = December)      |\n",
        "| `Season`      | Seasonal grouping of transactions (Winter, Spring, Summer, Autumn)          |\n",
        "\n",
        "---\n",
        "\n",
        "### 🔗 Dataset Link  \n",
        "[Coffee Sales Dataset](https://www.kaggle.com/datasets/navjotkaushal/coffee-sales-dataset/data)\n"
      ]
    },
    {
      "cell_type": "markdown",
      "id": "81b86e8a",
      "metadata": {
        "id": "81b86e8a"
      },
      "source": [
        "# Methodology\n",
        "will contains:\n",
        "- Data cleaning\n",
        "- EDA\n",
        "- MODEL"
      ]
    },
    {
      "cell_type": "code",
      "execution_count": 1,
      "id": "ab487a73",
      "metadata": {
        "id": "ab487a73"
      },
      "outputs": [],
      "source": [
        "# import necessary libraries\n",
        "import pandas as pd\n",
        "import numpy as np\n",
        "import plotly.express as px\n",
        "import statsmodels.api as sm\n"
      ]
    },
    {
      "cell_type": "markdown",
      "id": "6dbe819a",
      "metadata": {
        "id": "6dbe819a"
      },
      "source": [
        "## DATA Cleaning"
      ]
    },
    {
      "cell_type": "code",
      "execution_count": 3,
      "id": "01fc1894",
      "metadata": {
        "id": "01fc1894"
      },
      "outputs": [],
      "source": [
        "# load data\n",
        "df = pd.read_csv('Coffe_sales.csv')"
      ]
    },
    {
      "cell_type": "code",
      "execution_count": 4,
      "id": "f80363d8",
      "metadata": {
        "colab": {
          "base_uri": "https://localhost:8080/",
          "height": 417
        },
        "id": "f80363d8",
        "outputId": "aedfd316-b15e-463e-984d-c53bc8ed4f40"
      },
      "outputs": [
        {
          "output_type": "stream",
          "name": "stdout",
          "text": [
            "Dataset Shape: (3547, 11)\n",
            "\n",
            "Column Names:\n",
            "['hour_of_day', 'cash_type', 'money', 'coffee_name', 'Time_of_Day', 'Weekday', 'Month_name', 'Weekdaysort', 'Monthsort', 'Date', 'Time']\n",
            "\n",
            "First 5 rows:\n"
          ]
        },
        {
          "output_type": "execute_result",
          "data": {
            "text/plain": [
              "   hour_of_day cash_type  money    coffee_name Time_of_Day Weekday Month_name  \\\n",
              "0           10      card   38.7          Latte     Morning     Fri        Mar   \n",
              "1           12      card   38.7  Hot Chocolate   Afternoon     Fri        Mar   \n",
              "2           12      card   38.7  Hot Chocolate   Afternoon     Fri        Mar   \n",
              "3           13      card   28.9      Americano   Afternoon     Fri        Mar   \n",
              "4           13      card   38.7          Latte   Afternoon     Fri        Mar   \n",
              "\n",
              "   Weekdaysort  Monthsort        Date             Time  \n",
              "0            5          3  2024-03-01  10:15:50.520000  \n",
              "1            5          3  2024-03-01  12:19:22.539000  \n",
              "2            5          3  2024-03-01  12:20:18.089000  \n",
              "3            5          3  2024-03-01  13:46:33.006000  \n",
              "4            5          3  2024-03-01  13:48:14.626000  "
            ],
            "text/html": [
              "\n",
              "  <div id=\"df-aee0d6af-c68f-450b-9bfb-33c573fc244e\" class=\"colab-df-container\">\n",
              "    <div>\n",
              "<style scoped>\n",
              "    .dataframe tbody tr th:only-of-type {\n",
              "        vertical-align: middle;\n",
              "    }\n",
              "\n",
              "    .dataframe tbody tr th {\n",
              "        vertical-align: top;\n",
              "    }\n",
              "\n",
              "    .dataframe thead th {\n",
              "        text-align: right;\n",
              "    }\n",
              "</style>\n",
              "<table border=\"1\" class=\"dataframe\">\n",
              "  <thead>\n",
              "    <tr style=\"text-align: right;\">\n",
              "      <th></th>\n",
              "      <th>hour_of_day</th>\n",
              "      <th>cash_type</th>\n",
              "      <th>money</th>\n",
              "      <th>coffee_name</th>\n",
              "      <th>Time_of_Day</th>\n",
              "      <th>Weekday</th>\n",
              "      <th>Month_name</th>\n",
              "      <th>Weekdaysort</th>\n",
              "      <th>Monthsort</th>\n",
              "      <th>Date</th>\n",
              "      <th>Time</th>\n",
              "    </tr>\n",
              "  </thead>\n",
              "  <tbody>\n",
              "    <tr>\n",
              "      <th>0</th>\n",
              "      <td>10</td>\n",
              "      <td>card</td>\n",
              "      <td>38.7</td>\n",
              "      <td>Latte</td>\n",
              "      <td>Morning</td>\n",
              "      <td>Fri</td>\n",
              "      <td>Mar</td>\n",
              "      <td>5</td>\n",
              "      <td>3</td>\n",
              "      <td>2024-03-01</td>\n",
              "      <td>10:15:50.520000</td>\n",
              "    </tr>\n",
              "    <tr>\n",
              "      <th>1</th>\n",
              "      <td>12</td>\n",
              "      <td>card</td>\n",
              "      <td>38.7</td>\n",
              "      <td>Hot Chocolate</td>\n",
              "      <td>Afternoon</td>\n",
              "      <td>Fri</td>\n",
              "      <td>Mar</td>\n",
              "      <td>5</td>\n",
              "      <td>3</td>\n",
              "      <td>2024-03-01</td>\n",
              "      <td>12:19:22.539000</td>\n",
              "    </tr>\n",
              "    <tr>\n",
              "      <th>2</th>\n",
              "      <td>12</td>\n",
              "      <td>card</td>\n",
              "      <td>38.7</td>\n",
              "      <td>Hot Chocolate</td>\n",
              "      <td>Afternoon</td>\n",
              "      <td>Fri</td>\n",
              "      <td>Mar</td>\n",
              "      <td>5</td>\n",
              "      <td>3</td>\n",
              "      <td>2024-03-01</td>\n",
              "      <td>12:20:18.089000</td>\n",
              "    </tr>\n",
              "    <tr>\n",
              "      <th>3</th>\n",
              "      <td>13</td>\n",
              "      <td>card</td>\n",
              "      <td>28.9</td>\n",
              "      <td>Americano</td>\n",
              "      <td>Afternoon</td>\n",
              "      <td>Fri</td>\n",
              "      <td>Mar</td>\n",
              "      <td>5</td>\n",
              "      <td>3</td>\n",
              "      <td>2024-03-01</td>\n",
              "      <td>13:46:33.006000</td>\n",
              "    </tr>\n",
              "    <tr>\n",
              "      <th>4</th>\n",
              "      <td>13</td>\n",
              "      <td>card</td>\n",
              "      <td>38.7</td>\n",
              "      <td>Latte</td>\n",
              "      <td>Afternoon</td>\n",
              "      <td>Fri</td>\n",
              "      <td>Mar</td>\n",
              "      <td>5</td>\n",
              "      <td>3</td>\n",
              "      <td>2024-03-01</td>\n",
              "      <td>13:48:14.626000</td>\n",
              "    </tr>\n",
              "  </tbody>\n",
              "</table>\n",
              "</div>\n",
              "    <div class=\"colab-df-buttons\">\n",
              "\n",
              "  <div class=\"colab-df-container\">\n",
              "    <button class=\"colab-df-convert\" onclick=\"convertToInteractive('df-aee0d6af-c68f-450b-9bfb-33c573fc244e')\"\n",
              "            title=\"Convert this dataframe to an interactive table.\"\n",
              "            style=\"display:none;\">\n",
              "\n",
              "  <svg xmlns=\"http://www.w3.org/2000/svg\" height=\"24px\" viewBox=\"0 -960 960 960\">\n",
              "    <path d=\"M120-120v-720h720v720H120Zm60-500h600v-160H180v160Zm220 220h160v-160H400v160Zm0 220h160v-160H400v160ZM180-400h160v-160H180v160Zm440 0h160v-160H620v160ZM180-180h160v-160H180v160Zm440 0h160v-160H620v160Z\"/>\n",
              "  </svg>\n",
              "    </button>\n",
              "\n",
              "  <style>\n",
              "    .colab-df-container {\n",
              "      display:flex;\n",
              "      gap: 12px;\n",
              "    }\n",
              "\n",
              "    .colab-df-convert {\n",
              "      background-color: #E8F0FE;\n",
              "      border: none;\n",
              "      border-radius: 50%;\n",
              "      cursor: pointer;\n",
              "      display: none;\n",
              "      fill: #1967D2;\n",
              "      height: 32px;\n",
              "      padding: 0 0 0 0;\n",
              "      width: 32px;\n",
              "    }\n",
              "\n",
              "    .colab-df-convert:hover {\n",
              "      background-color: #E2EBFA;\n",
              "      box-shadow: 0px 1px 2px rgba(60, 64, 67, 0.3), 0px 1px 3px 1px rgba(60, 64, 67, 0.15);\n",
              "      fill: #174EA6;\n",
              "    }\n",
              "\n",
              "    .colab-df-buttons div {\n",
              "      margin-bottom: 4px;\n",
              "    }\n",
              "\n",
              "    [theme=dark] .colab-df-convert {\n",
              "      background-color: #3B4455;\n",
              "      fill: #D2E3FC;\n",
              "    }\n",
              "\n",
              "    [theme=dark] .colab-df-convert:hover {\n",
              "      background-color: #434B5C;\n",
              "      box-shadow: 0px 1px 3px 1px rgba(0, 0, 0, 0.15);\n",
              "      filter: drop-shadow(0px 1px 2px rgba(0, 0, 0, 0.3));\n",
              "      fill: #FFFFFF;\n",
              "    }\n",
              "  </style>\n",
              "\n",
              "    <script>\n",
              "      const buttonEl =\n",
              "        document.querySelector('#df-aee0d6af-c68f-450b-9bfb-33c573fc244e button.colab-df-convert');\n",
              "      buttonEl.style.display =\n",
              "        google.colab.kernel.accessAllowed ? 'block' : 'none';\n",
              "\n",
              "      async function convertToInteractive(key) {\n",
              "        const element = document.querySelector('#df-aee0d6af-c68f-450b-9bfb-33c573fc244e');\n",
              "        const dataTable =\n",
              "          await google.colab.kernel.invokeFunction('convertToInteractive',\n",
              "                                                    [key], {});\n",
              "        if (!dataTable) return;\n",
              "\n",
              "        const docLinkHtml = 'Like what you see? Visit the ' +\n",
              "          '<a target=\"_blank\" href=https://colab.research.google.com/notebooks/data_table.ipynb>data table notebook</a>'\n",
              "          + ' to learn more about interactive tables.';\n",
              "        element.innerHTML = '';\n",
              "        dataTable['output_type'] = 'display_data';\n",
              "        await google.colab.output.renderOutput(dataTable, element);\n",
              "        const docLink = document.createElement('div');\n",
              "        docLink.innerHTML = docLinkHtml;\n",
              "        element.appendChild(docLink);\n",
              "      }\n",
              "    </script>\n",
              "  </div>\n",
              "\n",
              "\n",
              "    <div id=\"df-b9ba945c-c32b-411d-aa56-aefbcf21298f\">\n",
              "      <button class=\"colab-df-quickchart\" onclick=\"quickchart('df-b9ba945c-c32b-411d-aa56-aefbcf21298f')\"\n",
              "                title=\"Suggest charts\"\n",
              "                style=\"display:none;\">\n",
              "\n",
              "<svg xmlns=\"http://www.w3.org/2000/svg\" height=\"24px\"viewBox=\"0 0 24 24\"\n",
              "     width=\"24px\">\n",
              "    <g>\n",
              "        <path d=\"M19 3H5c-1.1 0-2 .9-2 2v14c0 1.1.9 2 2 2h14c1.1 0 2-.9 2-2V5c0-1.1-.9-2-2-2zM9 17H7v-7h2v7zm4 0h-2V7h2v10zm4 0h-2v-4h2v4z\"/>\n",
              "    </g>\n",
              "</svg>\n",
              "      </button>\n",
              "\n",
              "<style>\n",
              "  .colab-df-quickchart {\n",
              "      --bg-color: #E8F0FE;\n",
              "      --fill-color: #1967D2;\n",
              "      --hover-bg-color: #E2EBFA;\n",
              "      --hover-fill-color: #174EA6;\n",
              "      --disabled-fill-color: #AAA;\n",
              "      --disabled-bg-color: #DDD;\n",
              "  }\n",
              "\n",
              "  [theme=dark] .colab-df-quickchart {\n",
              "      --bg-color: #3B4455;\n",
              "      --fill-color: #D2E3FC;\n",
              "      --hover-bg-color: #434B5C;\n",
              "      --hover-fill-color: #FFFFFF;\n",
              "      --disabled-bg-color: #3B4455;\n",
              "      --disabled-fill-color: #666;\n",
              "  }\n",
              "\n",
              "  .colab-df-quickchart {\n",
              "    background-color: var(--bg-color);\n",
              "    border: none;\n",
              "    border-radius: 50%;\n",
              "    cursor: pointer;\n",
              "    display: none;\n",
              "    fill: var(--fill-color);\n",
              "    height: 32px;\n",
              "    padding: 0;\n",
              "    width: 32px;\n",
              "  }\n",
              "\n",
              "  .colab-df-quickchart:hover {\n",
              "    background-color: var(--hover-bg-color);\n",
              "    box-shadow: 0 1px 2px rgba(60, 64, 67, 0.3), 0 1px 3px 1px rgba(60, 64, 67, 0.15);\n",
              "    fill: var(--button-hover-fill-color);\n",
              "  }\n",
              "\n",
              "  .colab-df-quickchart-complete:disabled,\n",
              "  .colab-df-quickchart-complete:disabled:hover {\n",
              "    background-color: var(--disabled-bg-color);\n",
              "    fill: var(--disabled-fill-color);\n",
              "    box-shadow: none;\n",
              "  }\n",
              "\n",
              "  .colab-df-spinner {\n",
              "    border: 2px solid var(--fill-color);\n",
              "    border-color: transparent;\n",
              "    border-bottom-color: var(--fill-color);\n",
              "    animation:\n",
              "      spin 1s steps(1) infinite;\n",
              "  }\n",
              "\n",
              "  @keyframes spin {\n",
              "    0% {\n",
              "      border-color: transparent;\n",
              "      border-bottom-color: var(--fill-color);\n",
              "      border-left-color: var(--fill-color);\n",
              "    }\n",
              "    20% {\n",
              "      border-color: transparent;\n",
              "      border-left-color: var(--fill-color);\n",
              "      border-top-color: var(--fill-color);\n",
              "    }\n",
              "    30% {\n",
              "      border-color: transparent;\n",
              "      border-left-color: var(--fill-color);\n",
              "      border-top-color: var(--fill-color);\n",
              "      border-right-color: var(--fill-color);\n",
              "    }\n",
              "    40% {\n",
              "      border-color: transparent;\n",
              "      border-right-color: var(--fill-color);\n",
              "      border-top-color: var(--fill-color);\n",
              "    }\n",
              "    60% {\n",
              "      border-color: transparent;\n",
              "      border-right-color: var(--fill-color);\n",
              "    }\n",
              "    80% {\n",
              "      border-color: transparent;\n",
              "      border-right-color: var(--fill-color);\n",
              "      border-bottom-color: var(--fill-color);\n",
              "    }\n",
              "    90% {\n",
              "      border-color: transparent;\n",
              "      border-bottom-color: var(--fill-color);\n",
              "    }\n",
              "  }\n",
              "</style>\n",
              "\n",
              "      <script>\n",
              "        async function quickchart(key) {\n",
              "          const quickchartButtonEl =\n",
              "            document.querySelector('#' + key + ' button');\n",
              "          quickchartButtonEl.disabled = true;  // To prevent multiple clicks.\n",
              "          quickchartButtonEl.classList.add('colab-df-spinner');\n",
              "          try {\n",
              "            const charts = await google.colab.kernel.invokeFunction(\n",
              "                'suggestCharts', [key], {});\n",
              "          } catch (error) {\n",
              "            console.error('Error during call to suggestCharts:', error);\n",
              "          }\n",
              "          quickchartButtonEl.classList.remove('colab-df-spinner');\n",
              "          quickchartButtonEl.classList.add('colab-df-quickchart-complete');\n",
              "        }\n",
              "        (() => {\n",
              "          let quickchartButtonEl =\n",
              "            document.querySelector('#df-b9ba945c-c32b-411d-aa56-aefbcf21298f button');\n",
              "          quickchartButtonEl.style.display =\n",
              "            google.colab.kernel.accessAllowed ? 'block' : 'none';\n",
              "        })();\n",
              "      </script>\n",
              "    </div>\n",
              "\n",
              "    </div>\n",
              "  </div>\n"
            ],
            "application/vnd.google.colaboratory.intrinsic+json": {
              "type": "dataframe",
              "variable_name": "df",
              "summary": "{\n  \"name\": \"df\",\n  \"rows\": 3547,\n  \"fields\": [\n    {\n      \"column\": \"hour_of_day\",\n      \"properties\": {\n        \"dtype\": \"number\",\n        \"std\": 4,\n        \"min\": 6,\n        \"max\": 22,\n        \"num_unique_values\": 17,\n        \"samples\": [\n          10,\n          12,\n          18\n        ],\n        \"semantic_type\": \"\",\n        \"description\": \"\"\n      }\n    },\n    {\n      \"column\": \"cash_type\",\n      \"properties\": {\n        \"dtype\": \"category\",\n        \"num_unique_values\": 1,\n        \"samples\": [\n          \"card\"\n        ],\n        \"semantic_type\": \"\",\n        \"description\": \"\"\n      }\n    },\n    {\n      \"column\": \"money\",\n      \"properties\": {\n        \"dtype\": \"number\",\n        \"std\": 4.877753703590957,\n        \"min\": 18.12,\n        \"max\": 38.7,\n        \"num_unique_values\": 13,\n        \"samples\": [\n          25.96\n        ],\n        \"semantic_type\": \"\",\n        \"description\": \"\"\n      }\n    },\n    {\n      \"column\": \"coffee_name\",\n      \"properties\": {\n        \"dtype\": \"category\",\n        \"num_unique_values\": 8,\n        \"samples\": [\n          \"Hot Chocolate\"\n        ],\n        \"semantic_type\": \"\",\n        \"description\": \"\"\n      }\n    },\n    {\n      \"column\": \"Time_of_Day\",\n      \"properties\": {\n        \"dtype\": \"category\",\n        \"num_unique_values\": 3,\n        \"samples\": [\n          \"Morning\"\n        ],\n        \"semantic_type\": \"\",\n        \"description\": \"\"\n      }\n    },\n    {\n      \"column\": \"Weekday\",\n      \"properties\": {\n        \"dtype\": \"category\",\n        \"num_unique_values\": 7,\n        \"samples\": [\n          \"Fri\"\n        ],\n        \"semantic_type\": \"\",\n        \"description\": \"\"\n      }\n    },\n    {\n      \"column\": \"Month_name\",\n      \"properties\": {\n        \"dtype\": \"category\",\n        \"num_unique_values\": 12,\n        \"samples\": [\n          \"Jan\"\n        ],\n        \"semantic_type\": \"\",\n        \"description\": \"\"\n      }\n    },\n    {\n      \"column\": \"Weekdaysort\",\n      \"properties\": {\n        \"dtype\": \"number\",\n        \"std\": 1,\n        \"min\": 1,\n        \"max\": 7,\n        \"num_unique_values\": 7,\n        \"samples\": [\n          5\n        ],\n        \"semantic_type\": \"\",\n        \"description\": \"\"\n      }\n    },\n    {\n      \"column\": \"Monthsort\",\n      \"properties\": {\n        \"dtype\": \"number\",\n        \"std\": 3,\n        \"min\": 1,\n        \"max\": 12,\n        \"num_unique_values\": 12,\n        \"samples\": [\n          1\n        ],\n        \"semantic_type\": \"\",\n        \"description\": \"\"\n      }\n    },\n    {\n      \"column\": \"Date\",\n      \"properties\": {\n        \"dtype\": \"object\",\n        \"num_unique_values\": 381,\n        \"samples\": [\n          \"2024-11-25\"\n        ],\n        \"semantic_type\": \"\",\n        \"description\": \"\"\n      }\n    },\n    {\n      \"column\": \"Time\",\n      \"properties\": {\n        \"dtype\": \"object\",\n        \"num_unique_values\": 3547,\n        \"samples\": [\n          \"19:43:26.234000\"\n        ],\n        \"semantic_type\": \"\",\n        \"description\": \"\"\n      }\n    }\n  ]\n}"
            }
          },
          "metadata": {},
          "execution_count": 4
        }
      ],
      "source": [
        "# Display basic information about the dataset\n",
        "print(\"Dataset Shape:\", df.shape)\n",
        "print(\"\\nColumn Names:\")\n",
        "print(df.columns.tolist())\n",
        "print(\"\\nFirst 5 rows:\")\n",
        "df.head()"
      ]
    },
    {
      "cell_type": "code",
      "execution_count": 5,
      "id": "4303fbb5",
      "metadata": {
        "colab": {
          "base_uri": "https://localhost:8080/",
          "height": 429
        },
        "id": "4303fbb5",
        "outputId": "ba39baa9-618f-4866-eefe-1fe91dbf7e78"
      },
      "outputs": [
        {
          "output_type": "execute_result",
          "data": {
            "text/plain": [
              "hour_of_day    0\n",
              "cash_type      0\n",
              "money          0\n",
              "coffee_name    0\n",
              "Time_of_Day    0\n",
              "Weekday        0\n",
              "Month_name     0\n",
              "Weekdaysort    0\n",
              "Monthsort      0\n",
              "Date           0\n",
              "Time           0\n",
              "dtype: int64"
            ],
            "text/html": [
              "<div>\n",
              "<style scoped>\n",
              "    .dataframe tbody tr th:only-of-type {\n",
              "        vertical-align: middle;\n",
              "    }\n",
              "\n",
              "    .dataframe tbody tr th {\n",
              "        vertical-align: top;\n",
              "    }\n",
              "\n",
              "    .dataframe thead th {\n",
              "        text-align: right;\n",
              "    }\n",
              "</style>\n",
              "<table border=\"1\" class=\"dataframe\">\n",
              "  <thead>\n",
              "    <tr style=\"text-align: right;\">\n",
              "      <th></th>\n",
              "      <th>0</th>\n",
              "    </tr>\n",
              "  </thead>\n",
              "  <tbody>\n",
              "    <tr>\n",
              "      <th>hour_of_day</th>\n",
              "      <td>0</td>\n",
              "    </tr>\n",
              "    <tr>\n",
              "      <th>cash_type</th>\n",
              "      <td>0</td>\n",
              "    </tr>\n",
              "    <tr>\n",
              "      <th>money</th>\n",
              "      <td>0</td>\n",
              "    </tr>\n",
              "    <tr>\n",
              "      <th>coffee_name</th>\n",
              "      <td>0</td>\n",
              "    </tr>\n",
              "    <tr>\n",
              "      <th>Time_of_Day</th>\n",
              "      <td>0</td>\n",
              "    </tr>\n",
              "    <tr>\n",
              "      <th>Weekday</th>\n",
              "      <td>0</td>\n",
              "    </tr>\n",
              "    <tr>\n",
              "      <th>Month_name</th>\n",
              "      <td>0</td>\n",
              "    </tr>\n",
              "    <tr>\n",
              "      <th>Weekdaysort</th>\n",
              "      <td>0</td>\n",
              "    </tr>\n",
              "    <tr>\n",
              "      <th>Monthsort</th>\n",
              "      <td>0</td>\n",
              "    </tr>\n",
              "    <tr>\n",
              "      <th>Date</th>\n",
              "      <td>0</td>\n",
              "    </tr>\n",
              "    <tr>\n",
              "      <th>Time</th>\n",
              "      <td>0</td>\n",
              "    </tr>\n",
              "  </tbody>\n",
              "</table>\n",
              "</div><br><label><b>dtype:</b> int64</label>"
            ]
          },
          "metadata": {},
          "execution_count": 5
        }
      ],
      "source": [
        "# check null values\n",
        "df.isnull().sum()\n"
      ]
    },
    {
      "cell_type": "code",
      "execution_count": 6,
      "id": "f188ad0e",
      "metadata": {
        "colab": {
          "base_uri": "https://localhost:8080/"
        },
        "id": "f188ad0e",
        "outputId": "d6e217fe-c8ec-499c-bf39-37b5a85f2385"
      },
      "outputs": [
        {
          "output_type": "execute_result",
          "data": {
            "text/plain": [
              "np.int64(0)"
            ]
          },
          "metadata": {},
          "execution_count": 6
        }
      ],
      "source": [
        "# check duplicated values\n",
        "df.duplicated().sum()"
      ]
    },
    {
      "cell_type": "code",
      "execution_count": 7,
      "id": "8cd94033",
      "metadata": {
        "colab": {
          "base_uri": "https://localhost:8080/",
          "height": 542
        },
        "id": "8cd94033",
        "outputId": "a7ebc8c7-360d-490e-aa8c-18f215e366b3"
      },
      "outputs": [
        {
          "output_type": "display_data",
          "data": {
            "text/html": [
              "<html>\n",
              "<head><meta charset=\"utf-8\" /></head>\n",
              "<body>\n",
              "    <div>            <script src=\"https://cdnjs.cloudflare.com/ajax/libs/mathjax/2.7.5/MathJax.js?config=TeX-AMS-MML_SVG\"></script><script type=\"text/javascript\">if (window.MathJax && window.MathJax.Hub && window.MathJax.Hub.Config) {window.MathJax.Hub.Config({SVG: {font: \"STIX-Web\"}});}</script>                <script type=\"text/javascript\">window.PlotlyConfig = {MathJaxConfig: 'local'};</script>\n",
              "        <script charset=\"utf-8\" src=\"https://cdn.plot.ly/plotly-2.35.2.min.js\"></script>                <div id=\"19cfb4fa-0767-471a-9044-5b5a55b10548\" class=\"plotly-graph-div\" style=\"height:525px; width:100%;\"></div>            <script type=\"text/javascript\">                                    window.PLOTLYENV=window.PLOTLYENV || {};                                    if (document.getElementById(\"19cfb4fa-0767-471a-9044-5b5a55b10548\")) {                    Plotly.newPlot(                        \"19cfb4fa-0767-471a-9044-5b5a55b10548\",                        [{\"alignmentgroup\":\"True\",\"boxpoints\":\"all\",\"hovertemplate\":\"money=%{y}\\u003cextra\\u003e\\u003c\\u002fextra\\u003e\",\"legendgroup\":\"\",\"marker\":{\"color\":\"#636efa\"},\"name\":\"\",\"notched\":false,\"offsetgroup\":\"\",\"orientation\":\"v\",\"showlegend\":false,\"x0\":\" \",\"xaxis\":\"x\",\"y\":[38.7,38.7,38.7,28.9,38.7,33.8,38.7,33.8,38.7,33.8,33.8,28.9,33.8,33.8,28.9,33.8,28.9,38.7,28.9,28.9,38.7,38.7,28.9,33.8,33.8,38.7,38.7,38.7,33.8,24.0,38.7,38.7,38.7,38.7,38.7,38.7,38.7,28.9,38.7,28.9,28.9,38.7,38.7,38.7,38.7,28.9,33.8,28.9,38.7,28.9,28.9,28.9,33.8,38.7,38.7,24.0,28.9,38.7,28.9,28.9,38.7,33.8,28.9,38.7,33.8,38.7,38.7,38.7,24.0,38.7,28.9,38.7,28.9,38.7,28.9,28.9,28.9,38.7,33.8,28.9,28.9,38.7,28.9,28.9,28.9,33.8,24.0,24.0,24.0,38.7,38.7,28.9,28.9,33.8,24.0,38.7,33.8,24.0,38.7,28.9,38.7,28.9,33.8,28.9,28.9,28.9,28.9,33.8,28.9,28.9,28.9,28.9,28.9,38.7,38.7,38.7,33.8,28.9,28.9,38.7,38.7,38.7,28.9,38.7,28.9,38.7,33.8,33.8,28.9,24.0,28.9,38.7,33.8,38.7,38.7,33.8,38.7,33.8,28.9,38.7,38.7,38.7,38.7,33.8,38.7,38.7,38.7,38.7,28.9,28.9,28.9,28.9,28.9,38.7,38.7,38.7,28.9,33.8,33.8,38.7,38.7,28.9,28.9,28.9,28.9,28.9,38.7,38.7,38.7,38.7,38.7,38.7,38.7,33.8,38.7,28.9,33.8,33.8,33.8,33.8,38.7,38.7,28.9,28.9,28.9,28.9,38.7,38.7,38.7,38.7,28.9,28.9,28.9,28.9,33.8,38.7,28.9,24.0,33.8,38.7,28.9,38.7,38.7,38.7,38.7,28.9,24.0,38.7,33.8,33.8,38.7,28.9,38.7,38.7,28.9,33.8,38.7,38.7,38.7,38.7,24.0,38.7,38.7,28.9,28.9,38.7,38.7,33.8,38.7,28.9,38.7,28.9,38.7,38.7,38.7,38.7,38.7,28.9,28.9,28.9,28.9,38.7,28.9,38.7,38.7,28.9,28.9,33.8,33.8,33.8,38.7,28.9,28.9,33.8,38.7,38.7,28.9,24.0,38.7,38.7,28.9,28.9,28.9,33.8,28.9,38.7,38.7,38.7,38.7,38.7,38.7,38.7,33.8,38.7,38.7,38.7,38.7,33.8,33.8,33.8,28.9,33.8,38.7,38.7,33.8,32.82,32.82,37.72,37.72,37.72,37.72,27.92,27.92,32.82,37.72,37.72,32.82,37.72,32.82,32.82,37.72,32.82,32.82,32.82,32.82,32.82,32.82,37.72,27.92,37.72,27.92,27.92,37.72,37.72,37.72,27.92,27.92,27.92,27.92,37.72,37.72,37.72,37.72,37.72,27.92,27.92,37.72,27.92,27.92,27.92,27.92,32.82,37.72,37.72,37.72,37.72,32.82,32.82,27.92,32.82,37.72,32.82,37.72,27.92,32.82,37.72,32.82,37.72,37.72,37.72,37.72,27.92,37.72,32.82,27.92,27.92,27.92,27.92,37.72,37.72,37.72,27.92,27.92,37.72,27.92,37.72,37.72,37.72,37.72,37.72,37.72,27.92,37.72,37.72,37.72,27.92,27.92,27.92,32.82,37.72,37.72,37.72,32.82,37.72,37.72,32.82,37.72,37.72,37.72,37.72,27.92,37.72,32.82,32.82,32.82,32.82,32.82,27.92,27.92,27.92,37.72,37.72,37.72,37.72,32.82,27.92,32.82,37.72,37.72,37.72,23.02,27.92,27.92,27.92,27.92,32.82,27.92,27.92,23.02,37.72,32.82,32.82,32.82,37.72,37.72,37.72,37.72,27.92,32.82,32.82,37.72,37.72,27.92,37.72,37.72,37.72,37.72,32.82,32.82,32.82,32.82,37.72,27.92,27.92,37.72,32.82,27.92,32.82,32.82,23.02,37.72,37.72,37.72,37.72,32.82,37.72,37.72,27.92,27.92,27.92,27.92,32.82,37.72,37.72,37.72,32.82,37.72,27.92,32.82,32.82,37.72,37.72,23.02,37.72,37.72,37.72,32.82,27.92,32.82,27.92,27.92,32.82,37.72,37.72,37.72,37.72,37.72,23.02,37.72,37.72,37.72,37.72,37.72,37.72,27.92,37.72,37.72,37.72,37.72,37.72,32.82,27.92,27.92,27.92,37.72,27.92,27.92,32.82,37.72,32.82,32.82,32.82,32.82,27.92,37.72,32.82,27.92,32.82,37.72,37.72,37.72,27.92,37.72,37.72,37.72,27.92,37.72,37.72,37.72,27.92,32.82,37.72,27.92,27.92,37.72,27.92,37.72,37.72,32.82,37.72,32.82,32.82,37.72,37.72,37.72,27.92,27.92,37.72,32.82,27.92,37.72,37.72,27.92,37.72,37.72,37.72,27.92,37.72,37.72,37.72,37.72,37.72,32.82,37.72,32.82,23.02,23.02,37.72,37.72,37.72,32.82,32.82,37.72,37.72,37.72,32.82,37.72,37.72,37.72,32.82,37.72,37.72,32.82,27.92,27.92,37.72,37.72,32.82,32.82,32.82,37.72,37.72,37.72,32.82,37.72,32.82,37.72,32.82,37.72,37.72,37.72,37.72,32.82,37.72,27.92,32.82,37.72,37.72,37.72,27.92,37.72,37.72,37.72,27.92,32.82,32.82,32.82,32.82,37.72,37.72,27.92,37.72,32.82,32.82,37.72,37.72,27.92,32.82,32.82,37.72,27.92,32.82,37.72,37.72,37.72,37.72,32.82,37.72,37.72,23.02,32.82,27.92,27.92,27.92,32.82,37.72,37.72,37.72,37.72,37.72,27.92,23.02,37.72,32.82,37.72,37.72,27.92,37.72,32.82,27.92,37.72,37.72,37.72,37.72,37.72,37.72,32.82,37.72,37.72,37.72,32.82,32.82,37.72,37.72,37.72,37.72,37.72,32.82,27.92,37.72,32.82,27.92,32.82,37.72,37.72,32.82,23.02,23.02,32.82,32.82,27.92,27.92,37.72,32.82,37.72,37.72,32.82,23.02,37.72,32.82,32.82,27.92,32.82,37.72,37.72,37.72,32.82,23.02,32.82,32.82,37.72,37.72,32.82,32.82,27.92,27.92,27.92,37.72,37.72,37.72,37.72,27.92,27.92,32.82,27.92,37.72,37.72,37.72,27.92,32.82,32.82,37.72,27.92,27.92,37.72,37.72,32.82,37.72,37.72,32.82,37.72,32.82,37.72,37.72,37.72,37.72,37.72,32.82,37.72,27.92,32.82,32.82,23.02,37.72,37.72,37.72,37.72,37.72,27.92,32.82,27.92,32.82,32.82,37.72,37.72,32.82,32.82,37.72,37.72,37.72,32.82,37.72,37.72,37.72,37.72,37.72,37.72,32.82,32.82,37.72,37.72,23.02,27.92,37.72,37.72,32.82,32.82,27.92,32.82,37.72,27.92,23.02,32.82,37.72,37.72,32.82,32.82,32.82,37.72,37.72,37.72,37.72,37.72,37.72,23.02,37.72,32.82,23.02,37.72,37.72,32.82,27.92,37.72,27.92,32.82,32.82,32.82,37.72,37.72,32.82,32.82,37.72,23.02,37.72,37.72,32.82,27.92,37.72,32.82,32.82,23.02,27.92,23.02,27.92,27.92,37.72,32.82,37.72,32.82,32.82,32.82,27.92,32.82,27.92,27.92,32.82,32.82,32.82,32.82,32.82,32.82,32.82,27.92,32.82,23.02,23.02,27.92,32.82,27.92,27.92,27.92,32.82,27.92,23.02,27.92,32.82,32.82,27.92,32.82,23.02,23.02,32.82,32.82,32.82,32.82,32.82,32.82,23.02,27.92,32.82,32.82,23.02,32.82,32.82,27.92,32.82,27.92,27.92,18.12,23.02,23.02,23.02,32.82,32.82,32.82,32.82,32.82,32.82,23.02,27.92,32.82,27.92,32.82,32.82,32.82,32.82,23.02,32.82,23.02,32.82,32.82,23.02,32.82,32.82,32.82,23.02,32.82,23.02,23.02,27.92,32.82,32.82,23.02,27.92,32.82,32.82,23.02,27.92,27.92,32.82,32.82,23.02,23.02,27.92,27.92,18.12,32.82,32.82,18.12,32.82,32.82,32.82,27.92,23.02,23.02,23.02,32.82,27.92,23.02,32.82,32.82,23.02,18.12,23.02,32.82,32.82,27.92,18.12,23.02,23.02,32.82,32.82,27.92,27.92,32.82,32.82,32.82,23.02,32.82,32.82,27.92,32.82,27.92,27.92,18.12,27.92,18.12,32.82,32.82,32.82,27.92,27.92,32.82,32.82,18.12,27.92,32.82,32.82,23.02,27.92,23.02,27.92,32.82,32.82,32.82,32.82,23.02,32.82,27.92,23.02,32.82,27.92,23.02,27.92,32.82,23.02,18.12,27.92,27.92,27.92,27.92,32.82,27.92,23.02,27.92,18.12,27.92,27.92,27.92,32.82,23.02,32.82,27.92,27.92,27.92,23.02,23.02,27.92,32.82,32.82,27.92,23.02,32.82,23.02,32.82,32.82,23.02,32.82,32.82,23.02,27.92,32.82,32.82,32.82,27.92,27.92,27.92,27.92,23.02,32.82,32.82,27.92,27.92,23.02,23.02,32.82,27.92,27.92,23.02,27.92,32.82,27.92,27.92,27.92,27.92,23.02,23.02,18.12,27.92,27.92,27.92,32.82,32.82,32.82,32.82,27.92,32.82,27.92,32.82,32.82,23.02,27.92,23.02,32.82,32.82,32.82,32.82,27.92,32.82,32.82,32.82,32.82,27.92,23.02,32.82,32.82,32.82,32.82,32.82,27.92,32.82,27.92,23.02,23.02,18.12,23.02,32.82,32.82,32.82,32.82,32.82,18.12,23.02,27.92,23.02,23.02,32.82,32.82,27.92,32.82,23.02,23.02,27.92,32.82,23.02,23.02,32.82,32.82,27.92,23.02,23.02,23.02,32.82,27.92,32.82,32.82,32.82,32.82,32.82,32.82,27.92,32.82,27.92,23.02,32.82,27.92,32.82,32.82,18.12,23.02,32.82,32.82,32.82,32.82,27.92,23.02,32.82,32.82,18.12,27.92,27.92,27.92,27.92,32.82,32.82,32.82,27.92,27.92,27.92,23.02,32.82,27.92,32.82,32.82,27.92,32.82,32.82,32.82,23.02,32.82,32.82,23.02,18.12,23.02,23.02,32.82,23.02,23.02,27.92,32.82,23.02,32.82,23.02,32.82,32.82,32.82,32.82,32.82,23.02,18.12,27.92,32.82,27.92,27.92,23.02,32.82,18.12,27.92,32.82,23.02,27.92,18.12,18.12,27.92,32.82,27.92,23.02,23.02,27.92,23.02,32.82,32.82,27.92,32.82,32.82,32.82,23.02,27.92,32.82,27.92,27.92,27.92,23.02,23.02,27.92,27.92,32.82,32.82,23.02,32.82,18.12,23.02,27.92,23.02,23.02,23.02,32.82,32.82,32.82,32.82,32.82,27.92,23.02,23.02,27.92,23.02,32.82,32.82,23.02,27.92,27.92,32.82,32.82,32.82,23.02,32.82,23.02,32.82,23.02,23.02,27.92,32.82,23.02,23.02,32.82,23.02,23.02,32.82,23.02,23.02,23.02,18.12,18.12,23.02,23.02,23.02,23.02,32.82,32.82,32.82,23.02,23.02,23.02,27.92,32.82,32.82,23.02,23.02,27.92,32.82,27.92,32.82,27.92,32.82,23.02,27.92,23.02,32.82,27.92,27.92,23.02,27.92,18.12,27.92,23.02,23.02,23.02,32.82,27.92,23.02,27.92,32.82,27.92,32.82,32.82,32.82,32.82,27.92,32.82,27.92,32.82,32.82,23.02,23.02,32.82,32.82,32.82,27.92,32.82,32.82,32.82,27.92,27.92,32.82,32.82,23.02,27.92,27.92,27.92,32.82,27.92,27.92,32.82,23.02,27.92,32.82,32.82,27.92,32.82,27.92,32.82,27.92,27.92,23.02,32.82,32.82,23.02,27.92,32.82,32.82,32.82,23.02,32.82,27.92,27.92,32.82,32.82,23.02,18.12,32.82,32.82,18.12,18.12,32.82,32.82,32.82,23.02,23.02,23.02,27.92,27.92,23.02,23.02,18.12,18.12,32.82,27.92,23.02,18.12,32.82,23.02,18.12,32.82,32.82,32.82,32.82,32.82,23.02,23.02,23.02,23.02,23.02,23.02,32.82,32.82,27.92,32.82,32.82,32.82,32.82,27.92,27.92,32.82,18.12,32.82,23.02,32.82,32.82,32.82,32.82,32.82,32.82,23.02,23.02,32.82,27.92,32.82,32.82,27.92,23.02,32.82,27.92,32.82,32.82,27.92,32.82,32.82,23.02,18.12,27.92,27.92,32.82,23.02,23.02,23.02,23.02,32.82,23.02,32.82,23.02,32.82,32.82,32.82,32.82,27.92,27.92,32.82,32.82,18.12,27.92,23.02,23.02,23.02,32.82,32.82,27.92,32.82,27.92,32.82,32.82,32.82,27.92,32.82,27.92,27.92,23.02,32.82,27.92,23.02,32.82,27.92,27.92,18.12,27.92,32.82,27.92,23.02,32.82,32.82,32.82,27.92,27.92,32.82,27.92,27.92,27.92,32.82,32.82,32.82,32.82,27.92,27.92,27.92,23.02,32.82,23.02,27.92,23.02,27.92,27.92,27.92,32.82,23.02,27.92,27.92,32.82,32.82,23.02,23.02,32.82,32.82,32.82,32.82,23.02,23.02,32.82,32.82,27.92,23.02,23.02,23.02,27.92,32.82,23.02,23.02,27.92,23.02,27.92,27.92,27.92,27.92,32.82,27.92,32.82,32.82,32.82,27.92,27.92,27.92,27.92,32.82,32.82,23.02,27.92,27.92,23.02,23.02,27.92,32.82,23.02,32.82,32.82,27.92,27.92,27.92,32.82,32.82,32.82,32.82,32.82,23.02,32.82,32.82,23.02,23.02,32.82,32.82,27.92,27.92,32.82,23.02,27.92,32.82,27.92,27.92,27.92,27.92,23.02,27.92,32.82,27.92,18.12,32.82,32.82,32.82,32.82,23.02,27.92,27.92,23.02,32.82,27.92,27.92,32.82,32.82,23.02,27.92,32.82,32.82,32.82,32.82,32.82,32.82,27.92,27.92,27.92,35.76,35.76,30.86,35.76,35.76,35.76,35.76,25.96,35.76,25.96,35.76,35.76,35.76,30.86,35.76,25.96,35.76,35.76,35.76,35.76,25.96,25.96,35.76,30.86,25.96,30.86,30.86,35.76,30.86,25.96,35.76,30.86,30.86,30.86,35.76,30.86,30.86,30.86,30.86,30.86,30.86,25.96,30.86,35.76,25.96,35.76,35.76,35.76,35.76,35.76,25.96,30.86,35.76,30.86,35.76,35.76,35.76,35.76,35.76,35.76,35.76,30.86,25.96,35.76,35.76,35.76,35.76,35.76,25.96,25.96,30.86,25.96,25.96,25.96,35.76,35.76,35.76,25.96,25.96,35.76,35.76,25.96,25.96,25.96,35.76,25.96,35.76,35.76,35.76,30.86,25.96,35.76,30.86,35.76,35.76,35.76,21.06,30.86,35.76,35.76,35.76,35.76,35.76,35.76,35.76,30.86,35.76,35.76,30.86,25.96,25.96,35.76,35.76,35.76,35.76,35.76,30.86,25.96,35.76,35.76,25.96,25.96,35.76,35.76,35.76,35.76,25.96,30.86,35.76,35.76,35.76,30.86,30.86,35.76,30.86,30.86,35.76,21.06,25.96,35.76,30.86,35.76,25.96,21.06,35.76,25.96,30.86,35.76,35.76,25.96,25.96,35.76,35.76,35.76,35.76,25.96,30.86,35.76,35.76,35.76,30.86,35.76,25.96,35.76,35.76,35.76,30.86,35.76,30.86,25.96,25.96,25.96,30.86,35.76,25.96,25.96,35.76,25.96,35.76,35.76,35.76,35.76,35.76,30.86,35.76,35.76,25.96,25.96,25.96,35.76,30.86,35.76,35.76,25.96,30.86,25.96,21.06,25.96,35.76,35.76,35.76,35.76,30.86,35.76,25.96,35.76,35.76,35.76,25.96,25.96,35.76,35.76,25.96,35.76,35.76,35.76,35.76,35.76,25.96,21.06,35.76,35.76,35.76,35.76,30.86,35.76,25.96,21.06,35.76,25.96,35.76,35.76,35.76,35.76,35.76,35.76,30.86,35.76,35.76,30.86,30.86,30.86,25.96,30.86,25.96,35.76,30.86,30.86,30.86,35.76,35.76,35.76,30.86,35.76,35.76,30.86,35.76,25.96,35.76,35.76,35.76,35.76,35.76,35.76,35.76,35.76,30.86,35.76,35.76,35.76,35.76,35.76,35.76,35.76,35.76,35.76,35.76,35.76,35.76,25.96,35.76,35.76,35.76,35.76,30.86,35.76,30.86,35.76,35.76,35.76,35.76,35.76,35.76,35.76,35.76,35.76,35.76,35.76,35.76,25.96,30.86,35.76,35.76,35.76,35.76,35.76,35.76,25.96,35.76,35.76,35.76,35.76,35.76,30.86,35.76,25.96,25.96,25.96,21.06,35.76,35.76,35.76,30.86,25.96,35.76,35.76,35.76,35.76,35.76,35.76,35.76,35.76,30.86,25.96,21.06,25.96,25.96,35.76,35.76,35.76,30.86,25.96,30.86,30.86,30.86,35.76,21.06,35.76,35.76,30.86,35.76,35.76,25.96,35.76,35.76,35.76,35.76,35.76,35.76,25.96,25.96,35.76,25.96,35.76,35.76,35.76,35.76,35.76,21.06,35.76,35.76,35.76,25.96,25.96,30.86,35.76,35.76,25.96,35.76,35.76,35.76,21.06,35.76,25.96,35.76,25.96,35.76,35.76,35.76,30.86,25.96,25.96,35.76,35.76,30.86,30.86,35.76,30.86,30.86,35.76,30.86,35.76,35.76,35.76,25.96,35.76,30.86,35.76,35.76,35.76,30.86,35.76,30.86,30.86,30.86,35.76,35.76,35.76,35.76,30.86,30.86,35.76,35.76,35.76,30.86,21.06,25.96,25.96,35.76,35.76,35.76,35.76,30.86,30.86,30.86,35.76,35.76,35.76,35.76,35.76,30.86,30.86,35.76,35.76,35.76,35.76,25.96,30.86,25.96,35.76,35.76,30.86,35.76,30.86,30.86,35.76,35.76,30.86,35.76,30.86,35.76,25.96,35.76,35.76,35.76,25.96,30.86,25.96,35.76,30.86,30.86,35.76,35.76,35.76,30.86,25.96,25.96,30.86,30.86,35.76,30.86,35.76,25.96,30.86,35.76,35.76,25.96,25.96,35.76,35.76,35.76,30.86,25.96,30.86,35.76,35.76,35.76,30.86,35.76,30.86,30.86,35.76,35.76,35.76,35.76,35.76,35.76,35.76,35.76,35.76,35.76,35.76,30.86,35.76,21.06,25.96,35.76,35.76,35.76,35.76,35.76,35.76,25.96,25.96,35.76,35.76,35.76,35.76,30.86,25.96,25.96,35.76,35.76,35.76,30.86,30.86,35.76,35.76,35.76,35.76,30.86,25.96,25.96,35.76,35.76,35.76,35.76,35.76,25.96,30.86,35.76,35.76,25.96,35.76,35.76,25.96,25.96,25.96,35.76,35.76,35.76,35.76,35.76,35.76,30.86,25.96,35.76,35.76,35.76,35.76,35.76,35.76,35.76,35.76,35.76,35.76,35.76,35.76,35.76,35.76,35.76,35.76,30.86,35.76,30.86,30.86,30.86,35.76,35.76,25.96,21.06,35.76,35.76,35.76,30.86,35.76,35.76,35.76,35.76,35.76,35.76,35.76,30.86,30.86,35.76,35.76,35.76,25.96,30.86,35.76,35.76,30.86,30.86,25.96,25.96,35.76,35.76,25.96,35.76,30.86,35.76,35.76,30.86,35.76,35.76,30.86,30.86,30.86,25.96,30.86,35.76,35.76,35.76,35.76,35.76,30.86,30.86,35.76,35.76,35.76,35.76,35.76,30.86,35.76,21.06,35.76,30.86,35.76,35.76,35.76,35.76,35.76,30.86,35.76,35.76,35.76,25.96,35.76,35.76,35.76,35.76,30.86,25.96,35.76,35.76,35.76,35.76,35.76,35.76,35.76,25.96,25.96,35.76,35.76,25.96,25.96,35.76,35.76,35.76,35.76,35.76,30.86,25.96,35.76,35.76,35.76,30.86,35.76,35.76,35.76,35.76,35.76,25.96,35.76,35.76,35.76,35.76,25.96,30.86,35.76,35.76,30.86,30.86,35.76,35.76,35.76,35.76,35.76,30.86,30.86,30.86,35.76,35.76,35.76,25.96,35.76,35.76,30.86,30.86,30.86,30.86,30.86,30.86,35.76,35.76,35.76,35.76,35.76,35.76,35.76,30.86,30.86,30.86,35.76,25.96,30.86,35.76,25.96,21.06,35.76,25.96,35.76,35.76,30.86,30.86,25.96,30.86,30.86,30.86,35.76,35.76,35.76,35.76,30.86,35.76,25.96,35.76,35.76,25.96,30.86,30.86,30.86,35.76,30.86,35.76,25.96,25.96,30.86,30.86,35.76,25.96,35.76,35.76,35.76,35.76,35.76,35.76,35.76,30.86,25.96,35.76,35.76,30.86,25.96,25.96,35.76,35.76,25.96,30.86,30.86,35.76,21.06,35.76,30.86,30.86,35.76,25.96,30.86,25.96,35.76,25.96,35.76,35.76,25.96,35.76,21.06,35.76,35.76,35.76,30.86,25.96,21.06,21.06,25.96,35.76,35.76,25.96,25.96,35.76,35.76,35.76,35.76,35.76,35.76,30.86,35.76,35.76,25.96,35.76,35.76,25.96,25.96,25.96,25.96,30.86,35.76,35.76,35.76,35.76,35.76,35.76,30.86,35.76,35.76,35.76,30.86,25.96,35.76,30.86,25.96,35.76,35.76,35.76,35.76,30.86,35.76,35.76,35.76,30.86,21.06,35.76,35.76,35.76,30.86,35.76,35.76,35.76,25.96,30.86,35.76,25.96,21.06,30.86,25.96,35.76,35.76,35.76,35.76,25.96,35.76,35.76,30.86,35.76,35.76,35.76,25.96,30.86,25.96,25.96,35.76,25.96,35.76,35.76,35.76,35.76,35.76,35.76,25.96,25.96,30.86,30.86,35.76,35.76,30.86,35.76,25.96,35.76,25.96,30.86,35.76,25.96,35.76,35.76,21.06,35.76,35.76,35.76,30.86,25.96,30.86,25.96,35.76,35.76,35.76,35.76,35.76,30.86,35.76,21.06,25.96,25.96,25.96,30.86,35.76,25.96,30.86,35.76,25.96,25.96,30.86,35.76,35.76,35.76,35.76,35.76,25.96,21.06,25.96,25.96,21.06,25.96,35.76,35.76,25.96,30.86,35.76,35.76,35.76,30.86,30.86,25.96,35.76,25.96,35.76,25.96,35.76,30.86,30.86,35.76,30.86,21.06,25.96,35.76,35.76,30.86,35.76,35.76,35.76,30.86,35.76,35.76,25.96,25.96,25.96,35.76,30.86,35.76,25.96,30.86,30.86,35.76,25.96,25.96,35.76,25.96,25.96,35.76,35.76,30.86,35.76,35.76,25.96,25.96,35.76,30.86,35.76,30.86,25.96,35.76,35.76,35.76,30.86,35.76,25.96,35.76,25.96,35.76,30.86,21.06,35.76,30.86,25.96,30.86,35.76,30.86,30.86,35.76,35.76,30.86,30.86,35.76,25.96,35.76,35.76,35.76,35.76,30.86,30.86,35.76,35.76,25.96,35.76,25.96,30.86,30.86,25.96,30.86,35.76,30.86,30.86,30.86,25.96,35.76,35.76,35.76,35.76,21.06,35.76,25.96,30.86,35.76,30.86,30.86,35.76,35.76,30.86,25.96,35.76,35.76,35.76,35.76,35.76,35.76,35.76,35.76,35.76,30.86,30.86,25.96,35.76,35.76,35.76,35.76,35.76,25.96,35.76,35.76,35.76,30.86,30.86,35.76,35.76,35.76,35.76,30.86,35.76,35.76,35.76,30.86,30.86,25.96,25.96,25.96,30.86,35.76,35.76,35.76,35.76,35.76,25.96,30.86,25.96,35.76,35.76,35.76,25.96,21.06,30.86,35.76,30.86,35.76,35.76,30.86,35.76,25.96,35.76,25.96,35.76,35.76,35.76,35.76,35.76,25.96,25.96,21.06,25.96,25.96,35.76,30.86,30.86,25.96,30.86,35.76,35.76,35.76,35.76,25.96,30.86,25.96,35.76,25.96,25.96,35.76,35.76,25.96,25.96,30.86,21.06,30.86,30.86,25.96,35.76,25.96,30.86,35.76,30.86,25.96,25.96,30.86,30.86,35.76,35.76,35.76,35.76,35.76,35.76,30.86,30.86,25.96,30.86,30.86,25.96,25.96,35.76,35.76,35.76,35.76,30.86,30.86,30.86,35.76,35.76,35.76,35.76,30.86,35.76,35.76,35.76,30.86,21.06,30.86,25.96,35.76,30.86,35.76,35.76,25.96,25.96,35.76,35.76,35.76,25.96,35.76,30.86,30.86,30.86,35.76,35.76,35.76,30.86,25.96,35.76,30.86,25.96,30.86,25.96,25.96,30.86,25.96,30.86,35.76,35.76,35.76,25.96,30.86,30.86,25.96,25.96,25.96,30.86,25.96,25.96,21.06,21.06,35.76,35.76,35.76,35.76,35.76,35.76,35.76,35.76,35.76,35.76,30.86,35.76,35.76,35.76,30.86,25.96,30.86,35.76,35.76,35.76,35.76,35.76,21.06,35.76,35.76,35.76,30.86,30.86,25.96,35.76,30.86,25.96,25.96,35.76,35.76,35.76,35.76,35.76,25.96,35.76,35.76,25.96,25.96,30.86,25.96,25.96,25.96,25.96,25.96,25.96,35.76,30.86,25.96,35.76,35.76,35.76,35.76,35.76,25.96,25.96,25.96,25.96,30.86,25.96,35.76,30.86,25.96,35.76,25.96,35.76,35.76,35.76,30.86,35.76,35.76,35.76,25.96,30.86,35.76,35.76,25.96,25.96,30.86,35.76,35.76,30.86,21.06,35.76,30.86,30.86,25.96,30.86,35.76,35.76,35.76,25.96,35.76,30.86,25.96,25.96,25.96,35.76,35.76,35.76,35.76,25.96,25.96,35.76,25.96,35.76,35.76,35.76,30.86,25.96,21.06,35.76,30.86,30.86,25.96,25.96,30.86,30.86,35.76,35.76,35.76,25.96,35.76,25.96,21.06,30.86,35.76,35.76,35.76,35.76,35.76,25.96,35.76,21.06,30.86,25.96,35.76,35.76,25.96,30.86,30.86,35.76,25.96,35.76,35.76,25.96,25.96,30.86,35.76,25.96,35.76,35.76,35.76,30.86,30.86,35.76,25.96,25.96,30.86,35.76,30.86,25.96,30.86,21.06,35.76,35.76,30.86,35.76,21.06,25.96,30.86,25.96,25.96,25.96,35.76,25.96,25.96,25.96,25.96,30.86,30.86,35.76,25.96,30.86,35.76,30.86,21.06,35.76,35.76,35.76,35.76,35.76,30.86,35.76,25.96,25.96,35.76,25.96,35.76,30.86,25.96,35.76,25.96,35.76,25.96,35.76,30.86,35.76,35.76,35.76,35.76,35.76,35.76,35.76,25.96,35.76,25.96,25.96,25.96,30.86,35.76,25.96,25.96,21.06,35.76,35.76,35.76,25.96,25.96,35.76,35.76,35.76,25.96,35.76,35.76,21.06,25.96,30.86,25.96,25.96,25.96,25.96,25.96,25.96,35.76,25.96,25.96,25.96,35.76,35.76,35.76,35.76,35.76,35.76,35.76,35.76,25.96,25.96,21.06,30.86,30.86,30.86,30.86,35.76,35.76,25.96,30.86,35.76,25.96,30.86,30.86,35.76,35.76,35.76,30.86,35.76,35.76,35.76,25.96,25.96,30.86,30.86,35.76,30.86,35.76,35.76,35.76,35.76,30.86,25.96,30.86,21.06,25.96,25.96,35.76,35.76,25.96,25.96,35.76,35.76,25.96,30.86,30.86,35.76,35.76,35.76,25.96,25.96,25.96,35.76,25.96,25.96,35.76,35.76,35.76,30.86,35.76,35.76,35.76,35.76,21.06,35.76,35.76,30.86,25.96,35.76,25.96,25.96,25.96,25.96,35.76,35.76,35.76,35.76,35.76,35.76,35.76,30.86,30.86,35.76,21.06,30.86,25.96,25.96,25.96,35.76,25.96,35.76,25.96,35.76,30.86,25.96,25.96,35.76,35.76,25.96,25.96,35.76,25.96,30.86,35.76,25.96,35.76,35.76,30.86,30.86,25.96,25.96,35.76,35.76,35.76,35.76,35.76,35.76,35.76,25.96,35.76,35.76,35.76,35.76,35.76,25.96,30.86,25.96,35.76,25.96,35.76,35.76,30.86,35.76,35.76,25.96,30.86,25.96,25.96,25.96,30.86,25.96,25.96,25.96,25.96,35.76,25.96,35.76,35.76,35.76,30.86,25.96,25.96,25.96,35.76,30.86,35.76,35.76,25.96,25.96,25.96,35.76,35.76,35.76,30.86,21.06,35.76,35.76,35.76,35.76,21.06,30.86,25.96,25.96,25.96,35.76,35.76,30.86,35.76,35.76,30.86,35.76,25.96,25.96,25.96,35.76,30.86,30.86,35.76,35.76,30.86,35.76,25.96,35.76,35.76,35.76,35.76,35.76,30.86,30.86,25.96,25.96,25.96,30.86,25.96,35.76,21.06,30.86,35.76,25.96,35.76,25.96,30.86,35.76,25.96,35.76,30.86,35.76,35.76,35.76,25.96,25.96,35.76,35.76,35.76,35.76,30.86,25.96,35.76,35.76,30.86,25.96,35.76,35.76,25.96,25.96,25.96,35.76,35.76,35.76,35.76,30.86,35.76,35.76,35.76,30.86,35.76,25.96,25.96,25.96,35.76,35.76,35.76,35.76,35.76,35.76,25.96,35.76,25.96,35.76,25.96,35.76,30.86,30.86,35.76,21.06,25.96,30.86,25.96,35.76,30.86,25.96,35.76,25.96,30.86,25.96,35.76,21.06,25.96,25.96,35.76,35.76,25.96,35.76,35.76,35.76,25.96,35.76,35.76,35.76,25.96,25.96,35.76,35.76,25.96,25.96,30.86,35.76,25.96,35.76,30.86,30.86,35.76,35.76,30.86,35.76,35.76,25.96,25.96,25.96,25.96,30.86,25.96,25.96,35.76,35.76,35.76,35.76,35.76,35.76,25.96,30.86,35.76,35.76,25.96,35.76,35.76,30.86,25.96,30.86,25.96,35.76,21.06,35.76,35.76,35.76,35.76,35.76,25.96,25.96,35.76,25.96,35.76,25.96,25.96,35.76,35.76,35.76,25.96,35.76,35.76,25.96,25.96,35.76,30.86,30.86,25.96,21.06,21.06,30.86,30.86,30.86,25.96,25.96,25.96,25.96,25.96,21.06,25.96,35.76,35.76,25.96,25.96,35.76,25.96,35.76,35.76,35.76,35.76,30.86,30.86,25.96,25.96,25.96,35.76,25.96,35.76,25.96,35.76,35.76,35.76,25.96,35.76,35.76,35.76,35.76,35.76,35.76,25.96,30.86,30.86,35.76,35.76,30.86,25.96,25.96,30.86,21.06,35.76,30.86,30.86,35.76,35.76,35.76,35.76,25.96,35.76],\"y0\":\" \",\"yaxis\":\"y\",\"type\":\"box\"}],                        {\"template\":{\"data\":{\"histogram2dcontour\":[{\"type\":\"histogram2dcontour\",\"colorbar\":{\"outlinewidth\":0,\"ticks\":\"\"},\"colorscale\":[[0.0,\"#0d0887\"],[0.1111111111111111,\"#46039f\"],[0.2222222222222222,\"#7201a8\"],[0.3333333333333333,\"#9c179e\"],[0.4444444444444444,\"#bd3786\"],[0.5555555555555556,\"#d8576b\"],[0.6666666666666666,\"#ed7953\"],[0.7777777777777778,\"#fb9f3a\"],[0.8888888888888888,\"#fdca26\"],[1.0,\"#f0f921\"]]}],\"choropleth\":[{\"type\":\"choropleth\",\"colorbar\":{\"outlinewidth\":0,\"ticks\":\"\"}}],\"histogram2d\":[{\"type\":\"histogram2d\",\"colorbar\":{\"outlinewidth\":0,\"ticks\":\"\"},\"colorscale\":[[0.0,\"#0d0887\"],[0.1111111111111111,\"#46039f\"],[0.2222222222222222,\"#7201a8\"],[0.3333333333333333,\"#9c179e\"],[0.4444444444444444,\"#bd3786\"],[0.5555555555555556,\"#d8576b\"],[0.6666666666666666,\"#ed7953\"],[0.7777777777777778,\"#fb9f3a\"],[0.8888888888888888,\"#fdca26\"],[1.0,\"#f0f921\"]]}],\"heatmap\":[{\"type\":\"heatmap\",\"colorbar\":{\"outlinewidth\":0,\"ticks\":\"\"},\"colorscale\":[[0.0,\"#0d0887\"],[0.1111111111111111,\"#46039f\"],[0.2222222222222222,\"#7201a8\"],[0.3333333333333333,\"#9c179e\"],[0.4444444444444444,\"#bd3786\"],[0.5555555555555556,\"#d8576b\"],[0.6666666666666666,\"#ed7953\"],[0.7777777777777778,\"#fb9f3a\"],[0.8888888888888888,\"#fdca26\"],[1.0,\"#f0f921\"]]}],\"heatmapgl\":[{\"type\":\"heatmapgl\",\"colorbar\":{\"outlinewidth\":0,\"ticks\":\"\"},\"colorscale\":[[0.0,\"#0d0887\"],[0.1111111111111111,\"#46039f\"],[0.2222222222222222,\"#7201a8\"],[0.3333333333333333,\"#9c179e\"],[0.4444444444444444,\"#bd3786\"],[0.5555555555555556,\"#d8576b\"],[0.6666666666666666,\"#ed7953\"],[0.7777777777777778,\"#fb9f3a\"],[0.8888888888888888,\"#fdca26\"],[1.0,\"#f0f921\"]]}],\"contourcarpet\":[{\"type\":\"contourcarpet\",\"colorbar\":{\"outlinewidth\":0,\"ticks\":\"\"}}],\"contour\":[{\"type\":\"contour\",\"colorbar\":{\"outlinewidth\":0,\"ticks\":\"\"},\"colorscale\":[[0.0,\"#0d0887\"],[0.1111111111111111,\"#46039f\"],[0.2222222222222222,\"#7201a8\"],[0.3333333333333333,\"#9c179e\"],[0.4444444444444444,\"#bd3786\"],[0.5555555555555556,\"#d8576b\"],[0.6666666666666666,\"#ed7953\"],[0.7777777777777778,\"#fb9f3a\"],[0.8888888888888888,\"#fdca26\"],[1.0,\"#f0f921\"]]}],\"surface\":[{\"type\":\"surface\",\"colorbar\":{\"outlinewidth\":0,\"ticks\":\"\"},\"colorscale\":[[0.0,\"#0d0887\"],[0.1111111111111111,\"#46039f\"],[0.2222222222222222,\"#7201a8\"],[0.3333333333333333,\"#9c179e\"],[0.4444444444444444,\"#bd3786\"],[0.5555555555555556,\"#d8576b\"],[0.6666666666666666,\"#ed7953\"],[0.7777777777777778,\"#fb9f3a\"],[0.8888888888888888,\"#fdca26\"],[1.0,\"#f0f921\"]]}],\"mesh3d\":[{\"type\":\"mesh3d\",\"colorbar\":{\"outlinewidth\":0,\"ticks\":\"\"}}],\"scatter\":[{\"fillpattern\":{\"fillmode\":\"overlay\",\"size\":10,\"solidity\":0.2},\"type\":\"scatter\"}],\"parcoords\":[{\"type\":\"parcoords\",\"line\":{\"colorbar\":{\"outlinewidth\":0,\"ticks\":\"\"}}}],\"scatterpolargl\":[{\"type\":\"scatterpolargl\",\"marker\":{\"colorbar\":{\"outlinewidth\":0,\"ticks\":\"\"}}}],\"bar\":[{\"error_x\":{\"color\":\"#2a3f5f\"},\"error_y\":{\"color\":\"#2a3f5f\"},\"marker\":{\"line\":{\"color\":\"#E5ECF6\",\"width\":0.5},\"pattern\":{\"fillmode\":\"overlay\",\"size\":10,\"solidity\":0.2}},\"type\":\"bar\"}],\"scattergeo\":[{\"type\":\"scattergeo\",\"marker\":{\"colorbar\":{\"outlinewidth\":0,\"ticks\":\"\"}}}],\"scatterpolar\":[{\"type\":\"scatterpolar\",\"marker\":{\"colorbar\":{\"outlinewidth\":0,\"ticks\":\"\"}}}],\"histogram\":[{\"marker\":{\"pattern\":{\"fillmode\":\"overlay\",\"size\":10,\"solidity\":0.2}},\"type\":\"histogram\"}],\"scattergl\":[{\"type\":\"scattergl\",\"marker\":{\"colorbar\":{\"outlinewidth\":0,\"ticks\":\"\"}}}],\"scatter3d\":[{\"type\":\"scatter3d\",\"line\":{\"colorbar\":{\"outlinewidth\":0,\"ticks\":\"\"}},\"marker\":{\"colorbar\":{\"outlinewidth\":0,\"ticks\":\"\"}}}],\"scattermapbox\":[{\"type\":\"scattermapbox\",\"marker\":{\"colorbar\":{\"outlinewidth\":0,\"ticks\":\"\"}}}],\"scatterternary\":[{\"type\":\"scatterternary\",\"marker\":{\"colorbar\":{\"outlinewidth\":0,\"ticks\":\"\"}}}],\"scattercarpet\":[{\"type\":\"scattercarpet\",\"marker\":{\"colorbar\":{\"outlinewidth\":0,\"ticks\":\"\"}}}],\"carpet\":[{\"aaxis\":{\"endlinecolor\":\"#2a3f5f\",\"gridcolor\":\"white\",\"linecolor\":\"white\",\"minorgridcolor\":\"white\",\"startlinecolor\":\"#2a3f5f\"},\"baxis\":{\"endlinecolor\":\"#2a3f5f\",\"gridcolor\":\"white\",\"linecolor\":\"white\",\"minorgridcolor\":\"white\",\"startlinecolor\":\"#2a3f5f\"},\"type\":\"carpet\"}],\"table\":[{\"cells\":{\"fill\":{\"color\":\"#EBF0F8\"},\"line\":{\"color\":\"white\"}},\"header\":{\"fill\":{\"color\":\"#C8D4E3\"},\"line\":{\"color\":\"white\"}},\"type\":\"table\"}],\"barpolar\":[{\"marker\":{\"line\":{\"color\":\"#E5ECF6\",\"width\":0.5},\"pattern\":{\"fillmode\":\"overlay\",\"size\":10,\"solidity\":0.2}},\"type\":\"barpolar\"}],\"pie\":[{\"automargin\":true,\"type\":\"pie\"}]},\"layout\":{\"autotypenumbers\":\"strict\",\"colorway\":[\"#636efa\",\"#EF553B\",\"#00cc96\",\"#ab63fa\",\"#FFA15A\",\"#19d3f3\",\"#FF6692\",\"#B6E880\",\"#FF97FF\",\"#FECB52\"],\"font\":{\"color\":\"#2a3f5f\"},\"hovermode\":\"closest\",\"hoverlabel\":{\"align\":\"left\"},\"paper_bgcolor\":\"white\",\"plot_bgcolor\":\"#E5ECF6\",\"polar\":{\"bgcolor\":\"#E5ECF6\",\"angularaxis\":{\"gridcolor\":\"white\",\"linecolor\":\"white\",\"ticks\":\"\"},\"radialaxis\":{\"gridcolor\":\"white\",\"linecolor\":\"white\",\"ticks\":\"\"}},\"ternary\":{\"bgcolor\":\"#E5ECF6\",\"aaxis\":{\"gridcolor\":\"white\",\"linecolor\":\"white\",\"ticks\":\"\"},\"baxis\":{\"gridcolor\":\"white\",\"linecolor\":\"white\",\"ticks\":\"\"},\"caxis\":{\"gridcolor\":\"white\",\"linecolor\":\"white\",\"ticks\":\"\"}},\"coloraxis\":{\"colorbar\":{\"outlinewidth\":0,\"ticks\":\"\"}},\"colorscale\":{\"sequential\":[[0.0,\"#0d0887\"],[0.1111111111111111,\"#46039f\"],[0.2222222222222222,\"#7201a8\"],[0.3333333333333333,\"#9c179e\"],[0.4444444444444444,\"#bd3786\"],[0.5555555555555556,\"#d8576b\"],[0.6666666666666666,\"#ed7953\"],[0.7777777777777778,\"#fb9f3a\"],[0.8888888888888888,\"#fdca26\"],[1.0,\"#f0f921\"]],\"sequentialminus\":[[0.0,\"#0d0887\"],[0.1111111111111111,\"#46039f\"],[0.2222222222222222,\"#7201a8\"],[0.3333333333333333,\"#9c179e\"],[0.4444444444444444,\"#bd3786\"],[0.5555555555555556,\"#d8576b\"],[0.6666666666666666,\"#ed7953\"],[0.7777777777777778,\"#fb9f3a\"],[0.8888888888888888,\"#fdca26\"],[1.0,\"#f0f921\"]],\"diverging\":[[0,\"#8e0152\"],[0.1,\"#c51b7d\"],[0.2,\"#de77ae\"],[0.3,\"#f1b6da\"],[0.4,\"#fde0ef\"],[0.5,\"#f7f7f7\"],[0.6,\"#e6f5d0\"],[0.7,\"#b8e186\"],[0.8,\"#7fbc41\"],[0.9,\"#4d9221\"],[1,\"#276419\"]]},\"xaxis\":{\"gridcolor\":\"white\",\"linecolor\":\"white\",\"ticks\":\"\",\"title\":{\"standoff\":15},\"zerolinecolor\":\"white\",\"automargin\":true,\"zerolinewidth\":2},\"yaxis\":{\"gridcolor\":\"white\",\"linecolor\":\"white\",\"ticks\":\"\",\"title\":{\"standoff\":15},\"zerolinecolor\":\"white\",\"automargin\":true,\"zerolinewidth\":2},\"scene\":{\"xaxis\":{\"backgroundcolor\":\"#E5ECF6\",\"gridcolor\":\"white\",\"linecolor\":\"white\",\"showbackground\":true,\"ticks\":\"\",\"zerolinecolor\":\"white\",\"gridwidth\":2},\"yaxis\":{\"backgroundcolor\":\"#E5ECF6\",\"gridcolor\":\"white\",\"linecolor\":\"white\",\"showbackground\":true,\"ticks\":\"\",\"zerolinecolor\":\"white\",\"gridwidth\":2},\"zaxis\":{\"backgroundcolor\":\"#E5ECF6\",\"gridcolor\":\"white\",\"linecolor\":\"white\",\"showbackground\":true,\"ticks\":\"\",\"zerolinecolor\":\"white\",\"gridwidth\":2}},\"shapedefaults\":{\"line\":{\"color\":\"#2a3f5f\"}},\"annotationdefaults\":{\"arrowcolor\":\"#2a3f5f\",\"arrowhead\":0,\"arrowwidth\":1},\"geo\":{\"bgcolor\":\"white\",\"landcolor\":\"#E5ECF6\",\"subunitcolor\":\"white\",\"showland\":true,\"showlakes\":true,\"lakecolor\":\"white\"},\"title\":{\"x\":0.05},\"mapbox\":{\"style\":\"light\"}}},\"xaxis\":{\"anchor\":\"y\",\"domain\":[0.0,1.0]},\"yaxis\":{\"anchor\":\"x\",\"domain\":[0.0,1.0],\"title\":{\"text\":\"money\"}},\"legend\":{\"tracegroupgap\":0},\"title\":{\"text\":\"Outlier Detection for Sales (money)\"},\"boxmode\":\"group\"},                        {\"responsive\": true}                    ).then(function(){\n",
              "                            \n",
              "var gd = document.getElementById('19cfb4fa-0767-471a-9044-5b5a55b10548');\n",
              "var x = new MutationObserver(function (mutations, observer) {{\n",
              "        var display = window.getComputedStyle(gd).display;\n",
              "        if (!display || display === 'none') {{\n",
              "            console.log([gd, 'removed!']);\n",
              "            Plotly.purge(gd);\n",
              "            observer.disconnect();\n",
              "        }}\n",
              "}});\n",
              "\n",
              "// Listen for the removal of the full notebook cells\n",
              "var notebookContainer = gd.closest('#notebook-container');\n",
              "if (notebookContainer) {{\n",
              "    x.observe(notebookContainer, {childList: true});\n",
              "}}\n",
              "\n",
              "// Listen for the clearing of the current output cell\n",
              "var outputEl = gd.closest('.output');\n",
              "if (outputEl) {{\n",
              "    x.observe(outputEl, {childList: true});\n",
              "}}\n",
              "\n",
              "                        })                };                            </script>        </div>\n",
              "</body>\n",
              "</html>"
            ]
          },
          "metadata": {}
        }
      ],
      "source": [
        "# Check for outliers in 'money' using Plotly box plot\n",
        "\n",
        "fig = px.box(df, y='money', points='all', title='Outlier Detection for Sales (money)')\n",
        "fig.show()"
      ]
    },
    {
      "cell_type": "markdown",
      "id": "d116191d",
      "metadata": {
        "id": "d116191d"
      },
      "source": [
        "## EDA"
      ]
    },
    {
      "cell_type": "code",
      "execution_count": 8,
      "id": "0d697549",
      "metadata": {
        "colab": {
          "base_uri": "https://localhost:8080/",
          "height": 178
        },
        "id": "0d697549",
        "outputId": "ee9948fe-93cc-46d4-a6fa-8fa45fd59f0a"
      },
      "outputs": [
        {
          "output_type": "execute_result",
          "data": {
            "text/plain": [
              "year\n",
              "2024    2604\n",
              "2025     943\n",
              "Name: count, dtype: int64"
            ],
            "text/html": [
              "<div>\n",
              "<style scoped>\n",
              "    .dataframe tbody tr th:only-of-type {\n",
              "        vertical-align: middle;\n",
              "    }\n",
              "\n",
              "    .dataframe tbody tr th {\n",
              "        vertical-align: top;\n",
              "    }\n",
              "\n",
              "    .dataframe thead th {\n",
              "        text-align: right;\n",
              "    }\n",
              "</style>\n",
              "<table border=\"1\" class=\"dataframe\">\n",
              "  <thead>\n",
              "    <tr style=\"text-align: right;\">\n",
              "      <th></th>\n",
              "      <th>count</th>\n",
              "    </tr>\n",
              "    <tr>\n",
              "      <th>year</th>\n",
              "      <th></th>\n",
              "    </tr>\n",
              "  </thead>\n",
              "  <tbody>\n",
              "    <tr>\n",
              "      <th>2024</th>\n",
              "      <td>2604</td>\n",
              "    </tr>\n",
              "    <tr>\n",
              "      <th>2025</th>\n",
              "      <td>943</td>\n",
              "    </tr>\n",
              "  </tbody>\n",
              "</table>\n",
              "</div><br><label><b>dtype:</b> int64</label>"
            ]
          },
          "metadata": {},
          "execution_count": 8
        }
      ],
      "source": [
        "# see distribution of year from column 'Date'\n",
        "df['Date'] = pd.to_datetime(df['Date'])\n",
        "df['year'] = df['Date'].dt.year\n",
        "df['year'].value_counts()\n"
      ]
    },
    {
      "cell_type": "code",
      "execution_count": 9,
      "id": "26488979",
      "metadata": {
        "colab": {
          "base_uri": "https://localhost:8080/"
        },
        "id": "26488979",
        "outputId": "e66fab94-c176-43d8-fcca-e00427b6992c"
      },
      "outputs": [
        {
          "output_type": "stream",
          "name": "stdout",
          "text": [
            "Dataset stops at:\n",
            "Year: 2025\n",
            "Month: 3\n",
            "Last transaction date in dataset: 2025-03-23\n"
          ]
        }
      ],
      "source": [
        "# Make sure Date is in datetime format\n",
        "df['Date'] = pd.to_datetime(df['Date'])\n",
        "\n",
        "# Extract year and month\n",
        "df['year'] = df['Date'].dt.year\n",
        "df['month'] = df['Date'].dt.month\n",
        "\n",
        "# Find the maximum year and month in dataset\n",
        "last_year = df['year'].max()\n",
        "last_month = df[df['year'] == last_year]['month'].max()\n",
        "\n",
        "print(\"Dataset stops at:\")\n",
        "print(\"Year:\", last_year)\n",
        "print(\"Month:\", last_month)\n",
        "#  last transaction date\n",
        "last_date = df['Date'].max()\n",
        "print(\"Last transaction date in dataset:\", last_date.date())\n"
      ]
    },
    {
      "cell_type": "markdown",
      "id": "60977598",
      "metadata": {
        "id": "60977598"
      },
      "source": [
        "### 1-Which day of the week has the most total sales?"
      ]
    },
    {
      "cell_type": "code",
      "execution_count": 10,
      "id": "00a25f57",
      "metadata": {
        "id": "00a25f57"
      },
      "outputs": [],
      "source": [
        "# Definding the numpy arrays\n",
        "money         = df[\"money\"].to_numpy()\n",
        "weekday_str   = df[\"Weekday\"].to_numpy()\n",
        "weekday_sort  = df[\"Weekdaysort\"].to_numpy()   # numeric order for days\n",
        "coffee        = df[\"coffee_name\"].to_numpy()\n",
        "time_of_day   = df[\"Time_of_Day\"].to_numpy()\n",
        "hour  = df[\"hour_of_day\"].to_numpy()\n",
        "year  = df[\"year\"].to_numpy()"
      ]
    },
    {
      "cell_type": "code",
      "execution_count": 11,
      "id": "943325d1",
      "metadata": {
        "colab": {
          "base_uri": "https://localhost:8080/",
          "height": 629
        },
        "id": "943325d1",
        "outputId": "63441c0e-de09-4032-c391-92c1eda47f5c"
      },
      "outputs": [
        {
          "output_type": "stream",
          "name": "stdout",
          "text": [
            "[1 2 3 4 5 6 7] [4 4 4 ... 6 6 6]\n",
            "days sorted:  ['Mon' 'Tue' 'Wed' 'Thu' 'Fri' 'Sat' 'Sun']\n",
            "total sales sorted from the max till min:  [17363.1  18168.38 15750.46 16091.4  16802.66 14733.52 13336.06]\n",
            "Day with most total sales: Tue\n",
            "Total sales on that day: 18168.38\n"
          ]
        },
        {
          "output_type": "display_data",
          "data": {
            "text/html": [
              "<html>\n",
              "<head><meta charset=\"utf-8\" /></head>\n",
              "<body>\n",
              "    <div>            <script src=\"https://cdnjs.cloudflare.com/ajax/libs/mathjax/2.7.5/MathJax.js?config=TeX-AMS-MML_SVG\"></script><script type=\"text/javascript\">if (window.MathJax && window.MathJax.Hub && window.MathJax.Hub.Config) {window.MathJax.Hub.Config({SVG: {font: \"STIX-Web\"}});}</script>                <script type=\"text/javascript\">window.PlotlyConfig = {MathJaxConfig: 'local'};</script>\n",
              "        <script charset=\"utf-8\" src=\"https://cdn.plot.ly/plotly-2.35.2.min.js\"></script>                <div id=\"22a15178-2cd2-4e08-b26c-ad3a9293bb72\" class=\"plotly-graph-div\" style=\"height:525px; width:100%;\"></div>            <script type=\"text/javascript\">                                    window.PLOTLYENV=window.PLOTLYENV || {};                                    if (document.getElementById(\"22a15178-2cd2-4e08-b26c-ad3a9293bb72\")) {                    Plotly.newPlot(                        \"22a15178-2cd2-4e08-b26c-ad3a9293bb72\",                        [{\"alignmentgroup\":\"True\",\"hovertemplate\":\"Weekday=%{x}\\u003cbr\\u003eTotal Sales=%{y}\\u003cextra\\u003e\\u003c\\u002fextra\\u003e\",\"legendgroup\":\"\",\"marker\":{\"color\":\"#636efa\",\"pattern\":{\"shape\":\"\"}},\"name\":\"\",\"offsetgroup\":\"\",\"orientation\":\"v\",\"showlegend\":false,\"textposition\":\"auto\",\"x\":[\"Mon\",\"Tue\",\"Wed\",\"Thu\",\"Fri\",\"Sat\",\"Sun\"],\"xaxis\":\"x\",\"y\":[17363.099999999977,18168.379999999957,15750.459999999994,16091.400000000001,16802.65999999997,14733.519999999995,13336.06000000002],\"yaxis\":\"y\",\"type\":\"bar\"}],                        {\"template\":{\"data\":{\"histogram2dcontour\":[{\"type\":\"histogram2dcontour\",\"colorbar\":{\"outlinewidth\":0,\"ticks\":\"\"},\"colorscale\":[[0.0,\"#0d0887\"],[0.1111111111111111,\"#46039f\"],[0.2222222222222222,\"#7201a8\"],[0.3333333333333333,\"#9c179e\"],[0.4444444444444444,\"#bd3786\"],[0.5555555555555556,\"#d8576b\"],[0.6666666666666666,\"#ed7953\"],[0.7777777777777778,\"#fb9f3a\"],[0.8888888888888888,\"#fdca26\"],[1.0,\"#f0f921\"]]}],\"choropleth\":[{\"type\":\"choropleth\",\"colorbar\":{\"outlinewidth\":0,\"ticks\":\"\"}}],\"histogram2d\":[{\"type\":\"histogram2d\",\"colorbar\":{\"outlinewidth\":0,\"ticks\":\"\"},\"colorscale\":[[0.0,\"#0d0887\"],[0.1111111111111111,\"#46039f\"],[0.2222222222222222,\"#7201a8\"],[0.3333333333333333,\"#9c179e\"],[0.4444444444444444,\"#bd3786\"],[0.5555555555555556,\"#d8576b\"],[0.6666666666666666,\"#ed7953\"],[0.7777777777777778,\"#fb9f3a\"],[0.8888888888888888,\"#fdca26\"],[1.0,\"#f0f921\"]]}],\"heatmap\":[{\"type\":\"heatmap\",\"colorbar\":{\"outlinewidth\":0,\"ticks\":\"\"},\"colorscale\":[[0.0,\"#0d0887\"],[0.1111111111111111,\"#46039f\"],[0.2222222222222222,\"#7201a8\"],[0.3333333333333333,\"#9c179e\"],[0.4444444444444444,\"#bd3786\"],[0.5555555555555556,\"#d8576b\"],[0.6666666666666666,\"#ed7953\"],[0.7777777777777778,\"#fb9f3a\"],[0.8888888888888888,\"#fdca26\"],[1.0,\"#f0f921\"]]}],\"heatmapgl\":[{\"type\":\"heatmapgl\",\"colorbar\":{\"outlinewidth\":0,\"ticks\":\"\"},\"colorscale\":[[0.0,\"#0d0887\"],[0.1111111111111111,\"#46039f\"],[0.2222222222222222,\"#7201a8\"],[0.3333333333333333,\"#9c179e\"],[0.4444444444444444,\"#bd3786\"],[0.5555555555555556,\"#d8576b\"],[0.6666666666666666,\"#ed7953\"],[0.7777777777777778,\"#fb9f3a\"],[0.8888888888888888,\"#fdca26\"],[1.0,\"#f0f921\"]]}],\"contourcarpet\":[{\"type\":\"contourcarpet\",\"colorbar\":{\"outlinewidth\":0,\"ticks\":\"\"}}],\"contour\":[{\"type\":\"contour\",\"colorbar\":{\"outlinewidth\":0,\"ticks\":\"\"},\"colorscale\":[[0.0,\"#0d0887\"],[0.1111111111111111,\"#46039f\"],[0.2222222222222222,\"#7201a8\"],[0.3333333333333333,\"#9c179e\"],[0.4444444444444444,\"#bd3786\"],[0.5555555555555556,\"#d8576b\"],[0.6666666666666666,\"#ed7953\"],[0.7777777777777778,\"#fb9f3a\"],[0.8888888888888888,\"#fdca26\"],[1.0,\"#f0f921\"]]}],\"surface\":[{\"type\":\"surface\",\"colorbar\":{\"outlinewidth\":0,\"ticks\":\"\"},\"colorscale\":[[0.0,\"#0d0887\"],[0.1111111111111111,\"#46039f\"],[0.2222222222222222,\"#7201a8\"],[0.3333333333333333,\"#9c179e\"],[0.4444444444444444,\"#bd3786\"],[0.5555555555555556,\"#d8576b\"],[0.6666666666666666,\"#ed7953\"],[0.7777777777777778,\"#fb9f3a\"],[0.8888888888888888,\"#fdca26\"],[1.0,\"#f0f921\"]]}],\"mesh3d\":[{\"type\":\"mesh3d\",\"colorbar\":{\"outlinewidth\":0,\"ticks\":\"\"}}],\"scatter\":[{\"fillpattern\":{\"fillmode\":\"overlay\",\"size\":10,\"solidity\":0.2},\"type\":\"scatter\"}],\"parcoords\":[{\"type\":\"parcoords\",\"line\":{\"colorbar\":{\"outlinewidth\":0,\"ticks\":\"\"}}}],\"scatterpolargl\":[{\"type\":\"scatterpolargl\",\"marker\":{\"colorbar\":{\"outlinewidth\":0,\"ticks\":\"\"}}}],\"bar\":[{\"error_x\":{\"color\":\"#2a3f5f\"},\"error_y\":{\"color\":\"#2a3f5f\"},\"marker\":{\"line\":{\"color\":\"#E5ECF6\",\"width\":0.5},\"pattern\":{\"fillmode\":\"overlay\",\"size\":10,\"solidity\":0.2}},\"type\":\"bar\"}],\"scattergeo\":[{\"type\":\"scattergeo\",\"marker\":{\"colorbar\":{\"outlinewidth\":0,\"ticks\":\"\"}}}],\"scatterpolar\":[{\"type\":\"scatterpolar\",\"marker\":{\"colorbar\":{\"outlinewidth\":0,\"ticks\":\"\"}}}],\"histogram\":[{\"marker\":{\"pattern\":{\"fillmode\":\"overlay\",\"size\":10,\"solidity\":0.2}},\"type\":\"histogram\"}],\"scattergl\":[{\"type\":\"scattergl\",\"marker\":{\"colorbar\":{\"outlinewidth\":0,\"ticks\":\"\"}}}],\"scatter3d\":[{\"type\":\"scatter3d\",\"line\":{\"colorbar\":{\"outlinewidth\":0,\"ticks\":\"\"}},\"marker\":{\"colorbar\":{\"outlinewidth\":0,\"ticks\":\"\"}}}],\"scattermapbox\":[{\"type\":\"scattermapbox\",\"marker\":{\"colorbar\":{\"outlinewidth\":0,\"ticks\":\"\"}}}],\"scatterternary\":[{\"type\":\"scatterternary\",\"marker\":{\"colorbar\":{\"outlinewidth\":0,\"ticks\":\"\"}}}],\"scattercarpet\":[{\"type\":\"scattercarpet\",\"marker\":{\"colorbar\":{\"outlinewidth\":0,\"ticks\":\"\"}}}],\"carpet\":[{\"aaxis\":{\"endlinecolor\":\"#2a3f5f\",\"gridcolor\":\"white\",\"linecolor\":\"white\",\"minorgridcolor\":\"white\",\"startlinecolor\":\"#2a3f5f\"},\"baxis\":{\"endlinecolor\":\"#2a3f5f\",\"gridcolor\":\"white\",\"linecolor\":\"white\",\"minorgridcolor\":\"white\",\"startlinecolor\":\"#2a3f5f\"},\"type\":\"carpet\"}],\"table\":[{\"cells\":{\"fill\":{\"color\":\"#EBF0F8\"},\"line\":{\"color\":\"white\"}},\"header\":{\"fill\":{\"color\":\"#C8D4E3\"},\"line\":{\"color\":\"white\"}},\"type\":\"table\"}],\"barpolar\":[{\"marker\":{\"line\":{\"color\":\"#E5ECF6\",\"width\":0.5},\"pattern\":{\"fillmode\":\"overlay\",\"size\":10,\"solidity\":0.2}},\"type\":\"barpolar\"}],\"pie\":[{\"automargin\":true,\"type\":\"pie\"}]},\"layout\":{\"autotypenumbers\":\"strict\",\"colorway\":[\"#636efa\",\"#EF553B\",\"#00cc96\",\"#ab63fa\",\"#FFA15A\",\"#19d3f3\",\"#FF6692\",\"#B6E880\",\"#FF97FF\",\"#FECB52\"],\"font\":{\"color\":\"#2a3f5f\"},\"hovermode\":\"closest\",\"hoverlabel\":{\"align\":\"left\"},\"paper_bgcolor\":\"white\",\"plot_bgcolor\":\"#E5ECF6\",\"polar\":{\"bgcolor\":\"#E5ECF6\",\"angularaxis\":{\"gridcolor\":\"white\",\"linecolor\":\"white\",\"ticks\":\"\"},\"radialaxis\":{\"gridcolor\":\"white\",\"linecolor\":\"white\",\"ticks\":\"\"}},\"ternary\":{\"bgcolor\":\"#E5ECF6\",\"aaxis\":{\"gridcolor\":\"white\",\"linecolor\":\"white\",\"ticks\":\"\"},\"baxis\":{\"gridcolor\":\"white\",\"linecolor\":\"white\",\"ticks\":\"\"},\"caxis\":{\"gridcolor\":\"white\",\"linecolor\":\"white\",\"ticks\":\"\"}},\"coloraxis\":{\"colorbar\":{\"outlinewidth\":0,\"ticks\":\"\"}},\"colorscale\":{\"sequential\":[[0.0,\"#0d0887\"],[0.1111111111111111,\"#46039f\"],[0.2222222222222222,\"#7201a8\"],[0.3333333333333333,\"#9c179e\"],[0.4444444444444444,\"#bd3786\"],[0.5555555555555556,\"#d8576b\"],[0.6666666666666666,\"#ed7953\"],[0.7777777777777778,\"#fb9f3a\"],[0.8888888888888888,\"#fdca26\"],[1.0,\"#f0f921\"]],\"sequentialminus\":[[0.0,\"#0d0887\"],[0.1111111111111111,\"#46039f\"],[0.2222222222222222,\"#7201a8\"],[0.3333333333333333,\"#9c179e\"],[0.4444444444444444,\"#bd3786\"],[0.5555555555555556,\"#d8576b\"],[0.6666666666666666,\"#ed7953\"],[0.7777777777777778,\"#fb9f3a\"],[0.8888888888888888,\"#fdca26\"],[1.0,\"#f0f921\"]],\"diverging\":[[0,\"#8e0152\"],[0.1,\"#c51b7d\"],[0.2,\"#de77ae\"],[0.3,\"#f1b6da\"],[0.4,\"#fde0ef\"],[0.5,\"#f7f7f7\"],[0.6,\"#e6f5d0\"],[0.7,\"#b8e186\"],[0.8,\"#7fbc41\"],[0.9,\"#4d9221\"],[1,\"#276419\"]]},\"xaxis\":{\"gridcolor\":\"white\",\"linecolor\":\"white\",\"ticks\":\"\",\"title\":{\"standoff\":15},\"zerolinecolor\":\"white\",\"automargin\":true,\"zerolinewidth\":2},\"yaxis\":{\"gridcolor\":\"white\",\"linecolor\":\"white\",\"ticks\":\"\",\"title\":{\"standoff\":15},\"zerolinecolor\":\"white\",\"automargin\":true,\"zerolinewidth\":2},\"scene\":{\"xaxis\":{\"backgroundcolor\":\"#E5ECF6\",\"gridcolor\":\"white\",\"linecolor\":\"white\",\"showbackground\":true,\"ticks\":\"\",\"zerolinecolor\":\"white\",\"gridwidth\":2},\"yaxis\":{\"backgroundcolor\":\"#E5ECF6\",\"gridcolor\":\"white\",\"linecolor\":\"white\",\"showbackground\":true,\"ticks\":\"\",\"zerolinecolor\":\"white\",\"gridwidth\":2},\"zaxis\":{\"backgroundcolor\":\"#E5ECF6\",\"gridcolor\":\"white\",\"linecolor\":\"white\",\"showbackground\":true,\"ticks\":\"\",\"zerolinecolor\":\"white\",\"gridwidth\":2}},\"shapedefaults\":{\"line\":{\"color\":\"#2a3f5f\"}},\"annotationdefaults\":{\"arrowcolor\":\"#2a3f5f\",\"arrowhead\":0,\"arrowwidth\":1},\"geo\":{\"bgcolor\":\"white\",\"landcolor\":\"#E5ECF6\",\"subunitcolor\":\"white\",\"showland\":true,\"showlakes\":true,\"lakecolor\":\"white\"},\"title\":{\"x\":0.05},\"mapbox\":{\"style\":\"light\"}}},\"xaxis\":{\"anchor\":\"y\",\"domain\":[0.0,1.0],\"title\":{\"text\":\"Weekday\"}},\"yaxis\":{\"anchor\":\"x\",\"domain\":[0.0,1.0],\"title\":{\"text\":\"Total Sales\"}},\"legend\":{\"tracegroupgap\":0},\"title\":{\"text\":\"Total Sales by Weekday (All Years)\"},\"barmode\":\"relative\"},                        {\"responsive\": true}                    ).then(function(){\n",
              "                            \n",
              "var gd = document.getElementById('22a15178-2cd2-4e08-b26c-ad3a9293bb72');\n",
              "var x = new MutationObserver(function (mutations, observer) {{\n",
              "        var display = window.getComputedStyle(gd).display;\n",
              "        if (!display || display === 'none') {{\n",
              "            console.log([gd, 'removed!']);\n",
              "            Plotly.purge(gd);\n",
              "            observer.disconnect();\n",
              "        }}\n",
              "}});\n",
              "\n",
              "// Listen for the removal of the full notebook cells\n",
              "var notebookContainer = gd.closest('#notebook-container');\n",
              "if (notebookContainer) {{\n",
              "    x.observe(notebookContainer, {childList: true});\n",
              "}}\n",
              "\n",
              "// Listen for the clearing of the current output cell\n",
              "var outputEl = gd.closest('.output');\n",
              "if (outputEl) {{\n",
              "    x.observe(outputEl, {childList: true});\n",
              "}}\n",
              "\n",
              "                        })                };                            </script>        </div>\n",
              "</body>\n",
              "</html>"
            ]
          },
          "metadata": {}
        }
      ],
      "source": [
        "# 1. Group by Weekdaysort for all data\n",
        "# Starting from Monday, since the dataset considers Monday as the first day of the week.\n",
        "sort_keys, inv_weekdays = np.unique(weekday_sort, return_inverse=True)\n",
        "print(sort_keys, inv_weekdays)\n",
        "total_sales_by_sort = np.zeros(sort_keys.shape[0], dtype=float)\n",
        "for i, amt in enumerate(money):\n",
        "    total_sales_by_sort[inv_weekdays[i]] += amt\n",
        "\n",
        "# 2. pick a representative weekday label for each sort key (first occurrence)\n",
        "labels_by_sort = np.array([weekday_str[weekday_sort == k][0] for k in sort_keys])\n",
        "print(\"days sorted: \", labels_by_sort)\n",
        "print(\"total sales sorted from the max till min: \", total_sales_by_sort)\n",
        "\n",
        "# 3. finding the result\n",
        "max_idx = int(np.argmax(total_sales_by_sort))\n",
        "day_with_most_sales = labels_by_sort[max_idx]\n",
        "total_on_that_day = float(total_sales_by_sort[max_idx])\n",
        "\n",
        "print(\"Day with most total sales:\", day_with_most_sales)\n",
        "print(\"Total sales on that day:\", round(total_on_that_day, 2))\n",
        "\n",
        "# Visualization Using Plotly\n",
        "fig = px.bar(\n",
        "    x=labels_by_sort,\n",
        "    y=total_sales_by_sort,\n",
        "    labels={\"x\": \"Weekday\", \"y\": \"Total Sales\"},\n",
        "    title=\"Total Sales by Weekday (All Years)\"\n",
        ")\n",
        "fig.update_layout(xaxis_title=\"Weekday\", yaxis_title=\"Total Sales\")\n",
        "fig.show()\n",
        "\n",
        "\n",
        "\n"
      ]
    },
    {
      "cell_type": "markdown",
      "id": "a3bf8591",
      "metadata": {
        "id": "a3bf8591"
      },
      "source": [
        "### 2- What is the most popular coffee type by number of orders?\n",
        "\n"
      ]
    },
    {
      "cell_type": "code",
      "execution_count": 12,
      "id": "d0d04a87",
      "metadata": {
        "colab": {
          "base_uri": "https://localhost:8080/",
          "height": 716
        },
        "id": "d0d04a87",
        "outputId": "ed472f7d-f3c5-4206-bd09-4d387fe6c6aa"
      },
      "outputs": [
        {
          "output_type": "stream",
          "name": "stdout",
          "text": [
            "Most popular coffee: Americano with Milk\n",
            "Number of orders: 809\n",
            "Americano with Milk: 809\n",
            "Latte: 757\n",
            "Americano: 564\n",
            "Cappuccino: 486\n",
            "Cortado: 287\n",
            "Hot Chocolate: 276\n",
            "Cocoa: 239\n",
            "Espresso: 129\n"
          ]
        },
        {
          "output_type": "display_data",
          "data": {
            "text/html": [
              "<html>\n",
              "<head><meta charset=\"utf-8\" /></head>\n",
              "<body>\n",
              "    <div>            <script src=\"https://cdnjs.cloudflare.com/ajax/libs/mathjax/2.7.5/MathJax.js?config=TeX-AMS-MML_SVG\"></script><script type=\"text/javascript\">if (window.MathJax && window.MathJax.Hub && window.MathJax.Hub.Config) {window.MathJax.Hub.Config({SVG: {font: \"STIX-Web\"}});}</script>                <script type=\"text/javascript\">window.PlotlyConfig = {MathJaxConfig: 'local'};</script>\n",
              "        <script charset=\"utf-8\" src=\"https://cdn.plot.ly/plotly-2.35.2.min.js\"></script>                <div id=\"73db9b26-4f4c-4edc-bc07-ba362a5063a8\" class=\"plotly-graph-div\" style=\"height:525px; width:100%;\"></div>            <script type=\"text/javascript\">                                    window.PLOTLYENV=window.PLOTLYENV || {};                                    if (document.getElementById(\"73db9b26-4f4c-4edc-bc07-ba362a5063a8\")) {                    Plotly.newPlot(                        \"73db9b26-4f4c-4edc-bc07-ba362a5063a8\",                        [{\"alignmentgroup\":\"True\",\"hovertemplate\":\"Coffee Type=%{x}\\u003cbr\\u003eNumber of Orders=%{y}\\u003cextra\\u003e\\u003c\\u002fextra\\u003e\",\"legendgroup\":\"\",\"marker\":{\"color\":\"#636efa\",\"pattern\":{\"shape\":\"\"}},\"name\":\"\",\"offsetgroup\":\"\",\"orientation\":\"v\",\"showlegend\":false,\"textposition\":\"auto\",\"x\":[\"Americano with Milk\",\"Latte\",\"Americano\",\"Cappuccino\",\"Cortado\",\"Hot Chocolate\",\"Cocoa\",\"Espresso\"],\"xaxis\":\"x\",\"y\":[809,757,564,486,287,276,239,129],\"yaxis\":\"y\",\"type\":\"bar\"}],                        {\"template\":{\"data\":{\"histogram2dcontour\":[{\"type\":\"histogram2dcontour\",\"colorbar\":{\"outlinewidth\":0,\"ticks\":\"\"},\"colorscale\":[[0.0,\"#0d0887\"],[0.1111111111111111,\"#46039f\"],[0.2222222222222222,\"#7201a8\"],[0.3333333333333333,\"#9c179e\"],[0.4444444444444444,\"#bd3786\"],[0.5555555555555556,\"#d8576b\"],[0.6666666666666666,\"#ed7953\"],[0.7777777777777778,\"#fb9f3a\"],[0.8888888888888888,\"#fdca26\"],[1.0,\"#f0f921\"]]}],\"choropleth\":[{\"type\":\"choropleth\",\"colorbar\":{\"outlinewidth\":0,\"ticks\":\"\"}}],\"histogram2d\":[{\"type\":\"histogram2d\",\"colorbar\":{\"outlinewidth\":0,\"ticks\":\"\"},\"colorscale\":[[0.0,\"#0d0887\"],[0.1111111111111111,\"#46039f\"],[0.2222222222222222,\"#7201a8\"],[0.3333333333333333,\"#9c179e\"],[0.4444444444444444,\"#bd3786\"],[0.5555555555555556,\"#d8576b\"],[0.6666666666666666,\"#ed7953\"],[0.7777777777777778,\"#fb9f3a\"],[0.8888888888888888,\"#fdca26\"],[1.0,\"#f0f921\"]]}],\"heatmap\":[{\"type\":\"heatmap\",\"colorbar\":{\"outlinewidth\":0,\"ticks\":\"\"},\"colorscale\":[[0.0,\"#0d0887\"],[0.1111111111111111,\"#46039f\"],[0.2222222222222222,\"#7201a8\"],[0.3333333333333333,\"#9c179e\"],[0.4444444444444444,\"#bd3786\"],[0.5555555555555556,\"#d8576b\"],[0.6666666666666666,\"#ed7953\"],[0.7777777777777778,\"#fb9f3a\"],[0.8888888888888888,\"#fdca26\"],[1.0,\"#f0f921\"]]}],\"heatmapgl\":[{\"type\":\"heatmapgl\",\"colorbar\":{\"outlinewidth\":0,\"ticks\":\"\"},\"colorscale\":[[0.0,\"#0d0887\"],[0.1111111111111111,\"#46039f\"],[0.2222222222222222,\"#7201a8\"],[0.3333333333333333,\"#9c179e\"],[0.4444444444444444,\"#bd3786\"],[0.5555555555555556,\"#d8576b\"],[0.6666666666666666,\"#ed7953\"],[0.7777777777777778,\"#fb9f3a\"],[0.8888888888888888,\"#fdca26\"],[1.0,\"#f0f921\"]]}],\"contourcarpet\":[{\"type\":\"contourcarpet\",\"colorbar\":{\"outlinewidth\":0,\"ticks\":\"\"}}],\"contour\":[{\"type\":\"contour\",\"colorbar\":{\"outlinewidth\":0,\"ticks\":\"\"},\"colorscale\":[[0.0,\"#0d0887\"],[0.1111111111111111,\"#46039f\"],[0.2222222222222222,\"#7201a8\"],[0.3333333333333333,\"#9c179e\"],[0.4444444444444444,\"#bd3786\"],[0.5555555555555556,\"#d8576b\"],[0.6666666666666666,\"#ed7953\"],[0.7777777777777778,\"#fb9f3a\"],[0.8888888888888888,\"#fdca26\"],[1.0,\"#f0f921\"]]}],\"surface\":[{\"type\":\"surface\",\"colorbar\":{\"outlinewidth\":0,\"ticks\":\"\"},\"colorscale\":[[0.0,\"#0d0887\"],[0.1111111111111111,\"#46039f\"],[0.2222222222222222,\"#7201a8\"],[0.3333333333333333,\"#9c179e\"],[0.4444444444444444,\"#bd3786\"],[0.5555555555555556,\"#d8576b\"],[0.6666666666666666,\"#ed7953\"],[0.7777777777777778,\"#fb9f3a\"],[0.8888888888888888,\"#fdca26\"],[1.0,\"#f0f921\"]]}],\"mesh3d\":[{\"type\":\"mesh3d\",\"colorbar\":{\"outlinewidth\":0,\"ticks\":\"\"}}],\"scatter\":[{\"fillpattern\":{\"fillmode\":\"overlay\",\"size\":10,\"solidity\":0.2},\"type\":\"scatter\"}],\"parcoords\":[{\"type\":\"parcoords\",\"line\":{\"colorbar\":{\"outlinewidth\":0,\"ticks\":\"\"}}}],\"scatterpolargl\":[{\"type\":\"scatterpolargl\",\"marker\":{\"colorbar\":{\"outlinewidth\":0,\"ticks\":\"\"}}}],\"bar\":[{\"error_x\":{\"color\":\"#2a3f5f\"},\"error_y\":{\"color\":\"#2a3f5f\"},\"marker\":{\"line\":{\"color\":\"#E5ECF6\",\"width\":0.5},\"pattern\":{\"fillmode\":\"overlay\",\"size\":10,\"solidity\":0.2}},\"type\":\"bar\"}],\"scattergeo\":[{\"type\":\"scattergeo\",\"marker\":{\"colorbar\":{\"outlinewidth\":0,\"ticks\":\"\"}}}],\"scatterpolar\":[{\"type\":\"scatterpolar\",\"marker\":{\"colorbar\":{\"outlinewidth\":0,\"ticks\":\"\"}}}],\"histogram\":[{\"marker\":{\"pattern\":{\"fillmode\":\"overlay\",\"size\":10,\"solidity\":0.2}},\"type\":\"histogram\"}],\"scattergl\":[{\"type\":\"scattergl\",\"marker\":{\"colorbar\":{\"outlinewidth\":0,\"ticks\":\"\"}}}],\"scatter3d\":[{\"type\":\"scatter3d\",\"line\":{\"colorbar\":{\"outlinewidth\":0,\"ticks\":\"\"}},\"marker\":{\"colorbar\":{\"outlinewidth\":0,\"ticks\":\"\"}}}],\"scattermapbox\":[{\"type\":\"scattermapbox\",\"marker\":{\"colorbar\":{\"outlinewidth\":0,\"ticks\":\"\"}}}],\"scatterternary\":[{\"type\":\"scatterternary\",\"marker\":{\"colorbar\":{\"outlinewidth\":0,\"ticks\":\"\"}}}],\"scattercarpet\":[{\"type\":\"scattercarpet\",\"marker\":{\"colorbar\":{\"outlinewidth\":0,\"ticks\":\"\"}}}],\"carpet\":[{\"aaxis\":{\"endlinecolor\":\"#2a3f5f\",\"gridcolor\":\"white\",\"linecolor\":\"white\",\"minorgridcolor\":\"white\",\"startlinecolor\":\"#2a3f5f\"},\"baxis\":{\"endlinecolor\":\"#2a3f5f\",\"gridcolor\":\"white\",\"linecolor\":\"white\",\"minorgridcolor\":\"white\",\"startlinecolor\":\"#2a3f5f\"},\"type\":\"carpet\"}],\"table\":[{\"cells\":{\"fill\":{\"color\":\"#EBF0F8\"},\"line\":{\"color\":\"white\"}},\"header\":{\"fill\":{\"color\":\"#C8D4E3\"},\"line\":{\"color\":\"white\"}},\"type\":\"table\"}],\"barpolar\":[{\"marker\":{\"line\":{\"color\":\"#E5ECF6\",\"width\":0.5},\"pattern\":{\"fillmode\":\"overlay\",\"size\":10,\"solidity\":0.2}},\"type\":\"barpolar\"}],\"pie\":[{\"automargin\":true,\"type\":\"pie\"}]},\"layout\":{\"autotypenumbers\":\"strict\",\"colorway\":[\"#636efa\",\"#EF553B\",\"#00cc96\",\"#ab63fa\",\"#FFA15A\",\"#19d3f3\",\"#FF6692\",\"#B6E880\",\"#FF97FF\",\"#FECB52\"],\"font\":{\"color\":\"#2a3f5f\"},\"hovermode\":\"closest\",\"hoverlabel\":{\"align\":\"left\"},\"paper_bgcolor\":\"white\",\"plot_bgcolor\":\"#E5ECF6\",\"polar\":{\"bgcolor\":\"#E5ECF6\",\"angularaxis\":{\"gridcolor\":\"white\",\"linecolor\":\"white\",\"ticks\":\"\"},\"radialaxis\":{\"gridcolor\":\"white\",\"linecolor\":\"white\",\"ticks\":\"\"}},\"ternary\":{\"bgcolor\":\"#E5ECF6\",\"aaxis\":{\"gridcolor\":\"white\",\"linecolor\":\"white\",\"ticks\":\"\"},\"baxis\":{\"gridcolor\":\"white\",\"linecolor\":\"white\",\"ticks\":\"\"},\"caxis\":{\"gridcolor\":\"white\",\"linecolor\":\"white\",\"ticks\":\"\"}},\"coloraxis\":{\"colorbar\":{\"outlinewidth\":0,\"ticks\":\"\"}},\"colorscale\":{\"sequential\":[[0.0,\"#0d0887\"],[0.1111111111111111,\"#46039f\"],[0.2222222222222222,\"#7201a8\"],[0.3333333333333333,\"#9c179e\"],[0.4444444444444444,\"#bd3786\"],[0.5555555555555556,\"#d8576b\"],[0.6666666666666666,\"#ed7953\"],[0.7777777777777778,\"#fb9f3a\"],[0.8888888888888888,\"#fdca26\"],[1.0,\"#f0f921\"]],\"sequentialminus\":[[0.0,\"#0d0887\"],[0.1111111111111111,\"#46039f\"],[0.2222222222222222,\"#7201a8\"],[0.3333333333333333,\"#9c179e\"],[0.4444444444444444,\"#bd3786\"],[0.5555555555555556,\"#d8576b\"],[0.6666666666666666,\"#ed7953\"],[0.7777777777777778,\"#fb9f3a\"],[0.8888888888888888,\"#fdca26\"],[1.0,\"#f0f921\"]],\"diverging\":[[0,\"#8e0152\"],[0.1,\"#c51b7d\"],[0.2,\"#de77ae\"],[0.3,\"#f1b6da\"],[0.4,\"#fde0ef\"],[0.5,\"#f7f7f7\"],[0.6,\"#e6f5d0\"],[0.7,\"#b8e186\"],[0.8,\"#7fbc41\"],[0.9,\"#4d9221\"],[1,\"#276419\"]]},\"xaxis\":{\"gridcolor\":\"white\",\"linecolor\":\"white\",\"ticks\":\"\",\"title\":{\"standoff\":15},\"zerolinecolor\":\"white\",\"automargin\":true,\"zerolinewidth\":2},\"yaxis\":{\"gridcolor\":\"white\",\"linecolor\":\"white\",\"ticks\":\"\",\"title\":{\"standoff\":15},\"zerolinecolor\":\"white\",\"automargin\":true,\"zerolinewidth\":2},\"scene\":{\"xaxis\":{\"backgroundcolor\":\"#E5ECF6\",\"gridcolor\":\"white\",\"linecolor\":\"white\",\"showbackground\":true,\"ticks\":\"\",\"zerolinecolor\":\"white\",\"gridwidth\":2},\"yaxis\":{\"backgroundcolor\":\"#E5ECF6\",\"gridcolor\":\"white\",\"linecolor\":\"white\",\"showbackground\":true,\"ticks\":\"\",\"zerolinecolor\":\"white\",\"gridwidth\":2},\"zaxis\":{\"backgroundcolor\":\"#E5ECF6\",\"gridcolor\":\"white\",\"linecolor\":\"white\",\"showbackground\":true,\"ticks\":\"\",\"zerolinecolor\":\"white\",\"gridwidth\":2}},\"shapedefaults\":{\"line\":{\"color\":\"#2a3f5f\"}},\"annotationdefaults\":{\"arrowcolor\":\"#2a3f5f\",\"arrowhead\":0,\"arrowwidth\":1},\"geo\":{\"bgcolor\":\"white\",\"landcolor\":\"#E5ECF6\",\"subunitcolor\":\"white\",\"showland\":true,\"showlakes\":true,\"lakecolor\":\"white\"},\"title\":{\"x\":0.05},\"mapbox\":{\"style\":\"light\"}}},\"xaxis\":{\"anchor\":\"y\",\"domain\":[0.0,1.0],\"title\":{\"text\":\"Coffee Type\"}},\"yaxis\":{\"anchor\":\"x\",\"domain\":[0.0,1.0],\"title\":{\"text\":\"Orders\"}},\"legend\":{\"tracegroupgap\":0},\"title\":{\"text\":\"Coffee Popularity (Order Count)\"},\"barmode\":\"relative\"},                        {\"responsive\": true}                    ).then(function(){\n",
              "                            \n",
              "var gd = document.getElementById('73db9b26-4f4c-4edc-bc07-ba362a5063a8');\n",
              "var x = new MutationObserver(function (mutations, observer) {{\n",
              "        var display = window.getComputedStyle(gd).display;\n",
              "        if (!display || display === 'none') {{\n",
              "            console.log([gd, 'removed!']);\n",
              "            Plotly.purge(gd);\n",
              "            observer.disconnect();\n",
              "        }}\n",
              "}});\n",
              "\n",
              "// Listen for the removal of the full notebook cells\n",
              "var notebookContainer = gd.closest('#notebook-container');\n",
              "if (notebookContainer) {{\n",
              "    x.observe(notebookContainer, {childList: true});\n",
              "}}\n",
              "\n",
              "// Listen for the clearing of the current output cell\n",
              "var outputEl = gd.closest('.output');\n",
              "if (outputEl) {{\n",
              "    x.observe(outputEl, {childList: true});\n",
              "}}\n",
              "\n",
              "                        })                };                            </script>        </div>\n",
              "</body>\n",
              "</html>"
            ]
          },
          "metadata": {}
        }
      ],
      "source": [
        "# 1. Declearing the variables\n",
        "fav_coffee, coffee_counts = np.unique(coffee, return_counts=True)\n",
        "# 2. Finding the most ordered coffe by name and count\n",
        "top_idx = int(np.argmax(coffee_counts))\n",
        "most_popular_coffee = fav_coffee[top_idx]\n",
        "most_popular_count  = int(coffee_counts[top_idx])\n",
        "\n",
        "print(\"Most popular coffee:\", most_popular_coffee)\n",
        "print(\"Number of orders:\", most_popular_count)\n",
        "\n",
        "# 2. Sorting to start with largest number (descending)\n",
        "order = np.argsort(coffee_counts)[::-1]\n",
        "coffee_sorted = fav_coffee[order]\n",
        "counts_sorted = coffee_counts[order]\n",
        "\n",
        "# 3. Use a loop to neatly display each coffee type with its order count\n",
        "for coffee, count in zip(coffee_sorted, counts_sorted):\n",
        "    print(f\"{coffee}: {count}\")\n",
        "\n",
        "\n",
        "# Visualization Using Plotly\n",
        "fig = px.bar(\n",
        "    x=coffee_sorted,\n",
        "    y=counts_sorted,\n",
        "    labels={\"x\": \"Coffee Type\", \"y\": \"Number of Orders\"},\n",
        "    title=\"Coffee Popularity (Order Count)\"\n",
        ")\n",
        "fig.update_layout(xaxis_title=\"Coffee Type\", yaxis_title=\"Orders\")\n",
        "fig.show()\n"
      ]
    },
    {
      "cell_type": "markdown",
      "id": "4d871ec7",
      "metadata": {
        "id": "4d871ec7"
      },
      "source": [
        "### 3- What is the average money spent in the morning vs afternoon vs evening?"
      ]
    },
    {
      "cell_type": "code",
      "execution_count": 13,
      "id": "95df57e8",
      "metadata": {
        "colab": {
          "base_uri": "https://localhost:8080/",
          "height": 611
        },
        "id": "95df57e8",
        "outputId": "252d2b43-08c1-4e96-d3c5-dc8ba218f178"
      },
      "outputs": [
        {
          "output_type": "stream",
          "name": "stdout",
          "text": [
            "Average spending by time of day:\n",
            "Morning: 30.42\n",
            "Afternoon: 31.64\n",
            "Night: 32.89\n"
          ]
        },
        {
          "output_type": "display_data",
          "data": {
            "text/html": [
              "<html>\n",
              "<head><meta charset=\"utf-8\" /></head>\n",
              "<body>\n",
              "    <div>            <script src=\"https://cdnjs.cloudflare.com/ajax/libs/mathjax/2.7.5/MathJax.js?config=TeX-AMS-MML_SVG\"></script><script type=\"text/javascript\">if (window.MathJax && window.MathJax.Hub && window.MathJax.Hub.Config) {window.MathJax.Hub.Config({SVG: {font: \"STIX-Web\"}});}</script>                <script type=\"text/javascript\">window.PlotlyConfig = {MathJaxConfig: 'local'};</script>\n",
              "        <script charset=\"utf-8\" src=\"https://cdn.plot.ly/plotly-2.35.2.min.js\"></script>                <div id=\"e5b304ea-29fe-4f8e-97a6-6cedd744f6b4\" class=\"plotly-graph-div\" style=\"height:525px; width:100%;\"></div>            <script type=\"text/javascript\">                                    window.PLOTLYENV=window.PLOTLYENV || {};                                    if (document.getElementById(\"e5b304ea-29fe-4f8e-97a6-6cedd744f6b4\")) {                    Plotly.newPlot(                        \"e5b304ea-29fe-4f8e-97a6-6cedd744f6b4\",                        [{\"alignmentgroup\":\"True\",\"hovertemplate\":\"Time of Day=%{x}\\u003cbr\\u003eAverage Money Spent=%{y}\\u003cextra\\u003e\\u003c\\u002fextra\\u003e\",\"legendgroup\":\"\",\"marker\":{\"color\":\"#636efa\",\"pattern\":{\"shape\":\"\"}},\"name\":\"\",\"offsetgroup\":\"\",\"orientation\":\"v\",\"showlegend\":false,\"textposition\":\"auto\",\"x\":[\"Morning\",\"Afternoon\",\"Night\"],\"xaxis\":\"x\",\"y\":[30.42269263336156,31.6431867219917,32.89090439276485],\"yaxis\":\"y\",\"type\":\"bar\"}],                        {\"template\":{\"data\":{\"histogram2dcontour\":[{\"type\":\"histogram2dcontour\",\"colorbar\":{\"outlinewidth\":0,\"ticks\":\"\"},\"colorscale\":[[0.0,\"#0d0887\"],[0.1111111111111111,\"#46039f\"],[0.2222222222222222,\"#7201a8\"],[0.3333333333333333,\"#9c179e\"],[0.4444444444444444,\"#bd3786\"],[0.5555555555555556,\"#d8576b\"],[0.6666666666666666,\"#ed7953\"],[0.7777777777777778,\"#fb9f3a\"],[0.8888888888888888,\"#fdca26\"],[1.0,\"#f0f921\"]]}],\"choropleth\":[{\"type\":\"choropleth\",\"colorbar\":{\"outlinewidth\":0,\"ticks\":\"\"}}],\"histogram2d\":[{\"type\":\"histogram2d\",\"colorbar\":{\"outlinewidth\":0,\"ticks\":\"\"},\"colorscale\":[[0.0,\"#0d0887\"],[0.1111111111111111,\"#46039f\"],[0.2222222222222222,\"#7201a8\"],[0.3333333333333333,\"#9c179e\"],[0.4444444444444444,\"#bd3786\"],[0.5555555555555556,\"#d8576b\"],[0.6666666666666666,\"#ed7953\"],[0.7777777777777778,\"#fb9f3a\"],[0.8888888888888888,\"#fdca26\"],[1.0,\"#f0f921\"]]}],\"heatmap\":[{\"type\":\"heatmap\",\"colorbar\":{\"outlinewidth\":0,\"ticks\":\"\"},\"colorscale\":[[0.0,\"#0d0887\"],[0.1111111111111111,\"#46039f\"],[0.2222222222222222,\"#7201a8\"],[0.3333333333333333,\"#9c179e\"],[0.4444444444444444,\"#bd3786\"],[0.5555555555555556,\"#d8576b\"],[0.6666666666666666,\"#ed7953\"],[0.7777777777777778,\"#fb9f3a\"],[0.8888888888888888,\"#fdca26\"],[1.0,\"#f0f921\"]]}],\"heatmapgl\":[{\"type\":\"heatmapgl\",\"colorbar\":{\"outlinewidth\":0,\"ticks\":\"\"},\"colorscale\":[[0.0,\"#0d0887\"],[0.1111111111111111,\"#46039f\"],[0.2222222222222222,\"#7201a8\"],[0.3333333333333333,\"#9c179e\"],[0.4444444444444444,\"#bd3786\"],[0.5555555555555556,\"#d8576b\"],[0.6666666666666666,\"#ed7953\"],[0.7777777777777778,\"#fb9f3a\"],[0.8888888888888888,\"#fdca26\"],[1.0,\"#f0f921\"]]}],\"contourcarpet\":[{\"type\":\"contourcarpet\",\"colorbar\":{\"outlinewidth\":0,\"ticks\":\"\"}}],\"contour\":[{\"type\":\"contour\",\"colorbar\":{\"outlinewidth\":0,\"ticks\":\"\"},\"colorscale\":[[0.0,\"#0d0887\"],[0.1111111111111111,\"#46039f\"],[0.2222222222222222,\"#7201a8\"],[0.3333333333333333,\"#9c179e\"],[0.4444444444444444,\"#bd3786\"],[0.5555555555555556,\"#d8576b\"],[0.6666666666666666,\"#ed7953\"],[0.7777777777777778,\"#fb9f3a\"],[0.8888888888888888,\"#fdca26\"],[1.0,\"#f0f921\"]]}],\"surface\":[{\"type\":\"surface\",\"colorbar\":{\"outlinewidth\":0,\"ticks\":\"\"},\"colorscale\":[[0.0,\"#0d0887\"],[0.1111111111111111,\"#46039f\"],[0.2222222222222222,\"#7201a8\"],[0.3333333333333333,\"#9c179e\"],[0.4444444444444444,\"#bd3786\"],[0.5555555555555556,\"#d8576b\"],[0.6666666666666666,\"#ed7953\"],[0.7777777777777778,\"#fb9f3a\"],[0.8888888888888888,\"#fdca26\"],[1.0,\"#f0f921\"]]}],\"mesh3d\":[{\"type\":\"mesh3d\",\"colorbar\":{\"outlinewidth\":0,\"ticks\":\"\"}}],\"scatter\":[{\"fillpattern\":{\"fillmode\":\"overlay\",\"size\":10,\"solidity\":0.2},\"type\":\"scatter\"}],\"parcoords\":[{\"type\":\"parcoords\",\"line\":{\"colorbar\":{\"outlinewidth\":0,\"ticks\":\"\"}}}],\"scatterpolargl\":[{\"type\":\"scatterpolargl\",\"marker\":{\"colorbar\":{\"outlinewidth\":0,\"ticks\":\"\"}}}],\"bar\":[{\"error_x\":{\"color\":\"#2a3f5f\"},\"error_y\":{\"color\":\"#2a3f5f\"},\"marker\":{\"line\":{\"color\":\"#E5ECF6\",\"width\":0.5},\"pattern\":{\"fillmode\":\"overlay\",\"size\":10,\"solidity\":0.2}},\"type\":\"bar\"}],\"scattergeo\":[{\"type\":\"scattergeo\",\"marker\":{\"colorbar\":{\"outlinewidth\":0,\"ticks\":\"\"}}}],\"scatterpolar\":[{\"type\":\"scatterpolar\",\"marker\":{\"colorbar\":{\"outlinewidth\":0,\"ticks\":\"\"}}}],\"histogram\":[{\"marker\":{\"pattern\":{\"fillmode\":\"overlay\",\"size\":10,\"solidity\":0.2}},\"type\":\"histogram\"}],\"scattergl\":[{\"type\":\"scattergl\",\"marker\":{\"colorbar\":{\"outlinewidth\":0,\"ticks\":\"\"}}}],\"scatter3d\":[{\"type\":\"scatter3d\",\"line\":{\"colorbar\":{\"outlinewidth\":0,\"ticks\":\"\"}},\"marker\":{\"colorbar\":{\"outlinewidth\":0,\"ticks\":\"\"}}}],\"scattermapbox\":[{\"type\":\"scattermapbox\",\"marker\":{\"colorbar\":{\"outlinewidth\":0,\"ticks\":\"\"}}}],\"scatterternary\":[{\"type\":\"scatterternary\",\"marker\":{\"colorbar\":{\"outlinewidth\":0,\"ticks\":\"\"}}}],\"scattercarpet\":[{\"type\":\"scattercarpet\",\"marker\":{\"colorbar\":{\"outlinewidth\":0,\"ticks\":\"\"}}}],\"carpet\":[{\"aaxis\":{\"endlinecolor\":\"#2a3f5f\",\"gridcolor\":\"white\",\"linecolor\":\"white\",\"minorgridcolor\":\"white\",\"startlinecolor\":\"#2a3f5f\"},\"baxis\":{\"endlinecolor\":\"#2a3f5f\",\"gridcolor\":\"white\",\"linecolor\":\"white\",\"minorgridcolor\":\"white\",\"startlinecolor\":\"#2a3f5f\"},\"type\":\"carpet\"}],\"table\":[{\"cells\":{\"fill\":{\"color\":\"#EBF0F8\"},\"line\":{\"color\":\"white\"}},\"header\":{\"fill\":{\"color\":\"#C8D4E3\"},\"line\":{\"color\":\"white\"}},\"type\":\"table\"}],\"barpolar\":[{\"marker\":{\"line\":{\"color\":\"#E5ECF6\",\"width\":0.5},\"pattern\":{\"fillmode\":\"overlay\",\"size\":10,\"solidity\":0.2}},\"type\":\"barpolar\"}],\"pie\":[{\"automargin\":true,\"type\":\"pie\"}]},\"layout\":{\"autotypenumbers\":\"strict\",\"colorway\":[\"#636efa\",\"#EF553B\",\"#00cc96\",\"#ab63fa\",\"#FFA15A\",\"#19d3f3\",\"#FF6692\",\"#B6E880\",\"#FF97FF\",\"#FECB52\"],\"font\":{\"color\":\"#2a3f5f\"},\"hovermode\":\"closest\",\"hoverlabel\":{\"align\":\"left\"},\"paper_bgcolor\":\"white\",\"plot_bgcolor\":\"#E5ECF6\",\"polar\":{\"bgcolor\":\"#E5ECF6\",\"angularaxis\":{\"gridcolor\":\"white\",\"linecolor\":\"white\",\"ticks\":\"\"},\"radialaxis\":{\"gridcolor\":\"white\",\"linecolor\":\"white\",\"ticks\":\"\"}},\"ternary\":{\"bgcolor\":\"#E5ECF6\",\"aaxis\":{\"gridcolor\":\"white\",\"linecolor\":\"white\",\"ticks\":\"\"},\"baxis\":{\"gridcolor\":\"white\",\"linecolor\":\"white\",\"ticks\":\"\"},\"caxis\":{\"gridcolor\":\"white\",\"linecolor\":\"white\",\"ticks\":\"\"}},\"coloraxis\":{\"colorbar\":{\"outlinewidth\":0,\"ticks\":\"\"}},\"colorscale\":{\"sequential\":[[0.0,\"#0d0887\"],[0.1111111111111111,\"#46039f\"],[0.2222222222222222,\"#7201a8\"],[0.3333333333333333,\"#9c179e\"],[0.4444444444444444,\"#bd3786\"],[0.5555555555555556,\"#d8576b\"],[0.6666666666666666,\"#ed7953\"],[0.7777777777777778,\"#fb9f3a\"],[0.8888888888888888,\"#fdca26\"],[1.0,\"#f0f921\"]],\"sequentialminus\":[[0.0,\"#0d0887\"],[0.1111111111111111,\"#46039f\"],[0.2222222222222222,\"#7201a8\"],[0.3333333333333333,\"#9c179e\"],[0.4444444444444444,\"#bd3786\"],[0.5555555555555556,\"#d8576b\"],[0.6666666666666666,\"#ed7953\"],[0.7777777777777778,\"#fb9f3a\"],[0.8888888888888888,\"#fdca26\"],[1.0,\"#f0f921\"]],\"diverging\":[[0,\"#8e0152\"],[0.1,\"#c51b7d\"],[0.2,\"#de77ae\"],[0.3,\"#f1b6da\"],[0.4,\"#fde0ef\"],[0.5,\"#f7f7f7\"],[0.6,\"#e6f5d0\"],[0.7,\"#b8e186\"],[0.8,\"#7fbc41\"],[0.9,\"#4d9221\"],[1,\"#276419\"]]},\"xaxis\":{\"gridcolor\":\"white\",\"linecolor\":\"white\",\"ticks\":\"\",\"title\":{\"standoff\":15},\"zerolinecolor\":\"white\",\"automargin\":true,\"zerolinewidth\":2},\"yaxis\":{\"gridcolor\":\"white\",\"linecolor\":\"white\",\"ticks\":\"\",\"title\":{\"standoff\":15},\"zerolinecolor\":\"white\",\"automargin\":true,\"zerolinewidth\":2},\"scene\":{\"xaxis\":{\"backgroundcolor\":\"#E5ECF6\",\"gridcolor\":\"white\",\"linecolor\":\"white\",\"showbackground\":true,\"ticks\":\"\",\"zerolinecolor\":\"white\",\"gridwidth\":2},\"yaxis\":{\"backgroundcolor\":\"#E5ECF6\",\"gridcolor\":\"white\",\"linecolor\":\"white\",\"showbackground\":true,\"ticks\":\"\",\"zerolinecolor\":\"white\",\"gridwidth\":2},\"zaxis\":{\"backgroundcolor\":\"#E5ECF6\",\"gridcolor\":\"white\",\"linecolor\":\"white\",\"showbackground\":true,\"ticks\":\"\",\"zerolinecolor\":\"white\",\"gridwidth\":2}},\"shapedefaults\":{\"line\":{\"color\":\"#2a3f5f\"}},\"annotationdefaults\":{\"arrowcolor\":\"#2a3f5f\",\"arrowhead\":0,\"arrowwidth\":1},\"geo\":{\"bgcolor\":\"white\",\"landcolor\":\"#E5ECF6\",\"subunitcolor\":\"white\",\"showland\":true,\"showlakes\":true,\"lakecolor\":\"white\"},\"title\":{\"x\":0.05},\"mapbox\":{\"style\":\"light\"}}},\"xaxis\":{\"anchor\":\"y\",\"domain\":[0.0,1.0],\"title\":{\"text\":\"Time of Day\"}},\"yaxis\":{\"anchor\":\"x\",\"domain\":[0.0,1.0],\"title\":{\"text\":\"Average Spend\"}},\"legend\":{\"tracegroupgap\":0},\"title\":{\"text\":\"Average Spending by Time of Day\"},\"barmode\":\"relative\"},                        {\"responsive\": true}                    ).then(function(){\n",
              "                            \n",
              "var gd = document.getElementById('e5b304ea-29fe-4f8e-97a6-6cedd744f6b4');\n",
              "var x = new MutationObserver(function (mutations, observer) {{\n",
              "        var display = window.getComputedStyle(gd).display;\n",
              "        if (!display || display === 'none') {{\n",
              "            console.log([gd, 'removed!']);\n",
              "            Plotly.purge(gd);\n",
              "            observer.disconnect();\n",
              "        }}\n",
              "}});\n",
              "\n",
              "// Listen for the removal of the full notebook cells\n",
              "var notebookContainer = gd.closest('#notebook-container');\n",
              "if (notebookContainer) {{\n",
              "    x.observe(notebookContainer, {childList: true});\n",
              "}}\n",
              "\n",
              "// Listen for the clearing of the current output cell\n",
              "var outputEl = gd.closest('.output');\n",
              "if (outputEl) {{\n",
              "    x.observe(outputEl, {childList: true});\n",
              "}}\n",
              "\n",
              "                        })                };                            </script>        </div>\n",
              "</body>\n",
              "</html>"
            ]
          },
          "metadata": {}
        }
      ],
      "source": [
        "# 1. Declaring the variables\n",
        "period_of_time = np.array([\"Morning\", \"Afternoon\", \"Night\"])\n",
        "\n",
        "# Get arrays directly from the DataFrame to keep them aligned\n",
        "time_of_day = df[\"Time_of_Day\"].values\n",
        "money = df[\"money\"].values\n",
        "present = np.unique(time_of_day)\n",
        "\n",
        "# 2. Finding the averages per period of the day\n",
        "ordered_times = np.array(\n",
        "    [t for t in period_of_time if t in present] + [t for t in present if t not in period_of_time],\n",
        "    dtype=object\n",
        ")\n",
        "\n",
        "avg_spend = np.zeros(len(ordered_times), dtype=float)\n",
        "for i, t in enumerate(ordered_times):\n",
        "    mask = (time_of_day == t)\n",
        "    avg_spend[i] = np.mean(money[mask]) if np.any(mask) else np.nan\n",
        "\n",
        "# Print results\n",
        "print(\"Average spending by time of day:\")\n",
        "for t, a in zip(ordered_times, avg_spend):\n",
        "    print(f\"{t}: {np.round(a, 2)}\")\n",
        "\n",
        "# Visualization Using Plotly\n",
        "fig = px.bar(\n",
        "    x=ordered_times,\n",
        "    y=avg_spend,\n",
        "    labels={\"x\": \"Time of Day\", \"y\": \"Average Money Spent\"},\n",
        "    title=\"Average Spending by Time of Day\"\n",
        ")\n",
        "fig.update_layout(xaxis_title=\"Time of Day\", yaxis_title=\"Average Spend\")\n",
        "fig.show()\n",
        "\n"
      ]
    },
    {
      "cell_type": "markdown",
      "id": "ce807459",
      "metadata": {
        "id": "ce807459"
      },
      "source": [
        "### 4-Are weekends vs weekdays different in average sales?"
      ]
    },
    {
      "cell_type": "code",
      "execution_count": 50,
      "id": "6183f696",
      "metadata": {
        "colab": {
          "base_uri": "https://localhost:8080/",
          "height": 611
        },
        "id": "6183f696",
        "outputId": "80bd22c6-eb41-49ce-f45e-cee6e54663dc"
      },
      "outputs": [
        {
          "output_type": "stream",
          "name": "stdout",
          "text": [
            "\n",
            "=== Average Sales: Weekday vs Weekend ===\n",
            "Weekday: 31.69\n",
            "Weekend: 31.58\n"
          ]
        },
        {
          "output_type": "display_data",
          "data": {
            "text/html": [
              "<html>\n",
              "<head><meta charset=\"utf-8\" /></head>\n",
              "<body>\n",
              "    <div>            <script src=\"https://cdnjs.cloudflare.com/ajax/libs/mathjax/2.7.5/MathJax.js?config=TeX-AMS-MML_SVG\"></script><script type=\"text/javascript\">if (window.MathJax && window.MathJax.Hub && window.MathJax.Hub.Config) {window.MathJax.Hub.Config({SVG: {font: \"STIX-Web\"}});}</script>                <script type=\"text/javascript\">window.PlotlyConfig = {MathJaxConfig: 'local'};</script>\n",
              "        <script charset=\"utf-8\" src=\"https://cdn.plot.ly/plotly-2.35.2.min.js\"></script>                <div id=\"a5b1f0c4-7589-47cd-b7b3-8bbb0c86b1a5\" class=\"plotly-graph-div\" style=\"height:525px; width:100%;\"></div>            <script type=\"text/javascript\">                                    window.PLOTLYENV=window.PLOTLYENV || {};                                    if (document.getElementById(\"a5b1f0c4-7589-47cd-b7b3-8bbb0c86b1a5\")) {                    Plotly.newPlot(                        \"a5b1f0c4-7589-47cd-b7b3-8bbb0c86b1a5\",                        [{\"customdata\":[[\"Weekday\"],[\"Weekend\"]],\"domain\":{\"x\":[0.0,1.0],\"y\":[0.0,1.0]},\"hovertemplate\":\"is_weekend=%{customdata[0]}\\u003cbr\\u003emoney=%{value}\\u003cextra\\u003e\\u003c\\u002fextra\\u003e\",\"labels\":[\"Weekday\",\"Weekend\"],\"legendgroup\":\"\",\"marker\":{\"colors\":[\"skyblue\",\"orange\"]},\"name\":\"\",\"showlegend\":true,\"values\":[31.690188146754465,31.577931034482756],\"type\":\"pie\",\"textinfo\":\"percent+label\",\"textposition\":\"inside\"}],                        {\"template\":{\"data\":{\"histogram2dcontour\":[{\"type\":\"histogram2dcontour\",\"colorbar\":{\"outlinewidth\":0,\"ticks\":\"\"},\"colorscale\":[[0.0,\"#0d0887\"],[0.1111111111111111,\"#46039f\"],[0.2222222222222222,\"#7201a8\"],[0.3333333333333333,\"#9c179e\"],[0.4444444444444444,\"#bd3786\"],[0.5555555555555556,\"#d8576b\"],[0.6666666666666666,\"#ed7953\"],[0.7777777777777778,\"#fb9f3a\"],[0.8888888888888888,\"#fdca26\"],[1.0,\"#f0f921\"]]}],\"choropleth\":[{\"type\":\"choropleth\",\"colorbar\":{\"outlinewidth\":0,\"ticks\":\"\"}}],\"histogram2d\":[{\"type\":\"histogram2d\",\"colorbar\":{\"outlinewidth\":0,\"ticks\":\"\"},\"colorscale\":[[0.0,\"#0d0887\"],[0.1111111111111111,\"#46039f\"],[0.2222222222222222,\"#7201a8\"],[0.3333333333333333,\"#9c179e\"],[0.4444444444444444,\"#bd3786\"],[0.5555555555555556,\"#d8576b\"],[0.6666666666666666,\"#ed7953\"],[0.7777777777777778,\"#fb9f3a\"],[0.8888888888888888,\"#fdca26\"],[1.0,\"#f0f921\"]]}],\"heatmap\":[{\"type\":\"heatmap\",\"colorbar\":{\"outlinewidth\":0,\"ticks\":\"\"},\"colorscale\":[[0.0,\"#0d0887\"],[0.1111111111111111,\"#46039f\"],[0.2222222222222222,\"#7201a8\"],[0.3333333333333333,\"#9c179e\"],[0.4444444444444444,\"#bd3786\"],[0.5555555555555556,\"#d8576b\"],[0.6666666666666666,\"#ed7953\"],[0.7777777777777778,\"#fb9f3a\"],[0.8888888888888888,\"#fdca26\"],[1.0,\"#f0f921\"]]}],\"heatmapgl\":[{\"type\":\"heatmapgl\",\"colorbar\":{\"outlinewidth\":0,\"ticks\":\"\"},\"colorscale\":[[0.0,\"#0d0887\"],[0.1111111111111111,\"#46039f\"],[0.2222222222222222,\"#7201a8\"],[0.3333333333333333,\"#9c179e\"],[0.4444444444444444,\"#bd3786\"],[0.5555555555555556,\"#d8576b\"],[0.6666666666666666,\"#ed7953\"],[0.7777777777777778,\"#fb9f3a\"],[0.8888888888888888,\"#fdca26\"],[1.0,\"#f0f921\"]]}],\"contourcarpet\":[{\"type\":\"contourcarpet\",\"colorbar\":{\"outlinewidth\":0,\"ticks\":\"\"}}],\"contour\":[{\"type\":\"contour\",\"colorbar\":{\"outlinewidth\":0,\"ticks\":\"\"},\"colorscale\":[[0.0,\"#0d0887\"],[0.1111111111111111,\"#46039f\"],[0.2222222222222222,\"#7201a8\"],[0.3333333333333333,\"#9c179e\"],[0.4444444444444444,\"#bd3786\"],[0.5555555555555556,\"#d8576b\"],[0.6666666666666666,\"#ed7953\"],[0.7777777777777778,\"#fb9f3a\"],[0.8888888888888888,\"#fdca26\"],[1.0,\"#f0f921\"]]}],\"surface\":[{\"type\":\"surface\",\"colorbar\":{\"outlinewidth\":0,\"ticks\":\"\"},\"colorscale\":[[0.0,\"#0d0887\"],[0.1111111111111111,\"#46039f\"],[0.2222222222222222,\"#7201a8\"],[0.3333333333333333,\"#9c179e\"],[0.4444444444444444,\"#bd3786\"],[0.5555555555555556,\"#d8576b\"],[0.6666666666666666,\"#ed7953\"],[0.7777777777777778,\"#fb9f3a\"],[0.8888888888888888,\"#fdca26\"],[1.0,\"#f0f921\"]]}],\"mesh3d\":[{\"type\":\"mesh3d\",\"colorbar\":{\"outlinewidth\":0,\"ticks\":\"\"}}],\"scatter\":[{\"fillpattern\":{\"fillmode\":\"overlay\",\"size\":10,\"solidity\":0.2},\"type\":\"scatter\"}],\"parcoords\":[{\"type\":\"parcoords\",\"line\":{\"colorbar\":{\"outlinewidth\":0,\"ticks\":\"\"}}}],\"scatterpolargl\":[{\"type\":\"scatterpolargl\",\"marker\":{\"colorbar\":{\"outlinewidth\":0,\"ticks\":\"\"}}}],\"bar\":[{\"error_x\":{\"color\":\"#2a3f5f\"},\"error_y\":{\"color\":\"#2a3f5f\"},\"marker\":{\"line\":{\"color\":\"#E5ECF6\",\"width\":0.5},\"pattern\":{\"fillmode\":\"overlay\",\"size\":10,\"solidity\":0.2}},\"type\":\"bar\"}],\"scattergeo\":[{\"type\":\"scattergeo\",\"marker\":{\"colorbar\":{\"outlinewidth\":0,\"ticks\":\"\"}}}],\"scatterpolar\":[{\"type\":\"scatterpolar\",\"marker\":{\"colorbar\":{\"outlinewidth\":0,\"ticks\":\"\"}}}],\"histogram\":[{\"marker\":{\"pattern\":{\"fillmode\":\"overlay\",\"size\":10,\"solidity\":0.2}},\"type\":\"histogram\"}],\"scattergl\":[{\"type\":\"scattergl\",\"marker\":{\"colorbar\":{\"outlinewidth\":0,\"ticks\":\"\"}}}],\"scatter3d\":[{\"type\":\"scatter3d\",\"line\":{\"colorbar\":{\"outlinewidth\":0,\"ticks\":\"\"}},\"marker\":{\"colorbar\":{\"outlinewidth\":0,\"ticks\":\"\"}}}],\"scattermapbox\":[{\"type\":\"scattermapbox\",\"marker\":{\"colorbar\":{\"outlinewidth\":0,\"ticks\":\"\"}}}],\"scatterternary\":[{\"type\":\"scatterternary\",\"marker\":{\"colorbar\":{\"outlinewidth\":0,\"ticks\":\"\"}}}],\"scattercarpet\":[{\"type\":\"scattercarpet\",\"marker\":{\"colorbar\":{\"outlinewidth\":0,\"ticks\":\"\"}}}],\"carpet\":[{\"aaxis\":{\"endlinecolor\":\"#2a3f5f\",\"gridcolor\":\"white\",\"linecolor\":\"white\",\"minorgridcolor\":\"white\",\"startlinecolor\":\"#2a3f5f\"},\"baxis\":{\"endlinecolor\":\"#2a3f5f\",\"gridcolor\":\"white\",\"linecolor\":\"white\",\"minorgridcolor\":\"white\",\"startlinecolor\":\"#2a3f5f\"},\"type\":\"carpet\"}],\"table\":[{\"cells\":{\"fill\":{\"color\":\"#EBF0F8\"},\"line\":{\"color\":\"white\"}},\"header\":{\"fill\":{\"color\":\"#C8D4E3\"},\"line\":{\"color\":\"white\"}},\"type\":\"table\"}],\"barpolar\":[{\"marker\":{\"line\":{\"color\":\"#E5ECF6\",\"width\":0.5},\"pattern\":{\"fillmode\":\"overlay\",\"size\":10,\"solidity\":0.2}},\"type\":\"barpolar\"}],\"pie\":[{\"automargin\":true,\"type\":\"pie\"}]},\"layout\":{\"autotypenumbers\":\"strict\",\"colorway\":[\"#636efa\",\"#EF553B\",\"#00cc96\",\"#ab63fa\",\"#FFA15A\",\"#19d3f3\",\"#FF6692\",\"#B6E880\",\"#FF97FF\",\"#FECB52\"],\"font\":{\"color\":\"#2a3f5f\"},\"hovermode\":\"closest\",\"hoverlabel\":{\"align\":\"left\"},\"paper_bgcolor\":\"white\",\"plot_bgcolor\":\"#E5ECF6\",\"polar\":{\"bgcolor\":\"#E5ECF6\",\"angularaxis\":{\"gridcolor\":\"white\",\"linecolor\":\"white\",\"ticks\":\"\"},\"radialaxis\":{\"gridcolor\":\"white\",\"linecolor\":\"white\",\"ticks\":\"\"}},\"ternary\":{\"bgcolor\":\"#E5ECF6\",\"aaxis\":{\"gridcolor\":\"white\",\"linecolor\":\"white\",\"ticks\":\"\"},\"baxis\":{\"gridcolor\":\"white\",\"linecolor\":\"white\",\"ticks\":\"\"},\"caxis\":{\"gridcolor\":\"white\",\"linecolor\":\"white\",\"ticks\":\"\"}},\"coloraxis\":{\"colorbar\":{\"outlinewidth\":0,\"ticks\":\"\"}},\"colorscale\":{\"sequential\":[[0.0,\"#0d0887\"],[0.1111111111111111,\"#46039f\"],[0.2222222222222222,\"#7201a8\"],[0.3333333333333333,\"#9c179e\"],[0.4444444444444444,\"#bd3786\"],[0.5555555555555556,\"#d8576b\"],[0.6666666666666666,\"#ed7953\"],[0.7777777777777778,\"#fb9f3a\"],[0.8888888888888888,\"#fdca26\"],[1.0,\"#f0f921\"]],\"sequentialminus\":[[0.0,\"#0d0887\"],[0.1111111111111111,\"#46039f\"],[0.2222222222222222,\"#7201a8\"],[0.3333333333333333,\"#9c179e\"],[0.4444444444444444,\"#bd3786\"],[0.5555555555555556,\"#d8576b\"],[0.6666666666666666,\"#ed7953\"],[0.7777777777777778,\"#fb9f3a\"],[0.8888888888888888,\"#fdca26\"],[1.0,\"#f0f921\"]],\"diverging\":[[0,\"#8e0152\"],[0.1,\"#c51b7d\"],[0.2,\"#de77ae\"],[0.3,\"#f1b6da\"],[0.4,\"#fde0ef\"],[0.5,\"#f7f7f7\"],[0.6,\"#e6f5d0\"],[0.7,\"#b8e186\"],[0.8,\"#7fbc41\"],[0.9,\"#4d9221\"],[1,\"#276419\"]]},\"xaxis\":{\"gridcolor\":\"white\",\"linecolor\":\"white\",\"ticks\":\"\",\"title\":{\"standoff\":15},\"zerolinecolor\":\"white\",\"automargin\":true,\"zerolinewidth\":2},\"yaxis\":{\"gridcolor\":\"white\",\"linecolor\":\"white\",\"ticks\":\"\",\"title\":{\"standoff\":15},\"zerolinecolor\":\"white\",\"automargin\":true,\"zerolinewidth\":2},\"scene\":{\"xaxis\":{\"backgroundcolor\":\"#E5ECF6\",\"gridcolor\":\"white\",\"linecolor\":\"white\",\"showbackground\":true,\"ticks\":\"\",\"zerolinecolor\":\"white\",\"gridwidth\":2},\"yaxis\":{\"backgroundcolor\":\"#E5ECF6\",\"gridcolor\":\"white\",\"linecolor\":\"white\",\"showbackground\":true,\"ticks\":\"\",\"zerolinecolor\":\"white\",\"gridwidth\":2},\"zaxis\":{\"backgroundcolor\":\"#E5ECF6\",\"gridcolor\":\"white\",\"linecolor\":\"white\",\"showbackground\":true,\"ticks\":\"\",\"zerolinecolor\":\"white\",\"gridwidth\":2}},\"shapedefaults\":{\"line\":{\"color\":\"#2a3f5f\"}},\"annotationdefaults\":{\"arrowcolor\":\"#2a3f5f\",\"arrowhead\":0,\"arrowwidth\":1},\"geo\":{\"bgcolor\":\"white\",\"landcolor\":\"#E5ECF6\",\"subunitcolor\":\"white\",\"showland\":true,\"showlakes\":true,\"lakecolor\":\"white\"},\"title\":{\"x\":0.05},\"mapbox\":{\"style\":\"light\"}}},\"legend\":{\"tracegroupgap\":0},\"title\":{\"text\":\"Average Sales: Weekdays vs Weekends\"}},                        {\"responsive\": true}                    ).then(function(){\n",
              "                            \n",
              "var gd = document.getElementById('a5b1f0c4-7589-47cd-b7b3-8bbb0c86b1a5');\n",
              "var x = new MutationObserver(function (mutations, observer) {{\n",
              "        var display = window.getComputedStyle(gd).display;\n",
              "        if (!display || display === 'none') {{\n",
              "            console.log([gd, 'removed!']);\n",
              "            Plotly.purge(gd);\n",
              "            observer.disconnect();\n",
              "        }}\n",
              "}});\n",
              "\n",
              "// Listen for the removal of the full notebook cells\n",
              "var notebookContainer = gd.closest('#notebook-container');\n",
              "if (notebookContainer) {{\n",
              "    x.observe(notebookContainer, {childList: true});\n",
              "}}\n",
              "\n",
              "// Listen for the clearing of the current output cell\n",
              "var outputEl = gd.closest('.output');\n",
              "if (outputEl) {{\n",
              "    x.observe(outputEl, {childList: true});\n",
              "}}\n",
              "\n",
              "                        })                };                            </script>        </div>\n",
              "</body>\n",
              "</html>"
            ]
          },
          "metadata": {}
        }
      ],
      "source": [
        "# 1. Create a new column for weekend flag\n",
        "df[\"is_weekend\"] = df[\"Weekdaysort\"].apply(lambda x: \"Weekend\" if x >= 5 else \"Weekday\")\n",
        "\n",
        "# 2. Calculate average spending for weekdays vs weekends\n",
        "avg_sales = df.groupby(\"is_weekend\")[\"money\"].mean().reset_index()\n",
        "\n",
        "print(\"\\n=== Average Sales: Weekday vs Weekend ===\")\n",
        "for row in avg_sales.itertuples(index=False):\n",
        "    print(f\"{row.is_weekend}: {round(row.money, 2)}\")\n",
        "\n",
        "# 3. Visualization\n",
        "fig = px.pie(\n",
        "    avg_sales,\n",
        "    names=\"is_weekend\",\n",
        "    values=\"money\",\n",
        "    color=\"is_weekend\",\n",
        "    color_discrete_map={\"Weekday\": \"skyblue\", \"Weekend\": \"orange\"},\n",
        "    title=\"Average Sales: Weekdays vs Weekends\"\n",
        ")\n",
        "\n",
        "fig.update_traces(textposition=\"inside\", textinfo=\"percent+label\")\n",
        "fig.show()\n"
      ]
    },
    {
      "cell_type": "markdown",
      "id": "51518183",
      "metadata": {
        "id": "51518183"
      },
      "source": [
        "### 5- Are there seasonal or monthly trends in coffee sales, and which months generate the highest revenue?  "
      ]
    },
    {
      "cell_type": "code",
      "execution_count": 15,
      "id": "4f68d3ea",
      "metadata": {
        "colab": {
          "base_uri": "https://localhost:8080/",
          "height": 1000
        },
        "id": "4f68d3ea",
        "outputId": "d716f379-21c8-4730-d995-37c565557084"
      },
      "outputs": [
        {
          "output_type": "stream",
          "name": "stdout",
          "text": [
            "\n",
            "=== Monthly Sales Analysis ===\n",
            "Month with highest total sales: Mar → 15891.64\n"
          ]
        },
        {
          "output_type": "display_data",
          "data": {
            "text/html": [
              "<html>\n",
              "<head><meta charset=\"utf-8\" /></head>\n",
              "<body>\n",
              "    <div>            <script src=\"https://cdnjs.cloudflare.com/ajax/libs/mathjax/2.7.5/MathJax.js?config=TeX-AMS-MML_SVG\"></script><script type=\"text/javascript\">if (window.MathJax && window.MathJax.Hub && window.MathJax.Hub.Config) {window.MathJax.Hub.Config({SVG: {font: \"STIX-Web\"}});}</script>                <script type=\"text/javascript\">window.PlotlyConfig = {MathJaxConfig: 'local'};</script>\n",
              "        <script charset=\"utf-8\" src=\"https://cdn.plot.ly/plotly-2.35.2.min.js\"></script>                <div id=\"2c6b2b1d-e792-4086-9a06-ac87d89744ac\" class=\"plotly-graph-div\" style=\"height:525px; width:100%;\"></div>            <script type=\"text/javascript\">                                    window.PLOTLYENV=window.PLOTLYENV || {};                                    if (document.getElementById(\"2c6b2b1d-e792-4086-9a06-ac87d89744ac\")) {                    Plotly.newPlot(                        \"2c6b2b1d-e792-4086-9a06-ac87d89744ac\",                        [{\"hovertemplate\":\"Month=%{x}\\u003cbr\\u003eTotal Sales=%{y}\\u003cbr\\u003eMonth_name=%{text}\\u003cextra\\u003e\\u003c\\u002fextra\\u003e\",\"legendgroup\":\"\",\"line\":{\"color\":\"#636efa\",\"dash\":\"solid\"},\"marker\":{\"symbol\":\"circle\"},\"mode\":\"lines+markers+text\",\"name\":\"\",\"orientation\":\"v\",\"showlegend\":false,\"text\":[\"Jan\",\"Feb\",\"Mar\",\"Apr\",\"May\",\"Jun\",\"Jul\",\"Aug\",\"Sep\",\"Oct\",\"Nov\",\"Dec\"],\"x\":[1,2,3,4,5,6,7,8,9,10,11,12],\"xaxis\":\"x\",\"y\":[6398.86,13215.48,15891.64,5719.56,8164.42,7617.76,6915.9400000000005,7613.84,9988.64,13891.16,8590.539999999999,8237.74],\"yaxis\":\"y\",\"type\":\"scatter\",\"textposition\":\"top center\"}],                        {\"template\":{\"data\":{\"histogram2dcontour\":[{\"type\":\"histogram2dcontour\",\"colorbar\":{\"outlinewidth\":0,\"ticks\":\"\"},\"colorscale\":[[0.0,\"#0d0887\"],[0.1111111111111111,\"#46039f\"],[0.2222222222222222,\"#7201a8\"],[0.3333333333333333,\"#9c179e\"],[0.4444444444444444,\"#bd3786\"],[0.5555555555555556,\"#d8576b\"],[0.6666666666666666,\"#ed7953\"],[0.7777777777777778,\"#fb9f3a\"],[0.8888888888888888,\"#fdca26\"],[1.0,\"#f0f921\"]]}],\"choropleth\":[{\"type\":\"choropleth\",\"colorbar\":{\"outlinewidth\":0,\"ticks\":\"\"}}],\"histogram2d\":[{\"type\":\"histogram2d\",\"colorbar\":{\"outlinewidth\":0,\"ticks\":\"\"},\"colorscale\":[[0.0,\"#0d0887\"],[0.1111111111111111,\"#46039f\"],[0.2222222222222222,\"#7201a8\"],[0.3333333333333333,\"#9c179e\"],[0.4444444444444444,\"#bd3786\"],[0.5555555555555556,\"#d8576b\"],[0.6666666666666666,\"#ed7953\"],[0.7777777777777778,\"#fb9f3a\"],[0.8888888888888888,\"#fdca26\"],[1.0,\"#f0f921\"]]}],\"heatmap\":[{\"type\":\"heatmap\",\"colorbar\":{\"outlinewidth\":0,\"ticks\":\"\"},\"colorscale\":[[0.0,\"#0d0887\"],[0.1111111111111111,\"#46039f\"],[0.2222222222222222,\"#7201a8\"],[0.3333333333333333,\"#9c179e\"],[0.4444444444444444,\"#bd3786\"],[0.5555555555555556,\"#d8576b\"],[0.6666666666666666,\"#ed7953\"],[0.7777777777777778,\"#fb9f3a\"],[0.8888888888888888,\"#fdca26\"],[1.0,\"#f0f921\"]]}],\"heatmapgl\":[{\"type\":\"heatmapgl\",\"colorbar\":{\"outlinewidth\":0,\"ticks\":\"\"},\"colorscale\":[[0.0,\"#0d0887\"],[0.1111111111111111,\"#46039f\"],[0.2222222222222222,\"#7201a8\"],[0.3333333333333333,\"#9c179e\"],[0.4444444444444444,\"#bd3786\"],[0.5555555555555556,\"#d8576b\"],[0.6666666666666666,\"#ed7953\"],[0.7777777777777778,\"#fb9f3a\"],[0.8888888888888888,\"#fdca26\"],[1.0,\"#f0f921\"]]}],\"contourcarpet\":[{\"type\":\"contourcarpet\",\"colorbar\":{\"outlinewidth\":0,\"ticks\":\"\"}}],\"contour\":[{\"type\":\"contour\",\"colorbar\":{\"outlinewidth\":0,\"ticks\":\"\"},\"colorscale\":[[0.0,\"#0d0887\"],[0.1111111111111111,\"#46039f\"],[0.2222222222222222,\"#7201a8\"],[0.3333333333333333,\"#9c179e\"],[0.4444444444444444,\"#bd3786\"],[0.5555555555555556,\"#d8576b\"],[0.6666666666666666,\"#ed7953\"],[0.7777777777777778,\"#fb9f3a\"],[0.8888888888888888,\"#fdca26\"],[1.0,\"#f0f921\"]]}],\"surface\":[{\"type\":\"surface\",\"colorbar\":{\"outlinewidth\":0,\"ticks\":\"\"},\"colorscale\":[[0.0,\"#0d0887\"],[0.1111111111111111,\"#46039f\"],[0.2222222222222222,\"#7201a8\"],[0.3333333333333333,\"#9c179e\"],[0.4444444444444444,\"#bd3786\"],[0.5555555555555556,\"#d8576b\"],[0.6666666666666666,\"#ed7953\"],[0.7777777777777778,\"#fb9f3a\"],[0.8888888888888888,\"#fdca26\"],[1.0,\"#f0f921\"]]}],\"mesh3d\":[{\"type\":\"mesh3d\",\"colorbar\":{\"outlinewidth\":0,\"ticks\":\"\"}}],\"scatter\":[{\"fillpattern\":{\"fillmode\":\"overlay\",\"size\":10,\"solidity\":0.2},\"type\":\"scatter\"}],\"parcoords\":[{\"type\":\"parcoords\",\"line\":{\"colorbar\":{\"outlinewidth\":0,\"ticks\":\"\"}}}],\"scatterpolargl\":[{\"type\":\"scatterpolargl\",\"marker\":{\"colorbar\":{\"outlinewidth\":0,\"ticks\":\"\"}}}],\"bar\":[{\"error_x\":{\"color\":\"#2a3f5f\"},\"error_y\":{\"color\":\"#2a3f5f\"},\"marker\":{\"line\":{\"color\":\"#E5ECF6\",\"width\":0.5},\"pattern\":{\"fillmode\":\"overlay\",\"size\":10,\"solidity\":0.2}},\"type\":\"bar\"}],\"scattergeo\":[{\"type\":\"scattergeo\",\"marker\":{\"colorbar\":{\"outlinewidth\":0,\"ticks\":\"\"}}}],\"scatterpolar\":[{\"type\":\"scatterpolar\",\"marker\":{\"colorbar\":{\"outlinewidth\":0,\"ticks\":\"\"}}}],\"histogram\":[{\"marker\":{\"pattern\":{\"fillmode\":\"overlay\",\"size\":10,\"solidity\":0.2}},\"type\":\"histogram\"}],\"scattergl\":[{\"type\":\"scattergl\",\"marker\":{\"colorbar\":{\"outlinewidth\":0,\"ticks\":\"\"}}}],\"scatter3d\":[{\"type\":\"scatter3d\",\"line\":{\"colorbar\":{\"outlinewidth\":0,\"ticks\":\"\"}},\"marker\":{\"colorbar\":{\"outlinewidth\":0,\"ticks\":\"\"}}}],\"scattermapbox\":[{\"type\":\"scattermapbox\",\"marker\":{\"colorbar\":{\"outlinewidth\":0,\"ticks\":\"\"}}}],\"scatterternary\":[{\"type\":\"scatterternary\",\"marker\":{\"colorbar\":{\"outlinewidth\":0,\"ticks\":\"\"}}}],\"scattercarpet\":[{\"type\":\"scattercarpet\",\"marker\":{\"colorbar\":{\"outlinewidth\":0,\"ticks\":\"\"}}}],\"carpet\":[{\"aaxis\":{\"endlinecolor\":\"#2a3f5f\",\"gridcolor\":\"white\",\"linecolor\":\"white\",\"minorgridcolor\":\"white\",\"startlinecolor\":\"#2a3f5f\"},\"baxis\":{\"endlinecolor\":\"#2a3f5f\",\"gridcolor\":\"white\",\"linecolor\":\"white\",\"minorgridcolor\":\"white\",\"startlinecolor\":\"#2a3f5f\"},\"type\":\"carpet\"}],\"table\":[{\"cells\":{\"fill\":{\"color\":\"#EBF0F8\"},\"line\":{\"color\":\"white\"}},\"header\":{\"fill\":{\"color\":\"#C8D4E3\"},\"line\":{\"color\":\"white\"}},\"type\":\"table\"}],\"barpolar\":[{\"marker\":{\"line\":{\"color\":\"#E5ECF6\",\"width\":0.5},\"pattern\":{\"fillmode\":\"overlay\",\"size\":10,\"solidity\":0.2}},\"type\":\"barpolar\"}],\"pie\":[{\"automargin\":true,\"type\":\"pie\"}]},\"layout\":{\"autotypenumbers\":\"strict\",\"colorway\":[\"#636efa\",\"#EF553B\",\"#00cc96\",\"#ab63fa\",\"#FFA15A\",\"#19d3f3\",\"#FF6692\",\"#B6E880\",\"#FF97FF\",\"#FECB52\"],\"font\":{\"color\":\"#2a3f5f\"},\"hovermode\":\"closest\",\"hoverlabel\":{\"align\":\"left\"},\"paper_bgcolor\":\"white\",\"plot_bgcolor\":\"#E5ECF6\",\"polar\":{\"bgcolor\":\"#E5ECF6\",\"angularaxis\":{\"gridcolor\":\"white\",\"linecolor\":\"white\",\"ticks\":\"\"},\"radialaxis\":{\"gridcolor\":\"white\",\"linecolor\":\"white\",\"ticks\":\"\"}},\"ternary\":{\"bgcolor\":\"#E5ECF6\",\"aaxis\":{\"gridcolor\":\"white\",\"linecolor\":\"white\",\"ticks\":\"\"},\"baxis\":{\"gridcolor\":\"white\",\"linecolor\":\"white\",\"ticks\":\"\"},\"caxis\":{\"gridcolor\":\"white\",\"linecolor\":\"white\",\"ticks\":\"\"}},\"coloraxis\":{\"colorbar\":{\"outlinewidth\":0,\"ticks\":\"\"}},\"colorscale\":{\"sequential\":[[0.0,\"#0d0887\"],[0.1111111111111111,\"#46039f\"],[0.2222222222222222,\"#7201a8\"],[0.3333333333333333,\"#9c179e\"],[0.4444444444444444,\"#bd3786\"],[0.5555555555555556,\"#d8576b\"],[0.6666666666666666,\"#ed7953\"],[0.7777777777777778,\"#fb9f3a\"],[0.8888888888888888,\"#fdca26\"],[1.0,\"#f0f921\"]],\"sequentialminus\":[[0.0,\"#0d0887\"],[0.1111111111111111,\"#46039f\"],[0.2222222222222222,\"#7201a8\"],[0.3333333333333333,\"#9c179e\"],[0.4444444444444444,\"#bd3786\"],[0.5555555555555556,\"#d8576b\"],[0.6666666666666666,\"#ed7953\"],[0.7777777777777778,\"#fb9f3a\"],[0.8888888888888888,\"#fdca26\"],[1.0,\"#f0f921\"]],\"diverging\":[[0,\"#8e0152\"],[0.1,\"#c51b7d\"],[0.2,\"#de77ae\"],[0.3,\"#f1b6da\"],[0.4,\"#fde0ef\"],[0.5,\"#f7f7f7\"],[0.6,\"#e6f5d0\"],[0.7,\"#b8e186\"],[0.8,\"#7fbc41\"],[0.9,\"#4d9221\"],[1,\"#276419\"]]},\"xaxis\":{\"gridcolor\":\"white\",\"linecolor\":\"white\",\"ticks\":\"\",\"title\":{\"standoff\":15},\"zerolinecolor\":\"white\",\"automargin\":true,\"zerolinewidth\":2},\"yaxis\":{\"gridcolor\":\"white\",\"linecolor\":\"white\",\"ticks\":\"\",\"title\":{\"standoff\":15},\"zerolinecolor\":\"white\",\"automargin\":true,\"zerolinewidth\":2},\"scene\":{\"xaxis\":{\"backgroundcolor\":\"#E5ECF6\",\"gridcolor\":\"white\",\"linecolor\":\"white\",\"showbackground\":true,\"ticks\":\"\",\"zerolinecolor\":\"white\",\"gridwidth\":2},\"yaxis\":{\"backgroundcolor\":\"#E5ECF6\",\"gridcolor\":\"white\",\"linecolor\":\"white\",\"showbackground\":true,\"ticks\":\"\",\"zerolinecolor\":\"white\",\"gridwidth\":2},\"zaxis\":{\"backgroundcolor\":\"#E5ECF6\",\"gridcolor\":\"white\",\"linecolor\":\"white\",\"showbackground\":true,\"ticks\":\"\",\"zerolinecolor\":\"white\",\"gridwidth\":2}},\"shapedefaults\":{\"line\":{\"color\":\"#2a3f5f\"}},\"annotationdefaults\":{\"arrowcolor\":\"#2a3f5f\",\"arrowhead\":0,\"arrowwidth\":1},\"geo\":{\"bgcolor\":\"white\",\"landcolor\":\"#E5ECF6\",\"subunitcolor\":\"white\",\"showland\":true,\"showlakes\":true,\"lakecolor\":\"white\"},\"title\":{\"x\":0.05},\"mapbox\":{\"style\":\"light\"}}},\"xaxis\":{\"anchor\":\"y\",\"domain\":[0.0,1.0],\"title\":{\"text\":\"Month\"},\"tickmode\":\"array\",\"tickvals\":[1,2,3,4,5,6,7,8,9,10,11,12],\"ticktext\":[\"Jan\",\"Feb\",\"Mar\",\"Apr\",\"May\",\"Jun\",\"Jul\",\"Aug\",\"Sep\",\"Oct\",\"Nov\",\"Dec\"]},\"yaxis\":{\"anchor\":\"x\",\"domain\":[0.0,1.0],\"title\":{\"text\":\"Total Sales\"}},\"legend\":{\"tracegroupgap\":0},\"title\":{\"text\":\"Monthly Coffee Sales Trend\"}},                        {\"responsive\": true}                    ).then(function(){\n",
              "                            \n",
              "var gd = document.getElementById('2c6b2b1d-e792-4086-9a06-ac87d89744ac');\n",
              "var x = new MutationObserver(function (mutations, observer) {{\n",
              "        var display = window.getComputedStyle(gd).display;\n",
              "        if (!display || display === 'none') {{\n",
              "            console.log([gd, 'removed!']);\n",
              "            Plotly.purge(gd);\n",
              "            observer.disconnect();\n",
              "        }}\n",
              "}});\n",
              "\n",
              "// Listen for the removal of the full notebook cells\n",
              "var notebookContainer = gd.closest('#notebook-container');\n",
              "if (notebookContainer) {{\n",
              "    x.observe(notebookContainer, {childList: true});\n",
              "}}\n",
              "\n",
              "// Listen for the clearing of the current output cell\n",
              "var outputEl = gd.closest('.output');\n",
              "if (outputEl) {{\n",
              "    x.observe(outputEl, {childList: true});\n",
              "}}\n",
              "\n",
              "                        })                };                            </script>        </div>\n",
              "</body>\n",
              "</html>"
            ]
          },
          "metadata": {}
        },
        {
          "output_type": "display_data",
          "data": {
            "text/html": [
              "<html>\n",
              "<head><meta charset=\"utf-8\" /></head>\n",
              "<body>\n",
              "    <div>            <script src=\"https://cdnjs.cloudflare.com/ajax/libs/mathjax/2.7.5/MathJax.js?config=TeX-AMS-MML_SVG\"></script><script type=\"text/javascript\">if (window.MathJax && window.MathJax.Hub && window.MathJax.Hub.Config) {window.MathJax.Hub.Config({SVG: {font: \"STIX-Web\"}});}</script>                <script type=\"text/javascript\">window.PlotlyConfig = {MathJaxConfig: 'local'};</script>\n",
              "        <script charset=\"utf-8\" src=\"https://cdn.plot.ly/plotly-2.35.2.min.js\"></script>                <div id=\"78e40463-2c1e-4390-b572-5a8d56a19f55\" class=\"plotly-graph-div\" style=\"height:525px; width:100%;\"></div>            <script type=\"text/javascript\">                                    window.PLOTLYENV=window.PLOTLYENV || {};                                    if (document.getElementById(\"78e40463-2c1e-4390-b572-5a8d56a19f55\")) {                    Plotly.newPlot(                        \"78e40463-2c1e-4390-b572-5a8d56a19f55\",                        [{\"alignmentgroup\":\"True\",\"hovertemplate\":\"Month=%{x}\\u003cbr\\u003eTotal Sales=%{marker.color}\\u003cextra\\u003e\\u003c\\u002fextra\\u003e\",\"legendgroup\":\"\",\"marker\":{\"color\":[6398.86,13215.48,15891.64,5719.56,8164.42,7617.76,6915.9400000000005,7613.84,9988.64,13891.16,8590.539999999999,8237.74],\"coloraxis\":\"coloraxis\",\"pattern\":{\"shape\":\"\"}},\"name\":\"\",\"offsetgroup\":\"\",\"orientation\":\"v\",\"showlegend\":false,\"textposition\":\"auto\",\"x\":[\"Jan\",\"Feb\",\"Mar\",\"Apr\",\"May\",\"Jun\",\"Jul\",\"Aug\",\"Sep\",\"Oct\",\"Nov\",\"Dec\"],\"xaxis\":\"x\",\"y\":[6398.86,13215.48,15891.64,5719.56,8164.42,7617.76,6915.9400000000005,7613.84,9988.64,13891.16,8590.539999999999,8237.74],\"yaxis\":\"y\",\"type\":\"bar\"}],                        {\"template\":{\"data\":{\"histogram2dcontour\":[{\"type\":\"histogram2dcontour\",\"colorbar\":{\"outlinewidth\":0,\"ticks\":\"\"},\"colorscale\":[[0.0,\"#0d0887\"],[0.1111111111111111,\"#46039f\"],[0.2222222222222222,\"#7201a8\"],[0.3333333333333333,\"#9c179e\"],[0.4444444444444444,\"#bd3786\"],[0.5555555555555556,\"#d8576b\"],[0.6666666666666666,\"#ed7953\"],[0.7777777777777778,\"#fb9f3a\"],[0.8888888888888888,\"#fdca26\"],[1.0,\"#f0f921\"]]}],\"choropleth\":[{\"type\":\"choropleth\",\"colorbar\":{\"outlinewidth\":0,\"ticks\":\"\"}}],\"histogram2d\":[{\"type\":\"histogram2d\",\"colorbar\":{\"outlinewidth\":0,\"ticks\":\"\"},\"colorscale\":[[0.0,\"#0d0887\"],[0.1111111111111111,\"#46039f\"],[0.2222222222222222,\"#7201a8\"],[0.3333333333333333,\"#9c179e\"],[0.4444444444444444,\"#bd3786\"],[0.5555555555555556,\"#d8576b\"],[0.6666666666666666,\"#ed7953\"],[0.7777777777777778,\"#fb9f3a\"],[0.8888888888888888,\"#fdca26\"],[1.0,\"#f0f921\"]]}],\"heatmap\":[{\"type\":\"heatmap\",\"colorbar\":{\"outlinewidth\":0,\"ticks\":\"\"},\"colorscale\":[[0.0,\"#0d0887\"],[0.1111111111111111,\"#46039f\"],[0.2222222222222222,\"#7201a8\"],[0.3333333333333333,\"#9c179e\"],[0.4444444444444444,\"#bd3786\"],[0.5555555555555556,\"#d8576b\"],[0.6666666666666666,\"#ed7953\"],[0.7777777777777778,\"#fb9f3a\"],[0.8888888888888888,\"#fdca26\"],[1.0,\"#f0f921\"]]}],\"heatmapgl\":[{\"type\":\"heatmapgl\",\"colorbar\":{\"outlinewidth\":0,\"ticks\":\"\"},\"colorscale\":[[0.0,\"#0d0887\"],[0.1111111111111111,\"#46039f\"],[0.2222222222222222,\"#7201a8\"],[0.3333333333333333,\"#9c179e\"],[0.4444444444444444,\"#bd3786\"],[0.5555555555555556,\"#d8576b\"],[0.6666666666666666,\"#ed7953\"],[0.7777777777777778,\"#fb9f3a\"],[0.8888888888888888,\"#fdca26\"],[1.0,\"#f0f921\"]]}],\"contourcarpet\":[{\"type\":\"contourcarpet\",\"colorbar\":{\"outlinewidth\":0,\"ticks\":\"\"}}],\"contour\":[{\"type\":\"contour\",\"colorbar\":{\"outlinewidth\":0,\"ticks\":\"\"},\"colorscale\":[[0.0,\"#0d0887\"],[0.1111111111111111,\"#46039f\"],[0.2222222222222222,\"#7201a8\"],[0.3333333333333333,\"#9c179e\"],[0.4444444444444444,\"#bd3786\"],[0.5555555555555556,\"#d8576b\"],[0.6666666666666666,\"#ed7953\"],[0.7777777777777778,\"#fb9f3a\"],[0.8888888888888888,\"#fdca26\"],[1.0,\"#f0f921\"]]}],\"surface\":[{\"type\":\"surface\",\"colorbar\":{\"outlinewidth\":0,\"ticks\":\"\"},\"colorscale\":[[0.0,\"#0d0887\"],[0.1111111111111111,\"#46039f\"],[0.2222222222222222,\"#7201a8\"],[0.3333333333333333,\"#9c179e\"],[0.4444444444444444,\"#bd3786\"],[0.5555555555555556,\"#d8576b\"],[0.6666666666666666,\"#ed7953\"],[0.7777777777777778,\"#fb9f3a\"],[0.8888888888888888,\"#fdca26\"],[1.0,\"#f0f921\"]]}],\"mesh3d\":[{\"type\":\"mesh3d\",\"colorbar\":{\"outlinewidth\":0,\"ticks\":\"\"}}],\"scatter\":[{\"fillpattern\":{\"fillmode\":\"overlay\",\"size\":10,\"solidity\":0.2},\"type\":\"scatter\"}],\"parcoords\":[{\"type\":\"parcoords\",\"line\":{\"colorbar\":{\"outlinewidth\":0,\"ticks\":\"\"}}}],\"scatterpolargl\":[{\"type\":\"scatterpolargl\",\"marker\":{\"colorbar\":{\"outlinewidth\":0,\"ticks\":\"\"}}}],\"bar\":[{\"error_x\":{\"color\":\"#2a3f5f\"},\"error_y\":{\"color\":\"#2a3f5f\"},\"marker\":{\"line\":{\"color\":\"#E5ECF6\",\"width\":0.5},\"pattern\":{\"fillmode\":\"overlay\",\"size\":10,\"solidity\":0.2}},\"type\":\"bar\"}],\"scattergeo\":[{\"type\":\"scattergeo\",\"marker\":{\"colorbar\":{\"outlinewidth\":0,\"ticks\":\"\"}}}],\"scatterpolar\":[{\"type\":\"scatterpolar\",\"marker\":{\"colorbar\":{\"outlinewidth\":0,\"ticks\":\"\"}}}],\"histogram\":[{\"marker\":{\"pattern\":{\"fillmode\":\"overlay\",\"size\":10,\"solidity\":0.2}},\"type\":\"histogram\"}],\"scattergl\":[{\"type\":\"scattergl\",\"marker\":{\"colorbar\":{\"outlinewidth\":0,\"ticks\":\"\"}}}],\"scatter3d\":[{\"type\":\"scatter3d\",\"line\":{\"colorbar\":{\"outlinewidth\":0,\"ticks\":\"\"}},\"marker\":{\"colorbar\":{\"outlinewidth\":0,\"ticks\":\"\"}}}],\"scattermapbox\":[{\"type\":\"scattermapbox\",\"marker\":{\"colorbar\":{\"outlinewidth\":0,\"ticks\":\"\"}}}],\"scatterternary\":[{\"type\":\"scatterternary\",\"marker\":{\"colorbar\":{\"outlinewidth\":0,\"ticks\":\"\"}}}],\"scattercarpet\":[{\"type\":\"scattercarpet\",\"marker\":{\"colorbar\":{\"outlinewidth\":0,\"ticks\":\"\"}}}],\"carpet\":[{\"aaxis\":{\"endlinecolor\":\"#2a3f5f\",\"gridcolor\":\"white\",\"linecolor\":\"white\",\"minorgridcolor\":\"white\",\"startlinecolor\":\"#2a3f5f\"},\"baxis\":{\"endlinecolor\":\"#2a3f5f\",\"gridcolor\":\"white\",\"linecolor\":\"white\",\"minorgridcolor\":\"white\",\"startlinecolor\":\"#2a3f5f\"},\"type\":\"carpet\"}],\"table\":[{\"cells\":{\"fill\":{\"color\":\"#EBF0F8\"},\"line\":{\"color\":\"white\"}},\"header\":{\"fill\":{\"color\":\"#C8D4E3\"},\"line\":{\"color\":\"white\"}},\"type\":\"table\"}],\"barpolar\":[{\"marker\":{\"line\":{\"color\":\"#E5ECF6\",\"width\":0.5},\"pattern\":{\"fillmode\":\"overlay\",\"size\":10,\"solidity\":0.2}},\"type\":\"barpolar\"}],\"pie\":[{\"automargin\":true,\"type\":\"pie\"}]},\"layout\":{\"autotypenumbers\":\"strict\",\"colorway\":[\"#636efa\",\"#EF553B\",\"#00cc96\",\"#ab63fa\",\"#FFA15A\",\"#19d3f3\",\"#FF6692\",\"#B6E880\",\"#FF97FF\",\"#FECB52\"],\"font\":{\"color\":\"#2a3f5f\"},\"hovermode\":\"closest\",\"hoverlabel\":{\"align\":\"left\"},\"paper_bgcolor\":\"white\",\"plot_bgcolor\":\"#E5ECF6\",\"polar\":{\"bgcolor\":\"#E5ECF6\",\"angularaxis\":{\"gridcolor\":\"white\",\"linecolor\":\"white\",\"ticks\":\"\"},\"radialaxis\":{\"gridcolor\":\"white\",\"linecolor\":\"white\",\"ticks\":\"\"}},\"ternary\":{\"bgcolor\":\"#E5ECF6\",\"aaxis\":{\"gridcolor\":\"white\",\"linecolor\":\"white\",\"ticks\":\"\"},\"baxis\":{\"gridcolor\":\"white\",\"linecolor\":\"white\",\"ticks\":\"\"},\"caxis\":{\"gridcolor\":\"white\",\"linecolor\":\"white\",\"ticks\":\"\"}},\"coloraxis\":{\"colorbar\":{\"outlinewidth\":0,\"ticks\":\"\"}},\"colorscale\":{\"sequential\":[[0.0,\"#0d0887\"],[0.1111111111111111,\"#46039f\"],[0.2222222222222222,\"#7201a8\"],[0.3333333333333333,\"#9c179e\"],[0.4444444444444444,\"#bd3786\"],[0.5555555555555556,\"#d8576b\"],[0.6666666666666666,\"#ed7953\"],[0.7777777777777778,\"#fb9f3a\"],[0.8888888888888888,\"#fdca26\"],[1.0,\"#f0f921\"]],\"sequentialminus\":[[0.0,\"#0d0887\"],[0.1111111111111111,\"#46039f\"],[0.2222222222222222,\"#7201a8\"],[0.3333333333333333,\"#9c179e\"],[0.4444444444444444,\"#bd3786\"],[0.5555555555555556,\"#d8576b\"],[0.6666666666666666,\"#ed7953\"],[0.7777777777777778,\"#fb9f3a\"],[0.8888888888888888,\"#fdca26\"],[1.0,\"#f0f921\"]],\"diverging\":[[0,\"#8e0152\"],[0.1,\"#c51b7d\"],[0.2,\"#de77ae\"],[0.3,\"#f1b6da\"],[0.4,\"#fde0ef\"],[0.5,\"#f7f7f7\"],[0.6,\"#e6f5d0\"],[0.7,\"#b8e186\"],[0.8,\"#7fbc41\"],[0.9,\"#4d9221\"],[1,\"#276419\"]]},\"xaxis\":{\"gridcolor\":\"white\",\"linecolor\":\"white\",\"ticks\":\"\",\"title\":{\"standoff\":15},\"zerolinecolor\":\"white\",\"automargin\":true,\"zerolinewidth\":2},\"yaxis\":{\"gridcolor\":\"white\",\"linecolor\":\"white\",\"ticks\":\"\",\"title\":{\"standoff\":15},\"zerolinecolor\":\"white\",\"automargin\":true,\"zerolinewidth\":2},\"scene\":{\"xaxis\":{\"backgroundcolor\":\"#E5ECF6\",\"gridcolor\":\"white\",\"linecolor\":\"white\",\"showbackground\":true,\"ticks\":\"\",\"zerolinecolor\":\"white\",\"gridwidth\":2},\"yaxis\":{\"backgroundcolor\":\"#E5ECF6\",\"gridcolor\":\"white\",\"linecolor\":\"white\",\"showbackground\":true,\"ticks\":\"\",\"zerolinecolor\":\"white\",\"gridwidth\":2},\"zaxis\":{\"backgroundcolor\":\"#E5ECF6\",\"gridcolor\":\"white\",\"linecolor\":\"white\",\"showbackground\":true,\"ticks\":\"\",\"zerolinecolor\":\"white\",\"gridwidth\":2}},\"shapedefaults\":{\"line\":{\"color\":\"#2a3f5f\"}},\"annotationdefaults\":{\"arrowcolor\":\"#2a3f5f\",\"arrowhead\":0,\"arrowwidth\":1},\"geo\":{\"bgcolor\":\"white\",\"landcolor\":\"#E5ECF6\",\"subunitcolor\":\"white\",\"showland\":true,\"showlakes\":true,\"lakecolor\":\"white\"},\"title\":{\"x\":0.05},\"mapbox\":{\"style\":\"light\"}}},\"xaxis\":{\"anchor\":\"y\",\"domain\":[0.0,1.0],\"title\":{\"text\":\"Month\"}},\"yaxis\":{\"anchor\":\"x\",\"domain\":[0.0,1.0],\"title\":{\"text\":\"Total Sales\"}},\"coloraxis\":{\"colorbar\":{\"title\":{\"text\":\"Total Sales\"}},\"colorscale\":[[0.0,\"rgb(176, 242, 188)\"],[0.16666666666666666,\"rgb(137, 232, 172)\"],[0.3333333333333333,\"rgb(103, 219, 165)\"],[0.5,\"rgb(76, 200, 163)\"],[0.6666666666666666,\"rgb(56, 178, 163)\"],[0.8333333333333334,\"rgb(44, 152, 160)\"],[1.0,\"rgb(37, 125, 152)\"]]},\"legend\":{\"tracegroupgap\":0},\"title\":{\"text\":\"Total Coffee Sales by Month\"},\"barmode\":\"relative\"},                        {\"responsive\": true}                    ).then(function(){\n",
              "                            \n",
              "var gd = document.getElementById('78e40463-2c1e-4390-b572-5a8d56a19f55');\n",
              "var x = new MutationObserver(function (mutations, observer) {{\n",
              "        var display = window.getComputedStyle(gd).display;\n",
              "        if (!display || display === 'none') {{\n",
              "            console.log([gd, 'removed!']);\n",
              "            Plotly.purge(gd);\n",
              "            observer.disconnect();\n",
              "        }}\n",
              "}});\n",
              "\n",
              "// Listen for the removal of the full notebook cells\n",
              "var notebookContainer = gd.closest('#notebook-container');\n",
              "if (notebookContainer) {{\n",
              "    x.observe(notebookContainer, {childList: true});\n",
              "}}\n",
              "\n",
              "// Listen for the clearing of the current output cell\n",
              "var outputEl = gd.closest('.output');\n",
              "if (outputEl) {{\n",
              "    x.observe(outputEl, {childList: true});\n",
              "}}\n",
              "\n",
              "                        })                };                            </script>        </div>\n",
              "</body>\n",
              "</html>"
            ]
          },
          "metadata": {}
        },
        {
          "output_type": "stream",
          "name": "stdout",
          "text": [
            "\n",
            "=== Seasonal Sales Analysis ===\n",
            "Season with highest total sales: Autumn → 32470.34\n"
          ]
        },
        {
          "output_type": "display_data",
          "data": {
            "text/html": [
              "<html>\n",
              "<head><meta charset=\"utf-8\" /></head>\n",
              "<body>\n",
              "    <div>            <script src=\"https://cdnjs.cloudflare.com/ajax/libs/mathjax/2.7.5/MathJax.js?config=TeX-AMS-MML_SVG\"></script><script type=\"text/javascript\">if (window.MathJax && window.MathJax.Hub && window.MathJax.Hub.Config) {window.MathJax.Hub.Config({SVG: {font: \"STIX-Web\"}});}</script>                <script type=\"text/javascript\">window.PlotlyConfig = {MathJaxConfig: 'local'};</script>\n",
              "        <script charset=\"utf-8\" src=\"https://cdn.plot.ly/plotly-2.35.2.min.js\"></script>                <div id=\"58f79487-2436-461e-8c1f-42e4f68c0ea1\" class=\"plotly-graph-div\" style=\"height:525px; width:100%;\"></div>            <script type=\"text/javascript\">                                    window.PLOTLYENV=window.PLOTLYENV || {};                                    if (document.getElementById(\"58f79487-2436-461e-8c1f-42e4f68c0ea1\")) {                    Plotly.newPlot(                        \"58f79487-2436-461e-8c1f-42e4f68c0ea1\",                        [{\"alignmentgroup\":\"True\",\"hovertemplate\":\"Season=%{x}\\u003cbr\\u003eTotal Sales=%{marker.color}\\u003cextra\\u003e\\u003c\\u002fextra\\u003e\",\"legendgroup\":\"\",\"marker\":{\"color\":[32470.34,29775.62,22147.54,27852.079999999998],\"coloraxis\":\"coloraxis\",\"pattern\":{\"shape\":\"\"}},\"name\":\"\",\"offsetgroup\":\"\",\"orientation\":\"v\",\"showlegend\":false,\"textposition\":\"auto\",\"x\":[\"Autumn\",\"Spring\",\"Summer\",\"Winter\"],\"xaxis\":\"x\",\"y\":[32470.34,29775.62,22147.54,27852.079999999998],\"yaxis\":\"y\",\"type\":\"bar\"}],                        {\"template\":{\"data\":{\"histogram2dcontour\":[{\"type\":\"histogram2dcontour\",\"colorbar\":{\"outlinewidth\":0,\"ticks\":\"\"},\"colorscale\":[[0.0,\"#0d0887\"],[0.1111111111111111,\"#46039f\"],[0.2222222222222222,\"#7201a8\"],[0.3333333333333333,\"#9c179e\"],[0.4444444444444444,\"#bd3786\"],[0.5555555555555556,\"#d8576b\"],[0.6666666666666666,\"#ed7953\"],[0.7777777777777778,\"#fb9f3a\"],[0.8888888888888888,\"#fdca26\"],[1.0,\"#f0f921\"]]}],\"choropleth\":[{\"type\":\"choropleth\",\"colorbar\":{\"outlinewidth\":0,\"ticks\":\"\"}}],\"histogram2d\":[{\"type\":\"histogram2d\",\"colorbar\":{\"outlinewidth\":0,\"ticks\":\"\"},\"colorscale\":[[0.0,\"#0d0887\"],[0.1111111111111111,\"#46039f\"],[0.2222222222222222,\"#7201a8\"],[0.3333333333333333,\"#9c179e\"],[0.4444444444444444,\"#bd3786\"],[0.5555555555555556,\"#d8576b\"],[0.6666666666666666,\"#ed7953\"],[0.7777777777777778,\"#fb9f3a\"],[0.8888888888888888,\"#fdca26\"],[1.0,\"#f0f921\"]]}],\"heatmap\":[{\"type\":\"heatmap\",\"colorbar\":{\"outlinewidth\":0,\"ticks\":\"\"},\"colorscale\":[[0.0,\"#0d0887\"],[0.1111111111111111,\"#46039f\"],[0.2222222222222222,\"#7201a8\"],[0.3333333333333333,\"#9c179e\"],[0.4444444444444444,\"#bd3786\"],[0.5555555555555556,\"#d8576b\"],[0.6666666666666666,\"#ed7953\"],[0.7777777777777778,\"#fb9f3a\"],[0.8888888888888888,\"#fdca26\"],[1.0,\"#f0f921\"]]}],\"heatmapgl\":[{\"type\":\"heatmapgl\",\"colorbar\":{\"outlinewidth\":0,\"ticks\":\"\"},\"colorscale\":[[0.0,\"#0d0887\"],[0.1111111111111111,\"#46039f\"],[0.2222222222222222,\"#7201a8\"],[0.3333333333333333,\"#9c179e\"],[0.4444444444444444,\"#bd3786\"],[0.5555555555555556,\"#d8576b\"],[0.6666666666666666,\"#ed7953\"],[0.7777777777777778,\"#fb9f3a\"],[0.8888888888888888,\"#fdca26\"],[1.0,\"#f0f921\"]]}],\"contourcarpet\":[{\"type\":\"contourcarpet\",\"colorbar\":{\"outlinewidth\":0,\"ticks\":\"\"}}],\"contour\":[{\"type\":\"contour\",\"colorbar\":{\"outlinewidth\":0,\"ticks\":\"\"},\"colorscale\":[[0.0,\"#0d0887\"],[0.1111111111111111,\"#46039f\"],[0.2222222222222222,\"#7201a8\"],[0.3333333333333333,\"#9c179e\"],[0.4444444444444444,\"#bd3786\"],[0.5555555555555556,\"#d8576b\"],[0.6666666666666666,\"#ed7953\"],[0.7777777777777778,\"#fb9f3a\"],[0.8888888888888888,\"#fdca26\"],[1.0,\"#f0f921\"]]}],\"surface\":[{\"type\":\"surface\",\"colorbar\":{\"outlinewidth\":0,\"ticks\":\"\"},\"colorscale\":[[0.0,\"#0d0887\"],[0.1111111111111111,\"#46039f\"],[0.2222222222222222,\"#7201a8\"],[0.3333333333333333,\"#9c179e\"],[0.4444444444444444,\"#bd3786\"],[0.5555555555555556,\"#d8576b\"],[0.6666666666666666,\"#ed7953\"],[0.7777777777777778,\"#fb9f3a\"],[0.8888888888888888,\"#fdca26\"],[1.0,\"#f0f921\"]]}],\"mesh3d\":[{\"type\":\"mesh3d\",\"colorbar\":{\"outlinewidth\":0,\"ticks\":\"\"}}],\"scatter\":[{\"fillpattern\":{\"fillmode\":\"overlay\",\"size\":10,\"solidity\":0.2},\"type\":\"scatter\"}],\"parcoords\":[{\"type\":\"parcoords\",\"line\":{\"colorbar\":{\"outlinewidth\":0,\"ticks\":\"\"}}}],\"scatterpolargl\":[{\"type\":\"scatterpolargl\",\"marker\":{\"colorbar\":{\"outlinewidth\":0,\"ticks\":\"\"}}}],\"bar\":[{\"error_x\":{\"color\":\"#2a3f5f\"},\"error_y\":{\"color\":\"#2a3f5f\"},\"marker\":{\"line\":{\"color\":\"#E5ECF6\",\"width\":0.5},\"pattern\":{\"fillmode\":\"overlay\",\"size\":10,\"solidity\":0.2}},\"type\":\"bar\"}],\"scattergeo\":[{\"type\":\"scattergeo\",\"marker\":{\"colorbar\":{\"outlinewidth\":0,\"ticks\":\"\"}}}],\"scatterpolar\":[{\"type\":\"scatterpolar\",\"marker\":{\"colorbar\":{\"outlinewidth\":0,\"ticks\":\"\"}}}],\"histogram\":[{\"marker\":{\"pattern\":{\"fillmode\":\"overlay\",\"size\":10,\"solidity\":0.2}},\"type\":\"histogram\"}],\"scattergl\":[{\"type\":\"scattergl\",\"marker\":{\"colorbar\":{\"outlinewidth\":0,\"ticks\":\"\"}}}],\"scatter3d\":[{\"type\":\"scatter3d\",\"line\":{\"colorbar\":{\"outlinewidth\":0,\"ticks\":\"\"}},\"marker\":{\"colorbar\":{\"outlinewidth\":0,\"ticks\":\"\"}}}],\"scattermapbox\":[{\"type\":\"scattermapbox\",\"marker\":{\"colorbar\":{\"outlinewidth\":0,\"ticks\":\"\"}}}],\"scatterternary\":[{\"type\":\"scatterternary\",\"marker\":{\"colorbar\":{\"outlinewidth\":0,\"ticks\":\"\"}}}],\"scattercarpet\":[{\"type\":\"scattercarpet\",\"marker\":{\"colorbar\":{\"outlinewidth\":0,\"ticks\":\"\"}}}],\"carpet\":[{\"aaxis\":{\"endlinecolor\":\"#2a3f5f\",\"gridcolor\":\"white\",\"linecolor\":\"white\",\"minorgridcolor\":\"white\",\"startlinecolor\":\"#2a3f5f\"},\"baxis\":{\"endlinecolor\":\"#2a3f5f\",\"gridcolor\":\"white\",\"linecolor\":\"white\",\"minorgridcolor\":\"white\",\"startlinecolor\":\"#2a3f5f\"},\"type\":\"carpet\"}],\"table\":[{\"cells\":{\"fill\":{\"color\":\"#EBF0F8\"},\"line\":{\"color\":\"white\"}},\"header\":{\"fill\":{\"color\":\"#C8D4E3\"},\"line\":{\"color\":\"white\"}},\"type\":\"table\"}],\"barpolar\":[{\"marker\":{\"line\":{\"color\":\"#E5ECF6\",\"width\":0.5},\"pattern\":{\"fillmode\":\"overlay\",\"size\":10,\"solidity\":0.2}},\"type\":\"barpolar\"}],\"pie\":[{\"automargin\":true,\"type\":\"pie\"}]},\"layout\":{\"autotypenumbers\":\"strict\",\"colorway\":[\"#636efa\",\"#EF553B\",\"#00cc96\",\"#ab63fa\",\"#FFA15A\",\"#19d3f3\",\"#FF6692\",\"#B6E880\",\"#FF97FF\",\"#FECB52\"],\"font\":{\"color\":\"#2a3f5f\"},\"hovermode\":\"closest\",\"hoverlabel\":{\"align\":\"left\"},\"paper_bgcolor\":\"white\",\"plot_bgcolor\":\"#E5ECF6\",\"polar\":{\"bgcolor\":\"#E5ECF6\",\"angularaxis\":{\"gridcolor\":\"white\",\"linecolor\":\"white\",\"ticks\":\"\"},\"radialaxis\":{\"gridcolor\":\"white\",\"linecolor\":\"white\",\"ticks\":\"\"}},\"ternary\":{\"bgcolor\":\"#E5ECF6\",\"aaxis\":{\"gridcolor\":\"white\",\"linecolor\":\"white\",\"ticks\":\"\"},\"baxis\":{\"gridcolor\":\"white\",\"linecolor\":\"white\",\"ticks\":\"\"},\"caxis\":{\"gridcolor\":\"white\",\"linecolor\":\"white\",\"ticks\":\"\"}},\"coloraxis\":{\"colorbar\":{\"outlinewidth\":0,\"ticks\":\"\"}},\"colorscale\":{\"sequential\":[[0.0,\"#0d0887\"],[0.1111111111111111,\"#46039f\"],[0.2222222222222222,\"#7201a8\"],[0.3333333333333333,\"#9c179e\"],[0.4444444444444444,\"#bd3786\"],[0.5555555555555556,\"#d8576b\"],[0.6666666666666666,\"#ed7953\"],[0.7777777777777778,\"#fb9f3a\"],[0.8888888888888888,\"#fdca26\"],[1.0,\"#f0f921\"]],\"sequentialminus\":[[0.0,\"#0d0887\"],[0.1111111111111111,\"#46039f\"],[0.2222222222222222,\"#7201a8\"],[0.3333333333333333,\"#9c179e\"],[0.4444444444444444,\"#bd3786\"],[0.5555555555555556,\"#d8576b\"],[0.6666666666666666,\"#ed7953\"],[0.7777777777777778,\"#fb9f3a\"],[0.8888888888888888,\"#fdca26\"],[1.0,\"#f0f921\"]],\"diverging\":[[0,\"#8e0152\"],[0.1,\"#c51b7d\"],[0.2,\"#de77ae\"],[0.3,\"#f1b6da\"],[0.4,\"#fde0ef\"],[0.5,\"#f7f7f7\"],[0.6,\"#e6f5d0\"],[0.7,\"#b8e186\"],[0.8,\"#7fbc41\"],[0.9,\"#4d9221\"],[1,\"#276419\"]]},\"xaxis\":{\"gridcolor\":\"white\",\"linecolor\":\"white\",\"ticks\":\"\",\"title\":{\"standoff\":15},\"zerolinecolor\":\"white\",\"automargin\":true,\"zerolinewidth\":2},\"yaxis\":{\"gridcolor\":\"white\",\"linecolor\":\"white\",\"ticks\":\"\",\"title\":{\"standoff\":15},\"zerolinecolor\":\"white\",\"automargin\":true,\"zerolinewidth\":2},\"scene\":{\"xaxis\":{\"backgroundcolor\":\"#E5ECF6\",\"gridcolor\":\"white\",\"linecolor\":\"white\",\"showbackground\":true,\"ticks\":\"\",\"zerolinecolor\":\"white\",\"gridwidth\":2},\"yaxis\":{\"backgroundcolor\":\"#E5ECF6\",\"gridcolor\":\"white\",\"linecolor\":\"white\",\"showbackground\":true,\"ticks\":\"\",\"zerolinecolor\":\"white\",\"gridwidth\":2},\"zaxis\":{\"backgroundcolor\":\"#E5ECF6\",\"gridcolor\":\"white\",\"linecolor\":\"white\",\"showbackground\":true,\"ticks\":\"\",\"zerolinecolor\":\"white\",\"gridwidth\":2}},\"shapedefaults\":{\"line\":{\"color\":\"#2a3f5f\"}},\"annotationdefaults\":{\"arrowcolor\":\"#2a3f5f\",\"arrowhead\":0,\"arrowwidth\":1},\"geo\":{\"bgcolor\":\"white\",\"landcolor\":\"#E5ECF6\",\"subunitcolor\":\"white\",\"showland\":true,\"showlakes\":true,\"lakecolor\":\"white\"},\"title\":{\"x\":0.05},\"mapbox\":{\"style\":\"light\"}}},\"xaxis\":{\"anchor\":\"y\",\"domain\":[0.0,1.0],\"title\":{\"text\":\"Season\"}},\"yaxis\":{\"anchor\":\"x\",\"domain\":[0.0,1.0],\"title\":{\"text\":\"Total Sales\"}},\"coloraxis\":{\"colorbar\":{\"title\":{\"text\":\"Total Sales\"}},\"colorscale\":[[0.0,\"#440154\"],[0.1111111111111111,\"#482878\"],[0.2222222222222222,\"#3e4989\"],[0.3333333333333333,\"#31688e\"],[0.4444444444444444,\"#26828e\"],[0.5555555555555556,\"#1f9e89\"],[0.6666666666666666,\"#35b779\"],[0.7777777777777778,\"#6ece58\"],[0.8888888888888888,\"#b5de2b\"],[1.0,\"#fde725\"]]},\"legend\":{\"tracegroupgap\":0},\"title\":{\"text\":\"Total Coffee Sales by Season\"},\"barmode\":\"relative\"},                        {\"responsive\": true}                    ).then(function(){\n",
              "                            \n",
              "var gd = document.getElementById('58f79487-2436-461e-8c1f-42e4f68c0ea1');\n",
              "var x = new MutationObserver(function (mutations, observer) {{\n",
              "        var display = window.getComputedStyle(gd).display;\n",
              "        if (!display || display === 'none') {{\n",
              "            console.log([gd, 'removed!']);\n",
              "            Plotly.purge(gd);\n",
              "            observer.disconnect();\n",
              "        }}\n",
              "}});\n",
              "\n",
              "// Listen for the removal of the full notebook cells\n",
              "var notebookContainer = gd.closest('#notebook-container');\n",
              "if (notebookContainer) {{\n",
              "    x.observe(notebookContainer, {childList: true});\n",
              "}}\n",
              "\n",
              "// Listen for the clearing of the current output cell\n",
              "var outputEl = gd.closest('.output');\n",
              "if (outputEl) {{\n",
              "    x.observe(outputEl, {childList: true});\n",
              "}}\n",
              "\n",
              "                        })                };                            </script>        </div>\n",
              "</body>\n",
              "</html>"
            ]
          },
          "metadata": {}
        },
        {
          "output_type": "display_data",
          "data": {
            "text/html": [
              "<html>\n",
              "<head><meta charset=\"utf-8\" /></head>\n",
              "<body>\n",
              "    <div>            <script src=\"https://cdnjs.cloudflare.com/ajax/libs/mathjax/2.7.5/MathJax.js?config=TeX-AMS-MML_SVG\"></script><script type=\"text/javascript\">if (window.MathJax && window.MathJax.Hub && window.MathJax.Hub.Config) {window.MathJax.Hub.Config({SVG: {font: \"STIX-Web\"}});}</script>                <script type=\"text/javascript\">window.PlotlyConfig = {MathJaxConfig: 'local'};</script>\n",
              "        <script charset=\"utf-8\" src=\"https://cdn.plot.ly/plotly-2.35.2.min.js\"></script>                <div id=\"42281ade-3be2-4740-86a3-a94b7c86d8f9\" class=\"plotly-graph-div\" style=\"height:525px; width:100%;\"></div>            <script type=\"text/javascript\">                                    window.PLOTLYENV=window.PLOTLYENV || {};                                    if (document.getElementById(\"42281ade-3be2-4740-86a3-a94b7c86d8f9\")) {                    Plotly.newPlot(                        \"42281ade-3be2-4740-86a3-a94b7c86d8f9\",                        [{\"customdata\":[[\"Autumn\"],[\"Spring\"],[\"Summer\"],[\"Winter\"]],\"domain\":{\"x\":[0.0,1.0],\"y\":[0.0,1.0]},\"hovertemplate\":\"Season=%{customdata[0]}\\u003cbr\\u003emoney=%{value}\\u003cextra\\u003e\\u003c\\u002fextra\\u003e\",\"labels\":[\"Autumn\",\"Spring\",\"Summer\",\"Winter\"],\"legendgroup\":\"\",\"marker\":{\"colors\":[\"brown\",\"green\",\"orange\",\"lightblue\"]},\"name\":\"\",\"showlegend\":true,\"values\":[32470.34,29775.62,22147.54,27852.079999999998],\"type\":\"pie\",\"textinfo\":\"percent+label\",\"textposition\":\"inside\"}],                        {\"template\":{\"data\":{\"histogram2dcontour\":[{\"type\":\"histogram2dcontour\",\"colorbar\":{\"outlinewidth\":0,\"ticks\":\"\"},\"colorscale\":[[0.0,\"#0d0887\"],[0.1111111111111111,\"#46039f\"],[0.2222222222222222,\"#7201a8\"],[0.3333333333333333,\"#9c179e\"],[0.4444444444444444,\"#bd3786\"],[0.5555555555555556,\"#d8576b\"],[0.6666666666666666,\"#ed7953\"],[0.7777777777777778,\"#fb9f3a\"],[0.8888888888888888,\"#fdca26\"],[1.0,\"#f0f921\"]]}],\"choropleth\":[{\"type\":\"choropleth\",\"colorbar\":{\"outlinewidth\":0,\"ticks\":\"\"}}],\"histogram2d\":[{\"type\":\"histogram2d\",\"colorbar\":{\"outlinewidth\":0,\"ticks\":\"\"},\"colorscale\":[[0.0,\"#0d0887\"],[0.1111111111111111,\"#46039f\"],[0.2222222222222222,\"#7201a8\"],[0.3333333333333333,\"#9c179e\"],[0.4444444444444444,\"#bd3786\"],[0.5555555555555556,\"#d8576b\"],[0.6666666666666666,\"#ed7953\"],[0.7777777777777778,\"#fb9f3a\"],[0.8888888888888888,\"#fdca26\"],[1.0,\"#f0f921\"]]}],\"heatmap\":[{\"type\":\"heatmap\",\"colorbar\":{\"outlinewidth\":0,\"ticks\":\"\"},\"colorscale\":[[0.0,\"#0d0887\"],[0.1111111111111111,\"#46039f\"],[0.2222222222222222,\"#7201a8\"],[0.3333333333333333,\"#9c179e\"],[0.4444444444444444,\"#bd3786\"],[0.5555555555555556,\"#d8576b\"],[0.6666666666666666,\"#ed7953\"],[0.7777777777777778,\"#fb9f3a\"],[0.8888888888888888,\"#fdca26\"],[1.0,\"#f0f921\"]]}],\"heatmapgl\":[{\"type\":\"heatmapgl\",\"colorbar\":{\"outlinewidth\":0,\"ticks\":\"\"},\"colorscale\":[[0.0,\"#0d0887\"],[0.1111111111111111,\"#46039f\"],[0.2222222222222222,\"#7201a8\"],[0.3333333333333333,\"#9c179e\"],[0.4444444444444444,\"#bd3786\"],[0.5555555555555556,\"#d8576b\"],[0.6666666666666666,\"#ed7953\"],[0.7777777777777778,\"#fb9f3a\"],[0.8888888888888888,\"#fdca26\"],[1.0,\"#f0f921\"]]}],\"contourcarpet\":[{\"type\":\"contourcarpet\",\"colorbar\":{\"outlinewidth\":0,\"ticks\":\"\"}}],\"contour\":[{\"type\":\"contour\",\"colorbar\":{\"outlinewidth\":0,\"ticks\":\"\"},\"colorscale\":[[0.0,\"#0d0887\"],[0.1111111111111111,\"#46039f\"],[0.2222222222222222,\"#7201a8\"],[0.3333333333333333,\"#9c179e\"],[0.4444444444444444,\"#bd3786\"],[0.5555555555555556,\"#d8576b\"],[0.6666666666666666,\"#ed7953\"],[0.7777777777777778,\"#fb9f3a\"],[0.8888888888888888,\"#fdca26\"],[1.0,\"#f0f921\"]]}],\"surface\":[{\"type\":\"surface\",\"colorbar\":{\"outlinewidth\":0,\"ticks\":\"\"},\"colorscale\":[[0.0,\"#0d0887\"],[0.1111111111111111,\"#46039f\"],[0.2222222222222222,\"#7201a8\"],[0.3333333333333333,\"#9c179e\"],[0.4444444444444444,\"#bd3786\"],[0.5555555555555556,\"#d8576b\"],[0.6666666666666666,\"#ed7953\"],[0.7777777777777778,\"#fb9f3a\"],[0.8888888888888888,\"#fdca26\"],[1.0,\"#f0f921\"]]}],\"mesh3d\":[{\"type\":\"mesh3d\",\"colorbar\":{\"outlinewidth\":0,\"ticks\":\"\"}}],\"scatter\":[{\"fillpattern\":{\"fillmode\":\"overlay\",\"size\":10,\"solidity\":0.2},\"type\":\"scatter\"}],\"parcoords\":[{\"type\":\"parcoords\",\"line\":{\"colorbar\":{\"outlinewidth\":0,\"ticks\":\"\"}}}],\"scatterpolargl\":[{\"type\":\"scatterpolargl\",\"marker\":{\"colorbar\":{\"outlinewidth\":0,\"ticks\":\"\"}}}],\"bar\":[{\"error_x\":{\"color\":\"#2a3f5f\"},\"error_y\":{\"color\":\"#2a3f5f\"},\"marker\":{\"line\":{\"color\":\"#E5ECF6\",\"width\":0.5},\"pattern\":{\"fillmode\":\"overlay\",\"size\":10,\"solidity\":0.2}},\"type\":\"bar\"}],\"scattergeo\":[{\"type\":\"scattergeo\",\"marker\":{\"colorbar\":{\"outlinewidth\":0,\"ticks\":\"\"}}}],\"scatterpolar\":[{\"type\":\"scatterpolar\",\"marker\":{\"colorbar\":{\"outlinewidth\":0,\"ticks\":\"\"}}}],\"histogram\":[{\"marker\":{\"pattern\":{\"fillmode\":\"overlay\",\"size\":10,\"solidity\":0.2}},\"type\":\"histogram\"}],\"scattergl\":[{\"type\":\"scattergl\",\"marker\":{\"colorbar\":{\"outlinewidth\":0,\"ticks\":\"\"}}}],\"scatter3d\":[{\"type\":\"scatter3d\",\"line\":{\"colorbar\":{\"outlinewidth\":0,\"ticks\":\"\"}},\"marker\":{\"colorbar\":{\"outlinewidth\":0,\"ticks\":\"\"}}}],\"scattermapbox\":[{\"type\":\"scattermapbox\",\"marker\":{\"colorbar\":{\"outlinewidth\":0,\"ticks\":\"\"}}}],\"scatterternary\":[{\"type\":\"scatterternary\",\"marker\":{\"colorbar\":{\"outlinewidth\":0,\"ticks\":\"\"}}}],\"scattercarpet\":[{\"type\":\"scattercarpet\",\"marker\":{\"colorbar\":{\"outlinewidth\":0,\"ticks\":\"\"}}}],\"carpet\":[{\"aaxis\":{\"endlinecolor\":\"#2a3f5f\",\"gridcolor\":\"white\",\"linecolor\":\"white\",\"minorgridcolor\":\"white\",\"startlinecolor\":\"#2a3f5f\"},\"baxis\":{\"endlinecolor\":\"#2a3f5f\",\"gridcolor\":\"white\",\"linecolor\":\"white\",\"minorgridcolor\":\"white\",\"startlinecolor\":\"#2a3f5f\"},\"type\":\"carpet\"}],\"table\":[{\"cells\":{\"fill\":{\"color\":\"#EBF0F8\"},\"line\":{\"color\":\"white\"}},\"header\":{\"fill\":{\"color\":\"#C8D4E3\"},\"line\":{\"color\":\"white\"}},\"type\":\"table\"}],\"barpolar\":[{\"marker\":{\"line\":{\"color\":\"#E5ECF6\",\"width\":0.5},\"pattern\":{\"fillmode\":\"overlay\",\"size\":10,\"solidity\":0.2}},\"type\":\"barpolar\"}],\"pie\":[{\"automargin\":true,\"type\":\"pie\"}]},\"layout\":{\"autotypenumbers\":\"strict\",\"colorway\":[\"#636efa\",\"#EF553B\",\"#00cc96\",\"#ab63fa\",\"#FFA15A\",\"#19d3f3\",\"#FF6692\",\"#B6E880\",\"#FF97FF\",\"#FECB52\"],\"font\":{\"color\":\"#2a3f5f\"},\"hovermode\":\"closest\",\"hoverlabel\":{\"align\":\"left\"},\"paper_bgcolor\":\"white\",\"plot_bgcolor\":\"#E5ECF6\",\"polar\":{\"bgcolor\":\"#E5ECF6\",\"angularaxis\":{\"gridcolor\":\"white\",\"linecolor\":\"white\",\"ticks\":\"\"},\"radialaxis\":{\"gridcolor\":\"white\",\"linecolor\":\"white\",\"ticks\":\"\"}},\"ternary\":{\"bgcolor\":\"#E5ECF6\",\"aaxis\":{\"gridcolor\":\"white\",\"linecolor\":\"white\",\"ticks\":\"\"},\"baxis\":{\"gridcolor\":\"white\",\"linecolor\":\"white\",\"ticks\":\"\"},\"caxis\":{\"gridcolor\":\"white\",\"linecolor\":\"white\",\"ticks\":\"\"}},\"coloraxis\":{\"colorbar\":{\"outlinewidth\":0,\"ticks\":\"\"}},\"colorscale\":{\"sequential\":[[0.0,\"#0d0887\"],[0.1111111111111111,\"#46039f\"],[0.2222222222222222,\"#7201a8\"],[0.3333333333333333,\"#9c179e\"],[0.4444444444444444,\"#bd3786\"],[0.5555555555555556,\"#d8576b\"],[0.6666666666666666,\"#ed7953\"],[0.7777777777777778,\"#fb9f3a\"],[0.8888888888888888,\"#fdca26\"],[1.0,\"#f0f921\"]],\"sequentialminus\":[[0.0,\"#0d0887\"],[0.1111111111111111,\"#46039f\"],[0.2222222222222222,\"#7201a8\"],[0.3333333333333333,\"#9c179e\"],[0.4444444444444444,\"#bd3786\"],[0.5555555555555556,\"#d8576b\"],[0.6666666666666666,\"#ed7953\"],[0.7777777777777778,\"#fb9f3a\"],[0.8888888888888888,\"#fdca26\"],[1.0,\"#f0f921\"]],\"diverging\":[[0,\"#8e0152\"],[0.1,\"#c51b7d\"],[0.2,\"#de77ae\"],[0.3,\"#f1b6da\"],[0.4,\"#fde0ef\"],[0.5,\"#f7f7f7\"],[0.6,\"#e6f5d0\"],[0.7,\"#b8e186\"],[0.8,\"#7fbc41\"],[0.9,\"#4d9221\"],[1,\"#276419\"]]},\"xaxis\":{\"gridcolor\":\"white\",\"linecolor\":\"white\",\"ticks\":\"\",\"title\":{\"standoff\":15},\"zerolinecolor\":\"white\",\"automargin\":true,\"zerolinewidth\":2},\"yaxis\":{\"gridcolor\":\"white\",\"linecolor\":\"white\",\"ticks\":\"\",\"title\":{\"standoff\":15},\"zerolinecolor\":\"white\",\"automargin\":true,\"zerolinewidth\":2},\"scene\":{\"xaxis\":{\"backgroundcolor\":\"#E5ECF6\",\"gridcolor\":\"white\",\"linecolor\":\"white\",\"showbackground\":true,\"ticks\":\"\",\"zerolinecolor\":\"white\",\"gridwidth\":2},\"yaxis\":{\"backgroundcolor\":\"#E5ECF6\",\"gridcolor\":\"white\",\"linecolor\":\"white\",\"showbackground\":true,\"ticks\":\"\",\"zerolinecolor\":\"white\",\"gridwidth\":2},\"zaxis\":{\"backgroundcolor\":\"#E5ECF6\",\"gridcolor\":\"white\",\"linecolor\":\"white\",\"showbackground\":true,\"ticks\":\"\",\"zerolinecolor\":\"white\",\"gridwidth\":2}},\"shapedefaults\":{\"line\":{\"color\":\"#2a3f5f\"}},\"annotationdefaults\":{\"arrowcolor\":\"#2a3f5f\",\"arrowhead\":0,\"arrowwidth\":1},\"geo\":{\"bgcolor\":\"white\",\"landcolor\":\"#E5ECF6\",\"subunitcolor\":\"white\",\"showland\":true,\"showlakes\":true,\"lakecolor\":\"white\"},\"title\":{\"x\":0.05},\"mapbox\":{\"style\":\"light\"}}},\"legend\":{\"tracegroupgap\":0},\"title\":{\"text\":\"Seasonal Share of Coffee Sales\"}},                        {\"responsive\": true}                    ).then(function(){\n",
              "                            \n",
              "var gd = document.getElementById('42281ade-3be2-4740-86a3-a94b7c86d8f9');\n",
              "var x = new MutationObserver(function (mutations, observer) {{\n",
              "        var display = window.getComputedStyle(gd).display;\n",
              "        if (!display || display === 'none') {{\n",
              "            console.log([gd, 'removed!']);\n",
              "            Plotly.purge(gd);\n",
              "            observer.disconnect();\n",
              "        }}\n",
              "}});\n",
              "\n",
              "// Listen for the removal of the full notebook cells\n",
              "var notebookContainer = gd.closest('#notebook-container');\n",
              "if (notebookContainer) {{\n",
              "    x.observe(notebookContainer, {childList: true});\n",
              "}}\n",
              "\n",
              "// Listen for the clearing of the current output cell\n",
              "var outputEl = gd.closest('.output');\n",
              "if (outputEl) {{\n",
              "    x.observe(outputEl, {childList: true});\n",
              "}}\n",
              "\n",
              "                        })                };                            </script>        </div>\n",
              "</body>\n",
              "</html>"
            ]
          },
          "metadata": {}
        }
      ],
      "source": [
        "# 1. Group by month\n",
        "monthly_sales = df.groupby([\"Monthsort\", \"Month_name\"])[\"money\"].sum().reset_index()\n",
        "\n",
        "# 2. Find the month with the highest revenue\n",
        "best_idx = monthly_sales[\"money\"].idxmax()\n",
        "best_month = monthly_sales.loc[best_idx, \"Month_name\"]\n",
        "best_value = monthly_sales.loc[best_idx, \"money\"]\n",
        "\n",
        "print(\"\\n=== Monthly Sales Analysis ===\")\n",
        "print(\"Month with highest total sales:\", best_month, \"→\", round(best_value, 2))\n",
        "\n",
        "# 3. Visualization\n",
        "fig = px.line(\n",
        "    monthly_sales,\n",
        "    x=\"Monthsort\",\n",
        "    y=\"money\",\n",
        "    text=\"Month_name\",\n",
        "    markers=True,\n",
        "    labels={\"Monthsort\": \"Month\", \"money\": \"Total Sales\"},\n",
        "    title=\"Monthly Coffee Sales Trend\"\n",
        ")\n",
        "fig.update_traces(textposition=\"top center\")\n",
        "fig.update_layout(\n",
        "    xaxis=dict(\n",
        "        tickmode=\"array\",\n",
        "        tickvals=monthly_sales[\"Monthsort\"],\n",
        "        ticktext=monthly_sales[\"Month_name\"]\n",
        "    ),\n",
        "    xaxis_title=\"Month\",\n",
        "    yaxis_title=\"Total Sales\"\n",
        ")\n",
        "fig.show()\n",
        "\n",
        "# 4. Visualization Using Plotly\n",
        "fig = px.bar(\n",
        "    monthly_sales,\n",
        "    x=\"Month_name\",\n",
        "    y=\"money\",\n",
        "    color=\"money\",\n",
        "    color_continuous_scale=\"tealgrn\",\n",
        "    labels={\"Month_name\": \"Month\", \"money\": \"Total Sales\"},\n",
        "    title=\"Total Coffee Sales by Month\"\n",
        ")\n",
        "fig.update_layout(xaxis_title=\"Month\", yaxis_title=\"Total Sales\")\n",
        "fig.show()\n",
        "\n",
        "\n",
        "\n",
        "# 1. Map months to seasons\n",
        "season_map = {\n",
        "    12: \"Winter\", 1: \"Winter\", 2: \"Winter\",\n",
        "    3: \"Spring\", 4: \"Spring\", 5: \"Spring\",\n",
        "    6: \"Summer\", 7: \"Summer\", 8: \"Summer\",\n",
        "    9: \"Autumn\", 10: \"Autumn\", 11: \"Autumn\"\n",
        "}\n",
        "df[\"Season\"] = df[\"Monthsort\"].map(season_map)\n",
        "\n",
        "# 2. Group sales by season\n",
        "seasonal_sales = df.groupby(\"Season\")[\"money\"].sum().reset_index()\n",
        "\n",
        "# 3. Find the season with the highest revenue\n",
        "best_idx = seasonal_sales[\"money\"].idxmax()\n",
        "best_season = seasonal_sales.loc[best_idx, \"Season\"]\n",
        "best_value = seasonal_sales.loc[best_idx, \"money\"]\n",
        "\n",
        "print(\"\\n=== Seasonal Sales Analysis ===\")\n",
        "print(\"Season with highest total sales:\", best_season, \"→\", round(best_value, 2))\n",
        "\n",
        "# 4. Visualization\n",
        "fig = px.bar(\n",
        "    seasonal_sales,\n",
        "    x=\"Season\",\n",
        "    y=\"money\",\n",
        "    color=\"money\",\n",
        "    color_continuous_scale=\"viridis\",\n",
        "    labels={\"Season\": \"Season\", \"money\": \"Total Sales\"},\n",
        "    title=\"Total Coffee Sales by Season\"\n",
        ")\n",
        "fig.update_layout(xaxis_title=\"Season\", yaxis_title=\"Total Sales\")\n",
        "fig.show()\n",
        "\n",
        "# 5. Visualization\n",
        "fig = px.pie(\n",
        "    seasonal_sales,\n",
        "    names=\"Season\",\n",
        "    values=\"money\",\n",
        "    color=\"Season\",\n",
        "    color_discrete_map={\"Winter\": \"lightblue\", \"Spring\": \"green\", \"Summer\": \"orange\", \"Autumn\": \"brown\"},\n",
        "    title=\"Seasonal Share of Coffee Sales\"\n",
        ")\n",
        "fig.update_traces(textposition=\"inside\", textinfo=\"percent+label\")\n",
        "fig.show()\n",
        "\n"
      ]
    },
    {
      "cell_type": "markdown",
      "id": "5abc03bc",
      "metadata": {
        "id": "5abc03bc"
      },
      "source": [
        "### 6- Best Coffee Type in March (highest month)"
      ]
    },
    {
      "cell_type": "code",
      "execution_count": 16,
      "id": "b44e35fb",
      "metadata": {
        "colab": {
          "base_uri": "https://localhost:8080/",
          "height": 594
        },
        "id": "b44e35fb",
        "outputId": "e01847cd-1b42-4816-a460-99d854f422a4"
      },
      "outputs": [
        {
          "output_type": "stream",
          "name": "stdout",
          "text": [
            "\n",
            "=== Best Coffee in March ===\n",
            "Coffee type with highest total sales: Americano → 3572.72\n"
          ]
        },
        {
          "output_type": "display_data",
          "data": {
            "text/html": [
              "<html>\n",
              "<head><meta charset=\"utf-8\" /></head>\n",
              "<body>\n",
              "    <div>            <script src=\"https://cdnjs.cloudflare.com/ajax/libs/mathjax/2.7.5/MathJax.js?config=TeX-AMS-MML_SVG\"></script><script type=\"text/javascript\">if (window.MathJax && window.MathJax.Hub && window.MathJax.Hub.Config) {window.MathJax.Hub.Config({SVG: {font: \"STIX-Web\"}});}</script>                <script type=\"text/javascript\">window.PlotlyConfig = {MathJaxConfig: 'local'};</script>\n",
              "        <script charset=\"utf-8\" src=\"https://cdn.plot.ly/plotly-2.35.2.min.js\"></script>                <div id=\"619c248c-c9af-45d1-9e44-1fad2d5ffe06\" class=\"plotly-graph-div\" style=\"height:525px; width:100%;\"></div>            <script type=\"text/javascript\">                                    window.PLOTLYENV=window.PLOTLYENV || {};                                    if (document.getElementById(\"619c248c-c9af-45d1-9e44-1fad2d5ffe06\")) {                    Plotly.newPlot(                        \"619c248c-c9af-45d1-9e44-1fad2d5ffe06\",                        [{\"alignmentgroup\":\"True\",\"hovertemplate\":\"Coffee Type=%{x}\\u003cbr\\u003eTotal Sales=%{marker.color}\\u003cextra\\u003e\\u003c\\u002fextra\\u003e\",\"legendgroup\":\"\",\"marker\":{\"color\":[3572.7200000000003,2618.72,2118.18,1305.0,861.12,426.59999999999997,1596.48,3392.82],\"coloraxis\":\"coloraxis\",\"pattern\":{\"shape\":\"\"}},\"name\":\"\",\"offsetgroup\":\"\",\"orientation\":\"v\",\"showlegend\":false,\"textposition\":\"auto\",\"x\":[\"Americano\",\"Americano with Milk\",\"Cappuccino\",\"Cocoa\",\"Cortado\",\"Espresso\",\"Hot Chocolate\",\"Latte\"],\"xaxis\":\"x\",\"y\":[3572.7200000000003,2618.72,2118.18,1305.0,861.12,426.59999999999997,1596.48,3392.82],\"yaxis\":\"y\",\"type\":\"bar\"}],                        {\"template\":{\"data\":{\"histogram2dcontour\":[{\"type\":\"histogram2dcontour\",\"colorbar\":{\"outlinewidth\":0,\"ticks\":\"\"},\"colorscale\":[[0.0,\"#0d0887\"],[0.1111111111111111,\"#46039f\"],[0.2222222222222222,\"#7201a8\"],[0.3333333333333333,\"#9c179e\"],[0.4444444444444444,\"#bd3786\"],[0.5555555555555556,\"#d8576b\"],[0.6666666666666666,\"#ed7953\"],[0.7777777777777778,\"#fb9f3a\"],[0.8888888888888888,\"#fdca26\"],[1.0,\"#f0f921\"]]}],\"choropleth\":[{\"type\":\"choropleth\",\"colorbar\":{\"outlinewidth\":0,\"ticks\":\"\"}}],\"histogram2d\":[{\"type\":\"histogram2d\",\"colorbar\":{\"outlinewidth\":0,\"ticks\":\"\"},\"colorscale\":[[0.0,\"#0d0887\"],[0.1111111111111111,\"#46039f\"],[0.2222222222222222,\"#7201a8\"],[0.3333333333333333,\"#9c179e\"],[0.4444444444444444,\"#bd3786\"],[0.5555555555555556,\"#d8576b\"],[0.6666666666666666,\"#ed7953\"],[0.7777777777777778,\"#fb9f3a\"],[0.8888888888888888,\"#fdca26\"],[1.0,\"#f0f921\"]]}],\"heatmap\":[{\"type\":\"heatmap\",\"colorbar\":{\"outlinewidth\":0,\"ticks\":\"\"},\"colorscale\":[[0.0,\"#0d0887\"],[0.1111111111111111,\"#46039f\"],[0.2222222222222222,\"#7201a8\"],[0.3333333333333333,\"#9c179e\"],[0.4444444444444444,\"#bd3786\"],[0.5555555555555556,\"#d8576b\"],[0.6666666666666666,\"#ed7953\"],[0.7777777777777778,\"#fb9f3a\"],[0.8888888888888888,\"#fdca26\"],[1.0,\"#f0f921\"]]}],\"heatmapgl\":[{\"type\":\"heatmapgl\",\"colorbar\":{\"outlinewidth\":0,\"ticks\":\"\"},\"colorscale\":[[0.0,\"#0d0887\"],[0.1111111111111111,\"#46039f\"],[0.2222222222222222,\"#7201a8\"],[0.3333333333333333,\"#9c179e\"],[0.4444444444444444,\"#bd3786\"],[0.5555555555555556,\"#d8576b\"],[0.6666666666666666,\"#ed7953\"],[0.7777777777777778,\"#fb9f3a\"],[0.8888888888888888,\"#fdca26\"],[1.0,\"#f0f921\"]]}],\"contourcarpet\":[{\"type\":\"contourcarpet\",\"colorbar\":{\"outlinewidth\":0,\"ticks\":\"\"}}],\"contour\":[{\"type\":\"contour\",\"colorbar\":{\"outlinewidth\":0,\"ticks\":\"\"},\"colorscale\":[[0.0,\"#0d0887\"],[0.1111111111111111,\"#46039f\"],[0.2222222222222222,\"#7201a8\"],[0.3333333333333333,\"#9c179e\"],[0.4444444444444444,\"#bd3786\"],[0.5555555555555556,\"#d8576b\"],[0.6666666666666666,\"#ed7953\"],[0.7777777777777778,\"#fb9f3a\"],[0.8888888888888888,\"#fdca26\"],[1.0,\"#f0f921\"]]}],\"surface\":[{\"type\":\"surface\",\"colorbar\":{\"outlinewidth\":0,\"ticks\":\"\"},\"colorscale\":[[0.0,\"#0d0887\"],[0.1111111111111111,\"#46039f\"],[0.2222222222222222,\"#7201a8\"],[0.3333333333333333,\"#9c179e\"],[0.4444444444444444,\"#bd3786\"],[0.5555555555555556,\"#d8576b\"],[0.6666666666666666,\"#ed7953\"],[0.7777777777777778,\"#fb9f3a\"],[0.8888888888888888,\"#fdca26\"],[1.0,\"#f0f921\"]]}],\"mesh3d\":[{\"type\":\"mesh3d\",\"colorbar\":{\"outlinewidth\":0,\"ticks\":\"\"}}],\"scatter\":[{\"fillpattern\":{\"fillmode\":\"overlay\",\"size\":10,\"solidity\":0.2},\"type\":\"scatter\"}],\"parcoords\":[{\"type\":\"parcoords\",\"line\":{\"colorbar\":{\"outlinewidth\":0,\"ticks\":\"\"}}}],\"scatterpolargl\":[{\"type\":\"scatterpolargl\",\"marker\":{\"colorbar\":{\"outlinewidth\":0,\"ticks\":\"\"}}}],\"bar\":[{\"error_x\":{\"color\":\"#2a3f5f\"},\"error_y\":{\"color\":\"#2a3f5f\"},\"marker\":{\"line\":{\"color\":\"#E5ECF6\",\"width\":0.5},\"pattern\":{\"fillmode\":\"overlay\",\"size\":10,\"solidity\":0.2}},\"type\":\"bar\"}],\"scattergeo\":[{\"type\":\"scattergeo\",\"marker\":{\"colorbar\":{\"outlinewidth\":0,\"ticks\":\"\"}}}],\"scatterpolar\":[{\"type\":\"scatterpolar\",\"marker\":{\"colorbar\":{\"outlinewidth\":0,\"ticks\":\"\"}}}],\"histogram\":[{\"marker\":{\"pattern\":{\"fillmode\":\"overlay\",\"size\":10,\"solidity\":0.2}},\"type\":\"histogram\"}],\"scattergl\":[{\"type\":\"scattergl\",\"marker\":{\"colorbar\":{\"outlinewidth\":0,\"ticks\":\"\"}}}],\"scatter3d\":[{\"type\":\"scatter3d\",\"line\":{\"colorbar\":{\"outlinewidth\":0,\"ticks\":\"\"}},\"marker\":{\"colorbar\":{\"outlinewidth\":0,\"ticks\":\"\"}}}],\"scattermapbox\":[{\"type\":\"scattermapbox\",\"marker\":{\"colorbar\":{\"outlinewidth\":0,\"ticks\":\"\"}}}],\"scatterternary\":[{\"type\":\"scatterternary\",\"marker\":{\"colorbar\":{\"outlinewidth\":0,\"ticks\":\"\"}}}],\"scattercarpet\":[{\"type\":\"scattercarpet\",\"marker\":{\"colorbar\":{\"outlinewidth\":0,\"ticks\":\"\"}}}],\"carpet\":[{\"aaxis\":{\"endlinecolor\":\"#2a3f5f\",\"gridcolor\":\"white\",\"linecolor\":\"white\",\"minorgridcolor\":\"white\",\"startlinecolor\":\"#2a3f5f\"},\"baxis\":{\"endlinecolor\":\"#2a3f5f\",\"gridcolor\":\"white\",\"linecolor\":\"white\",\"minorgridcolor\":\"white\",\"startlinecolor\":\"#2a3f5f\"},\"type\":\"carpet\"}],\"table\":[{\"cells\":{\"fill\":{\"color\":\"#EBF0F8\"},\"line\":{\"color\":\"white\"}},\"header\":{\"fill\":{\"color\":\"#C8D4E3\"},\"line\":{\"color\":\"white\"}},\"type\":\"table\"}],\"barpolar\":[{\"marker\":{\"line\":{\"color\":\"#E5ECF6\",\"width\":0.5},\"pattern\":{\"fillmode\":\"overlay\",\"size\":10,\"solidity\":0.2}},\"type\":\"barpolar\"}],\"pie\":[{\"automargin\":true,\"type\":\"pie\"}]},\"layout\":{\"autotypenumbers\":\"strict\",\"colorway\":[\"#636efa\",\"#EF553B\",\"#00cc96\",\"#ab63fa\",\"#FFA15A\",\"#19d3f3\",\"#FF6692\",\"#B6E880\",\"#FF97FF\",\"#FECB52\"],\"font\":{\"color\":\"#2a3f5f\"},\"hovermode\":\"closest\",\"hoverlabel\":{\"align\":\"left\"},\"paper_bgcolor\":\"white\",\"plot_bgcolor\":\"#E5ECF6\",\"polar\":{\"bgcolor\":\"#E5ECF6\",\"angularaxis\":{\"gridcolor\":\"white\",\"linecolor\":\"white\",\"ticks\":\"\"},\"radialaxis\":{\"gridcolor\":\"white\",\"linecolor\":\"white\",\"ticks\":\"\"}},\"ternary\":{\"bgcolor\":\"#E5ECF6\",\"aaxis\":{\"gridcolor\":\"white\",\"linecolor\":\"white\",\"ticks\":\"\"},\"baxis\":{\"gridcolor\":\"white\",\"linecolor\":\"white\",\"ticks\":\"\"},\"caxis\":{\"gridcolor\":\"white\",\"linecolor\":\"white\",\"ticks\":\"\"}},\"coloraxis\":{\"colorbar\":{\"outlinewidth\":0,\"ticks\":\"\"}},\"colorscale\":{\"sequential\":[[0.0,\"#0d0887\"],[0.1111111111111111,\"#46039f\"],[0.2222222222222222,\"#7201a8\"],[0.3333333333333333,\"#9c179e\"],[0.4444444444444444,\"#bd3786\"],[0.5555555555555556,\"#d8576b\"],[0.6666666666666666,\"#ed7953\"],[0.7777777777777778,\"#fb9f3a\"],[0.8888888888888888,\"#fdca26\"],[1.0,\"#f0f921\"]],\"sequentialminus\":[[0.0,\"#0d0887\"],[0.1111111111111111,\"#46039f\"],[0.2222222222222222,\"#7201a8\"],[0.3333333333333333,\"#9c179e\"],[0.4444444444444444,\"#bd3786\"],[0.5555555555555556,\"#d8576b\"],[0.6666666666666666,\"#ed7953\"],[0.7777777777777778,\"#fb9f3a\"],[0.8888888888888888,\"#fdca26\"],[1.0,\"#f0f921\"]],\"diverging\":[[0,\"#8e0152\"],[0.1,\"#c51b7d\"],[0.2,\"#de77ae\"],[0.3,\"#f1b6da\"],[0.4,\"#fde0ef\"],[0.5,\"#f7f7f7\"],[0.6,\"#e6f5d0\"],[0.7,\"#b8e186\"],[0.8,\"#7fbc41\"],[0.9,\"#4d9221\"],[1,\"#276419\"]]},\"xaxis\":{\"gridcolor\":\"white\",\"linecolor\":\"white\",\"ticks\":\"\",\"title\":{\"standoff\":15},\"zerolinecolor\":\"white\",\"automargin\":true,\"zerolinewidth\":2},\"yaxis\":{\"gridcolor\":\"white\",\"linecolor\":\"white\",\"ticks\":\"\",\"title\":{\"standoff\":15},\"zerolinecolor\":\"white\",\"automargin\":true,\"zerolinewidth\":2},\"scene\":{\"xaxis\":{\"backgroundcolor\":\"#E5ECF6\",\"gridcolor\":\"white\",\"linecolor\":\"white\",\"showbackground\":true,\"ticks\":\"\",\"zerolinecolor\":\"white\",\"gridwidth\":2},\"yaxis\":{\"backgroundcolor\":\"#E5ECF6\",\"gridcolor\":\"white\",\"linecolor\":\"white\",\"showbackground\":true,\"ticks\":\"\",\"zerolinecolor\":\"white\",\"gridwidth\":2},\"zaxis\":{\"backgroundcolor\":\"#E5ECF6\",\"gridcolor\":\"white\",\"linecolor\":\"white\",\"showbackground\":true,\"ticks\":\"\",\"zerolinecolor\":\"white\",\"gridwidth\":2}},\"shapedefaults\":{\"line\":{\"color\":\"#2a3f5f\"}},\"annotationdefaults\":{\"arrowcolor\":\"#2a3f5f\",\"arrowhead\":0,\"arrowwidth\":1},\"geo\":{\"bgcolor\":\"white\",\"landcolor\":\"#E5ECF6\",\"subunitcolor\":\"white\",\"showland\":true,\"showlakes\":true,\"lakecolor\":\"white\"},\"title\":{\"x\":0.05},\"mapbox\":{\"style\":\"light\"}}},\"xaxis\":{\"anchor\":\"y\",\"domain\":[0.0,1.0],\"title\":{\"text\":\"Coffee Type\"}},\"yaxis\":{\"anchor\":\"x\",\"domain\":[0.0,1.0],\"title\":{\"text\":\"Total Sales\"}},\"coloraxis\":{\"colorbar\":{\"title\":{\"text\":\"Total Sales\"}},\"colorscale\":[[0.0,\"rgb(176, 242, 188)\"],[0.16666666666666666,\"rgb(137, 232, 172)\"],[0.3333333333333333,\"rgb(103, 219, 165)\"],[0.5,\"rgb(76, 200, 163)\"],[0.6666666666666666,\"rgb(56, 178, 163)\"],[0.8333333333333334,\"rgb(44, 152, 160)\"],[1.0,\"rgb(37, 125, 152)\"]]},\"legend\":{\"tracegroupgap\":0},\"title\":{\"text\":\"Coffee Sales in March\"},\"barmode\":\"relative\"},                        {\"responsive\": true}                    ).then(function(){\n",
              "                            \n",
              "var gd = document.getElementById('619c248c-c9af-45d1-9e44-1fad2d5ffe06');\n",
              "var x = new MutationObserver(function (mutations, observer) {{\n",
              "        var display = window.getComputedStyle(gd).display;\n",
              "        if (!display || display === 'none') {{\n",
              "            console.log([gd, 'removed!']);\n",
              "            Plotly.purge(gd);\n",
              "            observer.disconnect();\n",
              "        }}\n",
              "}});\n",
              "\n",
              "// Listen for the removal of the full notebook cells\n",
              "var notebookContainer = gd.closest('#notebook-container');\n",
              "if (notebookContainer) {{\n",
              "    x.observe(notebookContainer, {childList: true});\n",
              "}}\n",
              "\n",
              "// Listen for the clearing of the current output cell\n",
              "var outputEl = gd.closest('.output');\n",
              "if (outputEl) {{\n",
              "    x.observe(outputEl, {childList: true});\n",
              "}}\n",
              "\n",
              "                        })                };                            </script>        </div>\n",
              "</body>\n",
              "</html>"
            ]
          },
          "metadata": {}
        }
      ],
      "source": [
        "# 1. Filter March\n",
        "df_march = df[df[\"Month_name\"] == \"Mar\"]\n",
        "\n",
        "# 2. Group sales by coffee type\n",
        "march_sales = df_march.groupby(\"coffee_name\")[\"money\"].sum().reset_index()\n",
        "\n",
        "# 3. Find top coffee type\n",
        "best_idx = march_sales[\"money\"].idxmax()\n",
        "best_type = march_sales.loc[best_idx, \"coffee_name\"]\n",
        "best_value = march_sales.loc[best_idx, \"money\"]\n",
        "\n",
        "print(\"\\n=== Best Coffee in March ===\")\n",
        "print(\"Coffee type with highest total sales:\", best_type, \"→\", round(best_value, 2))\n",
        "\n",
        "# 4. Visualization\n",
        "fig = px.bar(\n",
        "    march_sales,\n",
        "    x=\"coffee_name\",\n",
        "    y=\"money\",\n",
        "    color=\"money\",\n",
        "    color_continuous_scale=\"tealgrn\",\n",
        "    labels={\"coffee_name\": \"Coffee Type\", \"money\": \"Total Sales\"},\n",
        "    title=\"Coffee Sales in March\"\n",
        ")\n",
        "fig.update_layout(xaxis_title=\"Coffee Type\", yaxis_title=\"Total Sales\")\n",
        "fig.show()\n"
      ]
    },
    {
      "cell_type": "markdown",
      "id": "ad6d883c",
      "metadata": {
        "id": "ad6d883c"
      },
      "source": [
        "### 7- Best Coffee Type in Each Season"
      ]
    },
    {
      "cell_type": "code",
      "execution_count": 17,
      "id": "c5ce76c3",
      "metadata": {
        "colab": {
          "base_uri": "https://localhost:8080/",
          "height": 646
        },
        "id": "c5ce76c3",
        "outputId": "5ca1e176-c566-4f5a-b02d-9763c8172219"
      },
      "outputs": [
        {
          "output_type": "stream",
          "name": "stdout",
          "text": [
            "\n",
            "=== Best Coffee Type by Season ===\n",
            "Autumn: Latte → 9837.36\n",
            "Spring: Latte → 6312.94\n",
            "Summer: Americano with Milk → 6040.16\n",
            "Winter: Americano with Milk → 5986.84\n"
          ]
        },
        {
          "output_type": "display_data",
          "data": {
            "text/html": [
              "<html>\n",
              "<head><meta charset=\"utf-8\" /></head>\n",
              "<body>\n",
              "    <div>            <script src=\"https://cdnjs.cloudflare.com/ajax/libs/mathjax/2.7.5/MathJax.js?config=TeX-AMS-MML_SVG\"></script><script type=\"text/javascript\">if (window.MathJax && window.MathJax.Hub && window.MathJax.Hub.Config) {window.MathJax.Hub.Config({SVG: {font: \"STIX-Web\"}});}</script>                <script type=\"text/javascript\">window.PlotlyConfig = {MathJaxConfig: 'local'};</script>\n",
              "        <script charset=\"utf-8\" src=\"https://cdn.plot.ly/plotly-2.35.2.min.js\"></script>                <div id=\"a4a9922d-5e5d-4df1-94fb-565bcb2a59e4\" class=\"plotly-graph-div\" style=\"height:525px; width:100%;\"></div>            <script type=\"text/javascript\">                                    window.PLOTLYENV=window.PLOTLYENV || {};                                    if (document.getElementById(\"a4a9922d-5e5d-4df1-94fb-565bcb2a59e4\")) {                    Plotly.newPlot(                        \"a4a9922d-5e5d-4df1-94fb-565bcb2a59e4\",                        [{\"alignmentgroup\":\"True\",\"hovertemplate\":\"coffee_name=Americano\\u003cbr\\u003eSeason=%{x}\\u003cbr\\u003eTotal Sales=%{y}\\u003cextra\\u003e\\u003c\\u002fextra\\u003e\",\"legendgroup\":\"Americano\",\"marker\":{\"color\":\"#636efa\",\"pattern\":{\"shape\":\"\"}},\"name\":\"Americano\",\"offsetgroup\":\"Americano\",\"orientation\":\"v\",\"showlegend\":true,\"textposition\":\"auto\",\"x\":[\"Autumn\",\"Spring\",\"Summer\",\"Winter\"],\"xaxis\":\"x\",\"y\":[2530.82,5631.46,2100.74,4387.24],\"yaxis\":\"y\",\"type\":\"bar\"},{\"alignmentgroup\":\"True\",\"hovertemplate\":\"coffee_name=Americano with Milk\\u003cbr\\u003eSeason=%{x}\\u003cbr\\u003eTotal Sales=%{y}\\u003cextra\\u003e\\u003c\\u002fextra\\u003e\",\"legendgroup\":\"Americano with Milk\",\"marker\":{\"color\":\"#EF553B\",\"pattern\":{\"shape\":\"\"}},\"name\":\"Americano with Milk\",\"offsetgroup\":\"Americano with Milk\",\"orientation\":\"v\",\"showlegend\":true,\"textposition\":\"auto\",\"x\":[\"Autumn\",\"Spring\",\"Summer\",\"Winter\"],\"xaxis\":\"x\",\"y\":[7065.38,5658.74,6040.16,5986.84],\"yaxis\":\"y\",\"type\":\"bar\"},{\"alignmentgroup\":\"True\",\"hovertemplate\":\"coffee_name=Cappuccino\\u003cbr\\u003eSeason=%{x}\\u003cbr\\u003eTotal Sales=%{y}\\u003cextra\\u003e\\u003c\\u002fextra\\u003e\",\"legendgroup\":\"Cappuccino\",\"marker\":{\"color\":\"#00cc96\",\"pattern\":{\"shape\":\"\"}},\"name\":\"Cappuccino\",\"offsetgroup\":\"Cappuccino\",\"orientation\":\"v\",\"showlegend\":true,\"textposition\":\"auto\",\"x\":[\"Autumn\",\"Spring\",\"Summer\",\"Winter\"],\"xaxis\":\"x\",\"y\":[3863.52,5461.06,3930.64,4183.92],\"yaxis\":\"y\",\"type\":\"bar\"},{\"alignmentgroup\":\"True\",\"hovertemplate\":\"coffee_name=Cocoa\\u003cbr\\u003eSeason=%{x}\\u003cbr\\u003eTotal Sales=%{y}\\u003cextra\\u003e\\u003c\\u002fextra\\u003e\",\"legendgroup\":\"Cocoa\",\"marker\":{\"color\":\"#ab63fa\",\"pattern\":{\"shape\":\"\"}},\"name\":\"Cocoa\",\"offsetgroup\":\"Cocoa\",\"orientation\":\"v\",\"showlegend\":true,\"textposition\":\"auto\",\"x\":[\"Autumn\",\"Spring\",\"Summer\",\"Winter\"],\"xaxis\":\"x\",\"y\":[2694.24,1760.58,812.18,3254.16],\"yaxis\":\"y\",\"type\":\"bar\"},{\"alignmentgroup\":\"True\",\"hovertemplate\":\"coffee_name=Cortado\\u003cbr\\u003eSeason=%{x}\\u003cbr\\u003eTotal Sales=%{y}\\u003cextra\\u003e\\u003c\\u002fextra\\u003e\",\"legendgroup\":\"Cortado\",\"marker\":{\"color\":\"#FFA15A\",\"pattern\":{\"shape\":\"\"}},\"name\":\"Cortado\",\"offsetgroup\":\"Cortado\",\"orientation\":\"v\",\"showlegend\":true,\"textposition\":\"auto\",\"x\":[\"Autumn\",\"Spring\",\"Summer\",\"Winter\"],\"xaxis\":\"x\",\"y\":[2181.58,1794.24,1773.56,1635.48],\"yaxis\":\"y\",\"type\":\"bar\"},{\"alignmentgroup\":\"True\",\"hovertemplate\":\"coffee_name=Espresso\\u003cbr\\u003eSeason=%{x}\\u003cbr\\u003eTotal Sales=%{y}\\u003cextra\\u003e\\u003c\\u002fextra\\u003e\",\"legendgroup\":\"Espresso\",\"marker\":{\"color\":\"#19d3f3\",\"pattern\":{\"shape\":\"\"}},\"name\":\"Espresso\",\"offsetgroup\":\"Espresso\",\"orientation\":\"v\",\"showlegend\":true,\"textposition\":\"auto\",\"x\":[\"Autumn\",\"Spring\",\"Summer\",\"Winter\"],\"xaxis\":\"x\",\"y\":[533.34,683.74,757.16,716.04],\"yaxis\":\"y\",\"type\":\"bar\"},{\"alignmentgroup\":\"True\",\"hovertemplate\":\"coffee_name=Hot Chocolate\\u003cbr\\u003eSeason=%{x}\\u003cbr\\u003eTotal Sales=%{y}\\u003cextra\\u003e\\u003c\\u002fextra\\u003e\",\"legendgroup\":\"Hot Chocolate\",\"marker\":{\"color\":\"#FF6692\",\"pattern\":{\"shape\":\"\"}},\"name\":\"Hot Chocolate\",\"offsetgroup\":\"Hot Chocolate\",\"orientation\":\"v\",\"showlegend\":true,\"textposition\":\"auto\",\"x\":[\"Autumn\",\"Spring\",\"Summer\",\"Winter\"],\"xaxis\":\"x\",\"y\":[3764.1,2472.86,1086.02,2610.48],\"yaxis\":\"y\",\"type\":\"bar\"},{\"alignmentgroup\":\"True\",\"hovertemplate\":\"coffee_name=Latte\\u003cbr\\u003eSeason=%{x}\\u003cbr\\u003eTotal Sales=%{y}\\u003cextra\\u003e\\u003c\\u002fextra\\u003e\",\"legendgroup\":\"Latte\",\"marker\":{\"color\":\"#B6E880\",\"pattern\":{\"shape\":\"\"}},\"name\":\"Latte\",\"offsetgroup\":\"Latte\",\"orientation\":\"v\",\"showlegend\":true,\"textposition\":\"auto\",\"x\":[\"Autumn\",\"Spring\",\"Summer\",\"Winter\"],\"xaxis\":\"x\",\"y\":[9837.359999999999,6312.94,5647.08,5077.92],\"yaxis\":\"y\",\"type\":\"bar\"}],                        {\"template\":{\"data\":{\"histogram2dcontour\":[{\"type\":\"histogram2dcontour\",\"colorbar\":{\"outlinewidth\":0,\"ticks\":\"\"},\"colorscale\":[[0.0,\"#0d0887\"],[0.1111111111111111,\"#46039f\"],[0.2222222222222222,\"#7201a8\"],[0.3333333333333333,\"#9c179e\"],[0.4444444444444444,\"#bd3786\"],[0.5555555555555556,\"#d8576b\"],[0.6666666666666666,\"#ed7953\"],[0.7777777777777778,\"#fb9f3a\"],[0.8888888888888888,\"#fdca26\"],[1.0,\"#f0f921\"]]}],\"choropleth\":[{\"type\":\"choropleth\",\"colorbar\":{\"outlinewidth\":0,\"ticks\":\"\"}}],\"histogram2d\":[{\"type\":\"histogram2d\",\"colorbar\":{\"outlinewidth\":0,\"ticks\":\"\"},\"colorscale\":[[0.0,\"#0d0887\"],[0.1111111111111111,\"#46039f\"],[0.2222222222222222,\"#7201a8\"],[0.3333333333333333,\"#9c179e\"],[0.4444444444444444,\"#bd3786\"],[0.5555555555555556,\"#d8576b\"],[0.6666666666666666,\"#ed7953\"],[0.7777777777777778,\"#fb9f3a\"],[0.8888888888888888,\"#fdca26\"],[1.0,\"#f0f921\"]]}],\"heatmap\":[{\"type\":\"heatmap\",\"colorbar\":{\"outlinewidth\":0,\"ticks\":\"\"},\"colorscale\":[[0.0,\"#0d0887\"],[0.1111111111111111,\"#46039f\"],[0.2222222222222222,\"#7201a8\"],[0.3333333333333333,\"#9c179e\"],[0.4444444444444444,\"#bd3786\"],[0.5555555555555556,\"#d8576b\"],[0.6666666666666666,\"#ed7953\"],[0.7777777777777778,\"#fb9f3a\"],[0.8888888888888888,\"#fdca26\"],[1.0,\"#f0f921\"]]}],\"heatmapgl\":[{\"type\":\"heatmapgl\",\"colorbar\":{\"outlinewidth\":0,\"ticks\":\"\"},\"colorscale\":[[0.0,\"#0d0887\"],[0.1111111111111111,\"#46039f\"],[0.2222222222222222,\"#7201a8\"],[0.3333333333333333,\"#9c179e\"],[0.4444444444444444,\"#bd3786\"],[0.5555555555555556,\"#d8576b\"],[0.6666666666666666,\"#ed7953\"],[0.7777777777777778,\"#fb9f3a\"],[0.8888888888888888,\"#fdca26\"],[1.0,\"#f0f921\"]]}],\"contourcarpet\":[{\"type\":\"contourcarpet\",\"colorbar\":{\"outlinewidth\":0,\"ticks\":\"\"}}],\"contour\":[{\"type\":\"contour\",\"colorbar\":{\"outlinewidth\":0,\"ticks\":\"\"},\"colorscale\":[[0.0,\"#0d0887\"],[0.1111111111111111,\"#46039f\"],[0.2222222222222222,\"#7201a8\"],[0.3333333333333333,\"#9c179e\"],[0.4444444444444444,\"#bd3786\"],[0.5555555555555556,\"#d8576b\"],[0.6666666666666666,\"#ed7953\"],[0.7777777777777778,\"#fb9f3a\"],[0.8888888888888888,\"#fdca26\"],[1.0,\"#f0f921\"]]}],\"surface\":[{\"type\":\"surface\",\"colorbar\":{\"outlinewidth\":0,\"ticks\":\"\"},\"colorscale\":[[0.0,\"#0d0887\"],[0.1111111111111111,\"#46039f\"],[0.2222222222222222,\"#7201a8\"],[0.3333333333333333,\"#9c179e\"],[0.4444444444444444,\"#bd3786\"],[0.5555555555555556,\"#d8576b\"],[0.6666666666666666,\"#ed7953\"],[0.7777777777777778,\"#fb9f3a\"],[0.8888888888888888,\"#fdca26\"],[1.0,\"#f0f921\"]]}],\"mesh3d\":[{\"type\":\"mesh3d\",\"colorbar\":{\"outlinewidth\":0,\"ticks\":\"\"}}],\"scatter\":[{\"fillpattern\":{\"fillmode\":\"overlay\",\"size\":10,\"solidity\":0.2},\"type\":\"scatter\"}],\"parcoords\":[{\"type\":\"parcoords\",\"line\":{\"colorbar\":{\"outlinewidth\":0,\"ticks\":\"\"}}}],\"scatterpolargl\":[{\"type\":\"scatterpolargl\",\"marker\":{\"colorbar\":{\"outlinewidth\":0,\"ticks\":\"\"}}}],\"bar\":[{\"error_x\":{\"color\":\"#2a3f5f\"},\"error_y\":{\"color\":\"#2a3f5f\"},\"marker\":{\"line\":{\"color\":\"#E5ECF6\",\"width\":0.5},\"pattern\":{\"fillmode\":\"overlay\",\"size\":10,\"solidity\":0.2}},\"type\":\"bar\"}],\"scattergeo\":[{\"type\":\"scattergeo\",\"marker\":{\"colorbar\":{\"outlinewidth\":0,\"ticks\":\"\"}}}],\"scatterpolar\":[{\"type\":\"scatterpolar\",\"marker\":{\"colorbar\":{\"outlinewidth\":0,\"ticks\":\"\"}}}],\"histogram\":[{\"marker\":{\"pattern\":{\"fillmode\":\"overlay\",\"size\":10,\"solidity\":0.2}},\"type\":\"histogram\"}],\"scattergl\":[{\"type\":\"scattergl\",\"marker\":{\"colorbar\":{\"outlinewidth\":0,\"ticks\":\"\"}}}],\"scatter3d\":[{\"type\":\"scatter3d\",\"line\":{\"colorbar\":{\"outlinewidth\":0,\"ticks\":\"\"}},\"marker\":{\"colorbar\":{\"outlinewidth\":0,\"ticks\":\"\"}}}],\"scattermapbox\":[{\"type\":\"scattermapbox\",\"marker\":{\"colorbar\":{\"outlinewidth\":0,\"ticks\":\"\"}}}],\"scatterternary\":[{\"type\":\"scatterternary\",\"marker\":{\"colorbar\":{\"outlinewidth\":0,\"ticks\":\"\"}}}],\"scattercarpet\":[{\"type\":\"scattercarpet\",\"marker\":{\"colorbar\":{\"outlinewidth\":0,\"ticks\":\"\"}}}],\"carpet\":[{\"aaxis\":{\"endlinecolor\":\"#2a3f5f\",\"gridcolor\":\"white\",\"linecolor\":\"white\",\"minorgridcolor\":\"white\",\"startlinecolor\":\"#2a3f5f\"},\"baxis\":{\"endlinecolor\":\"#2a3f5f\",\"gridcolor\":\"white\",\"linecolor\":\"white\",\"minorgridcolor\":\"white\",\"startlinecolor\":\"#2a3f5f\"},\"type\":\"carpet\"}],\"table\":[{\"cells\":{\"fill\":{\"color\":\"#EBF0F8\"},\"line\":{\"color\":\"white\"}},\"header\":{\"fill\":{\"color\":\"#C8D4E3\"},\"line\":{\"color\":\"white\"}},\"type\":\"table\"}],\"barpolar\":[{\"marker\":{\"line\":{\"color\":\"#E5ECF6\",\"width\":0.5},\"pattern\":{\"fillmode\":\"overlay\",\"size\":10,\"solidity\":0.2}},\"type\":\"barpolar\"}],\"pie\":[{\"automargin\":true,\"type\":\"pie\"}]},\"layout\":{\"autotypenumbers\":\"strict\",\"colorway\":[\"#636efa\",\"#EF553B\",\"#00cc96\",\"#ab63fa\",\"#FFA15A\",\"#19d3f3\",\"#FF6692\",\"#B6E880\",\"#FF97FF\",\"#FECB52\"],\"font\":{\"color\":\"#2a3f5f\"},\"hovermode\":\"closest\",\"hoverlabel\":{\"align\":\"left\"},\"paper_bgcolor\":\"white\",\"plot_bgcolor\":\"#E5ECF6\",\"polar\":{\"bgcolor\":\"#E5ECF6\",\"angularaxis\":{\"gridcolor\":\"white\",\"linecolor\":\"white\",\"ticks\":\"\"},\"radialaxis\":{\"gridcolor\":\"white\",\"linecolor\":\"white\",\"ticks\":\"\"}},\"ternary\":{\"bgcolor\":\"#E5ECF6\",\"aaxis\":{\"gridcolor\":\"white\",\"linecolor\":\"white\",\"ticks\":\"\"},\"baxis\":{\"gridcolor\":\"white\",\"linecolor\":\"white\",\"ticks\":\"\"},\"caxis\":{\"gridcolor\":\"white\",\"linecolor\":\"white\",\"ticks\":\"\"}},\"coloraxis\":{\"colorbar\":{\"outlinewidth\":0,\"ticks\":\"\"}},\"colorscale\":{\"sequential\":[[0.0,\"#0d0887\"],[0.1111111111111111,\"#46039f\"],[0.2222222222222222,\"#7201a8\"],[0.3333333333333333,\"#9c179e\"],[0.4444444444444444,\"#bd3786\"],[0.5555555555555556,\"#d8576b\"],[0.6666666666666666,\"#ed7953\"],[0.7777777777777778,\"#fb9f3a\"],[0.8888888888888888,\"#fdca26\"],[1.0,\"#f0f921\"]],\"sequentialminus\":[[0.0,\"#0d0887\"],[0.1111111111111111,\"#46039f\"],[0.2222222222222222,\"#7201a8\"],[0.3333333333333333,\"#9c179e\"],[0.4444444444444444,\"#bd3786\"],[0.5555555555555556,\"#d8576b\"],[0.6666666666666666,\"#ed7953\"],[0.7777777777777778,\"#fb9f3a\"],[0.8888888888888888,\"#fdca26\"],[1.0,\"#f0f921\"]],\"diverging\":[[0,\"#8e0152\"],[0.1,\"#c51b7d\"],[0.2,\"#de77ae\"],[0.3,\"#f1b6da\"],[0.4,\"#fde0ef\"],[0.5,\"#f7f7f7\"],[0.6,\"#e6f5d0\"],[0.7,\"#b8e186\"],[0.8,\"#7fbc41\"],[0.9,\"#4d9221\"],[1,\"#276419\"]]},\"xaxis\":{\"gridcolor\":\"white\",\"linecolor\":\"white\",\"ticks\":\"\",\"title\":{\"standoff\":15},\"zerolinecolor\":\"white\",\"automargin\":true,\"zerolinewidth\":2},\"yaxis\":{\"gridcolor\":\"white\",\"linecolor\":\"white\",\"ticks\":\"\",\"title\":{\"standoff\":15},\"zerolinecolor\":\"white\",\"automargin\":true,\"zerolinewidth\":2},\"scene\":{\"xaxis\":{\"backgroundcolor\":\"#E5ECF6\",\"gridcolor\":\"white\",\"linecolor\":\"white\",\"showbackground\":true,\"ticks\":\"\",\"zerolinecolor\":\"white\",\"gridwidth\":2},\"yaxis\":{\"backgroundcolor\":\"#E5ECF6\",\"gridcolor\":\"white\",\"linecolor\":\"white\",\"showbackground\":true,\"ticks\":\"\",\"zerolinecolor\":\"white\",\"gridwidth\":2},\"zaxis\":{\"backgroundcolor\":\"#E5ECF6\",\"gridcolor\":\"white\",\"linecolor\":\"white\",\"showbackground\":true,\"ticks\":\"\",\"zerolinecolor\":\"white\",\"gridwidth\":2}},\"shapedefaults\":{\"line\":{\"color\":\"#2a3f5f\"}},\"annotationdefaults\":{\"arrowcolor\":\"#2a3f5f\",\"arrowhead\":0,\"arrowwidth\":1},\"geo\":{\"bgcolor\":\"white\",\"landcolor\":\"#E5ECF6\",\"subunitcolor\":\"white\",\"showland\":true,\"showlakes\":true,\"lakecolor\":\"white\"},\"title\":{\"x\":0.05},\"mapbox\":{\"style\":\"light\"}}},\"xaxis\":{\"anchor\":\"y\",\"domain\":[0.0,1.0],\"title\":{\"text\":\"Season\"}},\"yaxis\":{\"anchor\":\"x\",\"domain\":[0.0,1.0],\"title\":{\"text\":\"Total Sales\"}},\"legend\":{\"title\":{\"text\":\"coffee_name\"},\"tracegroupgap\":0},\"title\":{\"text\":\"Coffee Sales by Type Across Seasons\"},\"barmode\":\"group\"},                        {\"responsive\": true}                    ).then(function(){\n",
              "                            \n",
              "var gd = document.getElementById('a4a9922d-5e5d-4df1-94fb-565bcb2a59e4');\n",
              "var x = new MutationObserver(function (mutations, observer) {{\n",
              "        var display = window.getComputedStyle(gd).display;\n",
              "        if (!display || display === 'none') {{\n",
              "            console.log([gd, 'removed!']);\n",
              "            Plotly.purge(gd);\n",
              "            observer.disconnect();\n",
              "        }}\n",
              "}});\n",
              "\n",
              "// Listen for the removal of the full notebook cells\n",
              "var notebookContainer = gd.closest('#notebook-container');\n",
              "if (notebookContainer) {{\n",
              "    x.observe(notebookContainer, {childList: true});\n",
              "}}\n",
              "\n",
              "// Listen for the clearing of the current output cell\n",
              "var outputEl = gd.closest('.output');\n",
              "if (outputEl) {{\n",
              "    x.observe(outputEl, {childList: true});\n",
              "}}\n",
              "\n",
              "                        })                };                            </script>        </div>\n",
              "</body>\n",
              "</html>"
            ]
          },
          "metadata": {}
        }
      ],
      "source": [
        "# 1. Group sales by Season + Coffee Type\n",
        "season_coffee_sales = df.groupby([\"Season\", \"coffee_name\"])[\"money\"].sum().reset_index()\n",
        "\n",
        "# 2. For each season, find the top coffee\n",
        "best_coffee_per_season = season_coffee_sales.loc[season_coffee_sales.groupby(\"Season\")[\"money\"].idxmax()]\n",
        "\n",
        "print(\"\\n=== Best Coffee Type by Season ===\")\n",
        "for row in best_coffee_per_season.itertuples(index=False):\n",
        "    print(f\"{row.Season}: {row.coffee_name} → {round(row.money, 2)}\")\n",
        "\n",
        "# 3. Visualization\n",
        "fig = px.bar(\n",
        "    season_coffee_sales,\n",
        "    x=\"Season\",\n",
        "    y=\"money\",\n",
        "    color=\"coffee_name\",\n",
        "    barmode=\"group\",\n",
        "    labels={\"Season\": \"Season\", \"money\": \"Total Sales\"},\n",
        "    title=\"Coffee Sales by Type Across Seasons\"\n",
        ")\n",
        "fig.update_layout(xaxis_title=\"Season\", yaxis_title=\"Total Sales\")\n",
        "fig.show()\n"
      ]
    },
    {
      "cell_type": "markdown",
      "id": "9b718523",
      "metadata": {
        "id": "9b718523"
      },
      "source": [
        "### 8- Which hour of the day generates the most sales?"
      ]
    },
    {
      "cell_type": "code",
      "execution_count": 18,
      "id": "63aaa7f9",
      "metadata": {
        "colab": {
          "base_uri": "https://localhost:8080/",
          "height": 594
        },
        "id": "63aaa7f9",
        "outputId": "3f299af5-f57d-4c0c-99a9-e08c2c43cfa1"
      },
      "outputs": [
        {
          "output_type": "stream",
          "name": "stdout",
          "text": [
            "\n",
            "=== All Years ===\n",
            "Hour with highest total sales: 10 → 10198.52\n"
          ]
        },
        {
          "output_type": "display_data",
          "data": {
            "text/html": [
              "<html>\n",
              "<head><meta charset=\"utf-8\" /></head>\n",
              "<body>\n",
              "    <div>            <script src=\"https://cdnjs.cloudflare.com/ajax/libs/mathjax/2.7.5/MathJax.js?config=TeX-AMS-MML_SVG\"></script><script type=\"text/javascript\">if (window.MathJax && window.MathJax.Hub && window.MathJax.Hub.Config) {window.MathJax.Hub.Config({SVG: {font: \"STIX-Web\"}});}</script>                <script type=\"text/javascript\">window.PlotlyConfig = {MathJaxConfig: 'local'};</script>\n",
              "        <script charset=\"utf-8\" src=\"https://cdn.plot.ly/plotly-2.35.2.min.js\"></script>                <div id=\"5811e286-d91a-4204-a047-3455712a0d0d\" class=\"plotly-graph-div\" style=\"height:525px; width:100%;\"></div>            <script type=\"text/javascript\">                                    window.PLOTLYENV=window.PLOTLYENV || {};                                    if (document.getElementById(\"5811e286-d91a-4204-a047-3455712a0d0d\")) {                    Plotly.newPlot(                        \"5811e286-d91a-4204-a047-3455712a0d0d\",                        [{\"hovertemplate\":\"Hour of Day=%{x}\\u003cbr\\u003eTotal Sales=%{y}\\u003cextra\\u003e\\u003c\\u002fextra\\u003e\",\"legendgroup\":\"\",\"line\":{\"color\":\"#636efa\",\"dash\":\"solid\"},\"marker\":{\"symbol\":\"circle\"},\"mode\":\"lines+markers\",\"name\":\"\",\"orientation\":\"v\",\"showlegend\":false,\"x\":[6,7,8,9,10,11,12,13,14,15,16,17,18,19,20,21,22],\"xaxis\":\"x\",\"y\":[149.4,2846.020000000003,7017.880000000007,7264.280000000005,10198.519999999991,8453.100000000008,7419.620000000012,7028.760000000013,7173.8000000000175,7476.0200000000195,9031.840000000024,7659.760000000013,7162.600000000018,7751.9600000000155,5578.9200000000155,6397.940000000017,3635.160000000008],\"yaxis\":\"y\",\"type\":\"scatter\"}],                        {\"template\":{\"data\":{\"histogram2dcontour\":[{\"type\":\"histogram2dcontour\",\"colorbar\":{\"outlinewidth\":0,\"ticks\":\"\"},\"colorscale\":[[0.0,\"#0d0887\"],[0.1111111111111111,\"#46039f\"],[0.2222222222222222,\"#7201a8\"],[0.3333333333333333,\"#9c179e\"],[0.4444444444444444,\"#bd3786\"],[0.5555555555555556,\"#d8576b\"],[0.6666666666666666,\"#ed7953\"],[0.7777777777777778,\"#fb9f3a\"],[0.8888888888888888,\"#fdca26\"],[1.0,\"#f0f921\"]]}],\"choropleth\":[{\"type\":\"choropleth\",\"colorbar\":{\"outlinewidth\":0,\"ticks\":\"\"}}],\"histogram2d\":[{\"type\":\"histogram2d\",\"colorbar\":{\"outlinewidth\":0,\"ticks\":\"\"},\"colorscale\":[[0.0,\"#0d0887\"],[0.1111111111111111,\"#46039f\"],[0.2222222222222222,\"#7201a8\"],[0.3333333333333333,\"#9c179e\"],[0.4444444444444444,\"#bd3786\"],[0.5555555555555556,\"#d8576b\"],[0.6666666666666666,\"#ed7953\"],[0.7777777777777778,\"#fb9f3a\"],[0.8888888888888888,\"#fdca26\"],[1.0,\"#f0f921\"]]}],\"heatmap\":[{\"type\":\"heatmap\",\"colorbar\":{\"outlinewidth\":0,\"ticks\":\"\"},\"colorscale\":[[0.0,\"#0d0887\"],[0.1111111111111111,\"#46039f\"],[0.2222222222222222,\"#7201a8\"],[0.3333333333333333,\"#9c179e\"],[0.4444444444444444,\"#bd3786\"],[0.5555555555555556,\"#d8576b\"],[0.6666666666666666,\"#ed7953\"],[0.7777777777777778,\"#fb9f3a\"],[0.8888888888888888,\"#fdca26\"],[1.0,\"#f0f921\"]]}],\"heatmapgl\":[{\"type\":\"heatmapgl\",\"colorbar\":{\"outlinewidth\":0,\"ticks\":\"\"},\"colorscale\":[[0.0,\"#0d0887\"],[0.1111111111111111,\"#46039f\"],[0.2222222222222222,\"#7201a8\"],[0.3333333333333333,\"#9c179e\"],[0.4444444444444444,\"#bd3786\"],[0.5555555555555556,\"#d8576b\"],[0.6666666666666666,\"#ed7953\"],[0.7777777777777778,\"#fb9f3a\"],[0.8888888888888888,\"#fdca26\"],[1.0,\"#f0f921\"]]}],\"contourcarpet\":[{\"type\":\"contourcarpet\",\"colorbar\":{\"outlinewidth\":0,\"ticks\":\"\"}}],\"contour\":[{\"type\":\"contour\",\"colorbar\":{\"outlinewidth\":0,\"ticks\":\"\"},\"colorscale\":[[0.0,\"#0d0887\"],[0.1111111111111111,\"#46039f\"],[0.2222222222222222,\"#7201a8\"],[0.3333333333333333,\"#9c179e\"],[0.4444444444444444,\"#bd3786\"],[0.5555555555555556,\"#d8576b\"],[0.6666666666666666,\"#ed7953\"],[0.7777777777777778,\"#fb9f3a\"],[0.8888888888888888,\"#fdca26\"],[1.0,\"#f0f921\"]]}],\"surface\":[{\"type\":\"surface\",\"colorbar\":{\"outlinewidth\":0,\"ticks\":\"\"},\"colorscale\":[[0.0,\"#0d0887\"],[0.1111111111111111,\"#46039f\"],[0.2222222222222222,\"#7201a8\"],[0.3333333333333333,\"#9c179e\"],[0.4444444444444444,\"#bd3786\"],[0.5555555555555556,\"#d8576b\"],[0.6666666666666666,\"#ed7953\"],[0.7777777777777778,\"#fb9f3a\"],[0.8888888888888888,\"#fdca26\"],[1.0,\"#f0f921\"]]}],\"mesh3d\":[{\"type\":\"mesh3d\",\"colorbar\":{\"outlinewidth\":0,\"ticks\":\"\"}}],\"scatter\":[{\"fillpattern\":{\"fillmode\":\"overlay\",\"size\":10,\"solidity\":0.2},\"type\":\"scatter\"}],\"parcoords\":[{\"type\":\"parcoords\",\"line\":{\"colorbar\":{\"outlinewidth\":0,\"ticks\":\"\"}}}],\"scatterpolargl\":[{\"type\":\"scatterpolargl\",\"marker\":{\"colorbar\":{\"outlinewidth\":0,\"ticks\":\"\"}}}],\"bar\":[{\"error_x\":{\"color\":\"#2a3f5f\"},\"error_y\":{\"color\":\"#2a3f5f\"},\"marker\":{\"line\":{\"color\":\"#E5ECF6\",\"width\":0.5},\"pattern\":{\"fillmode\":\"overlay\",\"size\":10,\"solidity\":0.2}},\"type\":\"bar\"}],\"scattergeo\":[{\"type\":\"scattergeo\",\"marker\":{\"colorbar\":{\"outlinewidth\":0,\"ticks\":\"\"}}}],\"scatterpolar\":[{\"type\":\"scatterpolar\",\"marker\":{\"colorbar\":{\"outlinewidth\":0,\"ticks\":\"\"}}}],\"histogram\":[{\"marker\":{\"pattern\":{\"fillmode\":\"overlay\",\"size\":10,\"solidity\":0.2}},\"type\":\"histogram\"}],\"scattergl\":[{\"type\":\"scattergl\",\"marker\":{\"colorbar\":{\"outlinewidth\":0,\"ticks\":\"\"}}}],\"scatter3d\":[{\"type\":\"scatter3d\",\"line\":{\"colorbar\":{\"outlinewidth\":0,\"ticks\":\"\"}},\"marker\":{\"colorbar\":{\"outlinewidth\":0,\"ticks\":\"\"}}}],\"scattermapbox\":[{\"type\":\"scattermapbox\",\"marker\":{\"colorbar\":{\"outlinewidth\":0,\"ticks\":\"\"}}}],\"scatterternary\":[{\"type\":\"scatterternary\",\"marker\":{\"colorbar\":{\"outlinewidth\":0,\"ticks\":\"\"}}}],\"scattercarpet\":[{\"type\":\"scattercarpet\",\"marker\":{\"colorbar\":{\"outlinewidth\":0,\"ticks\":\"\"}}}],\"carpet\":[{\"aaxis\":{\"endlinecolor\":\"#2a3f5f\",\"gridcolor\":\"white\",\"linecolor\":\"white\",\"minorgridcolor\":\"white\",\"startlinecolor\":\"#2a3f5f\"},\"baxis\":{\"endlinecolor\":\"#2a3f5f\",\"gridcolor\":\"white\",\"linecolor\":\"white\",\"minorgridcolor\":\"white\",\"startlinecolor\":\"#2a3f5f\"},\"type\":\"carpet\"}],\"table\":[{\"cells\":{\"fill\":{\"color\":\"#EBF0F8\"},\"line\":{\"color\":\"white\"}},\"header\":{\"fill\":{\"color\":\"#C8D4E3\"},\"line\":{\"color\":\"white\"}},\"type\":\"table\"}],\"barpolar\":[{\"marker\":{\"line\":{\"color\":\"#E5ECF6\",\"width\":0.5},\"pattern\":{\"fillmode\":\"overlay\",\"size\":10,\"solidity\":0.2}},\"type\":\"barpolar\"}],\"pie\":[{\"automargin\":true,\"type\":\"pie\"}]},\"layout\":{\"autotypenumbers\":\"strict\",\"colorway\":[\"#636efa\",\"#EF553B\",\"#00cc96\",\"#ab63fa\",\"#FFA15A\",\"#19d3f3\",\"#FF6692\",\"#B6E880\",\"#FF97FF\",\"#FECB52\"],\"font\":{\"color\":\"#2a3f5f\"},\"hovermode\":\"closest\",\"hoverlabel\":{\"align\":\"left\"},\"paper_bgcolor\":\"white\",\"plot_bgcolor\":\"#E5ECF6\",\"polar\":{\"bgcolor\":\"#E5ECF6\",\"angularaxis\":{\"gridcolor\":\"white\",\"linecolor\":\"white\",\"ticks\":\"\"},\"radialaxis\":{\"gridcolor\":\"white\",\"linecolor\":\"white\",\"ticks\":\"\"}},\"ternary\":{\"bgcolor\":\"#E5ECF6\",\"aaxis\":{\"gridcolor\":\"white\",\"linecolor\":\"white\",\"ticks\":\"\"},\"baxis\":{\"gridcolor\":\"white\",\"linecolor\":\"white\",\"ticks\":\"\"},\"caxis\":{\"gridcolor\":\"white\",\"linecolor\":\"white\",\"ticks\":\"\"}},\"coloraxis\":{\"colorbar\":{\"outlinewidth\":0,\"ticks\":\"\"}},\"colorscale\":{\"sequential\":[[0.0,\"#0d0887\"],[0.1111111111111111,\"#46039f\"],[0.2222222222222222,\"#7201a8\"],[0.3333333333333333,\"#9c179e\"],[0.4444444444444444,\"#bd3786\"],[0.5555555555555556,\"#d8576b\"],[0.6666666666666666,\"#ed7953\"],[0.7777777777777778,\"#fb9f3a\"],[0.8888888888888888,\"#fdca26\"],[1.0,\"#f0f921\"]],\"sequentialminus\":[[0.0,\"#0d0887\"],[0.1111111111111111,\"#46039f\"],[0.2222222222222222,\"#7201a8\"],[0.3333333333333333,\"#9c179e\"],[0.4444444444444444,\"#bd3786\"],[0.5555555555555556,\"#d8576b\"],[0.6666666666666666,\"#ed7953\"],[0.7777777777777778,\"#fb9f3a\"],[0.8888888888888888,\"#fdca26\"],[1.0,\"#f0f921\"]],\"diverging\":[[0,\"#8e0152\"],[0.1,\"#c51b7d\"],[0.2,\"#de77ae\"],[0.3,\"#f1b6da\"],[0.4,\"#fde0ef\"],[0.5,\"#f7f7f7\"],[0.6,\"#e6f5d0\"],[0.7,\"#b8e186\"],[0.8,\"#7fbc41\"],[0.9,\"#4d9221\"],[1,\"#276419\"]]},\"xaxis\":{\"gridcolor\":\"white\",\"linecolor\":\"white\",\"ticks\":\"\",\"title\":{\"standoff\":15},\"zerolinecolor\":\"white\",\"automargin\":true,\"zerolinewidth\":2},\"yaxis\":{\"gridcolor\":\"white\",\"linecolor\":\"white\",\"ticks\":\"\",\"title\":{\"standoff\":15},\"zerolinecolor\":\"white\",\"automargin\":true,\"zerolinewidth\":2},\"scene\":{\"xaxis\":{\"backgroundcolor\":\"#E5ECF6\",\"gridcolor\":\"white\",\"linecolor\":\"white\",\"showbackground\":true,\"ticks\":\"\",\"zerolinecolor\":\"white\",\"gridwidth\":2},\"yaxis\":{\"backgroundcolor\":\"#E5ECF6\",\"gridcolor\":\"white\",\"linecolor\":\"white\",\"showbackground\":true,\"ticks\":\"\",\"zerolinecolor\":\"white\",\"gridwidth\":2},\"zaxis\":{\"backgroundcolor\":\"#E5ECF6\",\"gridcolor\":\"white\",\"linecolor\":\"white\",\"showbackground\":true,\"ticks\":\"\",\"zerolinecolor\":\"white\",\"gridwidth\":2}},\"shapedefaults\":{\"line\":{\"color\":\"#2a3f5f\"}},\"annotationdefaults\":{\"arrowcolor\":\"#2a3f5f\",\"arrowhead\":0,\"arrowwidth\":1},\"geo\":{\"bgcolor\":\"white\",\"landcolor\":\"#E5ECF6\",\"subunitcolor\":\"white\",\"showland\":true,\"showlakes\":true,\"lakecolor\":\"white\"},\"title\":{\"x\":0.05},\"mapbox\":{\"style\":\"light\"}}},\"xaxis\":{\"anchor\":\"y\",\"domain\":[0.0,1.0],\"title\":{\"text\":\"Hour of Day\"},\"dtick\":1},\"yaxis\":{\"anchor\":\"x\",\"domain\":[0.0,1.0],\"title\":{\"text\":\"Total Sales\"}},\"legend\":{\"tracegroupgap\":0},\"title\":{\"text\":\"Total Sales by Hour of Day (All Years)\"}},                        {\"responsive\": true}                    ).then(function(){\n",
              "                            \n",
              "var gd = document.getElementById('5811e286-d91a-4204-a047-3455712a0d0d');\n",
              "var x = new MutationObserver(function (mutations, observer) {{\n",
              "        var display = window.getComputedStyle(gd).display;\n",
              "        if (!display || display === 'none') {{\n",
              "            console.log([gd, 'removed!']);\n",
              "            Plotly.purge(gd);\n",
              "            observer.disconnect();\n",
              "        }}\n",
              "}});\n",
              "\n",
              "// Listen for the removal of the full notebook cells\n",
              "var notebookContainer = gd.closest('#notebook-container');\n",
              "if (notebookContainer) {{\n",
              "    x.observe(notebookContainer, {childList: true});\n",
              "}}\n",
              "\n",
              "// Listen for the clearing of the current output cell\n",
              "var outputEl = gd.closest('.output');\n",
              "if (outputEl) {{\n",
              "    x.observe(outputEl, {childList: true});\n",
              "}}\n",
              "\n",
              "                        })                };                            </script>        </div>\n",
              "</body>\n",
              "</html>"
            ]
          },
          "metadata": {}
        }
      ],
      "source": [
        "# 1. Declaring the variable and index\n",
        "hour = df[\"hour_of_day\"].values\n",
        "money = df[\"money\"].values\n",
        "hours, inv_hour = np.unique(hour, return_inverse=True)\n",
        "\n",
        "# 2. Finding the total sales per hour\n",
        "totals_by_hour = np.bincount(inv_hour, weights=money).astype(float)\n",
        "\n",
        "# 3. find top hour with most sales\n",
        "best_idx = np.argmax(totals_by_hour)\n",
        "best_hour = hours[best_idx]\n",
        "best_value = totals_by_hour[best_idx]\n",
        "\n",
        "print(\"\\n=== All Years ===\")\n",
        "print(\"Hour with highest total sales:\", best_hour, \"→\", round(best_value, 2))\n",
        "\n",
        "# Visualization\n",
        "fig = px.line(\n",
        "    x=hours,\n",
        "    y=totals_by_hour,\n",
        "    markers=True,\n",
        "    labels={\"x\": \"Hour of Day\", \"y\": \"Total Sales\"},\n",
        "    title=\"Total Sales by Hour of Day (All Years)\"\n",
        ")\n",
        "fig.update_layout(xaxis=dict(dtick=1))  #\n",
        "fig.show()"
      ]
    },
    {
      "cell_type": "markdown",
      "id": "63906f7e",
      "metadata": {
        "id": "63906f7e"
      },
      "source": [
        "### Correlation Heatmap"
      ]
    },
    {
      "cell_type": "code",
      "execution_count": 19,
      "id": "b0858ae3",
      "metadata": {
        "colab": {
          "base_uri": "https://localhost:8080/",
          "height": 542
        },
        "id": "b0858ae3",
        "outputId": "5ff5311a-519a-44b1-e291-d9c70bc56ae4"
      },
      "outputs": [
        {
          "output_type": "display_data",
          "data": {
            "text/html": [
              "<html>\n",
              "<head><meta charset=\"utf-8\" /></head>\n",
              "<body>\n",
              "    <div>            <script src=\"https://cdnjs.cloudflare.com/ajax/libs/mathjax/2.7.5/MathJax.js?config=TeX-AMS-MML_SVG\"></script><script type=\"text/javascript\">if (window.MathJax && window.MathJax.Hub && window.MathJax.Hub.Config) {window.MathJax.Hub.Config({SVG: {font: \"STIX-Web\"}});}</script>                <script type=\"text/javascript\">window.PlotlyConfig = {MathJaxConfig: 'local'};</script>\n",
              "        <script charset=\"utf-8\" src=\"https://cdn.plot.ly/plotly-2.35.2.min.js\"></script>                <div id=\"42449916-84bc-4ffd-b09d-5cb6f250d751\" class=\"plotly-graph-div\" style=\"height:525px; width:100%;\"></div>            <script type=\"text/javascript\">                                    window.PLOTLYENV=window.PLOTLYENV || {};                                    if (document.getElementById(\"42449916-84bc-4ffd-b09d-5cb6f250d751\")) {                    Plotly.newPlot(                        \"42449916-84bc-4ffd-b09d-5cb6f250d751\",                        [{\"coloraxis\":\"coloraxis\",\"name\":\"0\",\"texttemplate\":\"%{z}\",\"x\":[\"hour_of_day\",\"Weekdaysort\",\"Monthsort\",\"money\"],\"y\":[\"hour_of_day\",\"Weekdaysort\",\"Monthsort\",\"money\"],\"z\":[[1.0,-0.002613958842374278,0.008292999013961046,0.20274793514276118],[-0.002613958842374278,1.0,0.04414093043700222,-0.017264090689989044],[0.008292999013961046,0.04414093043700222,1.0,-0.05004319098569995],[0.20274793514276118,-0.017264090689989044,-0.05004319098569995,1.0]],\"type\":\"heatmap\",\"xaxis\":\"x\",\"yaxis\":\"y\",\"hovertemplate\":\"x: %{x}\\u003cbr\\u003ey: %{y}\\u003cbr\\u003ecolor: %{z}\\u003cextra\\u003e\\u003c\\u002fextra\\u003e\"}],                        {\"template\":{\"data\":{\"histogram2dcontour\":[{\"type\":\"histogram2dcontour\",\"colorbar\":{\"outlinewidth\":0,\"ticks\":\"\"},\"colorscale\":[[0.0,\"#0d0887\"],[0.1111111111111111,\"#46039f\"],[0.2222222222222222,\"#7201a8\"],[0.3333333333333333,\"#9c179e\"],[0.4444444444444444,\"#bd3786\"],[0.5555555555555556,\"#d8576b\"],[0.6666666666666666,\"#ed7953\"],[0.7777777777777778,\"#fb9f3a\"],[0.8888888888888888,\"#fdca26\"],[1.0,\"#f0f921\"]]}],\"choropleth\":[{\"type\":\"choropleth\",\"colorbar\":{\"outlinewidth\":0,\"ticks\":\"\"}}],\"histogram2d\":[{\"type\":\"histogram2d\",\"colorbar\":{\"outlinewidth\":0,\"ticks\":\"\"},\"colorscale\":[[0.0,\"#0d0887\"],[0.1111111111111111,\"#46039f\"],[0.2222222222222222,\"#7201a8\"],[0.3333333333333333,\"#9c179e\"],[0.4444444444444444,\"#bd3786\"],[0.5555555555555556,\"#d8576b\"],[0.6666666666666666,\"#ed7953\"],[0.7777777777777778,\"#fb9f3a\"],[0.8888888888888888,\"#fdca26\"],[1.0,\"#f0f921\"]]}],\"heatmap\":[{\"type\":\"heatmap\",\"colorbar\":{\"outlinewidth\":0,\"ticks\":\"\"},\"colorscale\":[[0.0,\"#0d0887\"],[0.1111111111111111,\"#46039f\"],[0.2222222222222222,\"#7201a8\"],[0.3333333333333333,\"#9c179e\"],[0.4444444444444444,\"#bd3786\"],[0.5555555555555556,\"#d8576b\"],[0.6666666666666666,\"#ed7953\"],[0.7777777777777778,\"#fb9f3a\"],[0.8888888888888888,\"#fdca26\"],[1.0,\"#f0f921\"]]}],\"heatmapgl\":[{\"type\":\"heatmapgl\",\"colorbar\":{\"outlinewidth\":0,\"ticks\":\"\"},\"colorscale\":[[0.0,\"#0d0887\"],[0.1111111111111111,\"#46039f\"],[0.2222222222222222,\"#7201a8\"],[0.3333333333333333,\"#9c179e\"],[0.4444444444444444,\"#bd3786\"],[0.5555555555555556,\"#d8576b\"],[0.6666666666666666,\"#ed7953\"],[0.7777777777777778,\"#fb9f3a\"],[0.8888888888888888,\"#fdca26\"],[1.0,\"#f0f921\"]]}],\"contourcarpet\":[{\"type\":\"contourcarpet\",\"colorbar\":{\"outlinewidth\":0,\"ticks\":\"\"}}],\"contour\":[{\"type\":\"contour\",\"colorbar\":{\"outlinewidth\":0,\"ticks\":\"\"},\"colorscale\":[[0.0,\"#0d0887\"],[0.1111111111111111,\"#46039f\"],[0.2222222222222222,\"#7201a8\"],[0.3333333333333333,\"#9c179e\"],[0.4444444444444444,\"#bd3786\"],[0.5555555555555556,\"#d8576b\"],[0.6666666666666666,\"#ed7953\"],[0.7777777777777778,\"#fb9f3a\"],[0.8888888888888888,\"#fdca26\"],[1.0,\"#f0f921\"]]}],\"surface\":[{\"type\":\"surface\",\"colorbar\":{\"outlinewidth\":0,\"ticks\":\"\"},\"colorscale\":[[0.0,\"#0d0887\"],[0.1111111111111111,\"#46039f\"],[0.2222222222222222,\"#7201a8\"],[0.3333333333333333,\"#9c179e\"],[0.4444444444444444,\"#bd3786\"],[0.5555555555555556,\"#d8576b\"],[0.6666666666666666,\"#ed7953\"],[0.7777777777777778,\"#fb9f3a\"],[0.8888888888888888,\"#fdca26\"],[1.0,\"#f0f921\"]]}],\"mesh3d\":[{\"type\":\"mesh3d\",\"colorbar\":{\"outlinewidth\":0,\"ticks\":\"\"}}],\"scatter\":[{\"fillpattern\":{\"fillmode\":\"overlay\",\"size\":10,\"solidity\":0.2},\"type\":\"scatter\"}],\"parcoords\":[{\"type\":\"parcoords\",\"line\":{\"colorbar\":{\"outlinewidth\":0,\"ticks\":\"\"}}}],\"scatterpolargl\":[{\"type\":\"scatterpolargl\",\"marker\":{\"colorbar\":{\"outlinewidth\":0,\"ticks\":\"\"}}}],\"bar\":[{\"error_x\":{\"color\":\"#2a3f5f\"},\"error_y\":{\"color\":\"#2a3f5f\"},\"marker\":{\"line\":{\"color\":\"#E5ECF6\",\"width\":0.5},\"pattern\":{\"fillmode\":\"overlay\",\"size\":10,\"solidity\":0.2}},\"type\":\"bar\"}],\"scattergeo\":[{\"type\":\"scattergeo\",\"marker\":{\"colorbar\":{\"outlinewidth\":0,\"ticks\":\"\"}}}],\"scatterpolar\":[{\"type\":\"scatterpolar\",\"marker\":{\"colorbar\":{\"outlinewidth\":0,\"ticks\":\"\"}}}],\"histogram\":[{\"marker\":{\"pattern\":{\"fillmode\":\"overlay\",\"size\":10,\"solidity\":0.2}},\"type\":\"histogram\"}],\"scattergl\":[{\"type\":\"scattergl\",\"marker\":{\"colorbar\":{\"outlinewidth\":0,\"ticks\":\"\"}}}],\"scatter3d\":[{\"type\":\"scatter3d\",\"line\":{\"colorbar\":{\"outlinewidth\":0,\"ticks\":\"\"}},\"marker\":{\"colorbar\":{\"outlinewidth\":0,\"ticks\":\"\"}}}],\"scattermapbox\":[{\"type\":\"scattermapbox\",\"marker\":{\"colorbar\":{\"outlinewidth\":0,\"ticks\":\"\"}}}],\"scatterternary\":[{\"type\":\"scatterternary\",\"marker\":{\"colorbar\":{\"outlinewidth\":0,\"ticks\":\"\"}}}],\"scattercarpet\":[{\"type\":\"scattercarpet\",\"marker\":{\"colorbar\":{\"outlinewidth\":0,\"ticks\":\"\"}}}],\"carpet\":[{\"aaxis\":{\"endlinecolor\":\"#2a3f5f\",\"gridcolor\":\"white\",\"linecolor\":\"white\",\"minorgridcolor\":\"white\",\"startlinecolor\":\"#2a3f5f\"},\"baxis\":{\"endlinecolor\":\"#2a3f5f\",\"gridcolor\":\"white\",\"linecolor\":\"white\",\"minorgridcolor\":\"white\",\"startlinecolor\":\"#2a3f5f\"},\"type\":\"carpet\"}],\"table\":[{\"cells\":{\"fill\":{\"color\":\"#EBF0F8\"},\"line\":{\"color\":\"white\"}},\"header\":{\"fill\":{\"color\":\"#C8D4E3\"},\"line\":{\"color\":\"white\"}},\"type\":\"table\"}],\"barpolar\":[{\"marker\":{\"line\":{\"color\":\"#E5ECF6\",\"width\":0.5},\"pattern\":{\"fillmode\":\"overlay\",\"size\":10,\"solidity\":0.2}},\"type\":\"barpolar\"}],\"pie\":[{\"automargin\":true,\"type\":\"pie\"}]},\"layout\":{\"autotypenumbers\":\"strict\",\"colorway\":[\"#636efa\",\"#EF553B\",\"#00cc96\",\"#ab63fa\",\"#FFA15A\",\"#19d3f3\",\"#FF6692\",\"#B6E880\",\"#FF97FF\",\"#FECB52\"],\"font\":{\"color\":\"#2a3f5f\"},\"hovermode\":\"closest\",\"hoverlabel\":{\"align\":\"left\"},\"paper_bgcolor\":\"white\",\"plot_bgcolor\":\"#E5ECF6\",\"polar\":{\"bgcolor\":\"#E5ECF6\",\"angularaxis\":{\"gridcolor\":\"white\",\"linecolor\":\"white\",\"ticks\":\"\"},\"radialaxis\":{\"gridcolor\":\"white\",\"linecolor\":\"white\",\"ticks\":\"\"}},\"ternary\":{\"bgcolor\":\"#E5ECF6\",\"aaxis\":{\"gridcolor\":\"white\",\"linecolor\":\"white\",\"ticks\":\"\"},\"baxis\":{\"gridcolor\":\"white\",\"linecolor\":\"white\",\"ticks\":\"\"},\"caxis\":{\"gridcolor\":\"white\",\"linecolor\":\"white\",\"ticks\":\"\"}},\"coloraxis\":{\"colorbar\":{\"outlinewidth\":0,\"ticks\":\"\"}},\"colorscale\":{\"sequential\":[[0.0,\"#0d0887\"],[0.1111111111111111,\"#46039f\"],[0.2222222222222222,\"#7201a8\"],[0.3333333333333333,\"#9c179e\"],[0.4444444444444444,\"#bd3786\"],[0.5555555555555556,\"#d8576b\"],[0.6666666666666666,\"#ed7953\"],[0.7777777777777778,\"#fb9f3a\"],[0.8888888888888888,\"#fdca26\"],[1.0,\"#f0f921\"]],\"sequentialminus\":[[0.0,\"#0d0887\"],[0.1111111111111111,\"#46039f\"],[0.2222222222222222,\"#7201a8\"],[0.3333333333333333,\"#9c179e\"],[0.4444444444444444,\"#bd3786\"],[0.5555555555555556,\"#d8576b\"],[0.6666666666666666,\"#ed7953\"],[0.7777777777777778,\"#fb9f3a\"],[0.8888888888888888,\"#fdca26\"],[1.0,\"#f0f921\"]],\"diverging\":[[0,\"#8e0152\"],[0.1,\"#c51b7d\"],[0.2,\"#de77ae\"],[0.3,\"#f1b6da\"],[0.4,\"#fde0ef\"],[0.5,\"#f7f7f7\"],[0.6,\"#e6f5d0\"],[0.7,\"#b8e186\"],[0.8,\"#7fbc41\"],[0.9,\"#4d9221\"],[1,\"#276419\"]]},\"xaxis\":{\"gridcolor\":\"white\",\"linecolor\":\"white\",\"ticks\":\"\",\"title\":{\"standoff\":15},\"zerolinecolor\":\"white\",\"automargin\":true,\"zerolinewidth\":2},\"yaxis\":{\"gridcolor\":\"white\",\"linecolor\":\"white\",\"ticks\":\"\",\"title\":{\"standoff\":15},\"zerolinecolor\":\"white\",\"automargin\":true,\"zerolinewidth\":2},\"scene\":{\"xaxis\":{\"backgroundcolor\":\"#E5ECF6\",\"gridcolor\":\"white\",\"linecolor\":\"white\",\"showbackground\":true,\"ticks\":\"\",\"zerolinecolor\":\"white\",\"gridwidth\":2},\"yaxis\":{\"backgroundcolor\":\"#E5ECF6\",\"gridcolor\":\"white\",\"linecolor\":\"white\",\"showbackground\":true,\"ticks\":\"\",\"zerolinecolor\":\"white\",\"gridwidth\":2},\"zaxis\":{\"backgroundcolor\":\"#E5ECF6\",\"gridcolor\":\"white\",\"linecolor\":\"white\",\"showbackground\":true,\"ticks\":\"\",\"zerolinecolor\":\"white\",\"gridwidth\":2}},\"shapedefaults\":{\"line\":{\"color\":\"#2a3f5f\"}},\"annotationdefaults\":{\"arrowcolor\":\"#2a3f5f\",\"arrowhead\":0,\"arrowwidth\":1},\"geo\":{\"bgcolor\":\"white\",\"landcolor\":\"#E5ECF6\",\"subunitcolor\":\"white\",\"showland\":true,\"showlakes\":true,\"lakecolor\":\"white\"},\"title\":{\"x\":0.05},\"mapbox\":{\"style\":\"light\"}}},\"xaxis\":{\"anchor\":\"y\",\"domain\":[0.0,1.0],\"scaleanchor\":\"y\",\"constrain\":\"domain\"},\"yaxis\":{\"anchor\":\"x\",\"domain\":[0.0,1.0],\"autorange\":\"reversed\",\"constrain\":\"domain\"},\"coloraxis\":{\"colorscale\":[[0.0,\"rgb(255,255,217)\"],[0.125,\"rgb(237,248,177)\"],[0.25,\"rgb(199,233,180)\"],[0.375,\"rgb(127,205,187)\"],[0.5,\"rgb(65,182,196)\"],[0.625,\"rgb(29,145,192)\"],[0.75,\"rgb(34,94,168)\"],[0.875,\"rgb(37,52,148)\"],[1.0,\"rgb(8,29,88)\"]]},\"title\":{\"text\":\"Correlation Heatmap\"}},                        {\"responsive\": true}                    ).then(function(){\n",
              "                            \n",
              "var gd = document.getElementById('42449916-84bc-4ffd-b09d-5cb6f250d751');\n",
              "var x = new MutationObserver(function (mutations, observer) {{\n",
              "        var display = window.getComputedStyle(gd).display;\n",
              "        if (!display || display === 'none') {{\n",
              "            console.log([gd, 'removed!']);\n",
              "            Plotly.purge(gd);\n",
              "            observer.disconnect();\n",
              "        }}\n",
              "}});\n",
              "\n",
              "// Listen for the removal of the full notebook cells\n",
              "var notebookContainer = gd.closest('#notebook-container');\n",
              "if (notebookContainer) {{\n",
              "    x.observe(notebookContainer, {childList: true});\n",
              "}}\n",
              "\n",
              "// Listen for the clearing of the current output cell\n",
              "var outputEl = gd.closest('.output');\n",
              "if (outputEl) {{\n",
              "    x.observe(outputEl, {childList: true});\n",
              "}}\n",
              "\n",
              "                        })                };                            </script>        </div>\n",
              "</body>\n",
              "</html>"
            ]
          },
          "metadata": {}
        }
      ],
      "source": [
        "import plotly.express as px\n",
        "\n",
        "# Select numeric columns for correlation\n",
        "numeric_cols = [\"hour_of_day\", \"Weekdaysort\", \"Monthsort\", \"money\"]\n",
        "corr = df[numeric_cols].corr()\n",
        "\n",
        "# Plotly heatmap\n",
        "fig = px.imshow(\n",
        "    corr,\n",
        "    text_auto=True,\n",
        "    color_continuous_scale=\"YlGnBu\",\n",
        "    title=\"Correlation Heatmap\"\n",
        ")\n",
        "fig.show()"
      ]
    },
    {
      "cell_type": "markdown",
      "id": "f692a9c8",
      "metadata": {
        "id": "f692a9c8"
      },
      "source": [
        "## Model"
      ]
    },
    {
      "cell_type": "code",
      "execution_count": 68,
      "id": "068caa12",
      "metadata": {
        "id": "068caa12"
      },
      "outputs": [],
      "source": [
        "# 1. Create a proper copy of the dataframe\n",
        "df_model = df.copy()"
      ]
    },
    {
      "cell_type": "code",
      "source": [
        " #2. Drop unwanted columns\n",
        "df_model.drop(['Time', 'cash_type', 'Month_name', 'Weekday'], axis=1, inplace=True)"
      ],
      "metadata": {
        "id": "cSV3BZtccxUm"
      },
      "id": "cSV3BZtccxUm",
      "execution_count": 69,
      "outputs": []
    },
    {
      "cell_type": "code",
      "source": [
        "# 3. Process the date column and extract feature\n",
        "df_model['Date'] = pd.to_datetime(df_model['Date'], format='%Y-%m-%d')\n",
        "df_model['Year'] = df_model['Date'].dt.year.astype(str)\n",
        "df_model['Month'] = df_model['Date'].dt.month\n",
        "df_model['Season'] = df_model['Month'].map({\n",
        "    12:'Winter',1:'Winter',2:'Winter',\n",
        "    3:'Spring',4:'Spring',5:'Spring',\n",
        "    6:'Summer',7:'Summer',8:'Summer',\n",
        "    9:'Autumn',10:'Autumn',11:'Autumn'\n",
        "})"
      ],
      "metadata": {
        "id": "IhgyEXs3bv3X"
      },
      "id": "IhgyEXs3bv3X",
      "execution_count": 70,
      "outputs": []
    },
    {
      "cell_type": "code",
      "source": [
        "# Target variable (log transform to reduce skewness)\n",
        "y = np.log1p(df_model[\"money\"])\n",
        "\n",
        "# Features\n",
        "categorical_cols = ['coffee_name', 'Time_of_Day', 'Year', 'Season']\n",
        "numerical_cols = [\"hour_of_day\", \"Weekdaysort\", \"Monthsort\"]"
      ],
      "metadata": {
        "id": "Z2j6-8B9i_83"
      },
      "id": "Z2j6-8B9i_83",
      "execution_count": 71,
      "outputs": []
    },
    {
      "cell_type": "code",
      "source": [
        "# Encoding\n",
        "X_cat = pd.get_dummies(df_model[categorical_cols], drop_first=True, dtype=int)\n",
        "X_num = (df_model[numerical_cols] - df_model[numerical_cols].mean()) / df_model[numerical_cols].std()\n",
        "X_combined = pd.concat([X_num, X_cat], axis=1)\n"
      ],
      "metadata": {
        "id": "fDWMSbuejI_e"
      },
      "id": "fDWMSbuejI_e",
      "execution_count": 72,
      "outputs": []
    },
    {
      "cell_type": "code",
      "source": [
        "# Add constant\n",
        "X_final = sm.add_constant(X_combined)\n",
        "\n",
        "# Split\n",
        "n = len(X_final)\n",
        "train_size = int(0.8*n)\n",
        "idx = np.random.permutation(n)\n",
        "train_idx, test_idx = idx[:train_size], idx[train_size:]\n",
        "\n",
        "X_train, X_test = X_final.iloc[train_idx], X_final.iloc[test_idx]\n",
        "y_train, y_test = y.iloc[train_idx], y.iloc[test_idx]"
      ],
      "metadata": {
        "id": "b2CQc5LetSOB"
      },
      "id": "b2CQc5LetSOB",
      "execution_count": 78,
      "outputs": []
    },
    {
      "cell_type": "code",
      "source": [
        "# Train with robust SE\n",
        "model = sm.OLS(y_train, X_train).fit(cov_type=\"HC3\")\n"
      ],
      "metadata": {
        "id": "lj-gRvy0b1cL"
      },
      "id": "lj-gRvy0b1cL",
      "execution_count": 79,
      "outputs": []
    },
    {
      "cell_type": "code",
      "source": [
        "# Predict\n",
        "y_pred = model.predict(X_test)\n"
      ],
      "metadata": {
        "id": "QvQEKRRmb7LU"
      },
      "id": "QvQEKRRmb7LU",
      "execution_count": 80,
      "outputs": []
    },
    {
      "cell_type": "code",
      "source": [
        "# Metrics\n",
        "ssr = np.sum((y_test - y_pred)**2)\n",
        "sst = np.sum((y_test - np.mean(y_test))**2)\n",
        "r2 = 1 - ssr/sst\n",
        "rmse = np.sqrt(np.mean((y_test - y_pred)**2))\n"
      ],
      "metadata": {
        "id": "arBh5i_ycEpK"
      },
      "id": "arBh5i_ycEpK",
      "execution_count": 81,
      "outputs": []
    },
    {
      "cell_type": "code",
      "source": [
        "print(model.summary())"
      ],
      "metadata": {
        "id": "i2AIAQM0cH4x",
        "colab": {
          "base_uri": "https://localhost:8080/"
        },
        "outputId": "862b16f7-9a6e-407c-da58-1b2d21ab707b"
      },
      "id": "i2AIAQM0cH4x",
      "execution_count": 82,
      "outputs": [
        {
          "output_type": "stream",
          "name": "stdout",
          "text": [
            "                            OLS Regression Results                            \n",
            "==============================================================================\n",
            "Dep. Variable:                  money   R-squared:                       0.928\n",
            "Model:                            OLS   Adj. R-squared:                  0.927\n",
            "Method:                 Least Squares   F-statistic:                     2615.\n",
            "Date:                Sat, 20 Sep 2025   Prob (F-statistic):               0.00\n",
            "Time:                        15:19:24   Log-Likelihood:                 4926.4\n",
            "No. Observations:                2837   AIC:                            -9819.\n",
            "Df Residuals:                    2820   BIC:                            -9718.\n",
            "Df Model:                          16                                         \n",
            "Covariance Type:                  HC3                                         \n",
            "===================================================================================================\n",
            "                                      coef    std err          z      P>|z|      [0.025      0.975]\n",
            "---------------------------------------------------------------------------------------------------\n",
            "const                               3.2948      0.003   1032.099      0.000       3.289       3.301\n",
            "hour_of_day                         0.0015      0.002      0.651      0.515      -0.003       0.006\n",
            "Weekdaysort                     -6.851e-05      0.001     -0.084      0.933      -0.002       0.002\n",
            "Monthsort                          -0.0294      0.001    -30.052      0.000      -0.031      -0.027\n",
            "coffee_name_Americano with Milk     0.1690      0.003     61.191      0.000       0.164       0.174\n",
            "coffee_name_Cappuccino              0.3155      0.003    108.885      0.000       0.310       0.321\n",
            "coffee_name_Cocoa                   0.3196      0.003    110.278      0.000       0.314       0.325\n",
            "coffee_name_Cortado                -0.0062      0.004     -1.497      0.134      -0.014       0.002\n",
            "coffee_name_Espresso               -0.2041      0.008    -26.650      0.000      -0.219      -0.189\n",
            "coffee_name_Hot Chocolate           0.3218      0.003    105.864      0.000       0.316       0.328\n",
            "coffee_name_Latte                   0.3127      0.003    116.907      0.000       0.307       0.318\n",
            "Time_of_Day_Morning                -0.0067      0.003     -1.942      0.052      -0.013    6.05e-05\n",
            "Time_of_Day_Night                  -0.0061      0.003     -1.969      0.049      -0.012   -2.67e-05\n",
            "Year_2025                          -0.0854      0.002    -48.212      0.000      -0.089      -0.082\n",
            "Season_Spring                       0.0558      0.002     22.871      0.000       0.051       0.061\n",
            "Season_Summer                      -0.0357      0.003    -10.526      0.000      -0.042      -0.029\n",
            "Season_Winter                       0.0461      0.002     23.168      0.000       0.042       0.050\n",
            "==============================================================================\n",
            "Omnibus:                       27.785   Durbin-Watson:                   1.989\n",
            "Prob(Omnibus):                  0.000   Jarque-Bera (JB):               33.690\n",
            "Skew:                           0.164   Prob(JB):                     4.83e-08\n",
            "Kurtosis:                       3.420   Cond. No.                         10.7\n",
            "==============================================================================\n",
            "\n",
            "Notes:\n",
            "[1] Standard Errors are heteroscedasticity robust (HC3)\n"
          ]
        }
      ]
    },
    {
      "cell_type": "code",
      "metadata": {
        "colab": {
          "base_uri": "https://localhost:8080/",
          "height": 542
        },
        "id": "ef05ebe8",
        "outputId": "096a97e7-85c8-43aa-f41f-813746ff37fd"
      },
      "source": [
        "import plotly.graph_objects as go\n",
        "\n",
        "# Plot actual vs predicted sales for OLS model\n",
        "fig_ols = go.Figure()\n",
        "fig_ols.add_trace(go.Scatter(x=np.expm1(y_test), y=np.expm1(y_pred), mode='markers', name='OLS Predictions')) # Applying expm1 to revert log transformation\n",
        "fig_ols.add_trace(go.Scatter(x=[np.expm1(y_test).min(), np.expm1(y_test).max()], y=[np.expm1(y_test).min(), np.expm1(y_test).max()],\n",
        "                            mode='lines', name='Perfect Fit', line=dict(color='red', dash='dash')))\n",
        "fig_ols.update_layout(title='Actual vs Predicted Sales (OLS Model)',\n",
        "                      xaxis_title='Actual Sales (money)',\n",
        "                      yaxis_title='Predicted Sales (money)')\n",
        "fig_ols.show()"
      ],
      "id": "ef05ebe8",
      "execution_count": 83,
      "outputs": [
        {
          "output_type": "display_data",
          "data": {
            "text/html": [
              "<html>\n",
              "<head><meta charset=\"utf-8\" /></head>\n",
              "<body>\n",
              "    <div>            <script src=\"https://cdnjs.cloudflare.com/ajax/libs/mathjax/2.7.5/MathJax.js?config=TeX-AMS-MML_SVG\"></script><script type=\"text/javascript\">if (window.MathJax && window.MathJax.Hub && window.MathJax.Hub.Config) {window.MathJax.Hub.Config({SVG: {font: \"STIX-Web\"}});}</script>                <script type=\"text/javascript\">window.PlotlyConfig = {MathJaxConfig: 'local'};</script>\n",
              "        <script charset=\"utf-8\" src=\"https://cdn.plot.ly/plotly-2.35.2.min.js\"></script>                <div id=\"3286b051-89cb-4acc-acac-31f27367bbfa\" class=\"plotly-graph-div\" style=\"height:525px; width:100%;\"></div>            <script type=\"text/javascript\">                                    window.PLOTLYENV=window.PLOTLYENV || {};                                    if (document.getElementById(\"3286b051-89cb-4acc-acac-31f27367bbfa\")) {                    Plotly.newPlot(                        \"3286b051-89cb-4acc-acac-31f27367bbfa\",                        [{\"mode\":\"markers\",\"name\":\"OLS Predictions\",\"x\":[27.919999999999995,38.7,37.71999999999999,32.82000000000001,27.919999999999995,38.7,35.76,35.76,30.86,35.76,35.76,30.86,32.82000000000001,35.76,32.82000000000001,35.76,23.020000000000003,35.76,35.76,28.89999999999999,35.76,37.71999999999999,25.960000000000004,32.82000000000001,25.960000000000004,35.76,32.82000000000001,35.76,25.960000000000004,25.960000000000004,37.71999999999999,35.76,21.060000000000002,21.060000000000002,35.76,25.960000000000004,35.76,35.76,32.82000000000001,35.76,25.960000000000004,35.76,38.7,28.89999999999999,35.76,27.919999999999995,37.71999999999999,35.76,35.76,25.960000000000004,23.020000000000003,18.120000000000005,32.82000000000001,30.86,27.919999999999995,30.86,37.71999999999999,35.76,25.960000000000004,23.020000000000003,30.86,32.82000000000001,30.86,27.919999999999995,25.960000000000004,35.76,33.8,37.71999999999999,27.919999999999995,27.919999999999995,35.76,32.82000000000001,25.960000000000004,35.76,35.76,30.86,32.82000000000001,25.960000000000004,35.76,35.76,30.86,35.76,35.76,25.960000000000004,35.76,32.82000000000001,30.86,35.76,37.71999999999999,35.76,35.76,35.76,32.82000000000001,25.960000000000004,25.960000000000004,35.76,32.82000000000001,38.7,32.82000000000001,25.960000000000004,35.76,35.76,32.82000000000001,35.76,37.71999999999999,28.89999999999999,35.76,35.76,23.020000000000003,38.7,33.8,30.86,25.960000000000004,37.71999999999999,25.960000000000004,30.86,37.71999999999999,35.76,38.7,38.7,30.86,35.76,38.7,27.919999999999995,35.76,35.76,35.76,35.76,35.76,35.76,35.76,32.82000000000001,32.82000000000001,25.960000000000004,35.76,35.76,37.71999999999999,25.960000000000004,27.919999999999995,32.82000000000001,35.76,27.919999999999995,35.76,35.76,23.020000000000003,30.86,33.8,27.919999999999995,37.71999999999999,32.82000000000001,32.82000000000001,25.960000000000004,30.86,30.86,25.960000000000004,35.76,32.82000000000001,33.8,35.76,35.76,35.76,30.86,35.76,37.71999999999999,35.76,27.919999999999995,27.919999999999995,30.86,25.960000000000004,37.71999999999999,37.71999999999999,25.960000000000004,35.76,35.76,30.86,35.76,30.86,32.82000000000001,32.82000000000001,30.86,30.86,35.76,27.919999999999995,37.71999999999999,27.919999999999995,27.919999999999995,27.919999999999995,30.86,25.960000000000004,27.919999999999995,35.76,35.76,23.020000000000003,32.82000000000001,30.86,32.82000000000001,37.71999999999999,25.960000000000004,35.76,37.71999999999999,28.89999999999999,35.76,25.960000000000004,25.960000000000004,23.020000000000003,28.89999999999999,32.82000000000001,25.960000000000004,37.71999999999999,25.960000000000004,35.76,35.76,21.060000000000002,21.060000000000002,32.82000000000001,27.919999999999995,35.76,30.86,38.7,35.76,35.76,21.060000000000002,28.89999999999999,27.919999999999995,21.060000000000002,25.960000000000004,25.960000000000004,30.86,35.76,25.960000000000004,25.960000000000004,38.7,25.960000000000004,32.82000000000001,30.86,37.71999999999999,35.76,35.76,37.71999999999999,35.76,30.86,30.86,25.960000000000004,23.020000000000003,35.76,21.060000000000002,33.8,30.86,30.86,23.020000000000003,35.76,27.919999999999995,32.82000000000001,35.76,38.7,25.960000000000004,28.89999999999999,35.76,27.919999999999995,25.960000000000004,32.82000000000001,32.82000000000001,35.76,35.76,25.960000000000004,25.960000000000004,35.76,35.76,38.7,25.960000000000004,30.86,37.71999999999999,25.960000000000004,35.76,35.76,35.76,27.919999999999995,35.76,37.71999999999999,25.960000000000004,27.919999999999995,23.020000000000003,25.960000000000004,23.020000000000003,35.76,35.76,35.76,25.960000000000004,38.7,35.76,27.919999999999995,32.82000000000001,32.82000000000001,27.919999999999995,30.86,32.82000000000001,25.960000000000004,27.919999999999995,35.76,27.919999999999995,35.76,32.82000000000001,25.960000000000004,27.919999999999995,18.120000000000005,27.919999999999995,25.960000000000004,35.76,32.82000000000001,33.8,32.82000000000001,25.960000000000004,27.919999999999995,35.76,35.76,27.919999999999995,32.82000000000001,32.82000000000001,32.82000000000001,30.86,32.82000000000001,35.76,23.020000000000003,38.7,35.76,25.960000000000004,30.86,27.919999999999995,35.76,28.89999999999999,37.71999999999999,35.76,35.76,35.76,21.060000000000002,35.76,35.76,23.020000000000003,23.020000000000003,25.960000000000004,37.71999999999999,38.7,25.960000000000004,35.76,35.76,35.76,32.82000000000001,30.86,32.82000000000001,25.960000000000004,35.76,23.020000000000003,21.060000000000002,35.76,30.86,25.960000000000004,32.82000000000001,27.919999999999995,35.76,32.82000000000001,35.76,37.71999999999999,32.82000000000001,35.76,30.86,35.76,30.86,25.960000000000004,27.919999999999995,27.919999999999995,35.76,37.71999999999999,35.76,23.020000000000003,32.82000000000001,35.76,35.76,25.960000000000004,32.82000000000001,30.86,27.919999999999995,35.76,35.76,35.76,23.020000000000003,35.76,25.960000000000004,38.7,35.76,27.919999999999995,33.8,21.060000000000002,35.76,32.82000000000001,25.960000000000004,35.76,35.76,35.76,30.86,32.82000000000001,23.020000000000003,37.71999999999999,23.020000000000003,28.89999999999999,30.86,30.86,35.76,35.76,32.82000000000001,37.71999999999999,30.86,35.76,25.960000000000004,37.71999999999999,35.76,25.960000000000004,32.82000000000001,32.82000000000001,37.71999999999999,28.89999999999999,25.960000000000004,27.919999999999995,32.82000000000001,25.960000000000004,33.8,35.76,25.960000000000004,32.82000000000001,35.76,35.76,21.060000000000002,35.76,37.71999999999999,35.76,37.71999999999999,37.71999999999999,35.76,37.71999999999999,25.960000000000004,23.020000000000003,27.919999999999995,33.8,30.86,37.71999999999999,23.020000000000003,38.7,25.960000000000004,23.020000000000003,35.76,27.919999999999995,35.76,32.82000000000001,21.060000000000002,30.86,35.76,35.76,23.020000000000003,18.120000000000005,38.7,32.82000000000001,35.76,35.76,23.020000000000003,32.82000000000001,21.060000000000002,37.71999999999999,35.76,35.76,35.76,32.82000000000001,25.960000000000004,37.71999999999999,27.919999999999995,38.7,35.76,33.8,25.960000000000004,35.76,32.82000000000001,35.76,30.86,38.7,28.89999999999999,38.7,32.82000000000001,35.76,35.76,35.76,35.76,25.960000000000004,35.76,35.76,23.020000000000003,25.960000000000004,35.76,32.82000000000001,25.960000000000004,35.76,30.86,28.89999999999999,35.76,30.86,32.82000000000001,35.76,30.86,33.8,27.919999999999995,27.919999999999995,25.960000000000004,37.71999999999999,25.960000000000004,37.71999999999999,35.76,35.76,37.71999999999999,37.71999999999999,35.76,27.919999999999995,32.82000000000001,37.71999999999999,23.020000000000003,32.82000000000001,27.919999999999995,35.76,35.76,35.76,32.82000000000001,37.71999999999999,18.120000000000005,28.89999999999999,35.76,30.86,35.76,30.86,38.7,23.020000000000003,37.71999999999999,27.919999999999995,35.76,30.86,37.71999999999999,32.82000000000001,30.86,33.8,35.76,30.86,35.76,32.82000000000001,35.76,25.960000000000004,35.76,32.82000000000001,30.86,27.919999999999995,35.76,27.919999999999995,25.960000000000004,35.76,32.82000000000001,25.960000000000004,30.86,30.86,25.960000000000004,35.76,18.120000000000005,27.919999999999995,25.960000000000004,30.86,27.919999999999995,23.020000000000003,35.76,30.86,25.960000000000004,32.82000000000001,25.960000000000004,30.86,21.060000000000002,33.8,35.76,38.7,35.76,27.919999999999995,38.7,25.960000000000004,23.020000000000003,35.76,25.960000000000004,23.020000000000003,35.76,35.76,25.960000000000004,37.71999999999999,28.89999999999999,25.960000000000004,35.76,21.060000000000002,35.76,21.060000000000002,27.919999999999995,37.71999999999999,32.82000000000001,18.120000000000005,32.82000000000001,35.76,32.82000000000001,37.71999999999999,32.82000000000001,30.86,27.919999999999995,35.76,32.82000000000001,35.76,27.919999999999995,32.82000000000001,25.960000000000004,25.960000000000004,35.76,35.76,25.960000000000004,32.82000000000001,35.76,27.919999999999995,35.76,25.960000000000004,25.960000000000004,37.71999999999999,35.76,28.89999999999999,25.960000000000004,25.960000000000004,23.999999999999996,30.86,30.86,27.919999999999995,35.76,37.71999999999999,25.960000000000004,23.020000000000003,28.89999999999999,30.86,27.919999999999995,35.76,38.7,30.86,38.7,28.89999999999999,25.960000000000004,32.82000000000001,30.86,35.76,25.960000000000004,32.82000000000001,27.919999999999995,28.89999999999999,25.960000000000004,27.919999999999995,37.71999999999999,35.76,25.960000000000004,25.960000000000004,32.82000000000001,33.8,30.86,25.960000000000004,35.76,35.76,35.76,35.76,35.76,35.76,32.82000000000001,35.76,35.76,32.82000000000001,35.76,37.71999999999999,21.060000000000002,30.86,35.76,25.960000000000004,38.7,35.76,25.960000000000004,32.82000000000001,25.960000000000004,21.060000000000002,23.020000000000003,32.82000000000001,35.76,32.82000000000001,37.71999999999999,35.76,37.71999999999999,21.060000000000002,32.82000000000001,25.960000000000004,35.76,27.919999999999995,35.76,38.7,23.020000000000003,37.71999999999999,35.76,28.89999999999999,35.76,30.86,30.86,23.020000000000003,25.960000000000004,21.060000000000002],\"y\":[30.16438822279199,39.47170597069179,34.699375600072344,34.776639820621796,30.146499108583416,39.24796119030428,34.90472089262324,34.47758504506241,29.479388119050824,34.20554661359364,35.910838461784806,30.881714989415386,34.211452552425584,35.56739639152177,34.9272599452514,35.98573718757681,24.303453866111976,35.903135129999356,35.75992685811321,28.1084961583554,34.79945084204109,34.64967199722947,25.74744249601045,34.243916713006364,25.738592215712888,34.37594063929037,33.18653425293774,35.9839686794161,25.567402906854753,25.954566653229353,34.683843024362446,35.55148614537829,20.996579308582497,20.15268823199244,35.67021913829327,24.96691192703841,35.732135573800434,35.897343073592225,33.19491139605131,35.64188056614665,25.926111867261472,35.85568592759068,39.310842533413414,27.929318244873713,34.88909897245701,29.43285028036025,38.27172064863883,34.65861701818354,35.643153899192015,25.91395440467961,24.775244226595184,20.512295255434342,34.36337968751883,30.763241404575215,30.12913586731989,30.926494895816294,38.22391038514873,35.63448629444606,25.02822793259771,24.687749520909207,30.85281494653494,34.189323301874204,29.725577920359434,29.44080761440442,25.68901009300987,34.50230826824406,33.19609969506848,38.273788412161494,27.646360550720626,27.471016676916335,35.87880632899714,34.940400520676846,25.784540703700692,34.7734978773355,36.0727314841535,29.749690089008233,35.3651683624237,25.728816017265167,35.681877392079876,35.114645388329535,30.8914886796765,35.005293971291216,34.78658221351381,24.87628312634999,35.61679590729792,34.23347943932958,31.15769103706567,35.48699654157265,38.147285014751006,35.95355966199003,34.49056114963892,34.70997308850316,34.274036226301426,25.828733864096137,25.911101365599308,35.900570440009616,35.05934870378949,38.59450136265753,29.69953892857418,25.841257428067223,35.14520744366744,36.173387460014425,34.3876780869874,34.96831522540131,34.55030982991093,28.347209931727956,34.652139471000766,35.76584227047947,24.547838514825116,38.79475827996336,33.78469878135678,30.91925837770769,25.738592215712888,34.55960523563482,25.97932754005849,30.91704005663137,34.660232560337185,34.79967133535368,39.315045176195795,38.894165650738906,29.903886980301323,35.52857095056031,38.83079389775807,29.40587431846003,34.80340366196591,34.51217442390166,34.338380226729385,35.98139837166532,34.66394007085961,34.53793780361371,35.56476737119451,34.30229769146509,34.13900221994062,25.78640230211511,36.0458720128496,35.8653226524341,34.126154652791776,25.752003321892417,29.406373754730687,34.41356926234706,34.4639615635275,27.858637358860154,36.136344766113616,34.47265398188133,24.67924987525121,29.979706127471264,33.30122112466994,27.623427535769444,34.4247090232989,35.22187789057128,34.81342150651483,25.93579593662981,30.715711461310665,30.641867685217356,25.94377517337755,34.61208257625856,29.82613551683976,33.7895342117002,35.78580001329699,34.214751873437216,35.528093636990775,30.886146875200257,35.65316762586763,38.40755834617219,34.476352215008205,29.987297462408176,27.581419789062657,30.860036401038773,25.703383241392544,38.45042982634554,34.41052645310221,24.59490979714966,34.81400976526672,35.64442727648669,30.92538546454066,35.98873843414038,30.662817609686,34.20894342411999,32.90672158368953,29.88829407135337,30.71130326450557,34.9777199277745,29.181663355076154,38.63035564044555,30.268618292818196,30.25718582041462,27.58591277633768,29.892587861428943,25.556766431155765,27.737417389844076,35.733412043275536,34.81649893633486,24.675680691965006,34.864763597320646,29.868929297143527,34.78848162919434,34.5360769744104,26.12236798008327,36.134145100918715,34.395119553854954,27.95403302705115,36.00627916244247,25.783856026060846,25.745583605220308,24.671174700806027,27.918741070359907,33.17165990506421,25.768481443509412,38.59238864806968,24.581106630451313,35.02540982161205,36.1315642185643,20.005504153130197,20.754925100839976,33.990760539926825,24.756033830964483,35.948560983034554,30.659516918559017,39.191493447003246,35.9202644176045,34.65177345342669,20.98519340229244,28.346190129439698,29.429177988156308,20.98624469546986,25.077139136900307,25.162060604860528,29.977553103292966,34.967065342695015,24.740441380118135,25.712221867774723,38.73974044091143,24.581106630451313,33.970039002658886,30.8914886796765,34.68756327519098,34.166945039004986,36.1315642185643,34.58685882769607,34.50912314229146,30.021820723434974,29.973247503817884,25.54410436413723,20.20197938559426,36.188762028811496,20.96519055722786,33.49696514201704,30.71791578950213,30.569006221241803,24.687749520909207,35.89990753927122,29.288674573144228,32.91794446287352,35.79900053819661,38.81280981640221,25.95491886926756,28.1084961583554,34.606495414529576,29.4403076125445,25.711293630131383,34.62628707971318,29.812723257501577,34.51282517754311,36.1623787851962,25.04945172882882,24.79763648144752,35.67149345612544,34.61761805438932,39.07193752296308,25.68293290839071,29.988883298628476,38.876807948035776,25.951756773828198,34.76597458996454,36.20236400494781,34.9908789591915,24.756033830964483,36.19263917631086,38.47452957417335,25.968526146984384,29.57645450094428,25.19719566568085,25.917695720728023,24.49255020824933,34.46091667538239,34.63626158911395,35.827204027585296,26.057869674204056,39.17400637883002,34.606495414529576,27.687499817593125,33.8373793239184,33.06547424814066,30.245757527966294,30.63815576139425,33.795553789648444,25.76922515048516,24.863568293913318,35.540184171332136,30.151911306656547,36.152891016186175,34.914124174300035,25.92704757000091,30.27079154681865,20.352572212467386,29.994322692649114,24.958746293515944,36.21808623848453,34.425290897195325,33.479559304467124,34.2341351425678,25.703383241392544,29.17062829653375,35.71751759423361,35.820578909672975,29.697405375424776,34.1071495209478,29.82613551683976,34.23593608247103,29.585329177738238,34.042140963235234,35.7682631536982,24.668076993760803,38.92057938097248,36.21291326139244,25.91720246826437,30.88060711422127,30.00673649163258,34.476352215008205,27.95302688748272,34.69813506289654,35.86355990200879,35.939806913060636,35.877042933837025,20.869600425986956,35.909555826821794,35.89862528415282,24.303453866111976,25.218370293464762,25.693619916095262,34.67203583894996,38.707926554464166,25.183977571563222,36.2018928812462,35.76760034821997,36.133763868546474,35.05152942438395,30.61741499932338,33.85133233809865,25.658820170324038,36.08266993570535,24.527853824537033,21.133995412167284,35.71879355572288,29.7373792006414,25.72788720298263,33.05183585863434,30.152993859120564,35.87832443895243,34.649907507521924,34.761003443247205,34.76041208106062,34.28816412964008,34.47728104551498,30.88334659922122,36.36661609346168,30.783388654168554,25.953629994214193,24.9042818513326,29.41805243299569,35.06060408239156,38.293625669175285,34.19022889979631,25.02822793259771,34.264815469319736,34.48809463055891,35.800894763128966,25.976162581225363,34.46519002172174,30.630078358289826,29.69953892857418,35.56358442247043,34.65177345342669,35.898682076992785,24.305212524963636,34.91286096780449,25.5868407825419,39.52035444846207,35.89206771440537,30.135111285552902,33.78469878135678,20.88816889598921,35.650620308091774,33.19190836186965,25.976515079458135,35.96335942744612,35.66336913211312,35.52682430223754,30.665018261610946,34.77042414225799,25.035938318928476,34.521251316154796,25.145549962003614,28.345170362589094,30.001294919034123,29.747553050459047,36.190875764719166,35.827204027585296,34.226725285000775,38.564817160226006,30.591005677671543,34.55503174423988,25.92891907303006,38.41029727863868,34.603358251494036,25.16115148507255,33.96760865876928,34.18873263719311,34.72390486443495,28.032421188629172,25.840762684344643,29.290779718391406,34.11876973308173,25.67410397323417,33.443516372856536,34.93702285511248,25.69967171283882,29.820779917640596,36.21162012946661,34.56184884601766,20.781832229059088,34.17369553813484,34.54907447270329,35.95203372151341,38.48622318136134,38.894165650738906,36.318447530196536,38.42334180150331,25.68200568852548,22.422219114835368,29.654665926360472,33.75926737879724,30.662817609686,34.83685494220061,25.014191080275758,38.475901343912824,25.728816017265167,25.294212461840814,34.90971998759583,24.743932920126277,35.867657820073276,33.9426690391898,20.838526071523734,30.870581842255934,34.801939001224476,35.54973840134371,24.32372692688021,19.960319689901844,38.81280981640221,35.093258286169295,34.980220477144115,35.665122309768854,24.489892736785038,29.798246571406644,19.975529649472534,34.79193468426135,35.59024821785176,34.73958966362642,35.936335186717145,33.9171221431702,25.920008745175643,38.41166681625731,27.973614937365305,38.81142633924553,36.35425210665256,33.490971788786396,24.96961913056314,35.61381900358665,34.94729948907379,35.62975638217321,29.640239024636628,38.89206269219269,28.35488340136816,39.217137972079584,29.82613551683976,35.72086577919663,34.36792226345925,36.12276692801623,34.95266563573745,25.7483719898542,35.51521532750642,35.86355990200879,24.461944015904905,25.84836294095858,35.893488520841444,33.15797900326704,25.74744249601045,36.23884578071789,29.7373792006414,28.1665626109777,34.625708124865,30.86557258753018,33.84648831837505,35.91468663411523,30.667381192902813,33.585552110618536,29.164837980874648,29.55622337621588,25.822652813887775,34.40929595330378,25.796199563035202,38.11730473070113,34.74083164138093,34.66022228263254,34.84432773816635,34.75230656022468,34.873483849290864,29.159597272643644,33.991976495303284,38.1500058575132,24.5691391354079,32.91025655913986,27.615945271261996,35.8162978729057,34.44606781689472,35.78871796402365,35.055288008685515,38.674263861097565,19.762323535849617,28.101898373028448,35.79529896672691,30.714609354664162,35.818019957166285,29.736311090599003,39.530949381009115,25.412468199003335,34.717048769702416,30.135111285552902,35.98121724712598,30.87116586442651,38.49373323833672,33.85133233809865,31.018162623943166,33.762891237168574,34.638738406200495,29.47726986591796,35.86916607947328,35.18910732238172,35.86355990200879,25.749214558710236,34.71996479104141,34.076604136771486,30.93093300646801,30.022389192224274,35.86276059033174,27.860643112632225,25.711293630131383,34.86785339970323,34.09065519232078,25.89752306221144,29.76144221070931,30.758632894310118,25.059885015614853,36.04176545830038,19.959935603186807,29.438692042535173,25.70059954661175,30.65841676464749,29.54186720099672,24.332108897018138,35.8162978729057,30.619612495643437,25.93783235013845,35.11966569490888,25.73766306171187,29.727208717180073,20.175559005177014,33.61205916889967,35.68490623868827,39.30310611836568,34.76597458996454,27.644369689134262,38.98222209148754,25.896588385435315,25.144641415953032,35.64358635909343,24.958746293515944,24.493436093637563,35.72006956155277,36.150308968689586,25.215637158869527,38.13025227515519,28.195533960890963,24.951534315208143,35.55520921255739,20.996579308582497,34.412124484493525,20.174823164067103,29.163789766381022,34.42101617371771,35.078808056841105,19.96177648911793,34.305978163945205,35.56857946357523,34.13283544932067,38.74250246093682,34.487818888599946,30.803327089317634,30.2522729761321,36.02693548641617,33.46210155781509,34.9908789591915,24.893910861538174,34.79535143587869,24.79584360017038,25.726029671244074,35.947276900254835,35.89990753927122,24.83260360345662,34.95354590233362,35.63722006119495,30.152993859120564,34.674138613437925,25.70850911073194,25.736733939998548,38.446317315409566,34.801282949725895,27.93942393917316,24.81065954435278,25.162060604860528,22.918394825565244,29.46027969993204,29.73844734780141,30.117754392659972,35.22440344948022,38.25670063172631,25.68200568852548,25.166652759881085,28.121700236022765,30.63815576139425,29.43285028036025,36.16544730711892,38.91014400128756,29.595452700099962,38.826641735761,28.35590350575419,25.951756773828198,34.90663682723069,29.867856615794704,34.4639615635275,25.961614513975213,33.904355700100155,27.47002732194787,28.027377221584302,25.069416549195434,29.985143910648123,34.58685882769607,35.82825697090233,25.977100023264942,25.91016621698327,32.92030185224716,33.75926737879724,30.61631630843453,25.69967171283882,36.154182107230945,36.10957489681481,34.675744576631494,36.04329740294783,34.66233463905234,34.67909768505189,34.487818888599946,34.64718414633455,34.427886660952474,34.298617602655916,35.84221070433853,35.06494969623626,20.966564142867018,30.634857641142176,34.676984335720995,25.746513034466197,38.47452957417335,34.86036774002481,25.93802004291792,29.82613551683976,24.79763648144752,20.9908293254807,24.70565051286323,33.46090401535335,35.8796059886011,33.9840451494919,34.4247090232989,35.65571512068901,34.43520294524135,20.96732749757437,29.908769748352345,24.91662080044272,35.79711737295433,30.137275260453304,35.72958276791888,38.60621920476915,25.03231955917733,38.72244992765411,34.980220477144115,28.151846288872086,35.65619410189185,30.729516776201514,29.726645657416036,24.332108897018138,24.59046304843743,20.94171612973968],\"type\":\"scatter\"},{\"line\":{\"color\":\"red\",\"dash\":\"dash\"},\"mode\":\"lines\",\"name\":\"Perfect Fit\",\"x\":[18.120000000000005,38.7],\"y\":[18.120000000000005,38.7],\"type\":\"scatter\"}],                        {\"template\":{\"data\":{\"histogram2dcontour\":[{\"type\":\"histogram2dcontour\",\"colorbar\":{\"outlinewidth\":0,\"ticks\":\"\"},\"colorscale\":[[0.0,\"#0d0887\"],[0.1111111111111111,\"#46039f\"],[0.2222222222222222,\"#7201a8\"],[0.3333333333333333,\"#9c179e\"],[0.4444444444444444,\"#bd3786\"],[0.5555555555555556,\"#d8576b\"],[0.6666666666666666,\"#ed7953\"],[0.7777777777777778,\"#fb9f3a\"],[0.8888888888888888,\"#fdca26\"],[1.0,\"#f0f921\"]]}],\"choropleth\":[{\"type\":\"choropleth\",\"colorbar\":{\"outlinewidth\":0,\"ticks\":\"\"}}],\"histogram2d\":[{\"type\":\"histogram2d\",\"colorbar\":{\"outlinewidth\":0,\"ticks\":\"\"},\"colorscale\":[[0.0,\"#0d0887\"],[0.1111111111111111,\"#46039f\"],[0.2222222222222222,\"#7201a8\"],[0.3333333333333333,\"#9c179e\"],[0.4444444444444444,\"#bd3786\"],[0.5555555555555556,\"#d8576b\"],[0.6666666666666666,\"#ed7953\"],[0.7777777777777778,\"#fb9f3a\"],[0.8888888888888888,\"#fdca26\"],[1.0,\"#f0f921\"]]}],\"heatmap\":[{\"type\":\"heatmap\",\"colorbar\":{\"outlinewidth\":0,\"ticks\":\"\"},\"colorscale\":[[0.0,\"#0d0887\"],[0.1111111111111111,\"#46039f\"],[0.2222222222222222,\"#7201a8\"],[0.3333333333333333,\"#9c179e\"],[0.4444444444444444,\"#bd3786\"],[0.5555555555555556,\"#d8576b\"],[0.6666666666666666,\"#ed7953\"],[0.7777777777777778,\"#fb9f3a\"],[0.8888888888888888,\"#fdca26\"],[1.0,\"#f0f921\"]]}],\"heatmapgl\":[{\"type\":\"heatmapgl\",\"colorbar\":{\"outlinewidth\":0,\"ticks\":\"\"},\"colorscale\":[[0.0,\"#0d0887\"],[0.1111111111111111,\"#46039f\"],[0.2222222222222222,\"#7201a8\"],[0.3333333333333333,\"#9c179e\"],[0.4444444444444444,\"#bd3786\"],[0.5555555555555556,\"#d8576b\"],[0.6666666666666666,\"#ed7953\"],[0.7777777777777778,\"#fb9f3a\"],[0.8888888888888888,\"#fdca26\"],[1.0,\"#f0f921\"]]}],\"contourcarpet\":[{\"type\":\"contourcarpet\",\"colorbar\":{\"outlinewidth\":0,\"ticks\":\"\"}}],\"contour\":[{\"type\":\"contour\",\"colorbar\":{\"outlinewidth\":0,\"ticks\":\"\"},\"colorscale\":[[0.0,\"#0d0887\"],[0.1111111111111111,\"#46039f\"],[0.2222222222222222,\"#7201a8\"],[0.3333333333333333,\"#9c179e\"],[0.4444444444444444,\"#bd3786\"],[0.5555555555555556,\"#d8576b\"],[0.6666666666666666,\"#ed7953\"],[0.7777777777777778,\"#fb9f3a\"],[0.8888888888888888,\"#fdca26\"],[1.0,\"#f0f921\"]]}],\"surface\":[{\"type\":\"surface\",\"colorbar\":{\"outlinewidth\":0,\"ticks\":\"\"},\"colorscale\":[[0.0,\"#0d0887\"],[0.1111111111111111,\"#46039f\"],[0.2222222222222222,\"#7201a8\"],[0.3333333333333333,\"#9c179e\"],[0.4444444444444444,\"#bd3786\"],[0.5555555555555556,\"#d8576b\"],[0.6666666666666666,\"#ed7953\"],[0.7777777777777778,\"#fb9f3a\"],[0.8888888888888888,\"#fdca26\"],[1.0,\"#f0f921\"]]}],\"mesh3d\":[{\"type\":\"mesh3d\",\"colorbar\":{\"outlinewidth\":0,\"ticks\":\"\"}}],\"scatter\":[{\"fillpattern\":{\"fillmode\":\"overlay\",\"size\":10,\"solidity\":0.2},\"type\":\"scatter\"}],\"parcoords\":[{\"type\":\"parcoords\",\"line\":{\"colorbar\":{\"outlinewidth\":0,\"ticks\":\"\"}}}],\"scatterpolargl\":[{\"type\":\"scatterpolargl\",\"marker\":{\"colorbar\":{\"outlinewidth\":0,\"ticks\":\"\"}}}],\"bar\":[{\"error_x\":{\"color\":\"#2a3f5f\"},\"error_y\":{\"color\":\"#2a3f5f\"},\"marker\":{\"line\":{\"color\":\"#E5ECF6\",\"width\":0.5},\"pattern\":{\"fillmode\":\"overlay\",\"size\":10,\"solidity\":0.2}},\"type\":\"bar\"}],\"scattergeo\":[{\"type\":\"scattergeo\",\"marker\":{\"colorbar\":{\"outlinewidth\":0,\"ticks\":\"\"}}}],\"scatterpolar\":[{\"type\":\"scatterpolar\",\"marker\":{\"colorbar\":{\"outlinewidth\":0,\"ticks\":\"\"}}}],\"histogram\":[{\"marker\":{\"pattern\":{\"fillmode\":\"overlay\",\"size\":10,\"solidity\":0.2}},\"type\":\"histogram\"}],\"scattergl\":[{\"type\":\"scattergl\",\"marker\":{\"colorbar\":{\"outlinewidth\":0,\"ticks\":\"\"}}}],\"scatter3d\":[{\"type\":\"scatter3d\",\"line\":{\"colorbar\":{\"outlinewidth\":0,\"ticks\":\"\"}},\"marker\":{\"colorbar\":{\"outlinewidth\":0,\"ticks\":\"\"}}}],\"scattermapbox\":[{\"type\":\"scattermapbox\",\"marker\":{\"colorbar\":{\"outlinewidth\":0,\"ticks\":\"\"}}}],\"scatterternary\":[{\"type\":\"scatterternary\",\"marker\":{\"colorbar\":{\"outlinewidth\":0,\"ticks\":\"\"}}}],\"scattercarpet\":[{\"type\":\"scattercarpet\",\"marker\":{\"colorbar\":{\"outlinewidth\":0,\"ticks\":\"\"}}}],\"carpet\":[{\"aaxis\":{\"endlinecolor\":\"#2a3f5f\",\"gridcolor\":\"white\",\"linecolor\":\"white\",\"minorgridcolor\":\"white\",\"startlinecolor\":\"#2a3f5f\"},\"baxis\":{\"endlinecolor\":\"#2a3f5f\",\"gridcolor\":\"white\",\"linecolor\":\"white\",\"minorgridcolor\":\"white\",\"startlinecolor\":\"#2a3f5f\"},\"type\":\"carpet\"}],\"table\":[{\"cells\":{\"fill\":{\"color\":\"#EBF0F8\"},\"line\":{\"color\":\"white\"}},\"header\":{\"fill\":{\"color\":\"#C8D4E3\"},\"line\":{\"color\":\"white\"}},\"type\":\"table\"}],\"barpolar\":[{\"marker\":{\"line\":{\"color\":\"#E5ECF6\",\"width\":0.5},\"pattern\":{\"fillmode\":\"overlay\",\"size\":10,\"solidity\":0.2}},\"type\":\"barpolar\"}],\"pie\":[{\"automargin\":true,\"type\":\"pie\"}]},\"layout\":{\"autotypenumbers\":\"strict\",\"colorway\":[\"#636efa\",\"#EF553B\",\"#00cc96\",\"#ab63fa\",\"#FFA15A\",\"#19d3f3\",\"#FF6692\",\"#B6E880\",\"#FF97FF\",\"#FECB52\"],\"font\":{\"color\":\"#2a3f5f\"},\"hovermode\":\"closest\",\"hoverlabel\":{\"align\":\"left\"},\"paper_bgcolor\":\"white\",\"plot_bgcolor\":\"#E5ECF6\",\"polar\":{\"bgcolor\":\"#E5ECF6\",\"angularaxis\":{\"gridcolor\":\"white\",\"linecolor\":\"white\",\"ticks\":\"\"},\"radialaxis\":{\"gridcolor\":\"white\",\"linecolor\":\"white\",\"ticks\":\"\"}},\"ternary\":{\"bgcolor\":\"#E5ECF6\",\"aaxis\":{\"gridcolor\":\"white\",\"linecolor\":\"white\",\"ticks\":\"\"},\"baxis\":{\"gridcolor\":\"white\",\"linecolor\":\"white\",\"ticks\":\"\"},\"caxis\":{\"gridcolor\":\"white\",\"linecolor\":\"white\",\"ticks\":\"\"}},\"coloraxis\":{\"colorbar\":{\"outlinewidth\":0,\"ticks\":\"\"}},\"colorscale\":{\"sequential\":[[0.0,\"#0d0887\"],[0.1111111111111111,\"#46039f\"],[0.2222222222222222,\"#7201a8\"],[0.3333333333333333,\"#9c179e\"],[0.4444444444444444,\"#bd3786\"],[0.5555555555555556,\"#d8576b\"],[0.6666666666666666,\"#ed7953\"],[0.7777777777777778,\"#fb9f3a\"],[0.8888888888888888,\"#fdca26\"],[1.0,\"#f0f921\"]],\"sequentialminus\":[[0.0,\"#0d0887\"],[0.1111111111111111,\"#46039f\"],[0.2222222222222222,\"#7201a8\"],[0.3333333333333333,\"#9c179e\"],[0.4444444444444444,\"#bd3786\"],[0.5555555555555556,\"#d8576b\"],[0.6666666666666666,\"#ed7953\"],[0.7777777777777778,\"#fb9f3a\"],[0.8888888888888888,\"#fdca26\"],[1.0,\"#f0f921\"]],\"diverging\":[[0,\"#8e0152\"],[0.1,\"#c51b7d\"],[0.2,\"#de77ae\"],[0.3,\"#f1b6da\"],[0.4,\"#fde0ef\"],[0.5,\"#f7f7f7\"],[0.6,\"#e6f5d0\"],[0.7,\"#b8e186\"],[0.8,\"#7fbc41\"],[0.9,\"#4d9221\"],[1,\"#276419\"]]},\"xaxis\":{\"gridcolor\":\"white\",\"linecolor\":\"white\",\"ticks\":\"\",\"title\":{\"standoff\":15},\"zerolinecolor\":\"white\",\"automargin\":true,\"zerolinewidth\":2},\"yaxis\":{\"gridcolor\":\"white\",\"linecolor\":\"white\",\"ticks\":\"\",\"title\":{\"standoff\":15},\"zerolinecolor\":\"white\",\"automargin\":true,\"zerolinewidth\":2},\"scene\":{\"xaxis\":{\"backgroundcolor\":\"#E5ECF6\",\"gridcolor\":\"white\",\"linecolor\":\"white\",\"showbackground\":true,\"ticks\":\"\",\"zerolinecolor\":\"white\",\"gridwidth\":2},\"yaxis\":{\"backgroundcolor\":\"#E5ECF6\",\"gridcolor\":\"white\",\"linecolor\":\"white\",\"showbackground\":true,\"ticks\":\"\",\"zerolinecolor\":\"white\",\"gridwidth\":2},\"zaxis\":{\"backgroundcolor\":\"#E5ECF6\",\"gridcolor\":\"white\",\"linecolor\":\"white\",\"showbackground\":true,\"ticks\":\"\",\"zerolinecolor\":\"white\",\"gridwidth\":2}},\"shapedefaults\":{\"line\":{\"color\":\"#2a3f5f\"}},\"annotationdefaults\":{\"arrowcolor\":\"#2a3f5f\",\"arrowhead\":0,\"arrowwidth\":1},\"geo\":{\"bgcolor\":\"white\",\"landcolor\":\"#E5ECF6\",\"subunitcolor\":\"white\",\"showland\":true,\"showlakes\":true,\"lakecolor\":\"white\"},\"title\":{\"x\":0.05},\"mapbox\":{\"style\":\"light\"}}},\"title\":{\"text\":\"Actual vs Predicted Sales (OLS Model)\"},\"xaxis\":{\"title\":{\"text\":\"Actual Sales (money)\"}},\"yaxis\":{\"title\":{\"text\":\"Predicted Sales (money)\"}}},                        {\"responsive\": true}                    ).then(function(){\n",
              "                            \n",
              "var gd = document.getElementById('3286b051-89cb-4acc-acac-31f27367bbfa');\n",
              "var x = new MutationObserver(function (mutations, observer) {{\n",
              "        var display = window.getComputedStyle(gd).display;\n",
              "        if (!display || display === 'none') {{\n",
              "            console.log([gd, 'removed!']);\n",
              "            Plotly.purge(gd);\n",
              "            observer.disconnect();\n",
              "        }}\n",
              "}});\n",
              "\n",
              "// Listen for the removal of the full notebook cells\n",
              "var notebookContainer = gd.closest('#notebook-container');\n",
              "if (notebookContainer) {{\n",
              "    x.observe(notebookContainer, {childList: true});\n",
              "}}\n",
              "\n",
              "// Listen for the clearing of the current output cell\n",
              "var outputEl = gd.closest('.output');\n",
              "if (outputEl) {{\n",
              "    x.observe(outputEl, {childList: true});\n",
              "}}\n",
              "\n",
              "                        })                };                            </script>        </div>\n",
              "</body>\n",
              "</html>"
            ]
          },
          "metadata": {}
        }
      ]
    },
    {
      "cell_type": "code",
      "execution_count": 84,
      "id": "903b5f60",
      "metadata": {
        "colab": {
          "base_uri": "https://localhost:8080/"
        },
        "id": "903b5f60",
        "outputId": "0401fcba-e244-4c82-d622-7c53db541a13"
      },
      "outputs": [
        {
          "output_type": "stream",
          "name": "stdout",
          "text": [
            "Linear Regression Model R²: 0.9320\n",
            "Linear Regression Model MAE: 0.9046\n"
          ]
        }
      ],
      "source": [
        "from sklearn.linear_model import LinearRegression\n",
        "from sklearn.model_selection import train_test_split\n",
        "from sklearn.metrics import r2_score, mean_absolute_error\n",
        "\n",
        "# Create a proper copy of the dataframe\n",
        "df_model = df.copy()\n",
        "\n",
        "# Drop unwanted columns\n",
        "df_model.drop(['Time', 'cash_type', 'Month_name', 'Weekday', 'is_weekend'], axis=1, inplace=True)\n",
        "\n",
        "# Process the date column and extract features\n",
        "df_model['Date'] = pd.to_datetime(df_model['Date'], format='%Y-%m-%d')\n",
        "df_model['Year'] = df_model['Date'].dt.year.astype(str)\n",
        "df_model['Month'] = df_model['Date'].dt.month\n",
        "df_model['Season'] = df_model['Month'].map({\n",
        "    12:'Winter',1:'Winter',2:'Winter',\n",
        "    3:'Spring',4:'Spring',5:'Spring',\n",
        "    6:'Summer',7:'Summer',8:'Summer',\n",
        "    9:'Autumn',10:'Autumn',11:'Autumn'\n",
        "})\n",
        "\n",
        "# Target variable\n",
        "y = df_model[\"money\"]\n",
        "\n",
        "# Features\n",
        "categorical_cols = ['coffee_name', 'Time_of_Day', 'Year', 'Season']\n",
        "numerical_cols = [\"hour_of_day\", \"Weekdaysort\", \"Monthsort\"]\n",
        "\n",
        "# Encoding and Standardization\n",
        "X_cat = pd.get_dummies(df_model[categorical_cols], drop_first=True, dtype=int)\n",
        "X_num = (df_model[numerical_cols] - df_model[numerical_cols].mean()) / df_model[numerical_cols].std()\n",
        "X_combined = pd.concat([X_num, X_cat], axis=1)\n",
        "\n",
        "# Split data\n",
        "X_train, X_test, y_train, y_test = train_test_split(X_combined, y, test_size=0.2, random_state=42)\n",
        "\n",
        "model = LinearRegression()\n",
        "model.fit(X_train, y_train)\n",
        "\n",
        "# Make predictions\n",
        "y_pred_lr = model.predict(X_test)\n",
        "\n",
        "# Calculate R2 and MAE\n",
        "r2_lr = r2_score(y_test, y_pred_lr)\n",
        "mae_lr = mean_absolute_error(y_test, y_pred_lr)\n",
        "\n",
        "print(f\"Linear Regression Model R²: {r2_lr:.4f}\")\n",
        "print(f\"Linear Regression Model MAE: {mae_lr:.4f}\")"
      ]
    },
    {
      "cell_type": "code",
      "source": [
        "import plotly.graph_objects as go\n",
        "\n",
        "# Linear Regression predictions\n",
        "y_pred_lr = model.predict(X_test)\n",
        "\n",
        "# Plot actual vs predicted sales for Linear Regression model\n",
        "fig_lr = go.Figure()\n",
        "fig_lr.add_trace(go.Scatter(x=y_test, y=y_pred_lr, mode='markers', name='Linear Regression Predictions'))\n",
        "fig_lr.add_trace(go.Scatter(x=[y_test.min(), y_test.max()], y=[y_test.min(), y_test.max()],\n",
        "                            mode='lines', name='Perfect Fit', line=dict(color='red', dash='dash')))\n",
        "fig_lr.update_layout(title='Actual vs Predicted Sales (Linear Regression Model)',\n",
        "                      xaxis_title='Actual Sales (money)',\n",
        "                      yaxis_title='Predicted Sales (money)')\n",
        "fig_lr.show()"
      ],
      "metadata": {
        "colab": {
          "base_uri": "https://localhost:8080/",
          "height": 542
        },
        "id": "M80bmmLfeems",
        "outputId": "fff2cc96-6d7d-4802-a6a5-c0eb48ce9b33"
      },
      "id": "M80bmmLfeems",
      "execution_count": 85,
      "outputs": [
        {
          "output_type": "display_data",
          "data": {
            "text/html": [
              "<html>\n",
              "<head><meta charset=\"utf-8\" /></head>\n",
              "<body>\n",
              "    <div>            <script src=\"https://cdnjs.cloudflare.com/ajax/libs/mathjax/2.7.5/MathJax.js?config=TeX-AMS-MML_SVG\"></script><script type=\"text/javascript\">if (window.MathJax && window.MathJax.Hub && window.MathJax.Hub.Config) {window.MathJax.Hub.Config({SVG: {font: \"STIX-Web\"}});}</script>                <script type=\"text/javascript\">window.PlotlyConfig = {MathJaxConfig: 'local'};</script>\n",
              "        <script charset=\"utf-8\" src=\"https://cdn.plot.ly/plotly-2.35.2.min.js\"></script>                <div id=\"6f06d6a1-faa3-4ad1-acd0-6bbc3f2e6030\" class=\"plotly-graph-div\" style=\"height:525px; width:100%;\"></div>            <script type=\"text/javascript\">                                    window.PLOTLYENV=window.PLOTLYENV || {};                                    if (document.getElementById(\"6f06d6a1-faa3-4ad1-acd0-6bbc3f2e6030\")) {                    Plotly.newPlot(                        \"6f06d6a1-faa3-4ad1-acd0-6bbc3f2e6030\",                        [{\"mode\":\"markers\",\"name\":\"Linear Regression Predictions\",\"x\":[32.82,35.76,35.76,35.76,18.12,35.76,23.02,35.76,25.96,30.86,23.02,37.72,35.76,35.76,35.76,35.76,27.92,35.76,35.76,23.02,35.76,25.96,35.76,32.82,35.76,30.86,38.7,28.9,32.82,27.92,35.76,28.9,35.76,25.96,35.76,27.92,32.82,38.7,37.72,27.92,30.86,35.76,35.76,33.8,35.76,35.76,37.72,25.96,35.76,30.86,28.9,35.76,27.92,35.76,35.76,35.76,30.86,23.02,30.86,30.86,35.76,18.12,35.76,32.82,35.76,35.76,25.96,37.72,32.82,27.92,35.76,32.82,35.76,33.8,27.92,38.7,32.82,27.92,37.72,38.7,25.96,32.82,35.76,28.9,37.72,32.82,30.86,27.92,25.96,32.82,37.72,25.96,21.06,25.96,37.72,27.92,25.96,30.86,35.76,25.96,27.92,28.9,30.86,35.76,25.96,37.72,27.92,27.92,32.82,30.86,27.92,35.76,30.86,35.76,38.7,21.06,27.92,27.92,35.76,32.82,35.76,25.96,27.92,25.96,32.82,35.76,32.82,25.96,27.92,30.86,27.92,30.86,32.82,37.72,27.92,32.82,30.86,32.82,25.96,32.82,35.76,35.76,35.76,35.76,27.92,30.86,35.76,33.8,30.86,27.92,27.92,25.96,37.72,30.86,37.72,30.86,38.7,35.76,25.96,28.9,23.02,30.86,38.7,35.76,27.92,35.76,23.02,25.96,37.72,32.82,32.82,25.96,35.76,30.86,37.72,18.12,25.96,32.82,33.8,35.76,35.76,23.02,27.92,25.96,32.82,30.86,27.92,35.76,35.76,35.76,30.86,38.7,35.76,18.12,32.82,23.02,38.7,35.76,37.72,25.96,37.72,37.72,37.72,21.06,27.92,37.72,35.76,30.86,35.76,32.82,38.7,30.86,32.82,28.9,35.76,30.86,32.82,37.72,27.92,28.9,32.82,35.76,35.76,32.82,30.86,35.76,32.82,28.9,38.7,38.7,25.96,35.76,27.92,35.76,21.06,32.82,30.86,30.86,32.82,35.76,35.76,32.82,35.76,18.12,23.02,32.82,35.76,33.8,32.82,30.86,37.72,23.02,23.02,32.82,28.9,25.96,27.92,35.76,35.76,35.76,25.96,37.72,25.96,32.82,25.96,23.02,28.9,32.82,35.76,37.72,35.76,32.82,25.96,27.92,30.86,32.82,35.76,35.76,23.02,32.82,32.82,30.86,30.86,25.96,35.76,24.0,27.92,25.96,30.86,27.92,35.76,25.96,28.9,27.92,27.92,37.72,25.96,27.92,38.7,25.96,30.86,30.86,25.96,25.96,35.76,32.82,33.8,21.06,37.72,28.9,32.82,35.76,35.76,25.96,25.96,35.76,25.96,38.7,25.96,35.76,37.72,35.76,35.76,35.76,25.96,35.76,28.9,35.76,35.76,35.76,32.82,35.76,35.76,35.76,32.82,37.72,35.76,32.82,25.96,30.86,21.06,25.96,35.76,27.92,37.72,27.92,35.76,38.7,27.92,35.76,35.76,35.76,35.76,35.76,35.76,27.92,28.9,27.92,25.96,27.92,35.76,30.86,37.72,27.92,25.96,32.82,28.9,25.96,32.82,23.02,32.82,28.9,35.76,32.82,37.72,25.96,27.92,27.92,32.82,27.92,32.82,35.76,35.76,25.96,33.8,25.96,35.76,35.76,37.72,23.02,35.76,35.76,25.96,35.76,35.76,35.76,28.9,35.76,33.8,25.96,32.82,32.82,25.96,32.82,35.76,35.76,23.02,30.86,35.76,35.76,35.76,25.96,35.76,32.82,27.92,32.82,25.96,35.76,38.7,38.7,25.96,25.96,33.8,37.72,33.8,30.86,30.86,38.7,30.86,25.96,25.96,27.92,32.82,28.9,32.82,32.82,33.8,30.86,35.76,35.76,35.76,35.76,35.76,30.86,35.76,32.82,24.0,35.76,27.92,27.92,35.76,27.92,35.76,32.82,32.82,35.76,25.96,35.76,25.96,25.96,37.72,30.86,38.7,23.02,23.02,35.76,35.76,35.76,25.96,27.92,23.02,30.86,38.7,30.86,38.7,23.02,32.82,35.76,28.9,30.86,23.02,28.9,28.9,30.86,25.96,32.82,35.76,37.72,32.82,37.72,25.96,35.76,35.76,35.76,35.76,37.72,35.76,30.86,35.76,35.76,28.9,35.76,37.72,25.96,27.92,23.02,38.7,35.76,30.86,30.86,35.76,30.86,35.76,32.82,27.92,27.92,27.92,35.76,30.86,27.92,35.76,35.76,25.96,35.76,38.7,27.92,25.96,37.72,32.82,32.82,33.8,32.82,30.86,30.86,37.72,32.82,28.9,33.8,27.92,32.82,32.82,23.02,30.86,27.92,35.76,38.7,23.02,25.96,37.72,37.72,27.92,32.82,30.86,23.02,25.96,23.02,37.72,37.72,35.76,27.92,35.76,25.96,35.76,27.92,35.76,35.76,35.76,23.02,35.76,28.9,27.92,30.86,35.76,35.76,30.86,32.82,35.76,35.76,32.82,30.86,35.76,35.76,35.76,23.02,32.82,35.76,25.96,37.72,35.76,30.86,38.7,35.76,35.76,37.72,35.76,35.76,35.76,25.96,23.02,35.76,32.82,30.86,30.86,37.72,35.76,35.76,32.82,35.76,32.82,33.8,25.96,35.76,23.02,25.96,32.82,27.92,25.96,35.76,32.82,35.76,27.92,33.8,25.96,25.96,25.96,32.82,38.7,27.92,32.82,35.76,37.72,27.92,35.76,35.76,35.76,38.7,30.86,35.76,25.96,27.92,35.76,38.7,23.02,25.96,37.72,30.86,25.96,27.92,35.76,35.76,27.92,25.96,25.96,25.96,25.96,32.82,25.96,35.76,30.86,23.02,37.72,32.82,27.92,23.02,25.96,37.72,33.8,18.12,32.82,27.92,32.82,35.76,35.76,35.76,32.82,30.86,37.72,35.76,30.86,27.92,32.82,33.8,35.76,35.76,32.82,35.76,37.72,35.76,37.72,25.96,32.82,35.76,25.96,27.92,23.02,25.96,38.7,35.76,37.72,37.72,25.96,37.72,37.72,23.02,18.12,18.12,32.82,25.96,27.92,35.76],\"y\":[33.28996904019583,35.71999047156542,35.7438799670428,34.812559968932646,19.705165622303138,34.611860549629554,25.2125751457981,34.62051523864614,24.822087953110128,30.697795542675486,20.25986269005829,34.72835672965809,35.2025902090686,35.73575747226904,34.5990881300333,35.92799902393891,27.97288806194281,35.86410348550244,34.56130306548736,25.18639760922033,35.231116774327646,25.754469879060192,35.91849016885257,34.31124357189372,35.77652426288151,30.701059107185397,38.75925239710706,28.556515223550186,34.31420190197493,29.34836641863694,34.594337702068366,28.280676781777764,35.98634050781807,25.78776993545943,34.85676606888827,29.31268002697282,34.54537950021766,38.60409442457422,38.376203786826714,29.759766480067704,30.67846041401612,35.87687590509869,35.93226910336652,33.60898043838628,35.52666762934998,34.68494966425379,34.891203640398,25.89464484156515,35.85594473970252,29.906214632065534,28.308338972832612,36.20666406117286,28.112467633646123,34.88158236647518,35.680005685003536,34.78621197716834,30.677146215722704,24.43957511009852,30.66111023161654,30.684705704592552,35.717702430465025,19.968109954329503,34.611860549629554,33.07982820982364,35.66396970089737,34.777689186435985,25.93001381474259,38.23028308032662,34.39856857358392,28.196333506154083,36.03093863722657,34.43660399392931,35.212099064154955,33.258178910426885,29.361138838233195,38.34968005022916,34.488835167957106,28.023977740327833,38.2323745862595,38.42340186223866,25.056505719877457,29.702431511106248,35.8287323727369,28.72748139642926,34.7093390194854,33.13063604976528,30.766622173394985,29.27138104211753,25.752398822693895,35.04010607296461,34.796342049348674,24.95587610434817,19.75361502589633,24.882154292338672,38.44292837066887,29.20780078257964,25.758328834371746,30.710567962271742,35.71379147648502,25.050260429301023,27.96378273544965,28.133987545293827,29.881937695670395,34.72624864910909,25.972864516762197,34.9937104601246,25.093667494705322,30.217971142320998,34.301711320822065,29.79217989955473,28.47404591948924,35.755090461340316,30.795161593694864,34.589579274946956,38.49322741235299,20.178138365865223,30.017088811235713,29.505798808884858,36.12205939766951,33.048038080054695,35.57747546929161,25.73962640309764,24.82967996120067,25.71969802322472,34.316220959672776,34.32337137841068,34.63448120296276,24.690902506489532,30.20221699665822,30.782389174098608,27.98267875547254,29.874424502296584,34.21822221126814,38.11114455288216,28.40194286921899,34.62499574386172,30.925053483037736,34.31124357189372,24.755244129062323,35.05042421199208,36.10745391459845,35.87034877607887,36.12858652668933,34.88231090808078,28.123244391529845,30.56347519719462,35.72454483838343,33.640770568155226,30.788903448077583,29.325452446569077,29.503067438617776,24.74497391094108,38.131016429124614,30.93782590263399,35.11009422131667,29.944250052410915,38.60226136109942,35.94789396435377,26.195906432380283,28.400195441830103,24.938092692853118,30.655863860434934,38.40673318074723,35.15476409519349,29.671909284134674,35.91391240604924,25.2125751457981,25.782874754169427,38.3042633347942,33.28996904019583,34.5179379259738,25.80352408112221,34.80321062964318,30.782389174098608,37.903758488762364,20.333575094400608,25.885135986478804,34.886768017311056,33.33000012225375,36.12237467656809,35.886077550829924,24.595773201668802,30.080669070773606,25.703258510525366,34.70522128890573,30.701059107185397,29.483517534202257,34.91083747333982,35.768415677708916,34.886723135182415,30.835461659155325,38.38559340170741,35.656386816042215,19.79702209130063,35.052419873704615,24.211402633907625,38.33690763063291,35.996706142582866,35.0084785414334,25.880873502574065,35.35911747115506,37.862459503907075,37.970578916824856,21.25522672162753,30.242248078716138,37.954566328704004,35.48079088169136,29.93274553561203,35.71673976209635,35.110740907020066,38.41950560034349,29.725336075506924,33.0513016445646,28.235249858208373,34.86311745307484,31.06789661925096,34.60597803368903,34.99995575070104,30.245511643226045,28.296430927440543,35.03883817016724,36.1838065937326,35.88343647457371,33.14340846936153,30.768218210131785,34.79698873505206,34.530134152812394,28.32437495693878,38.81623091665895,38.44241957241135,24.922588902989776,35.763837914905594,29.398188194224588,34.86256465630249,20.864207334696733,34.67155395493946,30.229757497563266,30.842455513327153,33.04930598285207,35.80458410298854,35.91460411608896,34.39856857358392,35.86410348550244,19.55934076002339,23.171155225508112,34.72623466079096,35.25964333958668,33.320491267167405,34.3682967024118,30.822971078002453,38.38885696621732,24.304423994533202,25.33973566487389,35.10975484266608,28.261780761754874,25.701275703853675,29.258608622521272,35.609583017547244,35.69445848741375,35.78929668247776,24.996189024849475,38.38261167564088,25.91692611624775,34.62074611499783,25.96422003588004,24.66886231629304,28.743517380535426,34.507852878129796,34.49147751537303,38.05082785785418,36.06742283254053,29.540852503163716,25.780610109054347,28.470782354979328,30.623074811271156,29.813305690276426,34.83502415539744,35.00637046088439,24.20515734333119,35.317435261100144,34.54537950021766,29.5131995834222,30.68828668758914,25.89790840607506,35.27441142089547,23.557643145131625,28.134748908328724,25.926434971334096,30.835461659155325,30.179935721975617,35.87905447859343,25.774680097376496,28.470782354979328,29.242854476858493,24.931806648319405,38.334622963528034,26.018291440331588,29.433241888503446,38.55053898532913,25.915245733433796,29.881937695670395,29.97930374668977,24.47252072382837,25.870683184068596,35.48079088169136,34.435749827859546,33.60571687387637,20.854698479610388,37.97384248133477,28.470782354979328,35.24703351822816,35.952120197232354,35.98919294920906,25.796279871150944,26.190647206157838,34.84336095190675,25.89790840607506,38.4004878901708,25.838893054299646,34.767997419567436,38.138685053787206,36.01876333497228,35.59975674397422,35.76161759036013,25.92675025023268,34.54028969360213,28.692427702150404,34.79779188762385,36.03746576624639,35.9738855067085,33.14340846936153,34.85106013950361,34.63414182431215,34.39319692852501,34.951157560790065,38.280104855914274,34.5990881300333,35.24703351822816,25.738446749994868,29.46565530799047,21.085385956715804,24.996189024849475,34.86256465630249,30.211725851744564,38.079354423113216,24.978768387990332,36.12858652668933,38.12477113854818,30.058387796091004,36.139244044367395,34.743426128858026,34.31386252332433,35.89590121079426,35.042725024395224,35.89889626592222,27.98267875547254,28.470782354979328,30.148145592206667,25.848401909385995,30.20221699665822,34.52127198342944,29.589198895587618,38.00863773315555,28.004960030155143,25.94858758036706,33.054283370631126,28.67667355648762,24.788302161628646,35.51009709046018,24.570760556719115,29.962394117066086,28.410465659951345,36.2876376786765,33.0109887240633,38.22911102174959,26.03970834081,30.036106521408403,29.325452446569077,34.69244886930947,29.99480753655311,29.969907310439897,34.811756816360855,36.12858652668933,24.87889072782876,33.193965953503735,25.885451265377387,35.775670096811744,36.13483181726576,34.55390229095002,25.195906464306674,35.634128937344926,35.74851703682445,25.758328834371746,36.413812133398295,35.92994839015541,34.94961168468059,28.736990251515603,35.98048724669451,33.694841972606774,25.931963180959087,33.30473712150462,34.90985857593478,25.675730864661162,34.78356962975242,34.7072309389364,34.837019817109976,24.605282056755147,29.659024445701945,36.018448056073694,34.89788930891031,35.71372178500367,25.761592398881657,36.07351620284295,34.99635280754053,28.40194286921899,34.72623466079096,25.793697807549187,36.01876333497228,38.67408257292628,38.257823581231676,25.816296500718465,25.78745251697275,33.48870041529904,34.69330303537924,33.62799814855897,29.728599640016835,30.716813252848176,38.29149091519794,30.71518163606809,24.980153040743307,25.917241395146334,29.39492462971468,32.9372669120538,28.483426108925947,35.063173235603024,34.935121576683905,33.33326368676366,30.777411786319547,36.12857367164849,35.747530972470464,35.0304847990418,35.745819124127735,34.85930109179258,29.728599640016835,34.90900440986502,34.60597803368903,23.90020372080205,34.72063605591791,27.899569778526498,29.540852503163716,35.70296842310526,24.988277243076677,35.9489661003281,34.56141548432383,29.816569254786337,34.990910669535886,25.93001381474259,35.92869025995803,25.81005121014203,25.89464484156515,38.08886327819956,30.830484271376264,38.797569655895835,25.134725395074504,24.614790911841492,34.60859698511965,34.94961168468059,35.7580258919108,24.49153843400106,24.877735243867857,24.56125170163277,29.709581929844145,38.42064709598627,29.921968777728313,38.637880216055706,25.112444120391903,35.09498676135728,34.52000408063206,28.41296786142636,30.88375449818244,19.851726193137438,28.67667355648762,28.344889738700918,30.906035772865046,24.834328178463558,34.42491656534823,34.457668327906234,38.39721715871194,34.65878153534321,38.060336712940526,25.93494490702561,34.87887159873762,36.06957117491392,34.44102304240012,34.60859698511965,38.192064748199044,35.75750655270882,29.69208247826827,34.765015693500914,34.58482884698202,28.740253816025515,35.83855864630993,35.18150247910637,25.866118276306114,27.97288806194281,24.78090138709131,38.65391620016187,36.01127845706862,29.850147565901448,29.728599640016835,34.82424739751372,30.633582585752336,35.71379147648502,35.10449561644363,24.743818426980177,29.399174258578576,29.456509227540035,35.75477518244173,30.70074168869872,30.10919563603264,35.79370174263045,34.95413211990765,25.778746815455328,36.01147422389166,38.38771547057454,30.05214250551457,25.78418895246284,34.897448930974434,29.979416165526242,29.832323400449116,33.23589763574428,34.61548688877538,29.494181873249506,30.88786553583376,35.25224256504934,34.589942049582866,28.258395507095162,33.33000012225375,29.44275074358979,29.931590051651128,34.285698732701206,24.33581059570896,29.68130572038455,28.0136045110373,35.931262588448824,38.105753428375486,25.227343227106893,25.754482734101035,35.076308429835194,38.079354423113216,29.518571228481115,35.110740907020066,29.88393335738293,23.273403602776646,25.02471559010851,24.8222003719466,34.796342049348674,38.01190129766546,35.66396970089737,28.14425776341507,36.13483181726576,26.00225545622542,35.040915356905735,30.007579956149367,34.911000071577554,35.8795504218101,35.93312588304498,25.112444120391903,35.68466779388402,28.322608464018316,27.96378273544965,30.776143883522174,34.81908709795246,34.67870437367736,30.64635500534859,29.928326487141216,35.8127065977623,34.59011146918978,29.832323400449116,30.96961603240294,35.76128945642071,35.21949301732311,34.61810584020599,25.020690662563702,34.352542556749015,35.567966614205275,25.70752099443011,38.114408117392074,34.88158236647518,29.76038976978578,38.300999770284285,34.86311745307484,35.595178981170896,34.846641091032794,35.80972487169577,35.74358594454144,34.62051523864614,25.960956471370128,24.479639796276174,34.641472105903766,34.46953561934103,30.906035772865046,29.728599640016835,35.041254735556336,34.911000071577554,35.9582059720119,33.33652725127357,35.801873335250974,33.109622677880054,33.57193108239488,24.875044627558047,36.21490501346183,24.988900532794755,25.65671315448847,35.009101831151476,30.07116021568726,25.98408521919414,35.56665241591186,34.58569242071897,36.03746576624639,29.258608622521272,33.675824262434084,24.77128011316849,24.84085530748338,25.958540380001626,34.477330651158226,38.886056466773276,30.253024836599856,34.60924159819894,36.154118510841,35.01146026749993,29.303171171886476,35.548948904032585,35.0304847990418,34.74916262117695,38.898828886369536,29.897691841333174,36.139244044367395,25.979507456390813,29.306434736396387,35.77379289261442,38.5145226226816,25.295173115508685,25.61390424300289,34.9268666360768,29.587203233875083,25.74288996760755,28.011205320731577,35.63186429222984,34.559307403774824,29.357875273723284,25.820794363906014,25.91692611624775,25.78952357333905,26.07924083274483,34.612199928280155,24.558611426840937,36.01572385275556,29.571167249768916,24.389882000160508,37.922776198935054,35.12606178510121,29.74373049596154,25.164116334537727,24.46925715931846,38.152443537737454,33.17168467882113,19.671379830821657,33.035265660458435,29.484049728445086,35.12675349514092,36.028628639468195,36.432829843570985,35.2025902090686,29.98141182723878,29.487936582673072,38.351807610225926,35.905423394942034,30.857742933837926,29.426714759483623,34.56024342574679,33.17168467882113,34.798984396764595,35.7661612417254,35.23552900142927,35.66396970089737,38.08135008482575,34.77144389585955,34.91973020565703,24.793561387851092,29.95387132633373,35.66591906711387,25.011943170512254,24.62756333143775,25.203066290711753,25.853345856709858,38.50501376759526,34.55179421040101,34.81811452577376,35.06679957474884,24.69742963550935,34.877163318004364,38.007651668801564,24.36175896349466,19.947096582444278,19.641585362765245,34.58776347608813,26.081007325665293,29.661132526250952,34.93936403859885],\"type\":\"scatter\"},{\"line\":{\"color\":\"red\",\"dash\":\"dash\"},\"mode\":\"lines\",\"name\":\"Perfect Fit\",\"x\":[18.12,38.7],\"y\":[18.12,38.7],\"type\":\"scatter\"}],                        {\"template\":{\"data\":{\"histogram2dcontour\":[{\"type\":\"histogram2dcontour\",\"colorbar\":{\"outlinewidth\":0,\"ticks\":\"\"},\"colorscale\":[[0.0,\"#0d0887\"],[0.1111111111111111,\"#46039f\"],[0.2222222222222222,\"#7201a8\"],[0.3333333333333333,\"#9c179e\"],[0.4444444444444444,\"#bd3786\"],[0.5555555555555556,\"#d8576b\"],[0.6666666666666666,\"#ed7953\"],[0.7777777777777778,\"#fb9f3a\"],[0.8888888888888888,\"#fdca26\"],[1.0,\"#f0f921\"]]}],\"choropleth\":[{\"type\":\"choropleth\",\"colorbar\":{\"outlinewidth\":0,\"ticks\":\"\"}}],\"histogram2d\":[{\"type\":\"histogram2d\",\"colorbar\":{\"outlinewidth\":0,\"ticks\":\"\"},\"colorscale\":[[0.0,\"#0d0887\"],[0.1111111111111111,\"#46039f\"],[0.2222222222222222,\"#7201a8\"],[0.3333333333333333,\"#9c179e\"],[0.4444444444444444,\"#bd3786\"],[0.5555555555555556,\"#d8576b\"],[0.6666666666666666,\"#ed7953\"],[0.7777777777777778,\"#fb9f3a\"],[0.8888888888888888,\"#fdca26\"],[1.0,\"#f0f921\"]]}],\"heatmap\":[{\"type\":\"heatmap\",\"colorbar\":{\"outlinewidth\":0,\"ticks\":\"\"},\"colorscale\":[[0.0,\"#0d0887\"],[0.1111111111111111,\"#46039f\"],[0.2222222222222222,\"#7201a8\"],[0.3333333333333333,\"#9c179e\"],[0.4444444444444444,\"#bd3786\"],[0.5555555555555556,\"#d8576b\"],[0.6666666666666666,\"#ed7953\"],[0.7777777777777778,\"#fb9f3a\"],[0.8888888888888888,\"#fdca26\"],[1.0,\"#f0f921\"]]}],\"heatmapgl\":[{\"type\":\"heatmapgl\",\"colorbar\":{\"outlinewidth\":0,\"ticks\":\"\"},\"colorscale\":[[0.0,\"#0d0887\"],[0.1111111111111111,\"#46039f\"],[0.2222222222222222,\"#7201a8\"],[0.3333333333333333,\"#9c179e\"],[0.4444444444444444,\"#bd3786\"],[0.5555555555555556,\"#d8576b\"],[0.6666666666666666,\"#ed7953\"],[0.7777777777777778,\"#fb9f3a\"],[0.8888888888888888,\"#fdca26\"],[1.0,\"#f0f921\"]]}],\"contourcarpet\":[{\"type\":\"contourcarpet\",\"colorbar\":{\"outlinewidth\":0,\"ticks\":\"\"}}],\"contour\":[{\"type\":\"contour\",\"colorbar\":{\"outlinewidth\":0,\"ticks\":\"\"},\"colorscale\":[[0.0,\"#0d0887\"],[0.1111111111111111,\"#46039f\"],[0.2222222222222222,\"#7201a8\"],[0.3333333333333333,\"#9c179e\"],[0.4444444444444444,\"#bd3786\"],[0.5555555555555556,\"#d8576b\"],[0.6666666666666666,\"#ed7953\"],[0.7777777777777778,\"#fb9f3a\"],[0.8888888888888888,\"#fdca26\"],[1.0,\"#f0f921\"]]}],\"surface\":[{\"type\":\"surface\",\"colorbar\":{\"outlinewidth\":0,\"ticks\":\"\"},\"colorscale\":[[0.0,\"#0d0887\"],[0.1111111111111111,\"#46039f\"],[0.2222222222222222,\"#7201a8\"],[0.3333333333333333,\"#9c179e\"],[0.4444444444444444,\"#bd3786\"],[0.5555555555555556,\"#d8576b\"],[0.6666666666666666,\"#ed7953\"],[0.7777777777777778,\"#fb9f3a\"],[0.8888888888888888,\"#fdca26\"],[1.0,\"#f0f921\"]]}],\"mesh3d\":[{\"type\":\"mesh3d\",\"colorbar\":{\"outlinewidth\":0,\"ticks\":\"\"}}],\"scatter\":[{\"fillpattern\":{\"fillmode\":\"overlay\",\"size\":10,\"solidity\":0.2},\"type\":\"scatter\"}],\"parcoords\":[{\"type\":\"parcoords\",\"line\":{\"colorbar\":{\"outlinewidth\":0,\"ticks\":\"\"}}}],\"scatterpolargl\":[{\"type\":\"scatterpolargl\",\"marker\":{\"colorbar\":{\"outlinewidth\":0,\"ticks\":\"\"}}}],\"bar\":[{\"error_x\":{\"color\":\"#2a3f5f\"},\"error_y\":{\"color\":\"#2a3f5f\"},\"marker\":{\"line\":{\"color\":\"#E5ECF6\",\"width\":0.5},\"pattern\":{\"fillmode\":\"overlay\",\"size\":10,\"solidity\":0.2}},\"type\":\"bar\"}],\"scattergeo\":[{\"type\":\"scattergeo\",\"marker\":{\"colorbar\":{\"outlinewidth\":0,\"ticks\":\"\"}}}],\"scatterpolar\":[{\"type\":\"scatterpolar\",\"marker\":{\"colorbar\":{\"outlinewidth\":0,\"ticks\":\"\"}}}],\"histogram\":[{\"marker\":{\"pattern\":{\"fillmode\":\"overlay\",\"size\":10,\"solidity\":0.2}},\"type\":\"histogram\"}],\"scattergl\":[{\"type\":\"scattergl\",\"marker\":{\"colorbar\":{\"outlinewidth\":0,\"ticks\":\"\"}}}],\"scatter3d\":[{\"type\":\"scatter3d\",\"line\":{\"colorbar\":{\"outlinewidth\":0,\"ticks\":\"\"}},\"marker\":{\"colorbar\":{\"outlinewidth\":0,\"ticks\":\"\"}}}],\"scattermapbox\":[{\"type\":\"scattermapbox\",\"marker\":{\"colorbar\":{\"outlinewidth\":0,\"ticks\":\"\"}}}],\"scatterternary\":[{\"type\":\"scatterternary\",\"marker\":{\"colorbar\":{\"outlinewidth\":0,\"ticks\":\"\"}}}],\"scattercarpet\":[{\"type\":\"scattercarpet\",\"marker\":{\"colorbar\":{\"outlinewidth\":0,\"ticks\":\"\"}}}],\"carpet\":[{\"aaxis\":{\"endlinecolor\":\"#2a3f5f\",\"gridcolor\":\"white\",\"linecolor\":\"white\",\"minorgridcolor\":\"white\",\"startlinecolor\":\"#2a3f5f\"},\"baxis\":{\"endlinecolor\":\"#2a3f5f\",\"gridcolor\":\"white\",\"linecolor\":\"white\",\"minorgridcolor\":\"white\",\"startlinecolor\":\"#2a3f5f\"},\"type\":\"carpet\"}],\"table\":[{\"cells\":{\"fill\":{\"color\":\"#EBF0F8\"},\"line\":{\"color\":\"white\"}},\"header\":{\"fill\":{\"color\":\"#C8D4E3\"},\"line\":{\"color\":\"white\"}},\"type\":\"table\"}],\"barpolar\":[{\"marker\":{\"line\":{\"color\":\"#E5ECF6\",\"width\":0.5},\"pattern\":{\"fillmode\":\"overlay\",\"size\":10,\"solidity\":0.2}},\"type\":\"barpolar\"}],\"pie\":[{\"automargin\":true,\"type\":\"pie\"}]},\"layout\":{\"autotypenumbers\":\"strict\",\"colorway\":[\"#636efa\",\"#EF553B\",\"#00cc96\",\"#ab63fa\",\"#FFA15A\",\"#19d3f3\",\"#FF6692\",\"#B6E880\",\"#FF97FF\",\"#FECB52\"],\"font\":{\"color\":\"#2a3f5f\"},\"hovermode\":\"closest\",\"hoverlabel\":{\"align\":\"left\"},\"paper_bgcolor\":\"white\",\"plot_bgcolor\":\"#E5ECF6\",\"polar\":{\"bgcolor\":\"#E5ECF6\",\"angularaxis\":{\"gridcolor\":\"white\",\"linecolor\":\"white\",\"ticks\":\"\"},\"radialaxis\":{\"gridcolor\":\"white\",\"linecolor\":\"white\",\"ticks\":\"\"}},\"ternary\":{\"bgcolor\":\"#E5ECF6\",\"aaxis\":{\"gridcolor\":\"white\",\"linecolor\":\"white\",\"ticks\":\"\"},\"baxis\":{\"gridcolor\":\"white\",\"linecolor\":\"white\",\"ticks\":\"\"},\"caxis\":{\"gridcolor\":\"white\",\"linecolor\":\"white\",\"ticks\":\"\"}},\"coloraxis\":{\"colorbar\":{\"outlinewidth\":0,\"ticks\":\"\"}},\"colorscale\":{\"sequential\":[[0.0,\"#0d0887\"],[0.1111111111111111,\"#46039f\"],[0.2222222222222222,\"#7201a8\"],[0.3333333333333333,\"#9c179e\"],[0.4444444444444444,\"#bd3786\"],[0.5555555555555556,\"#d8576b\"],[0.6666666666666666,\"#ed7953\"],[0.7777777777777778,\"#fb9f3a\"],[0.8888888888888888,\"#fdca26\"],[1.0,\"#f0f921\"]],\"sequentialminus\":[[0.0,\"#0d0887\"],[0.1111111111111111,\"#46039f\"],[0.2222222222222222,\"#7201a8\"],[0.3333333333333333,\"#9c179e\"],[0.4444444444444444,\"#bd3786\"],[0.5555555555555556,\"#d8576b\"],[0.6666666666666666,\"#ed7953\"],[0.7777777777777778,\"#fb9f3a\"],[0.8888888888888888,\"#fdca26\"],[1.0,\"#f0f921\"]],\"diverging\":[[0,\"#8e0152\"],[0.1,\"#c51b7d\"],[0.2,\"#de77ae\"],[0.3,\"#f1b6da\"],[0.4,\"#fde0ef\"],[0.5,\"#f7f7f7\"],[0.6,\"#e6f5d0\"],[0.7,\"#b8e186\"],[0.8,\"#7fbc41\"],[0.9,\"#4d9221\"],[1,\"#276419\"]]},\"xaxis\":{\"gridcolor\":\"white\",\"linecolor\":\"white\",\"ticks\":\"\",\"title\":{\"standoff\":15},\"zerolinecolor\":\"white\",\"automargin\":true,\"zerolinewidth\":2},\"yaxis\":{\"gridcolor\":\"white\",\"linecolor\":\"white\",\"ticks\":\"\",\"title\":{\"standoff\":15},\"zerolinecolor\":\"white\",\"automargin\":true,\"zerolinewidth\":2},\"scene\":{\"xaxis\":{\"backgroundcolor\":\"#E5ECF6\",\"gridcolor\":\"white\",\"linecolor\":\"white\",\"showbackground\":true,\"ticks\":\"\",\"zerolinecolor\":\"white\",\"gridwidth\":2},\"yaxis\":{\"backgroundcolor\":\"#E5ECF6\",\"gridcolor\":\"white\",\"linecolor\":\"white\",\"showbackground\":true,\"ticks\":\"\",\"zerolinecolor\":\"white\",\"gridwidth\":2},\"zaxis\":{\"backgroundcolor\":\"#E5ECF6\",\"gridcolor\":\"white\",\"linecolor\":\"white\",\"showbackground\":true,\"ticks\":\"\",\"zerolinecolor\":\"white\",\"gridwidth\":2}},\"shapedefaults\":{\"line\":{\"color\":\"#2a3f5f\"}},\"annotationdefaults\":{\"arrowcolor\":\"#2a3f5f\",\"arrowhead\":0,\"arrowwidth\":1},\"geo\":{\"bgcolor\":\"white\",\"landcolor\":\"#E5ECF6\",\"subunitcolor\":\"white\",\"showland\":true,\"showlakes\":true,\"lakecolor\":\"white\"},\"title\":{\"x\":0.05},\"mapbox\":{\"style\":\"light\"}}},\"title\":{\"text\":\"Actual vs Predicted Sales (Linear Regression Model)\"},\"xaxis\":{\"title\":{\"text\":\"Actual Sales (money)\"}},\"yaxis\":{\"title\":{\"text\":\"Predicted Sales (money)\"}}},                        {\"responsive\": true}                    ).then(function(){\n",
              "                            \n",
              "var gd = document.getElementById('6f06d6a1-faa3-4ad1-acd0-6bbc3f2e6030');\n",
              "var x = new MutationObserver(function (mutations, observer) {{\n",
              "        var display = window.getComputedStyle(gd).display;\n",
              "        if (!display || display === 'none') {{\n",
              "            console.log([gd, 'removed!']);\n",
              "            Plotly.purge(gd);\n",
              "            observer.disconnect();\n",
              "        }}\n",
              "}});\n",
              "\n",
              "// Listen for the removal of the full notebook cells\n",
              "var notebookContainer = gd.closest('#notebook-container');\n",
              "if (notebookContainer) {{\n",
              "    x.observe(notebookContainer, {childList: true});\n",
              "}}\n",
              "\n",
              "// Listen for the clearing of the current output cell\n",
              "var outputEl = gd.closest('.output');\n",
              "if (outputEl) {{\n",
              "    x.observe(outputEl, {childList: true});\n",
              "}}\n",
              "\n",
              "                        })                };                            </script>        </div>\n",
              "</body>\n",
              "</html>"
            ]
          },
          "metadata": {}
        }
      ]
    },
    {
      "cell_type": "code",
      "execution_count": 86,
      "id": "6db4280b",
      "metadata": {
        "colab": {
          "base_uri": "https://localhost:8080/",
          "height": 611
        },
        "id": "6db4280b",
        "outputId": "e8fdb763-afe7-4197-be62-60a3d6549878"
      },
      "outputs": [
        {
          "output_type": "stream",
          "name": "stdout",
          "text": [
            "XGBoost Model Training R2: 0.9968\n",
            "XGBoost Model Training MAE: 0.0936\n",
            "XGBoost Model Test R2: 0.9884\n",
            "XGBoost Model Test MAE: 0.1920\n"
          ]
        },
        {
          "output_type": "display_data",
          "data": {
            "text/html": [
              "<html>\n",
              "<head><meta charset=\"utf-8\" /></head>\n",
              "<body>\n",
              "    <div>            <script src=\"https://cdnjs.cloudflare.com/ajax/libs/mathjax/2.7.5/MathJax.js?config=TeX-AMS-MML_SVG\"></script><script type=\"text/javascript\">if (window.MathJax && window.MathJax.Hub && window.MathJax.Hub.Config) {window.MathJax.Hub.Config({SVG: {font: \"STIX-Web\"}});}</script>                <script type=\"text/javascript\">window.PlotlyConfig = {MathJaxConfig: 'local'};</script>\n",
              "        <script charset=\"utf-8\" src=\"https://cdn.plot.ly/plotly-2.35.2.min.js\"></script>                <div id=\"7d31b25e-36d5-4a48-a7eb-0f75eb1e6c50\" class=\"plotly-graph-div\" style=\"height:525px; width:100%;\"></div>            <script type=\"text/javascript\">                                    window.PLOTLYENV=window.PLOTLYENV || {};                                    if (document.getElementById(\"7d31b25e-36d5-4a48-a7eb-0f75eb1e6c50\")) {                    Plotly.newPlot(                        \"7d31b25e-36d5-4a48-a7eb-0f75eb1e6c50\",                        [{\"mode\":\"markers\",\"name\":\"XGBoost Predictions\",\"x\":[32.82,35.76,35.76,35.76,18.12,35.76,23.02,35.76,25.96,30.86,23.02,37.72,35.76,35.76,35.76,35.76,27.92,35.76,35.76,23.02,35.76,25.96,35.76,32.82,35.76,30.86,38.7,28.9,32.82,27.92,35.76,28.9,35.76,25.96,35.76,27.92,32.82,38.7,37.72,27.92,30.86,35.76,35.76,33.8,35.76,35.76,37.72,25.96,35.76,30.86,28.9,35.76,27.92,35.76,35.76,35.76,30.86,23.02,30.86,30.86,35.76,18.12,35.76,32.82,35.76,35.76,25.96,37.72,32.82,27.92,35.76,32.82,35.76,33.8,27.92,38.7,32.82,27.92,37.72,38.7,25.96,32.82,35.76,28.9,37.72,32.82,30.86,27.92,25.96,32.82,37.72,25.96,21.06,25.96,37.72,27.92,25.96,30.86,35.76,25.96,27.92,28.9,30.86,35.76,25.96,37.72,27.92,27.92,32.82,30.86,27.92,35.76,30.86,35.76,38.7,21.06,27.92,27.92,35.76,32.82,35.76,25.96,27.92,25.96,32.82,35.76,32.82,25.96,27.92,30.86,27.92,30.86,32.82,37.72,27.92,32.82,30.86,32.82,25.96,32.82,35.76,35.76,35.76,35.76,27.92,30.86,35.76,33.8,30.86,27.92,27.92,25.96,37.72,30.86,37.72,30.86,38.7,35.76,25.96,28.9,23.02,30.86,38.7,35.76,27.92,35.76,23.02,25.96,37.72,32.82,32.82,25.96,35.76,30.86,37.72,18.12,25.96,32.82,33.8,35.76,35.76,23.02,27.92,25.96,32.82,30.86,27.92,35.76,35.76,35.76,30.86,38.7,35.76,18.12,32.82,23.02,38.7,35.76,37.72,25.96,37.72,37.72,37.72,21.06,27.92,37.72,35.76,30.86,35.76,32.82,38.7,30.86,32.82,28.9,35.76,30.86,32.82,37.72,27.92,28.9,32.82,35.76,35.76,32.82,30.86,35.76,32.82,28.9,38.7,38.7,25.96,35.76,27.92,35.76,21.06,32.82,30.86,30.86,32.82,35.76,35.76,32.82,35.76,18.12,23.02,32.82,35.76,33.8,32.82,30.86,37.72,23.02,23.02,32.82,28.9,25.96,27.92,35.76,35.76,35.76,25.96,37.72,25.96,32.82,25.96,23.02,28.9,32.82,35.76,37.72,35.76,32.82,25.96,27.92,30.86,32.82,35.76,35.76,23.02,32.82,32.82,30.86,30.86,25.96,35.76,24.0,27.92,25.96,30.86,27.92,35.76,25.96,28.9,27.92,27.92,37.72,25.96,27.92,38.7,25.96,30.86,30.86,25.96,25.96,35.76,32.82,33.8,21.06,37.72,28.9,32.82,35.76,35.76,25.96,25.96,35.76,25.96,38.7,25.96,35.76,37.72,35.76,35.76,35.76,25.96,35.76,28.9,35.76,35.76,35.76,32.82,35.76,35.76,35.76,32.82,37.72,35.76,32.82,25.96,30.86,21.06,25.96,35.76,27.92,37.72,27.92,35.76,38.7,27.92,35.76,35.76,35.76,35.76,35.76,35.76,27.92,28.9,27.92,25.96,27.92,35.76,30.86,37.72,27.92,25.96,32.82,28.9,25.96,32.82,23.02,32.82,28.9,35.76,32.82,37.72,25.96,27.92,27.92,32.82,27.92,32.82,35.76,35.76,25.96,33.8,25.96,35.76,35.76,37.72,23.02,35.76,35.76,25.96,35.76,35.76,35.76,28.9,35.76,33.8,25.96,32.82,32.82,25.96,32.82,35.76,35.76,23.02,30.86,35.76,35.76,35.76,25.96,35.76,32.82,27.92,32.82,25.96,35.76,38.7,38.7,25.96,25.96,33.8,37.72,33.8,30.86,30.86,38.7,30.86,25.96,25.96,27.92,32.82,28.9,32.82,32.82,33.8,30.86,35.76,35.76,35.76,35.76,35.76,30.86,35.76,32.82,24.0,35.76,27.92,27.92,35.76,27.92,35.76,32.82,32.82,35.76,25.96,35.76,25.96,25.96,37.72,30.86,38.7,23.02,23.02,35.76,35.76,35.76,25.96,27.92,23.02,30.86,38.7,30.86,38.7,23.02,32.82,35.76,28.9,30.86,23.02,28.9,28.9,30.86,25.96,32.82,35.76,37.72,32.82,37.72,25.96,35.76,35.76,35.76,35.76,37.72,35.76,30.86,35.76,35.76,28.9,35.76,37.72,25.96,27.92,23.02,38.7,35.76,30.86,30.86,35.76,30.86,35.76,32.82,27.92,27.92,27.92,35.76,30.86,27.92,35.76,35.76,25.96,35.76,38.7,27.92,25.96,37.72,32.82,32.82,33.8,32.82,30.86,30.86,37.72,32.82,28.9,33.8,27.92,32.82,32.82,23.02,30.86,27.92,35.76,38.7,23.02,25.96,37.72,37.72,27.92,32.82,30.86,23.02,25.96,23.02,37.72,37.72,35.76,27.92,35.76,25.96,35.76,27.92,35.76,35.76,35.76,23.02,35.76,28.9,27.92,30.86,35.76,35.76,30.86,32.82,35.76,35.76,32.82,30.86,35.76,35.76,35.76,23.02,32.82,35.76,25.96,37.72,35.76,30.86,38.7,35.76,35.76,37.72,35.76,35.76,35.76,25.96,23.02,35.76,32.82,30.86,30.86,37.72,35.76,35.76,32.82,35.76,32.82,33.8,25.96,35.76,23.02,25.96,32.82,27.92,25.96,35.76,32.82,35.76,27.92,33.8,25.96,25.96,25.96,32.82,38.7,27.92,32.82,35.76,37.72,27.92,35.76,35.76,35.76,38.7,30.86,35.76,25.96,27.92,35.76,38.7,23.02,25.96,37.72,30.86,25.96,27.92,35.76,35.76,27.92,25.96,25.96,25.96,25.96,32.82,25.96,35.76,30.86,23.02,37.72,32.82,27.92,23.02,25.96,37.72,33.8,18.12,32.82,27.92,32.82,35.76,35.76,35.76,32.82,30.86,37.72,35.76,30.86,27.92,32.82,33.8,35.76,35.76,32.82,35.76,37.72,35.76,37.72,25.96,32.82,35.76,25.96,27.92,23.02,25.96,38.7,35.76,37.72,37.72,25.96,37.72,37.72,23.02,18.12,18.12,32.82,25.96,27.92,35.76],\"y\":[33.136497,35.75665,35.871105,35.791588,17.973097,35.772026,23.204222,35.749954,25.897219,30.846878,23.48469,37.557716,35.69569,35.771362,35.756756,35.731613,27.949297,35.742023,35.831028,23.392735,35.76033,25.972914,35.718845,32.502476,35.767635,30.845816,38.846764,28.984621,32.931362,27.897514,35.749958,28.363276,35.74324,25.969955,35.72561,28.209919,32.520004,38.571785,37.054173,30.772985,30.851736,35.75271,35.795425,33.856964,35.790703,35.714355,37.69873,25.978268,35.722084,30.9056,28.526266,35.74656,27.96492,35.70849,35.720676,35.73141,30.868128,22.969358,30.84567,30.851019,35.777767,18.103043,35.772026,32.785988,35.743347,35.72941,26.005857,37.69097,32.70953,28.003473,35.797016,32.974747,35.756626,33.270916,27.75615,38.688995,32.692654,27.969006,37.76711,38.70371,25.908892,30.545782,35.767056,28.796968,37.749645,32.73483,30.976841,27.764688,25.987684,32.967155,36.534603,25.916302,21.067732,25.928198,38.588806,27.757128,26.005472,30.825489,35.737827,25.923977,27.652401,28.799532,30.796139,35.66121,25.955854,37.794018,27.802273,28.00358,34.31167,30.878187,28.348814,35.757267,30.871832,35.76782,38.65457,21.004425,28.009317,28.12693,35.783844,32.661625,35.770874,25.954084,27.788658,25.928934,34.00906,35.756756,34.254917,25.991642,27.806446,30.804625,28.06126,30.818844,32.575974,37.69976,28.345715,33.207592,30.848703,32.502476,25.880295,32.969215,35.756638,35.782436,35.754074,35.873867,27.90721,30.866604,35.755695,33.822933,30.849243,27.821335,28.521572,25.90231,38.309868,30.87792,37.808277,30.922321,38.37156,35.765667,25.947582,28.956654,23.128473,30.834904,38.678936,35.74782,28.085432,35.742733,23.204222,25.941713,39.104965,33.136497,32.784126,25.967775,35.68648,30.804625,37.67987,18.056616,25.975504,32.506462,33.560596,35.745865,35.720184,23.018078,27.851894,25.947397,33.08587,30.845816,28.132975,35.74278,35.73986,36.346195,30.871794,38.463196,35.750458,17.898327,32.879982,22.870626,38.667206,35.478443,37.58432,25.925632,37.776638,37.67075,37.86734,20.7081,27.902958,37.222427,35.775703,31.024712,35.784134,34.02361,38.636505,30.841726,32.671593,28.718197,35.58193,30.859695,32.852245,37.723938,27.861197,28.59126,33.09369,35.734295,35.74865,32.813717,31.216913,35.748123,33.297447,28.699749,38.731213,38.77325,25.977682,35.596573,27.98046,35.759098,21.06247,33.36712,28.652817,30.876865,32.827106,35.755238,35.87044,32.70953,35.742023,18.105398,23.07009,33.487816,35.756954,33.51803,32.805992,30.838486,38.643566,22.535841,24.10244,32.750843,28.278992,25.971628,27.793266,35.75817,35.764324,35.789623,25.882147,38.09766,25.951927,32.675175,25.947617,23.520714,28.753906,32.692406,35.744305,37.74193,35.70722,28.167444,25.947514,28.427895,30.901552,33.044483,35.924168,35.766754,23.041355,32.978374,32.520004,30.865746,30.833189,25.964348,35.725555,23.933754,27.943754,25.925152,30.871794,28.029552,35.770126,26.029062,28.427895,27.764427,27.758646,37.728714,25.952389,27.8132,38.886974,25.92948,30.796139,30.891502,25.944944,26.010014,35.775703,32.646255,33.874893,21.080225,37.7449,28.427895,32.686096,35.75316,35.758003,25.8133,26.015638,35.760765,25.964348,38.678364,25.981678,35.77843,37.756645,35.757347,35.70092,35.783928,25.997814,35.74872,28.834274,35.70639,35.750828,35.771923,32.813717,35.75081,35.773613,35.72724,32.945038,38.47743,35.756756,32.686096,25.972382,30.841745,21.121353,25.882147,35.759098,27.808619,37.73046,28.006983,35.754074,38.367928,28.094995,35.771324,35.77417,35.76782,36.4882,35.73739,35.76563,28.06126,28.427895,28.006226,25.981932,27.806446,35.748123,30.857931,37.959274,27.926422,25.99236,32.860954,28.740313,25.856081,32.806717,23.768997,32.458225,28.351393,35.77346,32.8978,37.82604,25.956665,27.875584,27.821335,35.37273,27.997833,32.81679,35.74008,35.754074,25.992743,33.260414,25.987947,35.767174,35.73708,32.822994,23.70254,35.507553,35.821026,26.005472,35.747437,35.451523,35.66619,28.825363,35.767433,33.802155,25.901968,33.14145,32.96317,25.952143,33.993958,35.730755,35.831028,23.146399,30.967018,35.7256,35.70016,35.779114,25.93929,35.782604,32.832115,28.345715,33.487816,26.02384,35.757347,38.781357,38.502995,25.9692,25.972553,33.704063,37.677902,33.910713,30.858646,30.893274,38.20323,30.881433,25.924591,25.977383,27.703745,32.60274,28.91378,32.80423,33.04161,33.541126,30.926485,35.73589,35.765102,35.723988,35.72821,35.994823,30.858646,35.73595,32.852245,24.06045,35.799618,27.958376,28.167444,35.750454,27.651525,35.75176,35.1185,32.796013,35.74483,26.005857,35.71097,25.939354,25.978268,37.659817,31.060686,38.825733,22.941914,23.342611,35.75853,35.66619,35.808002,25.94857,27.67939,24.561285,30.831896,38.709774,30.747663,38.726948,23.06249,32.615208,35.747993,28.290068,30.86296,22.481178,28.740313,28.294271,30.863108,25.943316,33.980152,35.74672,37.72385,32.27961,37.65543,25.985167,35.7493,35.764847,35.722588,35.75853,37.697765,35.770103,30.710638,35.763203,35.722225,28.759073,35.76623,37.705708,26.022795,27.949297,23.240728,38.712643,35.77252,30.839907,30.858646,36.12142,30.855295,35.737827,32.65231,27.958412,27.943174,27.74783,35.7569,30.826982,28.357931,35.76516,35.74913,25.933094,35.771362,38.661716,29.00543,26.01688,37.252274,32.708313,32.77824,33.26534,32.813564,30.837511,30.824396,37.573627,34.22896,28.487968,33.560596,27.680944,32.886467,33.16749,23.132307,30.928326,27.913166,35.7592,38.23726,23.425903,25.956749,37.071297,37.73046,27.739563,34.02361,30.788568,23.107391,25.94979,24.624983,36.534603,37.694824,35.743347,27.963873,35.73708,25.948954,33.826065,28.76358,35.734035,35.83098,35.76493,23.06249,35.85166,28.338795,27.652401,30.872217,35.769253,35.80536,30.805155,32.71894,35.779938,35.757122,32.77824,30.798765,35.73119,32.76546,35.760212,23.037775,32.7547,35.790012,25.960154,37.681145,35.70849,30.814562,38.655365,35.58193,35.64955,37.599514,35.763428,35.73023,35.749954,25.93867,23.24361,35.78047,32.792854,30.863108,30.858646,37.71755,35.734035,35.765972,33.153507,35.74967,32.80204,33.93513,26.00463,35.766357,23.035381,25.94233,32.955406,27.871447,25.94128,35.73196,33.24775,35.750828,27.793266,33.786316,25.939127,26.049923,26.005335,32.877254,38.73079,28.831778,31.8614,35.78668,37.73405,28.014723,35.77606,35.723988,35.792988,38.52956,31.032915,35.771324,25.949366,27.777012,35.795918,38.77298,23.421125,25.943563,38.30246,32.069035,25.972427,28.098963,35.75244,35.924168,27.686298,25.93982,25.951927,25.976074,25.967775,32.69039,25.943316,35.939133,30.915127,23.32545,37.714912,32.922085,28.92159,23.68225,25.90231,37.723354,33.470764,21.276001,32.77073,29.207949,32.6805,35.73653,35.72112,35.69569,32.81418,30.891098,38.371597,35.763474,30.834698,28.297026,32.82827,33.470764,35.704792,35.739677,32.735764,35.743347,37.742405,35.751915,37.715523,25.91729,32.964005,35.77032,25.948576,23.480461,23.144064,25.956993,38.728676,35.764446,37.734188,40.07742,25.956335,37.714252,37.740368,22.876896,21.153734,17.983658,32.77108,25.914103,28.503628,35.741108],\"type\":\"scatter\"},{\"line\":{\"color\":\"red\",\"dash\":\"dash\"},\"mode\":\"lines\",\"name\":\"Perfect Fit\",\"x\":[18.12,38.7],\"y\":[18.12,38.7],\"type\":\"scatter\"}],                        {\"template\":{\"data\":{\"histogram2dcontour\":[{\"type\":\"histogram2dcontour\",\"colorbar\":{\"outlinewidth\":0,\"ticks\":\"\"},\"colorscale\":[[0.0,\"#0d0887\"],[0.1111111111111111,\"#46039f\"],[0.2222222222222222,\"#7201a8\"],[0.3333333333333333,\"#9c179e\"],[0.4444444444444444,\"#bd3786\"],[0.5555555555555556,\"#d8576b\"],[0.6666666666666666,\"#ed7953\"],[0.7777777777777778,\"#fb9f3a\"],[0.8888888888888888,\"#fdca26\"],[1.0,\"#f0f921\"]]}],\"choropleth\":[{\"type\":\"choropleth\",\"colorbar\":{\"outlinewidth\":0,\"ticks\":\"\"}}],\"histogram2d\":[{\"type\":\"histogram2d\",\"colorbar\":{\"outlinewidth\":0,\"ticks\":\"\"},\"colorscale\":[[0.0,\"#0d0887\"],[0.1111111111111111,\"#46039f\"],[0.2222222222222222,\"#7201a8\"],[0.3333333333333333,\"#9c179e\"],[0.4444444444444444,\"#bd3786\"],[0.5555555555555556,\"#d8576b\"],[0.6666666666666666,\"#ed7953\"],[0.7777777777777778,\"#fb9f3a\"],[0.8888888888888888,\"#fdca26\"],[1.0,\"#f0f921\"]]}],\"heatmap\":[{\"type\":\"heatmap\",\"colorbar\":{\"outlinewidth\":0,\"ticks\":\"\"},\"colorscale\":[[0.0,\"#0d0887\"],[0.1111111111111111,\"#46039f\"],[0.2222222222222222,\"#7201a8\"],[0.3333333333333333,\"#9c179e\"],[0.4444444444444444,\"#bd3786\"],[0.5555555555555556,\"#d8576b\"],[0.6666666666666666,\"#ed7953\"],[0.7777777777777778,\"#fb9f3a\"],[0.8888888888888888,\"#fdca26\"],[1.0,\"#f0f921\"]]}],\"heatmapgl\":[{\"type\":\"heatmapgl\",\"colorbar\":{\"outlinewidth\":0,\"ticks\":\"\"},\"colorscale\":[[0.0,\"#0d0887\"],[0.1111111111111111,\"#46039f\"],[0.2222222222222222,\"#7201a8\"],[0.3333333333333333,\"#9c179e\"],[0.4444444444444444,\"#bd3786\"],[0.5555555555555556,\"#d8576b\"],[0.6666666666666666,\"#ed7953\"],[0.7777777777777778,\"#fb9f3a\"],[0.8888888888888888,\"#fdca26\"],[1.0,\"#f0f921\"]]}],\"contourcarpet\":[{\"type\":\"contourcarpet\",\"colorbar\":{\"outlinewidth\":0,\"ticks\":\"\"}}],\"contour\":[{\"type\":\"contour\",\"colorbar\":{\"outlinewidth\":0,\"ticks\":\"\"},\"colorscale\":[[0.0,\"#0d0887\"],[0.1111111111111111,\"#46039f\"],[0.2222222222222222,\"#7201a8\"],[0.3333333333333333,\"#9c179e\"],[0.4444444444444444,\"#bd3786\"],[0.5555555555555556,\"#d8576b\"],[0.6666666666666666,\"#ed7953\"],[0.7777777777777778,\"#fb9f3a\"],[0.8888888888888888,\"#fdca26\"],[1.0,\"#f0f921\"]]}],\"surface\":[{\"type\":\"surface\",\"colorbar\":{\"outlinewidth\":0,\"ticks\":\"\"},\"colorscale\":[[0.0,\"#0d0887\"],[0.1111111111111111,\"#46039f\"],[0.2222222222222222,\"#7201a8\"],[0.3333333333333333,\"#9c179e\"],[0.4444444444444444,\"#bd3786\"],[0.5555555555555556,\"#d8576b\"],[0.6666666666666666,\"#ed7953\"],[0.7777777777777778,\"#fb9f3a\"],[0.8888888888888888,\"#fdca26\"],[1.0,\"#f0f921\"]]}],\"mesh3d\":[{\"type\":\"mesh3d\",\"colorbar\":{\"outlinewidth\":0,\"ticks\":\"\"}}],\"scatter\":[{\"fillpattern\":{\"fillmode\":\"overlay\",\"size\":10,\"solidity\":0.2},\"type\":\"scatter\"}],\"parcoords\":[{\"type\":\"parcoords\",\"line\":{\"colorbar\":{\"outlinewidth\":0,\"ticks\":\"\"}}}],\"scatterpolargl\":[{\"type\":\"scatterpolargl\",\"marker\":{\"colorbar\":{\"outlinewidth\":0,\"ticks\":\"\"}}}],\"bar\":[{\"error_x\":{\"color\":\"#2a3f5f\"},\"error_y\":{\"color\":\"#2a3f5f\"},\"marker\":{\"line\":{\"color\":\"#E5ECF6\",\"width\":0.5},\"pattern\":{\"fillmode\":\"overlay\",\"size\":10,\"solidity\":0.2}},\"type\":\"bar\"}],\"scattergeo\":[{\"type\":\"scattergeo\",\"marker\":{\"colorbar\":{\"outlinewidth\":0,\"ticks\":\"\"}}}],\"scatterpolar\":[{\"type\":\"scatterpolar\",\"marker\":{\"colorbar\":{\"outlinewidth\":0,\"ticks\":\"\"}}}],\"histogram\":[{\"marker\":{\"pattern\":{\"fillmode\":\"overlay\",\"size\":10,\"solidity\":0.2}},\"type\":\"histogram\"}],\"scattergl\":[{\"type\":\"scattergl\",\"marker\":{\"colorbar\":{\"outlinewidth\":0,\"ticks\":\"\"}}}],\"scatter3d\":[{\"type\":\"scatter3d\",\"line\":{\"colorbar\":{\"outlinewidth\":0,\"ticks\":\"\"}},\"marker\":{\"colorbar\":{\"outlinewidth\":0,\"ticks\":\"\"}}}],\"scattermapbox\":[{\"type\":\"scattermapbox\",\"marker\":{\"colorbar\":{\"outlinewidth\":0,\"ticks\":\"\"}}}],\"scatterternary\":[{\"type\":\"scatterternary\",\"marker\":{\"colorbar\":{\"outlinewidth\":0,\"ticks\":\"\"}}}],\"scattercarpet\":[{\"type\":\"scattercarpet\",\"marker\":{\"colorbar\":{\"outlinewidth\":0,\"ticks\":\"\"}}}],\"carpet\":[{\"aaxis\":{\"endlinecolor\":\"#2a3f5f\",\"gridcolor\":\"white\",\"linecolor\":\"white\",\"minorgridcolor\":\"white\",\"startlinecolor\":\"#2a3f5f\"},\"baxis\":{\"endlinecolor\":\"#2a3f5f\",\"gridcolor\":\"white\",\"linecolor\":\"white\",\"minorgridcolor\":\"white\",\"startlinecolor\":\"#2a3f5f\"},\"type\":\"carpet\"}],\"table\":[{\"cells\":{\"fill\":{\"color\":\"#EBF0F8\"},\"line\":{\"color\":\"white\"}},\"header\":{\"fill\":{\"color\":\"#C8D4E3\"},\"line\":{\"color\":\"white\"}},\"type\":\"table\"}],\"barpolar\":[{\"marker\":{\"line\":{\"color\":\"#E5ECF6\",\"width\":0.5},\"pattern\":{\"fillmode\":\"overlay\",\"size\":10,\"solidity\":0.2}},\"type\":\"barpolar\"}],\"pie\":[{\"automargin\":true,\"type\":\"pie\"}]},\"layout\":{\"autotypenumbers\":\"strict\",\"colorway\":[\"#636efa\",\"#EF553B\",\"#00cc96\",\"#ab63fa\",\"#FFA15A\",\"#19d3f3\",\"#FF6692\",\"#B6E880\",\"#FF97FF\",\"#FECB52\"],\"font\":{\"color\":\"#2a3f5f\"},\"hovermode\":\"closest\",\"hoverlabel\":{\"align\":\"left\"},\"paper_bgcolor\":\"white\",\"plot_bgcolor\":\"#E5ECF6\",\"polar\":{\"bgcolor\":\"#E5ECF6\",\"angularaxis\":{\"gridcolor\":\"white\",\"linecolor\":\"white\",\"ticks\":\"\"},\"radialaxis\":{\"gridcolor\":\"white\",\"linecolor\":\"white\",\"ticks\":\"\"}},\"ternary\":{\"bgcolor\":\"#E5ECF6\",\"aaxis\":{\"gridcolor\":\"white\",\"linecolor\":\"white\",\"ticks\":\"\"},\"baxis\":{\"gridcolor\":\"white\",\"linecolor\":\"white\",\"ticks\":\"\"},\"caxis\":{\"gridcolor\":\"white\",\"linecolor\":\"white\",\"ticks\":\"\"}},\"coloraxis\":{\"colorbar\":{\"outlinewidth\":0,\"ticks\":\"\"}},\"colorscale\":{\"sequential\":[[0.0,\"#0d0887\"],[0.1111111111111111,\"#46039f\"],[0.2222222222222222,\"#7201a8\"],[0.3333333333333333,\"#9c179e\"],[0.4444444444444444,\"#bd3786\"],[0.5555555555555556,\"#d8576b\"],[0.6666666666666666,\"#ed7953\"],[0.7777777777777778,\"#fb9f3a\"],[0.8888888888888888,\"#fdca26\"],[1.0,\"#f0f921\"]],\"sequentialminus\":[[0.0,\"#0d0887\"],[0.1111111111111111,\"#46039f\"],[0.2222222222222222,\"#7201a8\"],[0.3333333333333333,\"#9c179e\"],[0.4444444444444444,\"#bd3786\"],[0.5555555555555556,\"#d8576b\"],[0.6666666666666666,\"#ed7953\"],[0.7777777777777778,\"#fb9f3a\"],[0.8888888888888888,\"#fdca26\"],[1.0,\"#f0f921\"]],\"diverging\":[[0,\"#8e0152\"],[0.1,\"#c51b7d\"],[0.2,\"#de77ae\"],[0.3,\"#f1b6da\"],[0.4,\"#fde0ef\"],[0.5,\"#f7f7f7\"],[0.6,\"#e6f5d0\"],[0.7,\"#b8e186\"],[0.8,\"#7fbc41\"],[0.9,\"#4d9221\"],[1,\"#276419\"]]},\"xaxis\":{\"gridcolor\":\"white\",\"linecolor\":\"white\",\"ticks\":\"\",\"title\":{\"standoff\":15},\"zerolinecolor\":\"white\",\"automargin\":true,\"zerolinewidth\":2},\"yaxis\":{\"gridcolor\":\"white\",\"linecolor\":\"white\",\"ticks\":\"\",\"title\":{\"standoff\":15},\"zerolinecolor\":\"white\",\"automargin\":true,\"zerolinewidth\":2},\"scene\":{\"xaxis\":{\"backgroundcolor\":\"#E5ECF6\",\"gridcolor\":\"white\",\"linecolor\":\"white\",\"showbackground\":true,\"ticks\":\"\",\"zerolinecolor\":\"white\",\"gridwidth\":2},\"yaxis\":{\"backgroundcolor\":\"#E5ECF6\",\"gridcolor\":\"white\",\"linecolor\":\"white\",\"showbackground\":true,\"ticks\":\"\",\"zerolinecolor\":\"white\",\"gridwidth\":2},\"zaxis\":{\"backgroundcolor\":\"#E5ECF6\",\"gridcolor\":\"white\",\"linecolor\":\"white\",\"showbackground\":true,\"ticks\":\"\",\"zerolinecolor\":\"white\",\"gridwidth\":2}},\"shapedefaults\":{\"line\":{\"color\":\"#2a3f5f\"}},\"annotationdefaults\":{\"arrowcolor\":\"#2a3f5f\",\"arrowhead\":0,\"arrowwidth\":1},\"geo\":{\"bgcolor\":\"white\",\"landcolor\":\"#E5ECF6\",\"subunitcolor\":\"white\",\"showland\":true,\"showlakes\":true,\"lakecolor\":\"white\"},\"title\":{\"x\":0.05},\"mapbox\":{\"style\":\"light\"}}},\"title\":{\"text\":\"Actual vs Predicted Sales (XGBoost Model)\"},\"xaxis\":{\"title\":{\"text\":\"Actual Sales (money)\"}},\"yaxis\":{\"title\":{\"text\":\"Predicted Sales (money)\"}}},                        {\"responsive\": true}                    ).then(function(){\n",
              "                            \n",
              "var gd = document.getElementById('7d31b25e-36d5-4a48-a7eb-0f75eb1e6c50');\n",
              "var x = new MutationObserver(function (mutations, observer) {{\n",
              "        var display = window.getComputedStyle(gd).display;\n",
              "        if (!display || display === 'none') {{\n",
              "            console.log([gd, 'removed!']);\n",
              "            Plotly.purge(gd);\n",
              "            observer.disconnect();\n",
              "        }}\n",
              "}});\n",
              "\n",
              "// Listen for the removal of the full notebook cells\n",
              "var notebookContainer = gd.closest('#notebook-container');\n",
              "if (notebookContainer) {{\n",
              "    x.observe(notebookContainer, {childList: true});\n",
              "}}\n",
              "\n",
              "// Listen for the clearing of the current output cell\n",
              "var outputEl = gd.closest('.output');\n",
              "if (outputEl) {{\n",
              "    x.observe(outputEl, {childList: true});\n",
              "}}\n",
              "\n",
              "                        })                };                            </script>        </div>\n",
              "</body>\n",
              "</html>"
            ]
          },
          "metadata": {}
        }
      ],
      "source": [
        "import xgboost as xgb\n",
        "from sklearn.metrics import r2_score, mean_absolute_error\n",
        "import plotly.graph_objects as go\n",
        "from sklearn.model_selection import train_test_split\n",
        "import pandas as pd\n",
        "\n",
        "# Create a proper copy of the dataframe\n",
        "df_model = df.copy()\n",
        "\n",
        "# Drop unwanted columns\n",
        "df_model.drop(['Time', 'cash_type', 'Month_name', 'Weekday', 'is_weekend'], axis=1, inplace=True)\n",
        "\n",
        "# Process the date column and extract features\n",
        "df_model['Date'] = pd.to_datetime(df_model['Date'], format='%Y-%m-%d')\n",
        "df_model['Year'] = df_model['Date'].dt.year.astype(str)\n",
        "df_model['Month'] = df_model['Date'].dt.month\n",
        "df_model['Season'] = df_model['Month'].map({\n",
        "    12:'Winter',1:'Winter',2:'Winter',\n",
        "    3:'Spring',4:'Spring',5:'Spring',\n",
        "    6:'Summer',7:'Summer',8:'Summer',\n",
        "    9:'Autumn',10:'Autumn',11:'Autumn'\n",
        "})\n",
        "\n",
        "# Target variable\n",
        "y = df_model[\"money\"]\n",
        "\n",
        "# Features\n",
        "categorical_cols = ['coffee_name', 'Time_of_Day', 'Year', 'Season']\n",
        "numerical_cols = [\"hour_of_day\", \"Weekdaysort\", \"Monthsort\"]\n",
        "\n",
        "# Encoding and Standardization\n",
        "X_cat = pd.get_dummies(df_model[categorical_cols], drop_first=True, dtype=int)\n",
        "X_num = (df_model[numerical_cols] - df_model[numerical_cols].mean()) / df_model[numerical_cols].std()\n",
        "X_combined = pd.concat([X_num, X_cat], axis=1)\n",
        "\n",
        "# Split data\n",
        "X_train, X_test, y_train, y_test = train_test_split(X_combined, y, test_size=0.2, random_state=42)\n",
        "\n",
        "# Initialize and train the XGBoost Regressor model\n",
        "xgboost_model = xgb.XGBRegressor(objective='reg:squarederror', random_state=42)\n",
        "xgboost_model.fit(X_train, y_train)\n",
        "\n",
        "# Make predictions on training and test sets\n",
        "y_pred_train_xgboost = xgboost_model.predict(X_train)\n",
        "y_pred_test_xgboost = xgboost_model.predict(X_test)\n",
        "\n",
        "# Calculate R2 and MAE for the training set\n",
        "r2_train_xgboost = r2_score(y_train, y_pred_train_xgboost)\n",
        "mae_train_xgboost = mean_absolute_error(y_train, y_pred_train_xgboost)\n",
        "\n",
        "# Calculate R2 and MAE for the test set\n",
        "r2_test_xgboost = r2_score(y_test, y_pred_test_xgboost)\n",
        "mae_test_xgboost = mean_absolute_error(y_test, y_pred_test_xgboost)\n",
        "\n",
        "print(f\"XGBoost Model Training R2: {r2_train_xgboost:.4f}\")\n",
        "print(f\"XGBoost Model Training MAE: {mae_train_xgboost:.4f}\")\n",
        "print(f\"XGBoost Model Test R2: {r2_test_xgboost:.4f}\")\n",
        "print(f\"XGBoost Model Test MAE: {mae_test_xgboost:.4f}\")\n",
        "\n",
        "# Plot actual vs predicted sales for XGBoost model (using test set)\n",
        "fig_xgboost = go.Figure()\n",
        "fig_xgboost.add_trace(go.Scatter(x=y_test, y=y_pred_test_xgboost, mode='markers', name='XGBoost Predictions'))\n",
        "fig_xgboost.add_trace(go.Scatter(x=[y_test.min(), y_test.max()], y=[y_test.min(), y_test.max()],\n",
        "                            mode='lines', name='Perfect Fit', line=dict(color='red', dash='dash')))\n",
        "fig_xgboost.update_layout(title='Actual vs Predicted Sales (XGBoost Model)',\n",
        "                      xaxis_title='Actual Sales (money)',\n",
        "                      yaxis_title='Predicted Sales (money)')\n",
        "fig_xgboost.show()"
      ]
    },
    {
      "cell_type": "markdown",
      "id": "743b0976",
      "metadata": {
        "id": "743b0976"
      },
      "source": [
        "## Insights from EDA\n",
        "\n",
        "### 1. Sales by Weekday\n",
        "- **All Years Combined:** Sales peak on **Monday and Tuesday**, with weekends (Saturday and Sunday) showing lower totals.  \n",
        "---\n",
        "\n",
        "### 2. Coffee Popularity\n",
        "- **Top Drinks:** *Americano with Milk* and *Latte* dominate orders.  \n",
        "- **Lowest Demand:** Espresso is the least ordered.  \n",
        "\n",
        "---\n",
        "\n",
        "### 3. Average Spending by Time of Day\n",
        "- Customers spend around **30–32** on average across all times.  \n",
        "- Spending is **slightly higher at night**, suggesting evening customers may prefer larger or premium drinks.  \n",
        "\n",
        "---\n",
        "\n",
        "### 4. Weekday vs Weekend Split\n",
        "- **Average sales** are almost equal (**50.1% weekday vs 49.9% weekend**).  \n",
        "- Weekdays: higher transaction counts.  \n",
        "- Weekends: fewer customers but larger orders.  \n",
        "\n",
        "---\n",
        "\n",
        "### 5. Monthly & Seasonal Trends\n",
        "- **Monthly:**  \n",
        "  - *February & March* peak strongly, with **March 2025** having the highest sales.  \n",
        "  - Mid-year (June–August) shows dips.  \n",
        "- **Seasonal:**  \n",
        "  - *Autumn (29%)* leads, followed by *Spring (26%)*.  \n",
        "  - *Summer (20%)* is weakest.  \n",
        "\n",
        "---\n",
        "\n",
        "### 6. Coffee Type by Season\n",
        "- **Autumn:** Americano with Milk is most popular.  \n",
        "- **Spring:** Latte dominates.  \n",
        "- **Summer:** Americano with Milk leads but overall demand is weaker.  \n",
        "- **Winter:** Americano with Milk & Latte remain top sellers.  \n",
        "\n",
        "---\n",
        "\n",
        "\n"
      ]
    },
    {
      "cell_type": "code",
      "execution_count": null,
      "id": "f491ff05",
      "metadata": {
        "id": "f491ff05"
      },
      "outputs": [],
      "source": []
    }
  ],
  "metadata": {
    "kernelspec": {
      "display_name": "Python 3",
      "language": "python",
      "name": "python3"
    },
    "language_info": {
      "codemirror_mode": {
        "name": "ipython",
        "version": 3
      },
      "file_extension": ".py",
      "mimetype": "text/x-python",
      "name": "python",
      "nbconvert_exporter": "python",
      "pygments_lexer": "ipython3",
      "version": "3.13.2"
    },
    "colab": {
      "provenance": []
    }
  },
  "nbformat": 4,
  "nbformat_minor": 5
}