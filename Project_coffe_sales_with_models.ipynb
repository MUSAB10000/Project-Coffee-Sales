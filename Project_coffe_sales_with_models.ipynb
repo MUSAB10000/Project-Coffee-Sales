{
  "cells": [
    {
      "cell_type": "markdown",
      "id": "bbfe860e",
      "metadata": {
        "id": "bbfe860e"
      },
      "source": [
        "# ☕ Coffee Sales Analysis Project\n"
      ]
    },
    {
      "cell_type": "markdown",
      "id": "2e951db3",
      "metadata": {
        "vscode": {
          "languageId": "markdown"
        },
        "id": "2e951db3"
      },
      "source": [
        "#  Table of Contents\n",
        "\n",
        "1. [Project Title & Team](#project-title-coffee-shop-sales-analysis)\n",
        "2. [Problem Statement](#problem-statement)\n",
        "3. [Objectives](#objectives)\n",
        "4. [Dataset Overview](#-dataset-overview)\n",
        "    - [Feature Description](#-feature-description)\n",
        "    - [Dataset Link](#-dataset-link)\n",
        "5. [Methodology](#methodology)\n",
        "    - Data Cleaning\n",
        "    - Exploratory Data Analysis (EDA)\n",
        "    - Modeling & Evaluation\n",
        "6. [Data Cleaning](#data-cleaning)\n",
        "7. [Exploratory Data Analysis (EDA)](#eda)\n",
        "    - Sales by Weekday\n",
        "    - Coffee Popularity\n",
        "    - Average Spending by Time of Day\n",
        "    - Weekday vs Weekend Sales\n",
        "    - Monthly & Seasonal Trends\n",
        "    - Best Coffee Type in March\n",
        "    - Best Coffee Type by Season\n",
        "    - Sales by Hour of Day\n",
        "    - Yearly/Monthly Comparisons\n",
        "    - Correlation Heatmap\n",
        "8. [Modeling](#model)\n",
        "    - OLS Regression\n",
        "    - Linear Regression\n",
        "    - Random Forest & XGBoost\n",
        "    - Model Comparison\n",
        "9. [Insights from EDA](#-insights-from-eda)\n",
        "10. [Business Recommendations](#business-recommendations)"
      ]
    },
    {
      "cell_type": "markdown",
      "id": "f61ae09d",
      "metadata": {
        "id": "f61ae09d"
      },
      "source": [
        "# Table of Contents"
      ]
    },
    {
      "cell_type": "markdown",
      "id": "46cabe2c",
      "metadata": {
        "id": "46cabe2c"
      },
      "source": [
        "# Project Title: Coffee Shop Sales Analysis\n",
        "\n",
        "## Team Members & Roles\n",
        "- Mudhawi Saleh Alshiha : Data Cleaning & EDA & answer quetions  \n",
        "- Musab Alabdullatif : EDA & answer quetions & modeling   \n",
        "- Mousa Hamoud : Modeling & Evaluation &  Dashboard\n",
        "\n",
        "\n"
      ]
    },
    {
      "cell_type": "markdown",
      "id": "e083fd06",
      "metadata": {
        "id": "e083fd06"
      },
      "source": [
        "# Problem Statement  \n",
        "\n",
        "Coffee shops operate in highly competitive environments where customer preferences, peak hours, and seasonal demand directly influence revenue.  \n",
        "Without proper analysis, businesses may miss opportunities to optimize staffing, adjust pricing strategies, or promote the right products at the right time.  \n",
        "\n",
        "This project aims to analyze coffee shop transaction data to uncover patterns in sales, payment methods, and customer behavior.  \n",
        "By applying statistical models and predictive analytics, we can provide actionable recommendations that support better decision-making and improved business performance.\n"
      ]
    },
    {
      "cell_type": "markdown",
      "id": "99f3141c",
      "metadata": {
        "id": "99f3141c"
      },
      "source": [
        "# Objectives\n",
        "\n",
        "We will answer the following questions:  \n",
        "- On which day of the week are there the most sales?\n",
        "\n",
        "- What is the most popular coffee type by number of orders?\n",
        "\n",
        "- What is the average money spent in the morning vs afternoon vs evening?\n",
        "\n",
        "- Are weekends vs weekdays different in average sales?\n",
        "\n",
        "- Are there seasonal or monthly trends in coffee sales, and which months generate the highest revenue?  \n",
        "\n",
        "- Which hour of the day generates the most sales?\n",
        "\n",
        "- and more\n",
        "---------------------------------------------------\n",
        "- Build and evaluate statistical & ML models for sales prediction.\n",
        "\n",
        "- Provide actionable business recommendations.  \n"
      ]
    },
    {
      "cell_type": "markdown",
      "id": "76b4dec5",
      "metadata": {
        "id": "76b4dec5"
      },
      "source": [
        "##  Dataset Overview\n",
        "\n",
        "This dataset contains **coffee shop transaction records** across **2024 and early 2025**.  \n",
        "It captures details about each purchase such as the **time of sale, coffee type, payment method, transaction value, and temporal attributes** (weekday, month, season).  \n",
        "\n",
        "The dataset is well-suited for **business analysis, trend detection, customer behavior insights, and predictive modeling**.\n",
        "\n",
        "---\n",
        "\n",
        "###  Feature Description\n",
        "\n",
        "| Column        | Description                                                                 |\n",
        "|---------------|-----------------------------------------------------------------------------|\n",
        "| `Date`        | Full date of the transaction                                                |\n",
        "| `hour_of_day` | Hour when the purchase was made (0–23)                                      |\n",
        "| `cash_type`   | Mode of payment (*cash* / *card*)                                           |\n",
        "| `money`       | Transaction amount (local currency)                                         |\n",
        "| `coffee_name` | Type of coffee purchased (Latte, Americano, Cappuccino, etc.)               |\n",
        "| `Time_of_Day` | Categorized time of purchase (*Morning, Afternoon, Night*)                  |\n",
        "| `Weekday`     | Day of the week (Mon–Sun)                                                   |\n",
        "| `Month_name`  | Month of the purchase (Jan–Dec)                                             |\n",
        "| `Weekdaysort` | Numeric representation for weekday ordering (1 = Monday, 7 = Sunday)        |\n",
        "| `Monthsort`   | Numeric representation for month ordering (1 = January, 12 = December)      |\n",
        "| `Season`      | Seasonal grouping of transactions (Winter, Spring, Summer, Autumn)          |\n",
        "\n",
        "---\n",
        "\n",
        "### 🔗 Dataset Link  \n",
        "[Coffee Sales Dataset](https://www.kaggle.com/datasets/navjotkaushal/coffee-sales-dataset/data)\n"
      ]
    },
    {
      "cell_type": "markdown",
      "id": "81b86e8a",
      "metadata": {
        "id": "81b86e8a"
      },
      "source": [
        "# Methodology\n",
        "will contains:\n",
        "- Data cleaning\n",
        "- EDA\n",
        "- MODEL"
      ]
    },
    {
      "cell_type": "code",
      "execution_count": 1,
      "id": "ab487a73",
      "metadata": {
        "id": "ab487a73"
      },
      "outputs": [],
      "source": [
        "# import necessary libraries\n",
        "import pandas as pd\n",
        "import numpy as np\n",
        "import plotly.express as px\n",
        "import statsmodels.api as sm\n"
      ]
    },
    {
      "cell_type": "markdown",
      "id": "6dbe819a",
      "metadata": {
        "id": "6dbe819a"
      },
      "source": [
        "## DATA Cleaning"
      ]
    },
    {
      "cell_type": "code",
      "execution_count": 3,
      "id": "01fc1894",
      "metadata": {
        "id": "01fc1894"
      },
      "outputs": [],
      "source": [
        "# load data\n",
        "df = pd.read_csv('Coffe_sales.csv')"
      ]
    },
    {
      "cell_type": "code",
      "execution_count": 4,
      "id": "f80363d8",
      "metadata": {
        "colab": {
          "base_uri": "https://localhost:8080/",
          "height": 417
        },
        "id": "f80363d8",
        "outputId": "400d3081-fb75-48f4-b000-4eb014601cdb"
      },
      "outputs": [
        {
          "output_type": "stream",
          "name": "stdout",
          "text": [
            "Dataset Shape: (3547, 11)\n",
            "\n",
            "Column Names:\n",
            "['hour_of_day', 'cash_type', 'money', 'coffee_name', 'Time_of_Day', 'Weekday', 'Month_name', 'Weekdaysort', 'Monthsort', 'Date', 'Time']\n",
            "\n",
            "First 5 rows:\n"
          ]
        },
        {
          "output_type": "execute_result",
          "data": {
            "text/plain": [
              "   hour_of_day cash_type  money    coffee_name Time_of_Day Weekday Month_name  \\\n",
              "0           10      card   38.7          Latte     Morning     Fri        Mar   \n",
              "1           12      card   38.7  Hot Chocolate   Afternoon     Fri        Mar   \n",
              "2           12      card   38.7  Hot Chocolate   Afternoon     Fri        Mar   \n",
              "3           13      card   28.9      Americano   Afternoon     Fri        Mar   \n",
              "4           13      card   38.7          Latte   Afternoon     Fri        Mar   \n",
              "\n",
              "   Weekdaysort  Monthsort        Date             Time  \n",
              "0            5          3  2024-03-01  10:15:50.520000  \n",
              "1            5          3  2024-03-01  12:19:22.539000  \n",
              "2            5          3  2024-03-01  12:20:18.089000  \n",
              "3            5          3  2024-03-01  13:46:33.006000  \n",
              "4            5          3  2024-03-01  13:48:14.626000  "
            ],
            "text/html": [
              "\n",
              "  <div id=\"df-564d9c61-4398-4453-8d0d-67a4b6f4376a\" class=\"colab-df-container\">\n",
              "    <div>\n",
              "<style scoped>\n",
              "    .dataframe tbody tr th:only-of-type {\n",
              "        vertical-align: middle;\n",
              "    }\n",
              "\n",
              "    .dataframe tbody tr th {\n",
              "        vertical-align: top;\n",
              "    }\n",
              "\n",
              "    .dataframe thead th {\n",
              "        text-align: right;\n",
              "    }\n",
              "</style>\n",
              "<table border=\"1\" class=\"dataframe\">\n",
              "  <thead>\n",
              "    <tr style=\"text-align: right;\">\n",
              "      <th></th>\n",
              "      <th>hour_of_day</th>\n",
              "      <th>cash_type</th>\n",
              "      <th>money</th>\n",
              "      <th>coffee_name</th>\n",
              "      <th>Time_of_Day</th>\n",
              "      <th>Weekday</th>\n",
              "      <th>Month_name</th>\n",
              "      <th>Weekdaysort</th>\n",
              "      <th>Monthsort</th>\n",
              "      <th>Date</th>\n",
              "      <th>Time</th>\n",
              "    </tr>\n",
              "  </thead>\n",
              "  <tbody>\n",
              "    <tr>\n",
              "      <th>0</th>\n",
              "      <td>10</td>\n",
              "      <td>card</td>\n",
              "      <td>38.7</td>\n",
              "      <td>Latte</td>\n",
              "      <td>Morning</td>\n",
              "      <td>Fri</td>\n",
              "      <td>Mar</td>\n",
              "      <td>5</td>\n",
              "      <td>3</td>\n",
              "      <td>2024-03-01</td>\n",
              "      <td>10:15:50.520000</td>\n",
              "    </tr>\n",
              "    <tr>\n",
              "      <th>1</th>\n",
              "      <td>12</td>\n",
              "      <td>card</td>\n",
              "      <td>38.7</td>\n",
              "      <td>Hot Chocolate</td>\n",
              "      <td>Afternoon</td>\n",
              "      <td>Fri</td>\n",
              "      <td>Mar</td>\n",
              "      <td>5</td>\n",
              "      <td>3</td>\n",
              "      <td>2024-03-01</td>\n",
              "      <td>12:19:22.539000</td>\n",
              "    </tr>\n",
              "    <tr>\n",
              "      <th>2</th>\n",
              "      <td>12</td>\n",
              "      <td>card</td>\n",
              "      <td>38.7</td>\n",
              "      <td>Hot Chocolate</td>\n",
              "      <td>Afternoon</td>\n",
              "      <td>Fri</td>\n",
              "      <td>Mar</td>\n",
              "      <td>5</td>\n",
              "      <td>3</td>\n",
              "      <td>2024-03-01</td>\n",
              "      <td>12:20:18.089000</td>\n",
              "    </tr>\n",
              "    <tr>\n",
              "      <th>3</th>\n",
              "      <td>13</td>\n",
              "      <td>card</td>\n",
              "      <td>28.9</td>\n",
              "      <td>Americano</td>\n",
              "      <td>Afternoon</td>\n",
              "      <td>Fri</td>\n",
              "      <td>Mar</td>\n",
              "      <td>5</td>\n",
              "      <td>3</td>\n",
              "      <td>2024-03-01</td>\n",
              "      <td>13:46:33.006000</td>\n",
              "    </tr>\n",
              "    <tr>\n",
              "      <th>4</th>\n",
              "      <td>13</td>\n",
              "      <td>card</td>\n",
              "      <td>38.7</td>\n",
              "      <td>Latte</td>\n",
              "      <td>Afternoon</td>\n",
              "      <td>Fri</td>\n",
              "      <td>Mar</td>\n",
              "      <td>5</td>\n",
              "      <td>3</td>\n",
              "      <td>2024-03-01</td>\n",
              "      <td>13:48:14.626000</td>\n",
              "    </tr>\n",
              "  </tbody>\n",
              "</table>\n",
              "</div>\n",
              "    <div class=\"colab-df-buttons\">\n",
              "\n",
              "  <div class=\"colab-df-container\">\n",
              "    <button class=\"colab-df-convert\" onclick=\"convertToInteractive('df-564d9c61-4398-4453-8d0d-67a4b6f4376a')\"\n",
              "            title=\"Convert this dataframe to an interactive table.\"\n",
              "            style=\"display:none;\">\n",
              "\n",
              "  <svg xmlns=\"http://www.w3.org/2000/svg\" height=\"24px\" viewBox=\"0 -960 960 960\">\n",
              "    <path d=\"M120-120v-720h720v720H120Zm60-500h600v-160H180v160Zm220 220h160v-160H400v160Zm0 220h160v-160H400v160ZM180-400h160v-160H180v160Zm440 0h160v-160H620v160ZM180-180h160v-160H180v160Zm440 0h160v-160H620v160Z\"/>\n",
              "  </svg>\n",
              "    </button>\n",
              "\n",
              "  <style>\n",
              "    .colab-df-container {\n",
              "      display:flex;\n",
              "      gap: 12px;\n",
              "    }\n",
              "\n",
              "    .colab-df-convert {\n",
              "      background-color: #E8F0FE;\n",
              "      border: none;\n",
              "      border-radius: 50%;\n",
              "      cursor: pointer;\n",
              "      display: none;\n",
              "      fill: #1967D2;\n",
              "      height: 32px;\n",
              "      padding: 0 0 0 0;\n",
              "      width: 32px;\n",
              "    }\n",
              "\n",
              "    .colab-df-convert:hover {\n",
              "      background-color: #E2EBFA;\n",
              "      box-shadow: 0px 1px 2px rgba(60, 64, 67, 0.3), 0px 1px 3px 1px rgba(60, 64, 67, 0.15);\n",
              "      fill: #174EA6;\n",
              "    }\n",
              "\n",
              "    .colab-df-buttons div {\n",
              "      margin-bottom: 4px;\n",
              "    }\n",
              "\n",
              "    [theme=dark] .colab-df-convert {\n",
              "      background-color: #3B4455;\n",
              "      fill: #D2E3FC;\n",
              "    }\n",
              "\n",
              "    [theme=dark] .colab-df-convert:hover {\n",
              "      background-color: #434B5C;\n",
              "      box-shadow: 0px 1px 3px 1px rgba(0, 0, 0, 0.15);\n",
              "      filter: drop-shadow(0px 1px 2px rgba(0, 0, 0, 0.3));\n",
              "      fill: #FFFFFF;\n",
              "    }\n",
              "  </style>\n",
              "\n",
              "    <script>\n",
              "      const buttonEl =\n",
              "        document.querySelector('#df-564d9c61-4398-4453-8d0d-67a4b6f4376a button.colab-df-convert');\n",
              "      buttonEl.style.display =\n",
              "        google.colab.kernel.accessAllowed ? 'block' : 'none';\n",
              "\n",
              "      async function convertToInteractive(key) {\n",
              "        const element = document.querySelector('#df-564d9c61-4398-4453-8d0d-67a4b6f4376a');\n",
              "        const dataTable =\n",
              "          await google.colab.kernel.invokeFunction('convertToInteractive',\n",
              "                                                    [key], {});\n",
              "        if (!dataTable) return;\n",
              "\n",
              "        const docLinkHtml = 'Like what you see? Visit the ' +\n",
              "          '<a target=\"_blank\" href=https://colab.research.google.com/notebooks/data_table.ipynb>data table notebook</a>'\n",
              "          + ' to learn more about interactive tables.';\n",
              "        element.innerHTML = '';\n",
              "        dataTable['output_type'] = 'display_data';\n",
              "        await google.colab.output.renderOutput(dataTable, element);\n",
              "        const docLink = document.createElement('div');\n",
              "        docLink.innerHTML = docLinkHtml;\n",
              "        element.appendChild(docLink);\n",
              "      }\n",
              "    </script>\n",
              "  </div>\n",
              "\n",
              "\n",
              "    <div id=\"df-35544052-dc75-4beb-ab93-292896dc674c\">\n",
              "      <button class=\"colab-df-quickchart\" onclick=\"quickchart('df-35544052-dc75-4beb-ab93-292896dc674c')\"\n",
              "                title=\"Suggest charts\"\n",
              "                style=\"display:none;\">\n",
              "\n",
              "<svg xmlns=\"http://www.w3.org/2000/svg\" height=\"24px\"viewBox=\"0 0 24 24\"\n",
              "     width=\"24px\">\n",
              "    <g>\n",
              "        <path d=\"M19 3H5c-1.1 0-2 .9-2 2v14c0 1.1.9 2 2 2h14c1.1 0 2-.9 2-2V5c0-1.1-.9-2-2-2zM9 17H7v-7h2v7zm4 0h-2V7h2v10zm4 0h-2v-4h2v4z\"/>\n",
              "    </g>\n",
              "</svg>\n",
              "      </button>\n",
              "\n",
              "<style>\n",
              "  .colab-df-quickchart {\n",
              "      --bg-color: #E8F0FE;\n",
              "      --fill-color: #1967D2;\n",
              "      --hover-bg-color: #E2EBFA;\n",
              "      --hover-fill-color: #174EA6;\n",
              "      --disabled-fill-color: #AAA;\n",
              "      --disabled-bg-color: #DDD;\n",
              "  }\n",
              "\n",
              "  [theme=dark] .colab-df-quickchart {\n",
              "      --bg-color: #3B4455;\n",
              "      --fill-color: #D2E3FC;\n",
              "      --hover-bg-color: #434B5C;\n",
              "      --hover-fill-color: #FFFFFF;\n",
              "      --disabled-bg-color: #3B4455;\n",
              "      --disabled-fill-color: #666;\n",
              "  }\n",
              "\n",
              "  .colab-df-quickchart {\n",
              "    background-color: var(--bg-color);\n",
              "    border: none;\n",
              "    border-radius: 50%;\n",
              "    cursor: pointer;\n",
              "    display: none;\n",
              "    fill: var(--fill-color);\n",
              "    height: 32px;\n",
              "    padding: 0;\n",
              "    width: 32px;\n",
              "  }\n",
              "\n",
              "  .colab-df-quickchart:hover {\n",
              "    background-color: var(--hover-bg-color);\n",
              "    box-shadow: 0 1px 2px rgba(60, 64, 67, 0.3), 0 1px 3px 1px rgba(60, 64, 67, 0.15);\n",
              "    fill: var(--button-hover-fill-color);\n",
              "  }\n",
              "\n",
              "  .colab-df-quickchart-complete:disabled,\n",
              "  .colab-df-quickchart-complete:disabled:hover {\n",
              "    background-color: var(--disabled-bg-color);\n",
              "    fill: var(--disabled-fill-color);\n",
              "    box-shadow: none;\n",
              "  }\n",
              "\n",
              "  .colab-df-spinner {\n",
              "    border: 2px solid var(--fill-color);\n",
              "    border-color: transparent;\n",
              "    border-bottom-color: var(--fill-color);\n",
              "    animation:\n",
              "      spin 1s steps(1) infinite;\n",
              "  }\n",
              "\n",
              "  @keyframes spin {\n",
              "    0% {\n",
              "      border-color: transparent;\n",
              "      border-bottom-color: var(--fill-color);\n",
              "      border-left-color: var(--fill-color);\n",
              "    }\n",
              "    20% {\n",
              "      border-color: transparent;\n",
              "      border-left-color: var(--fill-color);\n",
              "      border-top-color: var(--fill-color);\n",
              "    }\n",
              "    30% {\n",
              "      border-color: transparent;\n",
              "      border-left-color: var(--fill-color);\n",
              "      border-top-color: var(--fill-color);\n",
              "      border-right-color: var(--fill-color);\n",
              "    }\n",
              "    40% {\n",
              "      border-color: transparent;\n",
              "      border-right-color: var(--fill-color);\n",
              "      border-top-color: var(--fill-color);\n",
              "    }\n",
              "    60% {\n",
              "      border-color: transparent;\n",
              "      border-right-color: var(--fill-color);\n",
              "    }\n",
              "    80% {\n",
              "      border-color: transparent;\n",
              "      border-right-color: var(--fill-color);\n",
              "      border-bottom-color: var(--fill-color);\n",
              "    }\n",
              "    90% {\n",
              "      border-color: transparent;\n",
              "      border-bottom-color: var(--fill-color);\n",
              "    }\n",
              "  }\n",
              "</style>\n",
              "\n",
              "      <script>\n",
              "        async function quickchart(key) {\n",
              "          const quickchartButtonEl =\n",
              "            document.querySelector('#' + key + ' button');\n",
              "          quickchartButtonEl.disabled = true;  // To prevent multiple clicks.\n",
              "          quickchartButtonEl.classList.add('colab-df-spinner');\n",
              "          try {\n",
              "            const charts = await google.colab.kernel.invokeFunction(\n",
              "                'suggestCharts', [key], {});\n",
              "          } catch (error) {\n",
              "            console.error('Error during call to suggestCharts:', error);\n",
              "          }\n",
              "          quickchartButtonEl.classList.remove('colab-df-spinner');\n",
              "          quickchartButtonEl.classList.add('colab-df-quickchart-complete');\n",
              "        }\n",
              "        (() => {\n",
              "          let quickchartButtonEl =\n",
              "            document.querySelector('#df-35544052-dc75-4beb-ab93-292896dc674c button');\n",
              "          quickchartButtonEl.style.display =\n",
              "            google.colab.kernel.accessAllowed ? 'block' : 'none';\n",
              "        })();\n",
              "      </script>\n",
              "    </div>\n",
              "\n",
              "    </div>\n",
              "  </div>\n"
            ],
            "application/vnd.google.colaboratory.intrinsic+json": {
              "type": "dataframe",
              "variable_name": "df",
              "summary": "{\n  \"name\": \"df\",\n  \"rows\": 3547,\n  \"fields\": [\n    {\n      \"column\": \"hour_of_day\",\n      \"properties\": {\n        \"dtype\": \"number\",\n        \"std\": 4,\n        \"min\": 6,\n        \"max\": 22,\n        \"num_unique_values\": 17,\n        \"samples\": [\n          10,\n          12,\n          18\n        ],\n        \"semantic_type\": \"\",\n        \"description\": \"\"\n      }\n    },\n    {\n      \"column\": \"cash_type\",\n      \"properties\": {\n        \"dtype\": \"category\",\n        \"num_unique_values\": 1,\n        \"samples\": [\n          \"card\"\n        ],\n        \"semantic_type\": \"\",\n        \"description\": \"\"\n      }\n    },\n    {\n      \"column\": \"money\",\n      \"properties\": {\n        \"dtype\": \"number\",\n        \"std\": 4.877753703590957,\n        \"min\": 18.12,\n        \"max\": 38.7,\n        \"num_unique_values\": 13,\n        \"samples\": [\n          25.96\n        ],\n        \"semantic_type\": \"\",\n        \"description\": \"\"\n      }\n    },\n    {\n      \"column\": \"coffee_name\",\n      \"properties\": {\n        \"dtype\": \"category\",\n        \"num_unique_values\": 8,\n        \"samples\": [\n          \"Hot Chocolate\"\n        ],\n        \"semantic_type\": \"\",\n        \"description\": \"\"\n      }\n    },\n    {\n      \"column\": \"Time_of_Day\",\n      \"properties\": {\n        \"dtype\": \"category\",\n        \"num_unique_values\": 3,\n        \"samples\": [\n          \"Morning\"\n        ],\n        \"semantic_type\": \"\",\n        \"description\": \"\"\n      }\n    },\n    {\n      \"column\": \"Weekday\",\n      \"properties\": {\n        \"dtype\": \"category\",\n        \"num_unique_values\": 7,\n        \"samples\": [\n          \"Fri\"\n        ],\n        \"semantic_type\": \"\",\n        \"description\": \"\"\n      }\n    },\n    {\n      \"column\": \"Month_name\",\n      \"properties\": {\n        \"dtype\": \"category\",\n        \"num_unique_values\": 12,\n        \"samples\": [\n          \"Jan\"\n        ],\n        \"semantic_type\": \"\",\n        \"description\": \"\"\n      }\n    },\n    {\n      \"column\": \"Weekdaysort\",\n      \"properties\": {\n        \"dtype\": \"number\",\n        \"std\": 1,\n        \"min\": 1,\n        \"max\": 7,\n        \"num_unique_values\": 7,\n        \"samples\": [\n          5\n        ],\n        \"semantic_type\": \"\",\n        \"description\": \"\"\n      }\n    },\n    {\n      \"column\": \"Monthsort\",\n      \"properties\": {\n        \"dtype\": \"number\",\n        \"std\": 3,\n        \"min\": 1,\n        \"max\": 12,\n        \"num_unique_values\": 12,\n        \"samples\": [\n          1\n        ],\n        \"semantic_type\": \"\",\n        \"description\": \"\"\n      }\n    },\n    {\n      \"column\": \"Date\",\n      \"properties\": {\n        \"dtype\": \"object\",\n        \"num_unique_values\": 381,\n        \"samples\": [\n          \"2024-11-25\"\n        ],\n        \"semantic_type\": \"\",\n        \"description\": \"\"\n      }\n    },\n    {\n      \"column\": \"Time\",\n      \"properties\": {\n        \"dtype\": \"object\",\n        \"num_unique_values\": 3547,\n        \"samples\": [\n          \"19:43:26.234000\"\n        ],\n        \"semantic_type\": \"\",\n        \"description\": \"\"\n      }\n    }\n  ]\n}"
            }
          },
          "metadata": {},
          "execution_count": 4
        }
      ],
      "source": [
        "# Display basic information about the dataset\n",
        "print(\"Dataset Shape:\", df.shape)\n",
        "print(\"\\nColumn Names:\")\n",
        "print(df.columns.tolist())\n",
        "print(\"\\nFirst 5 rows:\")\n",
        "df.head()"
      ]
    },
    {
      "cell_type": "code",
      "execution_count": 5,
      "id": "4303fbb5",
      "metadata": {
        "colab": {
          "base_uri": "https://localhost:8080/",
          "height": 429
        },
        "id": "4303fbb5",
        "outputId": "0222fdfe-a006-4e67-a22e-62cdcd45ef2d"
      },
      "outputs": [
        {
          "output_type": "execute_result",
          "data": {
            "text/plain": [
              "hour_of_day    0\n",
              "cash_type      0\n",
              "money          0\n",
              "coffee_name    0\n",
              "Time_of_Day    0\n",
              "Weekday        0\n",
              "Month_name     0\n",
              "Weekdaysort    0\n",
              "Monthsort      0\n",
              "Date           0\n",
              "Time           0\n",
              "dtype: int64"
            ],
            "text/html": [
              "<div>\n",
              "<style scoped>\n",
              "    .dataframe tbody tr th:only-of-type {\n",
              "        vertical-align: middle;\n",
              "    }\n",
              "\n",
              "    .dataframe tbody tr th {\n",
              "        vertical-align: top;\n",
              "    }\n",
              "\n",
              "    .dataframe thead th {\n",
              "        text-align: right;\n",
              "    }\n",
              "</style>\n",
              "<table border=\"1\" class=\"dataframe\">\n",
              "  <thead>\n",
              "    <tr style=\"text-align: right;\">\n",
              "      <th></th>\n",
              "      <th>0</th>\n",
              "    </tr>\n",
              "  </thead>\n",
              "  <tbody>\n",
              "    <tr>\n",
              "      <th>hour_of_day</th>\n",
              "      <td>0</td>\n",
              "    </tr>\n",
              "    <tr>\n",
              "      <th>cash_type</th>\n",
              "      <td>0</td>\n",
              "    </tr>\n",
              "    <tr>\n",
              "      <th>money</th>\n",
              "      <td>0</td>\n",
              "    </tr>\n",
              "    <tr>\n",
              "      <th>coffee_name</th>\n",
              "      <td>0</td>\n",
              "    </tr>\n",
              "    <tr>\n",
              "      <th>Time_of_Day</th>\n",
              "      <td>0</td>\n",
              "    </tr>\n",
              "    <tr>\n",
              "      <th>Weekday</th>\n",
              "      <td>0</td>\n",
              "    </tr>\n",
              "    <tr>\n",
              "      <th>Month_name</th>\n",
              "      <td>0</td>\n",
              "    </tr>\n",
              "    <tr>\n",
              "      <th>Weekdaysort</th>\n",
              "      <td>0</td>\n",
              "    </tr>\n",
              "    <tr>\n",
              "      <th>Monthsort</th>\n",
              "      <td>0</td>\n",
              "    </tr>\n",
              "    <tr>\n",
              "      <th>Date</th>\n",
              "      <td>0</td>\n",
              "    </tr>\n",
              "    <tr>\n",
              "      <th>Time</th>\n",
              "      <td>0</td>\n",
              "    </tr>\n",
              "  </tbody>\n",
              "</table>\n",
              "</div><br><label><b>dtype:</b> int64</label>"
            ]
          },
          "metadata": {},
          "execution_count": 5
        }
      ],
      "source": [
        "# check null values\n",
        "df.isnull().sum()\n"
      ]
    },
    {
      "cell_type": "code",
      "execution_count": 6,
      "id": "f188ad0e",
      "metadata": {
        "colab": {
          "base_uri": "https://localhost:8080/"
        },
        "id": "f188ad0e",
        "outputId": "b8ce1a3d-06c5-44fb-b488-045d71ccb939"
      },
      "outputs": [
        {
          "output_type": "execute_result",
          "data": {
            "text/plain": [
              "np.int64(0)"
            ]
          },
          "metadata": {},
          "execution_count": 6
        }
      ],
      "source": [
        "# check duplicated values\n",
        "df.duplicated().sum()"
      ]
    },
    {
      "cell_type": "code",
      "execution_count": 7,
      "id": "8cd94033",
      "metadata": {
        "colab": {
          "base_uri": "https://localhost:8080/",
          "height": 542
        },
        "id": "8cd94033",
        "outputId": "eedcc3dc-d3d0-4c76-a5bf-9402510e46cf"
      },
      "outputs": [
        {
          "output_type": "display_data",
          "data": {
            "text/html": [
              "<html>\n",
              "<head><meta charset=\"utf-8\" /></head>\n",
              "<body>\n",
              "    <div>            <script src=\"https://cdnjs.cloudflare.com/ajax/libs/mathjax/2.7.5/MathJax.js?config=TeX-AMS-MML_SVG\"></script><script type=\"text/javascript\">if (window.MathJax && window.MathJax.Hub && window.MathJax.Hub.Config) {window.MathJax.Hub.Config({SVG: {font: \"STIX-Web\"}});}</script>                <script type=\"text/javascript\">window.PlotlyConfig = {MathJaxConfig: 'local'};</script>\n",
              "        <script charset=\"utf-8\" src=\"https://cdn.plot.ly/plotly-2.35.2.min.js\"></script>                <div id=\"ad959f22-45fc-4881-bdce-b4f910476308\" class=\"plotly-graph-div\" style=\"height:525px; width:100%;\"></div>            <script type=\"text/javascript\">                                    window.PLOTLYENV=window.PLOTLYENV || {};                                    if (document.getElementById(\"ad959f22-45fc-4881-bdce-b4f910476308\")) {                    Plotly.newPlot(                        \"ad959f22-45fc-4881-bdce-b4f910476308\",                        [{\"alignmentgroup\":\"True\",\"boxpoints\":\"all\",\"hovertemplate\":\"money=%{y}\\u003cextra\\u003e\\u003c\\u002fextra\\u003e\",\"legendgroup\":\"\",\"marker\":{\"color\":\"#636efa\"},\"name\":\"\",\"notched\":false,\"offsetgroup\":\"\",\"orientation\":\"v\",\"showlegend\":false,\"x0\":\" \",\"xaxis\":\"x\",\"y\":[38.7,38.7,38.7,28.9,38.7,33.8,38.7,33.8,38.7,33.8,33.8,28.9,33.8,33.8,28.9,33.8,28.9,38.7,28.9,28.9,38.7,38.7,28.9,33.8,33.8,38.7,38.7,38.7,33.8,24.0,38.7,38.7,38.7,38.7,38.7,38.7,38.7,28.9,38.7,28.9,28.9,38.7,38.7,38.7,38.7,28.9,33.8,28.9,38.7,28.9,28.9,28.9,33.8,38.7,38.7,24.0,28.9,38.7,28.9,28.9,38.7,33.8,28.9,38.7,33.8,38.7,38.7,38.7,24.0,38.7,28.9,38.7,28.9,38.7,28.9,28.9,28.9,38.7,33.8,28.9,28.9,38.7,28.9,28.9,28.9,33.8,24.0,24.0,24.0,38.7,38.7,28.9,28.9,33.8,24.0,38.7,33.8,24.0,38.7,28.9,38.7,28.9,33.8,28.9,28.9,28.9,28.9,33.8,28.9,28.9,28.9,28.9,28.9,38.7,38.7,38.7,33.8,28.9,28.9,38.7,38.7,38.7,28.9,38.7,28.9,38.7,33.8,33.8,28.9,24.0,28.9,38.7,33.8,38.7,38.7,33.8,38.7,33.8,28.9,38.7,38.7,38.7,38.7,33.8,38.7,38.7,38.7,38.7,28.9,28.9,28.9,28.9,28.9,38.7,38.7,38.7,28.9,33.8,33.8,38.7,38.7,28.9,28.9,28.9,28.9,28.9,38.7,38.7,38.7,38.7,38.7,38.7,38.7,33.8,38.7,28.9,33.8,33.8,33.8,33.8,38.7,38.7,28.9,28.9,28.9,28.9,38.7,38.7,38.7,38.7,28.9,28.9,28.9,28.9,33.8,38.7,28.9,24.0,33.8,38.7,28.9,38.7,38.7,38.7,38.7,28.9,24.0,38.7,33.8,33.8,38.7,28.9,38.7,38.7,28.9,33.8,38.7,38.7,38.7,38.7,24.0,38.7,38.7,28.9,28.9,38.7,38.7,33.8,38.7,28.9,38.7,28.9,38.7,38.7,38.7,38.7,38.7,28.9,28.9,28.9,28.9,38.7,28.9,38.7,38.7,28.9,28.9,33.8,33.8,33.8,38.7,28.9,28.9,33.8,38.7,38.7,28.9,24.0,38.7,38.7,28.9,28.9,28.9,33.8,28.9,38.7,38.7,38.7,38.7,38.7,38.7,38.7,33.8,38.7,38.7,38.7,38.7,33.8,33.8,33.8,28.9,33.8,38.7,38.7,33.8,32.82,32.82,37.72,37.72,37.72,37.72,27.92,27.92,32.82,37.72,37.72,32.82,37.72,32.82,32.82,37.72,32.82,32.82,32.82,32.82,32.82,32.82,37.72,27.92,37.72,27.92,27.92,37.72,37.72,37.72,27.92,27.92,27.92,27.92,37.72,37.72,37.72,37.72,37.72,27.92,27.92,37.72,27.92,27.92,27.92,27.92,32.82,37.72,37.72,37.72,37.72,32.82,32.82,27.92,32.82,37.72,32.82,37.72,27.92,32.82,37.72,32.82,37.72,37.72,37.72,37.72,27.92,37.72,32.82,27.92,27.92,27.92,27.92,37.72,37.72,37.72,27.92,27.92,37.72,27.92,37.72,37.72,37.72,37.72,37.72,37.72,27.92,37.72,37.72,37.72,27.92,27.92,27.92,32.82,37.72,37.72,37.72,32.82,37.72,37.72,32.82,37.72,37.72,37.72,37.72,27.92,37.72,32.82,32.82,32.82,32.82,32.82,27.92,27.92,27.92,37.72,37.72,37.72,37.72,32.82,27.92,32.82,37.72,37.72,37.72,23.02,27.92,27.92,27.92,27.92,32.82,27.92,27.92,23.02,37.72,32.82,32.82,32.82,37.72,37.72,37.72,37.72,27.92,32.82,32.82,37.72,37.72,27.92,37.72,37.72,37.72,37.72,32.82,32.82,32.82,32.82,37.72,27.92,27.92,37.72,32.82,27.92,32.82,32.82,23.02,37.72,37.72,37.72,37.72,32.82,37.72,37.72,27.92,27.92,27.92,27.92,32.82,37.72,37.72,37.72,32.82,37.72,27.92,32.82,32.82,37.72,37.72,23.02,37.72,37.72,37.72,32.82,27.92,32.82,27.92,27.92,32.82,37.72,37.72,37.72,37.72,37.72,23.02,37.72,37.72,37.72,37.72,37.72,37.72,27.92,37.72,37.72,37.72,37.72,37.72,32.82,27.92,27.92,27.92,37.72,27.92,27.92,32.82,37.72,32.82,32.82,32.82,32.82,27.92,37.72,32.82,27.92,32.82,37.72,37.72,37.72,27.92,37.72,37.72,37.72,27.92,37.72,37.72,37.72,27.92,32.82,37.72,27.92,27.92,37.72,27.92,37.72,37.72,32.82,37.72,32.82,32.82,37.72,37.72,37.72,27.92,27.92,37.72,32.82,27.92,37.72,37.72,27.92,37.72,37.72,37.72,27.92,37.72,37.72,37.72,37.72,37.72,32.82,37.72,32.82,23.02,23.02,37.72,37.72,37.72,32.82,32.82,37.72,37.72,37.72,32.82,37.72,37.72,37.72,32.82,37.72,37.72,32.82,27.92,27.92,37.72,37.72,32.82,32.82,32.82,37.72,37.72,37.72,32.82,37.72,32.82,37.72,32.82,37.72,37.72,37.72,37.72,32.82,37.72,27.92,32.82,37.72,37.72,37.72,27.92,37.72,37.72,37.72,27.92,32.82,32.82,32.82,32.82,37.72,37.72,27.92,37.72,32.82,32.82,37.72,37.72,27.92,32.82,32.82,37.72,27.92,32.82,37.72,37.72,37.72,37.72,32.82,37.72,37.72,23.02,32.82,27.92,27.92,27.92,32.82,37.72,37.72,37.72,37.72,37.72,27.92,23.02,37.72,32.82,37.72,37.72,27.92,37.72,32.82,27.92,37.72,37.72,37.72,37.72,37.72,37.72,32.82,37.72,37.72,37.72,32.82,32.82,37.72,37.72,37.72,37.72,37.72,32.82,27.92,37.72,32.82,27.92,32.82,37.72,37.72,32.82,23.02,23.02,32.82,32.82,27.92,27.92,37.72,32.82,37.72,37.72,32.82,23.02,37.72,32.82,32.82,27.92,32.82,37.72,37.72,37.72,32.82,23.02,32.82,32.82,37.72,37.72,32.82,32.82,27.92,27.92,27.92,37.72,37.72,37.72,37.72,27.92,27.92,32.82,27.92,37.72,37.72,37.72,27.92,32.82,32.82,37.72,27.92,27.92,37.72,37.72,32.82,37.72,37.72,32.82,37.72,32.82,37.72,37.72,37.72,37.72,37.72,32.82,37.72,27.92,32.82,32.82,23.02,37.72,37.72,37.72,37.72,37.72,27.92,32.82,27.92,32.82,32.82,37.72,37.72,32.82,32.82,37.72,37.72,37.72,32.82,37.72,37.72,37.72,37.72,37.72,37.72,32.82,32.82,37.72,37.72,23.02,27.92,37.72,37.72,32.82,32.82,27.92,32.82,37.72,27.92,23.02,32.82,37.72,37.72,32.82,32.82,32.82,37.72,37.72,37.72,37.72,37.72,37.72,23.02,37.72,32.82,23.02,37.72,37.72,32.82,27.92,37.72,27.92,32.82,32.82,32.82,37.72,37.72,32.82,32.82,37.72,23.02,37.72,37.72,32.82,27.92,37.72,32.82,32.82,23.02,27.92,23.02,27.92,27.92,37.72,32.82,37.72,32.82,32.82,32.82,27.92,32.82,27.92,27.92,32.82,32.82,32.82,32.82,32.82,32.82,32.82,27.92,32.82,23.02,23.02,27.92,32.82,27.92,27.92,27.92,32.82,27.92,23.02,27.92,32.82,32.82,27.92,32.82,23.02,23.02,32.82,32.82,32.82,32.82,32.82,32.82,23.02,27.92,32.82,32.82,23.02,32.82,32.82,27.92,32.82,27.92,27.92,18.12,23.02,23.02,23.02,32.82,32.82,32.82,32.82,32.82,32.82,23.02,27.92,32.82,27.92,32.82,32.82,32.82,32.82,23.02,32.82,23.02,32.82,32.82,23.02,32.82,32.82,32.82,23.02,32.82,23.02,23.02,27.92,32.82,32.82,23.02,27.92,32.82,32.82,23.02,27.92,27.92,32.82,32.82,23.02,23.02,27.92,27.92,18.12,32.82,32.82,18.12,32.82,32.82,32.82,27.92,23.02,23.02,23.02,32.82,27.92,23.02,32.82,32.82,23.02,18.12,23.02,32.82,32.82,27.92,18.12,23.02,23.02,32.82,32.82,27.92,27.92,32.82,32.82,32.82,23.02,32.82,32.82,27.92,32.82,27.92,27.92,18.12,27.92,18.12,32.82,32.82,32.82,27.92,27.92,32.82,32.82,18.12,27.92,32.82,32.82,23.02,27.92,23.02,27.92,32.82,32.82,32.82,32.82,23.02,32.82,27.92,23.02,32.82,27.92,23.02,27.92,32.82,23.02,18.12,27.92,27.92,27.92,27.92,32.82,27.92,23.02,27.92,18.12,27.92,27.92,27.92,32.82,23.02,32.82,27.92,27.92,27.92,23.02,23.02,27.92,32.82,32.82,27.92,23.02,32.82,23.02,32.82,32.82,23.02,32.82,32.82,23.02,27.92,32.82,32.82,32.82,27.92,27.92,27.92,27.92,23.02,32.82,32.82,27.92,27.92,23.02,23.02,32.82,27.92,27.92,23.02,27.92,32.82,27.92,27.92,27.92,27.92,23.02,23.02,18.12,27.92,27.92,27.92,32.82,32.82,32.82,32.82,27.92,32.82,27.92,32.82,32.82,23.02,27.92,23.02,32.82,32.82,32.82,32.82,27.92,32.82,32.82,32.82,32.82,27.92,23.02,32.82,32.82,32.82,32.82,32.82,27.92,32.82,27.92,23.02,23.02,18.12,23.02,32.82,32.82,32.82,32.82,32.82,18.12,23.02,27.92,23.02,23.02,32.82,32.82,27.92,32.82,23.02,23.02,27.92,32.82,23.02,23.02,32.82,32.82,27.92,23.02,23.02,23.02,32.82,27.92,32.82,32.82,32.82,32.82,32.82,32.82,27.92,32.82,27.92,23.02,32.82,27.92,32.82,32.82,18.12,23.02,32.82,32.82,32.82,32.82,27.92,23.02,32.82,32.82,18.12,27.92,27.92,27.92,27.92,32.82,32.82,32.82,27.92,27.92,27.92,23.02,32.82,27.92,32.82,32.82,27.92,32.82,32.82,32.82,23.02,32.82,32.82,23.02,18.12,23.02,23.02,32.82,23.02,23.02,27.92,32.82,23.02,32.82,23.02,32.82,32.82,32.82,32.82,32.82,23.02,18.12,27.92,32.82,27.92,27.92,23.02,32.82,18.12,27.92,32.82,23.02,27.92,18.12,18.12,27.92,32.82,27.92,23.02,23.02,27.92,23.02,32.82,32.82,27.92,32.82,32.82,32.82,23.02,27.92,32.82,27.92,27.92,27.92,23.02,23.02,27.92,27.92,32.82,32.82,23.02,32.82,18.12,23.02,27.92,23.02,23.02,23.02,32.82,32.82,32.82,32.82,32.82,27.92,23.02,23.02,27.92,23.02,32.82,32.82,23.02,27.92,27.92,32.82,32.82,32.82,23.02,32.82,23.02,32.82,23.02,23.02,27.92,32.82,23.02,23.02,32.82,23.02,23.02,32.82,23.02,23.02,23.02,18.12,18.12,23.02,23.02,23.02,23.02,32.82,32.82,32.82,23.02,23.02,23.02,27.92,32.82,32.82,23.02,23.02,27.92,32.82,27.92,32.82,27.92,32.82,23.02,27.92,23.02,32.82,27.92,27.92,23.02,27.92,18.12,27.92,23.02,23.02,23.02,32.82,27.92,23.02,27.92,32.82,27.92,32.82,32.82,32.82,32.82,27.92,32.82,27.92,32.82,32.82,23.02,23.02,32.82,32.82,32.82,27.92,32.82,32.82,32.82,27.92,27.92,32.82,32.82,23.02,27.92,27.92,27.92,32.82,27.92,27.92,32.82,23.02,27.92,32.82,32.82,27.92,32.82,27.92,32.82,27.92,27.92,23.02,32.82,32.82,23.02,27.92,32.82,32.82,32.82,23.02,32.82,27.92,27.92,32.82,32.82,23.02,18.12,32.82,32.82,18.12,18.12,32.82,32.82,32.82,23.02,23.02,23.02,27.92,27.92,23.02,23.02,18.12,18.12,32.82,27.92,23.02,18.12,32.82,23.02,18.12,32.82,32.82,32.82,32.82,32.82,23.02,23.02,23.02,23.02,23.02,23.02,32.82,32.82,27.92,32.82,32.82,32.82,32.82,27.92,27.92,32.82,18.12,32.82,23.02,32.82,32.82,32.82,32.82,32.82,32.82,23.02,23.02,32.82,27.92,32.82,32.82,27.92,23.02,32.82,27.92,32.82,32.82,27.92,32.82,32.82,23.02,18.12,27.92,27.92,32.82,23.02,23.02,23.02,23.02,32.82,23.02,32.82,23.02,32.82,32.82,32.82,32.82,27.92,27.92,32.82,32.82,18.12,27.92,23.02,23.02,23.02,32.82,32.82,27.92,32.82,27.92,32.82,32.82,32.82,27.92,32.82,27.92,27.92,23.02,32.82,27.92,23.02,32.82,27.92,27.92,18.12,27.92,32.82,27.92,23.02,32.82,32.82,32.82,27.92,27.92,32.82,27.92,27.92,27.92,32.82,32.82,32.82,32.82,27.92,27.92,27.92,23.02,32.82,23.02,27.92,23.02,27.92,27.92,27.92,32.82,23.02,27.92,27.92,32.82,32.82,23.02,23.02,32.82,32.82,32.82,32.82,23.02,23.02,32.82,32.82,27.92,23.02,23.02,23.02,27.92,32.82,23.02,23.02,27.92,23.02,27.92,27.92,27.92,27.92,32.82,27.92,32.82,32.82,32.82,27.92,27.92,27.92,27.92,32.82,32.82,23.02,27.92,27.92,23.02,23.02,27.92,32.82,23.02,32.82,32.82,27.92,27.92,27.92,32.82,32.82,32.82,32.82,32.82,23.02,32.82,32.82,23.02,23.02,32.82,32.82,27.92,27.92,32.82,23.02,27.92,32.82,27.92,27.92,27.92,27.92,23.02,27.92,32.82,27.92,18.12,32.82,32.82,32.82,32.82,23.02,27.92,27.92,23.02,32.82,27.92,27.92,32.82,32.82,23.02,27.92,32.82,32.82,32.82,32.82,32.82,32.82,27.92,27.92,27.92,35.76,35.76,30.86,35.76,35.76,35.76,35.76,25.96,35.76,25.96,35.76,35.76,35.76,30.86,35.76,25.96,35.76,35.76,35.76,35.76,25.96,25.96,35.76,30.86,25.96,30.86,30.86,35.76,30.86,25.96,35.76,30.86,30.86,30.86,35.76,30.86,30.86,30.86,30.86,30.86,30.86,25.96,30.86,35.76,25.96,35.76,35.76,35.76,35.76,35.76,25.96,30.86,35.76,30.86,35.76,35.76,35.76,35.76,35.76,35.76,35.76,30.86,25.96,35.76,35.76,35.76,35.76,35.76,25.96,25.96,30.86,25.96,25.96,25.96,35.76,35.76,35.76,25.96,25.96,35.76,35.76,25.96,25.96,25.96,35.76,25.96,35.76,35.76,35.76,30.86,25.96,35.76,30.86,35.76,35.76,35.76,21.06,30.86,35.76,35.76,35.76,35.76,35.76,35.76,35.76,30.86,35.76,35.76,30.86,25.96,25.96,35.76,35.76,35.76,35.76,35.76,30.86,25.96,35.76,35.76,25.96,25.96,35.76,35.76,35.76,35.76,25.96,30.86,35.76,35.76,35.76,30.86,30.86,35.76,30.86,30.86,35.76,21.06,25.96,35.76,30.86,35.76,25.96,21.06,35.76,25.96,30.86,35.76,35.76,25.96,25.96,35.76,35.76,35.76,35.76,25.96,30.86,35.76,35.76,35.76,30.86,35.76,25.96,35.76,35.76,35.76,30.86,35.76,30.86,25.96,25.96,25.96,30.86,35.76,25.96,25.96,35.76,25.96,35.76,35.76,35.76,35.76,35.76,30.86,35.76,35.76,25.96,25.96,25.96,35.76,30.86,35.76,35.76,25.96,30.86,25.96,21.06,25.96,35.76,35.76,35.76,35.76,30.86,35.76,25.96,35.76,35.76,35.76,25.96,25.96,35.76,35.76,25.96,35.76,35.76,35.76,35.76,35.76,25.96,21.06,35.76,35.76,35.76,35.76,30.86,35.76,25.96,21.06,35.76,25.96,35.76,35.76,35.76,35.76,35.76,35.76,30.86,35.76,35.76,30.86,30.86,30.86,25.96,30.86,25.96,35.76,30.86,30.86,30.86,35.76,35.76,35.76,30.86,35.76,35.76,30.86,35.76,25.96,35.76,35.76,35.76,35.76,35.76,35.76,35.76,35.76,30.86,35.76,35.76,35.76,35.76,35.76,35.76,35.76,35.76,35.76,35.76,35.76,35.76,25.96,35.76,35.76,35.76,35.76,30.86,35.76,30.86,35.76,35.76,35.76,35.76,35.76,35.76,35.76,35.76,35.76,35.76,35.76,35.76,25.96,30.86,35.76,35.76,35.76,35.76,35.76,35.76,25.96,35.76,35.76,35.76,35.76,35.76,30.86,35.76,25.96,25.96,25.96,21.06,35.76,35.76,35.76,30.86,25.96,35.76,35.76,35.76,35.76,35.76,35.76,35.76,35.76,30.86,25.96,21.06,25.96,25.96,35.76,35.76,35.76,30.86,25.96,30.86,30.86,30.86,35.76,21.06,35.76,35.76,30.86,35.76,35.76,25.96,35.76,35.76,35.76,35.76,35.76,35.76,25.96,25.96,35.76,25.96,35.76,35.76,35.76,35.76,35.76,21.06,35.76,35.76,35.76,25.96,25.96,30.86,35.76,35.76,25.96,35.76,35.76,35.76,21.06,35.76,25.96,35.76,25.96,35.76,35.76,35.76,30.86,25.96,25.96,35.76,35.76,30.86,30.86,35.76,30.86,30.86,35.76,30.86,35.76,35.76,35.76,25.96,35.76,30.86,35.76,35.76,35.76,30.86,35.76,30.86,30.86,30.86,35.76,35.76,35.76,35.76,30.86,30.86,35.76,35.76,35.76,30.86,21.06,25.96,25.96,35.76,35.76,35.76,35.76,30.86,30.86,30.86,35.76,35.76,35.76,35.76,35.76,30.86,30.86,35.76,35.76,35.76,35.76,25.96,30.86,25.96,35.76,35.76,30.86,35.76,30.86,30.86,35.76,35.76,30.86,35.76,30.86,35.76,25.96,35.76,35.76,35.76,25.96,30.86,25.96,35.76,30.86,30.86,35.76,35.76,35.76,30.86,25.96,25.96,30.86,30.86,35.76,30.86,35.76,25.96,30.86,35.76,35.76,25.96,25.96,35.76,35.76,35.76,30.86,25.96,30.86,35.76,35.76,35.76,30.86,35.76,30.86,30.86,35.76,35.76,35.76,35.76,35.76,35.76,35.76,35.76,35.76,35.76,35.76,30.86,35.76,21.06,25.96,35.76,35.76,35.76,35.76,35.76,35.76,25.96,25.96,35.76,35.76,35.76,35.76,30.86,25.96,25.96,35.76,35.76,35.76,30.86,30.86,35.76,35.76,35.76,35.76,30.86,25.96,25.96,35.76,35.76,35.76,35.76,35.76,25.96,30.86,35.76,35.76,25.96,35.76,35.76,25.96,25.96,25.96,35.76,35.76,35.76,35.76,35.76,35.76,30.86,25.96,35.76,35.76,35.76,35.76,35.76,35.76,35.76,35.76,35.76,35.76,35.76,35.76,35.76,35.76,35.76,35.76,30.86,35.76,30.86,30.86,30.86,35.76,35.76,25.96,21.06,35.76,35.76,35.76,30.86,35.76,35.76,35.76,35.76,35.76,35.76,35.76,30.86,30.86,35.76,35.76,35.76,25.96,30.86,35.76,35.76,30.86,30.86,25.96,25.96,35.76,35.76,25.96,35.76,30.86,35.76,35.76,30.86,35.76,35.76,30.86,30.86,30.86,25.96,30.86,35.76,35.76,35.76,35.76,35.76,30.86,30.86,35.76,35.76,35.76,35.76,35.76,30.86,35.76,21.06,35.76,30.86,35.76,35.76,35.76,35.76,35.76,30.86,35.76,35.76,35.76,25.96,35.76,35.76,35.76,35.76,30.86,25.96,35.76,35.76,35.76,35.76,35.76,35.76,35.76,25.96,25.96,35.76,35.76,25.96,25.96,35.76,35.76,35.76,35.76,35.76,30.86,25.96,35.76,35.76,35.76,30.86,35.76,35.76,35.76,35.76,35.76,25.96,35.76,35.76,35.76,35.76,25.96,30.86,35.76,35.76,30.86,30.86,35.76,35.76,35.76,35.76,35.76,30.86,30.86,30.86,35.76,35.76,35.76,25.96,35.76,35.76,30.86,30.86,30.86,30.86,30.86,30.86,35.76,35.76,35.76,35.76,35.76,35.76,35.76,30.86,30.86,30.86,35.76,25.96,30.86,35.76,25.96,21.06,35.76,25.96,35.76,35.76,30.86,30.86,25.96,30.86,30.86,30.86,35.76,35.76,35.76,35.76,30.86,35.76,25.96,35.76,35.76,25.96,30.86,30.86,30.86,35.76,30.86,35.76,25.96,25.96,30.86,30.86,35.76,25.96,35.76,35.76,35.76,35.76,35.76,35.76,35.76,30.86,25.96,35.76,35.76,30.86,25.96,25.96,35.76,35.76,25.96,30.86,30.86,35.76,21.06,35.76,30.86,30.86,35.76,25.96,30.86,25.96,35.76,25.96,35.76,35.76,25.96,35.76,21.06,35.76,35.76,35.76,30.86,25.96,21.06,21.06,25.96,35.76,35.76,25.96,25.96,35.76,35.76,35.76,35.76,35.76,35.76,30.86,35.76,35.76,25.96,35.76,35.76,25.96,25.96,25.96,25.96,30.86,35.76,35.76,35.76,35.76,35.76,35.76,30.86,35.76,35.76,35.76,30.86,25.96,35.76,30.86,25.96,35.76,35.76,35.76,35.76,30.86,35.76,35.76,35.76,30.86,21.06,35.76,35.76,35.76,30.86,35.76,35.76,35.76,25.96,30.86,35.76,25.96,21.06,30.86,25.96,35.76,35.76,35.76,35.76,25.96,35.76,35.76,30.86,35.76,35.76,35.76,25.96,30.86,25.96,25.96,35.76,25.96,35.76,35.76,35.76,35.76,35.76,35.76,25.96,25.96,30.86,30.86,35.76,35.76,30.86,35.76,25.96,35.76,25.96,30.86,35.76,25.96,35.76,35.76,21.06,35.76,35.76,35.76,30.86,25.96,30.86,25.96,35.76,35.76,35.76,35.76,35.76,30.86,35.76,21.06,25.96,25.96,25.96,30.86,35.76,25.96,30.86,35.76,25.96,25.96,30.86,35.76,35.76,35.76,35.76,35.76,25.96,21.06,25.96,25.96,21.06,25.96,35.76,35.76,25.96,30.86,35.76,35.76,35.76,30.86,30.86,25.96,35.76,25.96,35.76,25.96,35.76,30.86,30.86,35.76,30.86,21.06,25.96,35.76,35.76,30.86,35.76,35.76,35.76,30.86,35.76,35.76,25.96,25.96,25.96,35.76,30.86,35.76,25.96,30.86,30.86,35.76,25.96,25.96,35.76,25.96,25.96,35.76,35.76,30.86,35.76,35.76,25.96,25.96,35.76,30.86,35.76,30.86,25.96,35.76,35.76,35.76,30.86,35.76,25.96,35.76,25.96,35.76,30.86,21.06,35.76,30.86,25.96,30.86,35.76,30.86,30.86,35.76,35.76,30.86,30.86,35.76,25.96,35.76,35.76,35.76,35.76,30.86,30.86,35.76,35.76,25.96,35.76,25.96,30.86,30.86,25.96,30.86,35.76,30.86,30.86,30.86,25.96,35.76,35.76,35.76,35.76,21.06,35.76,25.96,30.86,35.76,30.86,30.86,35.76,35.76,30.86,25.96,35.76,35.76,35.76,35.76,35.76,35.76,35.76,35.76,35.76,30.86,30.86,25.96,35.76,35.76,35.76,35.76,35.76,25.96,35.76,35.76,35.76,30.86,30.86,35.76,35.76,35.76,35.76,30.86,35.76,35.76,35.76,30.86,30.86,25.96,25.96,25.96,30.86,35.76,35.76,35.76,35.76,35.76,25.96,30.86,25.96,35.76,35.76,35.76,25.96,21.06,30.86,35.76,30.86,35.76,35.76,30.86,35.76,25.96,35.76,25.96,35.76,35.76,35.76,35.76,35.76,25.96,25.96,21.06,25.96,25.96,35.76,30.86,30.86,25.96,30.86,35.76,35.76,35.76,35.76,25.96,30.86,25.96,35.76,25.96,25.96,35.76,35.76,25.96,25.96,30.86,21.06,30.86,30.86,25.96,35.76,25.96,30.86,35.76,30.86,25.96,25.96,30.86,30.86,35.76,35.76,35.76,35.76,35.76,35.76,30.86,30.86,25.96,30.86,30.86,25.96,25.96,35.76,35.76,35.76,35.76,30.86,30.86,30.86,35.76,35.76,35.76,35.76,30.86,35.76,35.76,35.76,30.86,21.06,30.86,25.96,35.76,30.86,35.76,35.76,25.96,25.96,35.76,35.76,35.76,25.96,35.76,30.86,30.86,30.86,35.76,35.76,35.76,30.86,25.96,35.76,30.86,25.96,30.86,25.96,25.96,30.86,25.96,30.86,35.76,35.76,35.76,25.96,30.86,30.86,25.96,25.96,25.96,30.86,25.96,25.96,21.06,21.06,35.76,35.76,35.76,35.76,35.76,35.76,35.76,35.76,35.76,35.76,30.86,35.76,35.76,35.76,30.86,25.96,30.86,35.76,35.76,35.76,35.76,35.76,21.06,35.76,35.76,35.76,30.86,30.86,25.96,35.76,30.86,25.96,25.96,35.76,35.76,35.76,35.76,35.76,25.96,35.76,35.76,25.96,25.96,30.86,25.96,25.96,25.96,25.96,25.96,25.96,35.76,30.86,25.96,35.76,35.76,35.76,35.76,35.76,25.96,25.96,25.96,25.96,30.86,25.96,35.76,30.86,25.96,35.76,25.96,35.76,35.76,35.76,30.86,35.76,35.76,35.76,25.96,30.86,35.76,35.76,25.96,25.96,30.86,35.76,35.76,30.86,21.06,35.76,30.86,30.86,25.96,30.86,35.76,35.76,35.76,25.96,35.76,30.86,25.96,25.96,25.96,35.76,35.76,35.76,35.76,25.96,25.96,35.76,25.96,35.76,35.76,35.76,30.86,25.96,21.06,35.76,30.86,30.86,25.96,25.96,30.86,30.86,35.76,35.76,35.76,25.96,35.76,25.96,21.06,30.86,35.76,35.76,35.76,35.76,35.76,25.96,35.76,21.06,30.86,25.96,35.76,35.76,25.96,30.86,30.86,35.76,25.96,35.76,35.76,25.96,25.96,30.86,35.76,25.96,35.76,35.76,35.76,30.86,30.86,35.76,25.96,25.96,30.86,35.76,30.86,25.96,30.86,21.06,35.76,35.76,30.86,35.76,21.06,25.96,30.86,25.96,25.96,25.96,35.76,25.96,25.96,25.96,25.96,30.86,30.86,35.76,25.96,30.86,35.76,30.86,21.06,35.76,35.76,35.76,35.76,35.76,30.86,35.76,25.96,25.96,35.76,25.96,35.76,30.86,25.96,35.76,25.96,35.76,25.96,35.76,30.86,35.76,35.76,35.76,35.76,35.76,35.76,35.76,25.96,35.76,25.96,25.96,25.96,30.86,35.76,25.96,25.96,21.06,35.76,35.76,35.76,25.96,25.96,35.76,35.76,35.76,25.96,35.76,35.76,21.06,25.96,30.86,25.96,25.96,25.96,25.96,25.96,25.96,35.76,25.96,25.96,25.96,35.76,35.76,35.76,35.76,35.76,35.76,35.76,35.76,25.96,25.96,21.06,30.86,30.86,30.86,30.86,35.76,35.76,25.96,30.86,35.76,25.96,30.86,30.86,35.76,35.76,35.76,30.86,35.76,35.76,35.76,25.96,25.96,30.86,30.86,35.76,30.86,35.76,35.76,35.76,35.76,30.86,25.96,30.86,21.06,25.96,25.96,35.76,35.76,25.96,25.96,35.76,35.76,25.96,30.86,30.86,35.76,35.76,35.76,25.96,25.96,25.96,35.76,25.96,25.96,35.76,35.76,35.76,30.86,35.76,35.76,35.76,35.76,21.06,35.76,35.76,30.86,25.96,35.76,25.96,25.96,25.96,25.96,35.76,35.76,35.76,35.76,35.76,35.76,35.76,30.86,30.86,35.76,21.06,30.86,25.96,25.96,25.96,35.76,25.96,35.76,25.96,35.76,30.86,25.96,25.96,35.76,35.76,25.96,25.96,35.76,25.96,30.86,35.76,25.96,35.76,35.76,30.86,30.86,25.96,25.96,35.76,35.76,35.76,35.76,35.76,35.76,35.76,25.96,35.76,35.76,35.76,35.76,35.76,25.96,30.86,25.96,35.76,25.96,35.76,35.76,30.86,35.76,35.76,25.96,30.86,25.96,25.96,25.96,30.86,25.96,25.96,25.96,25.96,35.76,25.96,35.76,35.76,35.76,30.86,25.96,25.96,25.96,35.76,30.86,35.76,35.76,25.96,25.96,25.96,35.76,35.76,35.76,30.86,21.06,35.76,35.76,35.76,35.76,21.06,30.86,25.96,25.96,25.96,35.76,35.76,30.86,35.76,35.76,30.86,35.76,25.96,25.96,25.96,35.76,30.86,30.86,35.76,35.76,30.86,35.76,25.96,35.76,35.76,35.76,35.76,35.76,30.86,30.86,25.96,25.96,25.96,30.86,25.96,35.76,21.06,30.86,35.76,25.96,35.76,25.96,30.86,35.76,25.96,35.76,30.86,35.76,35.76,35.76,25.96,25.96,35.76,35.76,35.76,35.76,30.86,25.96,35.76,35.76,30.86,25.96,35.76,35.76,25.96,25.96,25.96,35.76,35.76,35.76,35.76,30.86,35.76,35.76,35.76,30.86,35.76,25.96,25.96,25.96,35.76,35.76,35.76,35.76,35.76,35.76,25.96,35.76,25.96,35.76,25.96,35.76,30.86,30.86,35.76,21.06,25.96,30.86,25.96,35.76,30.86,25.96,35.76,25.96,30.86,25.96,35.76,21.06,25.96,25.96,35.76,35.76,25.96,35.76,35.76,35.76,25.96,35.76,35.76,35.76,25.96,25.96,35.76,35.76,25.96,25.96,30.86,35.76,25.96,35.76,30.86,30.86,35.76,35.76,30.86,35.76,35.76,25.96,25.96,25.96,25.96,30.86,25.96,25.96,35.76,35.76,35.76,35.76,35.76,35.76,25.96,30.86,35.76,35.76,25.96,35.76,35.76,30.86,25.96,30.86,25.96,35.76,21.06,35.76,35.76,35.76,35.76,35.76,25.96,25.96,35.76,25.96,35.76,25.96,25.96,35.76,35.76,35.76,25.96,35.76,35.76,25.96,25.96,35.76,30.86,30.86,25.96,21.06,21.06,30.86,30.86,30.86,25.96,25.96,25.96,25.96,25.96,21.06,25.96,35.76,35.76,25.96,25.96,35.76,25.96,35.76,35.76,35.76,35.76,30.86,30.86,25.96,25.96,25.96,35.76,25.96,35.76,25.96,35.76,35.76,35.76,25.96,35.76,35.76,35.76,35.76,35.76,35.76,25.96,30.86,30.86,35.76,35.76,30.86,25.96,25.96,30.86,21.06,35.76,30.86,30.86,35.76,35.76,35.76,35.76,25.96,35.76],\"y0\":\" \",\"yaxis\":\"y\",\"type\":\"box\"}],                        {\"template\":{\"data\":{\"histogram2dcontour\":[{\"type\":\"histogram2dcontour\",\"colorbar\":{\"outlinewidth\":0,\"ticks\":\"\"},\"colorscale\":[[0.0,\"#0d0887\"],[0.1111111111111111,\"#46039f\"],[0.2222222222222222,\"#7201a8\"],[0.3333333333333333,\"#9c179e\"],[0.4444444444444444,\"#bd3786\"],[0.5555555555555556,\"#d8576b\"],[0.6666666666666666,\"#ed7953\"],[0.7777777777777778,\"#fb9f3a\"],[0.8888888888888888,\"#fdca26\"],[1.0,\"#f0f921\"]]}],\"choropleth\":[{\"type\":\"choropleth\",\"colorbar\":{\"outlinewidth\":0,\"ticks\":\"\"}}],\"histogram2d\":[{\"type\":\"histogram2d\",\"colorbar\":{\"outlinewidth\":0,\"ticks\":\"\"},\"colorscale\":[[0.0,\"#0d0887\"],[0.1111111111111111,\"#46039f\"],[0.2222222222222222,\"#7201a8\"],[0.3333333333333333,\"#9c179e\"],[0.4444444444444444,\"#bd3786\"],[0.5555555555555556,\"#d8576b\"],[0.6666666666666666,\"#ed7953\"],[0.7777777777777778,\"#fb9f3a\"],[0.8888888888888888,\"#fdca26\"],[1.0,\"#f0f921\"]]}],\"heatmap\":[{\"type\":\"heatmap\",\"colorbar\":{\"outlinewidth\":0,\"ticks\":\"\"},\"colorscale\":[[0.0,\"#0d0887\"],[0.1111111111111111,\"#46039f\"],[0.2222222222222222,\"#7201a8\"],[0.3333333333333333,\"#9c179e\"],[0.4444444444444444,\"#bd3786\"],[0.5555555555555556,\"#d8576b\"],[0.6666666666666666,\"#ed7953\"],[0.7777777777777778,\"#fb9f3a\"],[0.8888888888888888,\"#fdca26\"],[1.0,\"#f0f921\"]]}],\"heatmapgl\":[{\"type\":\"heatmapgl\",\"colorbar\":{\"outlinewidth\":0,\"ticks\":\"\"},\"colorscale\":[[0.0,\"#0d0887\"],[0.1111111111111111,\"#46039f\"],[0.2222222222222222,\"#7201a8\"],[0.3333333333333333,\"#9c179e\"],[0.4444444444444444,\"#bd3786\"],[0.5555555555555556,\"#d8576b\"],[0.6666666666666666,\"#ed7953\"],[0.7777777777777778,\"#fb9f3a\"],[0.8888888888888888,\"#fdca26\"],[1.0,\"#f0f921\"]]}],\"contourcarpet\":[{\"type\":\"contourcarpet\",\"colorbar\":{\"outlinewidth\":0,\"ticks\":\"\"}}],\"contour\":[{\"type\":\"contour\",\"colorbar\":{\"outlinewidth\":0,\"ticks\":\"\"},\"colorscale\":[[0.0,\"#0d0887\"],[0.1111111111111111,\"#46039f\"],[0.2222222222222222,\"#7201a8\"],[0.3333333333333333,\"#9c179e\"],[0.4444444444444444,\"#bd3786\"],[0.5555555555555556,\"#d8576b\"],[0.6666666666666666,\"#ed7953\"],[0.7777777777777778,\"#fb9f3a\"],[0.8888888888888888,\"#fdca26\"],[1.0,\"#f0f921\"]]}],\"surface\":[{\"type\":\"surface\",\"colorbar\":{\"outlinewidth\":0,\"ticks\":\"\"},\"colorscale\":[[0.0,\"#0d0887\"],[0.1111111111111111,\"#46039f\"],[0.2222222222222222,\"#7201a8\"],[0.3333333333333333,\"#9c179e\"],[0.4444444444444444,\"#bd3786\"],[0.5555555555555556,\"#d8576b\"],[0.6666666666666666,\"#ed7953\"],[0.7777777777777778,\"#fb9f3a\"],[0.8888888888888888,\"#fdca26\"],[1.0,\"#f0f921\"]]}],\"mesh3d\":[{\"type\":\"mesh3d\",\"colorbar\":{\"outlinewidth\":0,\"ticks\":\"\"}}],\"scatter\":[{\"fillpattern\":{\"fillmode\":\"overlay\",\"size\":10,\"solidity\":0.2},\"type\":\"scatter\"}],\"parcoords\":[{\"type\":\"parcoords\",\"line\":{\"colorbar\":{\"outlinewidth\":0,\"ticks\":\"\"}}}],\"scatterpolargl\":[{\"type\":\"scatterpolargl\",\"marker\":{\"colorbar\":{\"outlinewidth\":0,\"ticks\":\"\"}}}],\"bar\":[{\"error_x\":{\"color\":\"#2a3f5f\"},\"error_y\":{\"color\":\"#2a3f5f\"},\"marker\":{\"line\":{\"color\":\"#E5ECF6\",\"width\":0.5},\"pattern\":{\"fillmode\":\"overlay\",\"size\":10,\"solidity\":0.2}},\"type\":\"bar\"}],\"scattergeo\":[{\"type\":\"scattergeo\",\"marker\":{\"colorbar\":{\"outlinewidth\":0,\"ticks\":\"\"}}}],\"scatterpolar\":[{\"type\":\"scatterpolar\",\"marker\":{\"colorbar\":{\"outlinewidth\":0,\"ticks\":\"\"}}}],\"histogram\":[{\"marker\":{\"pattern\":{\"fillmode\":\"overlay\",\"size\":10,\"solidity\":0.2}},\"type\":\"histogram\"}],\"scattergl\":[{\"type\":\"scattergl\",\"marker\":{\"colorbar\":{\"outlinewidth\":0,\"ticks\":\"\"}}}],\"scatter3d\":[{\"type\":\"scatter3d\",\"line\":{\"colorbar\":{\"outlinewidth\":0,\"ticks\":\"\"}},\"marker\":{\"colorbar\":{\"outlinewidth\":0,\"ticks\":\"\"}}}],\"scattermapbox\":[{\"type\":\"scattermapbox\",\"marker\":{\"colorbar\":{\"outlinewidth\":0,\"ticks\":\"\"}}}],\"scatterternary\":[{\"type\":\"scatterternary\",\"marker\":{\"colorbar\":{\"outlinewidth\":0,\"ticks\":\"\"}}}],\"scattercarpet\":[{\"type\":\"scattercarpet\",\"marker\":{\"colorbar\":{\"outlinewidth\":0,\"ticks\":\"\"}}}],\"carpet\":[{\"aaxis\":{\"endlinecolor\":\"#2a3f5f\",\"gridcolor\":\"white\",\"linecolor\":\"white\",\"minorgridcolor\":\"white\",\"startlinecolor\":\"#2a3f5f\"},\"baxis\":{\"endlinecolor\":\"#2a3f5f\",\"gridcolor\":\"white\",\"linecolor\":\"white\",\"minorgridcolor\":\"white\",\"startlinecolor\":\"#2a3f5f\"},\"type\":\"carpet\"}],\"table\":[{\"cells\":{\"fill\":{\"color\":\"#EBF0F8\"},\"line\":{\"color\":\"white\"}},\"header\":{\"fill\":{\"color\":\"#C8D4E3\"},\"line\":{\"color\":\"white\"}},\"type\":\"table\"}],\"barpolar\":[{\"marker\":{\"line\":{\"color\":\"#E5ECF6\",\"width\":0.5},\"pattern\":{\"fillmode\":\"overlay\",\"size\":10,\"solidity\":0.2}},\"type\":\"barpolar\"}],\"pie\":[{\"automargin\":true,\"type\":\"pie\"}]},\"layout\":{\"autotypenumbers\":\"strict\",\"colorway\":[\"#636efa\",\"#EF553B\",\"#00cc96\",\"#ab63fa\",\"#FFA15A\",\"#19d3f3\",\"#FF6692\",\"#B6E880\",\"#FF97FF\",\"#FECB52\"],\"font\":{\"color\":\"#2a3f5f\"},\"hovermode\":\"closest\",\"hoverlabel\":{\"align\":\"left\"},\"paper_bgcolor\":\"white\",\"plot_bgcolor\":\"#E5ECF6\",\"polar\":{\"bgcolor\":\"#E5ECF6\",\"angularaxis\":{\"gridcolor\":\"white\",\"linecolor\":\"white\",\"ticks\":\"\"},\"radialaxis\":{\"gridcolor\":\"white\",\"linecolor\":\"white\",\"ticks\":\"\"}},\"ternary\":{\"bgcolor\":\"#E5ECF6\",\"aaxis\":{\"gridcolor\":\"white\",\"linecolor\":\"white\",\"ticks\":\"\"},\"baxis\":{\"gridcolor\":\"white\",\"linecolor\":\"white\",\"ticks\":\"\"},\"caxis\":{\"gridcolor\":\"white\",\"linecolor\":\"white\",\"ticks\":\"\"}},\"coloraxis\":{\"colorbar\":{\"outlinewidth\":0,\"ticks\":\"\"}},\"colorscale\":{\"sequential\":[[0.0,\"#0d0887\"],[0.1111111111111111,\"#46039f\"],[0.2222222222222222,\"#7201a8\"],[0.3333333333333333,\"#9c179e\"],[0.4444444444444444,\"#bd3786\"],[0.5555555555555556,\"#d8576b\"],[0.6666666666666666,\"#ed7953\"],[0.7777777777777778,\"#fb9f3a\"],[0.8888888888888888,\"#fdca26\"],[1.0,\"#f0f921\"]],\"sequentialminus\":[[0.0,\"#0d0887\"],[0.1111111111111111,\"#46039f\"],[0.2222222222222222,\"#7201a8\"],[0.3333333333333333,\"#9c179e\"],[0.4444444444444444,\"#bd3786\"],[0.5555555555555556,\"#d8576b\"],[0.6666666666666666,\"#ed7953\"],[0.7777777777777778,\"#fb9f3a\"],[0.8888888888888888,\"#fdca26\"],[1.0,\"#f0f921\"]],\"diverging\":[[0,\"#8e0152\"],[0.1,\"#c51b7d\"],[0.2,\"#de77ae\"],[0.3,\"#f1b6da\"],[0.4,\"#fde0ef\"],[0.5,\"#f7f7f7\"],[0.6,\"#e6f5d0\"],[0.7,\"#b8e186\"],[0.8,\"#7fbc41\"],[0.9,\"#4d9221\"],[1,\"#276419\"]]},\"xaxis\":{\"gridcolor\":\"white\",\"linecolor\":\"white\",\"ticks\":\"\",\"title\":{\"standoff\":15},\"zerolinecolor\":\"white\",\"automargin\":true,\"zerolinewidth\":2},\"yaxis\":{\"gridcolor\":\"white\",\"linecolor\":\"white\",\"ticks\":\"\",\"title\":{\"standoff\":15},\"zerolinecolor\":\"white\",\"automargin\":true,\"zerolinewidth\":2},\"scene\":{\"xaxis\":{\"backgroundcolor\":\"#E5ECF6\",\"gridcolor\":\"white\",\"linecolor\":\"white\",\"showbackground\":true,\"ticks\":\"\",\"zerolinecolor\":\"white\",\"gridwidth\":2},\"yaxis\":{\"backgroundcolor\":\"#E5ECF6\",\"gridcolor\":\"white\",\"linecolor\":\"white\",\"showbackground\":true,\"ticks\":\"\",\"zerolinecolor\":\"white\",\"gridwidth\":2},\"zaxis\":{\"backgroundcolor\":\"#E5ECF6\",\"gridcolor\":\"white\",\"linecolor\":\"white\",\"showbackground\":true,\"ticks\":\"\",\"zerolinecolor\":\"white\",\"gridwidth\":2}},\"shapedefaults\":{\"line\":{\"color\":\"#2a3f5f\"}},\"annotationdefaults\":{\"arrowcolor\":\"#2a3f5f\",\"arrowhead\":0,\"arrowwidth\":1},\"geo\":{\"bgcolor\":\"white\",\"landcolor\":\"#E5ECF6\",\"subunitcolor\":\"white\",\"showland\":true,\"showlakes\":true,\"lakecolor\":\"white\"},\"title\":{\"x\":0.05},\"mapbox\":{\"style\":\"light\"}}},\"xaxis\":{\"anchor\":\"y\",\"domain\":[0.0,1.0]},\"yaxis\":{\"anchor\":\"x\",\"domain\":[0.0,1.0],\"title\":{\"text\":\"money\"}},\"legend\":{\"tracegroupgap\":0},\"title\":{\"text\":\"Outlier Detection for Sales (money)\"},\"boxmode\":\"group\"},                        {\"responsive\": true}                    ).then(function(){\n",
              "                            \n",
              "var gd = document.getElementById('ad959f22-45fc-4881-bdce-b4f910476308');\n",
              "var x = new MutationObserver(function (mutations, observer) {{\n",
              "        var display = window.getComputedStyle(gd).display;\n",
              "        if (!display || display === 'none') {{\n",
              "            console.log([gd, 'removed!']);\n",
              "            Plotly.purge(gd);\n",
              "            observer.disconnect();\n",
              "        }}\n",
              "}});\n",
              "\n",
              "// Listen for the removal of the full notebook cells\n",
              "var notebookContainer = gd.closest('#notebook-container');\n",
              "if (notebookContainer) {{\n",
              "    x.observe(notebookContainer, {childList: true});\n",
              "}}\n",
              "\n",
              "// Listen for the clearing of the current output cell\n",
              "var outputEl = gd.closest('.output');\n",
              "if (outputEl) {{\n",
              "    x.observe(outputEl, {childList: true});\n",
              "}}\n",
              "\n",
              "                        })                };                            </script>        </div>\n",
              "</body>\n",
              "</html>"
            ]
          },
          "metadata": {}
        }
      ],
      "source": [
        "# Check for outliers in 'money' using Plotly box plot\n",
        "\n",
        "fig = px.box(df, y='money', points='all', title='Outlier Detection for Sales (money)')\n",
        "fig.show()"
      ]
    },
    {
      "cell_type": "markdown",
      "id": "d116191d",
      "metadata": {
        "id": "d116191d"
      },
      "source": [
        "## EDA"
      ]
    },
    {
      "cell_type": "code",
      "execution_count": 8,
      "id": "0d697549",
      "metadata": {
        "colab": {
          "base_uri": "https://localhost:8080/",
          "height": 178
        },
        "id": "0d697549",
        "outputId": "90594c78-1ba6-4010-cd3c-b5a714310c13"
      },
      "outputs": [
        {
          "output_type": "execute_result",
          "data": {
            "text/plain": [
              "year\n",
              "2024    2604\n",
              "2025     943\n",
              "Name: count, dtype: int64"
            ],
            "text/html": [
              "<div>\n",
              "<style scoped>\n",
              "    .dataframe tbody tr th:only-of-type {\n",
              "        vertical-align: middle;\n",
              "    }\n",
              "\n",
              "    .dataframe tbody tr th {\n",
              "        vertical-align: top;\n",
              "    }\n",
              "\n",
              "    .dataframe thead th {\n",
              "        text-align: right;\n",
              "    }\n",
              "</style>\n",
              "<table border=\"1\" class=\"dataframe\">\n",
              "  <thead>\n",
              "    <tr style=\"text-align: right;\">\n",
              "      <th></th>\n",
              "      <th>count</th>\n",
              "    </tr>\n",
              "    <tr>\n",
              "      <th>year</th>\n",
              "      <th></th>\n",
              "    </tr>\n",
              "  </thead>\n",
              "  <tbody>\n",
              "    <tr>\n",
              "      <th>2024</th>\n",
              "      <td>2604</td>\n",
              "    </tr>\n",
              "    <tr>\n",
              "      <th>2025</th>\n",
              "      <td>943</td>\n",
              "    </tr>\n",
              "  </tbody>\n",
              "</table>\n",
              "</div><br><label><b>dtype:</b> int64</label>"
            ]
          },
          "metadata": {},
          "execution_count": 8
        }
      ],
      "source": [
        "# see distribution of year from column 'Date'\n",
        "df['Date'] = pd.to_datetime(df['Date'])\n",
        "df['year'] = df['Date'].dt.year\n",
        "df['year'].value_counts()\n"
      ]
    },
    {
      "cell_type": "code",
      "execution_count": 22,
      "id": "26488979",
      "metadata": {
        "colab": {
          "base_uri": "https://localhost:8080/"
        },
        "id": "26488979",
        "outputId": "53be9343-96be-407b-eded-f27679babc13"
      },
      "outputs": [
        {
          "output_type": "stream",
          "name": "stdout",
          "text": [
            "Dataset stops at:\n",
            "Year: 2025\n",
            "Month: 3\n",
            "Last transaction date in dataset: 2025-03-23\n"
          ]
        }
      ],
      "source": [
        "# Make sure Date is in datetime format\n",
        "df['Date'] = pd.to_datetime(df['Date'])\n",
        "\n",
        "# Extract year and month\n",
        "df['year'] = df['Date'].dt.year\n",
        "df['month'] = df['Date'].dt.month\n",
        "\n",
        "# Find the maximum year and month in dataset\n",
        "last_year = df['year'].max()\n",
        "last_month = df[df['year'] == last_year]['month'].max()\n",
        "\n",
        "print(\"Dataset stops at:\")\n",
        "print(\"Year:\", last_year)\n",
        "print(\"Month:\", last_month)\n",
        "#  last transaction date\n",
        "last_date = df['Date'].max()\n",
        "print(\"Last transaction date in dataset:\", last_date.date())\n"
      ]
    },
    {
      "cell_type": "markdown",
      "id": "60977598",
      "metadata": {
        "id": "60977598"
      },
      "source": [
        "### 1-Which day of the week has the most total sales?"
      ]
    },
    {
      "cell_type": "code",
      "execution_count": 10,
      "id": "00a25f57",
      "metadata": {
        "id": "00a25f57"
      },
      "outputs": [],
      "source": [
        "# Definding the numpy arrays\n",
        "money         = df[\"money\"].to_numpy()\n",
        "weekday_str   = df[\"Weekday\"].to_numpy()\n",
        "weekday_sort  = df[\"Weekdaysort\"].to_numpy()   # numeric order for days\n",
        "coffee        = df[\"coffee_name\"].to_numpy()\n",
        "time_of_day   = df[\"Time_of_Day\"].to_numpy()\n",
        "hour  = df[\"hour_of_day\"].to_numpy()\n",
        "year  = df[\"year\"].to_numpy()"
      ]
    },
    {
      "cell_type": "code",
      "execution_count": 23,
      "id": "943325d1",
      "metadata": {
        "colab": {
          "base_uri": "https://localhost:8080/",
          "height": 1000
        },
        "id": "943325d1",
        "outputId": "3d3500b5-0da4-4097-c6d3-41db9f525a23"
      },
      "outputs": [
        {
          "output_type": "stream",
          "name": "stdout",
          "text": [
            "[1 2 3 4 5 6 7] [3 3 3 3 3 3 3 3 3 4 4 4 4 4 4 4 5 5 5 5 5 5 5 5 5 5 6 6 6 0 1 1 1 2 2 2 2\n",
            " 3 3 3 3 3 3 3 3 3 4 4 4 4 4 5 5 5 5 5 5 5 5 5 5 5 5 5 5 5 6 6 6 6 6 0 0 0\n",
            " 0 0 0 0 0 1 1 1 1 1 1 1 1 2 2 2 2 2 2 2 2 2 2 3 3 3 3 3 3 3 3 3 3 4 4 4 4\n",
            " 4 4 4 4 4 5 5 5 5 0 0 0 0 0 0 0 0 0 0 1 1 1 1 1 1 1 1 2 2 2 2 2 2 2 4 4 4\n",
            " 4 4 4 4 5 5 5 6 6 0 0 0 0 0 0 0 0 0 0 1 1 1 1 1 1 1 1 1 2 2 2 2 3 3 3 3 3\n",
            " 3 3 3 3 4 4 4 4 4 4 4 4 4 4 4 4 5 5 5 5 5 5 5 5 5 5 5 6 6 6 6 6 6 6 0 0 0\n",
            " 0 0 0 0 0 0 0 0 0 0 0 0 0 0 0 0 0 0 0 0 0 0 1 1 1 1 1 1 1 1 1 1 1 1 2 2 2\n",
            " 2 2 2 2 2 2 2 2 2 2 2 2 2 2 2 2 2 2 2 2 2 3 3 3 3 3 3 3 3 3 3 3 3 4 4 4 4\n",
            " 4 4 4 4 4 4 4 4 4 4 4 4 5 5 5 5 5 5 5 5 6 6 6 6 6 6 6 6 6 0 0 0 0 0 0 0 0\n",
            " 0 0 0 0 0 0 0 0 0 0 0 0 0 1 1 1 1 1 1 1 1 1 1 1 1 1 1 2 2 2 2 2 2 2 2 2 2\n",
            " 2 2 2 2 2 2 2 2 3 3 3 3 3 3 3 3 3 3 3 3 3 4 4 4 4 4 4 4 4 4 4 4 4 4 4 4 5\n",
            " 5 5 5 5 5 5 5 5 6 6 6 6 6 6 6 6 6 6 0 0 0 0 0 0 0 0 0 0 0 0 0 0 0 0 0 0 0\n",
            " 0 1 1 1 1 1 1 1 1 1 1 1 1 1 1 1 1 1 1 2 2 2 2 2 2 2 2 2 2 2 2 2 2 2 2 2 2\n",
            " 2 2 3 3 3 3 3 3 3 3 3 3 3 3 3 3 3 3 3 3 3 4 4 4 4 4 4 4 4 4 4 4 4 4 4 4 4\n",
            " 4 4 4 4 4 4 4 5 5 5 5 5 6 6 6 6 6 6 0 0 0 0 0 0 0 0 0 0 0 0 0 0 0 0 0 0 0\n",
            " 0 0 0 1 1 1 1 1 1 1 1 1 1 1 1 2 2 2 2 2 2 2 2 2 2 2 2 2 2 2 2 2 2 3 3 3 3\n",
            " 3 3 3 3 3 3 3 3 3 3 3 3 3 3 3 4 4 4 4 4 4 4 4 4 4 4 4 4 4 4 4 4 5 5 5 5 5\n",
            " 5 5 5 6 6 6 6 6 6 0 0 0 0 0 0 0 0 0 0 0 0 0 0 0 0 0 0 0 0 0 0 1 1 1 1 1 1\n",
            " 1 1 1 1 1 1 1 1 1 1 2 2 2 2 2 2 2 2 2 2 2 2 2 2 2 2 2 2 2 3 3 3 3 3 3 3 3\n",
            " 3 3 3 3 4 4 4 4 4 4 4 4 4 4 4 4 4 4 4 4 4 5 5 5 5 5 5 5 5 6 6 6 6 6 6 6 6\n",
            " 0 0 0 0 0 0 0 0 0 0 0 0 0 0 0 0 0 1 1 1 1 1 1 1 1 1 1 1 1 1 2 2 2 2 2 2 2\n",
            " 2 2 2 2 2 2 2 2 2 2 3 3 3 3 3 3 3 3 3 3 3 3 4 4 4 4 4 4 4 4 4 4 4 4 4 4 4\n",
            " 4 4 4 4 4 4 4 4 5 5 5 5 5 5 5 6 6 6 6 6 0 0 0 0 0 0 0 0 0 0 0 0 0 1 1 1 1\n",
            " 1 1 1 1 1 1 1 1 1 1 1 1 1 2 2 2 2 2 2 2 2 2 2 2 2 2 2 2 2 2 2 2 2 2 3 3 3\n",
            " 3 3 3 3 3 3 3 3 3 3 3 3 3 3 3 3 3 4 4 4 4 4 4 4 4 4 4 4 4 4 4 4 4 4 4 4 4\n",
            " 5 5 5 5 5 5 5 5 5 5 5 5 6 6 6 6 6 6]\n",
            "days sorted:  ['Mon' 'Tue' 'Wed' 'Thu' 'Fri' 'Sat' 'Sun']\n",
            "total sales sorted from the max till min:  [5372.14 4046.1  5102.22 4473.24 5370.16 3095.8  2141.12]\n",
            "Day with most total sales: Mon\n",
            "Total sales on that day: 5372.14\n"
          ]
        },
        {
          "output_type": "display_data",
          "data": {
            "text/html": [
              "<html>\n",
              "<head><meta charset=\"utf-8\" /></head>\n",
              "<body>\n",
              "    <div>            <script src=\"https://cdnjs.cloudflare.com/ajax/libs/mathjax/2.7.5/MathJax.js?config=TeX-AMS-MML_SVG\"></script><script type=\"text/javascript\">if (window.MathJax && window.MathJax.Hub && window.MathJax.Hub.Config) {window.MathJax.Hub.Config({SVG: {font: \"STIX-Web\"}});}</script>                <script type=\"text/javascript\">window.PlotlyConfig = {MathJaxConfig: 'local'};</script>\n",
              "        <script charset=\"utf-8\" src=\"https://cdn.plot.ly/plotly-2.35.2.min.js\"></script>                <div id=\"e02575ac-60be-47d2-b758-35e4036a4db6\" class=\"plotly-graph-div\" style=\"height:525px; width:100%;\"></div>            <script type=\"text/javascript\">                                    window.PLOTLYENV=window.PLOTLYENV || {};                                    if (document.getElementById(\"e02575ac-60be-47d2-b758-35e4036a4db6\")) {                    Plotly.newPlot(                        \"e02575ac-60be-47d2-b758-35e4036a4db6\",                        [{\"alignmentgroup\":\"True\",\"hovertemplate\":\"Weekday=%{x}\\u003cbr\\u003eTotal Sales=%{y}\\u003cextra\\u003e\\u003c\\u002fextra\\u003e\",\"legendgroup\":\"\",\"marker\":{\"color\":\"#636efa\",\"pattern\":{\"shape\":\"\"}},\"name\":\"\",\"offsetgroup\":\"\",\"orientation\":\"v\",\"showlegend\":false,\"textposition\":\"auto\",\"x\":[\"Mon\",\"Tue\",\"Wed\",\"Thu\",\"Fri\",\"Sat\",\"Sun\"],\"xaxis\":\"x\",\"y\":[5372.140000000012,4046.100000000008,5102.220000000013,4473.240000000009,5370.160000000013,3095.8000000000034,2141.1199999999994],\"yaxis\":\"y\",\"type\":\"bar\"}],                        {\"template\":{\"data\":{\"histogram2dcontour\":[{\"type\":\"histogram2dcontour\",\"colorbar\":{\"outlinewidth\":0,\"ticks\":\"\"},\"colorscale\":[[0.0,\"#0d0887\"],[0.1111111111111111,\"#46039f\"],[0.2222222222222222,\"#7201a8\"],[0.3333333333333333,\"#9c179e\"],[0.4444444444444444,\"#bd3786\"],[0.5555555555555556,\"#d8576b\"],[0.6666666666666666,\"#ed7953\"],[0.7777777777777778,\"#fb9f3a\"],[0.8888888888888888,\"#fdca26\"],[1.0,\"#f0f921\"]]}],\"choropleth\":[{\"type\":\"choropleth\",\"colorbar\":{\"outlinewidth\":0,\"ticks\":\"\"}}],\"histogram2d\":[{\"type\":\"histogram2d\",\"colorbar\":{\"outlinewidth\":0,\"ticks\":\"\"},\"colorscale\":[[0.0,\"#0d0887\"],[0.1111111111111111,\"#46039f\"],[0.2222222222222222,\"#7201a8\"],[0.3333333333333333,\"#9c179e\"],[0.4444444444444444,\"#bd3786\"],[0.5555555555555556,\"#d8576b\"],[0.6666666666666666,\"#ed7953\"],[0.7777777777777778,\"#fb9f3a\"],[0.8888888888888888,\"#fdca26\"],[1.0,\"#f0f921\"]]}],\"heatmap\":[{\"type\":\"heatmap\",\"colorbar\":{\"outlinewidth\":0,\"ticks\":\"\"},\"colorscale\":[[0.0,\"#0d0887\"],[0.1111111111111111,\"#46039f\"],[0.2222222222222222,\"#7201a8\"],[0.3333333333333333,\"#9c179e\"],[0.4444444444444444,\"#bd3786\"],[0.5555555555555556,\"#d8576b\"],[0.6666666666666666,\"#ed7953\"],[0.7777777777777778,\"#fb9f3a\"],[0.8888888888888888,\"#fdca26\"],[1.0,\"#f0f921\"]]}],\"heatmapgl\":[{\"type\":\"heatmapgl\",\"colorbar\":{\"outlinewidth\":0,\"ticks\":\"\"},\"colorscale\":[[0.0,\"#0d0887\"],[0.1111111111111111,\"#46039f\"],[0.2222222222222222,\"#7201a8\"],[0.3333333333333333,\"#9c179e\"],[0.4444444444444444,\"#bd3786\"],[0.5555555555555556,\"#d8576b\"],[0.6666666666666666,\"#ed7953\"],[0.7777777777777778,\"#fb9f3a\"],[0.8888888888888888,\"#fdca26\"],[1.0,\"#f0f921\"]]}],\"contourcarpet\":[{\"type\":\"contourcarpet\",\"colorbar\":{\"outlinewidth\":0,\"ticks\":\"\"}}],\"contour\":[{\"type\":\"contour\",\"colorbar\":{\"outlinewidth\":0,\"ticks\":\"\"},\"colorscale\":[[0.0,\"#0d0887\"],[0.1111111111111111,\"#46039f\"],[0.2222222222222222,\"#7201a8\"],[0.3333333333333333,\"#9c179e\"],[0.4444444444444444,\"#bd3786\"],[0.5555555555555556,\"#d8576b\"],[0.6666666666666666,\"#ed7953\"],[0.7777777777777778,\"#fb9f3a\"],[0.8888888888888888,\"#fdca26\"],[1.0,\"#f0f921\"]]}],\"surface\":[{\"type\":\"surface\",\"colorbar\":{\"outlinewidth\":0,\"ticks\":\"\"},\"colorscale\":[[0.0,\"#0d0887\"],[0.1111111111111111,\"#46039f\"],[0.2222222222222222,\"#7201a8\"],[0.3333333333333333,\"#9c179e\"],[0.4444444444444444,\"#bd3786\"],[0.5555555555555556,\"#d8576b\"],[0.6666666666666666,\"#ed7953\"],[0.7777777777777778,\"#fb9f3a\"],[0.8888888888888888,\"#fdca26\"],[1.0,\"#f0f921\"]]}],\"mesh3d\":[{\"type\":\"mesh3d\",\"colorbar\":{\"outlinewidth\":0,\"ticks\":\"\"}}],\"scatter\":[{\"fillpattern\":{\"fillmode\":\"overlay\",\"size\":10,\"solidity\":0.2},\"type\":\"scatter\"}],\"parcoords\":[{\"type\":\"parcoords\",\"line\":{\"colorbar\":{\"outlinewidth\":0,\"ticks\":\"\"}}}],\"scatterpolargl\":[{\"type\":\"scatterpolargl\",\"marker\":{\"colorbar\":{\"outlinewidth\":0,\"ticks\":\"\"}}}],\"bar\":[{\"error_x\":{\"color\":\"#2a3f5f\"},\"error_y\":{\"color\":\"#2a3f5f\"},\"marker\":{\"line\":{\"color\":\"#E5ECF6\",\"width\":0.5},\"pattern\":{\"fillmode\":\"overlay\",\"size\":10,\"solidity\":0.2}},\"type\":\"bar\"}],\"scattergeo\":[{\"type\":\"scattergeo\",\"marker\":{\"colorbar\":{\"outlinewidth\":0,\"ticks\":\"\"}}}],\"scatterpolar\":[{\"type\":\"scatterpolar\",\"marker\":{\"colorbar\":{\"outlinewidth\":0,\"ticks\":\"\"}}}],\"histogram\":[{\"marker\":{\"pattern\":{\"fillmode\":\"overlay\",\"size\":10,\"solidity\":0.2}},\"type\":\"histogram\"}],\"scattergl\":[{\"type\":\"scattergl\",\"marker\":{\"colorbar\":{\"outlinewidth\":0,\"ticks\":\"\"}}}],\"scatter3d\":[{\"type\":\"scatter3d\",\"line\":{\"colorbar\":{\"outlinewidth\":0,\"ticks\":\"\"}},\"marker\":{\"colorbar\":{\"outlinewidth\":0,\"ticks\":\"\"}}}],\"scattermapbox\":[{\"type\":\"scattermapbox\",\"marker\":{\"colorbar\":{\"outlinewidth\":0,\"ticks\":\"\"}}}],\"scatterternary\":[{\"type\":\"scatterternary\",\"marker\":{\"colorbar\":{\"outlinewidth\":0,\"ticks\":\"\"}}}],\"scattercarpet\":[{\"type\":\"scattercarpet\",\"marker\":{\"colorbar\":{\"outlinewidth\":0,\"ticks\":\"\"}}}],\"carpet\":[{\"aaxis\":{\"endlinecolor\":\"#2a3f5f\",\"gridcolor\":\"white\",\"linecolor\":\"white\",\"minorgridcolor\":\"white\",\"startlinecolor\":\"#2a3f5f\"},\"baxis\":{\"endlinecolor\":\"#2a3f5f\",\"gridcolor\":\"white\",\"linecolor\":\"white\",\"minorgridcolor\":\"white\",\"startlinecolor\":\"#2a3f5f\"},\"type\":\"carpet\"}],\"table\":[{\"cells\":{\"fill\":{\"color\":\"#EBF0F8\"},\"line\":{\"color\":\"white\"}},\"header\":{\"fill\":{\"color\":\"#C8D4E3\"},\"line\":{\"color\":\"white\"}},\"type\":\"table\"}],\"barpolar\":[{\"marker\":{\"line\":{\"color\":\"#E5ECF6\",\"width\":0.5},\"pattern\":{\"fillmode\":\"overlay\",\"size\":10,\"solidity\":0.2}},\"type\":\"barpolar\"}],\"pie\":[{\"automargin\":true,\"type\":\"pie\"}]},\"layout\":{\"autotypenumbers\":\"strict\",\"colorway\":[\"#636efa\",\"#EF553B\",\"#00cc96\",\"#ab63fa\",\"#FFA15A\",\"#19d3f3\",\"#FF6692\",\"#B6E880\",\"#FF97FF\",\"#FECB52\"],\"font\":{\"color\":\"#2a3f5f\"},\"hovermode\":\"closest\",\"hoverlabel\":{\"align\":\"left\"},\"paper_bgcolor\":\"white\",\"plot_bgcolor\":\"#E5ECF6\",\"polar\":{\"bgcolor\":\"#E5ECF6\",\"angularaxis\":{\"gridcolor\":\"white\",\"linecolor\":\"white\",\"ticks\":\"\"},\"radialaxis\":{\"gridcolor\":\"white\",\"linecolor\":\"white\",\"ticks\":\"\"}},\"ternary\":{\"bgcolor\":\"#E5ECF6\",\"aaxis\":{\"gridcolor\":\"white\",\"linecolor\":\"white\",\"ticks\":\"\"},\"baxis\":{\"gridcolor\":\"white\",\"linecolor\":\"white\",\"ticks\":\"\"},\"caxis\":{\"gridcolor\":\"white\",\"linecolor\":\"white\",\"ticks\":\"\"}},\"coloraxis\":{\"colorbar\":{\"outlinewidth\":0,\"ticks\":\"\"}},\"colorscale\":{\"sequential\":[[0.0,\"#0d0887\"],[0.1111111111111111,\"#46039f\"],[0.2222222222222222,\"#7201a8\"],[0.3333333333333333,\"#9c179e\"],[0.4444444444444444,\"#bd3786\"],[0.5555555555555556,\"#d8576b\"],[0.6666666666666666,\"#ed7953\"],[0.7777777777777778,\"#fb9f3a\"],[0.8888888888888888,\"#fdca26\"],[1.0,\"#f0f921\"]],\"sequentialminus\":[[0.0,\"#0d0887\"],[0.1111111111111111,\"#46039f\"],[0.2222222222222222,\"#7201a8\"],[0.3333333333333333,\"#9c179e\"],[0.4444444444444444,\"#bd3786\"],[0.5555555555555556,\"#d8576b\"],[0.6666666666666666,\"#ed7953\"],[0.7777777777777778,\"#fb9f3a\"],[0.8888888888888888,\"#fdca26\"],[1.0,\"#f0f921\"]],\"diverging\":[[0,\"#8e0152\"],[0.1,\"#c51b7d\"],[0.2,\"#de77ae\"],[0.3,\"#f1b6da\"],[0.4,\"#fde0ef\"],[0.5,\"#f7f7f7\"],[0.6,\"#e6f5d0\"],[0.7,\"#b8e186\"],[0.8,\"#7fbc41\"],[0.9,\"#4d9221\"],[1,\"#276419\"]]},\"xaxis\":{\"gridcolor\":\"white\",\"linecolor\":\"white\",\"ticks\":\"\",\"title\":{\"standoff\":15},\"zerolinecolor\":\"white\",\"automargin\":true,\"zerolinewidth\":2},\"yaxis\":{\"gridcolor\":\"white\",\"linecolor\":\"white\",\"ticks\":\"\",\"title\":{\"standoff\":15},\"zerolinecolor\":\"white\",\"automargin\":true,\"zerolinewidth\":2},\"scene\":{\"xaxis\":{\"backgroundcolor\":\"#E5ECF6\",\"gridcolor\":\"white\",\"linecolor\":\"white\",\"showbackground\":true,\"ticks\":\"\",\"zerolinecolor\":\"white\",\"gridwidth\":2},\"yaxis\":{\"backgroundcolor\":\"#E5ECF6\",\"gridcolor\":\"white\",\"linecolor\":\"white\",\"showbackground\":true,\"ticks\":\"\",\"zerolinecolor\":\"white\",\"gridwidth\":2},\"zaxis\":{\"backgroundcolor\":\"#E5ECF6\",\"gridcolor\":\"white\",\"linecolor\":\"white\",\"showbackground\":true,\"ticks\":\"\",\"zerolinecolor\":\"white\",\"gridwidth\":2}},\"shapedefaults\":{\"line\":{\"color\":\"#2a3f5f\"}},\"annotationdefaults\":{\"arrowcolor\":\"#2a3f5f\",\"arrowhead\":0,\"arrowwidth\":1},\"geo\":{\"bgcolor\":\"white\",\"landcolor\":\"#E5ECF6\",\"subunitcolor\":\"white\",\"showland\":true,\"showlakes\":true,\"lakecolor\":\"white\"},\"title\":{\"x\":0.05},\"mapbox\":{\"style\":\"light\"}}},\"xaxis\":{\"anchor\":\"y\",\"domain\":[0.0,1.0],\"title\":{\"text\":\"Weekday\"}},\"yaxis\":{\"anchor\":\"x\",\"domain\":[0.0,1.0],\"title\":{\"text\":\"Total Sales\"}},\"legend\":{\"tracegroupgap\":0},\"title\":{\"text\":\"Total Sales by Weekday (All Years)\"},\"barmode\":\"relative\"},                        {\"responsive\": true}                    ).then(function(){\n",
              "                            \n",
              "var gd = document.getElementById('e02575ac-60be-47d2-b758-35e4036a4db6');\n",
              "var x = new MutationObserver(function (mutations, observer) {{\n",
              "        var display = window.getComputedStyle(gd).display;\n",
              "        if (!display || display === 'none') {{\n",
              "            console.log([gd, 'removed!']);\n",
              "            Plotly.purge(gd);\n",
              "            observer.disconnect();\n",
              "        }}\n",
              "}});\n",
              "\n",
              "// Listen for the removal of the full notebook cells\n",
              "var notebookContainer = gd.closest('#notebook-container');\n",
              "if (notebookContainer) {{\n",
              "    x.observe(notebookContainer, {childList: true});\n",
              "}}\n",
              "\n",
              "// Listen for the clearing of the current output cell\n",
              "var outputEl = gd.closest('.output');\n",
              "if (outputEl) {{\n",
              "    x.observe(outputEl, {childList: true});\n",
              "}}\n",
              "\n",
              "                        })                };                            </script>        </div>\n",
              "</body>\n",
              "</html>"
            ]
          },
          "metadata": {}
        }
      ],
      "source": [
        "# 1. Group by Weekdaysort for all data\n",
        "# Starting from Monday, since the dataset considers Monday as the first day of the week.\n",
        "sort_keys, inv_weekdays = np.unique(weekday_sort, return_inverse=True)\n",
        "print(sort_keys, inv_weekdays)\n",
        "total_sales_by_sort = np.zeros(sort_keys.shape[0], dtype=float)\n",
        "for i, amt in enumerate(money):\n",
        "    total_sales_by_sort[inv_weekdays[i]] += amt\n",
        "\n",
        "# 2. pick a representative weekday label for each sort key (first occurrence)\n",
        "labels_by_sort = np.array([weekday_str[weekday_sort == k][0] for k in sort_keys])\n",
        "print(\"days sorted: \", labels_by_sort)\n",
        "print(\"total sales sorted from the max till min: \", total_sales_by_sort)\n",
        "\n",
        "# 3. finding the result\n",
        "max_idx = int(np.argmax(total_sales_by_sort))\n",
        "day_with_most_sales = labels_by_sort[max_idx]\n",
        "total_on_that_day = float(total_sales_by_sort[max_idx])\n",
        "\n",
        "print(\"Day with most total sales:\", day_with_most_sales)\n",
        "print(\"Total sales on that day:\", round(total_on_that_day, 2))\n",
        "\n",
        "# Visualization Using Plotly\n",
        "fig = px.bar(\n",
        "    x=labels_by_sort,\n",
        "    y=total_sales_by_sort,\n",
        "    labels={\"x\": \"Weekday\", \"y\": \"Total Sales\"},\n",
        "    title=\"Total Sales by Weekday (All Years)\"\n",
        ")\n",
        "fig.update_layout(xaxis_title=\"Weekday\", yaxis_title=\"Total Sales\")\n",
        "fig.show()\n",
        "\n",
        "\n",
        "\n"
      ]
    },
    {
      "cell_type": "markdown",
      "id": "a3bf8591",
      "metadata": {
        "id": "a3bf8591"
      },
      "source": [
        "### 2- What is the most popular coffee type by number of orders?\n",
        "\n"
      ]
    },
    {
      "cell_type": "code",
      "execution_count": 12,
      "id": "d0d04a87",
      "metadata": {
        "colab": {
          "base_uri": "https://localhost:8080/",
          "height": 716
        },
        "id": "d0d04a87",
        "outputId": "1ed1cc9f-6d3f-4621-ed29-3bcea6c898b7"
      },
      "outputs": [
        {
          "output_type": "stream",
          "name": "stdout",
          "text": [
            "Most popular coffee: Americano with Milk\n",
            "Number of orders: 809\n",
            "Americano with Milk: 809\n",
            "Latte: 757\n",
            "Americano: 564\n",
            "Cappuccino: 486\n",
            "Cortado: 287\n",
            "Hot Chocolate: 276\n",
            "Cocoa: 239\n",
            "Espresso: 129\n"
          ]
        },
        {
          "output_type": "display_data",
          "data": {
            "text/html": [
              "<html>\n",
              "<head><meta charset=\"utf-8\" /></head>\n",
              "<body>\n",
              "    <div>            <script src=\"https://cdnjs.cloudflare.com/ajax/libs/mathjax/2.7.5/MathJax.js?config=TeX-AMS-MML_SVG\"></script><script type=\"text/javascript\">if (window.MathJax && window.MathJax.Hub && window.MathJax.Hub.Config) {window.MathJax.Hub.Config({SVG: {font: \"STIX-Web\"}});}</script>                <script type=\"text/javascript\">window.PlotlyConfig = {MathJaxConfig: 'local'};</script>\n",
              "        <script charset=\"utf-8\" src=\"https://cdn.plot.ly/plotly-2.35.2.min.js\"></script>                <div id=\"21d58f45-0ee4-44a0-a162-7462c050e948\" class=\"plotly-graph-div\" style=\"height:525px; width:100%;\"></div>            <script type=\"text/javascript\">                                    window.PLOTLYENV=window.PLOTLYENV || {};                                    if (document.getElementById(\"21d58f45-0ee4-44a0-a162-7462c050e948\")) {                    Plotly.newPlot(                        \"21d58f45-0ee4-44a0-a162-7462c050e948\",                        [{\"alignmentgroup\":\"True\",\"hovertemplate\":\"Coffee Type=%{x}\\u003cbr\\u003eNumber of Orders=%{y}\\u003cextra\\u003e\\u003c\\u002fextra\\u003e\",\"legendgroup\":\"\",\"marker\":{\"color\":\"#636efa\",\"pattern\":{\"shape\":\"\"}},\"name\":\"\",\"offsetgroup\":\"\",\"orientation\":\"v\",\"showlegend\":false,\"textposition\":\"auto\",\"x\":[\"Americano with Milk\",\"Latte\",\"Americano\",\"Cappuccino\",\"Cortado\",\"Hot Chocolate\",\"Cocoa\",\"Espresso\"],\"xaxis\":\"x\",\"y\":[809,757,564,486,287,276,239,129],\"yaxis\":\"y\",\"type\":\"bar\"}],                        {\"template\":{\"data\":{\"histogram2dcontour\":[{\"type\":\"histogram2dcontour\",\"colorbar\":{\"outlinewidth\":0,\"ticks\":\"\"},\"colorscale\":[[0.0,\"#0d0887\"],[0.1111111111111111,\"#46039f\"],[0.2222222222222222,\"#7201a8\"],[0.3333333333333333,\"#9c179e\"],[0.4444444444444444,\"#bd3786\"],[0.5555555555555556,\"#d8576b\"],[0.6666666666666666,\"#ed7953\"],[0.7777777777777778,\"#fb9f3a\"],[0.8888888888888888,\"#fdca26\"],[1.0,\"#f0f921\"]]}],\"choropleth\":[{\"type\":\"choropleth\",\"colorbar\":{\"outlinewidth\":0,\"ticks\":\"\"}}],\"histogram2d\":[{\"type\":\"histogram2d\",\"colorbar\":{\"outlinewidth\":0,\"ticks\":\"\"},\"colorscale\":[[0.0,\"#0d0887\"],[0.1111111111111111,\"#46039f\"],[0.2222222222222222,\"#7201a8\"],[0.3333333333333333,\"#9c179e\"],[0.4444444444444444,\"#bd3786\"],[0.5555555555555556,\"#d8576b\"],[0.6666666666666666,\"#ed7953\"],[0.7777777777777778,\"#fb9f3a\"],[0.8888888888888888,\"#fdca26\"],[1.0,\"#f0f921\"]]}],\"heatmap\":[{\"type\":\"heatmap\",\"colorbar\":{\"outlinewidth\":0,\"ticks\":\"\"},\"colorscale\":[[0.0,\"#0d0887\"],[0.1111111111111111,\"#46039f\"],[0.2222222222222222,\"#7201a8\"],[0.3333333333333333,\"#9c179e\"],[0.4444444444444444,\"#bd3786\"],[0.5555555555555556,\"#d8576b\"],[0.6666666666666666,\"#ed7953\"],[0.7777777777777778,\"#fb9f3a\"],[0.8888888888888888,\"#fdca26\"],[1.0,\"#f0f921\"]]}],\"heatmapgl\":[{\"type\":\"heatmapgl\",\"colorbar\":{\"outlinewidth\":0,\"ticks\":\"\"},\"colorscale\":[[0.0,\"#0d0887\"],[0.1111111111111111,\"#46039f\"],[0.2222222222222222,\"#7201a8\"],[0.3333333333333333,\"#9c179e\"],[0.4444444444444444,\"#bd3786\"],[0.5555555555555556,\"#d8576b\"],[0.6666666666666666,\"#ed7953\"],[0.7777777777777778,\"#fb9f3a\"],[0.8888888888888888,\"#fdca26\"],[1.0,\"#f0f921\"]]}],\"contourcarpet\":[{\"type\":\"contourcarpet\",\"colorbar\":{\"outlinewidth\":0,\"ticks\":\"\"}}],\"contour\":[{\"type\":\"contour\",\"colorbar\":{\"outlinewidth\":0,\"ticks\":\"\"},\"colorscale\":[[0.0,\"#0d0887\"],[0.1111111111111111,\"#46039f\"],[0.2222222222222222,\"#7201a8\"],[0.3333333333333333,\"#9c179e\"],[0.4444444444444444,\"#bd3786\"],[0.5555555555555556,\"#d8576b\"],[0.6666666666666666,\"#ed7953\"],[0.7777777777777778,\"#fb9f3a\"],[0.8888888888888888,\"#fdca26\"],[1.0,\"#f0f921\"]]}],\"surface\":[{\"type\":\"surface\",\"colorbar\":{\"outlinewidth\":0,\"ticks\":\"\"},\"colorscale\":[[0.0,\"#0d0887\"],[0.1111111111111111,\"#46039f\"],[0.2222222222222222,\"#7201a8\"],[0.3333333333333333,\"#9c179e\"],[0.4444444444444444,\"#bd3786\"],[0.5555555555555556,\"#d8576b\"],[0.6666666666666666,\"#ed7953\"],[0.7777777777777778,\"#fb9f3a\"],[0.8888888888888888,\"#fdca26\"],[1.0,\"#f0f921\"]]}],\"mesh3d\":[{\"type\":\"mesh3d\",\"colorbar\":{\"outlinewidth\":0,\"ticks\":\"\"}}],\"scatter\":[{\"fillpattern\":{\"fillmode\":\"overlay\",\"size\":10,\"solidity\":0.2},\"type\":\"scatter\"}],\"parcoords\":[{\"type\":\"parcoords\",\"line\":{\"colorbar\":{\"outlinewidth\":0,\"ticks\":\"\"}}}],\"scatterpolargl\":[{\"type\":\"scatterpolargl\",\"marker\":{\"colorbar\":{\"outlinewidth\":0,\"ticks\":\"\"}}}],\"bar\":[{\"error_x\":{\"color\":\"#2a3f5f\"},\"error_y\":{\"color\":\"#2a3f5f\"},\"marker\":{\"line\":{\"color\":\"#E5ECF6\",\"width\":0.5},\"pattern\":{\"fillmode\":\"overlay\",\"size\":10,\"solidity\":0.2}},\"type\":\"bar\"}],\"scattergeo\":[{\"type\":\"scattergeo\",\"marker\":{\"colorbar\":{\"outlinewidth\":0,\"ticks\":\"\"}}}],\"scatterpolar\":[{\"type\":\"scatterpolar\",\"marker\":{\"colorbar\":{\"outlinewidth\":0,\"ticks\":\"\"}}}],\"histogram\":[{\"marker\":{\"pattern\":{\"fillmode\":\"overlay\",\"size\":10,\"solidity\":0.2}},\"type\":\"histogram\"}],\"scattergl\":[{\"type\":\"scattergl\",\"marker\":{\"colorbar\":{\"outlinewidth\":0,\"ticks\":\"\"}}}],\"scatter3d\":[{\"type\":\"scatter3d\",\"line\":{\"colorbar\":{\"outlinewidth\":0,\"ticks\":\"\"}},\"marker\":{\"colorbar\":{\"outlinewidth\":0,\"ticks\":\"\"}}}],\"scattermapbox\":[{\"type\":\"scattermapbox\",\"marker\":{\"colorbar\":{\"outlinewidth\":0,\"ticks\":\"\"}}}],\"scatterternary\":[{\"type\":\"scatterternary\",\"marker\":{\"colorbar\":{\"outlinewidth\":0,\"ticks\":\"\"}}}],\"scattercarpet\":[{\"type\":\"scattercarpet\",\"marker\":{\"colorbar\":{\"outlinewidth\":0,\"ticks\":\"\"}}}],\"carpet\":[{\"aaxis\":{\"endlinecolor\":\"#2a3f5f\",\"gridcolor\":\"white\",\"linecolor\":\"white\",\"minorgridcolor\":\"white\",\"startlinecolor\":\"#2a3f5f\"},\"baxis\":{\"endlinecolor\":\"#2a3f5f\",\"gridcolor\":\"white\",\"linecolor\":\"white\",\"minorgridcolor\":\"white\",\"startlinecolor\":\"#2a3f5f\"},\"type\":\"carpet\"}],\"table\":[{\"cells\":{\"fill\":{\"color\":\"#EBF0F8\"},\"line\":{\"color\":\"white\"}},\"header\":{\"fill\":{\"color\":\"#C8D4E3\"},\"line\":{\"color\":\"white\"}},\"type\":\"table\"}],\"barpolar\":[{\"marker\":{\"line\":{\"color\":\"#E5ECF6\",\"width\":0.5},\"pattern\":{\"fillmode\":\"overlay\",\"size\":10,\"solidity\":0.2}},\"type\":\"barpolar\"}],\"pie\":[{\"automargin\":true,\"type\":\"pie\"}]},\"layout\":{\"autotypenumbers\":\"strict\",\"colorway\":[\"#636efa\",\"#EF553B\",\"#00cc96\",\"#ab63fa\",\"#FFA15A\",\"#19d3f3\",\"#FF6692\",\"#B6E880\",\"#FF97FF\",\"#FECB52\"],\"font\":{\"color\":\"#2a3f5f\"},\"hovermode\":\"closest\",\"hoverlabel\":{\"align\":\"left\"},\"paper_bgcolor\":\"white\",\"plot_bgcolor\":\"#E5ECF6\",\"polar\":{\"bgcolor\":\"#E5ECF6\",\"angularaxis\":{\"gridcolor\":\"white\",\"linecolor\":\"white\",\"ticks\":\"\"},\"radialaxis\":{\"gridcolor\":\"white\",\"linecolor\":\"white\",\"ticks\":\"\"}},\"ternary\":{\"bgcolor\":\"#E5ECF6\",\"aaxis\":{\"gridcolor\":\"white\",\"linecolor\":\"white\",\"ticks\":\"\"},\"baxis\":{\"gridcolor\":\"white\",\"linecolor\":\"white\",\"ticks\":\"\"},\"caxis\":{\"gridcolor\":\"white\",\"linecolor\":\"white\",\"ticks\":\"\"}},\"coloraxis\":{\"colorbar\":{\"outlinewidth\":0,\"ticks\":\"\"}},\"colorscale\":{\"sequential\":[[0.0,\"#0d0887\"],[0.1111111111111111,\"#46039f\"],[0.2222222222222222,\"#7201a8\"],[0.3333333333333333,\"#9c179e\"],[0.4444444444444444,\"#bd3786\"],[0.5555555555555556,\"#d8576b\"],[0.6666666666666666,\"#ed7953\"],[0.7777777777777778,\"#fb9f3a\"],[0.8888888888888888,\"#fdca26\"],[1.0,\"#f0f921\"]],\"sequentialminus\":[[0.0,\"#0d0887\"],[0.1111111111111111,\"#46039f\"],[0.2222222222222222,\"#7201a8\"],[0.3333333333333333,\"#9c179e\"],[0.4444444444444444,\"#bd3786\"],[0.5555555555555556,\"#d8576b\"],[0.6666666666666666,\"#ed7953\"],[0.7777777777777778,\"#fb9f3a\"],[0.8888888888888888,\"#fdca26\"],[1.0,\"#f0f921\"]],\"diverging\":[[0,\"#8e0152\"],[0.1,\"#c51b7d\"],[0.2,\"#de77ae\"],[0.3,\"#f1b6da\"],[0.4,\"#fde0ef\"],[0.5,\"#f7f7f7\"],[0.6,\"#e6f5d0\"],[0.7,\"#b8e186\"],[0.8,\"#7fbc41\"],[0.9,\"#4d9221\"],[1,\"#276419\"]]},\"xaxis\":{\"gridcolor\":\"white\",\"linecolor\":\"white\",\"ticks\":\"\",\"title\":{\"standoff\":15},\"zerolinecolor\":\"white\",\"automargin\":true,\"zerolinewidth\":2},\"yaxis\":{\"gridcolor\":\"white\",\"linecolor\":\"white\",\"ticks\":\"\",\"title\":{\"standoff\":15},\"zerolinecolor\":\"white\",\"automargin\":true,\"zerolinewidth\":2},\"scene\":{\"xaxis\":{\"backgroundcolor\":\"#E5ECF6\",\"gridcolor\":\"white\",\"linecolor\":\"white\",\"showbackground\":true,\"ticks\":\"\",\"zerolinecolor\":\"white\",\"gridwidth\":2},\"yaxis\":{\"backgroundcolor\":\"#E5ECF6\",\"gridcolor\":\"white\",\"linecolor\":\"white\",\"showbackground\":true,\"ticks\":\"\",\"zerolinecolor\":\"white\",\"gridwidth\":2},\"zaxis\":{\"backgroundcolor\":\"#E5ECF6\",\"gridcolor\":\"white\",\"linecolor\":\"white\",\"showbackground\":true,\"ticks\":\"\",\"zerolinecolor\":\"white\",\"gridwidth\":2}},\"shapedefaults\":{\"line\":{\"color\":\"#2a3f5f\"}},\"annotationdefaults\":{\"arrowcolor\":\"#2a3f5f\",\"arrowhead\":0,\"arrowwidth\":1},\"geo\":{\"bgcolor\":\"white\",\"landcolor\":\"#E5ECF6\",\"subunitcolor\":\"white\",\"showland\":true,\"showlakes\":true,\"lakecolor\":\"white\"},\"title\":{\"x\":0.05},\"mapbox\":{\"style\":\"light\"}}},\"xaxis\":{\"anchor\":\"y\",\"domain\":[0.0,1.0],\"title\":{\"text\":\"Coffee Type\"}},\"yaxis\":{\"anchor\":\"x\",\"domain\":[0.0,1.0],\"title\":{\"text\":\"Orders\"}},\"legend\":{\"tracegroupgap\":0},\"title\":{\"text\":\"Coffee Popularity (Order Count)\"},\"barmode\":\"relative\"},                        {\"responsive\": true}                    ).then(function(){\n",
              "                            \n",
              "var gd = document.getElementById('21d58f45-0ee4-44a0-a162-7462c050e948');\n",
              "var x = new MutationObserver(function (mutations, observer) {{\n",
              "        var display = window.getComputedStyle(gd).display;\n",
              "        if (!display || display === 'none') {{\n",
              "            console.log([gd, 'removed!']);\n",
              "            Plotly.purge(gd);\n",
              "            observer.disconnect();\n",
              "        }}\n",
              "}});\n",
              "\n",
              "// Listen for the removal of the full notebook cells\n",
              "var notebookContainer = gd.closest('#notebook-container');\n",
              "if (notebookContainer) {{\n",
              "    x.observe(notebookContainer, {childList: true});\n",
              "}}\n",
              "\n",
              "// Listen for the clearing of the current output cell\n",
              "var outputEl = gd.closest('.output');\n",
              "if (outputEl) {{\n",
              "    x.observe(outputEl, {childList: true});\n",
              "}}\n",
              "\n",
              "                        })                };                            </script>        </div>\n",
              "</body>\n",
              "</html>"
            ]
          },
          "metadata": {}
        }
      ],
      "source": [
        "# 1. Declearing the variables\n",
        "fav_coffee, coffee_counts = np.unique(coffee, return_counts=True)\n",
        "# 2. Finding the most ordered coffe by name and count\n",
        "top_idx = int(np.argmax(coffee_counts))\n",
        "most_popular_coffee = fav_coffee[top_idx]\n",
        "most_popular_count  = int(coffee_counts[top_idx])\n",
        "\n",
        "print(\"Most popular coffee:\", most_popular_coffee)\n",
        "print(\"Number of orders:\", most_popular_count)\n",
        "\n",
        "# 2. Sorting to start with largest number (descending)\n",
        "order = np.argsort(coffee_counts)[::-1]\n",
        "coffee_sorted = fav_coffee[order]\n",
        "counts_sorted = coffee_counts[order]\n",
        "\n",
        "# 3. Use a loop to neatly display each coffee type with its order count\n",
        "for coffee, count in zip(coffee_sorted, counts_sorted):\n",
        "    print(f\"{coffee}: {count}\")\n",
        "\n",
        "\n",
        "# Visualization Using Plotly\n",
        "fig = px.bar(\n",
        "    x=coffee_sorted,\n",
        "    y=counts_sorted,\n",
        "    labels={\"x\": \"Coffee Type\", \"y\": \"Number of Orders\"},\n",
        "    title=\"Coffee Popularity (Order Count)\"\n",
        ")\n",
        "fig.update_layout(xaxis_title=\"Coffee Type\", yaxis_title=\"Orders\")\n",
        "fig.show()\n"
      ]
    },
    {
      "cell_type": "markdown",
      "id": "4d871ec7",
      "metadata": {
        "id": "4d871ec7"
      },
      "source": [
        "### 3- What is the average money spent in the morning vs afternoon vs evening?"
      ]
    },
    {
      "cell_type": "code",
      "execution_count": 24,
      "id": "95df57e8",
      "metadata": {
        "colab": {
          "base_uri": "https://localhost:8080/",
          "height": 611
        },
        "id": "95df57e8",
        "outputId": "19cb9f35-6e86-427f-cf5b-7b2ca68d37e4"
      },
      "outputs": [
        {
          "output_type": "stream",
          "name": "stdout",
          "text": [
            "Average spending by time of day:\n",
            "Morning: 30.42\n",
            "Afternoon: 31.64\n",
            "Night: 32.89\n"
          ]
        },
        {
          "output_type": "display_data",
          "data": {
            "text/html": [
              "<html>\n",
              "<head><meta charset=\"utf-8\" /></head>\n",
              "<body>\n",
              "    <div>            <script src=\"https://cdnjs.cloudflare.com/ajax/libs/mathjax/2.7.5/MathJax.js?config=TeX-AMS-MML_SVG\"></script><script type=\"text/javascript\">if (window.MathJax && window.MathJax.Hub && window.MathJax.Hub.Config) {window.MathJax.Hub.Config({SVG: {font: \"STIX-Web\"}});}</script>                <script type=\"text/javascript\">window.PlotlyConfig = {MathJaxConfig: 'local'};</script>\n",
              "        <script charset=\"utf-8\" src=\"https://cdn.plot.ly/plotly-2.35.2.min.js\"></script>                <div id=\"56d1266b-625e-4300-bec8-f096be53e35f\" class=\"plotly-graph-div\" style=\"height:525px; width:100%;\"></div>            <script type=\"text/javascript\">                                    window.PLOTLYENV=window.PLOTLYENV || {};                                    if (document.getElementById(\"56d1266b-625e-4300-bec8-f096be53e35f\")) {                    Plotly.newPlot(                        \"56d1266b-625e-4300-bec8-f096be53e35f\",                        [{\"alignmentgroup\":\"True\",\"hovertemplate\":\"Time of Day=%{x}\\u003cbr\\u003eAverage Money Spent=%{y}\\u003cextra\\u003e\\u003c\\u002fextra\\u003e\",\"legendgroup\":\"\",\"marker\":{\"color\":\"#636efa\",\"pattern\":{\"shape\":\"\"}},\"name\":\"\",\"offsetgroup\":\"\",\"orientation\":\"v\",\"showlegend\":false,\"textposition\":\"auto\",\"x\":[\"Morning\",\"Afternoon\",\"Night\"],\"xaxis\":\"x\",\"y\":[30.42269263336156,31.6431867219917,32.89090439276485],\"yaxis\":\"y\",\"type\":\"bar\"}],                        {\"template\":{\"data\":{\"histogram2dcontour\":[{\"type\":\"histogram2dcontour\",\"colorbar\":{\"outlinewidth\":0,\"ticks\":\"\"},\"colorscale\":[[0.0,\"#0d0887\"],[0.1111111111111111,\"#46039f\"],[0.2222222222222222,\"#7201a8\"],[0.3333333333333333,\"#9c179e\"],[0.4444444444444444,\"#bd3786\"],[0.5555555555555556,\"#d8576b\"],[0.6666666666666666,\"#ed7953\"],[0.7777777777777778,\"#fb9f3a\"],[0.8888888888888888,\"#fdca26\"],[1.0,\"#f0f921\"]]}],\"choropleth\":[{\"type\":\"choropleth\",\"colorbar\":{\"outlinewidth\":0,\"ticks\":\"\"}}],\"histogram2d\":[{\"type\":\"histogram2d\",\"colorbar\":{\"outlinewidth\":0,\"ticks\":\"\"},\"colorscale\":[[0.0,\"#0d0887\"],[0.1111111111111111,\"#46039f\"],[0.2222222222222222,\"#7201a8\"],[0.3333333333333333,\"#9c179e\"],[0.4444444444444444,\"#bd3786\"],[0.5555555555555556,\"#d8576b\"],[0.6666666666666666,\"#ed7953\"],[0.7777777777777778,\"#fb9f3a\"],[0.8888888888888888,\"#fdca26\"],[1.0,\"#f0f921\"]]}],\"heatmap\":[{\"type\":\"heatmap\",\"colorbar\":{\"outlinewidth\":0,\"ticks\":\"\"},\"colorscale\":[[0.0,\"#0d0887\"],[0.1111111111111111,\"#46039f\"],[0.2222222222222222,\"#7201a8\"],[0.3333333333333333,\"#9c179e\"],[0.4444444444444444,\"#bd3786\"],[0.5555555555555556,\"#d8576b\"],[0.6666666666666666,\"#ed7953\"],[0.7777777777777778,\"#fb9f3a\"],[0.8888888888888888,\"#fdca26\"],[1.0,\"#f0f921\"]]}],\"heatmapgl\":[{\"type\":\"heatmapgl\",\"colorbar\":{\"outlinewidth\":0,\"ticks\":\"\"},\"colorscale\":[[0.0,\"#0d0887\"],[0.1111111111111111,\"#46039f\"],[0.2222222222222222,\"#7201a8\"],[0.3333333333333333,\"#9c179e\"],[0.4444444444444444,\"#bd3786\"],[0.5555555555555556,\"#d8576b\"],[0.6666666666666666,\"#ed7953\"],[0.7777777777777778,\"#fb9f3a\"],[0.8888888888888888,\"#fdca26\"],[1.0,\"#f0f921\"]]}],\"contourcarpet\":[{\"type\":\"contourcarpet\",\"colorbar\":{\"outlinewidth\":0,\"ticks\":\"\"}}],\"contour\":[{\"type\":\"contour\",\"colorbar\":{\"outlinewidth\":0,\"ticks\":\"\"},\"colorscale\":[[0.0,\"#0d0887\"],[0.1111111111111111,\"#46039f\"],[0.2222222222222222,\"#7201a8\"],[0.3333333333333333,\"#9c179e\"],[0.4444444444444444,\"#bd3786\"],[0.5555555555555556,\"#d8576b\"],[0.6666666666666666,\"#ed7953\"],[0.7777777777777778,\"#fb9f3a\"],[0.8888888888888888,\"#fdca26\"],[1.0,\"#f0f921\"]]}],\"surface\":[{\"type\":\"surface\",\"colorbar\":{\"outlinewidth\":0,\"ticks\":\"\"},\"colorscale\":[[0.0,\"#0d0887\"],[0.1111111111111111,\"#46039f\"],[0.2222222222222222,\"#7201a8\"],[0.3333333333333333,\"#9c179e\"],[0.4444444444444444,\"#bd3786\"],[0.5555555555555556,\"#d8576b\"],[0.6666666666666666,\"#ed7953\"],[0.7777777777777778,\"#fb9f3a\"],[0.8888888888888888,\"#fdca26\"],[1.0,\"#f0f921\"]]}],\"mesh3d\":[{\"type\":\"mesh3d\",\"colorbar\":{\"outlinewidth\":0,\"ticks\":\"\"}}],\"scatter\":[{\"fillpattern\":{\"fillmode\":\"overlay\",\"size\":10,\"solidity\":0.2},\"type\":\"scatter\"}],\"parcoords\":[{\"type\":\"parcoords\",\"line\":{\"colorbar\":{\"outlinewidth\":0,\"ticks\":\"\"}}}],\"scatterpolargl\":[{\"type\":\"scatterpolargl\",\"marker\":{\"colorbar\":{\"outlinewidth\":0,\"ticks\":\"\"}}}],\"bar\":[{\"error_x\":{\"color\":\"#2a3f5f\"},\"error_y\":{\"color\":\"#2a3f5f\"},\"marker\":{\"line\":{\"color\":\"#E5ECF6\",\"width\":0.5},\"pattern\":{\"fillmode\":\"overlay\",\"size\":10,\"solidity\":0.2}},\"type\":\"bar\"}],\"scattergeo\":[{\"type\":\"scattergeo\",\"marker\":{\"colorbar\":{\"outlinewidth\":0,\"ticks\":\"\"}}}],\"scatterpolar\":[{\"type\":\"scatterpolar\",\"marker\":{\"colorbar\":{\"outlinewidth\":0,\"ticks\":\"\"}}}],\"histogram\":[{\"marker\":{\"pattern\":{\"fillmode\":\"overlay\",\"size\":10,\"solidity\":0.2}},\"type\":\"histogram\"}],\"scattergl\":[{\"type\":\"scattergl\",\"marker\":{\"colorbar\":{\"outlinewidth\":0,\"ticks\":\"\"}}}],\"scatter3d\":[{\"type\":\"scatter3d\",\"line\":{\"colorbar\":{\"outlinewidth\":0,\"ticks\":\"\"}},\"marker\":{\"colorbar\":{\"outlinewidth\":0,\"ticks\":\"\"}}}],\"scattermapbox\":[{\"type\":\"scattermapbox\",\"marker\":{\"colorbar\":{\"outlinewidth\":0,\"ticks\":\"\"}}}],\"scatterternary\":[{\"type\":\"scatterternary\",\"marker\":{\"colorbar\":{\"outlinewidth\":0,\"ticks\":\"\"}}}],\"scattercarpet\":[{\"type\":\"scattercarpet\",\"marker\":{\"colorbar\":{\"outlinewidth\":0,\"ticks\":\"\"}}}],\"carpet\":[{\"aaxis\":{\"endlinecolor\":\"#2a3f5f\",\"gridcolor\":\"white\",\"linecolor\":\"white\",\"minorgridcolor\":\"white\",\"startlinecolor\":\"#2a3f5f\"},\"baxis\":{\"endlinecolor\":\"#2a3f5f\",\"gridcolor\":\"white\",\"linecolor\":\"white\",\"minorgridcolor\":\"white\",\"startlinecolor\":\"#2a3f5f\"},\"type\":\"carpet\"}],\"table\":[{\"cells\":{\"fill\":{\"color\":\"#EBF0F8\"},\"line\":{\"color\":\"white\"}},\"header\":{\"fill\":{\"color\":\"#C8D4E3\"},\"line\":{\"color\":\"white\"}},\"type\":\"table\"}],\"barpolar\":[{\"marker\":{\"line\":{\"color\":\"#E5ECF6\",\"width\":0.5},\"pattern\":{\"fillmode\":\"overlay\",\"size\":10,\"solidity\":0.2}},\"type\":\"barpolar\"}],\"pie\":[{\"automargin\":true,\"type\":\"pie\"}]},\"layout\":{\"autotypenumbers\":\"strict\",\"colorway\":[\"#636efa\",\"#EF553B\",\"#00cc96\",\"#ab63fa\",\"#FFA15A\",\"#19d3f3\",\"#FF6692\",\"#B6E880\",\"#FF97FF\",\"#FECB52\"],\"font\":{\"color\":\"#2a3f5f\"},\"hovermode\":\"closest\",\"hoverlabel\":{\"align\":\"left\"},\"paper_bgcolor\":\"white\",\"plot_bgcolor\":\"#E5ECF6\",\"polar\":{\"bgcolor\":\"#E5ECF6\",\"angularaxis\":{\"gridcolor\":\"white\",\"linecolor\":\"white\",\"ticks\":\"\"},\"radialaxis\":{\"gridcolor\":\"white\",\"linecolor\":\"white\",\"ticks\":\"\"}},\"ternary\":{\"bgcolor\":\"#E5ECF6\",\"aaxis\":{\"gridcolor\":\"white\",\"linecolor\":\"white\",\"ticks\":\"\"},\"baxis\":{\"gridcolor\":\"white\",\"linecolor\":\"white\",\"ticks\":\"\"},\"caxis\":{\"gridcolor\":\"white\",\"linecolor\":\"white\",\"ticks\":\"\"}},\"coloraxis\":{\"colorbar\":{\"outlinewidth\":0,\"ticks\":\"\"}},\"colorscale\":{\"sequential\":[[0.0,\"#0d0887\"],[0.1111111111111111,\"#46039f\"],[0.2222222222222222,\"#7201a8\"],[0.3333333333333333,\"#9c179e\"],[0.4444444444444444,\"#bd3786\"],[0.5555555555555556,\"#d8576b\"],[0.6666666666666666,\"#ed7953\"],[0.7777777777777778,\"#fb9f3a\"],[0.8888888888888888,\"#fdca26\"],[1.0,\"#f0f921\"]],\"sequentialminus\":[[0.0,\"#0d0887\"],[0.1111111111111111,\"#46039f\"],[0.2222222222222222,\"#7201a8\"],[0.3333333333333333,\"#9c179e\"],[0.4444444444444444,\"#bd3786\"],[0.5555555555555556,\"#d8576b\"],[0.6666666666666666,\"#ed7953\"],[0.7777777777777778,\"#fb9f3a\"],[0.8888888888888888,\"#fdca26\"],[1.0,\"#f0f921\"]],\"diverging\":[[0,\"#8e0152\"],[0.1,\"#c51b7d\"],[0.2,\"#de77ae\"],[0.3,\"#f1b6da\"],[0.4,\"#fde0ef\"],[0.5,\"#f7f7f7\"],[0.6,\"#e6f5d0\"],[0.7,\"#b8e186\"],[0.8,\"#7fbc41\"],[0.9,\"#4d9221\"],[1,\"#276419\"]]},\"xaxis\":{\"gridcolor\":\"white\",\"linecolor\":\"white\",\"ticks\":\"\",\"title\":{\"standoff\":15},\"zerolinecolor\":\"white\",\"automargin\":true,\"zerolinewidth\":2},\"yaxis\":{\"gridcolor\":\"white\",\"linecolor\":\"white\",\"ticks\":\"\",\"title\":{\"standoff\":15},\"zerolinecolor\":\"white\",\"automargin\":true,\"zerolinewidth\":2},\"scene\":{\"xaxis\":{\"backgroundcolor\":\"#E5ECF6\",\"gridcolor\":\"white\",\"linecolor\":\"white\",\"showbackground\":true,\"ticks\":\"\",\"zerolinecolor\":\"white\",\"gridwidth\":2},\"yaxis\":{\"backgroundcolor\":\"#E5ECF6\",\"gridcolor\":\"white\",\"linecolor\":\"white\",\"showbackground\":true,\"ticks\":\"\",\"zerolinecolor\":\"white\",\"gridwidth\":2},\"zaxis\":{\"backgroundcolor\":\"#E5ECF6\",\"gridcolor\":\"white\",\"linecolor\":\"white\",\"showbackground\":true,\"ticks\":\"\",\"zerolinecolor\":\"white\",\"gridwidth\":2}},\"shapedefaults\":{\"line\":{\"color\":\"#2a3f5f\"}},\"annotationdefaults\":{\"arrowcolor\":\"#2a3f5f\",\"arrowhead\":0,\"arrowwidth\":1},\"geo\":{\"bgcolor\":\"white\",\"landcolor\":\"#E5ECF6\",\"subunitcolor\":\"white\",\"showland\":true,\"showlakes\":true,\"lakecolor\":\"white\"},\"title\":{\"x\":0.05},\"mapbox\":{\"style\":\"light\"}}},\"xaxis\":{\"anchor\":\"y\",\"domain\":[0.0,1.0],\"title\":{\"text\":\"Time of Day\"}},\"yaxis\":{\"anchor\":\"x\",\"domain\":[0.0,1.0],\"title\":{\"text\":\"Average Spend\"}},\"legend\":{\"tracegroupgap\":0},\"title\":{\"text\":\"Average Spending by Time of Day\"},\"barmode\":\"relative\"},                        {\"responsive\": true}                    ).then(function(){\n",
              "                            \n",
              "var gd = document.getElementById('56d1266b-625e-4300-bec8-f096be53e35f');\n",
              "var x = new MutationObserver(function (mutations, observer) {{\n",
              "        var display = window.getComputedStyle(gd).display;\n",
              "        if (!display || display === 'none') {{\n",
              "            console.log([gd, 'removed!']);\n",
              "            Plotly.purge(gd);\n",
              "            observer.disconnect();\n",
              "        }}\n",
              "}});\n",
              "\n",
              "// Listen for the removal of the full notebook cells\n",
              "var notebookContainer = gd.closest('#notebook-container');\n",
              "if (notebookContainer) {{\n",
              "    x.observe(notebookContainer, {childList: true});\n",
              "}}\n",
              "\n",
              "// Listen for the clearing of the current output cell\n",
              "var outputEl = gd.closest('.output');\n",
              "if (outputEl) {{\n",
              "    x.observe(outputEl, {childList: true});\n",
              "}}\n",
              "\n",
              "                        })                };                            </script>        </div>\n",
              "</body>\n",
              "</html>"
            ]
          },
          "metadata": {}
        }
      ],
      "source": [
        "# 1. Declaring the variables\n",
        "period_of_time = np.array([\"Morning\", \"Afternoon\", \"Night\"])\n",
        "\n",
        "# Get arrays directly from the DataFrame to keep them aligned\n",
        "time_of_day = df[\"Time_of_Day\"].values\n",
        "money = df[\"money\"].values\n",
        "present = np.unique(time_of_day)\n",
        "\n",
        "# 2. Finding the averages per period of the day\n",
        "ordered_times = np.array(\n",
        "    [t for t in period_of_time if t in present] + [t for t in present if t not in period_of_time],\n",
        "    dtype=object\n",
        ")\n",
        "\n",
        "avg_spend = np.zeros(len(ordered_times), dtype=float)\n",
        "for i, t in enumerate(ordered_times):\n",
        "    mask = (time_of_day == t)\n",
        "    avg_spend[i] = np.mean(money[mask]) if np.any(mask) else np.nan\n",
        "\n",
        "# Print results\n",
        "print(\"Average spending by time of day:\")\n",
        "for t, a in zip(ordered_times, avg_spend):\n",
        "    print(f\"{t}: {np.round(a, 2)}\")\n",
        "\n",
        "# Visualization Using Plotly\n",
        "fig = px.bar(\n",
        "    x=ordered_times,\n",
        "    y=avg_spend,\n",
        "    labels={\"x\": \"Time of Day\", \"y\": \"Average Money Spent\"},\n",
        "    title=\"Average Spending by Time of Day\"\n",
        ")\n",
        "fig.update_layout(xaxis_title=\"Time of Day\", yaxis_title=\"Average Spend\")\n",
        "fig.show()\n",
        "\n"
      ]
    },
    {
      "cell_type": "markdown",
      "id": "ce807459",
      "metadata": {
        "id": "ce807459"
      },
      "source": [
        "### 4-Are weekends vs weekdays different in average sales?"
      ]
    },
    {
      "cell_type": "code",
      "execution_count": 14,
      "id": "6183f696",
      "metadata": {
        "colab": {
          "base_uri": "https://localhost:8080/",
          "height": 611
        },
        "id": "6183f696",
        "outputId": "a5609a75-76cd-44bb-92fa-9c1bbc7bd3e6"
      },
      "outputs": [
        {
          "output_type": "stream",
          "name": "stdout",
          "text": [
            "\n",
            "=== Average Sales: Weekday vs Weekend ===\n",
            "Weekday: 31.69\n",
            "Weekend: 31.58\n"
          ]
        },
        {
          "output_type": "display_data",
          "data": {
            "text/html": [
              "<html>\n",
              "<head><meta charset=\"utf-8\" /></head>\n",
              "<body>\n",
              "    <div>            <script src=\"https://cdnjs.cloudflare.com/ajax/libs/mathjax/2.7.5/MathJax.js?config=TeX-AMS-MML_SVG\"></script><script type=\"text/javascript\">if (window.MathJax && window.MathJax.Hub && window.MathJax.Hub.Config) {window.MathJax.Hub.Config({SVG: {font: \"STIX-Web\"}});}</script>                <script type=\"text/javascript\">window.PlotlyConfig = {MathJaxConfig: 'local'};</script>\n",
              "        <script charset=\"utf-8\" src=\"https://cdn.plot.ly/plotly-2.35.2.min.js\"></script>                <div id=\"a8c56d84-dde5-4851-acb6-6a60daf501b6\" class=\"plotly-graph-div\" style=\"height:525px; width:100%;\"></div>            <script type=\"text/javascript\">                                    window.PLOTLYENV=window.PLOTLYENV || {};                                    if (document.getElementById(\"a8c56d84-dde5-4851-acb6-6a60daf501b6\")) {                    Plotly.newPlot(                        \"a8c56d84-dde5-4851-acb6-6a60daf501b6\",                        [{\"customdata\":[[\"Weekday\"],[\"Weekend\"]],\"domain\":{\"x\":[0.0,1.0],\"y\":[0.0,1.0]},\"hovertemplate\":\"is_weekend=%{customdata[0]}\\u003cbr\\u003emoney=%{value}\\u003cextra\\u003e\\u003c\\u002fextra\\u003e\",\"labels\":[\"Weekday\",\"Weekend\"],\"legendgroup\":\"\",\"marker\":{\"colors\":[\"skyblue\",\"orange\"]},\"name\":\"\",\"showlegend\":true,\"values\":[31.690188146754465,31.577931034482756],\"type\":\"pie\",\"textinfo\":\"percent+label\",\"textposition\":\"inside\"}],                        {\"template\":{\"data\":{\"histogram2dcontour\":[{\"type\":\"histogram2dcontour\",\"colorbar\":{\"outlinewidth\":0,\"ticks\":\"\"},\"colorscale\":[[0.0,\"#0d0887\"],[0.1111111111111111,\"#46039f\"],[0.2222222222222222,\"#7201a8\"],[0.3333333333333333,\"#9c179e\"],[0.4444444444444444,\"#bd3786\"],[0.5555555555555556,\"#d8576b\"],[0.6666666666666666,\"#ed7953\"],[0.7777777777777778,\"#fb9f3a\"],[0.8888888888888888,\"#fdca26\"],[1.0,\"#f0f921\"]]}],\"choropleth\":[{\"type\":\"choropleth\",\"colorbar\":{\"outlinewidth\":0,\"ticks\":\"\"}}],\"histogram2d\":[{\"type\":\"histogram2d\",\"colorbar\":{\"outlinewidth\":0,\"ticks\":\"\"},\"colorscale\":[[0.0,\"#0d0887\"],[0.1111111111111111,\"#46039f\"],[0.2222222222222222,\"#7201a8\"],[0.3333333333333333,\"#9c179e\"],[0.4444444444444444,\"#bd3786\"],[0.5555555555555556,\"#d8576b\"],[0.6666666666666666,\"#ed7953\"],[0.7777777777777778,\"#fb9f3a\"],[0.8888888888888888,\"#fdca26\"],[1.0,\"#f0f921\"]]}],\"heatmap\":[{\"type\":\"heatmap\",\"colorbar\":{\"outlinewidth\":0,\"ticks\":\"\"},\"colorscale\":[[0.0,\"#0d0887\"],[0.1111111111111111,\"#46039f\"],[0.2222222222222222,\"#7201a8\"],[0.3333333333333333,\"#9c179e\"],[0.4444444444444444,\"#bd3786\"],[0.5555555555555556,\"#d8576b\"],[0.6666666666666666,\"#ed7953\"],[0.7777777777777778,\"#fb9f3a\"],[0.8888888888888888,\"#fdca26\"],[1.0,\"#f0f921\"]]}],\"heatmapgl\":[{\"type\":\"heatmapgl\",\"colorbar\":{\"outlinewidth\":0,\"ticks\":\"\"},\"colorscale\":[[0.0,\"#0d0887\"],[0.1111111111111111,\"#46039f\"],[0.2222222222222222,\"#7201a8\"],[0.3333333333333333,\"#9c179e\"],[0.4444444444444444,\"#bd3786\"],[0.5555555555555556,\"#d8576b\"],[0.6666666666666666,\"#ed7953\"],[0.7777777777777778,\"#fb9f3a\"],[0.8888888888888888,\"#fdca26\"],[1.0,\"#f0f921\"]]}],\"contourcarpet\":[{\"type\":\"contourcarpet\",\"colorbar\":{\"outlinewidth\":0,\"ticks\":\"\"}}],\"contour\":[{\"type\":\"contour\",\"colorbar\":{\"outlinewidth\":0,\"ticks\":\"\"},\"colorscale\":[[0.0,\"#0d0887\"],[0.1111111111111111,\"#46039f\"],[0.2222222222222222,\"#7201a8\"],[0.3333333333333333,\"#9c179e\"],[0.4444444444444444,\"#bd3786\"],[0.5555555555555556,\"#d8576b\"],[0.6666666666666666,\"#ed7953\"],[0.7777777777777778,\"#fb9f3a\"],[0.8888888888888888,\"#fdca26\"],[1.0,\"#f0f921\"]]}],\"surface\":[{\"type\":\"surface\",\"colorbar\":{\"outlinewidth\":0,\"ticks\":\"\"},\"colorscale\":[[0.0,\"#0d0887\"],[0.1111111111111111,\"#46039f\"],[0.2222222222222222,\"#7201a8\"],[0.3333333333333333,\"#9c179e\"],[0.4444444444444444,\"#bd3786\"],[0.5555555555555556,\"#d8576b\"],[0.6666666666666666,\"#ed7953\"],[0.7777777777777778,\"#fb9f3a\"],[0.8888888888888888,\"#fdca26\"],[1.0,\"#f0f921\"]]}],\"mesh3d\":[{\"type\":\"mesh3d\",\"colorbar\":{\"outlinewidth\":0,\"ticks\":\"\"}}],\"scatter\":[{\"fillpattern\":{\"fillmode\":\"overlay\",\"size\":10,\"solidity\":0.2},\"type\":\"scatter\"}],\"parcoords\":[{\"type\":\"parcoords\",\"line\":{\"colorbar\":{\"outlinewidth\":0,\"ticks\":\"\"}}}],\"scatterpolargl\":[{\"type\":\"scatterpolargl\",\"marker\":{\"colorbar\":{\"outlinewidth\":0,\"ticks\":\"\"}}}],\"bar\":[{\"error_x\":{\"color\":\"#2a3f5f\"},\"error_y\":{\"color\":\"#2a3f5f\"},\"marker\":{\"line\":{\"color\":\"#E5ECF6\",\"width\":0.5},\"pattern\":{\"fillmode\":\"overlay\",\"size\":10,\"solidity\":0.2}},\"type\":\"bar\"}],\"scattergeo\":[{\"type\":\"scattergeo\",\"marker\":{\"colorbar\":{\"outlinewidth\":0,\"ticks\":\"\"}}}],\"scatterpolar\":[{\"type\":\"scatterpolar\",\"marker\":{\"colorbar\":{\"outlinewidth\":0,\"ticks\":\"\"}}}],\"histogram\":[{\"marker\":{\"pattern\":{\"fillmode\":\"overlay\",\"size\":10,\"solidity\":0.2}},\"type\":\"histogram\"}],\"scattergl\":[{\"type\":\"scattergl\",\"marker\":{\"colorbar\":{\"outlinewidth\":0,\"ticks\":\"\"}}}],\"scatter3d\":[{\"type\":\"scatter3d\",\"line\":{\"colorbar\":{\"outlinewidth\":0,\"ticks\":\"\"}},\"marker\":{\"colorbar\":{\"outlinewidth\":0,\"ticks\":\"\"}}}],\"scattermapbox\":[{\"type\":\"scattermapbox\",\"marker\":{\"colorbar\":{\"outlinewidth\":0,\"ticks\":\"\"}}}],\"scatterternary\":[{\"type\":\"scatterternary\",\"marker\":{\"colorbar\":{\"outlinewidth\":0,\"ticks\":\"\"}}}],\"scattercarpet\":[{\"type\":\"scattercarpet\",\"marker\":{\"colorbar\":{\"outlinewidth\":0,\"ticks\":\"\"}}}],\"carpet\":[{\"aaxis\":{\"endlinecolor\":\"#2a3f5f\",\"gridcolor\":\"white\",\"linecolor\":\"white\",\"minorgridcolor\":\"white\",\"startlinecolor\":\"#2a3f5f\"},\"baxis\":{\"endlinecolor\":\"#2a3f5f\",\"gridcolor\":\"white\",\"linecolor\":\"white\",\"minorgridcolor\":\"white\",\"startlinecolor\":\"#2a3f5f\"},\"type\":\"carpet\"}],\"table\":[{\"cells\":{\"fill\":{\"color\":\"#EBF0F8\"},\"line\":{\"color\":\"white\"}},\"header\":{\"fill\":{\"color\":\"#C8D4E3\"},\"line\":{\"color\":\"white\"}},\"type\":\"table\"}],\"barpolar\":[{\"marker\":{\"line\":{\"color\":\"#E5ECF6\",\"width\":0.5},\"pattern\":{\"fillmode\":\"overlay\",\"size\":10,\"solidity\":0.2}},\"type\":\"barpolar\"}],\"pie\":[{\"automargin\":true,\"type\":\"pie\"}]},\"layout\":{\"autotypenumbers\":\"strict\",\"colorway\":[\"#636efa\",\"#EF553B\",\"#00cc96\",\"#ab63fa\",\"#FFA15A\",\"#19d3f3\",\"#FF6692\",\"#B6E880\",\"#FF97FF\",\"#FECB52\"],\"font\":{\"color\":\"#2a3f5f\"},\"hovermode\":\"closest\",\"hoverlabel\":{\"align\":\"left\"},\"paper_bgcolor\":\"white\",\"plot_bgcolor\":\"#E5ECF6\",\"polar\":{\"bgcolor\":\"#E5ECF6\",\"angularaxis\":{\"gridcolor\":\"white\",\"linecolor\":\"white\",\"ticks\":\"\"},\"radialaxis\":{\"gridcolor\":\"white\",\"linecolor\":\"white\",\"ticks\":\"\"}},\"ternary\":{\"bgcolor\":\"#E5ECF6\",\"aaxis\":{\"gridcolor\":\"white\",\"linecolor\":\"white\",\"ticks\":\"\"},\"baxis\":{\"gridcolor\":\"white\",\"linecolor\":\"white\",\"ticks\":\"\"},\"caxis\":{\"gridcolor\":\"white\",\"linecolor\":\"white\",\"ticks\":\"\"}},\"coloraxis\":{\"colorbar\":{\"outlinewidth\":0,\"ticks\":\"\"}},\"colorscale\":{\"sequential\":[[0.0,\"#0d0887\"],[0.1111111111111111,\"#46039f\"],[0.2222222222222222,\"#7201a8\"],[0.3333333333333333,\"#9c179e\"],[0.4444444444444444,\"#bd3786\"],[0.5555555555555556,\"#d8576b\"],[0.6666666666666666,\"#ed7953\"],[0.7777777777777778,\"#fb9f3a\"],[0.8888888888888888,\"#fdca26\"],[1.0,\"#f0f921\"]],\"sequentialminus\":[[0.0,\"#0d0887\"],[0.1111111111111111,\"#46039f\"],[0.2222222222222222,\"#7201a8\"],[0.3333333333333333,\"#9c179e\"],[0.4444444444444444,\"#bd3786\"],[0.5555555555555556,\"#d8576b\"],[0.6666666666666666,\"#ed7953\"],[0.7777777777777778,\"#fb9f3a\"],[0.8888888888888888,\"#fdca26\"],[1.0,\"#f0f921\"]],\"diverging\":[[0,\"#8e0152\"],[0.1,\"#c51b7d\"],[0.2,\"#de77ae\"],[0.3,\"#f1b6da\"],[0.4,\"#fde0ef\"],[0.5,\"#f7f7f7\"],[0.6,\"#e6f5d0\"],[0.7,\"#b8e186\"],[0.8,\"#7fbc41\"],[0.9,\"#4d9221\"],[1,\"#276419\"]]},\"xaxis\":{\"gridcolor\":\"white\",\"linecolor\":\"white\",\"ticks\":\"\",\"title\":{\"standoff\":15},\"zerolinecolor\":\"white\",\"automargin\":true,\"zerolinewidth\":2},\"yaxis\":{\"gridcolor\":\"white\",\"linecolor\":\"white\",\"ticks\":\"\",\"title\":{\"standoff\":15},\"zerolinecolor\":\"white\",\"automargin\":true,\"zerolinewidth\":2},\"scene\":{\"xaxis\":{\"backgroundcolor\":\"#E5ECF6\",\"gridcolor\":\"white\",\"linecolor\":\"white\",\"showbackground\":true,\"ticks\":\"\",\"zerolinecolor\":\"white\",\"gridwidth\":2},\"yaxis\":{\"backgroundcolor\":\"#E5ECF6\",\"gridcolor\":\"white\",\"linecolor\":\"white\",\"showbackground\":true,\"ticks\":\"\",\"zerolinecolor\":\"white\",\"gridwidth\":2},\"zaxis\":{\"backgroundcolor\":\"#E5ECF6\",\"gridcolor\":\"white\",\"linecolor\":\"white\",\"showbackground\":true,\"ticks\":\"\",\"zerolinecolor\":\"white\",\"gridwidth\":2}},\"shapedefaults\":{\"line\":{\"color\":\"#2a3f5f\"}},\"annotationdefaults\":{\"arrowcolor\":\"#2a3f5f\",\"arrowhead\":0,\"arrowwidth\":1},\"geo\":{\"bgcolor\":\"white\",\"landcolor\":\"#E5ECF6\",\"subunitcolor\":\"white\",\"showland\":true,\"showlakes\":true,\"lakecolor\":\"white\"},\"title\":{\"x\":0.05},\"mapbox\":{\"style\":\"light\"}}},\"legend\":{\"tracegroupgap\":0},\"title\":{\"text\":\"Average Sales: Weekdays vs Weekends\"}},                        {\"responsive\": true}                    ).then(function(){\n",
              "                            \n",
              "var gd = document.getElementById('a8c56d84-dde5-4851-acb6-6a60daf501b6');\n",
              "var x = new MutationObserver(function (mutations, observer) {{\n",
              "        var display = window.getComputedStyle(gd).display;\n",
              "        if (!display || display === 'none') {{\n",
              "            console.log([gd, 'removed!']);\n",
              "            Plotly.purge(gd);\n",
              "            observer.disconnect();\n",
              "        }}\n",
              "}});\n",
              "\n",
              "// Listen for the removal of the full notebook cells\n",
              "var notebookContainer = gd.closest('#notebook-container');\n",
              "if (notebookContainer) {{\n",
              "    x.observe(notebookContainer, {childList: true});\n",
              "}}\n",
              "\n",
              "// Listen for the clearing of the current output cell\n",
              "var outputEl = gd.closest('.output');\n",
              "if (outputEl) {{\n",
              "    x.observe(outputEl, {childList: true});\n",
              "}}\n",
              "\n",
              "                        })                };                            </script>        </div>\n",
              "</body>\n",
              "</html>"
            ]
          },
          "metadata": {}
        }
      ],
      "source": [
        "# 1. Create a new column for weekend flag\n",
        "df[\"is_weekend\"] = df[\"Weekdaysort\"].apply(lambda x: \"Weekend\" if x >= 5 else \"Weekday\")\n",
        "\n",
        "# 2. Calculate average spending for weekdays vs weekends\n",
        "avg_sales = df.groupby(\"is_weekend\")[\"money\"].mean().reset_index()\n",
        "\n",
        "print(\"\\n=== Average Sales: Weekday vs Weekend ===\")\n",
        "for row in avg_sales.itertuples(index=False):\n",
        "    print(f\"{row.is_weekend}: {round(row.money, 2)}\")\n",
        "\n",
        "# 3. Visualization\n",
        "fig = px.pie(\n",
        "    avg_sales,\n",
        "    names=\"is_weekend\",\n",
        "    values=\"money\",\n",
        "    color=\"is_weekend\",\n",
        "    color_discrete_map={\"Weekday\": \"skyblue\", \"Weekend\": \"orange\"},\n",
        "    title=\"Average Sales: Weekdays vs Weekends\"\n",
        ")\n",
        "\n",
        "fig.update_traces(textposition=\"inside\", textinfo=\"percent+label\")\n",
        "fig.show()\n"
      ]
    },
    {
      "cell_type": "markdown",
      "id": "51518183",
      "metadata": {
        "id": "51518183"
      },
      "source": [
        "### 5- Are there seasonal or monthly trends in coffee sales, and which months generate the highest revenue?  "
      ]
    },
    {
      "cell_type": "code",
      "execution_count": 15,
      "id": "4f68d3ea",
      "metadata": {
        "colab": {
          "base_uri": "https://localhost:8080/",
          "height": 1000
        },
        "id": "4f68d3ea",
        "outputId": "8f6b6ba0-52ed-4f0e-dcf5-265ed42c463e"
      },
      "outputs": [
        {
          "output_type": "stream",
          "name": "stdout",
          "text": [
            "\n",
            "=== Monthly Sales Analysis ===\n",
            "Month with highest total sales: Mar → 15891.64\n"
          ]
        },
        {
          "output_type": "display_data",
          "data": {
            "text/html": [
              "<html>\n",
              "<head><meta charset=\"utf-8\" /></head>\n",
              "<body>\n",
              "    <div>            <script src=\"https://cdnjs.cloudflare.com/ajax/libs/mathjax/2.7.5/MathJax.js?config=TeX-AMS-MML_SVG\"></script><script type=\"text/javascript\">if (window.MathJax && window.MathJax.Hub && window.MathJax.Hub.Config) {window.MathJax.Hub.Config({SVG: {font: \"STIX-Web\"}});}</script>                <script type=\"text/javascript\">window.PlotlyConfig = {MathJaxConfig: 'local'};</script>\n",
              "        <script charset=\"utf-8\" src=\"https://cdn.plot.ly/plotly-2.35.2.min.js\"></script>                <div id=\"3c4f992e-930e-4ae3-84a3-6660a6b77f9d\" class=\"plotly-graph-div\" style=\"height:525px; width:100%;\"></div>            <script type=\"text/javascript\">                                    window.PLOTLYENV=window.PLOTLYENV || {};                                    if (document.getElementById(\"3c4f992e-930e-4ae3-84a3-6660a6b77f9d\")) {                    Plotly.newPlot(                        \"3c4f992e-930e-4ae3-84a3-6660a6b77f9d\",                        [{\"hovertemplate\":\"Month=%{x}\\u003cbr\\u003eTotal Sales=%{y}\\u003cbr\\u003eMonth_name=%{text}\\u003cextra\\u003e\\u003c\\u002fextra\\u003e\",\"legendgroup\":\"\",\"line\":{\"color\":\"#636efa\",\"dash\":\"solid\"},\"marker\":{\"symbol\":\"circle\"},\"mode\":\"lines+markers+text\",\"name\":\"\",\"orientation\":\"v\",\"showlegend\":false,\"text\":[\"Jan\",\"Feb\",\"Mar\",\"Apr\",\"May\",\"Jun\",\"Jul\",\"Aug\",\"Sep\",\"Oct\",\"Nov\",\"Dec\"],\"x\":[1,2,3,4,5,6,7,8,9,10,11,12],\"xaxis\":\"x\",\"y\":[6398.86,13215.48,15891.64,5719.56,8164.42,7617.76,6915.9400000000005,7613.84,9988.64,13891.16,8590.539999999999,8237.74],\"yaxis\":\"y\",\"type\":\"scatter\",\"textposition\":\"top center\"}],                        {\"template\":{\"data\":{\"histogram2dcontour\":[{\"type\":\"histogram2dcontour\",\"colorbar\":{\"outlinewidth\":0,\"ticks\":\"\"},\"colorscale\":[[0.0,\"#0d0887\"],[0.1111111111111111,\"#46039f\"],[0.2222222222222222,\"#7201a8\"],[0.3333333333333333,\"#9c179e\"],[0.4444444444444444,\"#bd3786\"],[0.5555555555555556,\"#d8576b\"],[0.6666666666666666,\"#ed7953\"],[0.7777777777777778,\"#fb9f3a\"],[0.8888888888888888,\"#fdca26\"],[1.0,\"#f0f921\"]]}],\"choropleth\":[{\"type\":\"choropleth\",\"colorbar\":{\"outlinewidth\":0,\"ticks\":\"\"}}],\"histogram2d\":[{\"type\":\"histogram2d\",\"colorbar\":{\"outlinewidth\":0,\"ticks\":\"\"},\"colorscale\":[[0.0,\"#0d0887\"],[0.1111111111111111,\"#46039f\"],[0.2222222222222222,\"#7201a8\"],[0.3333333333333333,\"#9c179e\"],[0.4444444444444444,\"#bd3786\"],[0.5555555555555556,\"#d8576b\"],[0.6666666666666666,\"#ed7953\"],[0.7777777777777778,\"#fb9f3a\"],[0.8888888888888888,\"#fdca26\"],[1.0,\"#f0f921\"]]}],\"heatmap\":[{\"type\":\"heatmap\",\"colorbar\":{\"outlinewidth\":0,\"ticks\":\"\"},\"colorscale\":[[0.0,\"#0d0887\"],[0.1111111111111111,\"#46039f\"],[0.2222222222222222,\"#7201a8\"],[0.3333333333333333,\"#9c179e\"],[0.4444444444444444,\"#bd3786\"],[0.5555555555555556,\"#d8576b\"],[0.6666666666666666,\"#ed7953\"],[0.7777777777777778,\"#fb9f3a\"],[0.8888888888888888,\"#fdca26\"],[1.0,\"#f0f921\"]]}],\"heatmapgl\":[{\"type\":\"heatmapgl\",\"colorbar\":{\"outlinewidth\":0,\"ticks\":\"\"},\"colorscale\":[[0.0,\"#0d0887\"],[0.1111111111111111,\"#46039f\"],[0.2222222222222222,\"#7201a8\"],[0.3333333333333333,\"#9c179e\"],[0.4444444444444444,\"#bd3786\"],[0.5555555555555556,\"#d8576b\"],[0.6666666666666666,\"#ed7953\"],[0.7777777777777778,\"#fb9f3a\"],[0.8888888888888888,\"#fdca26\"],[1.0,\"#f0f921\"]]}],\"contourcarpet\":[{\"type\":\"contourcarpet\",\"colorbar\":{\"outlinewidth\":0,\"ticks\":\"\"}}],\"contour\":[{\"type\":\"contour\",\"colorbar\":{\"outlinewidth\":0,\"ticks\":\"\"},\"colorscale\":[[0.0,\"#0d0887\"],[0.1111111111111111,\"#46039f\"],[0.2222222222222222,\"#7201a8\"],[0.3333333333333333,\"#9c179e\"],[0.4444444444444444,\"#bd3786\"],[0.5555555555555556,\"#d8576b\"],[0.6666666666666666,\"#ed7953\"],[0.7777777777777778,\"#fb9f3a\"],[0.8888888888888888,\"#fdca26\"],[1.0,\"#f0f921\"]]}],\"surface\":[{\"type\":\"surface\",\"colorbar\":{\"outlinewidth\":0,\"ticks\":\"\"},\"colorscale\":[[0.0,\"#0d0887\"],[0.1111111111111111,\"#46039f\"],[0.2222222222222222,\"#7201a8\"],[0.3333333333333333,\"#9c179e\"],[0.4444444444444444,\"#bd3786\"],[0.5555555555555556,\"#d8576b\"],[0.6666666666666666,\"#ed7953\"],[0.7777777777777778,\"#fb9f3a\"],[0.8888888888888888,\"#fdca26\"],[1.0,\"#f0f921\"]]}],\"mesh3d\":[{\"type\":\"mesh3d\",\"colorbar\":{\"outlinewidth\":0,\"ticks\":\"\"}}],\"scatter\":[{\"fillpattern\":{\"fillmode\":\"overlay\",\"size\":10,\"solidity\":0.2},\"type\":\"scatter\"}],\"parcoords\":[{\"type\":\"parcoords\",\"line\":{\"colorbar\":{\"outlinewidth\":0,\"ticks\":\"\"}}}],\"scatterpolargl\":[{\"type\":\"scatterpolargl\",\"marker\":{\"colorbar\":{\"outlinewidth\":0,\"ticks\":\"\"}}}],\"bar\":[{\"error_x\":{\"color\":\"#2a3f5f\"},\"error_y\":{\"color\":\"#2a3f5f\"},\"marker\":{\"line\":{\"color\":\"#E5ECF6\",\"width\":0.5},\"pattern\":{\"fillmode\":\"overlay\",\"size\":10,\"solidity\":0.2}},\"type\":\"bar\"}],\"scattergeo\":[{\"type\":\"scattergeo\",\"marker\":{\"colorbar\":{\"outlinewidth\":0,\"ticks\":\"\"}}}],\"scatterpolar\":[{\"type\":\"scatterpolar\",\"marker\":{\"colorbar\":{\"outlinewidth\":0,\"ticks\":\"\"}}}],\"histogram\":[{\"marker\":{\"pattern\":{\"fillmode\":\"overlay\",\"size\":10,\"solidity\":0.2}},\"type\":\"histogram\"}],\"scattergl\":[{\"type\":\"scattergl\",\"marker\":{\"colorbar\":{\"outlinewidth\":0,\"ticks\":\"\"}}}],\"scatter3d\":[{\"type\":\"scatter3d\",\"line\":{\"colorbar\":{\"outlinewidth\":0,\"ticks\":\"\"}},\"marker\":{\"colorbar\":{\"outlinewidth\":0,\"ticks\":\"\"}}}],\"scattermapbox\":[{\"type\":\"scattermapbox\",\"marker\":{\"colorbar\":{\"outlinewidth\":0,\"ticks\":\"\"}}}],\"scatterternary\":[{\"type\":\"scatterternary\",\"marker\":{\"colorbar\":{\"outlinewidth\":0,\"ticks\":\"\"}}}],\"scattercarpet\":[{\"type\":\"scattercarpet\",\"marker\":{\"colorbar\":{\"outlinewidth\":0,\"ticks\":\"\"}}}],\"carpet\":[{\"aaxis\":{\"endlinecolor\":\"#2a3f5f\",\"gridcolor\":\"white\",\"linecolor\":\"white\",\"minorgridcolor\":\"white\",\"startlinecolor\":\"#2a3f5f\"},\"baxis\":{\"endlinecolor\":\"#2a3f5f\",\"gridcolor\":\"white\",\"linecolor\":\"white\",\"minorgridcolor\":\"white\",\"startlinecolor\":\"#2a3f5f\"},\"type\":\"carpet\"}],\"table\":[{\"cells\":{\"fill\":{\"color\":\"#EBF0F8\"},\"line\":{\"color\":\"white\"}},\"header\":{\"fill\":{\"color\":\"#C8D4E3\"},\"line\":{\"color\":\"white\"}},\"type\":\"table\"}],\"barpolar\":[{\"marker\":{\"line\":{\"color\":\"#E5ECF6\",\"width\":0.5},\"pattern\":{\"fillmode\":\"overlay\",\"size\":10,\"solidity\":0.2}},\"type\":\"barpolar\"}],\"pie\":[{\"automargin\":true,\"type\":\"pie\"}]},\"layout\":{\"autotypenumbers\":\"strict\",\"colorway\":[\"#636efa\",\"#EF553B\",\"#00cc96\",\"#ab63fa\",\"#FFA15A\",\"#19d3f3\",\"#FF6692\",\"#B6E880\",\"#FF97FF\",\"#FECB52\"],\"font\":{\"color\":\"#2a3f5f\"},\"hovermode\":\"closest\",\"hoverlabel\":{\"align\":\"left\"},\"paper_bgcolor\":\"white\",\"plot_bgcolor\":\"#E5ECF6\",\"polar\":{\"bgcolor\":\"#E5ECF6\",\"angularaxis\":{\"gridcolor\":\"white\",\"linecolor\":\"white\",\"ticks\":\"\"},\"radialaxis\":{\"gridcolor\":\"white\",\"linecolor\":\"white\",\"ticks\":\"\"}},\"ternary\":{\"bgcolor\":\"#E5ECF6\",\"aaxis\":{\"gridcolor\":\"white\",\"linecolor\":\"white\",\"ticks\":\"\"},\"baxis\":{\"gridcolor\":\"white\",\"linecolor\":\"white\",\"ticks\":\"\"},\"caxis\":{\"gridcolor\":\"white\",\"linecolor\":\"white\",\"ticks\":\"\"}},\"coloraxis\":{\"colorbar\":{\"outlinewidth\":0,\"ticks\":\"\"}},\"colorscale\":{\"sequential\":[[0.0,\"#0d0887\"],[0.1111111111111111,\"#46039f\"],[0.2222222222222222,\"#7201a8\"],[0.3333333333333333,\"#9c179e\"],[0.4444444444444444,\"#bd3786\"],[0.5555555555555556,\"#d8576b\"],[0.6666666666666666,\"#ed7953\"],[0.7777777777777778,\"#fb9f3a\"],[0.8888888888888888,\"#fdca26\"],[1.0,\"#f0f921\"]],\"sequentialminus\":[[0.0,\"#0d0887\"],[0.1111111111111111,\"#46039f\"],[0.2222222222222222,\"#7201a8\"],[0.3333333333333333,\"#9c179e\"],[0.4444444444444444,\"#bd3786\"],[0.5555555555555556,\"#d8576b\"],[0.6666666666666666,\"#ed7953\"],[0.7777777777777778,\"#fb9f3a\"],[0.8888888888888888,\"#fdca26\"],[1.0,\"#f0f921\"]],\"diverging\":[[0,\"#8e0152\"],[0.1,\"#c51b7d\"],[0.2,\"#de77ae\"],[0.3,\"#f1b6da\"],[0.4,\"#fde0ef\"],[0.5,\"#f7f7f7\"],[0.6,\"#e6f5d0\"],[0.7,\"#b8e186\"],[0.8,\"#7fbc41\"],[0.9,\"#4d9221\"],[1,\"#276419\"]]},\"xaxis\":{\"gridcolor\":\"white\",\"linecolor\":\"white\",\"ticks\":\"\",\"title\":{\"standoff\":15},\"zerolinecolor\":\"white\",\"automargin\":true,\"zerolinewidth\":2},\"yaxis\":{\"gridcolor\":\"white\",\"linecolor\":\"white\",\"ticks\":\"\",\"title\":{\"standoff\":15},\"zerolinecolor\":\"white\",\"automargin\":true,\"zerolinewidth\":2},\"scene\":{\"xaxis\":{\"backgroundcolor\":\"#E5ECF6\",\"gridcolor\":\"white\",\"linecolor\":\"white\",\"showbackground\":true,\"ticks\":\"\",\"zerolinecolor\":\"white\",\"gridwidth\":2},\"yaxis\":{\"backgroundcolor\":\"#E5ECF6\",\"gridcolor\":\"white\",\"linecolor\":\"white\",\"showbackground\":true,\"ticks\":\"\",\"zerolinecolor\":\"white\",\"gridwidth\":2},\"zaxis\":{\"backgroundcolor\":\"#E5ECF6\",\"gridcolor\":\"white\",\"linecolor\":\"white\",\"showbackground\":true,\"ticks\":\"\",\"zerolinecolor\":\"white\",\"gridwidth\":2}},\"shapedefaults\":{\"line\":{\"color\":\"#2a3f5f\"}},\"annotationdefaults\":{\"arrowcolor\":\"#2a3f5f\",\"arrowhead\":0,\"arrowwidth\":1},\"geo\":{\"bgcolor\":\"white\",\"landcolor\":\"#E5ECF6\",\"subunitcolor\":\"white\",\"showland\":true,\"showlakes\":true,\"lakecolor\":\"white\"},\"title\":{\"x\":0.05},\"mapbox\":{\"style\":\"light\"}}},\"xaxis\":{\"anchor\":\"y\",\"domain\":[0.0,1.0],\"title\":{\"text\":\"Month\"},\"tickmode\":\"array\",\"tickvals\":[1,2,3,4,5,6,7,8,9,10,11,12],\"ticktext\":[\"Jan\",\"Feb\",\"Mar\",\"Apr\",\"May\",\"Jun\",\"Jul\",\"Aug\",\"Sep\",\"Oct\",\"Nov\",\"Dec\"]},\"yaxis\":{\"anchor\":\"x\",\"domain\":[0.0,1.0],\"title\":{\"text\":\"Total Sales\"}},\"legend\":{\"tracegroupgap\":0},\"title\":{\"text\":\"Monthly Coffee Sales Trend\"}},                        {\"responsive\": true}                    ).then(function(){\n",
              "                            \n",
              "var gd = document.getElementById('3c4f992e-930e-4ae3-84a3-6660a6b77f9d');\n",
              "var x = new MutationObserver(function (mutations, observer) {{\n",
              "        var display = window.getComputedStyle(gd).display;\n",
              "        if (!display || display === 'none') {{\n",
              "            console.log([gd, 'removed!']);\n",
              "            Plotly.purge(gd);\n",
              "            observer.disconnect();\n",
              "        }}\n",
              "}});\n",
              "\n",
              "// Listen for the removal of the full notebook cells\n",
              "var notebookContainer = gd.closest('#notebook-container');\n",
              "if (notebookContainer) {{\n",
              "    x.observe(notebookContainer, {childList: true});\n",
              "}}\n",
              "\n",
              "// Listen for the clearing of the current output cell\n",
              "var outputEl = gd.closest('.output');\n",
              "if (outputEl) {{\n",
              "    x.observe(outputEl, {childList: true});\n",
              "}}\n",
              "\n",
              "                        })                };                            </script>        </div>\n",
              "</body>\n",
              "</html>"
            ]
          },
          "metadata": {}
        },
        {
          "output_type": "display_data",
          "data": {
            "text/html": [
              "<html>\n",
              "<head><meta charset=\"utf-8\" /></head>\n",
              "<body>\n",
              "    <div>            <script src=\"https://cdnjs.cloudflare.com/ajax/libs/mathjax/2.7.5/MathJax.js?config=TeX-AMS-MML_SVG\"></script><script type=\"text/javascript\">if (window.MathJax && window.MathJax.Hub && window.MathJax.Hub.Config) {window.MathJax.Hub.Config({SVG: {font: \"STIX-Web\"}});}</script>                <script type=\"text/javascript\">window.PlotlyConfig = {MathJaxConfig: 'local'};</script>\n",
              "        <script charset=\"utf-8\" src=\"https://cdn.plot.ly/plotly-2.35.2.min.js\"></script>                <div id=\"af399151-fd0d-4b2a-b6f0-87a5f772ecc7\" class=\"plotly-graph-div\" style=\"height:525px; width:100%;\"></div>            <script type=\"text/javascript\">                                    window.PLOTLYENV=window.PLOTLYENV || {};                                    if (document.getElementById(\"af399151-fd0d-4b2a-b6f0-87a5f772ecc7\")) {                    Plotly.newPlot(                        \"af399151-fd0d-4b2a-b6f0-87a5f772ecc7\",                        [{\"alignmentgroup\":\"True\",\"hovertemplate\":\"Month=%{x}\\u003cbr\\u003eTotal Sales=%{marker.color}\\u003cextra\\u003e\\u003c\\u002fextra\\u003e\",\"legendgroup\":\"\",\"marker\":{\"color\":[6398.86,13215.48,15891.64,5719.56,8164.42,7617.76,6915.9400000000005,7613.84,9988.64,13891.16,8590.539999999999,8237.74],\"coloraxis\":\"coloraxis\",\"pattern\":{\"shape\":\"\"}},\"name\":\"\",\"offsetgroup\":\"\",\"orientation\":\"v\",\"showlegend\":false,\"textposition\":\"auto\",\"x\":[\"Jan\",\"Feb\",\"Mar\",\"Apr\",\"May\",\"Jun\",\"Jul\",\"Aug\",\"Sep\",\"Oct\",\"Nov\",\"Dec\"],\"xaxis\":\"x\",\"y\":[6398.86,13215.48,15891.64,5719.56,8164.42,7617.76,6915.9400000000005,7613.84,9988.64,13891.16,8590.539999999999,8237.74],\"yaxis\":\"y\",\"type\":\"bar\"}],                        {\"template\":{\"data\":{\"histogram2dcontour\":[{\"type\":\"histogram2dcontour\",\"colorbar\":{\"outlinewidth\":0,\"ticks\":\"\"},\"colorscale\":[[0.0,\"#0d0887\"],[0.1111111111111111,\"#46039f\"],[0.2222222222222222,\"#7201a8\"],[0.3333333333333333,\"#9c179e\"],[0.4444444444444444,\"#bd3786\"],[0.5555555555555556,\"#d8576b\"],[0.6666666666666666,\"#ed7953\"],[0.7777777777777778,\"#fb9f3a\"],[0.8888888888888888,\"#fdca26\"],[1.0,\"#f0f921\"]]}],\"choropleth\":[{\"type\":\"choropleth\",\"colorbar\":{\"outlinewidth\":0,\"ticks\":\"\"}}],\"histogram2d\":[{\"type\":\"histogram2d\",\"colorbar\":{\"outlinewidth\":0,\"ticks\":\"\"},\"colorscale\":[[0.0,\"#0d0887\"],[0.1111111111111111,\"#46039f\"],[0.2222222222222222,\"#7201a8\"],[0.3333333333333333,\"#9c179e\"],[0.4444444444444444,\"#bd3786\"],[0.5555555555555556,\"#d8576b\"],[0.6666666666666666,\"#ed7953\"],[0.7777777777777778,\"#fb9f3a\"],[0.8888888888888888,\"#fdca26\"],[1.0,\"#f0f921\"]]}],\"heatmap\":[{\"type\":\"heatmap\",\"colorbar\":{\"outlinewidth\":0,\"ticks\":\"\"},\"colorscale\":[[0.0,\"#0d0887\"],[0.1111111111111111,\"#46039f\"],[0.2222222222222222,\"#7201a8\"],[0.3333333333333333,\"#9c179e\"],[0.4444444444444444,\"#bd3786\"],[0.5555555555555556,\"#d8576b\"],[0.6666666666666666,\"#ed7953\"],[0.7777777777777778,\"#fb9f3a\"],[0.8888888888888888,\"#fdca26\"],[1.0,\"#f0f921\"]]}],\"heatmapgl\":[{\"type\":\"heatmapgl\",\"colorbar\":{\"outlinewidth\":0,\"ticks\":\"\"},\"colorscale\":[[0.0,\"#0d0887\"],[0.1111111111111111,\"#46039f\"],[0.2222222222222222,\"#7201a8\"],[0.3333333333333333,\"#9c179e\"],[0.4444444444444444,\"#bd3786\"],[0.5555555555555556,\"#d8576b\"],[0.6666666666666666,\"#ed7953\"],[0.7777777777777778,\"#fb9f3a\"],[0.8888888888888888,\"#fdca26\"],[1.0,\"#f0f921\"]]}],\"contourcarpet\":[{\"type\":\"contourcarpet\",\"colorbar\":{\"outlinewidth\":0,\"ticks\":\"\"}}],\"contour\":[{\"type\":\"contour\",\"colorbar\":{\"outlinewidth\":0,\"ticks\":\"\"},\"colorscale\":[[0.0,\"#0d0887\"],[0.1111111111111111,\"#46039f\"],[0.2222222222222222,\"#7201a8\"],[0.3333333333333333,\"#9c179e\"],[0.4444444444444444,\"#bd3786\"],[0.5555555555555556,\"#d8576b\"],[0.6666666666666666,\"#ed7953\"],[0.7777777777777778,\"#fb9f3a\"],[0.8888888888888888,\"#fdca26\"],[1.0,\"#f0f921\"]]}],\"surface\":[{\"type\":\"surface\",\"colorbar\":{\"outlinewidth\":0,\"ticks\":\"\"},\"colorscale\":[[0.0,\"#0d0887\"],[0.1111111111111111,\"#46039f\"],[0.2222222222222222,\"#7201a8\"],[0.3333333333333333,\"#9c179e\"],[0.4444444444444444,\"#bd3786\"],[0.5555555555555556,\"#d8576b\"],[0.6666666666666666,\"#ed7953\"],[0.7777777777777778,\"#fb9f3a\"],[0.8888888888888888,\"#fdca26\"],[1.0,\"#f0f921\"]]}],\"mesh3d\":[{\"type\":\"mesh3d\",\"colorbar\":{\"outlinewidth\":0,\"ticks\":\"\"}}],\"scatter\":[{\"fillpattern\":{\"fillmode\":\"overlay\",\"size\":10,\"solidity\":0.2},\"type\":\"scatter\"}],\"parcoords\":[{\"type\":\"parcoords\",\"line\":{\"colorbar\":{\"outlinewidth\":0,\"ticks\":\"\"}}}],\"scatterpolargl\":[{\"type\":\"scatterpolargl\",\"marker\":{\"colorbar\":{\"outlinewidth\":0,\"ticks\":\"\"}}}],\"bar\":[{\"error_x\":{\"color\":\"#2a3f5f\"},\"error_y\":{\"color\":\"#2a3f5f\"},\"marker\":{\"line\":{\"color\":\"#E5ECF6\",\"width\":0.5},\"pattern\":{\"fillmode\":\"overlay\",\"size\":10,\"solidity\":0.2}},\"type\":\"bar\"}],\"scattergeo\":[{\"type\":\"scattergeo\",\"marker\":{\"colorbar\":{\"outlinewidth\":0,\"ticks\":\"\"}}}],\"scatterpolar\":[{\"type\":\"scatterpolar\",\"marker\":{\"colorbar\":{\"outlinewidth\":0,\"ticks\":\"\"}}}],\"histogram\":[{\"marker\":{\"pattern\":{\"fillmode\":\"overlay\",\"size\":10,\"solidity\":0.2}},\"type\":\"histogram\"}],\"scattergl\":[{\"type\":\"scattergl\",\"marker\":{\"colorbar\":{\"outlinewidth\":0,\"ticks\":\"\"}}}],\"scatter3d\":[{\"type\":\"scatter3d\",\"line\":{\"colorbar\":{\"outlinewidth\":0,\"ticks\":\"\"}},\"marker\":{\"colorbar\":{\"outlinewidth\":0,\"ticks\":\"\"}}}],\"scattermapbox\":[{\"type\":\"scattermapbox\",\"marker\":{\"colorbar\":{\"outlinewidth\":0,\"ticks\":\"\"}}}],\"scatterternary\":[{\"type\":\"scatterternary\",\"marker\":{\"colorbar\":{\"outlinewidth\":0,\"ticks\":\"\"}}}],\"scattercarpet\":[{\"type\":\"scattercarpet\",\"marker\":{\"colorbar\":{\"outlinewidth\":0,\"ticks\":\"\"}}}],\"carpet\":[{\"aaxis\":{\"endlinecolor\":\"#2a3f5f\",\"gridcolor\":\"white\",\"linecolor\":\"white\",\"minorgridcolor\":\"white\",\"startlinecolor\":\"#2a3f5f\"},\"baxis\":{\"endlinecolor\":\"#2a3f5f\",\"gridcolor\":\"white\",\"linecolor\":\"white\",\"minorgridcolor\":\"white\",\"startlinecolor\":\"#2a3f5f\"},\"type\":\"carpet\"}],\"table\":[{\"cells\":{\"fill\":{\"color\":\"#EBF0F8\"},\"line\":{\"color\":\"white\"}},\"header\":{\"fill\":{\"color\":\"#C8D4E3\"},\"line\":{\"color\":\"white\"}},\"type\":\"table\"}],\"barpolar\":[{\"marker\":{\"line\":{\"color\":\"#E5ECF6\",\"width\":0.5},\"pattern\":{\"fillmode\":\"overlay\",\"size\":10,\"solidity\":0.2}},\"type\":\"barpolar\"}],\"pie\":[{\"automargin\":true,\"type\":\"pie\"}]},\"layout\":{\"autotypenumbers\":\"strict\",\"colorway\":[\"#636efa\",\"#EF553B\",\"#00cc96\",\"#ab63fa\",\"#FFA15A\",\"#19d3f3\",\"#FF6692\",\"#B6E880\",\"#FF97FF\",\"#FECB52\"],\"font\":{\"color\":\"#2a3f5f\"},\"hovermode\":\"closest\",\"hoverlabel\":{\"align\":\"left\"},\"paper_bgcolor\":\"white\",\"plot_bgcolor\":\"#E5ECF6\",\"polar\":{\"bgcolor\":\"#E5ECF6\",\"angularaxis\":{\"gridcolor\":\"white\",\"linecolor\":\"white\",\"ticks\":\"\"},\"radialaxis\":{\"gridcolor\":\"white\",\"linecolor\":\"white\",\"ticks\":\"\"}},\"ternary\":{\"bgcolor\":\"#E5ECF6\",\"aaxis\":{\"gridcolor\":\"white\",\"linecolor\":\"white\",\"ticks\":\"\"},\"baxis\":{\"gridcolor\":\"white\",\"linecolor\":\"white\",\"ticks\":\"\"},\"caxis\":{\"gridcolor\":\"white\",\"linecolor\":\"white\",\"ticks\":\"\"}},\"coloraxis\":{\"colorbar\":{\"outlinewidth\":0,\"ticks\":\"\"}},\"colorscale\":{\"sequential\":[[0.0,\"#0d0887\"],[0.1111111111111111,\"#46039f\"],[0.2222222222222222,\"#7201a8\"],[0.3333333333333333,\"#9c179e\"],[0.4444444444444444,\"#bd3786\"],[0.5555555555555556,\"#d8576b\"],[0.6666666666666666,\"#ed7953\"],[0.7777777777777778,\"#fb9f3a\"],[0.8888888888888888,\"#fdca26\"],[1.0,\"#f0f921\"]],\"sequentialminus\":[[0.0,\"#0d0887\"],[0.1111111111111111,\"#46039f\"],[0.2222222222222222,\"#7201a8\"],[0.3333333333333333,\"#9c179e\"],[0.4444444444444444,\"#bd3786\"],[0.5555555555555556,\"#d8576b\"],[0.6666666666666666,\"#ed7953\"],[0.7777777777777778,\"#fb9f3a\"],[0.8888888888888888,\"#fdca26\"],[1.0,\"#f0f921\"]],\"diverging\":[[0,\"#8e0152\"],[0.1,\"#c51b7d\"],[0.2,\"#de77ae\"],[0.3,\"#f1b6da\"],[0.4,\"#fde0ef\"],[0.5,\"#f7f7f7\"],[0.6,\"#e6f5d0\"],[0.7,\"#b8e186\"],[0.8,\"#7fbc41\"],[0.9,\"#4d9221\"],[1,\"#276419\"]]},\"xaxis\":{\"gridcolor\":\"white\",\"linecolor\":\"white\",\"ticks\":\"\",\"title\":{\"standoff\":15},\"zerolinecolor\":\"white\",\"automargin\":true,\"zerolinewidth\":2},\"yaxis\":{\"gridcolor\":\"white\",\"linecolor\":\"white\",\"ticks\":\"\",\"title\":{\"standoff\":15},\"zerolinecolor\":\"white\",\"automargin\":true,\"zerolinewidth\":2},\"scene\":{\"xaxis\":{\"backgroundcolor\":\"#E5ECF6\",\"gridcolor\":\"white\",\"linecolor\":\"white\",\"showbackground\":true,\"ticks\":\"\",\"zerolinecolor\":\"white\",\"gridwidth\":2},\"yaxis\":{\"backgroundcolor\":\"#E5ECF6\",\"gridcolor\":\"white\",\"linecolor\":\"white\",\"showbackground\":true,\"ticks\":\"\",\"zerolinecolor\":\"white\",\"gridwidth\":2},\"zaxis\":{\"backgroundcolor\":\"#E5ECF6\",\"gridcolor\":\"white\",\"linecolor\":\"white\",\"showbackground\":true,\"ticks\":\"\",\"zerolinecolor\":\"white\",\"gridwidth\":2}},\"shapedefaults\":{\"line\":{\"color\":\"#2a3f5f\"}},\"annotationdefaults\":{\"arrowcolor\":\"#2a3f5f\",\"arrowhead\":0,\"arrowwidth\":1},\"geo\":{\"bgcolor\":\"white\",\"landcolor\":\"#E5ECF6\",\"subunitcolor\":\"white\",\"showland\":true,\"showlakes\":true,\"lakecolor\":\"white\"},\"title\":{\"x\":0.05},\"mapbox\":{\"style\":\"light\"}}},\"xaxis\":{\"anchor\":\"y\",\"domain\":[0.0,1.0],\"title\":{\"text\":\"Month\"}},\"yaxis\":{\"anchor\":\"x\",\"domain\":[0.0,1.0],\"title\":{\"text\":\"Total Sales\"}},\"coloraxis\":{\"colorbar\":{\"title\":{\"text\":\"Total Sales\"}},\"colorscale\":[[0.0,\"rgb(176, 242, 188)\"],[0.16666666666666666,\"rgb(137, 232, 172)\"],[0.3333333333333333,\"rgb(103, 219, 165)\"],[0.5,\"rgb(76, 200, 163)\"],[0.6666666666666666,\"rgb(56, 178, 163)\"],[0.8333333333333334,\"rgb(44, 152, 160)\"],[1.0,\"rgb(37, 125, 152)\"]]},\"legend\":{\"tracegroupgap\":0},\"title\":{\"text\":\"Total Coffee Sales by Month\"},\"barmode\":\"relative\"},                        {\"responsive\": true}                    ).then(function(){\n",
              "                            \n",
              "var gd = document.getElementById('af399151-fd0d-4b2a-b6f0-87a5f772ecc7');\n",
              "var x = new MutationObserver(function (mutations, observer) {{\n",
              "        var display = window.getComputedStyle(gd).display;\n",
              "        if (!display || display === 'none') {{\n",
              "            console.log([gd, 'removed!']);\n",
              "            Plotly.purge(gd);\n",
              "            observer.disconnect();\n",
              "        }}\n",
              "}});\n",
              "\n",
              "// Listen for the removal of the full notebook cells\n",
              "var notebookContainer = gd.closest('#notebook-container');\n",
              "if (notebookContainer) {{\n",
              "    x.observe(notebookContainer, {childList: true});\n",
              "}}\n",
              "\n",
              "// Listen for the clearing of the current output cell\n",
              "var outputEl = gd.closest('.output');\n",
              "if (outputEl) {{\n",
              "    x.observe(outputEl, {childList: true});\n",
              "}}\n",
              "\n",
              "                        })                };                            </script>        </div>\n",
              "</body>\n",
              "</html>"
            ]
          },
          "metadata": {}
        },
        {
          "output_type": "stream",
          "name": "stdout",
          "text": [
            "\n",
            "=== Seasonal Sales Analysis ===\n",
            "Season with highest total sales: Autumn → 32470.34\n"
          ]
        },
        {
          "output_type": "display_data",
          "data": {
            "text/html": [
              "<html>\n",
              "<head><meta charset=\"utf-8\" /></head>\n",
              "<body>\n",
              "    <div>            <script src=\"https://cdnjs.cloudflare.com/ajax/libs/mathjax/2.7.5/MathJax.js?config=TeX-AMS-MML_SVG\"></script><script type=\"text/javascript\">if (window.MathJax && window.MathJax.Hub && window.MathJax.Hub.Config) {window.MathJax.Hub.Config({SVG: {font: \"STIX-Web\"}});}</script>                <script type=\"text/javascript\">window.PlotlyConfig = {MathJaxConfig: 'local'};</script>\n",
              "        <script charset=\"utf-8\" src=\"https://cdn.plot.ly/plotly-2.35.2.min.js\"></script>                <div id=\"9c226f15-c956-4698-8878-1d25cb43b5fa\" class=\"plotly-graph-div\" style=\"height:525px; width:100%;\"></div>            <script type=\"text/javascript\">                                    window.PLOTLYENV=window.PLOTLYENV || {};                                    if (document.getElementById(\"9c226f15-c956-4698-8878-1d25cb43b5fa\")) {                    Plotly.newPlot(                        \"9c226f15-c956-4698-8878-1d25cb43b5fa\",                        [{\"alignmentgroup\":\"True\",\"hovertemplate\":\"Season=%{x}\\u003cbr\\u003eTotal Sales=%{marker.color}\\u003cextra\\u003e\\u003c\\u002fextra\\u003e\",\"legendgroup\":\"\",\"marker\":{\"color\":[32470.34,29775.62,22147.54,27852.079999999998],\"coloraxis\":\"coloraxis\",\"pattern\":{\"shape\":\"\"}},\"name\":\"\",\"offsetgroup\":\"\",\"orientation\":\"v\",\"showlegend\":false,\"textposition\":\"auto\",\"x\":[\"Autumn\",\"Spring\",\"Summer\",\"Winter\"],\"xaxis\":\"x\",\"y\":[32470.34,29775.62,22147.54,27852.079999999998],\"yaxis\":\"y\",\"type\":\"bar\"}],                        {\"template\":{\"data\":{\"histogram2dcontour\":[{\"type\":\"histogram2dcontour\",\"colorbar\":{\"outlinewidth\":0,\"ticks\":\"\"},\"colorscale\":[[0.0,\"#0d0887\"],[0.1111111111111111,\"#46039f\"],[0.2222222222222222,\"#7201a8\"],[0.3333333333333333,\"#9c179e\"],[0.4444444444444444,\"#bd3786\"],[0.5555555555555556,\"#d8576b\"],[0.6666666666666666,\"#ed7953\"],[0.7777777777777778,\"#fb9f3a\"],[0.8888888888888888,\"#fdca26\"],[1.0,\"#f0f921\"]]}],\"choropleth\":[{\"type\":\"choropleth\",\"colorbar\":{\"outlinewidth\":0,\"ticks\":\"\"}}],\"histogram2d\":[{\"type\":\"histogram2d\",\"colorbar\":{\"outlinewidth\":0,\"ticks\":\"\"},\"colorscale\":[[0.0,\"#0d0887\"],[0.1111111111111111,\"#46039f\"],[0.2222222222222222,\"#7201a8\"],[0.3333333333333333,\"#9c179e\"],[0.4444444444444444,\"#bd3786\"],[0.5555555555555556,\"#d8576b\"],[0.6666666666666666,\"#ed7953\"],[0.7777777777777778,\"#fb9f3a\"],[0.8888888888888888,\"#fdca26\"],[1.0,\"#f0f921\"]]}],\"heatmap\":[{\"type\":\"heatmap\",\"colorbar\":{\"outlinewidth\":0,\"ticks\":\"\"},\"colorscale\":[[0.0,\"#0d0887\"],[0.1111111111111111,\"#46039f\"],[0.2222222222222222,\"#7201a8\"],[0.3333333333333333,\"#9c179e\"],[0.4444444444444444,\"#bd3786\"],[0.5555555555555556,\"#d8576b\"],[0.6666666666666666,\"#ed7953\"],[0.7777777777777778,\"#fb9f3a\"],[0.8888888888888888,\"#fdca26\"],[1.0,\"#f0f921\"]]}],\"heatmapgl\":[{\"type\":\"heatmapgl\",\"colorbar\":{\"outlinewidth\":0,\"ticks\":\"\"},\"colorscale\":[[0.0,\"#0d0887\"],[0.1111111111111111,\"#46039f\"],[0.2222222222222222,\"#7201a8\"],[0.3333333333333333,\"#9c179e\"],[0.4444444444444444,\"#bd3786\"],[0.5555555555555556,\"#d8576b\"],[0.6666666666666666,\"#ed7953\"],[0.7777777777777778,\"#fb9f3a\"],[0.8888888888888888,\"#fdca26\"],[1.0,\"#f0f921\"]]}],\"contourcarpet\":[{\"type\":\"contourcarpet\",\"colorbar\":{\"outlinewidth\":0,\"ticks\":\"\"}}],\"contour\":[{\"type\":\"contour\",\"colorbar\":{\"outlinewidth\":0,\"ticks\":\"\"},\"colorscale\":[[0.0,\"#0d0887\"],[0.1111111111111111,\"#46039f\"],[0.2222222222222222,\"#7201a8\"],[0.3333333333333333,\"#9c179e\"],[0.4444444444444444,\"#bd3786\"],[0.5555555555555556,\"#d8576b\"],[0.6666666666666666,\"#ed7953\"],[0.7777777777777778,\"#fb9f3a\"],[0.8888888888888888,\"#fdca26\"],[1.0,\"#f0f921\"]]}],\"surface\":[{\"type\":\"surface\",\"colorbar\":{\"outlinewidth\":0,\"ticks\":\"\"},\"colorscale\":[[0.0,\"#0d0887\"],[0.1111111111111111,\"#46039f\"],[0.2222222222222222,\"#7201a8\"],[0.3333333333333333,\"#9c179e\"],[0.4444444444444444,\"#bd3786\"],[0.5555555555555556,\"#d8576b\"],[0.6666666666666666,\"#ed7953\"],[0.7777777777777778,\"#fb9f3a\"],[0.8888888888888888,\"#fdca26\"],[1.0,\"#f0f921\"]]}],\"mesh3d\":[{\"type\":\"mesh3d\",\"colorbar\":{\"outlinewidth\":0,\"ticks\":\"\"}}],\"scatter\":[{\"fillpattern\":{\"fillmode\":\"overlay\",\"size\":10,\"solidity\":0.2},\"type\":\"scatter\"}],\"parcoords\":[{\"type\":\"parcoords\",\"line\":{\"colorbar\":{\"outlinewidth\":0,\"ticks\":\"\"}}}],\"scatterpolargl\":[{\"type\":\"scatterpolargl\",\"marker\":{\"colorbar\":{\"outlinewidth\":0,\"ticks\":\"\"}}}],\"bar\":[{\"error_x\":{\"color\":\"#2a3f5f\"},\"error_y\":{\"color\":\"#2a3f5f\"},\"marker\":{\"line\":{\"color\":\"#E5ECF6\",\"width\":0.5},\"pattern\":{\"fillmode\":\"overlay\",\"size\":10,\"solidity\":0.2}},\"type\":\"bar\"}],\"scattergeo\":[{\"type\":\"scattergeo\",\"marker\":{\"colorbar\":{\"outlinewidth\":0,\"ticks\":\"\"}}}],\"scatterpolar\":[{\"type\":\"scatterpolar\",\"marker\":{\"colorbar\":{\"outlinewidth\":0,\"ticks\":\"\"}}}],\"histogram\":[{\"marker\":{\"pattern\":{\"fillmode\":\"overlay\",\"size\":10,\"solidity\":0.2}},\"type\":\"histogram\"}],\"scattergl\":[{\"type\":\"scattergl\",\"marker\":{\"colorbar\":{\"outlinewidth\":0,\"ticks\":\"\"}}}],\"scatter3d\":[{\"type\":\"scatter3d\",\"line\":{\"colorbar\":{\"outlinewidth\":0,\"ticks\":\"\"}},\"marker\":{\"colorbar\":{\"outlinewidth\":0,\"ticks\":\"\"}}}],\"scattermapbox\":[{\"type\":\"scattermapbox\",\"marker\":{\"colorbar\":{\"outlinewidth\":0,\"ticks\":\"\"}}}],\"scatterternary\":[{\"type\":\"scatterternary\",\"marker\":{\"colorbar\":{\"outlinewidth\":0,\"ticks\":\"\"}}}],\"scattercarpet\":[{\"type\":\"scattercarpet\",\"marker\":{\"colorbar\":{\"outlinewidth\":0,\"ticks\":\"\"}}}],\"carpet\":[{\"aaxis\":{\"endlinecolor\":\"#2a3f5f\",\"gridcolor\":\"white\",\"linecolor\":\"white\",\"minorgridcolor\":\"white\",\"startlinecolor\":\"#2a3f5f\"},\"baxis\":{\"endlinecolor\":\"#2a3f5f\",\"gridcolor\":\"white\",\"linecolor\":\"white\",\"minorgridcolor\":\"white\",\"startlinecolor\":\"#2a3f5f\"},\"type\":\"carpet\"}],\"table\":[{\"cells\":{\"fill\":{\"color\":\"#EBF0F8\"},\"line\":{\"color\":\"white\"}},\"header\":{\"fill\":{\"color\":\"#C8D4E3\"},\"line\":{\"color\":\"white\"}},\"type\":\"table\"}],\"barpolar\":[{\"marker\":{\"line\":{\"color\":\"#E5ECF6\",\"width\":0.5},\"pattern\":{\"fillmode\":\"overlay\",\"size\":10,\"solidity\":0.2}},\"type\":\"barpolar\"}],\"pie\":[{\"automargin\":true,\"type\":\"pie\"}]},\"layout\":{\"autotypenumbers\":\"strict\",\"colorway\":[\"#636efa\",\"#EF553B\",\"#00cc96\",\"#ab63fa\",\"#FFA15A\",\"#19d3f3\",\"#FF6692\",\"#B6E880\",\"#FF97FF\",\"#FECB52\"],\"font\":{\"color\":\"#2a3f5f\"},\"hovermode\":\"closest\",\"hoverlabel\":{\"align\":\"left\"},\"paper_bgcolor\":\"white\",\"plot_bgcolor\":\"#E5ECF6\",\"polar\":{\"bgcolor\":\"#E5ECF6\",\"angularaxis\":{\"gridcolor\":\"white\",\"linecolor\":\"white\",\"ticks\":\"\"},\"radialaxis\":{\"gridcolor\":\"white\",\"linecolor\":\"white\",\"ticks\":\"\"}},\"ternary\":{\"bgcolor\":\"#E5ECF6\",\"aaxis\":{\"gridcolor\":\"white\",\"linecolor\":\"white\",\"ticks\":\"\"},\"baxis\":{\"gridcolor\":\"white\",\"linecolor\":\"white\",\"ticks\":\"\"},\"caxis\":{\"gridcolor\":\"white\",\"linecolor\":\"white\",\"ticks\":\"\"}},\"coloraxis\":{\"colorbar\":{\"outlinewidth\":0,\"ticks\":\"\"}},\"colorscale\":{\"sequential\":[[0.0,\"#0d0887\"],[0.1111111111111111,\"#46039f\"],[0.2222222222222222,\"#7201a8\"],[0.3333333333333333,\"#9c179e\"],[0.4444444444444444,\"#bd3786\"],[0.5555555555555556,\"#d8576b\"],[0.6666666666666666,\"#ed7953\"],[0.7777777777777778,\"#fb9f3a\"],[0.8888888888888888,\"#fdca26\"],[1.0,\"#f0f921\"]],\"sequentialminus\":[[0.0,\"#0d0887\"],[0.1111111111111111,\"#46039f\"],[0.2222222222222222,\"#7201a8\"],[0.3333333333333333,\"#9c179e\"],[0.4444444444444444,\"#bd3786\"],[0.5555555555555556,\"#d8576b\"],[0.6666666666666666,\"#ed7953\"],[0.7777777777777778,\"#fb9f3a\"],[0.8888888888888888,\"#fdca26\"],[1.0,\"#f0f921\"]],\"diverging\":[[0,\"#8e0152\"],[0.1,\"#c51b7d\"],[0.2,\"#de77ae\"],[0.3,\"#f1b6da\"],[0.4,\"#fde0ef\"],[0.5,\"#f7f7f7\"],[0.6,\"#e6f5d0\"],[0.7,\"#b8e186\"],[0.8,\"#7fbc41\"],[0.9,\"#4d9221\"],[1,\"#276419\"]]},\"xaxis\":{\"gridcolor\":\"white\",\"linecolor\":\"white\",\"ticks\":\"\",\"title\":{\"standoff\":15},\"zerolinecolor\":\"white\",\"automargin\":true,\"zerolinewidth\":2},\"yaxis\":{\"gridcolor\":\"white\",\"linecolor\":\"white\",\"ticks\":\"\",\"title\":{\"standoff\":15},\"zerolinecolor\":\"white\",\"automargin\":true,\"zerolinewidth\":2},\"scene\":{\"xaxis\":{\"backgroundcolor\":\"#E5ECF6\",\"gridcolor\":\"white\",\"linecolor\":\"white\",\"showbackground\":true,\"ticks\":\"\",\"zerolinecolor\":\"white\",\"gridwidth\":2},\"yaxis\":{\"backgroundcolor\":\"#E5ECF6\",\"gridcolor\":\"white\",\"linecolor\":\"white\",\"showbackground\":true,\"ticks\":\"\",\"zerolinecolor\":\"white\",\"gridwidth\":2},\"zaxis\":{\"backgroundcolor\":\"#E5ECF6\",\"gridcolor\":\"white\",\"linecolor\":\"white\",\"showbackground\":true,\"ticks\":\"\",\"zerolinecolor\":\"white\",\"gridwidth\":2}},\"shapedefaults\":{\"line\":{\"color\":\"#2a3f5f\"}},\"annotationdefaults\":{\"arrowcolor\":\"#2a3f5f\",\"arrowhead\":0,\"arrowwidth\":1},\"geo\":{\"bgcolor\":\"white\",\"landcolor\":\"#E5ECF6\",\"subunitcolor\":\"white\",\"showland\":true,\"showlakes\":true,\"lakecolor\":\"white\"},\"title\":{\"x\":0.05},\"mapbox\":{\"style\":\"light\"}}},\"xaxis\":{\"anchor\":\"y\",\"domain\":[0.0,1.0],\"title\":{\"text\":\"Season\"}},\"yaxis\":{\"anchor\":\"x\",\"domain\":[0.0,1.0],\"title\":{\"text\":\"Total Sales\"}},\"coloraxis\":{\"colorbar\":{\"title\":{\"text\":\"Total Sales\"}},\"colorscale\":[[0.0,\"#440154\"],[0.1111111111111111,\"#482878\"],[0.2222222222222222,\"#3e4989\"],[0.3333333333333333,\"#31688e\"],[0.4444444444444444,\"#26828e\"],[0.5555555555555556,\"#1f9e89\"],[0.6666666666666666,\"#35b779\"],[0.7777777777777778,\"#6ece58\"],[0.8888888888888888,\"#b5de2b\"],[1.0,\"#fde725\"]]},\"legend\":{\"tracegroupgap\":0},\"title\":{\"text\":\"Total Coffee Sales by Season\"},\"barmode\":\"relative\"},                        {\"responsive\": true}                    ).then(function(){\n",
              "                            \n",
              "var gd = document.getElementById('9c226f15-c956-4698-8878-1d25cb43b5fa');\n",
              "var x = new MutationObserver(function (mutations, observer) {{\n",
              "        var display = window.getComputedStyle(gd).display;\n",
              "        if (!display || display === 'none') {{\n",
              "            console.log([gd, 'removed!']);\n",
              "            Plotly.purge(gd);\n",
              "            observer.disconnect();\n",
              "        }}\n",
              "}});\n",
              "\n",
              "// Listen for the removal of the full notebook cells\n",
              "var notebookContainer = gd.closest('#notebook-container');\n",
              "if (notebookContainer) {{\n",
              "    x.observe(notebookContainer, {childList: true});\n",
              "}}\n",
              "\n",
              "// Listen for the clearing of the current output cell\n",
              "var outputEl = gd.closest('.output');\n",
              "if (outputEl) {{\n",
              "    x.observe(outputEl, {childList: true});\n",
              "}}\n",
              "\n",
              "                        })                };                            </script>        </div>\n",
              "</body>\n",
              "</html>"
            ]
          },
          "metadata": {}
        },
        {
          "output_type": "display_data",
          "data": {
            "text/html": [
              "<html>\n",
              "<head><meta charset=\"utf-8\" /></head>\n",
              "<body>\n",
              "    <div>            <script src=\"https://cdnjs.cloudflare.com/ajax/libs/mathjax/2.7.5/MathJax.js?config=TeX-AMS-MML_SVG\"></script><script type=\"text/javascript\">if (window.MathJax && window.MathJax.Hub && window.MathJax.Hub.Config) {window.MathJax.Hub.Config({SVG: {font: \"STIX-Web\"}});}</script>                <script type=\"text/javascript\">window.PlotlyConfig = {MathJaxConfig: 'local'};</script>\n",
              "        <script charset=\"utf-8\" src=\"https://cdn.plot.ly/plotly-2.35.2.min.js\"></script>                <div id=\"91c7438a-92d2-49cf-b6f8-0deee350c7f2\" class=\"plotly-graph-div\" style=\"height:525px; width:100%;\"></div>            <script type=\"text/javascript\">                                    window.PLOTLYENV=window.PLOTLYENV || {};                                    if (document.getElementById(\"91c7438a-92d2-49cf-b6f8-0deee350c7f2\")) {                    Plotly.newPlot(                        \"91c7438a-92d2-49cf-b6f8-0deee350c7f2\",                        [{\"customdata\":[[\"Autumn\"],[\"Spring\"],[\"Summer\"],[\"Winter\"]],\"domain\":{\"x\":[0.0,1.0],\"y\":[0.0,1.0]},\"hovertemplate\":\"Season=%{customdata[0]}\\u003cbr\\u003emoney=%{value}\\u003cextra\\u003e\\u003c\\u002fextra\\u003e\",\"labels\":[\"Autumn\",\"Spring\",\"Summer\",\"Winter\"],\"legendgroup\":\"\",\"marker\":{\"colors\":[\"brown\",\"green\",\"orange\",\"lightblue\"]},\"name\":\"\",\"showlegend\":true,\"values\":[32470.34,29775.62,22147.54,27852.079999999998],\"type\":\"pie\",\"textinfo\":\"percent+label\",\"textposition\":\"inside\"}],                        {\"template\":{\"data\":{\"histogram2dcontour\":[{\"type\":\"histogram2dcontour\",\"colorbar\":{\"outlinewidth\":0,\"ticks\":\"\"},\"colorscale\":[[0.0,\"#0d0887\"],[0.1111111111111111,\"#46039f\"],[0.2222222222222222,\"#7201a8\"],[0.3333333333333333,\"#9c179e\"],[0.4444444444444444,\"#bd3786\"],[0.5555555555555556,\"#d8576b\"],[0.6666666666666666,\"#ed7953\"],[0.7777777777777778,\"#fb9f3a\"],[0.8888888888888888,\"#fdca26\"],[1.0,\"#f0f921\"]]}],\"choropleth\":[{\"type\":\"choropleth\",\"colorbar\":{\"outlinewidth\":0,\"ticks\":\"\"}}],\"histogram2d\":[{\"type\":\"histogram2d\",\"colorbar\":{\"outlinewidth\":0,\"ticks\":\"\"},\"colorscale\":[[0.0,\"#0d0887\"],[0.1111111111111111,\"#46039f\"],[0.2222222222222222,\"#7201a8\"],[0.3333333333333333,\"#9c179e\"],[0.4444444444444444,\"#bd3786\"],[0.5555555555555556,\"#d8576b\"],[0.6666666666666666,\"#ed7953\"],[0.7777777777777778,\"#fb9f3a\"],[0.8888888888888888,\"#fdca26\"],[1.0,\"#f0f921\"]]}],\"heatmap\":[{\"type\":\"heatmap\",\"colorbar\":{\"outlinewidth\":0,\"ticks\":\"\"},\"colorscale\":[[0.0,\"#0d0887\"],[0.1111111111111111,\"#46039f\"],[0.2222222222222222,\"#7201a8\"],[0.3333333333333333,\"#9c179e\"],[0.4444444444444444,\"#bd3786\"],[0.5555555555555556,\"#d8576b\"],[0.6666666666666666,\"#ed7953\"],[0.7777777777777778,\"#fb9f3a\"],[0.8888888888888888,\"#fdca26\"],[1.0,\"#f0f921\"]]}],\"heatmapgl\":[{\"type\":\"heatmapgl\",\"colorbar\":{\"outlinewidth\":0,\"ticks\":\"\"},\"colorscale\":[[0.0,\"#0d0887\"],[0.1111111111111111,\"#46039f\"],[0.2222222222222222,\"#7201a8\"],[0.3333333333333333,\"#9c179e\"],[0.4444444444444444,\"#bd3786\"],[0.5555555555555556,\"#d8576b\"],[0.6666666666666666,\"#ed7953\"],[0.7777777777777778,\"#fb9f3a\"],[0.8888888888888888,\"#fdca26\"],[1.0,\"#f0f921\"]]}],\"contourcarpet\":[{\"type\":\"contourcarpet\",\"colorbar\":{\"outlinewidth\":0,\"ticks\":\"\"}}],\"contour\":[{\"type\":\"contour\",\"colorbar\":{\"outlinewidth\":0,\"ticks\":\"\"},\"colorscale\":[[0.0,\"#0d0887\"],[0.1111111111111111,\"#46039f\"],[0.2222222222222222,\"#7201a8\"],[0.3333333333333333,\"#9c179e\"],[0.4444444444444444,\"#bd3786\"],[0.5555555555555556,\"#d8576b\"],[0.6666666666666666,\"#ed7953\"],[0.7777777777777778,\"#fb9f3a\"],[0.8888888888888888,\"#fdca26\"],[1.0,\"#f0f921\"]]}],\"surface\":[{\"type\":\"surface\",\"colorbar\":{\"outlinewidth\":0,\"ticks\":\"\"},\"colorscale\":[[0.0,\"#0d0887\"],[0.1111111111111111,\"#46039f\"],[0.2222222222222222,\"#7201a8\"],[0.3333333333333333,\"#9c179e\"],[0.4444444444444444,\"#bd3786\"],[0.5555555555555556,\"#d8576b\"],[0.6666666666666666,\"#ed7953\"],[0.7777777777777778,\"#fb9f3a\"],[0.8888888888888888,\"#fdca26\"],[1.0,\"#f0f921\"]]}],\"mesh3d\":[{\"type\":\"mesh3d\",\"colorbar\":{\"outlinewidth\":0,\"ticks\":\"\"}}],\"scatter\":[{\"fillpattern\":{\"fillmode\":\"overlay\",\"size\":10,\"solidity\":0.2},\"type\":\"scatter\"}],\"parcoords\":[{\"type\":\"parcoords\",\"line\":{\"colorbar\":{\"outlinewidth\":0,\"ticks\":\"\"}}}],\"scatterpolargl\":[{\"type\":\"scatterpolargl\",\"marker\":{\"colorbar\":{\"outlinewidth\":0,\"ticks\":\"\"}}}],\"bar\":[{\"error_x\":{\"color\":\"#2a3f5f\"},\"error_y\":{\"color\":\"#2a3f5f\"},\"marker\":{\"line\":{\"color\":\"#E5ECF6\",\"width\":0.5},\"pattern\":{\"fillmode\":\"overlay\",\"size\":10,\"solidity\":0.2}},\"type\":\"bar\"}],\"scattergeo\":[{\"type\":\"scattergeo\",\"marker\":{\"colorbar\":{\"outlinewidth\":0,\"ticks\":\"\"}}}],\"scatterpolar\":[{\"type\":\"scatterpolar\",\"marker\":{\"colorbar\":{\"outlinewidth\":0,\"ticks\":\"\"}}}],\"histogram\":[{\"marker\":{\"pattern\":{\"fillmode\":\"overlay\",\"size\":10,\"solidity\":0.2}},\"type\":\"histogram\"}],\"scattergl\":[{\"type\":\"scattergl\",\"marker\":{\"colorbar\":{\"outlinewidth\":0,\"ticks\":\"\"}}}],\"scatter3d\":[{\"type\":\"scatter3d\",\"line\":{\"colorbar\":{\"outlinewidth\":0,\"ticks\":\"\"}},\"marker\":{\"colorbar\":{\"outlinewidth\":0,\"ticks\":\"\"}}}],\"scattermapbox\":[{\"type\":\"scattermapbox\",\"marker\":{\"colorbar\":{\"outlinewidth\":0,\"ticks\":\"\"}}}],\"scatterternary\":[{\"type\":\"scatterternary\",\"marker\":{\"colorbar\":{\"outlinewidth\":0,\"ticks\":\"\"}}}],\"scattercarpet\":[{\"type\":\"scattercarpet\",\"marker\":{\"colorbar\":{\"outlinewidth\":0,\"ticks\":\"\"}}}],\"carpet\":[{\"aaxis\":{\"endlinecolor\":\"#2a3f5f\",\"gridcolor\":\"white\",\"linecolor\":\"white\",\"minorgridcolor\":\"white\",\"startlinecolor\":\"#2a3f5f\"},\"baxis\":{\"endlinecolor\":\"#2a3f5f\",\"gridcolor\":\"white\",\"linecolor\":\"white\",\"minorgridcolor\":\"white\",\"startlinecolor\":\"#2a3f5f\"},\"type\":\"carpet\"}],\"table\":[{\"cells\":{\"fill\":{\"color\":\"#EBF0F8\"},\"line\":{\"color\":\"white\"}},\"header\":{\"fill\":{\"color\":\"#C8D4E3\"},\"line\":{\"color\":\"white\"}},\"type\":\"table\"}],\"barpolar\":[{\"marker\":{\"line\":{\"color\":\"#E5ECF6\",\"width\":0.5},\"pattern\":{\"fillmode\":\"overlay\",\"size\":10,\"solidity\":0.2}},\"type\":\"barpolar\"}],\"pie\":[{\"automargin\":true,\"type\":\"pie\"}]},\"layout\":{\"autotypenumbers\":\"strict\",\"colorway\":[\"#636efa\",\"#EF553B\",\"#00cc96\",\"#ab63fa\",\"#FFA15A\",\"#19d3f3\",\"#FF6692\",\"#B6E880\",\"#FF97FF\",\"#FECB52\"],\"font\":{\"color\":\"#2a3f5f\"},\"hovermode\":\"closest\",\"hoverlabel\":{\"align\":\"left\"},\"paper_bgcolor\":\"white\",\"plot_bgcolor\":\"#E5ECF6\",\"polar\":{\"bgcolor\":\"#E5ECF6\",\"angularaxis\":{\"gridcolor\":\"white\",\"linecolor\":\"white\",\"ticks\":\"\"},\"radialaxis\":{\"gridcolor\":\"white\",\"linecolor\":\"white\",\"ticks\":\"\"}},\"ternary\":{\"bgcolor\":\"#E5ECF6\",\"aaxis\":{\"gridcolor\":\"white\",\"linecolor\":\"white\",\"ticks\":\"\"},\"baxis\":{\"gridcolor\":\"white\",\"linecolor\":\"white\",\"ticks\":\"\"},\"caxis\":{\"gridcolor\":\"white\",\"linecolor\":\"white\",\"ticks\":\"\"}},\"coloraxis\":{\"colorbar\":{\"outlinewidth\":0,\"ticks\":\"\"}},\"colorscale\":{\"sequential\":[[0.0,\"#0d0887\"],[0.1111111111111111,\"#46039f\"],[0.2222222222222222,\"#7201a8\"],[0.3333333333333333,\"#9c179e\"],[0.4444444444444444,\"#bd3786\"],[0.5555555555555556,\"#d8576b\"],[0.6666666666666666,\"#ed7953\"],[0.7777777777777778,\"#fb9f3a\"],[0.8888888888888888,\"#fdca26\"],[1.0,\"#f0f921\"]],\"sequentialminus\":[[0.0,\"#0d0887\"],[0.1111111111111111,\"#46039f\"],[0.2222222222222222,\"#7201a8\"],[0.3333333333333333,\"#9c179e\"],[0.4444444444444444,\"#bd3786\"],[0.5555555555555556,\"#d8576b\"],[0.6666666666666666,\"#ed7953\"],[0.7777777777777778,\"#fb9f3a\"],[0.8888888888888888,\"#fdca26\"],[1.0,\"#f0f921\"]],\"diverging\":[[0,\"#8e0152\"],[0.1,\"#c51b7d\"],[0.2,\"#de77ae\"],[0.3,\"#f1b6da\"],[0.4,\"#fde0ef\"],[0.5,\"#f7f7f7\"],[0.6,\"#e6f5d0\"],[0.7,\"#b8e186\"],[0.8,\"#7fbc41\"],[0.9,\"#4d9221\"],[1,\"#276419\"]]},\"xaxis\":{\"gridcolor\":\"white\",\"linecolor\":\"white\",\"ticks\":\"\",\"title\":{\"standoff\":15},\"zerolinecolor\":\"white\",\"automargin\":true,\"zerolinewidth\":2},\"yaxis\":{\"gridcolor\":\"white\",\"linecolor\":\"white\",\"ticks\":\"\",\"title\":{\"standoff\":15},\"zerolinecolor\":\"white\",\"automargin\":true,\"zerolinewidth\":2},\"scene\":{\"xaxis\":{\"backgroundcolor\":\"#E5ECF6\",\"gridcolor\":\"white\",\"linecolor\":\"white\",\"showbackground\":true,\"ticks\":\"\",\"zerolinecolor\":\"white\",\"gridwidth\":2},\"yaxis\":{\"backgroundcolor\":\"#E5ECF6\",\"gridcolor\":\"white\",\"linecolor\":\"white\",\"showbackground\":true,\"ticks\":\"\",\"zerolinecolor\":\"white\",\"gridwidth\":2},\"zaxis\":{\"backgroundcolor\":\"#E5ECF6\",\"gridcolor\":\"white\",\"linecolor\":\"white\",\"showbackground\":true,\"ticks\":\"\",\"zerolinecolor\":\"white\",\"gridwidth\":2}},\"shapedefaults\":{\"line\":{\"color\":\"#2a3f5f\"}},\"annotationdefaults\":{\"arrowcolor\":\"#2a3f5f\",\"arrowhead\":0,\"arrowwidth\":1},\"geo\":{\"bgcolor\":\"white\",\"landcolor\":\"#E5ECF6\",\"subunitcolor\":\"white\",\"showland\":true,\"showlakes\":true,\"lakecolor\":\"white\"},\"title\":{\"x\":0.05},\"mapbox\":{\"style\":\"light\"}}},\"legend\":{\"tracegroupgap\":0},\"title\":{\"text\":\"Seasonal Share of Coffee Sales\"}},                        {\"responsive\": true}                    ).then(function(){\n",
              "                            \n",
              "var gd = document.getElementById('91c7438a-92d2-49cf-b6f8-0deee350c7f2');\n",
              "var x = new MutationObserver(function (mutations, observer) {{\n",
              "        var display = window.getComputedStyle(gd).display;\n",
              "        if (!display || display === 'none') {{\n",
              "            console.log([gd, 'removed!']);\n",
              "            Plotly.purge(gd);\n",
              "            observer.disconnect();\n",
              "        }}\n",
              "}});\n",
              "\n",
              "// Listen for the removal of the full notebook cells\n",
              "var notebookContainer = gd.closest('#notebook-container');\n",
              "if (notebookContainer) {{\n",
              "    x.observe(notebookContainer, {childList: true});\n",
              "}}\n",
              "\n",
              "// Listen for the clearing of the current output cell\n",
              "var outputEl = gd.closest('.output');\n",
              "if (outputEl) {{\n",
              "    x.observe(outputEl, {childList: true});\n",
              "}}\n",
              "\n",
              "                        })                };                            </script>        </div>\n",
              "</body>\n",
              "</html>"
            ]
          },
          "metadata": {}
        }
      ],
      "source": [
        "# 1. Group by month\n",
        "monthly_sales = df.groupby([\"Monthsort\", \"Month_name\"])[\"money\"].sum().reset_index()\n",
        "\n",
        "# 2. Find the month with the highest revenue\n",
        "best_idx = monthly_sales[\"money\"].idxmax()\n",
        "best_month = monthly_sales.loc[best_idx, \"Month_name\"]\n",
        "best_value = monthly_sales.loc[best_idx, \"money\"]\n",
        "\n",
        "print(\"\\n=== Monthly Sales Analysis ===\")\n",
        "print(\"Month with highest total sales:\", best_month, \"→\", round(best_value, 2))\n",
        "\n",
        "# 3. Visualization\n",
        "fig = px.line(\n",
        "    monthly_sales,\n",
        "    x=\"Monthsort\",\n",
        "    y=\"money\",\n",
        "    text=\"Month_name\",\n",
        "    markers=True,\n",
        "    labels={\"Monthsort\": \"Month\", \"money\": \"Total Sales\"},\n",
        "    title=\"Monthly Coffee Sales Trend\"\n",
        ")\n",
        "fig.update_traces(textposition=\"top center\")\n",
        "fig.update_layout(\n",
        "    xaxis=dict(\n",
        "        tickmode=\"array\",\n",
        "        tickvals=monthly_sales[\"Monthsort\"],\n",
        "        ticktext=monthly_sales[\"Month_name\"]\n",
        "    ),\n",
        "    xaxis_title=\"Month\",\n",
        "    yaxis_title=\"Total Sales\"\n",
        ")\n",
        "fig.show()\n",
        "\n",
        "# 4. Visualization Using Plotly\n",
        "fig = px.bar(\n",
        "    monthly_sales,\n",
        "    x=\"Month_name\",\n",
        "    y=\"money\",\n",
        "    color=\"money\",\n",
        "    color_continuous_scale=\"tealgrn\",\n",
        "    labels={\"Month_name\": \"Month\", \"money\": \"Total Sales\"},\n",
        "    title=\"Total Coffee Sales by Month\"\n",
        ")\n",
        "fig.update_layout(xaxis_title=\"Month\", yaxis_title=\"Total Sales\")\n",
        "fig.show()\n",
        "\n",
        "\n",
        "\n",
        "# 1. Map months to seasons\n",
        "season_map = {\n",
        "    12: \"Winter\", 1: \"Winter\", 2: \"Winter\",\n",
        "    3: \"Spring\", 4: \"Spring\", 5: \"Spring\",\n",
        "    6: \"Summer\", 7: \"Summer\", 8: \"Summer\",\n",
        "    9: \"Autumn\", 10: \"Autumn\", 11: \"Autumn\"\n",
        "}\n",
        "df[\"Season\"] = df[\"Monthsort\"].map(season_map)\n",
        "\n",
        "# 2. Group sales by season\n",
        "seasonal_sales = df.groupby(\"Season\")[\"money\"].sum().reset_index()\n",
        "\n",
        "# 3. Find the season with the highest revenue\n",
        "best_idx = seasonal_sales[\"money\"].idxmax()\n",
        "best_season = seasonal_sales.loc[best_idx, \"Season\"]\n",
        "best_value = seasonal_sales.loc[best_idx, \"money\"]\n",
        "\n",
        "print(\"\\n=== Seasonal Sales Analysis ===\")\n",
        "print(\"Season with highest total sales:\", best_season, \"→\", round(best_value, 2))\n",
        "\n",
        "# 4. Visualization\n",
        "fig = px.bar(\n",
        "    seasonal_sales,\n",
        "    x=\"Season\",\n",
        "    y=\"money\",\n",
        "    color=\"money\",\n",
        "    color_continuous_scale=\"viridis\",\n",
        "    labels={\"Season\": \"Season\", \"money\": \"Total Sales\"},\n",
        "    title=\"Total Coffee Sales by Season\"\n",
        ")\n",
        "fig.update_layout(xaxis_title=\"Season\", yaxis_title=\"Total Sales\")\n",
        "fig.show()\n",
        "\n",
        "# 5. Visualization\n",
        "fig = px.pie(\n",
        "    seasonal_sales,\n",
        "    names=\"Season\",\n",
        "    values=\"money\",\n",
        "    color=\"Season\",\n",
        "    color_discrete_map={\"Winter\": \"lightblue\", \"Spring\": \"green\", \"Summer\": \"orange\", \"Autumn\": \"brown\"},\n",
        "    title=\"Seasonal Share of Coffee Sales\"\n",
        ")\n",
        "fig.update_traces(textposition=\"inside\", textinfo=\"percent+label\")\n",
        "fig.show()\n",
        "\n"
      ]
    },
    {
      "cell_type": "markdown",
      "id": "5abc03bc",
      "metadata": {
        "id": "5abc03bc"
      },
      "source": [
        "### 6- Best Coffee Type in March (highest month)"
      ]
    },
    {
      "cell_type": "code",
      "execution_count": 16,
      "id": "b44e35fb",
      "metadata": {
        "colab": {
          "base_uri": "https://localhost:8080/",
          "height": 594
        },
        "id": "b44e35fb",
        "outputId": "0d3bea71-31cf-4152-f22c-3546c3565a39"
      },
      "outputs": [
        {
          "output_type": "stream",
          "name": "stdout",
          "text": [
            "\n",
            "=== Best Coffee in March ===\n",
            "Coffee type with highest total sales: Americano → 3572.72\n"
          ]
        },
        {
          "output_type": "display_data",
          "data": {
            "text/html": [
              "<html>\n",
              "<head><meta charset=\"utf-8\" /></head>\n",
              "<body>\n",
              "    <div>            <script src=\"https://cdnjs.cloudflare.com/ajax/libs/mathjax/2.7.5/MathJax.js?config=TeX-AMS-MML_SVG\"></script><script type=\"text/javascript\">if (window.MathJax && window.MathJax.Hub && window.MathJax.Hub.Config) {window.MathJax.Hub.Config({SVG: {font: \"STIX-Web\"}});}</script>                <script type=\"text/javascript\">window.PlotlyConfig = {MathJaxConfig: 'local'};</script>\n",
              "        <script charset=\"utf-8\" src=\"https://cdn.plot.ly/plotly-2.35.2.min.js\"></script>                <div id=\"fd59851b-c593-4dbb-a21a-db9063465d6a\" class=\"plotly-graph-div\" style=\"height:525px; width:100%;\"></div>            <script type=\"text/javascript\">                                    window.PLOTLYENV=window.PLOTLYENV || {};                                    if (document.getElementById(\"fd59851b-c593-4dbb-a21a-db9063465d6a\")) {                    Plotly.newPlot(                        \"fd59851b-c593-4dbb-a21a-db9063465d6a\",                        [{\"alignmentgroup\":\"True\",\"hovertemplate\":\"Coffee Type=%{x}\\u003cbr\\u003eTotal Sales=%{marker.color}\\u003cextra\\u003e\\u003c\\u002fextra\\u003e\",\"legendgroup\":\"\",\"marker\":{\"color\":[3572.7200000000003,2618.72,2118.18,1305.0,861.12,426.59999999999997,1596.48,3392.82],\"coloraxis\":\"coloraxis\",\"pattern\":{\"shape\":\"\"}},\"name\":\"\",\"offsetgroup\":\"\",\"orientation\":\"v\",\"showlegend\":false,\"textposition\":\"auto\",\"x\":[\"Americano\",\"Americano with Milk\",\"Cappuccino\",\"Cocoa\",\"Cortado\",\"Espresso\",\"Hot Chocolate\",\"Latte\"],\"xaxis\":\"x\",\"y\":[3572.7200000000003,2618.72,2118.18,1305.0,861.12,426.59999999999997,1596.48,3392.82],\"yaxis\":\"y\",\"type\":\"bar\"}],                        {\"template\":{\"data\":{\"histogram2dcontour\":[{\"type\":\"histogram2dcontour\",\"colorbar\":{\"outlinewidth\":0,\"ticks\":\"\"},\"colorscale\":[[0.0,\"#0d0887\"],[0.1111111111111111,\"#46039f\"],[0.2222222222222222,\"#7201a8\"],[0.3333333333333333,\"#9c179e\"],[0.4444444444444444,\"#bd3786\"],[0.5555555555555556,\"#d8576b\"],[0.6666666666666666,\"#ed7953\"],[0.7777777777777778,\"#fb9f3a\"],[0.8888888888888888,\"#fdca26\"],[1.0,\"#f0f921\"]]}],\"choropleth\":[{\"type\":\"choropleth\",\"colorbar\":{\"outlinewidth\":0,\"ticks\":\"\"}}],\"histogram2d\":[{\"type\":\"histogram2d\",\"colorbar\":{\"outlinewidth\":0,\"ticks\":\"\"},\"colorscale\":[[0.0,\"#0d0887\"],[0.1111111111111111,\"#46039f\"],[0.2222222222222222,\"#7201a8\"],[0.3333333333333333,\"#9c179e\"],[0.4444444444444444,\"#bd3786\"],[0.5555555555555556,\"#d8576b\"],[0.6666666666666666,\"#ed7953\"],[0.7777777777777778,\"#fb9f3a\"],[0.8888888888888888,\"#fdca26\"],[1.0,\"#f0f921\"]]}],\"heatmap\":[{\"type\":\"heatmap\",\"colorbar\":{\"outlinewidth\":0,\"ticks\":\"\"},\"colorscale\":[[0.0,\"#0d0887\"],[0.1111111111111111,\"#46039f\"],[0.2222222222222222,\"#7201a8\"],[0.3333333333333333,\"#9c179e\"],[0.4444444444444444,\"#bd3786\"],[0.5555555555555556,\"#d8576b\"],[0.6666666666666666,\"#ed7953\"],[0.7777777777777778,\"#fb9f3a\"],[0.8888888888888888,\"#fdca26\"],[1.0,\"#f0f921\"]]}],\"heatmapgl\":[{\"type\":\"heatmapgl\",\"colorbar\":{\"outlinewidth\":0,\"ticks\":\"\"},\"colorscale\":[[0.0,\"#0d0887\"],[0.1111111111111111,\"#46039f\"],[0.2222222222222222,\"#7201a8\"],[0.3333333333333333,\"#9c179e\"],[0.4444444444444444,\"#bd3786\"],[0.5555555555555556,\"#d8576b\"],[0.6666666666666666,\"#ed7953\"],[0.7777777777777778,\"#fb9f3a\"],[0.8888888888888888,\"#fdca26\"],[1.0,\"#f0f921\"]]}],\"contourcarpet\":[{\"type\":\"contourcarpet\",\"colorbar\":{\"outlinewidth\":0,\"ticks\":\"\"}}],\"contour\":[{\"type\":\"contour\",\"colorbar\":{\"outlinewidth\":0,\"ticks\":\"\"},\"colorscale\":[[0.0,\"#0d0887\"],[0.1111111111111111,\"#46039f\"],[0.2222222222222222,\"#7201a8\"],[0.3333333333333333,\"#9c179e\"],[0.4444444444444444,\"#bd3786\"],[0.5555555555555556,\"#d8576b\"],[0.6666666666666666,\"#ed7953\"],[0.7777777777777778,\"#fb9f3a\"],[0.8888888888888888,\"#fdca26\"],[1.0,\"#f0f921\"]]}],\"surface\":[{\"type\":\"surface\",\"colorbar\":{\"outlinewidth\":0,\"ticks\":\"\"},\"colorscale\":[[0.0,\"#0d0887\"],[0.1111111111111111,\"#46039f\"],[0.2222222222222222,\"#7201a8\"],[0.3333333333333333,\"#9c179e\"],[0.4444444444444444,\"#bd3786\"],[0.5555555555555556,\"#d8576b\"],[0.6666666666666666,\"#ed7953\"],[0.7777777777777778,\"#fb9f3a\"],[0.8888888888888888,\"#fdca26\"],[1.0,\"#f0f921\"]]}],\"mesh3d\":[{\"type\":\"mesh3d\",\"colorbar\":{\"outlinewidth\":0,\"ticks\":\"\"}}],\"scatter\":[{\"fillpattern\":{\"fillmode\":\"overlay\",\"size\":10,\"solidity\":0.2},\"type\":\"scatter\"}],\"parcoords\":[{\"type\":\"parcoords\",\"line\":{\"colorbar\":{\"outlinewidth\":0,\"ticks\":\"\"}}}],\"scatterpolargl\":[{\"type\":\"scatterpolargl\",\"marker\":{\"colorbar\":{\"outlinewidth\":0,\"ticks\":\"\"}}}],\"bar\":[{\"error_x\":{\"color\":\"#2a3f5f\"},\"error_y\":{\"color\":\"#2a3f5f\"},\"marker\":{\"line\":{\"color\":\"#E5ECF6\",\"width\":0.5},\"pattern\":{\"fillmode\":\"overlay\",\"size\":10,\"solidity\":0.2}},\"type\":\"bar\"}],\"scattergeo\":[{\"type\":\"scattergeo\",\"marker\":{\"colorbar\":{\"outlinewidth\":0,\"ticks\":\"\"}}}],\"scatterpolar\":[{\"type\":\"scatterpolar\",\"marker\":{\"colorbar\":{\"outlinewidth\":0,\"ticks\":\"\"}}}],\"histogram\":[{\"marker\":{\"pattern\":{\"fillmode\":\"overlay\",\"size\":10,\"solidity\":0.2}},\"type\":\"histogram\"}],\"scattergl\":[{\"type\":\"scattergl\",\"marker\":{\"colorbar\":{\"outlinewidth\":0,\"ticks\":\"\"}}}],\"scatter3d\":[{\"type\":\"scatter3d\",\"line\":{\"colorbar\":{\"outlinewidth\":0,\"ticks\":\"\"}},\"marker\":{\"colorbar\":{\"outlinewidth\":0,\"ticks\":\"\"}}}],\"scattermapbox\":[{\"type\":\"scattermapbox\",\"marker\":{\"colorbar\":{\"outlinewidth\":0,\"ticks\":\"\"}}}],\"scatterternary\":[{\"type\":\"scatterternary\",\"marker\":{\"colorbar\":{\"outlinewidth\":0,\"ticks\":\"\"}}}],\"scattercarpet\":[{\"type\":\"scattercarpet\",\"marker\":{\"colorbar\":{\"outlinewidth\":0,\"ticks\":\"\"}}}],\"carpet\":[{\"aaxis\":{\"endlinecolor\":\"#2a3f5f\",\"gridcolor\":\"white\",\"linecolor\":\"white\",\"minorgridcolor\":\"white\",\"startlinecolor\":\"#2a3f5f\"},\"baxis\":{\"endlinecolor\":\"#2a3f5f\",\"gridcolor\":\"white\",\"linecolor\":\"white\",\"minorgridcolor\":\"white\",\"startlinecolor\":\"#2a3f5f\"},\"type\":\"carpet\"}],\"table\":[{\"cells\":{\"fill\":{\"color\":\"#EBF0F8\"},\"line\":{\"color\":\"white\"}},\"header\":{\"fill\":{\"color\":\"#C8D4E3\"},\"line\":{\"color\":\"white\"}},\"type\":\"table\"}],\"barpolar\":[{\"marker\":{\"line\":{\"color\":\"#E5ECF6\",\"width\":0.5},\"pattern\":{\"fillmode\":\"overlay\",\"size\":10,\"solidity\":0.2}},\"type\":\"barpolar\"}],\"pie\":[{\"automargin\":true,\"type\":\"pie\"}]},\"layout\":{\"autotypenumbers\":\"strict\",\"colorway\":[\"#636efa\",\"#EF553B\",\"#00cc96\",\"#ab63fa\",\"#FFA15A\",\"#19d3f3\",\"#FF6692\",\"#B6E880\",\"#FF97FF\",\"#FECB52\"],\"font\":{\"color\":\"#2a3f5f\"},\"hovermode\":\"closest\",\"hoverlabel\":{\"align\":\"left\"},\"paper_bgcolor\":\"white\",\"plot_bgcolor\":\"#E5ECF6\",\"polar\":{\"bgcolor\":\"#E5ECF6\",\"angularaxis\":{\"gridcolor\":\"white\",\"linecolor\":\"white\",\"ticks\":\"\"},\"radialaxis\":{\"gridcolor\":\"white\",\"linecolor\":\"white\",\"ticks\":\"\"}},\"ternary\":{\"bgcolor\":\"#E5ECF6\",\"aaxis\":{\"gridcolor\":\"white\",\"linecolor\":\"white\",\"ticks\":\"\"},\"baxis\":{\"gridcolor\":\"white\",\"linecolor\":\"white\",\"ticks\":\"\"},\"caxis\":{\"gridcolor\":\"white\",\"linecolor\":\"white\",\"ticks\":\"\"}},\"coloraxis\":{\"colorbar\":{\"outlinewidth\":0,\"ticks\":\"\"}},\"colorscale\":{\"sequential\":[[0.0,\"#0d0887\"],[0.1111111111111111,\"#46039f\"],[0.2222222222222222,\"#7201a8\"],[0.3333333333333333,\"#9c179e\"],[0.4444444444444444,\"#bd3786\"],[0.5555555555555556,\"#d8576b\"],[0.6666666666666666,\"#ed7953\"],[0.7777777777777778,\"#fb9f3a\"],[0.8888888888888888,\"#fdca26\"],[1.0,\"#f0f921\"]],\"sequentialminus\":[[0.0,\"#0d0887\"],[0.1111111111111111,\"#46039f\"],[0.2222222222222222,\"#7201a8\"],[0.3333333333333333,\"#9c179e\"],[0.4444444444444444,\"#bd3786\"],[0.5555555555555556,\"#d8576b\"],[0.6666666666666666,\"#ed7953\"],[0.7777777777777778,\"#fb9f3a\"],[0.8888888888888888,\"#fdca26\"],[1.0,\"#f0f921\"]],\"diverging\":[[0,\"#8e0152\"],[0.1,\"#c51b7d\"],[0.2,\"#de77ae\"],[0.3,\"#f1b6da\"],[0.4,\"#fde0ef\"],[0.5,\"#f7f7f7\"],[0.6,\"#e6f5d0\"],[0.7,\"#b8e186\"],[0.8,\"#7fbc41\"],[0.9,\"#4d9221\"],[1,\"#276419\"]]},\"xaxis\":{\"gridcolor\":\"white\",\"linecolor\":\"white\",\"ticks\":\"\",\"title\":{\"standoff\":15},\"zerolinecolor\":\"white\",\"automargin\":true,\"zerolinewidth\":2},\"yaxis\":{\"gridcolor\":\"white\",\"linecolor\":\"white\",\"ticks\":\"\",\"title\":{\"standoff\":15},\"zerolinecolor\":\"white\",\"automargin\":true,\"zerolinewidth\":2},\"scene\":{\"xaxis\":{\"backgroundcolor\":\"#E5ECF6\",\"gridcolor\":\"white\",\"linecolor\":\"white\",\"showbackground\":true,\"ticks\":\"\",\"zerolinecolor\":\"white\",\"gridwidth\":2},\"yaxis\":{\"backgroundcolor\":\"#E5ECF6\",\"gridcolor\":\"white\",\"linecolor\":\"white\",\"showbackground\":true,\"ticks\":\"\",\"zerolinecolor\":\"white\",\"gridwidth\":2},\"zaxis\":{\"backgroundcolor\":\"#E5ECF6\",\"gridcolor\":\"white\",\"linecolor\":\"white\",\"showbackground\":true,\"ticks\":\"\",\"zerolinecolor\":\"white\",\"gridwidth\":2}},\"shapedefaults\":{\"line\":{\"color\":\"#2a3f5f\"}},\"annotationdefaults\":{\"arrowcolor\":\"#2a3f5f\",\"arrowhead\":0,\"arrowwidth\":1},\"geo\":{\"bgcolor\":\"white\",\"landcolor\":\"#E5ECF6\",\"subunitcolor\":\"white\",\"showland\":true,\"showlakes\":true,\"lakecolor\":\"white\"},\"title\":{\"x\":0.05},\"mapbox\":{\"style\":\"light\"}}},\"xaxis\":{\"anchor\":\"y\",\"domain\":[0.0,1.0],\"title\":{\"text\":\"Coffee Type\"}},\"yaxis\":{\"anchor\":\"x\",\"domain\":[0.0,1.0],\"title\":{\"text\":\"Total Sales\"}},\"coloraxis\":{\"colorbar\":{\"title\":{\"text\":\"Total Sales\"}},\"colorscale\":[[0.0,\"rgb(176, 242, 188)\"],[0.16666666666666666,\"rgb(137, 232, 172)\"],[0.3333333333333333,\"rgb(103, 219, 165)\"],[0.5,\"rgb(76, 200, 163)\"],[0.6666666666666666,\"rgb(56, 178, 163)\"],[0.8333333333333334,\"rgb(44, 152, 160)\"],[1.0,\"rgb(37, 125, 152)\"]]},\"legend\":{\"tracegroupgap\":0},\"title\":{\"text\":\"Coffee Sales in March\"},\"barmode\":\"relative\"},                        {\"responsive\": true}                    ).then(function(){\n",
              "                            \n",
              "var gd = document.getElementById('fd59851b-c593-4dbb-a21a-db9063465d6a');\n",
              "var x = new MutationObserver(function (mutations, observer) {{\n",
              "        var display = window.getComputedStyle(gd).display;\n",
              "        if (!display || display === 'none') {{\n",
              "            console.log([gd, 'removed!']);\n",
              "            Plotly.purge(gd);\n",
              "            observer.disconnect();\n",
              "        }}\n",
              "}});\n",
              "\n",
              "// Listen for the removal of the full notebook cells\n",
              "var notebookContainer = gd.closest('#notebook-container');\n",
              "if (notebookContainer) {{\n",
              "    x.observe(notebookContainer, {childList: true});\n",
              "}}\n",
              "\n",
              "// Listen for the clearing of the current output cell\n",
              "var outputEl = gd.closest('.output');\n",
              "if (outputEl) {{\n",
              "    x.observe(outputEl, {childList: true});\n",
              "}}\n",
              "\n",
              "                        })                };                            </script>        </div>\n",
              "</body>\n",
              "</html>"
            ]
          },
          "metadata": {}
        }
      ],
      "source": [
        "# 1. Filter March\n",
        "df_march = df[df[\"Month_name\"] == \"Mar\"]\n",
        "\n",
        "# 2. Group sales by coffee type\n",
        "march_sales = df_march.groupby(\"coffee_name\")[\"money\"].sum().reset_index()\n",
        "\n",
        "# 3. Find top coffee type\n",
        "best_idx = march_sales[\"money\"].idxmax()\n",
        "best_type = march_sales.loc[best_idx, \"coffee_name\"]\n",
        "best_value = march_sales.loc[best_idx, \"money\"]\n",
        "\n",
        "print(\"\\n=== Best Coffee in March ===\")\n",
        "print(\"Coffee type with highest total sales:\", best_type, \"→\", round(best_value, 2))\n",
        "\n",
        "# 4. Visualization\n",
        "fig = px.bar(\n",
        "    march_sales,\n",
        "    x=\"coffee_name\",\n",
        "    y=\"money\",\n",
        "    color=\"money\",\n",
        "    color_continuous_scale=\"tealgrn\",\n",
        "    labels={\"coffee_name\": \"Coffee Type\", \"money\": \"Total Sales\"},\n",
        "    title=\"Coffee Sales in March\"\n",
        ")\n",
        "fig.update_layout(xaxis_title=\"Coffee Type\", yaxis_title=\"Total Sales\")\n",
        "fig.show()\n"
      ]
    },
    {
      "cell_type": "markdown",
      "id": "ad6d883c",
      "metadata": {
        "id": "ad6d883c"
      },
      "source": [
        "### 7- Best Coffee Type in Each Season"
      ]
    },
    {
      "cell_type": "code",
      "execution_count": 17,
      "id": "c5ce76c3",
      "metadata": {
        "colab": {
          "base_uri": "https://localhost:8080/",
          "height": 646
        },
        "id": "c5ce76c3",
        "outputId": "b609c948-7bb6-448d-9153-50d1b3d730b3"
      },
      "outputs": [
        {
          "output_type": "stream",
          "name": "stdout",
          "text": [
            "\n",
            "=== Best Coffee Type by Season ===\n",
            "Autumn: Latte → 9837.36\n",
            "Spring: Latte → 6312.94\n",
            "Summer: Americano with Milk → 6040.16\n",
            "Winter: Americano with Milk → 5986.84\n"
          ]
        },
        {
          "output_type": "display_data",
          "data": {
            "text/html": [
              "<html>\n",
              "<head><meta charset=\"utf-8\" /></head>\n",
              "<body>\n",
              "    <div>            <script src=\"https://cdnjs.cloudflare.com/ajax/libs/mathjax/2.7.5/MathJax.js?config=TeX-AMS-MML_SVG\"></script><script type=\"text/javascript\">if (window.MathJax && window.MathJax.Hub && window.MathJax.Hub.Config) {window.MathJax.Hub.Config({SVG: {font: \"STIX-Web\"}});}</script>                <script type=\"text/javascript\">window.PlotlyConfig = {MathJaxConfig: 'local'};</script>\n",
              "        <script charset=\"utf-8\" src=\"https://cdn.plot.ly/plotly-2.35.2.min.js\"></script>                <div id=\"03742665-b611-4364-ab91-21e9ff1ed3fa\" class=\"plotly-graph-div\" style=\"height:525px; width:100%;\"></div>            <script type=\"text/javascript\">                                    window.PLOTLYENV=window.PLOTLYENV || {};                                    if (document.getElementById(\"03742665-b611-4364-ab91-21e9ff1ed3fa\")) {                    Plotly.newPlot(                        \"03742665-b611-4364-ab91-21e9ff1ed3fa\",                        [{\"alignmentgroup\":\"True\",\"hovertemplate\":\"coffee_name=Americano\\u003cbr\\u003eSeason=%{x}\\u003cbr\\u003eTotal Sales=%{y}\\u003cextra\\u003e\\u003c\\u002fextra\\u003e\",\"legendgroup\":\"Americano\",\"marker\":{\"color\":\"#636efa\",\"pattern\":{\"shape\":\"\"}},\"name\":\"Americano\",\"offsetgroup\":\"Americano\",\"orientation\":\"v\",\"showlegend\":true,\"textposition\":\"auto\",\"x\":[\"Autumn\",\"Spring\",\"Summer\",\"Winter\"],\"xaxis\":\"x\",\"y\":[2530.82,5631.46,2100.74,4387.24],\"yaxis\":\"y\",\"type\":\"bar\"},{\"alignmentgroup\":\"True\",\"hovertemplate\":\"coffee_name=Americano with Milk\\u003cbr\\u003eSeason=%{x}\\u003cbr\\u003eTotal Sales=%{y}\\u003cextra\\u003e\\u003c\\u002fextra\\u003e\",\"legendgroup\":\"Americano with Milk\",\"marker\":{\"color\":\"#EF553B\",\"pattern\":{\"shape\":\"\"}},\"name\":\"Americano with Milk\",\"offsetgroup\":\"Americano with Milk\",\"orientation\":\"v\",\"showlegend\":true,\"textposition\":\"auto\",\"x\":[\"Autumn\",\"Spring\",\"Summer\",\"Winter\"],\"xaxis\":\"x\",\"y\":[7065.38,5658.74,6040.16,5986.84],\"yaxis\":\"y\",\"type\":\"bar\"},{\"alignmentgroup\":\"True\",\"hovertemplate\":\"coffee_name=Cappuccino\\u003cbr\\u003eSeason=%{x}\\u003cbr\\u003eTotal Sales=%{y}\\u003cextra\\u003e\\u003c\\u002fextra\\u003e\",\"legendgroup\":\"Cappuccino\",\"marker\":{\"color\":\"#00cc96\",\"pattern\":{\"shape\":\"\"}},\"name\":\"Cappuccino\",\"offsetgroup\":\"Cappuccino\",\"orientation\":\"v\",\"showlegend\":true,\"textposition\":\"auto\",\"x\":[\"Autumn\",\"Spring\",\"Summer\",\"Winter\"],\"xaxis\":\"x\",\"y\":[3863.52,5461.06,3930.64,4183.92],\"yaxis\":\"y\",\"type\":\"bar\"},{\"alignmentgroup\":\"True\",\"hovertemplate\":\"coffee_name=Cocoa\\u003cbr\\u003eSeason=%{x}\\u003cbr\\u003eTotal Sales=%{y}\\u003cextra\\u003e\\u003c\\u002fextra\\u003e\",\"legendgroup\":\"Cocoa\",\"marker\":{\"color\":\"#ab63fa\",\"pattern\":{\"shape\":\"\"}},\"name\":\"Cocoa\",\"offsetgroup\":\"Cocoa\",\"orientation\":\"v\",\"showlegend\":true,\"textposition\":\"auto\",\"x\":[\"Autumn\",\"Spring\",\"Summer\",\"Winter\"],\"xaxis\":\"x\",\"y\":[2694.24,1760.58,812.18,3254.16],\"yaxis\":\"y\",\"type\":\"bar\"},{\"alignmentgroup\":\"True\",\"hovertemplate\":\"coffee_name=Cortado\\u003cbr\\u003eSeason=%{x}\\u003cbr\\u003eTotal Sales=%{y}\\u003cextra\\u003e\\u003c\\u002fextra\\u003e\",\"legendgroup\":\"Cortado\",\"marker\":{\"color\":\"#FFA15A\",\"pattern\":{\"shape\":\"\"}},\"name\":\"Cortado\",\"offsetgroup\":\"Cortado\",\"orientation\":\"v\",\"showlegend\":true,\"textposition\":\"auto\",\"x\":[\"Autumn\",\"Spring\",\"Summer\",\"Winter\"],\"xaxis\":\"x\",\"y\":[2181.58,1794.24,1773.56,1635.48],\"yaxis\":\"y\",\"type\":\"bar\"},{\"alignmentgroup\":\"True\",\"hovertemplate\":\"coffee_name=Espresso\\u003cbr\\u003eSeason=%{x}\\u003cbr\\u003eTotal Sales=%{y}\\u003cextra\\u003e\\u003c\\u002fextra\\u003e\",\"legendgroup\":\"Espresso\",\"marker\":{\"color\":\"#19d3f3\",\"pattern\":{\"shape\":\"\"}},\"name\":\"Espresso\",\"offsetgroup\":\"Espresso\",\"orientation\":\"v\",\"showlegend\":true,\"textposition\":\"auto\",\"x\":[\"Autumn\",\"Spring\",\"Summer\",\"Winter\"],\"xaxis\":\"x\",\"y\":[533.34,683.74,757.16,716.04],\"yaxis\":\"y\",\"type\":\"bar\"},{\"alignmentgroup\":\"True\",\"hovertemplate\":\"coffee_name=Hot Chocolate\\u003cbr\\u003eSeason=%{x}\\u003cbr\\u003eTotal Sales=%{y}\\u003cextra\\u003e\\u003c\\u002fextra\\u003e\",\"legendgroup\":\"Hot Chocolate\",\"marker\":{\"color\":\"#FF6692\",\"pattern\":{\"shape\":\"\"}},\"name\":\"Hot Chocolate\",\"offsetgroup\":\"Hot Chocolate\",\"orientation\":\"v\",\"showlegend\":true,\"textposition\":\"auto\",\"x\":[\"Autumn\",\"Spring\",\"Summer\",\"Winter\"],\"xaxis\":\"x\",\"y\":[3764.1,2472.86,1086.02,2610.48],\"yaxis\":\"y\",\"type\":\"bar\"},{\"alignmentgroup\":\"True\",\"hovertemplate\":\"coffee_name=Latte\\u003cbr\\u003eSeason=%{x}\\u003cbr\\u003eTotal Sales=%{y}\\u003cextra\\u003e\\u003c\\u002fextra\\u003e\",\"legendgroup\":\"Latte\",\"marker\":{\"color\":\"#B6E880\",\"pattern\":{\"shape\":\"\"}},\"name\":\"Latte\",\"offsetgroup\":\"Latte\",\"orientation\":\"v\",\"showlegend\":true,\"textposition\":\"auto\",\"x\":[\"Autumn\",\"Spring\",\"Summer\",\"Winter\"],\"xaxis\":\"x\",\"y\":[9837.359999999999,6312.94,5647.08,5077.92],\"yaxis\":\"y\",\"type\":\"bar\"}],                        {\"template\":{\"data\":{\"histogram2dcontour\":[{\"type\":\"histogram2dcontour\",\"colorbar\":{\"outlinewidth\":0,\"ticks\":\"\"},\"colorscale\":[[0.0,\"#0d0887\"],[0.1111111111111111,\"#46039f\"],[0.2222222222222222,\"#7201a8\"],[0.3333333333333333,\"#9c179e\"],[0.4444444444444444,\"#bd3786\"],[0.5555555555555556,\"#d8576b\"],[0.6666666666666666,\"#ed7953\"],[0.7777777777777778,\"#fb9f3a\"],[0.8888888888888888,\"#fdca26\"],[1.0,\"#f0f921\"]]}],\"choropleth\":[{\"type\":\"choropleth\",\"colorbar\":{\"outlinewidth\":0,\"ticks\":\"\"}}],\"histogram2d\":[{\"type\":\"histogram2d\",\"colorbar\":{\"outlinewidth\":0,\"ticks\":\"\"},\"colorscale\":[[0.0,\"#0d0887\"],[0.1111111111111111,\"#46039f\"],[0.2222222222222222,\"#7201a8\"],[0.3333333333333333,\"#9c179e\"],[0.4444444444444444,\"#bd3786\"],[0.5555555555555556,\"#d8576b\"],[0.6666666666666666,\"#ed7953\"],[0.7777777777777778,\"#fb9f3a\"],[0.8888888888888888,\"#fdca26\"],[1.0,\"#f0f921\"]]}],\"heatmap\":[{\"type\":\"heatmap\",\"colorbar\":{\"outlinewidth\":0,\"ticks\":\"\"},\"colorscale\":[[0.0,\"#0d0887\"],[0.1111111111111111,\"#46039f\"],[0.2222222222222222,\"#7201a8\"],[0.3333333333333333,\"#9c179e\"],[0.4444444444444444,\"#bd3786\"],[0.5555555555555556,\"#d8576b\"],[0.6666666666666666,\"#ed7953\"],[0.7777777777777778,\"#fb9f3a\"],[0.8888888888888888,\"#fdca26\"],[1.0,\"#f0f921\"]]}],\"heatmapgl\":[{\"type\":\"heatmapgl\",\"colorbar\":{\"outlinewidth\":0,\"ticks\":\"\"},\"colorscale\":[[0.0,\"#0d0887\"],[0.1111111111111111,\"#46039f\"],[0.2222222222222222,\"#7201a8\"],[0.3333333333333333,\"#9c179e\"],[0.4444444444444444,\"#bd3786\"],[0.5555555555555556,\"#d8576b\"],[0.6666666666666666,\"#ed7953\"],[0.7777777777777778,\"#fb9f3a\"],[0.8888888888888888,\"#fdca26\"],[1.0,\"#f0f921\"]]}],\"contourcarpet\":[{\"type\":\"contourcarpet\",\"colorbar\":{\"outlinewidth\":0,\"ticks\":\"\"}}],\"contour\":[{\"type\":\"contour\",\"colorbar\":{\"outlinewidth\":0,\"ticks\":\"\"},\"colorscale\":[[0.0,\"#0d0887\"],[0.1111111111111111,\"#46039f\"],[0.2222222222222222,\"#7201a8\"],[0.3333333333333333,\"#9c179e\"],[0.4444444444444444,\"#bd3786\"],[0.5555555555555556,\"#d8576b\"],[0.6666666666666666,\"#ed7953\"],[0.7777777777777778,\"#fb9f3a\"],[0.8888888888888888,\"#fdca26\"],[1.0,\"#f0f921\"]]}],\"surface\":[{\"type\":\"surface\",\"colorbar\":{\"outlinewidth\":0,\"ticks\":\"\"},\"colorscale\":[[0.0,\"#0d0887\"],[0.1111111111111111,\"#46039f\"],[0.2222222222222222,\"#7201a8\"],[0.3333333333333333,\"#9c179e\"],[0.4444444444444444,\"#bd3786\"],[0.5555555555555556,\"#d8576b\"],[0.6666666666666666,\"#ed7953\"],[0.7777777777777778,\"#fb9f3a\"],[0.8888888888888888,\"#fdca26\"],[1.0,\"#f0f921\"]]}],\"mesh3d\":[{\"type\":\"mesh3d\",\"colorbar\":{\"outlinewidth\":0,\"ticks\":\"\"}}],\"scatter\":[{\"fillpattern\":{\"fillmode\":\"overlay\",\"size\":10,\"solidity\":0.2},\"type\":\"scatter\"}],\"parcoords\":[{\"type\":\"parcoords\",\"line\":{\"colorbar\":{\"outlinewidth\":0,\"ticks\":\"\"}}}],\"scatterpolargl\":[{\"type\":\"scatterpolargl\",\"marker\":{\"colorbar\":{\"outlinewidth\":0,\"ticks\":\"\"}}}],\"bar\":[{\"error_x\":{\"color\":\"#2a3f5f\"},\"error_y\":{\"color\":\"#2a3f5f\"},\"marker\":{\"line\":{\"color\":\"#E5ECF6\",\"width\":0.5},\"pattern\":{\"fillmode\":\"overlay\",\"size\":10,\"solidity\":0.2}},\"type\":\"bar\"}],\"scattergeo\":[{\"type\":\"scattergeo\",\"marker\":{\"colorbar\":{\"outlinewidth\":0,\"ticks\":\"\"}}}],\"scatterpolar\":[{\"type\":\"scatterpolar\",\"marker\":{\"colorbar\":{\"outlinewidth\":0,\"ticks\":\"\"}}}],\"histogram\":[{\"marker\":{\"pattern\":{\"fillmode\":\"overlay\",\"size\":10,\"solidity\":0.2}},\"type\":\"histogram\"}],\"scattergl\":[{\"type\":\"scattergl\",\"marker\":{\"colorbar\":{\"outlinewidth\":0,\"ticks\":\"\"}}}],\"scatter3d\":[{\"type\":\"scatter3d\",\"line\":{\"colorbar\":{\"outlinewidth\":0,\"ticks\":\"\"}},\"marker\":{\"colorbar\":{\"outlinewidth\":0,\"ticks\":\"\"}}}],\"scattermapbox\":[{\"type\":\"scattermapbox\",\"marker\":{\"colorbar\":{\"outlinewidth\":0,\"ticks\":\"\"}}}],\"scatterternary\":[{\"type\":\"scatterternary\",\"marker\":{\"colorbar\":{\"outlinewidth\":0,\"ticks\":\"\"}}}],\"scattercarpet\":[{\"type\":\"scattercarpet\",\"marker\":{\"colorbar\":{\"outlinewidth\":0,\"ticks\":\"\"}}}],\"carpet\":[{\"aaxis\":{\"endlinecolor\":\"#2a3f5f\",\"gridcolor\":\"white\",\"linecolor\":\"white\",\"minorgridcolor\":\"white\",\"startlinecolor\":\"#2a3f5f\"},\"baxis\":{\"endlinecolor\":\"#2a3f5f\",\"gridcolor\":\"white\",\"linecolor\":\"white\",\"minorgridcolor\":\"white\",\"startlinecolor\":\"#2a3f5f\"},\"type\":\"carpet\"}],\"table\":[{\"cells\":{\"fill\":{\"color\":\"#EBF0F8\"},\"line\":{\"color\":\"white\"}},\"header\":{\"fill\":{\"color\":\"#C8D4E3\"},\"line\":{\"color\":\"white\"}},\"type\":\"table\"}],\"barpolar\":[{\"marker\":{\"line\":{\"color\":\"#E5ECF6\",\"width\":0.5},\"pattern\":{\"fillmode\":\"overlay\",\"size\":10,\"solidity\":0.2}},\"type\":\"barpolar\"}],\"pie\":[{\"automargin\":true,\"type\":\"pie\"}]},\"layout\":{\"autotypenumbers\":\"strict\",\"colorway\":[\"#636efa\",\"#EF553B\",\"#00cc96\",\"#ab63fa\",\"#FFA15A\",\"#19d3f3\",\"#FF6692\",\"#B6E880\",\"#FF97FF\",\"#FECB52\"],\"font\":{\"color\":\"#2a3f5f\"},\"hovermode\":\"closest\",\"hoverlabel\":{\"align\":\"left\"},\"paper_bgcolor\":\"white\",\"plot_bgcolor\":\"#E5ECF6\",\"polar\":{\"bgcolor\":\"#E5ECF6\",\"angularaxis\":{\"gridcolor\":\"white\",\"linecolor\":\"white\",\"ticks\":\"\"},\"radialaxis\":{\"gridcolor\":\"white\",\"linecolor\":\"white\",\"ticks\":\"\"}},\"ternary\":{\"bgcolor\":\"#E5ECF6\",\"aaxis\":{\"gridcolor\":\"white\",\"linecolor\":\"white\",\"ticks\":\"\"},\"baxis\":{\"gridcolor\":\"white\",\"linecolor\":\"white\",\"ticks\":\"\"},\"caxis\":{\"gridcolor\":\"white\",\"linecolor\":\"white\",\"ticks\":\"\"}},\"coloraxis\":{\"colorbar\":{\"outlinewidth\":0,\"ticks\":\"\"}},\"colorscale\":{\"sequential\":[[0.0,\"#0d0887\"],[0.1111111111111111,\"#46039f\"],[0.2222222222222222,\"#7201a8\"],[0.3333333333333333,\"#9c179e\"],[0.4444444444444444,\"#bd3786\"],[0.5555555555555556,\"#d8576b\"],[0.6666666666666666,\"#ed7953\"],[0.7777777777777778,\"#fb9f3a\"],[0.8888888888888888,\"#fdca26\"],[1.0,\"#f0f921\"]],\"sequentialminus\":[[0.0,\"#0d0887\"],[0.1111111111111111,\"#46039f\"],[0.2222222222222222,\"#7201a8\"],[0.3333333333333333,\"#9c179e\"],[0.4444444444444444,\"#bd3786\"],[0.5555555555555556,\"#d8576b\"],[0.6666666666666666,\"#ed7953\"],[0.7777777777777778,\"#fb9f3a\"],[0.8888888888888888,\"#fdca26\"],[1.0,\"#f0f921\"]],\"diverging\":[[0,\"#8e0152\"],[0.1,\"#c51b7d\"],[0.2,\"#de77ae\"],[0.3,\"#f1b6da\"],[0.4,\"#fde0ef\"],[0.5,\"#f7f7f7\"],[0.6,\"#e6f5d0\"],[0.7,\"#b8e186\"],[0.8,\"#7fbc41\"],[0.9,\"#4d9221\"],[1,\"#276419\"]]},\"xaxis\":{\"gridcolor\":\"white\",\"linecolor\":\"white\",\"ticks\":\"\",\"title\":{\"standoff\":15},\"zerolinecolor\":\"white\",\"automargin\":true,\"zerolinewidth\":2},\"yaxis\":{\"gridcolor\":\"white\",\"linecolor\":\"white\",\"ticks\":\"\",\"title\":{\"standoff\":15},\"zerolinecolor\":\"white\",\"automargin\":true,\"zerolinewidth\":2},\"scene\":{\"xaxis\":{\"backgroundcolor\":\"#E5ECF6\",\"gridcolor\":\"white\",\"linecolor\":\"white\",\"showbackground\":true,\"ticks\":\"\",\"zerolinecolor\":\"white\",\"gridwidth\":2},\"yaxis\":{\"backgroundcolor\":\"#E5ECF6\",\"gridcolor\":\"white\",\"linecolor\":\"white\",\"showbackground\":true,\"ticks\":\"\",\"zerolinecolor\":\"white\",\"gridwidth\":2},\"zaxis\":{\"backgroundcolor\":\"#E5ECF6\",\"gridcolor\":\"white\",\"linecolor\":\"white\",\"showbackground\":true,\"ticks\":\"\",\"zerolinecolor\":\"white\",\"gridwidth\":2}},\"shapedefaults\":{\"line\":{\"color\":\"#2a3f5f\"}},\"annotationdefaults\":{\"arrowcolor\":\"#2a3f5f\",\"arrowhead\":0,\"arrowwidth\":1},\"geo\":{\"bgcolor\":\"white\",\"landcolor\":\"#E5ECF6\",\"subunitcolor\":\"white\",\"showland\":true,\"showlakes\":true,\"lakecolor\":\"white\"},\"title\":{\"x\":0.05},\"mapbox\":{\"style\":\"light\"}}},\"xaxis\":{\"anchor\":\"y\",\"domain\":[0.0,1.0],\"title\":{\"text\":\"Season\"}},\"yaxis\":{\"anchor\":\"x\",\"domain\":[0.0,1.0],\"title\":{\"text\":\"Total Sales\"}},\"legend\":{\"title\":{\"text\":\"coffee_name\"},\"tracegroupgap\":0},\"title\":{\"text\":\"Coffee Sales by Type Across Seasons\"},\"barmode\":\"group\"},                        {\"responsive\": true}                    ).then(function(){\n",
              "                            \n",
              "var gd = document.getElementById('03742665-b611-4364-ab91-21e9ff1ed3fa');\n",
              "var x = new MutationObserver(function (mutations, observer) {{\n",
              "        var display = window.getComputedStyle(gd).display;\n",
              "        if (!display || display === 'none') {{\n",
              "            console.log([gd, 'removed!']);\n",
              "            Plotly.purge(gd);\n",
              "            observer.disconnect();\n",
              "        }}\n",
              "}});\n",
              "\n",
              "// Listen for the removal of the full notebook cells\n",
              "var notebookContainer = gd.closest('#notebook-container');\n",
              "if (notebookContainer) {{\n",
              "    x.observe(notebookContainer, {childList: true});\n",
              "}}\n",
              "\n",
              "// Listen for the clearing of the current output cell\n",
              "var outputEl = gd.closest('.output');\n",
              "if (outputEl) {{\n",
              "    x.observe(outputEl, {childList: true});\n",
              "}}\n",
              "\n",
              "                        })                };                            </script>        </div>\n",
              "</body>\n",
              "</html>"
            ]
          },
          "metadata": {}
        }
      ],
      "source": [
        "# 1. Group sales by Season + Coffee Type\n",
        "season_coffee_sales = df.groupby([\"Season\", \"coffee_name\"])[\"money\"].sum().reset_index()\n",
        "\n",
        "# 2. For each season, find the top coffee\n",
        "best_coffee_per_season = season_coffee_sales.loc[season_coffee_sales.groupby(\"Season\")[\"money\"].idxmax()]\n",
        "\n",
        "print(\"\\n=== Best Coffee Type by Season ===\")\n",
        "for row in best_coffee_per_season.itertuples(index=False):\n",
        "    print(f\"{row.Season}: {row.coffee_name} → {round(row.money, 2)}\")\n",
        "\n",
        "# 3. Visualization\n",
        "fig = px.bar(\n",
        "    season_coffee_sales,\n",
        "    x=\"Season\",\n",
        "    y=\"money\",\n",
        "    color=\"coffee_name\",\n",
        "    barmode=\"group\",\n",
        "    labels={\"Season\": \"Season\", \"money\": \"Total Sales\"},\n",
        "    title=\"Coffee Sales by Type Across Seasons\"\n",
        ")\n",
        "fig.update_layout(xaxis_title=\"Season\", yaxis_title=\"Total Sales\")\n",
        "fig.show()\n"
      ]
    },
    {
      "cell_type": "markdown",
      "id": "9b718523",
      "metadata": {
        "id": "9b718523"
      },
      "source": [
        "### 8- Which hour of the day generates the most sales?"
      ]
    },
    {
      "cell_type": "code",
      "execution_count": 25,
      "id": "63aaa7f9",
      "metadata": {
        "colab": {
          "base_uri": "https://localhost:8080/",
          "height": 594
        },
        "id": "63aaa7f9",
        "outputId": "95f2cd32-7610-4b30-dad6-73345521ad91"
      },
      "outputs": [
        {
          "output_type": "stream",
          "name": "stdout",
          "text": [
            "\n",
            "=== All Years ===\n",
            "Hour with highest total sales: 10 → 10198.52\n"
          ]
        },
        {
          "output_type": "display_data",
          "data": {
            "text/html": [
              "<html>\n",
              "<head><meta charset=\"utf-8\" /></head>\n",
              "<body>\n",
              "    <div>            <script src=\"https://cdnjs.cloudflare.com/ajax/libs/mathjax/2.7.5/MathJax.js?config=TeX-AMS-MML_SVG\"></script><script type=\"text/javascript\">if (window.MathJax && window.MathJax.Hub && window.MathJax.Hub.Config) {window.MathJax.Hub.Config({SVG: {font: \"STIX-Web\"}});}</script>                <script type=\"text/javascript\">window.PlotlyConfig = {MathJaxConfig: 'local'};</script>\n",
              "        <script charset=\"utf-8\" src=\"https://cdn.plot.ly/plotly-2.35.2.min.js\"></script>                <div id=\"c4614323-6ba2-412d-9616-e88eafc8d818\" class=\"plotly-graph-div\" style=\"height:525px; width:100%;\"></div>            <script type=\"text/javascript\">                                    window.PLOTLYENV=window.PLOTLYENV || {};                                    if (document.getElementById(\"c4614323-6ba2-412d-9616-e88eafc8d818\")) {                    Plotly.newPlot(                        \"c4614323-6ba2-412d-9616-e88eafc8d818\",                        [{\"hovertemplate\":\"Hour of Day=%{x}\\u003cbr\\u003eTotal Sales=%{y}\\u003cextra\\u003e\\u003c\\u002fextra\\u003e\",\"legendgroup\":\"\",\"line\":{\"color\":\"#636efa\",\"dash\":\"solid\"},\"marker\":{\"symbol\":\"circle\"},\"mode\":\"lines+markers\",\"name\":\"\",\"orientation\":\"v\",\"showlegend\":false,\"x\":[6,7,8,9,10,11,12,13,14,15,16,17,18,19,20,21,22],\"xaxis\":\"x\",\"y\":[149.4,2846.020000000003,7017.880000000007,7264.280000000005,10198.519999999991,8453.100000000008,7419.620000000012,7028.760000000013,7173.8000000000175,7476.0200000000195,9031.840000000024,7659.760000000013,7162.600000000018,7751.9600000000155,5578.9200000000155,6397.940000000017,3635.160000000008],\"yaxis\":\"y\",\"type\":\"scatter\"}],                        {\"template\":{\"data\":{\"histogram2dcontour\":[{\"type\":\"histogram2dcontour\",\"colorbar\":{\"outlinewidth\":0,\"ticks\":\"\"},\"colorscale\":[[0.0,\"#0d0887\"],[0.1111111111111111,\"#46039f\"],[0.2222222222222222,\"#7201a8\"],[0.3333333333333333,\"#9c179e\"],[0.4444444444444444,\"#bd3786\"],[0.5555555555555556,\"#d8576b\"],[0.6666666666666666,\"#ed7953\"],[0.7777777777777778,\"#fb9f3a\"],[0.8888888888888888,\"#fdca26\"],[1.0,\"#f0f921\"]]}],\"choropleth\":[{\"type\":\"choropleth\",\"colorbar\":{\"outlinewidth\":0,\"ticks\":\"\"}}],\"histogram2d\":[{\"type\":\"histogram2d\",\"colorbar\":{\"outlinewidth\":0,\"ticks\":\"\"},\"colorscale\":[[0.0,\"#0d0887\"],[0.1111111111111111,\"#46039f\"],[0.2222222222222222,\"#7201a8\"],[0.3333333333333333,\"#9c179e\"],[0.4444444444444444,\"#bd3786\"],[0.5555555555555556,\"#d8576b\"],[0.6666666666666666,\"#ed7953\"],[0.7777777777777778,\"#fb9f3a\"],[0.8888888888888888,\"#fdca26\"],[1.0,\"#f0f921\"]]}],\"heatmap\":[{\"type\":\"heatmap\",\"colorbar\":{\"outlinewidth\":0,\"ticks\":\"\"},\"colorscale\":[[0.0,\"#0d0887\"],[0.1111111111111111,\"#46039f\"],[0.2222222222222222,\"#7201a8\"],[0.3333333333333333,\"#9c179e\"],[0.4444444444444444,\"#bd3786\"],[0.5555555555555556,\"#d8576b\"],[0.6666666666666666,\"#ed7953\"],[0.7777777777777778,\"#fb9f3a\"],[0.8888888888888888,\"#fdca26\"],[1.0,\"#f0f921\"]]}],\"heatmapgl\":[{\"type\":\"heatmapgl\",\"colorbar\":{\"outlinewidth\":0,\"ticks\":\"\"},\"colorscale\":[[0.0,\"#0d0887\"],[0.1111111111111111,\"#46039f\"],[0.2222222222222222,\"#7201a8\"],[0.3333333333333333,\"#9c179e\"],[0.4444444444444444,\"#bd3786\"],[0.5555555555555556,\"#d8576b\"],[0.6666666666666666,\"#ed7953\"],[0.7777777777777778,\"#fb9f3a\"],[0.8888888888888888,\"#fdca26\"],[1.0,\"#f0f921\"]]}],\"contourcarpet\":[{\"type\":\"contourcarpet\",\"colorbar\":{\"outlinewidth\":0,\"ticks\":\"\"}}],\"contour\":[{\"type\":\"contour\",\"colorbar\":{\"outlinewidth\":0,\"ticks\":\"\"},\"colorscale\":[[0.0,\"#0d0887\"],[0.1111111111111111,\"#46039f\"],[0.2222222222222222,\"#7201a8\"],[0.3333333333333333,\"#9c179e\"],[0.4444444444444444,\"#bd3786\"],[0.5555555555555556,\"#d8576b\"],[0.6666666666666666,\"#ed7953\"],[0.7777777777777778,\"#fb9f3a\"],[0.8888888888888888,\"#fdca26\"],[1.0,\"#f0f921\"]]}],\"surface\":[{\"type\":\"surface\",\"colorbar\":{\"outlinewidth\":0,\"ticks\":\"\"},\"colorscale\":[[0.0,\"#0d0887\"],[0.1111111111111111,\"#46039f\"],[0.2222222222222222,\"#7201a8\"],[0.3333333333333333,\"#9c179e\"],[0.4444444444444444,\"#bd3786\"],[0.5555555555555556,\"#d8576b\"],[0.6666666666666666,\"#ed7953\"],[0.7777777777777778,\"#fb9f3a\"],[0.8888888888888888,\"#fdca26\"],[1.0,\"#f0f921\"]]}],\"mesh3d\":[{\"type\":\"mesh3d\",\"colorbar\":{\"outlinewidth\":0,\"ticks\":\"\"}}],\"scatter\":[{\"fillpattern\":{\"fillmode\":\"overlay\",\"size\":10,\"solidity\":0.2},\"type\":\"scatter\"}],\"parcoords\":[{\"type\":\"parcoords\",\"line\":{\"colorbar\":{\"outlinewidth\":0,\"ticks\":\"\"}}}],\"scatterpolargl\":[{\"type\":\"scatterpolargl\",\"marker\":{\"colorbar\":{\"outlinewidth\":0,\"ticks\":\"\"}}}],\"bar\":[{\"error_x\":{\"color\":\"#2a3f5f\"},\"error_y\":{\"color\":\"#2a3f5f\"},\"marker\":{\"line\":{\"color\":\"#E5ECF6\",\"width\":0.5},\"pattern\":{\"fillmode\":\"overlay\",\"size\":10,\"solidity\":0.2}},\"type\":\"bar\"}],\"scattergeo\":[{\"type\":\"scattergeo\",\"marker\":{\"colorbar\":{\"outlinewidth\":0,\"ticks\":\"\"}}}],\"scatterpolar\":[{\"type\":\"scatterpolar\",\"marker\":{\"colorbar\":{\"outlinewidth\":0,\"ticks\":\"\"}}}],\"histogram\":[{\"marker\":{\"pattern\":{\"fillmode\":\"overlay\",\"size\":10,\"solidity\":0.2}},\"type\":\"histogram\"}],\"scattergl\":[{\"type\":\"scattergl\",\"marker\":{\"colorbar\":{\"outlinewidth\":0,\"ticks\":\"\"}}}],\"scatter3d\":[{\"type\":\"scatter3d\",\"line\":{\"colorbar\":{\"outlinewidth\":0,\"ticks\":\"\"}},\"marker\":{\"colorbar\":{\"outlinewidth\":0,\"ticks\":\"\"}}}],\"scattermapbox\":[{\"type\":\"scattermapbox\",\"marker\":{\"colorbar\":{\"outlinewidth\":0,\"ticks\":\"\"}}}],\"scatterternary\":[{\"type\":\"scatterternary\",\"marker\":{\"colorbar\":{\"outlinewidth\":0,\"ticks\":\"\"}}}],\"scattercarpet\":[{\"type\":\"scattercarpet\",\"marker\":{\"colorbar\":{\"outlinewidth\":0,\"ticks\":\"\"}}}],\"carpet\":[{\"aaxis\":{\"endlinecolor\":\"#2a3f5f\",\"gridcolor\":\"white\",\"linecolor\":\"white\",\"minorgridcolor\":\"white\",\"startlinecolor\":\"#2a3f5f\"},\"baxis\":{\"endlinecolor\":\"#2a3f5f\",\"gridcolor\":\"white\",\"linecolor\":\"white\",\"minorgridcolor\":\"white\",\"startlinecolor\":\"#2a3f5f\"},\"type\":\"carpet\"}],\"table\":[{\"cells\":{\"fill\":{\"color\":\"#EBF0F8\"},\"line\":{\"color\":\"white\"}},\"header\":{\"fill\":{\"color\":\"#C8D4E3\"},\"line\":{\"color\":\"white\"}},\"type\":\"table\"}],\"barpolar\":[{\"marker\":{\"line\":{\"color\":\"#E5ECF6\",\"width\":0.5},\"pattern\":{\"fillmode\":\"overlay\",\"size\":10,\"solidity\":0.2}},\"type\":\"barpolar\"}],\"pie\":[{\"automargin\":true,\"type\":\"pie\"}]},\"layout\":{\"autotypenumbers\":\"strict\",\"colorway\":[\"#636efa\",\"#EF553B\",\"#00cc96\",\"#ab63fa\",\"#FFA15A\",\"#19d3f3\",\"#FF6692\",\"#B6E880\",\"#FF97FF\",\"#FECB52\"],\"font\":{\"color\":\"#2a3f5f\"},\"hovermode\":\"closest\",\"hoverlabel\":{\"align\":\"left\"},\"paper_bgcolor\":\"white\",\"plot_bgcolor\":\"#E5ECF6\",\"polar\":{\"bgcolor\":\"#E5ECF6\",\"angularaxis\":{\"gridcolor\":\"white\",\"linecolor\":\"white\",\"ticks\":\"\"},\"radialaxis\":{\"gridcolor\":\"white\",\"linecolor\":\"white\",\"ticks\":\"\"}},\"ternary\":{\"bgcolor\":\"#E5ECF6\",\"aaxis\":{\"gridcolor\":\"white\",\"linecolor\":\"white\",\"ticks\":\"\"},\"baxis\":{\"gridcolor\":\"white\",\"linecolor\":\"white\",\"ticks\":\"\"},\"caxis\":{\"gridcolor\":\"white\",\"linecolor\":\"white\",\"ticks\":\"\"}},\"coloraxis\":{\"colorbar\":{\"outlinewidth\":0,\"ticks\":\"\"}},\"colorscale\":{\"sequential\":[[0.0,\"#0d0887\"],[0.1111111111111111,\"#46039f\"],[0.2222222222222222,\"#7201a8\"],[0.3333333333333333,\"#9c179e\"],[0.4444444444444444,\"#bd3786\"],[0.5555555555555556,\"#d8576b\"],[0.6666666666666666,\"#ed7953\"],[0.7777777777777778,\"#fb9f3a\"],[0.8888888888888888,\"#fdca26\"],[1.0,\"#f0f921\"]],\"sequentialminus\":[[0.0,\"#0d0887\"],[0.1111111111111111,\"#46039f\"],[0.2222222222222222,\"#7201a8\"],[0.3333333333333333,\"#9c179e\"],[0.4444444444444444,\"#bd3786\"],[0.5555555555555556,\"#d8576b\"],[0.6666666666666666,\"#ed7953\"],[0.7777777777777778,\"#fb9f3a\"],[0.8888888888888888,\"#fdca26\"],[1.0,\"#f0f921\"]],\"diverging\":[[0,\"#8e0152\"],[0.1,\"#c51b7d\"],[0.2,\"#de77ae\"],[0.3,\"#f1b6da\"],[0.4,\"#fde0ef\"],[0.5,\"#f7f7f7\"],[0.6,\"#e6f5d0\"],[0.7,\"#b8e186\"],[0.8,\"#7fbc41\"],[0.9,\"#4d9221\"],[1,\"#276419\"]]},\"xaxis\":{\"gridcolor\":\"white\",\"linecolor\":\"white\",\"ticks\":\"\",\"title\":{\"standoff\":15},\"zerolinecolor\":\"white\",\"automargin\":true,\"zerolinewidth\":2},\"yaxis\":{\"gridcolor\":\"white\",\"linecolor\":\"white\",\"ticks\":\"\",\"title\":{\"standoff\":15},\"zerolinecolor\":\"white\",\"automargin\":true,\"zerolinewidth\":2},\"scene\":{\"xaxis\":{\"backgroundcolor\":\"#E5ECF6\",\"gridcolor\":\"white\",\"linecolor\":\"white\",\"showbackground\":true,\"ticks\":\"\",\"zerolinecolor\":\"white\",\"gridwidth\":2},\"yaxis\":{\"backgroundcolor\":\"#E5ECF6\",\"gridcolor\":\"white\",\"linecolor\":\"white\",\"showbackground\":true,\"ticks\":\"\",\"zerolinecolor\":\"white\",\"gridwidth\":2},\"zaxis\":{\"backgroundcolor\":\"#E5ECF6\",\"gridcolor\":\"white\",\"linecolor\":\"white\",\"showbackground\":true,\"ticks\":\"\",\"zerolinecolor\":\"white\",\"gridwidth\":2}},\"shapedefaults\":{\"line\":{\"color\":\"#2a3f5f\"}},\"annotationdefaults\":{\"arrowcolor\":\"#2a3f5f\",\"arrowhead\":0,\"arrowwidth\":1},\"geo\":{\"bgcolor\":\"white\",\"landcolor\":\"#E5ECF6\",\"subunitcolor\":\"white\",\"showland\":true,\"showlakes\":true,\"lakecolor\":\"white\"},\"title\":{\"x\":0.05},\"mapbox\":{\"style\":\"light\"}}},\"xaxis\":{\"anchor\":\"y\",\"domain\":[0.0,1.0],\"title\":{\"text\":\"Hour of Day\"},\"dtick\":1},\"yaxis\":{\"anchor\":\"x\",\"domain\":[0.0,1.0],\"title\":{\"text\":\"Total Sales\"}},\"legend\":{\"tracegroupgap\":0},\"title\":{\"text\":\"Total Sales by Hour of Day (All Years)\"}},                        {\"responsive\": true}                    ).then(function(){\n",
              "                            \n",
              "var gd = document.getElementById('c4614323-6ba2-412d-9616-e88eafc8d818');\n",
              "var x = new MutationObserver(function (mutations, observer) {{\n",
              "        var display = window.getComputedStyle(gd).display;\n",
              "        if (!display || display === 'none') {{\n",
              "            console.log([gd, 'removed!']);\n",
              "            Plotly.purge(gd);\n",
              "            observer.disconnect();\n",
              "        }}\n",
              "}});\n",
              "\n",
              "// Listen for the removal of the full notebook cells\n",
              "var notebookContainer = gd.closest('#notebook-container');\n",
              "if (notebookContainer) {{\n",
              "    x.observe(notebookContainer, {childList: true});\n",
              "}}\n",
              "\n",
              "// Listen for the clearing of the current output cell\n",
              "var outputEl = gd.closest('.output');\n",
              "if (outputEl) {{\n",
              "    x.observe(outputEl, {childList: true});\n",
              "}}\n",
              "\n",
              "                        })                };                            </script>        </div>\n",
              "</body>\n",
              "</html>"
            ]
          },
          "metadata": {}
        }
      ],
      "source": [
        "# 1. Declaring the variable and index\n",
        "hour = df[\"hour_of_day\"].values\n",
        "money = df[\"money\"].values\n",
        "hours, inv_hour = np.unique(hour, return_inverse=True)\n",
        "\n",
        "# 2. Finding the total sales per hour\n",
        "totals_by_hour = np.bincount(inv_hour, weights=money).astype(float)\n",
        "\n",
        "# 3. find top hour with most sales\n",
        "best_idx = np.argmax(totals_by_hour)\n",
        "best_hour = hours[best_idx]\n",
        "best_value = totals_by_hour[best_idx]\n",
        "\n",
        "print(\"\\n=== All Years ===\")\n",
        "print(\"Hour with highest total sales:\", best_hour, \"→\", round(best_value, 2))\n",
        "\n",
        "# Visualization\n",
        "fig = px.line(\n",
        "    x=hours,\n",
        "    y=totals_by_hour,\n",
        "    markers=True,\n",
        "    labels={\"x\": \"Hour of Day\", \"y\": \"Total Sales\"},\n",
        "    title=\"Total Sales by Hour of Day (All Years)\"\n",
        ")\n",
        "fig.update_layout(xaxis=dict(dtick=1))  #\n",
        "fig.show()"
      ]
    },
    {
      "cell_type": "markdown",
      "id": "63906f7e",
      "metadata": {
        "id": "63906f7e"
      },
      "source": [
        "### Correlation Heatmap"
      ]
    },
    {
      "cell_type": "code",
      "execution_count": 26,
      "id": "b0858ae3",
      "metadata": {
        "colab": {
          "base_uri": "https://localhost:8080/",
          "height": 542
        },
        "id": "b0858ae3",
        "outputId": "f76f8c5d-aaa8-4481-932c-f2ba087b37d1"
      },
      "outputs": [
        {
          "output_type": "display_data",
          "data": {
            "text/html": [
              "<html>\n",
              "<head><meta charset=\"utf-8\" /></head>\n",
              "<body>\n",
              "    <div>            <script src=\"https://cdnjs.cloudflare.com/ajax/libs/mathjax/2.7.5/MathJax.js?config=TeX-AMS-MML_SVG\"></script><script type=\"text/javascript\">if (window.MathJax && window.MathJax.Hub && window.MathJax.Hub.Config) {window.MathJax.Hub.Config({SVG: {font: \"STIX-Web\"}});}</script>                <script type=\"text/javascript\">window.PlotlyConfig = {MathJaxConfig: 'local'};</script>\n",
              "        <script charset=\"utf-8\" src=\"https://cdn.plot.ly/plotly-2.35.2.min.js\"></script>                <div id=\"ec78485c-f439-4940-a5e8-2dfc4cebf1d4\" class=\"plotly-graph-div\" style=\"height:525px; width:100%;\"></div>            <script type=\"text/javascript\">                                    window.PLOTLYENV=window.PLOTLYENV || {};                                    if (document.getElementById(\"ec78485c-f439-4940-a5e8-2dfc4cebf1d4\")) {                    Plotly.newPlot(                        \"ec78485c-f439-4940-a5e8-2dfc4cebf1d4\",                        [{\"coloraxis\":\"coloraxis\",\"name\":\"0\",\"texttemplate\":\"%{z}\",\"x\":[\"hour_of_day\",\"Weekdaysort\",\"Monthsort\",\"money\"],\"y\":[\"hour_of_day\",\"Weekdaysort\",\"Monthsort\",\"money\"],\"z\":[[1.0,-0.002613958842374278,0.008292999013961046,0.20274793514276118],[-0.002613958842374278,1.0,0.04414093043700222,-0.017264090689989044],[0.008292999013961046,0.04414093043700222,1.0,-0.05004319098569995],[0.20274793514276118,-0.017264090689989044,-0.05004319098569995,1.0]],\"type\":\"heatmap\",\"xaxis\":\"x\",\"yaxis\":\"y\",\"hovertemplate\":\"x: %{x}\\u003cbr\\u003ey: %{y}\\u003cbr\\u003ecolor: %{z}\\u003cextra\\u003e\\u003c\\u002fextra\\u003e\"}],                        {\"template\":{\"data\":{\"histogram2dcontour\":[{\"type\":\"histogram2dcontour\",\"colorbar\":{\"outlinewidth\":0,\"ticks\":\"\"},\"colorscale\":[[0.0,\"#0d0887\"],[0.1111111111111111,\"#46039f\"],[0.2222222222222222,\"#7201a8\"],[0.3333333333333333,\"#9c179e\"],[0.4444444444444444,\"#bd3786\"],[0.5555555555555556,\"#d8576b\"],[0.6666666666666666,\"#ed7953\"],[0.7777777777777778,\"#fb9f3a\"],[0.8888888888888888,\"#fdca26\"],[1.0,\"#f0f921\"]]}],\"choropleth\":[{\"type\":\"choropleth\",\"colorbar\":{\"outlinewidth\":0,\"ticks\":\"\"}}],\"histogram2d\":[{\"type\":\"histogram2d\",\"colorbar\":{\"outlinewidth\":0,\"ticks\":\"\"},\"colorscale\":[[0.0,\"#0d0887\"],[0.1111111111111111,\"#46039f\"],[0.2222222222222222,\"#7201a8\"],[0.3333333333333333,\"#9c179e\"],[0.4444444444444444,\"#bd3786\"],[0.5555555555555556,\"#d8576b\"],[0.6666666666666666,\"#ed7953\"],[0.7777777777777778,\"#fb9f3a\"],[0.8888888888888888,\"#fdca26\"],[1.0,\"#f0f921\"]]}],\"heatmap\":[{\"type\":\"heatmap\",\"colorbar\":{\"outlinewidth\":0,\"ticks\":\"\"},\"colorscale\":[[0.0,\"#0d0887\"],[0.1111111111111111,\"#46039f\"],[0.2222222222222222,\"#7201a8\"],[0.3333333333333333,\"#9c179e\"],[0.4444444444444444,\"#bd3786\"],[0.5555555555555556,\"#d8576b\"],[0.6666666666666666,\"#ed7953\"],[0.7777777777777778,\"#fb9f3a\"],[0.8888888888888888,\"#fdca26\"],[1.0,\"#f0f921\"]]}],\"heatmapgl\":[{\"type\":\"heatmapgl\",\"colorbar\":{\"outlinewidth\":0,\"ticks\":\"\"},\"colorscale\":[[0.0,\"#0d0887\"],[0.1111111111111111,\"#46039f\"],[0.2222222222222222,\"#7201a8\"],[0.3333333333333333,\"#9c179e\"],[0.4444444444444444,\"#bd3786\"],[0.5555555555555556,\"#d8576b\"],[0.6666666666666666,\"#ed7953\"],[0.7777777777777778,\"#fb9f3a\"],[0.8888888888888888,\"#fdca26\"],[1.0,\"#f0f921\"]]}],\"contourcarpet\":[{\"type\":\"contourcarpet\",\"colorbar\":{\"outlinewidth\":0,\"ticks\":\"\"}}],\"contour\":[{\"type\":\"contour\",\"colorbar\":{\"outlinewidth\":0,\"ticks\":\"\"},\"colorscale\":[[0.0,\"#0d0887\"],[0.1111111111111111,\"#46039f\"],[0.2222222222222222,\"#7201a8\"],[0.3333333333333333,\"#9c179e\"],[0.4444444444444444,\"#bd3786\"],[0.5555555555555556,\"#d8576b\"],[0.6666666666666666,\"#ed7953\"],[0.7777777777777778,\"#fb9f3a\"],[0.8888888888888888,\"#fdca26\"],[1.0,\"#f0f921\"]]}],\"surface\":[{\"type\":\"surface\",\"colorbar\":{\"outlinewidth\":0,\"ticks\":\"\"},\"colorscale\":[[0.0,\"#0d0887\"],[0.1111111111111111,\"#46039f\"],[0.2222222222222222,\"#7201a8\"],[0.3333333333333333,\"#9c179e\"],[0.4444444444444444,\"#bd3786\"],[0.5555555555555556,\"#d8576b\"],[0.6666666666666666,\"#ed7953\"],[0.7777777777777778,\"#fb9f3a\"],[0.8888888888888888,\"#fdca26\"],[1.0,\"#f0f921\"]]}],\"mesh3d\":[{\"type\":\"mesh3d\",\"colorbar\":{\"outlinewidth\":0,\"ticks\":\"\"}}],\"scatter\":[{\"fillpattern\":{\"fillmode\":\"overlay\",\"size\":10,\"solidity\":0.2},\"type\":\"scatter\"}],\"parcoords\":[{\"type\":\"parcoords\",\"line\":{\"colorbar\":{\"outlinewidth\":0,\"ticks\":\"\"}}}],\"scatterpolargl\":[{\"type\":\"scatterpolargl\",\"marker\":{\"colorbar\":{\"outlinewidth\":0,\"ticks\":\"\"}}}],\"bar\":[{\"error_x\":{\"color\":\"#2a3f5f\"},\"error_y\":{\"color\":\"#2a3f5f\"},\"marker\":{\"line\":{\"color\":\"#E5ECF6\",\"width\":0.5},\"pattern\":{\"fillmode\":\"overlay\",\"size\":10,\"solidity\":0.2}},\"type\":\"bar\"}],\"scattergeo\":[{\"type\":\"scattergeo\",\"marker\":{\"colorbar\":{\"outlinewidth\":0,\"ticks\":\"\"}}}],\"scatterpolar\":[{\"type\":\"scatterpolar\",\"marker\":{\"colorbar\":{\"outlinewidth\":0,\"ticks\":\"\"}}}],\"histogram\":[{\"marker\":{\"pattern\":{\"fillmode\":\"overlay\",\"size\":10,\"solidity\":0.2}},\"type\":\"histogram\"}],\"scattergl\":[{\"type\":\"scattergl\",\"marker\":{\"colorbar\":{\"outlinewidth\":0,\"ticks\":\"\"}}}],\"scatter3d\":[{\"type\":\"scatter3d\",\"line\":{\"colorbar\":{\"outlinewidth\":0,\"ticks\":\"\"}},\"marker\":{\"colorbar\":{\"outlinewidth\":0,\"ticks\":\"\"}}}],\"scattermapbox\":[{\"type\":\"scattermapbox\",\"marker\":{\"colorbar\":{\"outlinewidth\":0,\"ticks\":\"\"}}}],\"scatterternary\":[{\"type\":\"scatterternary\",\"marker\":{\"colorbar\":{\"outlinewidth\":0,\"ticks\":\"\"}}}],\"scattercarpet\":[{\"type\":\"scattercarpet\",\"marker\":{\"colorbar\":{\"outlinewidth\":0,\"ticks\":\"\"}}}],\"carpet\":[{\"aaxis\":{\"endlinecolor\":\"#2a3f5f\",\"gridcolor\":\"white\",\"linecolor\":\"white\",\"minorgridcolor\":\"white\",\"startlinecolor\":\"#2a3f5f\"},\"baxis\":{\"endlinecolor\":\"#2a3f5f\",\"gridcolor\":\"white\",\"linecolor\":\"white\",\"minorgridcolor\":\"white\",\"startlinecolor\":\"#2a3f5f\"},\"type\":\"carpet\"}],\"table\":[{\"cells\":{\"fill\":{\"color\":\"#EBF0F8\"},\"line\":{\"color\":\"white\"}},\"header\":{\"fill\":{\"color\":\"#C8D4E3\"},\"line\":{\"color\":\"white\"}},\"type\":\"table\"}],\"barpolar\":[{\"marker\":{\"line\":{\"color\":\"#E5ECF6\",\"width\":0.5},\"pattern\":{\"fillmode\":\"overlay\",\"size\":10,\"solidity\":0.2}},\"type\":\"barpolar\"}],\"pie\":[{\"automargin\":true,\"type\":\"pie\"}]},\"layout\":{\"autotypenumbers\":\"strict\",\"colorway\":[\"#636efa\",\"#EF553B\",\"#00cc96\",\"#ab63fa\",\"#FFA15A\",\"#19d3f3\",\"#FF6692\",\"#B6E880\",\"#FF97FF\",\"#FECB52\"],\"font\":{\"color\":\"#2a3f5f\"},\"hovermode\":\"closest\",\"hoverlabel\":{\"align\":\"left\"},\"paper_bgcolor\":\"white\",\"plot_bgcolor\":\"#E5ECF6\",\"polar\":{\"bgcolor\":\"#E5ECF6\",\"angularaxis\":{\"gridcolor\":\"white\",\"linecolor\":\"white\",\"ticks\":\"\"},\"radialaxis\":{\"gridcolor\":\"white\",\"linecolor\":\"white\",\"ticks\":\"\"}},\"ternary\":{\"bgcolor\":\"#E5ECF6\",\"aaxis\":{\"gridcolor\":\"white\",\"linecolor\":\"white\",\"ticks\":\"\"},\"baxis\":{\"gridcolor\":\"white\",\"linecolor\":\"white\",\"ticks\":\"\"},\"caxis\":{\"gridcolor\":\"white\",\"linecolor\":\"white\",\"ticks\":\"\"}},\"coloraxis\":{\"colorbar\":{\"outlinewidth\":0,\"ticks\":\"\"}},\"colorscale\":{\"sequential\":[[0.0,\"#0d0887\"],[0.1111111111111111,\"#46039f\"],[0.2222222222222222,\"#7201a8\"],[0.3333333333333333,\"#9c179e\"],[0.4444444444444444,\"#bd3786\"],[0.5555555555555556,\"#d8576b\"],[0.6666666666666666,\"#ed7953\"],[0.7777777777777778,\"#fb9f3a\"],[0.8888888888888888,\"#fdca26\"],[1.0,\"#f0f921\"]],\"sequentialminus\":[[0.0,\"#0d0887\"],[0.1111111111111111,\"#46039f\"],[0.2222222222222222,\"#7201a8\"],[0.3333333333333333,\"#9c179e\"],[0.4444444444444444,\"#bd3786\"],[0.5555555555555556,\"#d8576b\"],[0.6666666666666666,\"#ed7953\"],[0.7777777777777778,\"#fb9f3a\"],[0.8888888888888888,\"#fdca26\"],[1.0,\"#f0f921\"]],\"diverging\":[[0,\"#8e0152\"],[0.1,\"#c51b7d\"],[0.2,\"#de77ae\"],[0.3,\"#f1b6da\"],[0.4,\"#fde0ef\"],[0.5,\"#f7f7f7\"],[0.6,\"#e6f5d0\"],[0.7,\"#b8e186\"],[0.8,\"#7fbc41\"],[0.9,\"#4d9221\"],[1,\"#276419\"]]},\"xaxis\":{\"gridcolor\":\"white\",\"linecolor\":\"white\",\"ticks\":\"\",\"title\":{\"standoff\":15},\"zerolinecolor\":\"white\",\"automargin\":true,\"zerolinewidth\":2},\"yaxis\":{\"gridcolor\":\"white\",\"linecolor\":\"white\",\"ticks\":\"\",\"title\":{\"standoff\":15},\"zerolinecolor\":\"white\",\"automargin\":true,\"zerolinewidth\":2},\"scene\":{\"xaxis\":{\"backgroundcolor\":\"#E5ECF6\",\"gridcolor\":\"white\",\"linecolor\":\"white\",\"showbackground\":true,\"ticks\":\"\",\"zerolinecolor\":\"white\",\"gridwidth\":2},\"yaxis\":{\"backgroundcolor\":\"#E5ECF6\",\"gridcolor\":\"white\",\"linecolor\":\"white\",\"showbackground\":true,\"ticks\":\"\",\"zerolinecolor\":\"white\",\"gridwidth\":2},\"zaxis\":{\"backgroundcolor\":\"#E5ECF6\",\"gridcolor\":\"white\",\"linecolor\":\"white\",\"showbackground\":true,\"ticks\":\"\",\"zerolinecolor\":\"white\",\"gridwidth\":2}},\"shapedefaults\":{\"line\":{\"color\":\"#2a3f5f\"}},\"annotationdefaults\":{\"arrowcolor\":\"#2a3f5f\",\"arrowhead\":0,\"arrowwidth\":1},\"geo\":{\"bgcolor\":\"white\",\"landcolor\":\"#E5ECF6\",\"subunitcolor\":\"white\",\"showland\":true,\"showlakes\":true,\"lakecolor\":\"white\"},\"title\":{\"x\":0.05},\"mapbox\":{\"style\":\"light\"}}},\"xaxis\":{\"anchor\":\"y\",\"domain\":[0.0,1.0],\"scaleanchor\":\"y\",\"constrain\":\"domain\"},\"yaxis\":{\"anchor\":\"x\",\"domain\":[0.0,1.0],\"autorange\":\"reversed\",\"constrain\":\"domain\"},\"coloraxis\":{\"colorscale\":[[0.0,\"rgb(255,255,217)\"],[0.125,\"rgb(237,248,177)\"],[0.25,\"rgb(199,233,180)\"],[0.375,\"rgb(127,205,187)\"],[0.5,\"rgb(65,182,196)\"],[0.625,\"rgb(29,145,192)\"],[0.75,\"rgb(34,94,168)\"],[0.875,\"rgb(37,52,148)\"],[1.0,\"rgb(8,29,88)\"]]},\"title\":{\"text\":\"Correlation Heatmap\"}},                        {\"responsive\": true}                    ).then(function(){\n",
              "                            \n",
              "var gd = document.getElementById('ec78485c-f439-4940-a5e8-2dfc4cebf1d4');\n",
              "var x = new MutationObserver(function (mutations, observer) {{\n",
              "        var display = window.getComputedStyle(gd).display;\n",
              "        if (!display || display === 'none') {{\n",
              "            console.log([gd, 'removed!']);\n",
              "            Plotly.purge(gd);\n",
              "            observer.disconnect();\n",
              "        }}\n",
              "}});\n",
              "\n",
              "// Listen for the removal of the full notebook cells\n",
              "var notebookContainer = gd.closest('#notebook-container');\n",
              "if (notebookContainer) {{\n",
              "    x.observe(notebookContainer, {childList: true});\n",
              "}}\n",
              "\n",
              "// Listen for the clearing of the current output cell\n",
              "var outputEl = gd.closest('.output');\n",
              "if (outputEl) {{\n",
              "    x.observe(outputEl, {childList: true});\n",
              "}}\n",
              "\n",
              "                        })                };                            </script>        </div>\n",
              "</body>\n",
              "</html>"
            ]
          },
          "metadata": {}
        }
      ],
      "source": [
        "import plotly.express as px\n",
        "\n",
        "# Select numeric columns for correlation\n",
        "numeric_cols = [\"hour_of_day\", \"Weekdaysort\", \"Monthsort\", \"money\"]\n",
        "corr = df[numeric_cols].corr()\n",
        "\n",
        "# Plotly heatmap\n",
        "fig = px.imshow(\n",
        "    corr,\n",
        "    text_auto=True,\n",
        "    color_continuous_scale=\"YlGnBu\",\n",
        "    title=\"Correlation Heatmap\"\n",
        ")\n",
        "fig.show()"
      ]
    },
    {
      "cell_type": "markdown",
      "id": "f692a9c8",
      "metadata": {
        "id": "f692a9c8"
      },
      "source": [
        "## Model"
      ]
    },
    {
      "cell_type": "code",
      "execution_count": 41,
      "id": "068caa12",
      "metadata": {
        "id": "068caa12"
      },
      "outputs": [],
      "source": [
        "# 1. Create a proper copy of the dataframe\n",
        "df_model = df.copy()"
      ]
    },
    {
      "cell_type": "code",
      "source": [
        " #2. Drop unwanted columns\n",
        "df_model.drop(['Time', 'cash_type', 'Month_name', 'Weekday'], axis=1, inplace=True)"
      ],
      "metadata": {
        "id": "cSV3BZtccxUm"
      },
      "id": "cSV3BZtccxUm",
      "execution_count": 42,
      "outputs": []
    },
    {
      "cell_type": "code",
      "source": [
        "# 3. Process the date column\n",
        "df_model['Date'] = pd.to_datetime(df_model['Date'], format='%Y-%m-%d')\n",
        "df_model['Date'] = df_model['Date'].dt.year\n"
      ],
      "metadata": {
        "id": "IhgyEXs3bv3X"
      },
      "id": "IhgyEXs3bv3X",
      "execution_count": 43,
      "outputs": []
    },
    {
      "cell_type": "code",
      "source": [
        "# 5. Separate target variable (y) and features (X)\n",
        "y = df_model[\"money\"]\n",
        "X = df_model.drop(\"money\", axis=1)\n"
      ],
      "metadata": {
        "id": "lj-gRvy0b1cL"
      },
      "id": "lj-gRvy0b1cL",
      "execution_count": 44,
      "outputs": []
    },
    {
      "cell_type": "code",
      "source": [
        "# 6. Define categorical and numerical variables\n",
        "categorical_cols = ['coffee_name', 'Time_of_Day']\n",
        "numerical_cols = [\"hour_of_day\", \"Weekdaysort\", \"Monthsort\", 'Date']\n"
      ],
      "metadata": {
        "id": "QvQEKRRmb7LU"
      },
      "id": "QvQEKRRmb7LU",
      "execution_count": 45,
      "outputs": []
    },
    {
      "cell_type": "code",
      "source": [
        "# 8. Process categorical variables (convert to dummy variables)\n",
        "X_cat = pd.get_dummies(X[categorical_cols], drop_first=True, dtype=int)\n"
      ],
      "metadata": {
        "id": "arBh5i_ycEpK"
      },
      "id": "arBh5i_ycEpK",
      "execution_count": 46,
      "outputs": []
    },
    {
      "cell_type": "code",
      "source": [
        "# 9. Process numerical variables (standardization)\n",
        "X_num = X[numerical_cols]"
      ],
      "metadata": {
        "id": "i2AIAQM0cH4x"
      },
      "id": "i2AIAQM0cH4x",
      "execution_count": 47,
      "outputs": []
    },
    {
      "cell_type": "code",
      "source": [
        "# Standardize numerical variables: (x - mean) / std\n",
        "X_num_scaled = (X_num - X_num.mean()) / X_num.std()"
      ],
      "metadata": {
        "id": "Zr2ccke9dYRn"
      },
      "id": "Zr2ccke9dYRn",
      "execution_count": 51,
      "outputs": []
    },
    {
      "cell_type": "code",
      "source": [
        "# 10. Combine numerical and categorical features\n",
        "X_combined = pd.concat([X_num_scaled, X_cat], axis=1)"
      ],
      "metadata": {
        "id": "D9DVrICWcRHa"
      },
      "id": "D9DVrICWcRHa",
      "execution_count": 52,
      "outputs": []
    },
    {
      "cell_type": "code",
      "source": [
        "# 11. Add constant term (intercept)\n",
        "X_final = sm.add_constant(X_combined)"
      ],
      "metadata": {
        "id": "V2j7mpWqcTub"
      },
      "id": "V2j7mpWqcTub",
      "execution_count": 53,
      "outputs": []
    },
    {
      "cell_type": "code",
      "source": [
        "# 12. Split data into train/test (80/20)\n",
        "train_size = int(0.8 * len(df_model))\n",
        "\n",
        "X_train = X_final.iloc[:train_size, :]\n",
        "X_test = X_final.iloc[train_size:, :]\n",
        "y_train = y.iloc[:train_size]\n",
        "y_test = y.iloc[train_size:]"
      ],
      "metadata": {
        "id": "11Z88nmRcaQc"
      },
      "id": "11Z88nmRcaQc",
      "execution_count": 54,
      "outputs": []
    },
    {
      "cell_type": "code",
      "source": [
        "# 13. Build linear regression model\n",
        "model = sm.OLS(y_train, X_train)\n",
        "results = model.fit()"
      ],
      "metadata": {
        "id": "w5I42qHdcl47"
      },
      "id": "w5I42qHdcl47",
      "execution_count": 55,
      "outputs": []
    },
    {
      "cell_type": "code",
      "source": [
        "# 15. Make predictions on test set\n",
        "y_pred = results.predict(X_test)"
      ],
      "metadata": {
        "id": "kepizAH0cf9U"
      },
      "id": "kepizAH0cf9U",
      "execution_count": 56,
      "outputs": []
    },
    {
      "cell_type": "code",
      "source": [
        "# 14. Print model summary\n",
        "print(results.summary())"
      ],
      "metadata": {
        "colab": {
          "base_uri": "https://localhost:8080/"
        },
        "id": "rHbVkZVjcjoZ",
        "outputId": "f8cd5285-c42d-4005-9455-50d30bbd0222"
      },
      "id": "rHbVkZVjcjoZ",
      "execution_count": 57,
      "outputs": [
        {
          "output_type": "stream",
          "name": "stdout",
          "text": [
            "                            OLS Regression Results                            \n",
            "==============================================================================\n",
            "Dep. Variable:                  money   R-squared:                       0.876\n",
            "Model:                            OLS   Adj. R-squared:                  0.875\n",
            "Method:                 Least Squares   F-statistic:                     1532.\n",
            "Date:                Sat, 20 Sep 2025   Prob (F-statistic):               0.00\n",
            "Time:                        09:30:11   Log-Likelihood:                -5581.7\n",
            "No. Observations:                2837   AIC:                         1.119e+04\n",
            "Df Residuals:                    2823   BIC:                         1.127e+04\n",
            "Df Model:                          13                                         \n",
            "Covariance Type:            nonrobust                                         \n",
            "===================================================================================================\n",
            "                                      coef    std err          t      P>|t|      [0.025      0.975]\n",
            "---------------------------------------------------------------------------------------------------\n",
            "const                              25.9616      0.105    247.516      0.000      25.756      26.167\n",
            "hour_of_day                        -0.0739      0.095     -0.779      0.436      -0.260       0.112\n",
            "Weekdaysort                        -0.0051      0.032     -0.159      0.874      -0.068       0.058\n",
            "Monthsort                          -1.2926      0.045    -28.806      0.000      -1.381      -1.205\n",
            "Date                               -1.0669      0.065    -16.336      0.000      -1.195      -0.939\n",
            "coffee_name_Americano with Milk     4.7766      0.115     41.633      0.000       4.552       5.002\n",
            "coffee_name_Cappuccino              9.9836      0.128     77.892      0.000       9.732      10.235\n",
            "coffee_name_Cocoa                  10.2278      0.170     60.113      0.000       9.894      10.561\n",
            "coffee_name_Cortado                -0.0672      0.140     -0.479      0.632      -0.342       0.208\n",
            "coffee_name_Espresso               -5.0931      0.195    -26.148      0.000      -5.475      -4.711\n",
            "coffee_name_Hot Chocolate          10.4647      0.152     68.670      0.000      10.166      10.764\n",
            "coffee_name_Latte                   9.7518      0.116     84.173      0.000       9.525       9.979\n",
            "Time_of_Day_Morning                -0.5684      0.131     -4.346      0.000      -0.825      -0.312\n",
            "Time_of_Day_Night                  -0.2021      0.145     -1.391      0.164      -0.487       0.083\n",
            "==============================================================================\n",
            "Omnibus:                      864.065   Durbin-Watson:                   0.045\n",
            "Prob(Omnibus):                  0.000   Jarque-Bera (JB):              423.958\n",
            "Skew:                          -0.805   Prob(JB):                     8.68e-93\n",
            "Kurtosis:                       2.004   Cond. No.                         12.2\n",
            "==============================================================================\n",
            "\n",
            "Notes:\n",
            "[1] Standard Errors assume that the covariance matrix of the errors is correctly specified.\n"
          ]
        }
      ]
    },
    {
      "cell_type": "code",
      "source": [
        "import plotly.graph_objects as go\n",
        "\n",
        "# OLS predictions\n",
        "y_pred_ols = results.predict(X_test)\n",
        "\n",
        "# Plot actual vs predicted sales for OLS model\n",
        "fig_ols = go.Figure()\n",
        "fig_ols.add_trace(go.Scatter(x=y_test, y=y_pred_ols, mode='markers', name='OLS Predictions'))\n",
        "fig_ols.add_trace(go.Scatter(x=[y_test.min(), y_test.max()], y=[y_test.min(), y_test.max()],\n",
        "                            mode='lines', name='Perfect Fit', line=dict(color='red', dash='dash')))\n",
        "fig_ols.update_layout(title='Actual vs Predicted Sales (OLS Model)',\n",
        "                      xaxis_title='Actual Sales (money)',\n",
        "                      yaxis_title='Predicted Sales (money)')\n",
        "fig_ols.show()"
      ],
      "metadata": {
        "colab": {
          "base_uri": "https://localhost:8080/",
          "height": 542
        },
        "id": "CXERxtKWdelG",
        "outputId": "343fef7e-bc02-49e5-c282-72101561cc44"
      },
      "id": "CXERxtKWdelG",
      "execution_count": 58,
      "outputs": [
        {
          "output_type": "display_data",
          "data": {
            "text/html": [
              "<html>\n",
              "<head><meta charset=\"utf-8\" /></head>\n",
              "<body>\n",
              "    <div>            <script src=\"https://cdnjs.cloudflare.com/ajax/libs/mathjax/2.7.5/MathJax.js?config=TeX-AMS-MML_SVG\"></script><script type=\"text/javascript\">if (window.MathJax && window.MathJax.Hub && window.MathJax.Hub.Config) {window.MathJax.Hub.Config({SVG: {font: \"STIX-Web\"}});}</script>                <script type=\"text/javascript\">window.PlotlyConfig = {MathJaxConfig: 'local'};</script>\n",
              "        <script charset=\"utf-8\" src=\"https://cdn.plot.ly/plotly-2.35.2.min.js\"></script>                <div id=\"caeb81fd-07c2-48a2-b004-557ec684498e\" class=\"plotly-graph-div\" style=\"height:525px; width:100%;\"></div>            <script type=\"text/javascript\">                                    window.PLOTLYENV=window.PLOTLYENV || {};                                    if (document.getElementById(\"caeb81fd-07c2-48a2-b004-557ec684498e\")) {                    Plotly.newPlot(                        \"caeb81fd-07c2-48a2-b004-557ec684498e\",                        [{\"mode\":\"markers\",\"name\":\"OLS Predictions\",\"x\":[25.96,35.76,30.86,30.86,30.86,35.76,35.76,35.76,30.86,25.96,35.76,30.86,25.96,30.86,25.96,25.96,30.86,25.96,30.86,35.76,35.76,35.76,25.96,30.86,30.86,25.96,25.96,25.96,30.86,25.96,25.96,21.06,21.06,35.76,35.76,35.76,35.76,35.76,35.76,35.76,35.76,35.76,35.76,30.86,35.76,35.76,35.76,30.86,25.96,30.86,35.76,35.76,35.76,35.76,35.76,21.06,35.76,35.76,35.76,30.86,30.86,25.96,35.76,30.86,25.96,25.96,35.76,35.76,35.76,35.76,35.76,25.96,35.76,35.76,25.96,25.96,30.86,25.96,25.96,25.96,25.96,25.96,25.96,35.76,30.86,25.96,35.76,35.76,35.76,35.76,35.76,25.96,25.96,25.96,25.96,30.86,25.96,35.76,30.86,25.96,35.76,25.96,35.76,35.76,35.76,30.86,35.76,35.76,35.76,25.96,30.86,35.76,35.76,25.96,25.96,30.86,35.76,35.76,30.86,21.06,35.76,30.86,30.86,25.96,30.86,35.76,35.76,35.76,25.96,35.76,30.86,25.96,25.96,25.96,35.76,35.76,35.76,35.76,25.96,25.96,35.76,25.96,35.76,35.76,35.76,30.86,25.96,21.06,35.76,30.86,30.86,25.96,25.96,30.86,30.86,35.76,35.76,35.76,25.96,35.76,25.96,21.06,30.86,35.76,35.76,35.76,35.76,35.76,25.96,35.76,21.06,30.86,25.96,35.76,35.76,25.96,30.86,30.86,35.76,25.96,35.76,35.76,25.96,25.96,30.86,35.76,25.96,35.76,35.76,35.76,30.86,30.86,35.76,25.96,25.96,30.86,35.76,30.86,25.96,30.86,21.06,35.76,35.76,30.86,35.76,21.06,25.96,30.86,25.96,25.96,25.96,35.76,25.96,25.96,25.96,25.96,30.86,30.86,35.76,25.96,30.86,35.76,30.86,21.06,35.76,35.76,35.76,35.76,35.76,30.86,35.76,25.96,25.96,35.76,25.96,35.76,30.86,25.96,35.76,25.96,35.76,25.96,35.76,30.86,35.76,35.76,35.76,35.76,35.76,35.76,35.76,25.96,35.76,25.96,25.96,25.96,30.86,35.76,25.96,25.96,21.06,35.76,35.76,35.76,25.96,25.96,35.76,35.76,35.76,25.96,35.76,35.76,21.06,25.96,30.86,25.96,25.96,25.96,25.96,25.96,25.96,35.76,25.96,25.96,25.96,35.76,35.76,35.76,35.76,35.76,35.76,35.76,35.76,25.96,25.96,21.06,30.86,30.86,30.86,30.86,35.76,35.76,25.96,30.86,35.76,25.96,30.86,30.86,35.76,35.76,35.76,30.86,35.76,35.76,35.76,25.96,25.96,30.86,30.86,35.76,30.86,35.76,35.76,35.76,35.76,30.86,25.96,30.86,21.06,25.96,25.96,35.76,35.76,25.96,25.96,35.76,35.76,25.96,30.86,30.86,35.76,35.76,35.76,25.96,25.96,25.96,35.76,25.96,25.96,35.76,35.76,35.76,30.86,35.76,35.76,35.76,35.76,21.06,35.76,35.76,30.86,25.96,35.76,25.96,25.96,25.96,25.96,35.76,35.76,35.76,35.76,35.76,35.76,35.76,30.86,30.86,35.76,21.06,30.86,25.96,25.96,25.96,35.76,25.96,35.76,25.96,35.76,30.86,25.96,25.96,35.76,35.76,25.96,25.96,35.76,25.96,30.86,35.76,25.96,35.76,35.76,30.86,30.86,25.96,25.96,35.76,35.76,35.76,35.76,35.76,35.76,35.76,25.96,35.76,35.76,35.76,35.76,35.76,25.96,30.86,25.96,35.76,25.96,35.76,35.76,30.86,35.76,35.76,25.96,30.86,25.96,25.96,25.96,30.86,25.96,25.96,25.96,25.96,35.76,25.96,35.76,35.76,35.76,30.86,25.96,25.96,25.96,35.76,30.86,35.76,35.76,25.96,25.96,25.96,35.76,35.76,35.76,30.86,21.06,35.76,35.76,35.76,35.76,21.06,30.86,25.96,25.96,25.96,35.76,35.76,30.86,35.76,35.76,30.86,35.76,25.96,25.96,25.96,35.76,30.86,30.86,35.76,35.76,30.86,35.76,25.96,35.76,35.76,35.76,35.76,35.76,30.86,30.86,25.96,25.96,25.96,30.86,25.96,35.76,21.06,30.86,35.76,25.96,35.76,25.96,30.86,35.76,25.96,35.76,30.86,35.76,35.76,35.76,25.96,25.96,35.76,35.76,35.76,35.76,30.86,25.96,35.76,35.76,30.86,25.96,35.76,35.76,25.96,25.96,25.96,35.76,35.76,35.76,35.76,30.86,35.76,35.76,35.76,30.86,35.76,25.96,25.96,25.96,35.76,35.76,35.76,35.76,35.76,35.76,25.96,35.76,25.96,35.76,25.96,35.76,30.86,30.86,35.76,21.06,25.96,30.86,25.96,35.76,30.86,25.96,35.76,25.96,30.86,25.96,35.76,21.06,25.96,25.96,35.76,35.76,25.96,35.76,35.76,35.76,25.96,35.76,35.76,35.76,25.96,25.96,35.76,35.76,25.96,25.96,30.86,35.76,25.96,35.76,30.86,30.86,35.76,35.76,30.86,35.76,35.76,25.96,25.96,25.96,25.96,30.86,25.96,25.96,35.76,35.76,35.76,35.76,35.76,35.76,25.96,30.86,35.76,35.76,25.96,35.76,35.76,30.86,25.96,30.86,25.96,35.76,21.06,35.76,35.76,35.76,35.76,35.76,25.96,25.96,35.76,25.96,35.76,25.96,25.96,35.76,35.76,35.76,25.96,35.76,35.76,25.96,25.96,35.76,30.86,30.86,25.96,21.06,21.06,30.86,30.86,30.86,25.96,25.96,25.96,25.96,25.96,21.06,25.96,35.76,35.76,25.96,25.96,35.76,25.96,35.76,35.76,35.76,35.76,30.86,30.86,25.96,25.96,25.96,35.76,25.96,35.76,25.96,35.76,35.76,35.76,25.96,35.76,35.76,35.76,35.76,35.76,35.76,25.96,30.86,30.86,35.76,35.76,30.86,25.96,25.96,30.86,21.06,35.76,30.86,30.86,35.76,35.76,35.76,35.76,25.96,35.76],\"y\":[25.826732147393162,35.81750248519945,30.366295780897254,30.366295780897254,30.366295780897254,36.054437626985624,35.341534341939365,36.054437626985624,30.366295780897254,25.572254105942516,35.76516835862568,30.119603666933795,25.343006700836977,30.6530656037573,25.79185626204827,25.84157921994464,30.61817618604146,25.84157921994464,30.34625343573289,35.78001543117716,35.78001543117716,35.78001543117716,25.48504409402386,30.151895448343193,30.13445073948527,25.32296435567261,25.32296435567261,25.32296435567261,30.09956132176943,25.873871001354036,25.856426292496113,20.763321758322466,20.763321758322466,35.822545092404994,35.80510038354707,36.26883097810754,35.55592769306127,35.55592769306127,36.031895836321354,36.26883097810754,35.55062234209643,35.55062234209643,35.79486250372864,30.343655799426443,35.55062234209643,36.01435293665689,35.75997308601279,30.166742520894672,25.85382865618967,30.61298091342857,35.819947456098554,36.029298200014914,35.80970957628011,35.80970957628011,35.53057999693207,20.45391195399161,35.75737544970635,35.75737544970635,35.28140730644626,30.146700175730302,30.12925546687238,25.33521379191764,36.09647939914015,30.645272694837963,25.868675728741145,25.731729226555167,35.550732420448384,36.26363570549464,35.550732420448384,35.78966723111575,35.78966723111575,25.494695893962444,35.78966723111575,35.754777813399905,25.459806476246598,25.350060864469118,30.109213121708013,25.248003779998985,25.315171446753276,25.8660780924347,25.84863338357678,25.813743965860937,25.813743965860937,35.5927116074196,30.106615485401566,25.330018519304748,35.61531598326718,36.0389499999535,35.56298185669341,36.27588514173968,36.0389499999535,25.726533953942276,25.39793846371719,25.380493754859266,25.380493754859266,30.10475659438232,25.861621565109004,36.08942523550802,30.638218531205823,25.861621565109004,35.59601238339001,25.844176856251085,36.071980526650094,36.071980526650094,35.810295656159965,30.60332911348998,35.57856767453209,36.29147095957835,36.03709110893425,25.589698814800435,30.348851072039334,35.30664492422352,35.30664492422352,25.343006700836977,25.325561991979058,30.102158958075876,35.55336566237807,36.28887332327191,30.583286768325614,20.713585268055148,35.33893670563292,30.36369814459081,30.36369814459081,25.58710117849399,30.36369814459081,35.30404728791708,35.78001543117716,35.37630669987111,25.392743191104298,35.60310215264539,30.13445073948527,25.34040906453053,25.873871001354036,25.856426292496113,36.3211651046813,36.28627568696546,35.573372401919194,36.28627568696546,25.80409216592235,25.80409216592235,35.56806705095435,25.584503542187544,35.28400494275271,35.75997308601279,35.49828821552267,30.166742520894672,25.37270084593993,20.26215160290836,35.58305980748102,30.114408394320904,30.114408394320904,25.801494529615905,25.801494529615905,30.35850287197792,30.35850287197792,35.31629672416211,35.54802470578999,35.298852015304185,25.31776908305972,36.29852512321049,25.833786311025303,20.740681776851655,30.61038327712212,35.79990511093418,35.79990511093418,35.56817712930631,36.281080414352566,35.79990511093418,25.579308269574653,35.807111939973666,20.486203735401006,30.35590523567147,25.509529434142966,35.33362437323592,35.849641601201505,25.8660780924347,30.625230349673597,30.625230349673597,35.814752183485666,25.83118867471886,36.278482778046126,36.278482778046126,25.330018519304748,25.330018519304748,30.106615485401566,35.77731262263202,25.31257381044683,36.2933298505976,35.580426565551335,36.038851809146955,30.35070996305858,30.35070996305858,35.39894668134191,25.380493754859266,25.363049046001343,30.13964601209816,35.82778785818653,30.12220130324024,25.34560433714342,30.10475659438232,20.235055094111853,35.862629782733734,35.59601238339001,30.60332911348998,35.57856767453209,20.71618290436159,25.80928743853524,30.366295780897254,25.572254105942516,25.554809397084593,25.554809397084593,35.2892002153656,25.377896118552822,25.377896118552822,25.325561991979058,25.325561991979058,30.102158958075876,30.6530656037573,36.08682759920157,25.85902392880256,30.63562089489938,36.051839990679184,30.36369814459081,20.493996644320344,35.814904848893,35.814904848893,35.78001543117716,35.76257072231924,35.999505864105416,30.293919309159126,35.358861991013185,25.375298482246375,25.375298482246375,35.34141728215526,25.34040906453053,35.80514787671572,30.117006030627348,25.873871001354036,36.101674671753045,25.856426292496113,35.80510038354707,25.584503542187544,35.56806705095435,30.361100508284363,35.55062234209643,35.30144965161063,35.777417794870715,36.01435293665689,35.30144965161063,35.75997308601279,35.37370906356466,25.35525613708201,35.32137493699089,25.337811428224086,25.337811428224086,25.337811428224086,30.630425622286488,35.58821947447068,25.83638394733175,25.83638394733175,20.72583470430018,35.78505803838271,35.78505803838271,36.04664471806629,25.5819059058811,25.56446119702318,36.01175530035045,35.774820158564275,35.28140730644626,25.404992627349326,35.10449402791449,35.33622200954237,20.259553966601914,25.33521379191764,30.094366049156537,25.868675728741145,25.868675728741145,25.868675728741145,25.868675728741145,25.851231019883222,25.833786311025303,35.79990511093418,25.81634160216738,25.81634160216738,25.81634160216738,36.02670056370847,35.550732420448384,36.26363570549464,35.550732420448384,35.77222252225783,35.77222252225783,35.52798236062562,35.79735496779639,25.315171446753276,25.315171446753276,20.772973558261054,30.590340931957755,30.106615485401566,30.640077422225072,30.640077422225072,35.829599256037135,36.056394708811425,25.574112996961762,30.13964601209816,35.11488457314027,25.34560433714342,30.12220130324024,30.12220130324024,35.57340800754243,35.63090180110585,36.08942523550802,30.60332911348998,36.03709110893425,35.79285094730204,35.561122965674166,25.80928743853524,25.589698814800435,30.366295780897254,30.348851072039334,35.32408963308144,30.33140636318141,36.019548209269786,35.30664492422352,35.7826130674836,35.76516835862568,30.15449308464964,25.377896118552822,30.15449308464964,20.24990216666333,25.325561991979058,25.325561991979058,35.86003214642729,35.82514272871144,25.806689802228796,25.806689802228796,35.797460140035085,35.535775269544956,25.375298482246375,30.117006030627348,30.117006030627348,35.80514787671572,36.08422996289512,35.60826181963504,25.82153687478027,25.82153687478027,25.75436920802598,36.28627568696546,25.82153687478027,25.82153687478027,35.55592769306127,36.26883097810754,35.55592769306127,30.361100508284363,35.318894360468555,35.55062234209643,35.37370906356466,35.37370906356466,20.244706894050438,35.548170389765176,36.0990770354466,30.630425622286488,25.83638394733175,35.58821947447068,25.818939238473828,25.801494529615905,25.5819059058811,25.5819059058811,35.33374143302003,35.31629672416211,35.54802470578999,35.7922648674222,35.7922648674222,35.298852015304185,35.513135288074146,30.181589593446144,30.181589593446144,35.371111427258214,20.276998675459836,30.12925546687238,25.833786311025303,25.833786311025303,25.833786311025303,35.58562183816423,25.81634160216738,36.02670056370847,25.798896893309458,35.33114379671358,30.35590523567147,25.579308269574653,25.579308269574653,35.31369908785566,34.946943308840744,24.945935091216015,24.945935091216015,35.21378784632052,25.444507610323676,30.221104576420494,35.41062641023255,25.20747427773095,35.206030543024426,35.24607962772992,30.25339635782989,30.218506940114047,25.44190997401723,25.44190997401723,34.99482090808881,35.221616360863095,34.74564821760301,35.44110679379135,35.44110679379135,35.493393427196466,35.20933131899483,25.4574957918559,35.66785475339699,35.191886610136905,35.191886610136905,35.42361459176478,35.42361459176478,25.44005108299798,29.997059425359993,25.220462459263175,35.68520127144836,25.220462459263175,35.68520127144836,35.68520127144836,29.979614716502073,34.95485327754418,35.00966798064029,25.026104471873484,29.78525672911238,24.99121505415764,24.99121505415764,24.99121505415764,29.732922602538615,24.956325636441797,24.956325636441797,24.956325636441797,24.956325636441797,35.73503595252223,25.437453446691535,35.428223784497824,34.93481093237982,34.917366223521896,29.782659092805932,24.98861741785119,24.97117270899327,24.97117270899327,34.95473621776007,29.747769675090087,34.937291508902156,35.18153167053436,24.95372800013535,24.95372800013535,25.504634645816775,35.20413604638193,35.20413604638193,35.9170393314282,29.9918641527471,20.122162652476636,34.96710271378921,35.18138598655917,35.408181439333454,35.45075859372994,19.8929152473711,29.745172038783643,24.968575072686825,24.968575072686825,24.951130363828906,34.934693872595716,35.23642782779133,30.208855140175462,35.44047322074285,35.178788350252724,29.954377098724816,35.001875071720946,25.000866854096223,25.000866854096223,24.9834221452383,35.43071624856557,29.742574402477196,29.742574402477196,35.19378110677939,35.176336397921474,30.276036339300703,35.94673347653115,25.48199466434596,35.448113464254845,35.198940773769046,35.198940773769046,34.96190744117632,35.67481072622258,29.757421475028675,29.757421475028675,24.963379800073934,24.945935091216015,24.945935091216015,30.27343870299426,25.49684173689744,35.46296053680632,19.88512233845176,29.719934421006386,35.460362900499874,25.459354682875148,35.42547348278403,25.44190997401723,30.218506940114047,35.669713644416234,25.011257399322005,34.763092926460935,29.7704096565609,35.45855150264927,35.221616360863095,35.44110679379135,25.509829918429666,25.4574957918559,35.92223460404109,35.191886610136905,35.191886610136905,35.42361459176478,30.216648049094797,25.203017750405255,34.95485327754418,34.95485327754418,29.96217000764415,25.00865976301556,34.97477856292444,34.743050581296565,24.973770345299716,25.507232282123223,25.4897875732653,35.902192258876724,35.66525711709055,35.902192258876724,35.20142833172354,29.977017080195626,34.93481093237982,35.39333436678198,35.18153167053436,29.730324966232168,34.937291508902156,24.95372800013535,24.95372800013535,25.504634645816775,35.96937345800196,35.23902546409778,35.23902546409778,35.418419319151894,35.18669133752401,35.18669133752401,25.19782247779236,35.42562614819138,25.19782247779236,35.18138598655917,25.19782247779236,35.00447270802739,29.78006145649949,29.762616747641566,34.73785530868368,19.8929152473711,24.986019781544748,29.762616747641566,24.951130363828906,35.253872536649254,30.243744557891304,25.467147591794486,35.178788350252724,25.018311562954143,29.77746382019304,25.000866854096223,34.73525767237723,19.890317611064653,24.9834221452383,24.965977436380378,34.71781296351931,34.949540945147184,25.46454995548804,35.21638548262696,35.198940773769046,35.198940773769046,25.429660537772197,35.657464208171206,35.657464208171206,35.657464208171206,25.210071914037393,25.210071914037393,34.96190744117632,34.96190744117632,25.157737787463628,25.140293078605705,29.757421475028675,34.946943308840744,25.479397028039518,35.19103778649775,29.984071243827767,29.949181826111925,35.15614836878191,34.96179038139222,29.754823838722228,34.71261769090641,35.95898291277618,25.459354682875148,25.046146817037847,25.011257399322005,25.011257399322005,29.7704096565609,24.97636798160616,25.492385209571744,35.702744171112826,35.702744171112826,35.22677602785274,35.441059300622705,35.20933131899483,35.20933131899483,25.44005108299798,29.78525672911238,34.76049529015449,34.72560587243864,24.973770345299716,35.421064448626986,35.421064448626986,30.248939830504195,25.454898155549458,30.231495121646276,25.437453446691535,35.18928897383046,20.344348912517887,35.428223784497824,35.428223784497824,35.39333436678198,35.39333436678198,34.89992151466397,25.023506835567037,25.023506835567037,35.00707034433384,25.006062126709114,35.43591152117846,24.95372800013535,25.504634645816775,35.20413604638193,35.20413604638193,35.18669133752401,25.434855810385088,35.418419319151894,35.418419319151894,25.434855810385088,25.434855810385088,35.4430708570493,29.9918641527471,29.9918641527471,25.13065481103807,20.104717943618713,20.104717943618713,29.78006145649949,29.762616747641566,29.745172038783643,24.968575072686825,24.968575072686825,25.50203700951033,25.467147591794486,25.467147591794486,20.37404305762084,25.399979925040196,35.45071110056129,35.45071110056129,25.449702882936567,25.449702882936567,35.41582168284545,25.21266955034384,35.65996365367111,35.40558380302701,35.1613436413948,34.89472624205108,29.79490852905096,29.79490852905096,25.000866854096223,25.000866854096223,25.000866854096223,34.98443036286303,24.94853272752246,34.700368254661385,25.48199466434596,35.233830191484884,35.448113464254845,35.43066875539692,25.44710524663012,35.198940773769046,35.43066875539692,35.67481072622258,34.96190744117632,34.96190744117632,34.9444627323184,25.192627205179473,29.757421475028675,29.739976766170752,35.410673903401204,35.17373876161503,30.27343870299426,25.49684173689744,25.479397028039518,30.255993994136336,20.351403076150028,35.178898428604676,29.984071243827767,29.949181826111925,34.71261769090641,34.9443456725343,35.68715835327416,35.68715835327416,25.441909974017225,34.939267459705505],\"type\":\"scatter\"},{\"line\":{\"color\":\"red\",\"dash\":\"dash\"},\"mode\":\"lines\",\"name\":\"Perfect Fit\",\"x\":[21.06,35.76],\"y\":[21.06,35.76],\"type\":\"scatter\"}],                        {\"template\":{\"data\":{\"histogram2dcontour\":[{\"type\":\"histogram2dcontour\",\"colorbar\":{\"outlinewidth\":0,\"ticks\":\"\"},\"colorscale\":[[0.0,\"#0d0887\"],[0.1111111111111111,\"#46039f\"],[0.2222222222222222,\"#7201a8\"],[0.3333333333333333,\"#9c179e\"],[0.4444444444444444,\"#bd3786\"],[0.5555555555555556,\"#d8576b\"],[0.6666666666666666,\"#ed7953\"],[0.7777777777777778,\"#fb9f3a\"],[0.8888888888888888,\"#fdca26\"],[1.0,\"#f0f921\"]]}],\"choropleth\":[{\"type\":\"choropleth\",\"colorbar\":{\"outlinewidth\":0,\"ticks\":\"\"}}],\"histogram2d\":[{\"type\":\"histogram2d\",\"colorbar\":{\"outlinewidth\":0,\"ticks\":\"\"},\"colorscale\":[[0.0,\"#0d0887\"],[0.1111111111111111,\"#46039f\"],[0.2222222222222222,\"#7201a8\"],[0.3333333333333333,\"#9c179e\"],[0.4444444444444444,\"#bd3786\"],[0.5555555555555556,\"#d8576b\"],[0.6666666666666666,\"#ed7953\"],[0.7777777777777778,\"#fb9f3a\"],[0.8888888888888888,\"#fdca26\"],[1.0,\"#f0f921\"]]}],\"heatmap\":[{\"type\":\"heatmap\",\"colorbar\":{\"outlinewidth\":0,\"ticks\":\"\"},\"colorscale\":[[0.0,\"#0d0887\"],[0.1111111111111111,\"#46039f\"],[0.2222222222222222,\"#7201a8\"],[0.3333333333333333,\"#9c179e\"],[0.4444444444444444,\"#bd3786\"],[0.5555555555555556,\"#d8576b\"],[0.6666666666666666,\"#ed7953\"],[0.7777777777777778,\"#fb9f3a\"],[0.8888888888888888,\"#fdca26\"],[1.0,\"#f0f921\"]]}],\"heatmapgl\":[{\"type\":\"heatmapgl\",\"colorbar\":{\"outlinewidth\":0,\"ticks\":\"\"},\"colorscale\":[[0.0,\"#0d0887\"],[0.1111111111111111,\"#46039f\"],[0.2222222222222222,\"#7201a8\"],[0.3333333333333333,\"#9c179e\"],[0.4444444444444444,\"#bd3786\"],[0.5555555555555556,\"#d8576b\"],[0.6666666666666666,\"#ed7953\"],[0.7777777777777778,\"#fb9f3a\"],[0.8888888888888888,\"#fdca26\"],[1.0,\"#f0f921\"]]}],\"contourcarpet\":[{\"type\":\"contourcarpet\",\"colorbar\":{\"outlinewidth\":0,\"ticks\":\"\"}}],\"contour\":[{\"type\":\"contour\",\"colorbar\":{\"outlinewidth\":0,\"ticks\":\"\"},\"colorscale\":[[0.0,\"#0d0887\"],[0.1111111111111111,\"#46039f\"],[0.2222222222222222,\"#7201a8\"],[0.3333333333333333,\"#9c179e\"],[0.4444444444444444,\"#bd3786\"],[0.5555555555555556,\"#d8576b\"],[0.6666666666666666,\"#ed7953\"],[0.7777777777777778,\"#fb9f3a\"],[0.8888888888888888,\"#fdca26\"],[1.0,\"#f0f921\"]]}],\"surface\":[{\"type\":\"surface\",\"colorbar\":{\"outlinewidth\":0,\"ticks\":\"\"},\"colorscale\":[[0.0,\"#0d0887\"],[0.1111111111111111,\"#46039f\"],[0.2222222222222222,\"#7201a8\"],[0.3333333333333333,\"#9c179e\"],[0.4444444444444444,\"#bd3786\"],[0.5555555555555556,\"#d8576b\"],[0.6666666666666666,\"#ed7953\"],[0.7777777777777778,\"#fb9f3a\"],[0.8888888888888888,\"#fdca26\"],[1.0,\"#f0f921\"]]}],\"mesh3d\":[{\"type\":\"mesh3d\",\"colorbar\":{\"outlinewidth\":0,\"ticks\":\"\"}}],\"scatter\":[{\"fillpattern\":{\"fillmode\":\"overlay\",\"size\":10,\"solidity\":0.2},\"type\":\"scatter\"}],\"parcoords\":[{\"type\":\"parcoords\",\"line\":{\"colorbar\":{\"outlinewidth\":0,\"ticks\":\"\"}}}],\"scatterpolargl\":[{\"type\":\"scatterpolargl\",\"marker\":{\"colorbar\":{\"outlinewidth\":0,\"ticks\":\"\"}}}],\"bar\":[{\"error_x\":{\"color\":\"#2a3f5f\"},\"error_y\":{\"color\":\"#2a3f5f\"},\"marker\":{\"line\":{\"color\":\"#E5ECF6\",\"width\":0.5},\"pattern\":{\"fillmode\":\"overlay\",\"size\":10,\"solidity\":0.2}},\"type\":\"bar\"}],\"scattergeo\":[{\"type\":\"scattergeo\",\"marker\":{\"colorbar\":{\"outlinewidth\":0,\"ticks\":\"\"}}}],\"scatterpolar\":[{\"type\":\"scatterpolar\",\"marker\":{\"colorbar\":{\"outlinewidth\":0,\"ticks\":\"\"}}}],\"histogram\":[{\"marker\":{\"pattern\":{\"fillmode\":\"overlay\",\"size\":10,\"solidity\":0.2}},\"type\":\"histogram\"}],\"scattergl\":[{\"type\":\"scattergl\",\"marker\":{\"colorbar\":{\"outlinewidth\":0,\"ticks\":\"\"}}}],\"scatter3d\":[{\"type\":\"scatter3d\",\"line\":{\"colorbar\":{\"outlinewidth\":0,\"ticks\":\"\"}},\"marker\":{\"colorbar\":{\"outlinewidth\":0,\"ticks\":\"\"}}}],\"scattermapbox\":[{\"type\":\"scattermapbox\",\"marker\":{\"colorbar\":{\"outlinewidth\":0,\"ticks\":\"\"}}}],\"scatterternary\":[{\"type\":\"scatterternary\",\"marker\":{\"colorbar\":{\"outlinewidth\":0,\"ticks\":\"\"}}}],\"scattercarpet\":[{\"type\":\"scattercarpet\",\"marker\":{\"colorbar\":{\"outlinewidth\":0,\"ticks\":\"\"}}}],\"carpet\":[{\"aaxis\":{\"endlinecolor\":\"#2a3f5f\",\"gridcolor\":\"white\",\"linecolor\":\"white\",\"minorgridcolor\":\"white\",\"startlinecolor\":\"#2a3f5f\"},\"baxis\":{\"endlinecolor\":\"#2a3f5f\",\"gridcolor\":\"white\",\"linecolor\":\"white\",\"minorgridcolor\":\"white\",\"startlinecolor\":\"#2a3f5f\"},\"type\":\"carpet\"}],\"table\":[{\"cells\":{\"fill\":{\"color\":\"#EBF0F8\"},\"line\":{\"color\":\"white\"}},\"header\":{\"fill\":{\"color\":\"#C8D4E3\"},\"line\":{\"color\":\"white\"}},\"type\":\"table\"}],\"barpolar\":[{\"marker\":{\"line\":{\"color\":\"#E5ECF6\",\"width\":0.5},\"pattern\":{\"fillmode\":\"overlay\",\"size\":10,\"solidity\":0.2}},\"type\":\"barpolar\"}],\"pie\":[{\"automargin\":true,\"type\":\"pie\"}]},\"layout\":{\"autotypenumbers\":\"strict\",\"colorway\":[\"#636efa\",\"#EF553B\",\"#00cc96\",\"#ab63fa\",\"#FFA15A\",\"#19d3f3\",\"#FF6692\",\"#B6E880\",\"#FF97FF\",\"#FECB52\"],\"font\":{\"color\":\"#2a3f5f\"},\"hovermode\":\"closest\",\"hoverlabel\":{\"align\":\"left\"},\"paper_bgcolor\":\"white\",\"plot_bgcolor\":\"#E5ECF6\",\"polar\":{\"bgcolor\":\"#E5ECF6\",\"angularaxis\":{\"gridcolor\":\"white\",\"linecolor\":\"white\",\"ticks\":\"\"},\"radialaxis\":{\"gridcolor\":\"white\",\"linecolor\":\"white\",\"ticks\":\"\"}},\"ternary\":{\"bgcolor\":\"#E5ECF6\",\"aaxis\":{\"gridcolor\":\"white\",\"linecolor\":\"white\",\"ticks\":\"\"},\"baxis\":{\"gridcolor\":\"white\",\"linecolor\":\"white\",\"ticks\":\"\"},\"caxis\":{\"gridcolor\":\"white\",\"linecolor\":\"white\",\"ticks\":\"\"}},\"coloraxis\":{\"colorbar\":{\"outlinewidth\":0,\"ticks\":\"\"}},\"colorscale\":{\"sequential\":[[0.0,\"#0d0887\"],[0.1111111111111111,\"#46039f\"],[0.2222222222222222,\"#7201a8\"],[0.3333333333333333,\"#9c179e\"],[0.4444444444444444,\"#bd3786\"],[0.5555555555555556,\"#d8576b\"],[0.6666666666666666,\"#ed7953\"],[0.7777777777777778,\"#fb9f3a\"],[0.8888888888888888,\"#fdca26\"],[1.0,\"#f0f921\"]],\"sequentialminus\":[[0.0,\"#0d0887\"],[0.1111111111111111,\"#46039f\"],[0.2222222222222222,\"#7201a8\"],[0.3333333333333333,\"#9c179e\"],[0.4444444444444444,\"#bd3786\"],[0.5555555555555556,\"#d8576b\"],[0.6666666666666666,\"#ed7953\"],[0.7777777777777778,\"#fb9f3a\"],[0.8888888888888888,\"#fdca26\"],[1.0,\"#f0f921\"]],\"diverging\":[[0,\"#8e0152\"],[0.1,\"#c51b7d\"],[0.2,\"#de77ae\"],[0.3,\"#f1b6da\"],[0.4,\"#fde0ef\"],[0.5,\"#f7f7f7\"],[0.6,\"#e6f5d0\"],[0.7,\"#b8e186\"],[0.8,\"#7fbc41\"],[0.9,\"#4d9221\"],[1,\"#276419\"]]},\"xaxis\":{\"gridcolor\":\"white\",\"linecolor\":\"white\",\"ticks\":\"\",\"title\":{\"standoff\":15},\"zerolinecolor\":\"white\",\"automargin\":true,\"zerolinewidth\":2},\"yaxis\":{\"gridcolor\":\"white\",\"linecolor\":\"white\",\"ticks\":\"\",\"title\":{\"standoff\":15},\"zerolinecolor\":\"white\",\"automargin\":true,\"zerolinewidth\":2},\"scene\":{\"xaxis\":{\"backgroundcolor\":\"#E5ECF6\",\"gridcolor\":\"white\",\"linecolor\":\"white\",\"showbackground\":true,\"ticks\":\"\",\"zerolinecolor\":\"white\",\"gridwidth\":2},\"yaxis\":{\"backgroundcolor\":\"#E5ECF6\",\"gridcolor\":\"white\",\"linecolor\":\"white\",\"showbackground\":true,\"ticks\":\"\",\"zerolinecolor\":\"white\",\"gridwidth\":2},\"zaxis\":{\"backgroundcolor\":\"#E5ECF6\",\"gridcolor\":\"white\",\"linecolor\":\"white\",\"showbackground\":true,\"ticks\":\"\",\"zerolinecolor\":\"white\",\"gridwidth\":2}},\"shapedefaults\":{\"line\":{\"color\":\"#2a3f5f\"}},\"annotationdefaults\":{\"arrowcolor\":\"#2a3f5f\",\"arrowhead\":0,\"arrowwidth\":1},\"geo\":{\"bgcolor\":\"white\",\"landcolor\":\"#E5ECF6\",\"subunitcolor\":\"white\",\"showland\":true,\"showlakes\":true,\"lakecolor\":\"white\"},\"title\":{\"x\":0.05},\"mapbox\":{\"style\":\"light\"}}},\"title\":{\"text\":\"Actual vs Predicted Sales (OLS Model)\"},\"xaxis\":{\"title\":{\"text\":\"Actual Sales (money)\"}},\"yaxis\":{\"title\":{\"text\":\"Predicted Sales (money)\"}}},                        {\"responsive\": true}                    ).then(function(){\n",
              "                            \n",
              "var gd = document.getElementById('caeb81fd-07c2-48a2-b004-557ec684498e');\n",
              "var x = new MutationObserver(function (mutations, observer) {{\n",
              "        var display = window.getComputedStyle(gd).display;\n",
              "        if (!display || display === 'none') {{\n",
              "            console.log([gd, 'removed!']);\n",
              "            Plotly.purge(gd);\n",
              "            observer.disconnect();\n",
              "        }}\n",
              "}});\n",
              "\n",
              "// Listen for the removal of the full notebook cells\n",
              "var notebookContainer = gd.closest('#notebook-container');\n",
              "if (notebookContainer) {{\n",
              "    x.observe(notebookContainer, {childList: true});\n",
              "}}\n",
              "\n",
              "// Listen for the clearing of the current output cell\n",
              "var outputEl = gd.closest('.output');\n",
              "if (outputEl) {{\n",
              "    x.observe(outputEl, {childList: true});\n",
              "}}\n",
              "\n",
              "                        })                };                            </script>        </div>\n",
              "</body>\n",
              "</html>"
            ]
          },
          "metadata": {}
        }
      ]
    },
    {
      "cell_type": "code",
      "execution_count": 63,
      "id": "903b5f60",
      "metadata": {
        "colab": {
          "base_uri": "https://localhost:8080/"
        },
        "id": "903b5f60",
        "outputId": "268dbce3-8b5c-4505-fed8-37796c683a42"
      },
      "outputs": [
        {
          "output_type": "stream",
          "name": "stdout",
          "text": [
            "Linear Regression Model R²: 0.8714\n",
            "Linear Regression Model MAE: 1.4949\n"
          ]
        }
      ],
      "source": [
        "from sklearn.linear_model import LinearRegression\n",
        "from sklearn.model_selection import train_test_split\n",
        "from sklearn.metrics import r2_score, mean_absolute_error\n",
        "\n",
        "# Prepare data\n",
        "X = df[[\"hour_of_day\", \"cash_type\", \"coffee_name\", \"Time_of_Day\",\n",
        "        \"Weekdaysort\", \"Monthsort\"]]\n",
        "y = df[\"money\"]\n",
        "X_encoded = pd.get_dummies(X, drop_first=True)\n",
        "X_encoded = X_encoded.astype(float)\n",
        "# Split data\n",
        "X_train, X_test, y_train, y_test = train_test_split(X_encoded, y, test_size=0.2, random_state=42)\n",
        "model = LinearRegression()\n",
        "model.fit(X_train, y_train)\n",
        "\n",
        "# Make predictions\n",
        "y_pred_lr = model.predict(X_test)\n",
        "\n",
        "# Calculate R2 and MAE\n",
        "r2_lr = r2_score(y_test, y_pred_lr)\n",
        "mae_lr = mean_absolute_error(y_test, y_pred_lr)\n",
        "\n",
        "print(f\"Linear Regression Model R²: {r2_lr:.4f}\")\n",
        "print(f\"Linear Regression Model MAE: {mae_lr:.4f}\")"
      ]
    },
    {
      "cell_type": "code",
      "source": [
        "import plotly.graph_objects as go\n",
        "\n",
        "# Linear Regression predictions\n",
        "y_pred_lr = model.predict(X_test)\n",
        "\n",
        "# Plot actual vs predicted sales for Linear Regression model\n",
        "fig_lr = go.Figure()\n",
        "fig_lr.add_trace(go.Scatter(x=y_test, y=y_pred_lr, mode='markers', name='Linear Regression Predictions'))\n",
        "fig_lr.add_trace(go.Scatter(x=[y_test.min(), y_test.max()], y=[y_test.min(), y_test.max()],\n",
        "                            mode='lines', name='Perfect Fit', line=dict(color='red', dash='dash')))\n",
        "fig_lr.update_layout(title='Actual vs Predicted Sales (Linear Regression Model)',\n",
        "                      xaxis_title='Actual Sales (money)',\n",
        "                      yaxis_title='Predicted Sales (money)')\n",
        "fig_lr.show()"
      ],
      "metadata": {
        "colab": {
          "base_uri": "https://localhost:8080/",
          "height": 542
        },
        "id": "M80bmmLfeems",
        "outputId": "a7c3d43e-d2da-48c1-cba4-33fb0840a863"
      },
      "id": "M80bmmLfeems",
      "execution_count": 61,
      "outputs": [
        {
          "output_type": "display_data",
          "data": {
            "text/html": [
              "<html>\n",
              "<head><meta charset=\"utf-8\" /></head>\n",
              "<body>\n",
              "    <div>            <script src=\"https://cdnjs.cloudflare.com/ajax/libs/mathjax/2.7.5/MathJax.js?config=TeX-AMS-MML_SVG\"></script><script type=\"text/javascript\">if (window.MathJax && window.MathJax.Hub && window.MathJax.Hub.Config) {window.MathJax.Hub.Config({SVG: {font: \"STIX-Web\"}});}</script>                <script type=\"text/javascript\">window.PlotlyConfig = {MathJaxConfig: 'local'};</script>\n",
              "        <script charset=\"utf-8\" src=\"https://cdn.plot.ly/plotly-2.35.2.min.js\"></script>                <div id=\"2013fc23-8443-402f-8a3c-23a135279498\" class=\"plotly-graph-div\" style=\"height:525px; width:100%;\"></div>            <script type=\"text/javascript\">                                    window.PLOTLYENV=window.PLOTLYENV || {};                                    if (document.getElementById(\"2013fc23-8443-402f-8a3c-23a135279498\")) {                    Plotly.newPlot(                        \"2013fc23-8443-402f-8a3c-23a135279498\",                        [{\"mode\":\"markers\",\"name\":\"Linear Regression Predictions\",\"x\":[32.82,35.76,35.76,35.76,18.12,35.76,23.02,35.76,25.96,30.86,23.02,37.72,35.76,35.76,35.76,35.76,27.92,35.76,35.76,23.02,35.76,25.96,35.76,32.82,35.76,30.86,38.7,28.9,32.82,27.92,35.76,28.9,35.76,25.96,35.76,27.92,32.82,38.7,37.72,27.92,30.86,35.76,35.76,33.8,35.76,35.76,37.72,25.96,35.76,30.86,28.9,35.76,27.92,35.76,35.76,35.76,30.86,23.02,30.86,30.86,35.76,18.12,35.76,32.82,35.76,35.76,25.96,37.72,32.82,27.92,35.76,32.82,35.76,33.8,27.92,38.7,32.82,27.92,37.72,38.7,25.96,32.82,35.76,28.9,37.72,32.82,30.86,27.92,25.96,32.82,37.72,25.96,21.06,25.96,37.72,27.92,25.96,30.86,35.76,25.96,27.92,28.9,30.86,35.76,25.96,37.72,27.92,27.92,32.82,30.86,27.92,35.76,30.86,35.76,38.7,21.06,27.92,27.92,35.76,32.82,35.76,25.96,27.92,25.96,32.82,35.76,32.82,25.96,27.92,30.86,27.92,30.86,32.82,37.72,27.92,32.82,30.86,32.82,25.96,32.82,35.76,35.76,35.76,35.76,27.92,30.86,35.76,33.8,30.86,27.92,27.92,25.96,37.72,30.86,37.72,30.86,38.7,35.76,25.96,28.9,23.02,30.86,38.7,35.76,27.92,35.76,23.02,25.96,37.72,32.82,32.82,25.96,35.76,30.86,37.72,18.12,25.96,32.82,33.8,35.76,35.76,23.02,27.92,25.96,32.82,30.86,27.92,35.76,35.76,35.76,30.86,38.7,35.76,18.12,32.82,23.02,38.7,35.76,37.72,25.96,37.72,37.72,37.72,21.06,27.92,37.72,35.76,30.86,35.76,32.82,38.7,30.86,32.82,28.9,35.76,30.86,32.82,37.72,27.92,28.9,32.82,35.76,35.76,32.82,30.86,35.76,32.82,28.9,38.7,38.7,25.96,35.76,27.92,35.76,21.06,32.82,30.86,30.86,32.82,35.76,35.76,32.82,35.76,18.12,23.02,32.82,35.76,33.8,32.82,30.86,37.72,23.02,23.02,32.82,28.9,25.96,27.92,35.76,35.76,35.76,25.96,37.72,25.96,32.82,25.96,23.02,28.9,32.82,35.76,37.72,35.76,32.82,25.96,27.92,30.86,32.82,35.76,35.76,23.02,32.82,32.82,30.86,30.86,25.96,35.76,24.0,27.92,25.96,30.86,27.92,35.76,25.96,28.9,27.92,27.92,37.72,25.96,27.92,38.7,25.96,30.86,30.86,25.96,25.96,35.76,32.82,33.8,21.06,37.72,28.9,32.82,35.76,35.76,25.96,25.96,35.76,25.96,38.7,25.96,35.76,37.72,35.76,35.76,35.76,25.96,35.76,28.9,35.76,35.76,35.76,32.82,35.76,35.76,35.76,32.82,37.72,35.76,32.82,25.96,30.86,21.06,25.96,35.76,27.92,37.72,27.92,35.76,38.7,27.92,35.76,35.76,35.76,35.76,35.76,35.76,27.92,28.9,27.92,25.96,27.92,35.76,30.86,37.72,27.92,25.96,32.82,28.9,25.96,32.82,23.02,32.82,28.9,35.76,32.82,37.72,25.96,27.92,27.92,32.82,27.92,32.82,35.76,35.76,25.96,33.8,25.96,35.76,35.76,37.72,23.02,35.76,35.76,25.96,35.76,35.76,35.76,28.9,35.76,33.8,25.96,32.82,32.82,25.96,32.82,35.76,35.76,23.02,30.86,35.76,35.76,35.76,25.96,35.76,32.82,27.92,32.82,25.96,35.76,38.7,38.7,25.96,25.96,33.8,37.72,33.8,30.86,30.86,38.7,30.86,25.96,25.96,27.92,32.82,28.9,32.82,32.82,33.8,30.86,35.76,35.76,35.76,35.76,35.76,30.86,35.76,32.82,24.0,35.76,27.92,27.92,35.76,27.92,35.76,32.82,32.82,35.76,25.96,35.76,25.96,25.96,37.72,30.86,38.7,23.02,23.02,35.76,35.76,35.76,25.96,27.92,23.02,30.86,38.7,30.86,38.7,23.02,32.82,35.76,28.9,30.86,23.02,28.9,28.9,30.86,25.96,32.82,35.76,37.72,32.82,37.72,25.96,35.76,35.76,35.76,35.76,37.72,35.76,30.86,35.76,35.76,28.9,35.76,37.72,25.96,27.92,23.02,38.7,35.76,30.86,30.86,35.76,30.86,35.76,32.82,27.92,27.92,27.92,35.76,30.86,27.92,35.76,35.76,25.96,35.76,38.7,27.92,25.96,37.72,32.82,32.82,33.8,32.82,30.86,30.86,37.72,32.82,28.9,33.8,27.92,32.82,32.82,23.02,30.86,27.92,35.76,38.7,23.02,25.96,37.72,37.72,27.92,32.82,30.86,23.02,25.96,23.02,37.72,37.72,35.76,27.92,35.76,25.96,35.76,27.92,35.76,35.76,35.76,23.02,35.76,28.9,27.92,30.86,35.76,35.76,30.86,32.82,35.76,35.76,32.82,30.86,35.76,35.76,35.76,23.02,32.82,35.76,25.96,37.72,35.76,30.86,38.7,35.76,35.76,37.72,35.76,35.76,35.76,25.96,23.02,35.76,32.82,30.86,30.86,37.72,35.76,35.76,32.82,35.76,32.82,33.8,25.96,35.76,23.02,25.96,32.82,27.92,25.96,35.76,32.82,35.76,27.92,33.8,25.96,25.96,25.96,32.82,38.7,27.92,32.82,35.76,37.72,27.92,35.76,35.76,35.76,38.7,30.86,35.76,25.96,27.92,35.76,38.7,23.02,25.96,37.72,30.86,25.96,27.92,35.76,35.76,27.92,25.96,25.96,25.96,25.96,32.82,25.96,35.76,30.86,23.02,37.72,32.82,27.92,23.02,25.96,37.72,33.8,18.12,32.82,27.92,32.82,35.76,35.76,35.76,32.82,30.86,37.72,35.76,30.86,27.92,32.82,33.8,35.76,35.76,32.82,35.76,37.72,35.76,37.72,25.96,32.82,35.76,25.96,27.92,23.02,25.96,38.7,35.76,37.72,37.72,25.96,37.72,37.72,23.02,18.12,18.12,32.82,25.96,27.92,35.76],\"y\":[31.064043627420006,34.64143129785508,36.59727503132839,35.02757517611234,20.81344428385947,34.64784127732886,25.29082555791207,35.046303100696925,25.17810783111591,31.416877101390295,21.12137123881371,35.37432454075906,35.45964840663452,36.47411840665858,34.66281011700087,36.230017798053815,25.774575908537628,36.36380835698651,34.98302183471519,25.087347186184008,35.514963083395386,24.984003333016272,36.21157957246686,35.28722288710759,36.23915904504916,31.383470036131325,36.389441871050245,26.520006423975715,35.362855827130815,30.41131326633762,34.842824728968864,25.84849110878226,36.38511627114701,26.46705640307135,35.311980304042066,30.189396669022603,35.53620348148921,36.53202637220514,36.33489106866944,30.72187482784144,30.96897881720781,36.348839517314495,36.359739273730185,31.39413471052304,35.86094857366205,34.7100947259196,35.68387158408166,26.670295699071566,34.46862872386441,30.181027414189852,26.43847997043266,36.544883524837935,26.114479445747964,35.16062761665167,36.15205739139769,35.09490478214599,29.41800688657635,25.454038437878886,29.466382791507336,31.020824108053734,36.393796659600326,20.999080133638092,34.64784127732886,31.05627007622477,36.20043329632867,35.04264067675635,26.481190463378006,36.0551432836389,35.17828053323563,26.04268581875911,36.921736297349334,35.25203343558345,35.478086632221476,31.042136015918114,30.396344426665603,35.849449119904975,35.69125991058408,25.714700549849564,36.06222047652076,36.14511861956781,25.308429004133664,30.729904895683575,35.96428597773501,26.49962868896496,35.33744808958516,31.115054138900575,29.783959902672063,30.149050831933756,26.06753402381985,36.0488717252171,35.88383453219257,25.157034998979373,19.85437974872253,24.86136549931654,36.447680853358314,30.105235608929966,26.29698509660226,31.401908261718276,36.29304323880716,25.25658371328774,26.13832656667366,25.991416465615533,30.058479792367333,34.75044056300845,26.92510400333564,35.90657692305983,25.920813528127205,30.306369090736695,35.259165245438965,29.811186197635486,26.332431064773296,36.33338907589601,31.601678171803556,34.64437189141392,36.24077913341752,20.50204794299029,29.923069145066286,30.27937200495151,37.05469207691667,31.034362464722875,35.919732636337855,26.082502863491868,25.727304733665083,24.87684336540948,35.49155347912006,34.49214310689427,35.5404616090673,24.997352084319935,30.236085574303814,31.61664701147557,25.674354712760717,30.159119802687957,35.0733363576347,36.1325586099273,26.23635173637987,35.53164279956201,31.3805963538539,35.28722288710759,25.167699673371093,35.12805533075806,36.934304886261295,36.415653647832436,36.987877946398726,35.282042624698036,25.98043237016837,31.162644734828568,36.1493767471459,31.416042322024936,29.787429288587003,30.174427829350588,30.588084268908744,25.02272908173677,35.78941146332009,31.365627514181885,36.128254444647,30.25478031653767,36.39667034187775,36.6009701937614,26.81102502983414,26.143645250135183,25.112704417665675,31.143115213229354,35.960078473426705,35.48611670006362,30.55551198301513,34.69401470709437,25.29082555791207,24.538469704690286,36.222533945856206,31.064043627420006,35.324837456674864,26.53733991950423,35.00308358133065,31.61664701147557,35.82569221085649,20.251028445696605,26.65185747348461,35.75776290748146,31.256874765675406,36.87708629498019,34.907951859837034,25.329551306632567,29.966884368070072,24.54303038661748,35.75087875262524,31.383470036131325,30.27590261903657,35.33735730145891,35.88706368947226,35.198531885216575,29.91344629632446,36.45571092120045,34.587996658769626,20.518609563561995,35.24713356666564,25.375562555707056,35.86441795957699,36.540676020529624,36.01068631929539,24.956686826175638,36.37896280832013,35.785346373767645,35.826480952519645,21.80834344452043,30.428916712559214,35.88447627353229,34.30303787120071,30.117263855043138,36.43724195548467,35.20527761902082,35.94510963375468,29.800778039890666,31.000955399463905,26.376226521841918,34.69239461872602,31.687092825805266,35.4947663483881,35.958422213905756,30.395509647300244,25.91877462521514,36.20135702638365,36.96315126959307,36.223079026223935,31.10008529922856,31.216272411939656,34.96085770656639,35.73160574767292,26.390104065501674,36.65887815930795,36.18199507074172,25.436385521294923,34.369498824099765,30.503923208816104,35.123751165477756,21.420320519026006,35.65765980729947,30.325226130867364,31.299904679676203,30.881877163556325,34.84120120794035,34.9632665365979,35.17828053323563,36.36380835698651,20.42169545580321,20.87838180936216,35.90683343970673,35.57027776015625,31.23843654008845,35.39785224062931,29.80975571463261,36.42230385594148,25.589449085179933,25.378456003919645,35.239103498823496,26.3124629626952,26.18635574308053,30.16401967160577,36.35266208084832,36.43377256956973,36.224190205377155,25.231206715870908,36.37045856509556,26.673765084986506,35.59887574462366,26.37199159285915,25.39180475522331,26.451252784033976,35.72813636175799,34.88736132086547,36.05533632166454,36.7414737480059,30.267872551194433,26.3004544825172,26.365838130032266,29.392629889159515,30.47194662656001,35.03461060891421,35.38680234154478,25.32371726486113,35.242892188588094,35.53620348148921,29.67392625278785,31.39843887580334,26.636888633812596,35.674387156391816,21.452297101282102,26.117948831662904,26.69220331057346,29.91344629632446,30.232616188388874,36.471483800109,26.07100340973479,26.365838130032266,30.09373615517289,25.57744060500193,36.41320465294446,26.397368590275985,30.49242375505903,36.22312964949372,26.37708106714244,30.058479792367333,30.243280862780594,24.818655006371195,26.370142295312565,34.30303787120071,35.63205703336456,31.42754177578201,21.40188229343905,35.793073887260675,26.365838130032266,35.56896880540846,36.52411783261808,36.64131603085025,24.75691691609036,26.72535385918553,35.09353309264199,26.636888633812596,35.90823318258077,26.34823468381067,35.02063640428246,36.22169916649084,36.640439933721,35.923202022252795,36.26657494537807,26.514597528636976,34.8270671476337,26.511128142722036,34.92346577987678,36.85492216683139,36.8111069438276,31.10008529922856,34.98623470398322,34.6513106632438,34.58780362074398,34.86232351043925,36.14775322611739,34.66281011700087,35.56896880540846,26.794782830317885,29.581735124853076,20.112338017846096,25.231206715870908,35.123751165477756,30.25452379989077,36.110650998425406,26.085646496462374,36.987877946398726,35.737566172474175,29.963414982155136,36.95621249776319,35.20116649176616,34.47370488130731,34.8202667968558,35.23535371941683,36.596440251963024,25.674354712760717,26.365838130032266,30.210708576886983,26.366672909397625,30.236085574303814,34.79019069645979,29.970014566994397,35.90985327094913,25.677824098675654,26.802556381513124,31.0862077555688,26.440844626289156,25.037121983706434,35.65222302824302,25.63479418467486,30.8302883893573,26.288615841769506,37.05552685628203,30.926783682572374,36.09562754177973,26.93551216108046,29.959945596240196,30.174427829350588,35.765847592297256,29.919599759151346,30.729648379036675,35.06496710280196,36.987877946398726,24.89477256457551,30.764904741842233,26.47425169154813,36.61918264283028,37.03972323724466,35.58846758687885,25.105785411770963,34.59414668893635,34.696745974615936,26.29698509660226,37.176983182092286,34.64563880216338,34.97309527871684,26.518066914551916,36.58548587857368,31.44141931944177,24.896811467487577,31.16815302365557,34.8219776733504,26.216293422424563,35.89880337186459,34.71356411183454,35.15368884482179,25.347989532219522,30.065675080844112,36.81804571565748,34.79955458633281,34.579966590927484,26.26357803134329,35.23392323641395,35.102678333341224,26.23635173637987,35.90683343970673,26.1078798609087,36.640439933721,36.61140909163504,36.14428384020245,26.522371079832215,26.056034570062774,30.97244820312275,35.385823994516144,31.43101116169695,29.767370974631696,31.453753552564205,36.23750278552822,29.49175978892417,25.279582620801893,26.49615930305002,30.537330274075078,30.63111418290954,26.457752975384974,35.103467075004374,34.91069941537024,31.223467700416435,31.412316419463096,35.2254743540281,34.73057185441862,35.525627757787106,36.061200085493795,35.15715823073673,29.767370974631696,35.202001271131515,35.4947663483881,21.633372269133524,34.93201132323462,25.861095292597778,30.267872551194433,34.72363308258875,26.10408472204933,34.68251525333729,35.48782757655822,30.438539561301038,35.01344111580569,26.481190463378006,36.57075212092563,26.47052578898629,26.670295699071566,36.12908922401236,29.709115704311984,36.3445353520342,25.563237308397742,25.366427757806477,34.68124834258783,34.97309527871684,34.71518420020289,24.8555314575451,25.552063607585097,25.616355959087905,29.730494523457786,36.444211467443374,30.251310930622733,36.67301221961461,25.559767922482802,35.13499410258794,34.94267599762634,26.128676410463168,31.34025051676505,20.77740261205092,26.440844626289156,26.12572238285814,31.34371990267999,24.88783379274563,35.11095092720198,34.736756057374336,36.49084575575093,35.67262864697148,36.073774547251496,24.982063823592473,34.7626781351589,36.6992239963968,34.56133532731489,34.68124834258783,35.977824334404154,36.20228259387526,29.935097391179454,34.93538404817757,34.82438650338191,26.484659849292946,36.39374603633054,35.96530636876197,26.6149810223107,25.774575908537628,25.6425677358701,36.62463631468363,34.87881577750763,30.036572180865438,29.767370974631696,35.16865768449381,31.139645827314414,36.29304323880716,35.15343232817489,25.680020124746356,30.470097329013424,30.462067261171285,36.51099485783249,30.97244820312275,30.022199044830938,36.68988497380687,35.49678137445533,25.10655095483879,36.64478541676519,35.923202022252795,29.91156969130921,26.089441635321744,35.73571687492758,30.74808660462363,30.508823077733922,31.038666630003174,35.51320457397505,29.63704980161394,31.40454286826786,36.17572351231991,35.54314225331909,25.84502172286732,31.256874765675406,30.510861980645984,30.774554898052724,35.31716056645162,25.229167812958842,30.06914446675905,26.230936509152144,36.196610732794845,35.700689721300265,25.394934954147633,26.7464069253869,35.987268597237524,36.110650998425406,30.264403165279496,35.20527761902082,30.177558028274913,21.229365985785858,25.286521392631773,25.682913572958945,35.88383453219257,35.87644620569016,36.20043329632867,26.136387057249856,37.03972323724466,26.44574449520697,35.109617105171104,29.90463091947933,35.321079507039094,34.974765990354975,36.496860797525834,25.559767922482802,36.533993765346644,26.1222529969432,26.13832656667366,31.564801720629646,34.9607610455944,34.65824943507368,31.1246769876424,30.807961963311694,34.964357832610155,34.91967709011218,30.508823077733922,31.387535125683776,34.68177713494392,35.47982824884491,34.69968656817478,25.193396091843372,35.32756872419643,35.90129441075089,26.238201033926455,36.09915154466833,35.16062761665167,29.78927858613359,36.255941011115176,34.69239461872602,34.4056371568803,35.67693281225178,34.87910547650526,36.19587261440147,35.046303100696925,26.40539865811812,25.501838405107524,34.54710460603625,35.77304288077403,31.34371990267999,29.767370974631696,35.9987680509946,35.321079507039094,36.582016492658745,31.190060635157465,34.443251726447585,30.959099451819085,31.286555928372536,25.34419439336015,36.71580705159144,25.17148848034148,26.179416971250653,35.07809007758755,29.948446142483117,26.50656746079484,34.35032248011944,35.61037519838074,36.85492216683139,30.16401967160577,31.40454286826786,25.119323768440108,24.82101966222769,26.53650514013887,35.55374344908954,36.75453867315767,30.29486963697962,35.46135928312913,35.19553667468407,36.09593867540029,30.170958443435648,35.86441795957699,35.525627757787106,34.987325999995484,36.73956983348565,30.128763308800213,36.95621249776319,24.98900259542235,30.137551378176678,36.5478713090064,36.27807439913514,25.37151723208977,24.67792567560862,35.89616876531501,29.850936331086817,26.049095798232894,25.72966938952158,36.35613146676326,34.86394359880761,30.429751491924574,26.481509884433454,26.673765084986506,24.972503879259197,26.708006929610836,35.53699222315236,24.717166782639026,36.577552471703534,29.899312236017806,25.254544810375673,35.8625686620304,34.87803046850464,30.770250732772425,25.08387780026907,24.852062071630165,36.172904447016144,30.761435355927294,20.672458436449997,31.04933130439489,30.551207817734834,35.147282298008165,36.38141180320811,37.213859633266196,35.45964840663452,30.86716484053121,29.585204510768015,36.31472507379098,36.529626121445084,29.9169156822394,30.55923788557697,35.52831183469905,30.761435355927294,35.079935942473966,36.60074441724333,35.431452343913925,36.20043329632867,36.22972923433298,34.990795385910424,35.73918626084252,25.122793154355044,30.77802428396766,34.61605430043824,25.301490232303788,25.351458918134462,25.272387332325113,26.629949861982716,36.25963617354819,34.964583609128226,35.62161813549092,35.96883037165057,24.930537953801995,35.85132572492022,35.94367915075181,25.581419017337797,20.843125446556602,20.76962906085568,35.42049797052458,26.975857998169307,30.689559058594728,35.39267197821977],\"type\":\"scatter\"},{\"line\":{\"color\":\"red\",\"dash\":\"dash\"},\"mode\":\"lines\",\"name\":\"Perfect Fit\",\"x\":[18.12,38.7],\"y\":[18.12,38.7],\"type\":\"scatter\"}],                        {\"template\":{\"data\":{\"histogram2dcontour\":[{\"type\":\"histogram2dcontour\",\"colorbar\":{\"outlinewidth\":0,\"ticks\":\"\"},\"colorscale\":[[0.0,\"#0d0887\"],[0.1111111111111111,\"#46039f\"],[0.2222222222222222,\"#7201a8\"],[0.3333333333333333,\"#9c179e\"],[0.4444444444444444,\"#bd3786\"],[0.5555555555555556,\"#d8576b\"],[0.6666666666666666,\"#ed7953\"],[0.7777777777777778,\"#fb9f3a\"],[0.8888888888888888,\"#fdca26\"],[1.0,\"#f0f921\"]]}],\"choropleth\":[{\"type\":\"choropleth\",\"colorbar\":{\"outlinewidth\":0,\"ticks\":\"\"}}],\"histogram2d\":[{\"type\":\"histogram2d\",\"colorbar\":{\"outlinewidth\":0,\"ticks\":\"\"},\"colorscale\":[[0.0,\"#0d0887\"],[0.1111111111111111,\"#46039f\"],[0.2222222222222222,\"#7201a8\"],[0.3333333333333333,\"#9c179e\"],[0.4444444444444444,\"#bd3786\"],[0.5555555555555556,\"#d8576b\"],[0.6666666666666666,\"#ed7953\"],[0.7777777777777778,\"#fb9f3a\"],[0.8888888888888888,\"#fdca26\"],[1.0,\"#f0f921\"]]}],\"heatmap\":[{\"type\":\"heatmap\",\"colorbar\":{\"outlinewidth\":0,\"ticks\":\"\"},\"colorscale\":[[0.0,\"#0d0887\"],[0.1111111111111111,\"#46039f\"],[0.2222222222222222,\"#7201a8\"],[0.3333333333333333,\"#9c179e\"],[0.4444444444444444,\"#bd3786\"],[0.5555555555555556,\"#d8576b\"],[0.6666666666666666,\"#ed7953\"],[0.7777777777777778,\"#fb9f3a\"],[0.8888888888888888,\"#fdca26\"],[1.0,\"#f0f921\"]]}],\"heatmapgl\":[{\"type\":\"heatmapgl\",\"colorbar\":{\"outlinewidth\":0,\"ticks\":\"\"},\"colorscale\":[[0.0,\"#0d0887\"],[0.1111111111111111,\"#46039f\"],[0.2222222222222222,\"#7201a8\"],[0.3333333333333333,\"#9c179e\"],[0.4444444444444444,\"#bd3786\"],[0.5555555555555556,\"#d8576b\"],[0.6666666666666666,\"#ed7953\"],[0.7777777777777778,\"#fb9f3a\"],[0.8888888888888888,\"#fdca26\"],[1.0,\"#f0f921\"]]}],\"contourcarpet\":[{\"type\":\"contourcarpet\",\"colorbar\":{\"outlinewidth\":0,\"ticks\":\"\"}}],\"contour\":[{\"type\":\"contour\",\"colorbar\":{\"outlinewidth\":0,\"ticks\":\"\"},\"colorscale\":[[0.0,\"#0d0887\"],[0.1111111111111111,\"#46039f\"],[0.2222222222222222,\"#7201a8\"],[0.3333333333333333,\"#9c179e\"],[0.4444444444444444,\"#bd3786\"],[0.5555555555555556,\"#d8576b\"],[0.6666666666666666,\"#ed7953\"],[0.7777777777777778,\"#fb9f3a\"],[0.8888888888888888,\"#fdca26\"],[1.0,\"#f0f921\"]]}],\"surface\":[{\"type\":\"surface\",\"colorbar\":{\"outlinewidth\":0,\"ticks\":\"\"},\"colorscale\":[[0.0,\"#0d0887\"],[0.1111111111111111,\"#46039f\"],[0.2222222222222222,\"#7201a8\"],[0.3333333333333333,\"#9c179e\"],[0.4444444444444444,\"#bd3786\"],[0.5555555555555556,\"#d8576b\"],[0.6666666666666666,\"#ed7953\"],[0.7777777777777778,\"#fb9f3a\"],[0.8888888888888888,\"#fdca26\"],[1.0,\"#f0f921\"]]}],\"mesh3d\":[{\"type\":\"mesh3d\",\"colorbar\":{\"outlinewidth\":0,\"ticks\":\"\"}}],\"scatter\":[{\"fillpattern\":{\"fillmode\":\"overlay\",\"size\":10,\"solidity\":0.2},\"type\":\"scatter\"}],\"parcoords\":[{\"type\":\"parcoords\",\"line\":{\"colorbar\":{\"outlinewidth\":0,\"ticks\":\"\"}}}],\"scatterpolargl\":[{\"type\":\"scatterpolargl\",\"marker\":{\"colorbar\":{\"outlinewidth\":0,\"ticks\":\"\"}}}],\"bar\":[{\"error_x\":{\"color\":\"#2a3f5f\"},\"error_y\":{\"color\":\"#2a3f5f\"},\"marker\":{\"line\":{\"color\":\"#E5ECF6\",\"width\":0.5},\"pattern\":{\"fillmode\":\"overlay\",\"size\":10,\"solidity\":0.2}},\"type\":\"bar\"}],\"scattergeo\":[{\"type\":\"scattergeo\",\"marker\":{\"colorbar\":{\"outlinewidth\":0,\"ticks\":\"\"}}}],\"scatterpolar\":[{\"type\":\"scatterpolar\",\"marker\":{\"colorbar\":{\"outlinewidth\":0,\"ticks\":\"\"}}}],\"histogram\":[{\"marker\":{\"pattern\":{\"fillmode\":\"overlay\",\"size\":10,\"solidity\":0.2}},\"type\":\"histogram\"}],\"scattergl\":[{\"type\":\"scattergl\",\"marker\":{\"colorbar\":{\"outlinewidth\":0,\"ticks\":\"\"}}}],\"scatter3d\":[{\"type\":\"scatter3d\",\"line\":{\"colorbar\":{\"outlinewidth\":0,\"ticks\":\"\"}},\"marker\":{\"colorbar\":{\"outlinewidth\":0,\"ticks\":\"\"}}}],\"scattermapbox\":[{\"type\":\"scattermapbox\",\"marker\":{\"colorbar\":{\"outlinewidth\":0,\"ticks\":\"\"}}}],\"scatterternary\":[{\"type\":\"scatterternary\",\"marker\":{\"colorbar\":{\"outlinewidth\":0,\"ticks\":\"\"}}}],\"scattercarpet\":[{\"type\":\"scattercarpet\",\"marker\":{\"colorbar\":{\"outlinewidth\":0,\"ticks\":\"\"}}}],\"carpet\":[{\"aaxis\":{\"endlinecolor\":\"#2a3f5f\",\"gridcolor\":\"white\",\"linecolor\":\"white\",\"minorgridcolor\":\"white\",\"startlinecolor\":\"#2a3f5f\"},\"baxis\":{\"endlinecolor\":\"#2a3f5f\",\"gridcolor\":\"white\",\"linecolor\":\"white\",\"minorgridcolor\":\"white\",\"startlinecolor\":\"#2a3f5f\"},\"type\":\"carpet\"}],\"table\":[{\"cells\":{\"fill\":{\"color\":\"#EBF0F8\"},\"line\":{\"color\":\"white\"}},\"header\":{\"fill\":{\"color\":\"#C8D4E3\"},\"line\":{\"color\":\"white\"}},\"type\":\"table\"}],\"barpolar\":[{\"marker\":{\"line\":{\"color\":\"#E5ECF6\",\"width\":0.5},\"pattern\":{\"fillmode\":\"overlay\",\"size\":10,\"solidity\":0.2}},\"type\":\"barpolar\"}],\"pie\":[{\"automargin\":true,\"type\":\"pie\"}]},\"layout\":{\"autotypenumbers\":\"strict\",\"colorway\":[\"#636efa\",\"#EF553B\",\"#00cc96\",\"#ab63fa\",\"#FFA15A\",\"#19d3f3\",\"#FF6692\",\"#B6E880\",\"#FF97FF\",\"#FECB52\"],\"font\":{\"color\":\"#2a3f5f\"},\"hovermode\":\"closest\",\"hoverlabel\":{\"align\":\"left\"},\"paper_bgcolor\":\"white\",\"plot_bgcolor\":\"#E5ECF6\",\"polar\":{\"bgcolor\":\"#E5ECF6\",\"angularaxis\":{\"gridcolor\":\"white\",\"linecolor\":\"white\",\"ticks\":\"\"},\"radialaxis\":{\"gridcolor\":\"white\",\"linecolor\":\"white\",\"ticks\":\"\"}},\"ternary\":{\"bgcolor\":\"#E5ECF6\",\"aaxis\":{\"gridcolor\":\"white\",\"linecolor\":\"white\",\"ticks\":\"\"},\"baxis\":{\"gridcolor\":\"white\",\"linecolor\":\"white\",\"ticks\":\"\"},\"caxis\":{\"gridcolor\":\"white\",\"linecolor\":\"white\",\"ticks\":\"\"}},\"coloraxis\":{\"colorbar\":{\"outlinewidth\":0,\"ticks\":\"\"}},\"colorscale\":{\"sequential\":[[0.0,\"#0d0887\"],[0.1111111111111111,\"#46039f\"],[0.2222222222222222,\"#7201a8\"],[0.3333333333333333,\"#9c179e\"],[0.4444444444444444,\"#bd3786\"],[0.5555555555555556,\"#d8576b\"],[0.6666666666666666,\"#ed7953\"],[0.7777777777777778,\"#fb9f3a\"],[0.8888888888888888,\"#fdca26\"],[1.0,\"#f0f921\"]],\"sequentialminus\":[[0.0,\"#0d0887\"],[0.1111111111111111,\"#46039f\"],[0.2222222222222222,\"#7201a8\"],[0.3333333333333333,\"#9c179e\"],[0.4444444444444444,\"#bd3786\"],[0.5555555555555556,\"#d8576b\"],[0.6666666666666666,\"#ed7953\"],[0.7777777777777778,\"#fb9f3a\"],[0.8888888888888888,\"#fdca26\"],[1.0,\"#f0f921\"]],\"diverging\":[[0,\"#8e0152\"],[0.1,\"#c51b7d\"],[0.2,\"#de77ae\"],[0.3,\"#f1b6da\"],[0.4,\"#fde0ef\"],[0.5,\"#f7f7f7\"],[0.6,\"#e6f5d0\"],[0.7,\"#b8e186\"],[0.8,\"#7fbc41\"],[0.9,\"#4d9221\"],[1,\"#276419\"]]},\"xaxis\":{\"gridcolor\":\"white\",\"linecolor\":\"white\",\"ticks\":\"\",\"title\":{\"standoff\":15},\"zerolinecolor\":\"white\",\"automargin\":true,\"zerolinewidth\":2},\"yaxis\":{\"gridcolor\":\"white\",\"linecolor\":\"white\",\"ticks\":\"\",\"title\":{\"standoff\":15},\"zerolinecolor\":\"white\",\"automargin\":true,\"zerolinewidth\":2},\"scene\":{\"xaxis\":{\"backgroundcolor\":\"#E5ECF6\",\"gridcolor\":\"white\",\"linecolor\":\"white\",\"showbackground\":true,\"ticks\":\"\",\"zerolinecolor\":\"white\",\"gridwidth\":2},\"yaxis\":{\"backgroundcolor\":\"#E5ECF6\",\"gridcolor\":\"white\",\"linecolor\":\"white\",\"showbackground\":true,\"ticks\":\"\",\"zerolinecolor\":\"white\",\"gridwidth\":2},\"zaxis\":{\"backgroundcolor\":\"#E5ECF6\",\"gridcolor\":\"white\",\"linecolor\":\"white\",\"showbackground\":true,\"ticks\":\"\",\"zerolinecolor\":\"white\",\"gridwidth\":2}},\"shapedefaults\":{\"line\":{\"color\":\"#2a3f5f\"}},\"annotationdefaults\":{\"arrowcolor\":\"#2a3f5f\",\"arrowhead\":0,\"arrowwidth\":1},\"geo\":{\"bgcolor\":\"white\",\"landcolor\":\"#E5ECF6\",\"subunitcolor\":\"white\",\"showland\":true,\"showlakes\":true,\"lakecolor\":\"white\"},\"title\":{\"x\":0.05},\"mapbox\":{\"style\":\"light\"}}},\"title\":{\"text\":\"Actual vs Predicted Sales (Linear Regression Model)\"},\"xaxis\":{\"title\":{\"text\":\"Actual Sales (money)\"}},\"yaxis\":{\"title\":{\"text\":\"Predicted Sales (money)\"}}},                        {\"responsive\": true}                    ).then(function(){\n",
              "                            \n",
              "var gd = document.getElementById('2013fc23-8443-402f-8a3c-23a135279498');\n",
              "var x = new MutationObserver(function (mutations, observer) {{\n",
              "        var display = window.getComputedStyle(gd).display;\n",
              "        if (!display || display === 'none') {{\n",
              "            console.log([gd, 'removed!']);\n",
              "            Plotly.purge(gd);\n",
              "            observer.disconnect();\n",
              "        }}\n",
              "}});\n",
              "\n",
              "// Listen for the removal of the full notebook cells\n",
              "var notebookContainer = gd.closest('#notebook-container');\n",
              "if (notebookContainer) {{\n",
              "    x.observe(notebookContainer, {childList: true});\n",
              "}}\n",
              "\n",
              "// Listen for the clearing of the current output cell\n",
              "var outputEl = gd.closest('.output');\n",
              "if (outputEl) {{\n",
              "    x.observe(outputEl, {childList: true});\n",
              "}}\n",
              "\n",
              "                        })                };                            </script>        </div>\n",
              "</body>\n",
              "</html>"
            ]
          },
          "metadata": {}
        }
      ]
    },
    {
      "cell_type": "code",
      "execution_count": 62,
      "id": "6db4280b",
      "metadata": {
        "colab": {
          "base_uri": "https://localhost:8080/",
          "height": 577
        },
        "id": "6db4280b",
        "outputId": "de52d460-fb1c-49cd-ddc6-31fd15e6ee53"
      },
      "outputs": [
        {
          "output_type": "stream",
          "name": "stdout",
          "text": [
            "XGBoost Model R2: 0.9758\n",
            "XGBoost Model MAE: 0.3641\n"
          ]
        },
        {
          "output_type": "display_data",
          "data": {
            "text/html": [
              "<html>\n",
              "<head><meta charset=\"utf-8\" /></head>\n",
              "<body>\n",
              "    <div>            <script src=\"https://cdnjs.cloudflare.com/ajax/libs/mathjax/2.7.5/MathJax.js?config=TeX-AMS-MML_SVG\"></script><script type=\"text/javascript\">if (window.MathJax && window.MathJax.Hub && window.MathJax.Hub.Config) {window.MathJax.Hub.Config({SVG: {font: \"STIX-Web\"}});}</script>                <script type=\"text/javascript\">window.PlotlyConfig = {MathJaxConfig: 'local'};</script>\n",
              "        <script charset=\"utf-8\" src=\"https://cdn.plot.ly/plotly-2.35.2.min.js\"></script>                <div id=\"f7dff5d1-71c0-4293-9e7e-7b18ebcebcdd\" class=\"plotly-graph-div\" style=\"height:525px; width:100%;\"></div>            <script type=\"text/javascript\">                                    window.PLOTLYENV=window.PLOTLYENV || {};                                    if (document.getElementById(\"f7dff5d1-71c0-4293-9e7e-7b18ebcebcdd\")) {                    Plotly.newPlot(                        \"f7dff5d1-71c0-4293-9e7e-7b18ebcebcdd\",                        [{\"mode\":\"markers\",\"name\":\"XGBoost Predictions\",\"x\":[32.82,35.76,35.76,35.76,18.12,35.76,23.02,35.76,25.96,30.86,23.02,37.72,35.76,35.76,35.76,35.76,27.92,35.76,35.76,23.02,35.76,25.96,35.76,32.82,35.76,30.86,38.7,28.9,32.82,27.92,35.76,28.9,35.76,25.96,35.76,27.92,32.82,38.7,37.72,27.92,30.86,35.76,35.76,33.8,35.76,35.76,37.72,25.96,35.76,30.86,28.9,35.76,27.92,35.76,35.76,35.76,30.86,23.02,30.86,30.86,35.76,18.12,35.76,32.82,35.76,35.76,25.96,37.72,32.82,27.92,35.76,32.82,35.76,33.8,27.92,38.7,32.82,27.92,37.72,38.7,25.96,32.82,35.76,28.9,37.72,32.82,30.86,27.92,25.96,32.82,37.72,25.96,21.06,25.96,37.72,27.92,25.96,30.86,35.76,25.96,27.92,28.9,30.86,35.76,25.96,37.72,27.92,27.92,32.82,30.86,27.92,35.76,30.86,35.76,38.7,21.06,27.92,27.92,35.76,32.82,35.76,25.96,27.92,25.96,32.82,35.76,32.82,25.96,27.92,30.86,27.92,30.86,32.82,37.72,27.92,32.82,30.86,32.82,25.96,32.82,35.76,35.76,35.76,35.76,27.92,30.86,35.76,33.8,30.86,27.92,27.92,25.96,37.72,30.86,37.72,30.86,38.7,35.76,25.96,28.9,23.02,30.86,38.7,35.76,27.92,35.76,23.02,25.96,37.72,32.82,32.82,25.96,35.76,30.86,37.72,18.12,25.96,32.82,33.8,35.76,35.76,23.02,27.92,25.96,32.82,30.86,27.92,35.76,35.76,35.76,30.86,38.7,35.76,18.12,32.82,23.02,38.7,35.76,37.72,25.96,37.72,37.72,37.72,21.06,27.92,37.72,35.76,30.86,35.76,32.82,38.7,30.86,32.82,28.9,35.76,30.86,32.82,37.72,27.92,28.9,32.82,35.76,35.76,32.82,30.86,35.76,32.82,28.9,38.7,38.7,25.96,35.76,27.92,35.76,21.06,32.82,30.86,30.86,32.82,35.76,35.76,32.82,35.76,18.12,23.02,32.82,35.76,33.8,32.82,30.86,37.72,23.02,23.02,32.82,28.9,25.96,27.92,35.76,35.76,35.76,25.96,37.72,25.96,32.82,25.96,23.02,28.9,32.82,35.76,37.72,35.76,32.82,25.96,27.92,30.86,32.82,35.76,35.76,23.02,32.82,32.82,30.86,30.86,25.96,35.76,24.0,27.92,25.96,30.86,27.92,35.76,25.96,28.9,27.92,27.92,37.72,25.96,27.92,38.7,25.96,30.86,30.86,25.96,25.96,35.76,32.82,33.8,21.06,37.72,28.9,32.82,35.76,35.76,25.96,25.96,35.76,25.96,38.7,25.96,35.76,37.72,35.76,35.76,35.76,25.96,35.76,28.9,35.76,35.76,35.76,32.82,35.76,35.76,35.76,32.82,37.72,35.76,32.82,25.96,30.86,21.06,25.96,35.76,27.92,37.72,27.92,35.76,38.7,27.92,35.76,35.76,35.76,35.76,35.76,35.76,27.92,28.9,27.92,25.96,27.92,35.76,30.86,37.72,27.92,25.96,32.82,28.9,25.96,32.82,23.02,32.82,28.9,35.76,32.82,37.72,25.96,27.92,27.92,32.82,27.92,32.82,35.76,35.76,25.96,33.8,25.96,35.76,35.76,37.72,23.02,35.76,35.76,25.96,35.76,35.76,35.76,28.9,35.76,33.8,25.96,32.82,32.82,25.96,32.82,35.76,35.76,23.02,30.86,35.76,35.76,35.76,25.96,35.76,32.82,27.92,32.82,25.96,35.76,38.7,38.7,25.96,25.96,33.8,37.72,33.8,30.86,30.86,38.7,30.86,25.96,25.96,27.92,32.82,28.9,32.82,32.82,33.8,30.86,35.76,35.76,35.76,35.76,35.76,30.86,35.76,32.82,24.0,35.76,27.92,27.92,35.76,27.92,35.76,32.82,32.82,35.76,25.96,35.76,25.96,25.96,37.72,30.86,38.7,23.02,23.02,35.76,35.76,35.76,25.96,27.92,23.02,30.86,38.7,30.86,38.7,23.02,32.82,35.76,28.9,30.86,23.02,28.9,28.9,30.86,25.96,32.82,35.76,37.72,32.82,37.72,25.96,35.76,35.76,35.76,35.76,37.72,35.76,30.86,35.76,35.76,28.9,35.76,37.72,25.96,27.92,23.02,38.7,35.76,30.86,30.86,35.76,30.86,35.76,32.82,27.92,27.92,27.92,35.76,30.86,27.92,35.76,35.76,25.96,35.76,38.7,27.92,25.96,37.72,32.82,32.82,33.8,32.82,30.86,30.86,37.72,32.82,28.9,33.8,27.92,32.82,32.82,23.02,30.86,27.92,35.76,38.7,23.02,25.96,37.72,37.72,27.92,32.82,30.86,23.02,25.96,23.02,37.72,37.72,35.76,27.92,35.76,25.96,35.76,27.92,35.76,35.76,35.76,23.02,35.76,28.9,27.92,30.86,35.76,35.76,30.86,32.82,35.76,35.76,32.82,30.86,35.76,35.76,35.76,23.02,32.82,35.76,25.96,37.72,35.76,30.86,38.7,35.76,35.76,37.72,35.76,35.76,35.76,25.96,23.02,35.76,32.82,30.86,30.86,37.72,35.76,35.76,32.82,35.76,32.82,33.8,25.96,35.76,23.02,25.96,32.82,27.92,25.96,35.76,32.82,35.76,27.92,33.8,25.96,25.96,25.96,32.82,38.7,27.92,32.82,35.76,37.72,27.92,35.76,35.76,35.76,38.7,30.86,35.76,25.96,27.92,35.76,38.7,23.02,25.96,37.72,30.86,25.96,27.92,35.76,35.76,27.92,25.96,25.96,25.96,25.96,32.82,25.96,35.76,30.86,23.02,37.72,32.82,27.92,23.02,25.96,37.72,33.8,18.12,32.82,27.92,32.82,35.76,35.76,35.76,32.82,30.86,37.72,35.76,30.86,27.92,32.82,33.8,35.76,35.76,32.82,35.76,37.72,35.76,37.72,25.96,32.82,35.76,25.96,27.92,23.02,25.96,38.7,35.76,37.72,37.72,25.96,37.72,37.72,23.02,18.12,18.12,32.82,25.96,27.92,35.76],\"y\":[33.164574,35.814827,35.809742,35.73787,18.101976,35.71044,23.282187,35.84026,25.91613,30.82651,23.725042,37.77744,35.76717,35.725163,35.74792,37.594166,27.709885,35.737526,35.797672,23.283405,35.752846,25.969452,36.26837,32.44482,35.791595,31.277117,36.10852,29.277838,32.863335,27.877575,35.774185,28.263565,37.227966,25.944069,35.748833,28.08867,32.724552,38.802834,37.14318,30.697914,31.485664,35.763504,35.220356,32.159863,36.48095,35.788193,37.680653,25.987528,35.67375,30.839344,28.508713,35.707676,27.832243,35.69634,36.319862,35.658253,30.85594,22.800837,30.83505,31.006844,35.687878,17.462217,35.71044,32.764145,36.827286,35.636703,26.663786,38.149975,32.837242,27.843136,35.173954,33.11544,35.740482,33.88495,27.804249,38.148003,32.758724,27.641716,38.328304,36.759872,25.829166,30.22781,38.402027,27.206161,37.818626,32.666176,31.127056,27.8096,25.64993,33.083374,36.241146,25.923298,21.09434,25.915705,38.429657,27.816473,25.990643,30.900686,36.99383,25.922775,27.941517,28.76373,30.850481,35.687164,25.966179,37.60669,27.824406,27.989231,34.046665,30.827517,28.016207,36.727604,30.593811,35.703712,36.616493,21.04951,27.972181,27.858238,36.41595,32.943096,36.417027,25.932978,28.142887,26.177567,33.62781,35.74711,34.10846,25.990572,27.732155,30.362486,27.78721,30.78391,32.400455,37.77479,28.28653,32.99491,30.770966,32.44482,25.908773,33.011044,35.8412,35.878418,35.27531,35.78749,27.497568,30.848625,35.61813,32.74121,30.757706,27.799702,28.980787,25.888878,38.29597,31.131193,37.636257,30.85383,35.7104,35.869194,25.869514,28.78966,23.062721,30.889303,35.975266,35.711086,27.900911,35.730797,23.282187,25.911476,39.11591,33.164574,32.77562,25.954908,35.694,30.362486,37.83281,18.094088,25.948563,32.463566,33.43432,38.800858,35.77987,23.163706,27.85334,25.928926,33.48084,31.277117,27.858238,35.7649,35.81032,35.873188,30.87049,38.491352,35.768356,17.339622,32.921494,22.950684,36.493786,35.414433,37.6908,25.965998,37.942398,37.67614,37.855747,20.979366,27.924017,37.57096,35.708916,31.057173,35.73138,33.955822,36.80287,30.872753,32.682476,28.619928,35.76254,30.764948,32.97507,37.882,28.021341,28.525627,32.87743,35.67227,37.546413,32.963554,31.630167,35.76136,32.733276,28.582338,38.01025,37.534092,25.96836,35.811985,27.813566,35.707485,20.929033,33.42079,28.426523,30.90569,32.800602,35.748817,36.035164,32.837242,35.737526,18.097593,23.102118,33.571865,35.759716,33.341408,32.653343,30.817411,38.883667,22.638649,24.177921,32.673218,29.026846,25.929176,27.897448,35.795258,35.696144,35.7617,25.916285,38.411602,25.926414,33.10417,25.990068,23.463144,26.551788,32.578773,35.703423,37.72014,35.77452,28.201086,25.91055,28.247551,30.869293,32.832565,36.034958,35.71203,23.033743,32.91996,32.724552,30.88739,30.818598,26.03513,35.70389,24.299936,27.89083,25.937803,30.87049,28.280191,35.683926,26.598919,28.247551,27.88039,27.850512,37.70694,25.868998,27.781454,35.76672,26.825718,30.850481,30.878126,25.913979,27.824347,35.708916,32.708916,31.877672,20.868382,37.65743,28.247551,32.678986,35.747425,35.630314,25.910896,26.04391,35.711063,26.03513,36.234665,27.287523,35.78206,37.977097,36.01962,37.8124,36.257782,27.358065,35.80382,27.42444,35.736404,35.7528,35.670597,32.963554,35.82563,35.73006,35.748272,32.723793,38.467316,35.74792,32.678986,25.917765,30.842743,21.050148,25.916285,35.707485,27.91352,37.69455,27.756977,35.27531,38.126682,28.14342,35.607944,35.920822,35.7029,36.24784,35.63923,36.809917,27.78721,28.247551,27.98824,27.353905,27.732155,35.766293,30.886366,37.81537,27.854332,26.06748,32.832504,27.157124,25.88253,32.76777,23.229979,32.593605,28.259846,35.324417,32.862232,38.00443,25.97216,27.933962,27.799702,35.120327,27.916973,32.811043,35.747337,35.27531,25.919277,33.2966,26.931698,35.70641,35.862392,32.757915,23.558323,35.781677,35.971836,25.990643,35.6012,35.805016,36.20819,27.33338,35.745674,32.90316,25.9437,33.06316,32.83822,25.988953,33.910255,35.690933,35.80677,23.364338,30.936035,35.673912,35.746094,35.82341,25.803822,35.908627,32.77618,28.28653,33.571865,27.359243,36.01962,37.19,38.699516,25.957748,26.538252,32.02745,37.810333,32.107376,30.879122,30.918932,38.571545,30.913807,25.888697,27.485247,27.744047,32.736683,29.024628,32.849293,33.079376,33.626648,30.87458,35.764725,35.743946,35.750248,37.897472,36.239197,30.879122,35.726715,32.97507,22.21385,35.772488,28.013163,28.201086,35.76533,27.712936,35.73377,34.675117,32.75968,35.679684,26.663786,35.53369,25.934679,25.987528,37.951447,31.098705,35.142563,22.923845,23.43476,35.758717,36.20819,35.858604,25.916103,27.775452,23.402643,30.872284,38.651814,30.742413,38.15239,23.01771,32.580524,35.686462,28.904577,30.870104,21.880041,27.157124,28.205387,30.850014,25.92784,33.509987,35.71838,37.83232,32.774193,37.68875,25.9995,35.7583,38.605648,35.677727,35.758717,37.911182,35.81554,30.46852,35.728855,35.825924,26.68602,35.68384,37.742836,26.122887,27.709885,23.362694,38.915356,35.750538,30.761173,30.879122,36.22321,30.73547,36.99383,32.671013,27.935951,27.99177,27.677334,35.625412,32.02745,28.352493,35.66371,35.595547,25.900782,35.697636,37.8124,29.283144,26.891815,37.71778,32.6952,32.75722,33.38828,32.68567,30.838144,32.72302,37.5555,32.840748,28.262444,33.43432,27.694288,33.061115,33.177044,23.099861,30.926256,27.93192,35.726593,38.04282,23.45767,26.102753,37.37759,37.69455,27.828848,33.955822,30.87016,22.552214,25.876663,24.63098,36.241146,37.719925,36.827286,28.009495,35.862392,26.013933,33.801064,28.364063,35.56643,35.74945,35.677624,23.01771,35.67476,28.19073,27.941517,30.912289,35.74407,35.801613,30.760677,32.784042,35.78562,35.740215,32.75722,30.900126,35.842552,32.63947,35.771717,23.23964,32.78691,36.261337,25.909386,37.721664,35.69634,30.848341,38.610294,35.76254,35.80293,37.820995,35.644226,36.998245,35.84026,25.956993,23.369644,35.788193,32.633766,30.850014,30.879122,37.709343,35.56643,35.768566,33.242016,35.670414,32.874424,32.956207,25.969334,35.712692,22.983028,25.900505,32.876213,27.894955,27.310179,35.747105,33.177288,35.7528,27.897448,32.72302,25.87206,26.01415,26.46053,32.874706,38.163513,28.629967,32.513054,35.75391,37.98606,28.099646,36.493786,35.750248,35.82499,37.47284,30.960423,35.607944,25.952389,27.806917,35.832664,37.924934,23.4111,25.951323,37.99692,31.889174,25.858248,27.929825,35.79601,36.033276,27.801733,26.032278,25.926414,25.982456,25.96073,32.769745,25.93202,35.093327,30.923523,23.414522,37.755417,32.76202,29.11306,23.729836,25.893059,37.694195,33.429268,21.306232,32.7759,28.537868,32.76012,35.97633,35.8203,35.76717,32.95637,30.878614,38.395954,35.74958,30.839842,28.040857,32.704727,33.429268,35.731888,35.747158,32.66174,36.827286,38.277393,35.804153,37.743553,25.927698,33.244984,35.772594,26.023277,23.647331,23.392023,26.07381,37.195408,35.796272,37.713947,39.929867,25.979534,37.8513,37.77841,22.596706,21.974794,18.194088,32.840466,25.91955,28.191626,35.797386],\"type\":\"scatter\"},{\"line\":{\"color\":\"red\",\"dash\":\"dash\"},\"mode\":\"lines\",\"name\":\"Perfect Fit\",\"x\":[18.12,38.7],\"y\":[18.12,38.7],\"type\":\"scatter\"}],                        {\"template\":{\"data\":{\"histogram2dcontour\":[{\"type\":\"histogram2dcontour\",\"colorbar\":{\"outlinewidth\":0,\"ticks\":\"\"},\"colorscale\":[[0.0,\"#0d0887\"],[0.1111111111111111,\"#46039f\"],[0.2222222222222222,\"#7201a8\"],[0.3333333333333333,\"#9c179e\"],[0.4444444444444444,\"#bd3786\"],[0.5555555555555556,\"#d8576b\"],[0.6666666666666666,\"#ed7953\"],[0.7777777777777778,\"#fb9f3a\"],[0.8888888888888888,\"#fdca26\"],[1.0,\"#f0f921\"]]}],\"choropleth\":[{\"type\":\"choropleth\",\"colorbar\":{\"outlinewidth\":0,\"ticks\":\"\"}}],\"histogram2d\":[{\"type\":\"histogram2d\",\"colorbar\":{\"outlinewidth\":0,\"ticks\":\"\"},\"colorscale\":[[0.0,\"#0d0887\"],[0.1111111111111111,\"#46039f\"],[0.2222222222222222,\"#7201a8\"],[0.3333333333333333,\"#9c179e\"],[0.4444444444444444,\"#bd3786\"],[0.5555555555555556,\"#d8576b\"],[0.6666666666666666,\"#ed7953\"],[0.7777777777777778,\"#fb9f3a\"],[0.8888888888888888,\"#fdca26\"],[1.0,\"#f0f921\"]]}],\"heatmap\":[{\"type\":\"heatmap\",\"colorbar\":{\"outlinewidth\":0,\"ticks\":\"\"},\"colorscale\":[[0.0,\"#0d0887\"],[0.1111111111111111,\"#46039f\"],[0.2222222222222222,\"#7201a8\"],[0.3333333333333333,\"#9c179e\"],[0.4444444444444444,\"#bd3786\"],[0.5555555555555556,\"#d8576b\"],[0.6666666666666666,\"#ed7953\"],[0.7777777777777778,\"#fb9f3a\"],[0.8888888888888888,\"#fdca26\"],[1.0,\"#f0f921\"]]}],\"heatmapgl\":[{\"type\":\"heatmapgl\",\"colorbar\":{\"outlinewidth\":0,\"ticks\":\"\"},\"colorscale\":[[0.0,\"#0d0887\"],[0.1111111111111111,\"#46039f\"],[0.2222222222222222,\"#7201a8\"],[0.3333333333333333,\"#9c179e\"],[0.4444444444444444,\"#bd3786\"],[0.5555555555555556,\"#d8576b\"],[0.6666666666666666,\"#ed7953\"],[0.7777777777777778,\"#fb9f3a\"],[0.8888888888888888,\"#fdca26\"],[1.0,\"#f0f921\"]]}],\"contourcarpet\":[{\"type\":\"contourcarpet\",\"colorbar\":{\"outlinewidth\":0,\"ticks\":\"\"}}],\"contour\":[{\"type\":\"contour\",\"colorbar\":{\"outlinewidth\":0,\"ticks\":\"\"},\"colorscale\":[[0.0,\"#0d0887\"],[0.1111111111111111,\"#46039f\"],[0.2222222222222222,\"#7201a8\"],[0.3333333333333333,\"#9c179e\"],[0.4444444444444444,\"#bd3786\"],[0.5555555555555556,\"#d8576b\"],[0.6666666666666666,\"#ed7953\"],[0.7777777777777778,\"#fb9f3a\"],[0.8888888888888888,\"#fdca26\"],[1.0,\"#f0f921\"]]}],\"surface\":[{\"type\":\"surface\",\"colorbar\":{\"outlinewidth\":0,\"ticks\":\"\"},\"colorscale\":[[0.0,\"#0d0887\"],[0.1111111111111111,\"#46039f\"],[0.2222222222222222,\"#7201a8\"],[0.3333333333333333,\"#9c179e\"],[0.4444444444444444,\"#bd3786\"],[0.5555555555555556,\"#d8576b\"],[0.6666666666666666,\"#ed7953\"],[0.7777777777777778,\"#fb9f3a\"],[0.8888888888888888,\"#fdca26\"],[1.0,\"#f0f921\"]]}],\"mesh3d\":[{\"type\":\"mesh3d\",\"colorbar\":{\"outlinewidth\":0,\"ticks\":\"\"}}],\"scatter\":[{\"fillpattern\":{\"fillmode\":\"overlay\",\"size\":10,\"solidity\":0.2},\"type\":\"scatter\"}],\"parcoords\":[{\"type\":\"parcoords\",\"line\":{\"colorbar\":{\"outlinewidth\":0,\"ticks\":\"\"}}}],\"scatterpolargl\":[{\"type\":\"scatterpolargl\",\"marker\":{\"colorbar\":{\"outlinewidth\":0,\"ticks\":\"\"}}}],\"bar\":[{\"error_x\":{\"color\":\"#2a3f5f\"},\"error_y\":{\"color\":\"#2a3f5f\"},\"marker\":{\"line\":{\"color\":\"#E5ECF6\",\"width\":0.5},\"pattern\":{\"fillmode\":\"overlay\",\"size\":10,\"solidity\":0.2}},\"type\":\"bar\"}],\"scattergeo\":[{\"type\":\"scattergeo\",\"marker\":{\"colorbar\":{\"outlinewidth\":0,\"ticks\":\"\"}}}],\"scatterpolar\":[{\"type\":\"scatterpolar\",\"marker\":{\"colorbar\":{\"outlinewidth\":0,\"ticks\":\"\"}}}],\"histogram\":[{\"marker\":{\"pattern\":{\"fillmode\":\"overlay\",\"size\":10,\"solidity\":0.2}},\"type\":\"histogram\"}],\"scattergl\":[{\"type\":\"scattergl\",\"marker\":{\"colorbar\":{\"outlinewidth\":0,\"ticks\":\"\"}}}],\"scatter3d\":[{\"type\":\"scatter3d\",\"line\":{\"colorbar\":{\"outlinewidth\":0,\"ticks\":\"\"}},\"marker\":{\"colorbar\":{\"outlinewidth\":0,\"ticks\":\"\"}}}],\"scattermapbox\":[{\"type\":\"scattermapbox\",\"marker\":{\"colorbar\":{\"outlinewidth\":0,\"ticks\":\"\"}}}],\"scatterternary\":[{\"type\":\"scatterternary\",\"marker\":{\"colorbar\":{\"outlinewidth\":0,\"ticks\":\"\"}}}],\"scattercarpet\":[{\"type\":\"scattercarpet\",\"marker\":{\"colorbar\":{\"outlinewidth\":0,\"ticks\":\"\"}}}],\"carpet\":[{\"aaxis\":{\"endlinecolor\":\"#2a3f5f\",\"gridcolor\":\"white\",\"linecolor\":\"white\",\"minorgridcolor\":\"white\",\"startlinecolor\":\"#2a3f5f\"},\"baxis\":{\"endlinecolor\":\"#2a3f5f\",\"gridcolor\":\"white\",\"linecolor\":\"white\",\"minorgridcolor\":\"white\",\"startlinecolor\":\"#2a3f5f\"},\"type\":\"carpet\"}],\"table\":[{\"cells\":{\"fill\":{\"color\":\"#EBF0F8\"},\"line\":{\"color\":\"white\"}},\"header\":{\"fill\":{\"color\":\"#C8D4E3\"},\"line\":{\"color\":\"white\"}},\"type\":\"table\"}],\"barpolar\":[{\"marker\":{\"line\":{\"color\":\"#E5ECF6\",\"width\":0.5},\"pattern\":{\"fillmode\":\"overlay\",\"size\":10,\"solidity\":0.2}},\"type\":\"barpolar\"}],\"pie\":[{\"automargin\":true,\"type\":\"pie\"}]},\"layout\":{\"autotypenumbers\":\"strict\",\"colorway\":[\"#636efa\",\"#EF553B\",\"#00cc96\",\"#ab63fa\",\"#FFA15A\",\"#19d3f3\",\"#FF6692\",\"#B6E880\",\"#FF97FF\",\"#FECB52\"],\"font\":{\"color\":\"#2a3f5f\"},\"hovermode\":\"closest\",\"hoverlabel\":{\"align\":\"left\"},\"paper_bgcolor\":\"white\",\"plot_bgcolor\":\"#E5ECF6\",\"polar\":{\"bgcolor\":\"#E5ECF6\",\"angularaxis\":{\"gridcolor\":\"white\",\"linecolor\":\"white\",\"ticks\":\"\"},\"radialaxis\":{\"gridcolor\":\"white\",\"linecolor\":\"white\",\"ticks\":\"\"}},\"ternary\":{\"bgcolor\":\"#E5ECF6\",\"aaxis\":{\"gridcolor\":\"white\",\"linecolor\":\"white\",\"ticks\":\"\"},\"baxis\":{\"gridcolor\":\"white\",\"linecolor\":\"white\",\"ticks\":\"\"},\"caxis\":{\"gridcolor\":\"white\",\"linecolor\":\"white\",\"ticks\":\"\"}},\"coloraxis\":{\"colorbar\":{\"outlinewidth\":0,\"ticks\":\"\"}},\"colorscale\":{\"sequential\":[[0.0,\"#0d0887\"],[0.1111111111111111,\"#46039f\"],[0.2222222222222222,\"#7201a8\"],[0.3333333333333333,\"#9c179e\"],[0.4444444444444444,\"#bd3786\"],[0.5555555555555556,\"#d8576b\"],[0.6666666666666666,\"#ed7953\"],[0.7777777777777778,\"#fb9f3a\"],[0.8888888888888888,\"#fdca26\"],[1.0,\"#f0f921\"]],\"sequentialminus\":[[0.0,\"#0d0887\"],[0.1111111111111111,\"#46039f\"],[0.2222222222222222,\"#7201a8\"],[0.3333333333333333,\"#9c179e\"],[0.4444444444444444,\"#bd3786\"],[0.5555555555555556,\"#d8576b\"],[0.6666666666666666,\"#ed7953\"],[0.7777777777777778,\"#fb9f3a\"],[0.8888888888888888,\"#fdca26\"],[1.0,\"#f0f921\"]],\"diverging\":[[0,\"#8e0152\"],[0.1,\"#c51b7d\"],[0.2,\"#de77ae\"],[0.3,\"#f1b6da\"],[0.4,\"#fde0ef\"],[0.5,\"#f7f7f7\"],[0.6,\"#e6f5d0\"],[0.7,\"#b8e186\"],[0.8,\"#7fbc41\"],[0.9,\"#4d9221\"],[1,\"#276419\"]]},\"xaxis\":{\"gridcolor\":\"white\",\"linecolor\":\"white\",\"ticks\":\"\",\"title\":{\"standoff\":15},\"zerolinecolor\":\"white\",\"automargin\":true,\"zerolinewidth\":2},\"yaxis\":{\"gridcolor\":\"white\",\"linecolor\":\"white\",\"ticks\":\"\",\"title\":{\"standoff\":15},\"zerolinecolor\":\"white\",\"automargin\":true,\"zerolinewidth\":2},\"scene\":{\"xaxis\":{\"backgroundcolor\":\"#E5ECF6\",\"gridcolor\":\"white\",\"linecolor\":\"white\",\"showbackground\":true,\"ticks\":\"\",\"zerolinecolor\":\"white\",\"gridwidth\":2},\"yaxis\":{\"backgroundcolor\":\"#E5ECF6\",\"gridcolor\":\"white\",\"linecolor\":\"white\",\"showbackground\":true,\"ticks\":\"\",\"zerolinecolor\":\"white\",\"gridwidth\":2},\"zaxis\":{\"backgroundcolor\":\"#E5ECF6\",\"gridcolor\":\"white\",\"linecolor\":\"white\",\"showbackground\":true,\"ticks\":\"\",\"zerolinecolor\":\"white\",\"gridwidth\":2}},\"shapedefaults\":{\"line\":{\"color\":\"#2a3f5f\"}},\"annotationdefaults\":{\"arrowcolor\":\"#2a3f5f\",\"arrowhead\":0,\"arrowwidth\":1},\"geo\":{\"bgcolor\":\"white\",\"landcolor\":\"#E5ECF6\",\"subunitcolor\":\"white\",\"showland\":true,\"showlakes\":true,\"lakecolor\":\"white\"},\"title\":{\"x\":0.05},\"mapbox\":{\"style\":\"light\"}}},\"title\":{\"text\":\"Actual vs Predicted Sales (XGBoost Model)\"},\"xaxis\":{\"title\":{\"text\":\"Actual Sales (money)\"}},\"yaxis\":{\"title\":{\"text\":\"Predicted Sales (money)\"}}},                        {\"responsive\": true}                    ).then(function(){\n",
              "                            \n",
              "var gd = document.getElementById('f7dff5d1-71c0-4293-9e7e-7b18ebcebcdd');\n",
              "var x = new MutationObserver(function (mutations, observer) {{\n",
              "        var display = window.getComputedStyle(gd).display;\n",
              "        if (!display || display === 'none') {{\n",
              "            console.log([gd, 'removed!']);\n",
              "            Plotly.purge(gd);\n",
              "            observer.disconnect();\n",
              "        }}\n",
              "}});\n",
              "\n",
              "// Listen for the removal of the full notebook cells\n",
              "var notebookContainer = gd.closest('#notebook-container');\n",
              "if (notebookContainer) {{\n",
              "    x.observe(notebookContainer, {childList: true});\n",
              "}}\n",
              "\n",
              "// Listen for the clearing of the current output cell\n",
              "var outputEl = gd.closest('.output');\n",
              "if (outputEl) {{\n",
              "    x.observe(outputEl, {childList: true});\n",
              "}}\n",
              "\n",
              "                        })                };                            </script>        </div>\n",
              "</body>\n",
              "</html>"
            ]
          },
          "metadata": {}
        }
      ],
      "source": [
        "import xgboost as xgb\n",
        "from sklearn.metrics import r2_score, mean_absolute_error\n",
        "import plotly.graph_objects as go\n",
        "\n",
        "# Initialize and train the XGBoost Regressor model\n",
        "xgboost_model = xgb.XGBRegressor(objective='reg:squarederror', random_state=42)\n",
        "xgboost_model.fit(X_train, y_train)\n",
        "\n",
        "# Make predictions\n",
        "y_pred_xgboost = xgboost_model.predict(X_test)\n",
        "\n",
        "# Calculate R2 and MAE\n",
        "r2_xgboost = r2_score(y_test, y_pred_xgboost)\n",
        "mae_xgboost = mean_absolute_error(y_test, y_pred_xgboost)\n",
        "\n",
        "print(f\"XGBoost Model R2: {r2_xgboost:.4f}\")\n",
        "print(f\"XGBoost Model MAE: {mae_xgboost:.4f}\")\n",
        "\n",
        "# Plot actual vs predicted sales for XGBoost model\n",
        "fig_xgboost = go.Figure()\n",
        "fig_xgboost.add_trace(go.Scatter(x=y_test, y=y_pred_xgboost, mode='markers', name='XGBoost Predictions'))\n",
        "fig_xgboost.add_trace(go.Scatter(x=[y_test.min(), y_test.max()], y=[y_test.min(), y_test.max()],\n",
        "                            mode='lines', name='Perfect Fit', line=dict(color='red', dash='dash')))\n",
        "fig_xgboost.update_layout(title='Actual vs Predicted Sales (XGBoost Model)',\n",
        "                      xaxis_title='Actual Sales (money)',\n",
        "                      yaxis_title='Predicted Sales (money)')\n",
        "fig_xgboost.show()"
      ]
    },
    {
      "cell_type": "markdown",
      "id": "743b0976",
      "metadata": {
        "id": "743b0976"
      },
      "source": [
        "## Insights from EDA\n",
        "\n",
        "### 1. Sales by Weekday\n",
        "- **All Years Combined:** Sales peak on **Monday and Tuesday**, with weekends (Saturday and Sunday) showing lower totals.  \n",
        "---\n",
        "\n",
        "### 2. Coffee Popularity\n",
        "- **Top Drinks:** *Americano with Milk* and *Latte* dominate orders.  \n",
        "- **Lowest Demand:** Espresso is the least ordered.  \n",
        "\n",
        "---\n",
        "\n",
        "### 3. Average Spending by Time of Day\n",
        "- Customers spend around **30–32** on average across all times.  \n",
        "- Spending is **slightly higher at night**, suggesting evening customers may prefer larger or premium drinks.  \n",
        "\n",
        "---\n",
        "\n",
        "### 4. Weekday vs Weekend Split\n",
        "- **Average sales** are almost equal (**50.1% weekday vs 49.9% weekend**).  \n",
        "- Weekdays: higher transaction counts.  \n",
        "- Weekends: fewer customers but larger orders.  \n",
        "\n",
        "---\n",
        "\n",
        "### 5. Monthly & Seasonal Trends\n",
        "- **Monthly:**  \n",
        "  - *February & March* peak strongly, with **March 2025** having the highest sales.  \n",
        "  - Mid-year (June–August) shows dips.  \n",
        "- **Seasonal:**  \n",
        "  - *Autumn (29%)* leads, followed by *Spring (26%)*.  \n",
        "  - *Summer (20%)* is weakest.  \n",
        "\n",
        "---\n",
        "\n",
        "### 6. Coffee Type by Season\n",
        "- **Autumn:** Americano with Milk is most popular.  \n",
        "- **Spring:** Latte dominates.  \n",
        "- **Summer:** Americano with Milk leads but overall demand is weaker.  \n",
        "- **Winter:** Americano with Milk & Latte remain top sellers.  \n",
        "\n",
        "---\n",
        "\n",
        "\n"
      ]
    },
    {
      "cell_type": "code",
      "execution_count": null,
      "id": "f491ff05",
      "metadata": {
        "id": "f491ff05"
      },
      "outputs": [],
      "source": []
    }
  ],
  "metadata": {
    "kernelspec": {
      "display_name": "Python 3",
      "language": "python",
      "name": "python3"
    },
    "language_info": {
      "codemirror_mode": {
        "name": "ipython",
        "version": 3
      },
      "file_extension": ".py",
      "mimetype": "text/x-python",
      "name": "python",
      "nbconvert_exporter": "python",
      "pygments_lexer": "ipython3",
      "version": "3.13.2"
    },
    "colab": {
      "provenance": []
    }
  },
  "nbformat": 4,
  "nbformat_minor": 5
}
