{
  "cells": [
    {
      "cell_type": "markdown",
      "id": "bbfe860e",
      "metadata": {
        "id": "bbfe860e"
      },
      "source": [
        "# ☕ Coffee Sales Analysis Project\n"
      ]
    },
    {
      "cell_type": "markdown",
      "id": "2e951db3",
      "metadata": {
        "vscode": {
          "languageId": "markdown"
        },
        "id": "2e951db3"
      },
      "source": [
        "#  Table of Contents\n",
        "\n",
        "1. [Project Title & Team](#project-title-coffee-shop-sales-analysis)\n",
        "2. [Problem Statement](#problem-statement)\n",
        "3. [Objectives](#objectives)\n",
        "4. [Dataset Overview](#-dataset-overview)\n",
        "    - [Feature Description](#-feature-description)\n",
        "    - [Dataset Link](#-dataset-link)\n",
        "5. [Methodology](#methodology)\n",
        "    - Data Cleaning\n",
        "    - Exploratory Data Analysis (EDA)\n",
        "    - Modeling & Evaluation\n",
        "6. [Data Cleaning](#data-cleaning)\n",
        "7. [Exploratory Data Analysis (EDA)](#eda)\n",
        "    - Sales by Weekday\n",
        "    - Coffee Popularity\n",
        "    - Average Spending by Time of Day\n",
        "    - Weekday vs Weekend Sales\n",
        "    - Monthly & Seasonal Trends\n",
        "    - Best Coffee Type in March\n",
        "    - Best Coffee Type by Season\n",
        "    - Sales by Hour of Day\n",
        "    - Yearly/Monthly Comparisons\n",
        "    - Correlation Heatmap\n",
        "8. [Modeling](#model)\n",
        "    - OLS Regression\n",
        "    - Linear Regression\n",
        "    - Random Forest & XGBoost\n",
        "    - Model Comparison\n",
        "9. [Insights from EDA](#-insights-from-eda)\n",
        "10. [Business Recommendations](#business-recommendations)"
      ]
    },
    {
      "cell_type": "markdown",
      "id": "f61ae09d",
      "metadata": {
        "id": "f61ae09d"
      },
      "source": [
        "# Table of Contents"
      ]
    },
    {
      "cell_type": "markdown",
      "id": "46cabe2c",
      "metadata": {
        "id": "46cabe2c"
      },
      "source": [
        "# Project Title: Coffee Shop Sales Analysis\n",
        "\n",
        "## Team Members & Roles\n",
        "- Mudhawi Saleh Alshiha : Data Cleaning & EDA & answer quetions  \n",
        "- Musab Alabdullatif : EDA & answer quetions & modeling   \n",
        "- Mousa Hamoud : Modeling & Evaluation &  Dashboard\n",
        "\n",
        "\n"
      ]
    },
    {
      "cell_type": "markdown",
      "id": "e083fd06",
      "metadata": {
        "id": "e083fd06"
      },
      "source": [
        "# Problem Statement  \n",
        "\n",
        "Coffee shops operate in highly competitive environments where customer preferences, peak hours, and seasonal demand directly influence revenue.  \n",
        "Without proper analysis, businesses may miss opportunities to optimize staffing, adjust pricing strategies, or promote the right products at the right time.  \n",
        "\n",
        "This project aims to analyze coffee shop transaction data to uncover patterns in sales, payment methods, and customer behavior.  \n",
        "By applying statistical models and predictive analytics, we can provide actionable recommendations that support better decision-making and improved business performance.\n"
      ]
    },
    {
      "cell_type": "markdown",
      "id": "99f3141c",
      "metadata": {
        "id": "99f3141c"
      },
      "source": [
        "# Objectives\n",
        "\n",
        "We will answer the following questions:  \n",
        "- On which day of the week are there the most sales?\n",
        "\n",
        "- What is the most popular coffee type by number of orders?\n",
        "\n",
        "- What is the average money spent in the morning vs afternoon vs evening?\n",
        "\n",
        "- Are weekends vs weekdays different in average sales?\n",
        "\n",
        "- Are there seasonal or monthly trends in coffee sales, and which months generate the highest revenue?  \n",
        "\n",
        "- Which hour of the day generates the most sales?\n",
        "\n",
        "- and more\n",
        "---------------------------------------------------\n",
        "- Build and evaluate statistical & ML models for sales prediction.\n",
        "\n",
        "- Provide actionable business recommendations.  \n"
      ]
    },
    {
      "cell_type": "markdown",
      "id": "76b4dec5",
      "metadata": {
        "id": "76b4dec5"
      },
      "source": [
        "##  Dataset Overview\n",
        "\n",
        "This dataset contains **coffee shop transaction records** across **2024 and early 2025**.  \n",
        "It captures details about each purchase such as the **time of sale, coffee type, payment method, transaction value, and temporal attributes** (weekday, month, season).  \n",
        "\n",
        "The dataset is well-suited for **business analysis, trend detection, customer behavior insights, and predictive modeling**.\n",
        "\n",
        "---\n",
        "\n",
        "###  Feature Description\n",
        "\n",
        "| Column        | Description                                                                 |\n",
        "|---------------|-----------------------------------------------------------------------------|\n",
        "| `Date`        | Full date of the transaction                                                |\n",
        "| `hour_of_day` | Hour when the purchase was made (0–23)                                      |\n",
        "| `cash_type`   | Mode of payment (*cash* / *card*)                                           |\n",
        "| `money`       | Transaction amount (local currency)                                         |\n",
        "| `coffee_name` | Type of coffee purchased (Latte, Americano, Cappuccino, etc.)               |\n",
        "| `Time_of_Day` | Categorized time of purchase (*Morning, Afternoon, Night*)                  |\n",
        "| `Weekday`     | Day of the week (Mon–Sun)                                                   |\n",
        "| `Month_name`  | Month of the purchase (Jan–Dec)                                             |\n",
        "| `Weekdaysort` | Numeric representation for weekday ordering (1 = Monday, 7 = Sunday)        |\n",
        "| `Monthsort`   | Numeric representation for month ordering (1 = January, 12 = December)      |\n",
        "| `Season`      | Seasonal grouping of transactions (Winter, Spring, Summer, Autumn)          |\n",
        "\n",
        "---\n",
        "\n",
        "### 🔗 Dataset Link  \n",
        "[Coffee Sales Dataset](https://www.kaggle.com/datasets/navjotkaushal/coffee-sales-dataset/data)\n"
      ]
    },
    {
      "cell_type": "markdown",
      "id": "81b86e8a",
      "metadata": {
        "id": "81b86e8a"
      },
      "source": [
        "# Methodology\n",
        "will contains:\n",
        "- Data cleaning\n",
        "- EDA\n",
        "- MODEL"
      ]
    },
    {
      "cell_type": "code",
      "execution_count": 1,
      "id": "ab487a73",
      "metadata": {
        "id": "ab487a73"
      },
      "outputs": [],
      "source": [
        "# import necessary libraries\n",
        "import pandas as pd\n",
        "import numpy as np\n",
        "import plotly.express as px\n",
        "import statsmodels.api as sm\n"
      ]
    },
    {
      "cell_type": "markdown",
      "id": "6dbe819a",
      "metadata": {
        "id": "6dbe819a"
      },
      "source": [
        "## DATA Cleaning"
      ]
    },
    {
      "cell_type": "code",
      "execution_count": 3,
      "id": "01fc1894",
      "metadata": {
        "id": "01fc1894"
      },
      "outputs": [],
      "source": [
        "# load data\n",
        "df = pd.read_csv('Coffe_sales.csv')"
      ]
    },
    {
      "cell_type": "code",
      "execution_count": 4,
      "id": "f80363d8",
      "metadata": {
        "colab": {
          "base_uri": "https://localhost:8080/",
          "height": 417
        },
        "id": "f80363d8",
        "outputId": "aedfd316-b15e-463e-984d-c53bc8ed4f40"
      },
      "outputs": [
        {
          "output_type": "stream",
          "name": "stdout",
          "text": [
            "Dataset Shape: (3547, 11)\n",
            "\n",
            "Column Names:\n",
            "['hour_of_day', 'cash_type', 'money', 'coffee_name', 'Time_of_Day', 'Weekday', 'Month_name', 'Weekdaysort', 'Monthsort', 'Date', 'Time']\n",
            "\n",
            "First 5 rows:\n"
          ]
        },
        {
          "output_type": "execute_result",
          "data": {
            "text/plain": [
              "   hour_of_day cash_type  money    coffee_name Time_of_Day Weekday Month_name  \\\n",
              "0           10      card   38.7          Latte     Morning     Fri        Mar   \n",
              "1           12      card   38.7  Hot Chocolate   Afternoon     Fri        Mar   \n",
              "2           12      card   38.7  Hot Chocolate   Afternoon     Fri        Mar   \n",
              "3           13      card   28.9      Americano   Afternoon     Fri        Mar   \n",
              "4           13      card   38.7          Latte   Afternoon     Fri        Mar   \n",
              "\n",
              "   Weekdaysort  Monthsort        Date             Time  \n",
              "0            5          3  2024-03-01  10:15:50.520000  \n",
              "1            5          3  2024-03-01  12:19:22.539000  \n",
              "2            5          3  2024-03-01  12:20:18.089000  \n",
              "3            5          3  2024-03-01  13:46:33.006000  \n",
              "4            5          3  2024-03-01  13:48:14.626000  "
            ],
            "text/html": [
              "\n",
              "  <div id=\"df-aee0d6af-c68f-450b-9bfb-33c573fc244e\" class=\"colab-df-container\">\n",
              "    <div>\n",
              "<style scoped>\n",
              "    .dataframe tbody tr th:only-of-type {\n",
              "        vertical-align: middle;\n",
              "    }\n",
              "\n",
              "    .dataframe tbody tr th {\n",
              "        vertical-align: top;\n",
              "    }\n",
              "\n",
              "    .dataframe thead th {\n",
              "        text-align: right;\n",
              "    }\n",
              "</style>\n",
              "<table border=\"1\" class=\"dataframe\">\n",
              "  <thead>\n",
              "    <tr style=\"text-align: right;\">\n",
              "      <th></th>\n",
              "      <th>hour_of_day</th>\n",
              "      <th>cash_type</th>\n",
              "      <th>money</th>\n",
              "      <th>coffee_name</th>\n",
              "      <th>Time_of_Day</th>\n",
              "      <th>Weekday</th>\n",
              "      <th>Month_name</th>\n",
              "      <th>Weekdaysort</th>\n",
              "      <th>Monthsort</th>\n",
              "      <th>Date</th>\n",
              "      <th>Time</th>\n",
              "    </tr>\n",
              "  </thead>\n",
              "  <tbody>\n",
              "    <tr>\n",
              "      <th>0</th>\n",
              "      <td>10</td>\n",
              "      <td>card</td>\n",
              "      <td>38.7</td>\n",
              "      <td>Latte</td>\n",
              "      <td>Morning</td>\n",
              "      <td>Fri</td>\n",
              "      <td>Mar</td>\n",
              "      <td>5</td>\n",
              "      <td>3</td>\n",
              "      <td>2024-03-01</td>\n",
              "      <td>10:15:50.520000</td>\n",
              "    </tr>\n",
              "    <tr>\n",
              "      <th>1</th>\n",
              "      <td>12</td>\n",
              "      <td>card</td>\n",
              "      <td>38.7</td>\n",
              "      <td>Hot Chocolate</td>\n",
              "      <td>Afternoon</td>\n",
              "      <td>Fri</td>\n",
              "      <td>Mar</td>\n",
              "      <td>5</td>\n",
              "      <td>3</td>\n",
              "      <td>2024-03-01</td>\n",
              "      <td>12:19:22.539000</td>\n",
              "    </tr>\n",
              "    <tr>\n",
              "      <th>2</th>\n",
              "      <td>12</td>\n",
              "      <td>card</td>\n",
              "      <td>38.7</td>\n",
              "      <td>Hot Chocolate</td>\n",
              "      <td>Afternoon</td>\n",
              "      <td>Fri</td>\n",
              "      <td>Mar</td>\n",
              "      <td>5</td>\n",
              "      <td>3</td>\n",
              "      <td>2024-03-01</td>\n",
              "      <td>12:20:18.089000</td>\n",
              "    </tr>\n",
              "    <tr>\n",
              "      <th>3</th>\n",
              "      <td>13</td>\n",
              "      <td>card</td>\n",
              "      <td>28.9</td>\n",
              "      <td>Americano</td>\n",
              "      <td>Afternoon</td>\n",
              "      <td>Fri</td>\n",
              "      <td>Mar</td>\n",
              "      <td>5</td>\n",
              "      <td>3</td>\n",
              "      <td>2024-03-01</td>\n",
              "      <td>13:46:33.006000</td>\n",
              "    </tr>\n",
              "    <tr>\n",
              "      <th>4</th>\n",
              "      <td>13</td>\n",
              "      <td>card</td>\n",
              "      <td>38.7</td>\n",
              "      <td>Latte</td>\n",
              "      <td>Afternoon</td>\n",
              "      <td>Fri</td>\n",
              "      <td>Mar</td>\n",
              "      <td>5</td>\n",
              "      <td>3</td>\n",
              "      <td>2024-03-01</td>\n",
              "      <td>13:48:14.626000</td>\n",
              "    </tr>\n",
              "  </tbody>\n",
              "</table>\n",
              "</div>\n",
              "    <div class=\"colab-df-buttons\">\n",
              "\n",
              "  <div class=\"colab-df-container\">\n",
              "    <button class=\"colab-df-convert\" onclick=\"convertToInteractive('df-aee0d6af-c68f-450b-9bfb-33c573fc244e')\"\n",
              "            title=\"Convert this dataframe to an interactive table.\"\n",
              "            style=\"display:none;\">\n",
              "\n",
              "  <svg xmlns=\"http://www.w3.org/2000/svg\" height=\"24px\" viewBox=\"0 -960 960 960\">\n",
              "    <path d=\"M120-120v-720h720v720H120Zm60-500h600v-160H180v160Zm220 220h160v-160H400v160Zm0 220h160v-160H400v160ZM180-400h160v-160H180v160Zm440 0h160v-160H620v160ZM180-180h160v-160H180v160Zm440 0h160v-160H620v160Z\"/>\n",
              "  </svg>\n",
              "    </button>\n",
              "\n",
              "  <style>\n",
              "    .colab-df-container {\n",
              "      display:flex;\n",
              "      gap: 12px;\n",
              "    }\n",
              "\n",
              "    .colab-df-convert {\n",
              "      background-color: #E8F0FE;\n",
              "      border: none;\n",
              "      border-radius: 50%;\n",
              "      cursor: pointer;\n",
              "      display: none;\n",
              "      fill: #1967D2;\n",
              "      height: 32px;\n",
              "      padding: 0 0 0 0;\n",
              "      width: 32px;\n",
              "    }\n",
              "\n",
              "    .colab-df-convert:hover {\n",
              "      background-color: #E2EBFA;\n",
              "      box-shadow: 0px 1px 2px rgba(60, 64, 67, 0.3), 0px 1px 3px 1px rgba(60, 64, 67, 0.15);\n",
              "      fill: #174EA6;\n",
              "    }\n",
              "\n",
              "    .colab-df-buttons div {\n",
              "      margin-bottom: 4px;\n",
              "    }\n",
              "\n",
              "    [theme=dark] .colab-df-convert {\n",
              "      background-color: #3B4455;\n",
              "      fill: #D2E3FC;\n",
              "    }\n",
              "\n",
              "    [theme=dark] .colab-df-convert:hover {\n",
              "      background-color: #434B5C;\n",
              "      box-shadow: 0px 1px 3px 1px rgba(0, 0, 0, 0.15);\n",
              "      filter: drop-shadow(0px 1px 2px rgba(0, 0, 0, 0.3));\n",
              "      fill: #FFFFFF;\n",
              "    }\n",
              "  </style>\n",
              "\n",
              "    <script>\n",
              "      const buttonEl =\n",
              "        document.querySelector('#df-aee0d6af-c68f-450b-9bfb-33c573fc244e button.colab-df-convert');\n",
              "      buttonEl.style.display =\n",
              "        google.colab.kernel.accessAllowed ? 'block' : 'none';\n",
              "\n",
              "      async function convertToInteractive(key) {\n",
              "        const element = document.querySelector('#df-aee0d6af-c68f-450b-9bfb-33c573fc244e');\n",
              "        const dataTable =\n",
              "          await google.colab.kernel.invokeFunction('convertToInteractive',\n",
              "                                                    [key], {});\n",
              "        if (!dataTable) return;\n",
              "\n",
              "        const docLinkHtml = 'Like what you see? Visit the ' +\n",
              "          '<a target=\"_blank\" href=https://colab.research.google.com/notebooks/data_table.ipynb>data table notebook</a>'\n",
              "          + ' to learn more about interactive tables.';\n",
              "        element.innerHTML = '';\n",
              "        dataTable['output_type'] = 'display_data';\n",
              "        await google.colab.output.renderOutput(dataTable, element);\n",
              "        const docLink = document.createElement('div');\n",
              "        docLink.innerHTML = docLinkHtml;\n",
              "        element.appendChild(docLink);\n",
              "      }\n",
              "    </script>\n",
              "  </div>\n",
              "\n",
              "\n",
              "    <div id=\"df-b9ba945c-c32b-411d-aa56-aefbcf21298f\">\n",
              "      <button class=\"colab-df-quickchart\" onclick=\"quickchart('df-b9ba945c-c32b-411d-aa56-aefbcf21298f')\"\n",
              "                title=\"Suggest charts\"\n",
              "                style=\"display:none;\">\n",
              "\n",
              "<svg xmlns=\"http://www.w3.org/2000/svg\" height=\"24px\"viewBox=\"0 0 24 24\"\n",
              "     width=\"24px\">\n",
              "    <g>\n",
              "        <path d=\"M19 3H5c-1.1 0-2 .9-2 2v14c0 1.1.9 2 2 2h14c1.1 0 2-.9 2-2V5c0-1.1-.9-2-2-2zM9 17H7v-7h2v7zm4 0h-2V7h2v10zm4 0h-2v-4h2v4z\"/>\n",
              "    </g>\n",
              "</svg>\n",
              "      </button>\n",
              "\n",
              "<style>\n",
              "  .colab-df-quickchart {\n",
              "      --bg-color: #E8F0FE;\n",
              "      --fill-color: #1967D2;\n",
              "      --hover-bg-color: #E2EBFA;\n",
              "      --hover-fill-color: #174EA6;\n",
              "      --disabled-fill-color: #AAA;\n",
              "      --disabled-bg-color: #DDD;\n",
              "  }\n",
              "\n",
              "  [theme=dark] .colab-df-quickchart {\n",
              "      --bg-color: #3B4455;\n",
              "      --fill-color: #D2E3FC;\n",
              "      --hover-bg-color: #434B5C;\n",
              "      --hover-fill-color: #FFFFFF;\n",
              "      --disabled-bg-color: #3B4455;\n",
              "      --disabled-fill-color: #666;\n",
              "  }\n",
              "\n",
              "  .colab-df-quickchart {\n",
              "    background-color: var(--bg-color);\n",
              "    border: none;\n",
              "    border-radius: 50%;\n",
              "    cursor: pointer;\n",
              "    display: none;\n",
              "    fill: var(--fill-color);\n",
              "    height: 32px;\n",
              "    padding: 0;\n",
              "    width: 32px;\n",
              "  }\n",
              "\n",
              "  .colab-df-quickchart:hover {\n",
              "    background-color: var(--hover-bg-color);\n",
              "    box-shadow: 0 1px 2px rgba(60, 64, 67, 0.3), 0 1px 3px 1px rgba(60, 64, 67, 0.15);\n",
              "    fill: var(--button-hover-fill-color);\n",
              "  }\n",
              "\n",
              "  .colab-df-quickchart-complete:disabled,\n",
              "  .colab-df-quickchart-complete:disabled:hover {\n",
              "    background-color: var(--disabled-bg-color);\n",
              "    fill: var(--disabled-fill-color);\n",
              "    box-shadow: none;\n",
              "  }\n",
              "\n",
              "  .colab-df-spinner {\n",
              "    border: 2px solid var(--fill-color);\n",
              "    border-color: transparent;\n",
              "    border-bottom-color: var(--fill-color);\n",
              "    animation:\n",
              "      spin 1s steps(1) infinite;\n",
              "  }\n",
              "\n",
              "  @keyframes spin {\n",
              "    0% {\n",
              "      border-color: transparent;\n",
              "      border-bottom-color: var(--fill-color);\n",
              "      border-left-color: var(--fill-color);\n",
              "    }\n",
              "    20% {\n",
              "      border-color: transparent;\n",
              "      border-left-color: var(--fill-color);\n",
              "      border-top-color: var(--fill-color);\n",
              "    }\n",
              "    30% {\n",
              "      border-color: transparent;\n",
              "      border-left-color: var(--fill-color);\n",
              "      border-top-color: var(--fill-color);\n",
              "      border-right-color: var(--fill-color);\n",
              "    }\n",
              "    40% {\n",
              "      border-color: transparent;\n",
              "      border-right-color: var(--fill-color);\n",
              "      border-top-color: var(--fill-color);\n",
              "    }\n",
              "    60% {\n",
              "      border-color: transparent;\n",
              "      border-right-color: var(--fill-color);\n",
              "    }\n",
              "    80% {\n",
              "      border-color: transparent;\n",
              "      border-right-color: var(--fill-color);\n",
              "      border-bottom-color: var(--fill-color);\n",
              "    }\n",
              "    90% {\n",
              "      border-color: transparent;\n",
              "      border-bottom-color: var(--fill-color);\n",
              "    }\n",
              "  }\n",
              "</style>\n",
              "\n",
              "      <script>\n",
              "        async function quickchart(key) {\n",
              "          const quickchartButtonEl =\n",
              "            document.querySelector('#' + key + ' button');\n",
              "          quickchartButtonEl.disabled = true;  // To prevent multiple clicks.\n",
              "          quickchartButtonEl.classList.add('colab-df-spinner');\n",
              "          try {\n",
              "            const charts = await google.colab.kernel.invokeFunction(\n",
              "                'suggestCharts', [key], {});\n",
              "          } catch (error) {\n",
              "            console.error('Error during call to suggestCharts:', error);\n",
              "          }\n",
              "          quickchartButtonEl.classList.remove('colab-df-spinner');\n",
              "          quickchartButtonEl.classList.add('colab-df-quickchart-complete');\n",
              "        }\n",
              "        (() => {\n",
              "          let quickchartButtonEl =\n",
              "            document.querySelector('#df-b9ba945c-c32b-411d-aa56-aefbcf21298f button');\n",
              "          quickchartButtonEl.style.display =\n",
              "            google.colab.kernel.accessAllowed ? 'block' : 'none';\n",
              "        })();\n",
              "      </script>\n",
              "    </div>\n",
              "\n",
              "    </div>\n",
              "  </div>\n"
            ],
            "application/vnd.google.colaboratory.intrinsic+json": {
              "type": "dataframe",
              "variable_name": "df",
              "summary": "{\n  \"name\": \"df\",\n  \"rows\": 3547,\n  \"fields\": [\n    {\n      \"column\": \"hour_of_day\",\n      \"properties\": {\n        \"dtype\": \"number\",\n        \"std\": 4,\n        \"min\": 6,\n        \"max\": 22,\n        \"num_unique_values\": 17,\n        \"samples\": [\n          10,\n          12,\n          18\n        ],\n        \"semantic_type\": \"\",\n        \"description\": \"\"\n      }\n    },\n    {\n      \"column\": \"cash_type\",\n      \"properties\": {\n        \"dtype\": \"category\",\n        \"num_unique_values\": 1,\n        \"samples\": [\n          \"card\"\n        ],\n        \"semantic_type\": \"\",\n        \"description\": \"\"\n      }\n    },\n    {\n      \"column\": \"money\",\n      \"properties\": {\n        \"dtype\": \"number\",\n        \"std\": 4.877753703590957,\n        \"min\": 18.12,\n        \"max\": 38.7,\n        \"num_unique_values\": 13,\n        \"samples\": [\n          25.96\n        ],\n        \"semantic_type\": \"\",\n        \"description\": \"\"\n      }\n    },\n    {\n      \"column\": \"coffee_name\",\n      \"properties\": {\n        \"dtype\": \"category\",\n        \"num_unique_values\": 8,\n        \"samples\": [\n          \"Hot Chocolate\"\n        ],\n        \"semantic_type\": \"\",\n        \"description\": \"\"\n      }\n    },\n    {\n      \"column\": \"Time_of_Day\",\n      \"properties\": {\n        \"dtype\": \"category\",\n        \"num_unique_values\": 3,\n        \"samples\": [\n          \"Morning\"\n        ],\n        \"semantic_type\": \"\",\n        \"description\": \"\"\n      }\n    },\n    {\n      \"column\": \"Weekday\",\n      \"properties\": {\n        \"dtype\": \"category\",\n        \"num_unique_values\": 7,\n        \"samples\": [\n          \"Fri\"\n        ],\n        \"semantic_type\": \"\",\n        \"description\": \"\"\n      }\n    },\n    {\n      \"column\": \"Month_name\",\n      \"properties\": {\n        \"dtype\": \"category\",\n        \"num_unique_values\": 12,\n        \"samples\": [\n          \"Jan\"\n        ],\n        \"semantic_type\": \"\",\n        \"description\": \"\"\n      }\n    },\n    {\n      \"column\": \"Weekdaysort\",\n      \"properties\": {\n        \"dtype\": \"number\",\n        \"std\": 1,\n        \"min\": 1,\n        \"max\": 7,\n        \"num_unique_values\": 7,\n        \"samples\": [\n          5\n        ],\n        \"semantic_type\": \"\",\n        \"description\": \"\"\n      }\n    },\n    {\n      \"column\": \"Monthsort\",\n      \"properties\": {\n        \"dtype\": \"number\",\n        \"std\": 3,\n        \"min\": 1,\n        \"max\": 12,\n        \"num_unique_values\": 12,\n        \"samples\": [\n          1\n        ],\n        \"semantic_type\": \"\",\n        \"description\": \"\"\n      }\n    },\n    {\n      \"column\": \"Date\",\n      \"properties\": {\n        \"dtype\": \"object\",\n        \"num_unique_values\": 381,\n        \"samples\": [\n          \"2024-11-25\"\n        ],\n        \"semantic_type\": \"\",\n        \"description\": \"\"\n      }\n    },\n    {\n      \"column\": \"Time\",\n      \"properties\": {\n        \"dtype\": \"object\",\n        \"num_unique_values\": 3547,\n        \"samples\": [\n          \"19:43:26.234000\"\n        ],\n        \"semantic_type\": \"\",\n        \"description\": \"\"\n      }\n    }\n  ]\n}"
            }
          },
          "metadata": {},
          "execution_count": 4
        }
      ],
      "source": [
        "# Display basic information about the dataset\n",
        "print(\"Dataset Shape:\", df.shape)\n",
        "print(\"\\nColumn Names:\")\n",
        "print(df.columns.tolist())\n",
        "print(\"\\nFirst 5 rows:\")\n",
        "df.head()"
      ]
    },
    {
      "cell_type": "code",
      "execution_count": 5,
      "id": "4303fbb5",
      "metadata": {
        "colab": {
          "base_uri": "https://localhost:8080/",
          "height": 429
        },
        "id": "4303fbb5",
        "outputId": "ba39baa9-618f-4866-eefe-1fe91dbf7e78"
      },
      "outputs": [
        {
          "output_type": "execute_result",
          "data": {
            "text/plain": [
              "hour_of_day    0\n",
              "cash_type      0\n",
              "money          0\n",
              "coffee_name    0\n",
              "Time_of_Day    0\n",
              "Weekday        0\n",
              "Month_name     0\n",
              "Weekdaysort    0\n",
              "Monthsort      0\n",
              "Date           0\n",
              "Time           0\n",
              "dtype: int64"
            ],
            "text/html": [
              "<div>\n",
              "<style scoped>\n",
              "    .dataframe tbody tr th:only-of-type {\n",
              "        vertical-align: middle;\n",
              "    }\n",
              "\n",
              "    .dataframe tbody tr th {\n",
              "        vertical-align: top;\n",
              "    }\n",
              "\n",
              "    .dataframe thead th {\n",
              "        text-align: right;\n",
              "    }\n",
              "</style>\n",
              "<table border=\"1\" class=\"dataframe\">\n",
              "  <thead>\n",
              "    <tr style=\"text-align: right;\">\n",
              "      <th></th>\n",
              "      <th>0</th>\n",
              "    </tr>\n",
              "  </thead>\n",
              "  <tbody>\n",
              "    <tr>\n",
              "      <th>hour_of_day</th>\n",
              "      <td>0</td>\n",
              "    </tr>\n",
              "    <tr>\n",
              "      <th>cash_type</th>\n",
              "      <td>0</td>\n",
              "    </tr>\n",
              "    <tr>\n",
              "      <th>money</th>\n",
              "      <td>0</td>\n",
              "    </tr>\n",
              "    <tr>\n",
              "      <th>coffee_name</th>\n",
              "      <td>0</td>\n",
              "    </tr>\n",
              "    <tr>\n",
              "      <th>Time_of_Day</th>\n",
              "      <td>0</td>\n",
              "    </tr>\n",
              "    <tr>\n",
              "      <th>Weekday</th>\n",
              "      <td>0</td>\n",
              "    </tr>\n",
              "    <tr>\n",
              "      <th>Month_name</th>\n",
              "      <td>0</td>\n",
              "    </tr>\n",
              "    <tr>\n",
              "      <th>Weekdaysort</th>\n",
              "      <td>0</td>\n",
              "    </tr>\n",
              "    <tr>\n",
              "      <th>Monthsort</th>\n",
              "      <td>0</td>\n",
              "    </tr>\n",
              "    <tr>\n",
              "      <th>Date</th>\n",
              "      <td>0</td>\n",
              "    </tr>\n",
              "    <tr>\n",
              "      <th>Time</th>\n",
              "      <td>0</td>\n",
              "    </tr>\n",
              "  </tbody>\n",
              "</table>\n",
              "</div><br><label><b>dtype:</b> int64</label>"
            ]
          },
          "metadata": {},
          "execution_count": 5
        }
      ],
      "source": [
        "# check null values\n",
        "df.isnull().sum()\n"
      ]
    },
    {
      "cell_type": "code",
      "execution_count": 6,
      "id": "f188ad0e",
      "metadata": {
        "colab": {
          "base_uri": "https://localhost:8080/"
        },
        "id": "f188ad0e",
        "outputId": "d6e217fe-c8ec-499c-bf39-37b5a85f2385"
      },
      "outputs": [
        {
          "output_type": "execute_result",
          "data": {
            "text/plain": [
              "np.int64(0)"
            ]
          },
          "metadata": {},
          "execution_count": 6
        }
      ],
      "source": [
        "# check duplicated values\n",
        "df.duplicated().sum()"
      ]
    },
    {
      "cell_type": "code",
      "execution_count": 7,
      "id": "8cd94033",
      "metadata": {
        "colab": {
          "base_uri": "https://localhost:8080/",
          "height": 542
        },
        "id": "8cd94033",
        "outputId": "a7ebc8c7-360d-490e-aa8c-18f215e366b3"
      },
      "outputs": [
        {
          "output_type": "display_data",
          "data": {
            "text/html": [
              "<html>\n",
              "<head><meta charset=\"utf-8\" /></head>\n",
              "<body>\n",
              "    <div>            <script src=\"https://cdnjs.cloudflare.com/ajax/libs/mathjax/2.7.5/MathJax.js?config=TeX-AMS-MML_SVG\"></script><script type=\"text/javascript\">if (window.MathJax && window.MathJax.Hub && window.MathJax.Hub.Config) {window.MathJax.Hub.Config({SVG: {font: \"STIX-Web\"}});}</script>                <script type=\"text/javascript\">window.PlotlyConfig = {MathJaxConfig: 'local'};</script>\n",
              "        <script charset=\"utf-8\" src=\"https://cdn.plot.ly/plotly-2.35.2.min.js\"></script>                <div id=\"19cfb4fa-0767-471a-9044-5b5a55b10548\" class=\"plotly-graph-div\" style=\"height:525px; width:100%;\"></div>            <script type=\"text/javascript\">                                    window.PLOTLYENV=window.PLOTLYENV || {};                                    if (document.getElementById(\"19cfb4fa-0767-471a-9044-5b5a55b10548\")) {                    Plotly.newPlot(                        \"19cfb4fa-0767-471a-9044-5b5a55b10548\",                        [{\"alignmentgroup\":\"True\",\"boxpoints\":\"all\",\"hovertemplate\":\"money=%{y}\\u003cextra\\u003e\\u003c\\u002fextra\\u003e\",\"legendgroup\":\"\",\"marker\":{\"color\":\"#636efa\"},\"name\":\"\",\"notched\":false,\"offsetgroup\":\"\",\"orientation\":\"v\",\"showlegend\":false,\"x0\":\" \",\"xaxis\":\"x\",\"y\":[38.7,38.7,38.7,28.9,38.7,33.8,38.7,33.8,38.7,33.8,33.8,28.9,33.8,33.8,28.9,33.8,28.9,38.7,28.9,28.9,38.7,38.7,28.9,33.8,33.8,38.7,38.7,38.7,33.8,24.0,38.7,38.7,38.7,38.7,38.7,38.7,38.7,28.9,38.7,28.9,28.9,38.7,38.7,38.7,38.7,28.9,33.8,28.9,38.7,28.9,28.9,28.9,33.8,38.7,38.7,24.0,28.9,38.7,28.9,28.9,38.7,33.8,28.9,38.7,33.8,38.7,38.7,38.7,24.0,38.7,28.9,38.7,28.9,38.7,28.9,28.9,28.9,38.7,33.8,28.9,28.9,38.7,28.9,28.9,28.9,33.8,24.0,24.0,24.0,38.7,38.7,28.9,28.9,33.8,24.0,38.7,33.8,24.0,38.7,28.9,38.7,28.9,33.8,28.9,28.9,28.9,28.9,33.8,28.9,28.9,28.9,28.9,28.9,38.7,38.7,38.7,33.8,28.9,28.9,38.7,38.7,38.7,28.9,38.7,28.9,38.7,33.8,33.8,28.9,24.0,28.9,38.7,33.8,38.7,38.7,33.8,38.7,33.8,28.9,38.7,38.7,38.7,38.7,33.8,38.7,38.7,38.7,38.7,28.9,28.9,28.9,28.9,28.9,38.7,38.7,38.7,28.9,33.8,33.8,38.7,38.7,28.9,28.9,28.9,28.9,28.9,38.7,38.7,38.7,38.7,38.7,38.7,38.7,33.8,38.7,28.9,33.8,33.8,33.8,33.8,38.7,38.7,28.9,28.9,28.9,28.9,38.7,38.7,38.7,38.7,28.9,28.9,28.9,28.9,33.8,38.7,28.9,24.0,33.8,38.7,28.9,38.7,38.7,38.7,38.7,28.9,24.0,38.7,33.8,33.8,38.7,28.9,38.7,38.7,28.9,33.8,38.7,38.7,38.7,38.7,24.0,38.7,38.7,28.9,28.9,38.7,38.7,33.8,38.7,28.9,38.7,28.9,38.7,38.7,38.7,38.7,38.7,28.9,28.9,28.9,28.9,38.7,28.9,38.7,38.7,28.9,28.9,33.8,33.8,33.8,38.7,28.9,28.9,33.8,38.7,38.7,28.9,24.0,38.7,38.7,28.9,28.9,28.9,33.8,28.9,38.7,38.7,38.7,38.7,38.7,38.7,38.7,33.8,38.7,38.7,38.7,38.7,33.8,33.8,33.8,28.9,33.8,38.7,38.7,33.8,32.82,32.82,37.72,37.72,37.72,37.72,27.92,27.92,32.82,37.72,37.72,32.82,37.72,32.82,32.82,37.72,32.82,32.82,32.82,32.82,32.82,32.82,37.72,27.92,37.72,27.92,27.92,37.72,37.72,37.72,27.92,27.92,27.92,27.92,37.72,37.72,37.72,37.72,37.72,27.92,27.92,37.72,27.92,27.92,27.92,27.92,32.82,37.72,37.72,37.72,37.72,32.82,32.82,27.92,32.82,37.72,32.82,37.72,27.92,32.82,37.72,32.82,37.72,37.72,37.72,37.72,27.92,37.72,32.82,27.92,27.92,27.92,27.92,37.72,37.72,37.72,27.92,27.92,37.72,27.92,37.72,37.72,37.72,37.72,37.72,37.72,27.92,37.72,37.72,37.72,27.92,27.92,27.92,32.82,37.72,37.72,37.72,32.82,37.72,37.72,32.82,37.72,37.72,37.72,37.72,27.92,37.72,32.82,32.82,32.82,32.82,32.82,27.92,27.92,27.92,37.72,37.72,37.72,37.72,32.82,27.92,32.82,37.72,37.72,37.72,23.02,27.92,27.92,27.92,27.92,32.82,27.92,27.92,23.02,37.72,32.82,32.82,32.82,37.72,37.72,37.72,37.72,27.92,32.82,32.82,37.72,37.72,27.92,37.72,37.72,37.72,37.72,32.82,32.82,32.82,32.82,37.72,27.92,27.92,37.72,32.82,27.92,32.82,32.82,23.02,37.72,37.72,37.72,37.72,32.82,37.72,37.72,27.92,27.92,27.92,27.92,32.82,37.72,37.72,37.72,32.82,37.72,27.92,32.82,32.82,37.72,37.72,23.02,37.72,37.72,37.72,32.82,27.92,32.82,27.92,27.92,32.82,37.72,37.72,37.72,37.72,37.72,23.02,37.72,37.72,37.72,37.72,37.72,37.72,27.92,37.72,37.72,37.72,37.72,37.72,32.82,27.92,27.92,27.92,37.72,27.92,27.92,32.82,37.72,32.82,32.82,32.82,32.82,27.92,37.72,32.82,27.92,32.82,37.72,37.72,37.72,27.92,37.72,37.72,37.72,27.92,37.72,37.72,37.72,27.92,32.82,37.72,27.92,27.92,37.72,27.92,37.72,37.72,32.82,37.72,32.82,32.82,37.72,37.72,37.72,27.92,27.92,37.72,32.82,27.92,37.72,37.72,27.92,37.72,37.72,37.72,27.92,37.72,37.72,37.72,37.72,37.72,32.82,37.72,32.82,23.02,23.02,37.72,37.72,37.72,32.82,32.82,37.72,37.72,37.72,32.82,37.72,37.72,37.72,32.82,37.72,37.72,32.82,27.92,27.92,37.72,37.72,32.82,32.82,32.82,37.72,37.72,37.72,32.82,37.72,32.82,37.72,32.82,37.72,37.72,37.72,37.72,32.82,37.72,27.92,32.82,37.72,37.72,37.72,27.92,37.72,37.72,37.72,27.92,32.82,32.82,32.82,32.82,37.72,37.72,27.92,37.72,32.82,32.82,37.72,37.72,27.92,32.82,32.82,37.72,27.92,32.82,37.72,37.72,37.72,37.72,32.82,37.72,37.72,23.02,32.82,27.92,27.92,27.92,32.82,37.72,37.72,37.72,37.72,37.72,27.92,23.02,37.72,32.82,37.72,37.72,27.92,37.72,32.82,27.92,37.72,37.72,37.72,37.72,37.72,37.72,32.82,37.72,37.72,37.72,32.82,32.82,37.72,37.72,37.72,37.72,37.72,32.82,27.92,37.72,32.82,27.92,32.82,37.72,37.72,32.82,23.02,23.02,32.82,32.82,27.92,27.92,37.72,32.82,37.72,37.72,32.82,23.02,37.72,32.82,32.82,27.92,32.82,37.72,37.72,37.72,32.82,23.02,32.82,32.82,37.72,37.72,32.82,32.82,27.92,27.92,27.92,37.72,37.72,37.72,37.72,27.92,27.92,32.82,27.92,37.72,37.72,37.72,27.92,32.82,32.82,37.72,27.92,27.92,37.72,37.72,32.82,37.72,37.72,32.82,37.72,32.82,37.72,37.72,37.72,37.72,37.72,32.82,37.72,27.92,32.82,32.82,23.02,37.72,37.72,37.72,37.72,37.72,27.92,32.82,27.92,32.82,32.82,37.72,37.72,32.82,32.82,37.72,37.72,37.72,32.82,37.72,37.72,37.72,37.72,37.72,37.72,32.82,32.82,37.72,37.72,23.02,27.92,37.72,37.72,32.82,32.82,27.92,32.82,37.72,27.92,23.02,32.82,37.72,37.72,32.82,32.82,32.82,37.72,37.72,37.72,37.72,37.72,37.72,23.02,37.72,32.82,23.02,37.72,37.72,32.82,27.92,37.72,27.92,32.82,32.82,32.82,37.72,37.72,32.82,32.82,37.72,23.02,37.72,37.72,32.82,27.92,37.72,32.82,32.82,23.02,27.92,23.02,27.92,27.92,37.72,32.82,37.72,32.82,32.82,32.82,27.92,32.82,27.92,27.92,32.82,32.82,32.82,32.82,32.82,32.82,32.82,27.92,32.82,23.02,23.02,27.92,32.82,27.92,27.92,27.92,32.82,27.92,23.02,27.92,32.82,32.82,27.92,32.82,23.02,23.02,32.82,32.82,32.82,32.82,32.82,32.82,23.02,27.92,32.82,32.82,23.02,32.82,32.82,27.92,32.82,27.92,27.92,18.12,23.02,23.02,23.02,32.82,32.82,32.82,32.82,32.82,32.82,23.02,27.92,32.82,27.92,32.82,32.82,32.82,32.82,23.02,32.82,23.02,32.82,32.82,23.02,32.82,32.82,32.82,23.02,32.82,23.02,23.02,27.92,32.82,32.82,23.02,27.92,32.82,32.82,23.02,27.92,27.92,32.82,32.82,23.02,23.02,27.92,27.92,18.12,32.82,32.82,18.12,32.82,32.82,32.82,27.92,23.02,23.02,23.02,32.82,27.92,23.02,32.82,32.82,23.02,18.12,23.02,32.82,32.82,27.92,18.12,23.02,23.02,32.82,32.82,27.92,27.92,32.82,32.82,32.82,23.02,32.82,32.82,27.92,32.82,27.92,27.92,18.12,27.92,18.12,32.82,32.82,32.82,27.92,27.92,32.82,32.82,18.12,27.92,32.82,32.82,23.02,27.92,23.02,27.92,32.82,32.82,32.82,32.82,23.02,32.82,27.92,23.02,32.82,27.92,23.02,27.92,32.82,23.02,18.12,27.92,27.92,27.92,27.92,32.82,27.92,23.02,27.92,18.12,27.92,27.92,27.92,32.82,23.02,32.82,27.92,27.92,27.92,23.02,23.02,27.92,32.82,32.82,27.92,23.02,32.82,23.02,32.82,32.82,23.02,32.82,32.82,23.02,27.92,32.82,32.82,32.82,27.92,27.92,27.92,27.92,23.02,32.82,32.82,27.92,27.92,23.02,23.02,32.82,27.92,27.92,23.02,27.92,32.82,27.92,27.92,27.92,27.92,23.02,23.02,18.12,27.92,27.92,27.92,32.82,32.82,32.82,32.82,27.92,32.82,27.92,32.82,32.82,23.02,27.92,23.02,32.82,32.82,32.82,32.82,27.92,32.82,32.82,32.82,32.82,27.92,23.02,32.82,32.82,32.82,32.82,32.82,27.92,32.82,27.92,23.02,23.02,18.12,23.02,32.82,32.82,32.82,32.82,32.82,18.12,23.02,27.92,23.02,23.02,32.82,32.82,27.92,32.82,23.02,23.02,27.92,32.82,23.02,23.02,32.82,32.82,27.92,23.02,23.02,23.02,32.82,27.92,32.82,32.82,32.82,32.82,32.82,32.82,27.92,32.82,27.92,23.02,32.82,27.92,32.82,32.82,18.12,23.02,32.82,32.82,32.82,32.82,27.92,23.02,32.82,32.82,18.12,27.92,27.92,27.92,27.92,32.82,32.82,32.82,27.92,27.92,27.92,23.02,32.82,27.92,32.82,32.82,27.92,32.82,32.82,32.82,23.02,32.82,32.82,23.02,18.12,23.02,23.02,32.82,23.02,23.02,27.92,32.82,23.02,32.82,23.02,32.82,32.82,32.82,32.82,32.82,23.02,18.12,27.92,32.82,27.92,27.92,23.02,32.82,18.12,27.92,32.82,23.02,27.92,18.12,18.12,27.92,32.82,27.92,23.02,23.02,27.92,23.02,32.82,32.82,27.92,32.82,32.82,32.82,23.02,27.92,32.82,27.92,27.92,27.92,23.02,23.02,27.92,27.92,32.82,32.82,23.02,32.82,18.12,23.02,27.92,23.02,23.02,23.02,32.82,32.82,32.82,32.82,32.82,27.92,23.02,23.02,27.92,23.02,32.82,32.82,23.02,27.92,27.92,32.82,32.82,32.82,23.02,32.82,23.02,32.82,23.02,23.02,27.92,32.82,23.02,23.02,32.82,23.02,23.02,32.82,23.02,23.02,23.02,18.12,18.12,23.02,23.02,23.02,23.02,32.82,32.82,32.82,23.02,23.02,23.02,27.92,32.82,32.82,23.02,23.02,27.92,32.82,27.92,32.82,27.92,32.82,23.02,27.92,23.02,32.82,27.92,27.92,23.02,27.92,18.12,27.92,23.02,23.02,23.02,32.82,27.92,23.02,27.92,32.82,27.92,32.82,32.82,32.82,32.82,27.92,32.82,27.92,32.82,32.82,23.02,23.02,32.82,32.82,32.82,27.92,32.82,32.82,32.82,27.92,27.92,32.82,32.82,23.02,27.92,27.92,27.92,32.82,27.92,27.92,32.82,23.02,27.92,32.82,32.82,27.92,32.82,27.92,32.82,27.92,27.92,23.02,32.82,32.82,23.02,27.92,32.82,32.82,32.82,23.02,32.82,27.92,27.92,32.82,32.82,23.02,18.12,32.82,32.82,18.12,18.12,32.82,32.82,32.82,23.02,23.02,23.02,27.92,27.92,23.02,23.02,18.12,18.12,32.82,27.92,23.02,18.12,32.82,23.02,18.12,32.82,32.82,32.82,32.82,32.82,23.02,23.02,23.02,23.02,23.02,23.02,32.82,32.82,27.92,32.82,32.82,32.82,32.82,27.92,27.92,32.82,18.12,32.82,23.02,32.82,32.82,32.82,32.82,32.82,32.82,23.02,23.02,32.82,27.92,32.82,32.82,27.92,23.02,32.82,27.92,32.82,32.82,27.92,32.82,32.82,23.02,18.12,27.92,27.92,32.82,23.02,23.02,23.02,23.02,32.82,23.02,32.82,23.02,32.82,32.82,32.82,32.82,27.92,27.92,32.82,32.82,18.12,27.92,23.02,23.02,23.02,32.82,32.82,27.92,32.82,27.92,32.82,32.82,32.82,27.92,32.82,27.92,27.92,23.02,32.82,27.92,23.02,32.82,27.92,27.92,18.12,27.92,32.82,27.92,23.02,32.82,32.82,32.82,27.92,27.92,32.82,27.92,27.92,27.92,32.82,32.82,32.82,32.82,27.92,27.92,27.92,23.02,32.82,23.02,27.92,23.02,27.92,27.92,27.92,32.82,23.02,27.92,27.92,32.82,32.82,23.02,23.02,32.82,32.82,32.82,32.82,23.02,23.02,32.82,32.82,27.92,23.02,23.02,23.02,27.92,32.82,23.02,23.02,27.92,23.02,27.92,27.92,27.92,27.92,32.82,27.92,32.82,32.82,32.82,27.92,27.92,27.92,27.92,32.82,32.82,23.02,27.92,27.92,23.02,23.02,27.92,32.82,23.02,32.82,32.82,27.92,27.92,27.92,32.82,32.82,32.82,32.82,32.82,23.02,32.82,32.82,23.02,23.02,32.82,32.82,27.92,27.92,32.82,23.02,27.92,32.82,27.92,27.92,27.92,27.92,23.02,27.92,32.82,27.92,18.12,32.82,32.82,32.82,32.82,23.02,27.92,27.92,23.02,32.82,27.92,27.92,32.82,32.82,23.02,27.92,32.82,32.82,32.82,32.82,32.82,32.82,27.92,27.92,27.92,35.76,35.76,30.86,35.76,35.76,35.76,35.76,25.96,35.76,25.96,35.76,35.76,35.76,30.86,35.76,25.96,35.76,35.76,35.76,35.76,25.96,25.96,35.76,30.86,25.96,30.86,30.86,35.76,30.86,25.96,35.76,30.86,30.86,30.86,35.76,30.86,30.86,30.86,30.86,30.86,30.86,25.96,30.86,35.76,25.96,35.76,35.76,35.76,35.76,35.76,25.96,30.86,35.76,30.86,35.76,35.76,35.76,35.76,35.76,35.76,35.76,30.86,25.96,35.76,35.76,35.76,35.76,35.76,25.96,25.96,30.86,25.96,25.96,25.96,35.76,35.76,35.76,25.96,25.96,35.76,35.76,25.96,25.96,25.96,35.76,25.96,35.76,35.76,35.76,30.86,25.96,35.76,30.86,35.76,35.76,35.76,21.06,30.86,35.76,35.76,35.76,35.76,35.76,35.76,35.76,30.86,35.76,35.76,30.86,25.96,25.96,35.76,35.76,35.76,35.76,35.76,30.86,25.96,35.76,35.76,25.96,25.96,35.76,35.76,35.76,35.76,25.96,30.86,35.76,35.76,35.76,30.86,30.86,35.76,30.86,30.86,35.76,21.06,25.96,35.76,30.86,35.76,25.96,21.06,35.76,25.96,30.86,35.76,35.76,25.96,25.96,35.76,35.76,35.76,35.76,25.96,30.86,35.76,35.76,35.76,30.86,35.76,25.96,35.76,35.76,35.76,30.86,35.76,30.86,25.96,25.96,25.96,30.86,35.76,25.96,25.96,35.76,25.96,35.76,35.76,35.76,35.76,35.76,30.86,35.76,35.76,25.96,25.96,25.96,35.76,30.86,35.76,35.76,25.96,30.86,25.96,21.06,25.96,35.76,35.76,35.76,35.76,30.86,35.76,25.96,35.76,35.76,35.76,25.96,25.96,35.76,35.76,25.96,35.76,35.76,35.76,35.76,35.76,25.96,21.06,35.76,35.76,35.76,35.76,30.86,35.76,25.96,21.06,35.76,25.96,35.76,35.76,35.76,35.76,35.76,35.76,30.86,35.76,35.76,30.86,30.86,30.86,25.96,30.86,25.96,35.76,30.86,30.86,30.86,35.76,35.76,35.76,30.86,35.76,35.76,30.86,35.76,25.96,35.76,35.76,35.76,35.76,35.76,35.76,35.76,35.76,30.86,35.76,35.76,35.76,35.76,35.76,35.76,35.76,35.76,35.76,35.76,35.76,35.76,25.96,35.76,35.76,35.76,35.76,30.86,35.76,30.86,35.76,35.76,35.76,35.76,35.76,35.76,35.76,35.76,35.76,35.76,35.76,35.76,25.96,30.86,35.76,35.76,35.76,35.76,35.76,35.76,25.96,35.76,35.76,35.76,35.76,35.76,30.86,35.76,25.96,25.96,25.96,21.06,35.76,35.76,35.76,30.86,25.96,35.76,35.76,35.76,35.76,35.76,35.76,35.76,35.76,30.86,25.96,21.06,25.96,25.96,35.76,35.76,35.76,30.86,25.96,30.86,30.86,30.86,35.76,21.06,35.76,35.76,30.86,35.76,35.76,25.96,35.76,35.76,35.76,35.76,35.76,35.76,25.96,25.96,35.76,25.96,35.76,35.76,35.76,35.76,35.76,21.06,35.76,35.76,35.76,25.96,25.96,30.86,35.76,35.76,25.96,35.76,35.76,35.76,21.06,35.76,25.96,35.76,25.96,35.76,35.76,35.76,30.86,25.96,25.96,35.76,35.76,30.86,30.86,35.76,30.86,30.86,35.76,30.86,35.76,35.76,35.76,25.96,35.76,30.86,35.76,35.76,35.76,30.86,35.76,30.86,30.86,30.86,35.76,35.76,35.76,35.76,30.86,30.86,35.76,35.76,35.76,30.86,21.06,25.96,25.96,35.76,35.76,35.76,35.76,30.86,30.86,30.86,35.76,35.76,35.76,35.76,35.76,30.86,30.86,35.76,35.76,35.76,35.76,25.96,30.86,25.96,35.76,35.76,30.86,35.76,30.86,30.86,35.76,35.76,30.86,35.76,30.86,35.76,25.96,35.76,35.76,35.76,25.96,30.86,25.96,35.76,30.86,30.86,35.76,35.76,35.76,30.86,25.96,25.96,30.86,30.86,35.76,30.86,35.76,25.96,30.86,35.76,35.76,25.96,25.96,35.76,35.76,35.76,30.86,25.96,30.86,35.76,35.76,35.76,30.86,35.76,30.86,30.86,35.76,35.76,35.76,35.76,35.76,35.76,35.76,35.76,35.76,35.76,35.76,30.86,35.76,21.06,25.96,35.76,35.76,35.76,35.76,35.76,35.76,25.96,25.96,35.76,35.76,35.76,35.76,30.86,25.96,25.96,35.76,35.76,35.76,30.86,30.86,35.76,35.76,35.76,35.76,30.86,25.96,25.96,35.76,35.76,35.76,35.76,35.76,25.96,30.86,35.76,35.76,25.96,35.76,35.76,25.96,25.96,25.96,35.76,35.76,35.76,35.76,35.76,35.76,30.86,25.96,35.76,35.76,35.76,35.76,35.76,35.76,35.76,35.76,35.76,35.76,35.76,35.76,35.76,35.76,35.76,35.76,30.86,35.76,30.86,30.86,30.86,35.76,35.76,25.96,21.06,35.76,35.76,35.76,30.86,35.76,35.76,35.76,35.76,35.76,35.76,35.76,30.86,30.86,35.76,35.76,35.76,25.96,30.86,35.76,35.76,30.86,30.86,25.96,25.96,35.76,35.76,25.96,35.76,30.86,35.76,35.76,30.86,35.76,35.76,30.86,30.86,30.86,25.96,30.86,35.76,35.76,35.76,35.76,35.76,30.86,30.86,35.76,35.76,35.76,35.76,35.76,30.86,35.76,21.06,35.76,30.86,35.76,35.76,35.76,35.76,35.76,30.86,35.76,35.76,35.76,25.96,35.76,35.76,35.76,35.76,30.86,25.96,35.76,35.76,35.76,35.76,35.76,35.76,35.76,25.96,25.96,35.76,35.76,25.96,25.96,35.76,35.76,35.76,35.76,35.76,30.86,25.96,35.76,35.76,35.76,30.86,35.76,35.76,35.76,35.76,35.76,25.96,35.76,35.76,35.76,35.76,25.96,30.86,35.76,35.76,30.86,30.86,35.76,35.76,35.76,35.76,35.76,30.86,30.86,30.86,35.76,35.76,35.76,25.96,35.76,35.76,30.86,30.86,30.86,30.86,30.86,30.86,35.76,35.76,35.76,35.76,35.76,35.76,35.76,30.86,30.86,30.86,35.76,25.96,30.86,35.76,25.96,21.06,35.76,25.96,35.76,35.76,30.86,30.86,25.96,30.86,30.86,30.86,35.76,35.76,35.76,35.76,30.86,35.76,25.96,35.76,35.76,25.96,30.86,30.86,30.86,35.76,30.86,35.76,25.96,25.96,30.86,30.86,35.76,25.96,35.76,35.76,35.76,35.76,35.76,35.76,35.76,30.86,25.96,35.76,35.76,30.86,25.96,25.96,35.76,35.76,25.96,30.86,30.86,35.76,21.06,35.76,30.86,30.86,35.76,25.96,30.86,25.96,35.76,25.96,35.76,35.76,25.96,35.76,21.06,35.76,35.76,35.76,30.86,25.96,21.06,21.06,25.96,35.76,35.76,25.96,25.96,35.76,35.76,35.76,35.76,35.76,35.76,30.86,35.76,35.76,25.96,35.76,35.76,25.96,25.96,25.96,25.96,30.86,35.76,35.76,35.76,35.76,35.76,35.76,30.86,35.76,35.76,35.76,30.86,25.96,35.76,30.86,25.96,35.76,35.76,35.76,35.76,30.86,35.76,35.76,35.76,30.86,21.06,35.76,35.76,35.76,30.86,35.76,35.76,35.76,25.96,30.86,35.76,25.96,21.06,30.86,25.96,35.76,35.76,35.76,35.76,25.96,35.76,35.76,30.86,35.76,35.76,35.76,25.96,30.86,25.96,25.96,35.76,25.96,35.76,35.76,35.76,35.76,35.76,35.76,25.96,25.96,30.86,30.86,35.76,35.76,30.86,35.76,25.96,35.76,25.96,30.86,35.76,25.96,35.76,35.76,21.06,35.76,35.76,35.76,30.86,25.96,30.86,25.96,35.76,35.76,35.76,35.76,35.76,30.86,35.76,21.06,25.96,25.96,25.96,30.86,35.76,25.96,30.86,35.76,25.96,25.96,30.86,35.76,35.76,35.76,35.76,35.76,25.96,21.06,25.96,25.96,21.06,25.96,35.76,35.76,25.96,30.86,35.76,35.76,35.76,30.86,30.86,25.96,35.76,25.96,35.76,25.96,35.76,30.86,30.86,35.76,30.86,21.06,25.96,35.76,35.76,30.86,35.76,35.76,35.76,30.86,35.76,35.76,25.96,25.96,25.96,35.76,30.86,35.76,25.96,30.86,30.86,35.76,25.96,25.96,35.76,25.96,25.96,35.76,35.76,30.86,35.76,35.76,25.96,25.96,35.76,30.86,35.76,30.86,25.96,35.76,35.76,35.76,30.86,35.76,25.96,35.76,25.96,35.76,30.86,21.06,35.76,30.86,25.96,30.86,35.76,30.86,30.86,35.76,35.76,30.86,30.86,35.76,25.96,35.76,35.76,35.76,35.76,30.86,30.86,35.76,35.76,25.96,35.76,25.96,30.86,30.86,25.96,30.86,35.76,30.86,30.86,30.86,25.96,35.76,35.76,35.76,35.76,21.06,35.76,25.96,30.86,35.76,30.86,30.86,35.76,35.76,30.86,25.96,35.76,35.76,35.76,35.76,35.76,35.76,35.76,35.76,35.76,30.86,30.86,25.96,35.76,35.76,35.76,35.76,35.76,25.96,35.76,35.76,35.76,30.86,30.86,35.76,35.76,35.76,35.76,30.86,35.76,35.76,35.76,30.86,30.86,25.96,25.96,25.96,30.86,35.76,35.76,35.76,35.76,35.76,25.96,30.86,25.96,35.76,35.76,35.76,25.96,21.06,30.86,35.76,30.86,35.76,35.76,30.86,35.76,25.96,35.76,25.96,35.76,35.76,35.76,35.76,35.76,25.96,25.96,21.06,25.96,25.96,35.76,30.86,30.86,25.96,30.86,35.76,35.76,35.76,35.76,25.96,30.86,25.96,35.76,25.96,25.96,35.76,35.76,25.96,25.96,30.86,21.06,30.86,30.86,25.96,35.76,25.96,30.86,35.76,30.86,25.96,25.96,30.86,30.86,35.76,35.76,35.76,35.76,35.76,35.76,30.86,30.86,25.96,30.86,30.86,25.96,25.96,35.76,35.76,35.76,35.76,30.86,30.86,30.86,35.76,35.76,35.76,35.76,30.86,35.76,35.76,35.76,30.86,21.06,30.86,25.96,35.76,30.86,35.76,35.76,25.96,25.96,35.76,35.76,35.76,25.96,35.76,30.86,30.86,30.86,35.76,35.76,35.76,30.86,25.96,35.76,30.86,25.96,30.86,25.96,25.96,30.86,25.96,30.86,35.76,35.76,35.76,25.96,30.86,30.86,25.96,25.96,25.96,30.86,25.96,25.96,21.06,21.06,35.76,35.76,35.76,35.76,35.76,35.76,35.76,35.76,35.76,35.76,30.86,35.76,35.76,35.76,30.86,25.96,30.86,35.76,35.76,35.76,35.76,35.76,21.06,35.76,35.76,35.76,30.86,30.86,25.96,35.76,30.86,25.96,25.96,35.76,35.76,35.76,35.76,35.76,25.96,35.76,35.76,25.96,25.96,30.86,25.96,25.96,25.96,25.96,25.96,25.96,35.76,30.86,25.96,35.76,35.76,35.76,35.76,35.76,25.96,25.96,25.96,25.96,30.86,25.96,35.76,30.86,25.96,35.76,25.96,35.76,35.76,35.76,30.86,35.76,35.76,35.76,25.96,30.86,35.76,35.76,25.96,25.96,30.86,35.76,35.76,30.86,21.06,35.76,30.86,30.86,25.96,30.86,35.76,35.76,35.76,25.96,35.76,30.86,25.96,25.96,25.96,35.76,35.76,35.76,35.76,25.96,25.96,35.76,25.96,35.76,35.76,35.76,30.86,25.96,21.06,35.76,30.86,30.86,25.96,25.96,30.86,30.86,35.76,35.76,35.76,25.96,35.76,25.96,21.06,30.86,35.76,35.76,35.76,35.76,35.76,25.96,35.76,21.06,30.86,25.96,35.76,35.76,25.96,30.86,30.86,35.76,25.96,35.76,35.76,25.96,25.96,30.86,35.76,25.96,35.76,35.76,35.76,30.86,30.86,35.76,25.96,25.96,30.86,35.76,30.86,25.96,30.86,21.06,35.76,35.76,30.86,35.76,21.06,25.96,30.86,25.96,25.96,25.96,35.76,25.96,25.96,25.96,25.96,30.86,30.86,35.76,25.96,30.86,35.76,30.86,21.06,35.76,35.76,35.76,35.76,35.76,30.86,35.76,25.96,25.96,35.76,25.96,35.76,30.86,25.96,35.76,25.96,35.76,25.96,35.76,30.86,35.76,35.76,35.76,35.76,35.76,35.76,35.76,25.96,35.76,25.96,25.96,25.96,30.86,35.76,25.96,25.96,21.06,35.76,35.76,35.76,25.96,25.96,35.76,35.76,35.76,25.96,35.76,35.76,21.06,25.96,30.86,25.96,25.96,25.96,25.96,25.96,25.96,35.76,25.96,25.96,25.96,35.76,35.76,35.76,35.76,35.76,35.76,35.76,35.76,25.96,25.96,21.06,30.86,30.86,30.86,30.86,35.76,35.76,25.96,30.86,35.76,25.96,30.86,30.86,35.76,35.76,35.76,30.86,35.76,35.76,35.76,25.96,25.96,30.86,30.86,35.76,30.86,35.76,35.76,35.76,35.76,30.86,25.96,30.86,21.06,25.96,25.96,35.76,35.76,25.96,25.96,35.76,35.76,25.96,30.86,30.86,35.76,35.76,35.76,25.96,25.96,25.96,35.76,25.96,25.96,35.76,35.76,35.76,30.86,35.76,35.76,35.76,35.76,21.06,35.76,35.76,30.86,25.96,35.76,25.96,25.96,25.96,25.96,35.76,35.76,35.76,35.76,35.76,35.76,35.76,30.86,30.86,35.76,21.06,30.86,25.96,25.96,25.96,35.76,25.96,35.76,25.96,35.76,30.86,25.96,25.96,35.76,35.76,25.96,25.96,35.76,25.96,30.86,35.76,25.96,35.76,35.76,30.86,30.86,25.96,25.96,35.76,35.76,35.76,35.76,35.76,35.76,35.76,25.96,35.76,35.76,35.76,35.76,35.76,25.96,30.86,25.96,35.76,25.96,35.76,35.76,30.86,35.76,35.76,25.96,30.86,25.96,25.96,25.96,30.86,25.96,25.96,25.96,25.96,35.76,25.96,35.76,35.76,35.76,30.86,25.96,25.96,25.96,35.76,30.86,35.76,35.76,25.96,25.96,25.96,35.76,35.76,35.76,30.86,21.06,35.76,35.76,35.76,35.76,21.06,30.86,25.96,25.96,25.96,35.76,35.76,30.86,35.76,35.76,30.86,35.76,25.96,25.96,25.96,35.76,30.86,30.86,35.76,35.76,30.86,35.76,25.96,35.76,35.76,35.76,35.76,35.76,30.86,30.86,25.96,25.96,25.96,30.86,25.96,35.76,21.06,30.86,35.76,25.96,35.76,25.96,30.86,35.76,25.96,35.76,30.86,35.76,35.76,35.76,25.96,25.96,35.76,35.76,35.76,35.76,30.86,25.96,35.76,35.76,30.86,25.96,35.76,35.76,25.96,25.96,25.96,35.76,35.76,35.76,35.76,30.86,35.76,35.76,35.76,30.86,35.76,25.96,25.96,25.96,35.76,35.76,35.76,35.76,35.76,35.76,25.96,35.76,25.96,35.76,25.96,35.76,30.86,30.86,35.76,21.06,25.96,30.86,25.96,35.76,30.86,25.96,35.76,25.96,30.86,25.96,35.76,21.06,25.96,25.96,35.76,35.76,25.96,35.76,35.76,35.76,25.96,35.76,35.76,35.76,25.96,25.96,35.76,35.76,25.96,25.96,30.86,35.76,25.96,35.76,30.86,30.86,35.76,35.76,30.86,35.76,35.76,25.96,25.96,25.96,25.96,30.86,25.96,25.96,35.76,35.76,35.76,35.76,35.76,35.76,25.96,30.86,35.76,35.76,25.96,35.76,35.76,30.86,25.96,30.86,25.96,35.76,21.06,35.76,35.76,35.76,35.76,35.76,25.96,25.96,35.76,25.96,35.76,25.96,25.96,35.76,35.76,35.76,25.96,35.76,35.76,25.96,25.96,35.76,30.86,30.86,25.96,21.06,21.06,30.86,30.86,30.86,25.96,25.96,25.96,25.96,25.96,21.06,25.96,35.76,35.76,25.96,25.96,35.76,25.96,35.76,35.76,35.76,35.76,30.86,30.86,25.96,25.96,25.96,35.76,25.96,35.76,25.96,35.76,35.76,35.76,25.96,35.76,35.76,35.76,35.76,35.76,35.76,25.96,30.86,30.86,35.76,35.76,30.86,25.96,25.96,30.86,21.06,35.76,30.86,30.86,35.76,35.76,35.76,35.76,25.96,35.76],\"y0\":\" \",\"yaxis\":\"y\",\"type\":\"box\"}],                        {\"template\":{\"data\":{\"histogram2dcontour\":[{\"type\":\"histogram2dcontour\",\"colorbar\":{\"outlinewidth\":0,\"ticks\":\"\"},\"colorscale\":[[0.0,\"#0d0887\"],[0.1111111111111111,\"#46039f\"],[0.2222222222222222,\"#7201a8\"],[0.3333333333333333,\"#9c179e\"],[0.4444444444444444,\"#bd3786\"],[0.5555555555555556,\"#d8576b\"],[0.6666666666666666,\"#ed7953\"],[0.7777777777777778,\"#fb9f3a\"],[0.8888888888888888,\"#fdca26\"],[1.0,\"#f0f921\"]]}],\"choropleth\":[{\"type\":\"choropleth\",\"colorbar\":{\"outlinewidth\":0,\"ticks\":\"\"}}],\"histogram2d\":[{\"type\":\"histogram2d\",\"colorbar\":{\"outlinewidth\":0,\"ticks\":\"\"},\"colorscale\":[[0.0,\"#0d0887\"],[0.1111111111111111,\"#46039f\"],[0.2222222222222222,\"#7201a8\"],[0.3333333333333333,\"#9c179e\"],[0.4444444444444444,\"#bd3786\"],[0.5555555555555556,\"#d8576b\"],[0.6666666666666666,\"#ed7953\"],[0.7777777777777778,\"#fb9f3a\"],[0.8888888888888888,\"#fdca26\"],[1.0,\"#f0f921\"]]}],\"heatmap\":[{\"type\":\"heatmap\",\"colorbar\":{\"outlinewidth\":0,\"ticks\":\"\"},\"colorscale\":[[0.0,\"#0d0887\"],[0.1111111111111111,\"#46039f\"],[0.2222222222222222,\"#7201a8\"],[0.3333333333333333,\"#9c179e\"],[0.4444444444444444,\"#bd3786\"],[0.5555555555555556,\"#d8576b\"],[0.6666666666666666,\"#ed7953\"],[0.7777777777777778,\"#fb9f3a\"],[0.8888888888888888,\"#fdca26\"],[1.0,\"#f0f921\"]]}],\"heatmapgl\":[{\"type\":\"heatmapgl\",\"colorbar\":{\"outlinewidth\":0,\"ticks\":\"\"},\"colorscale\":[[0.0,\"#0d0887\"],[0.1111111111111111,\"#46039f\"],[0.2222222222222222,\"#7201a8\"],[0.3333333333333333,\"#9c179e\"],[0.4444444444444444,\"#bd3786\"],[0.5555555555555556,\"#d8576b\"],[0.6666666666666666,\"#ed7953\"],[0.7777777777777778,\"#fb9f3a\"],[0.8888888888888888,\"#fdca26\"],[1.0,\"#f0f921\"]]}],\"contourcarpet\":[{\"type\":\"contourcarpet\",\"colorbar\":{\"outlinewidth\":0,\"ticks\":\"\"}}],\"contour\":[{\"type\":\"contour\",\"colorbar\":{\"outlinewidth\":0,\"ticks\":\"\"},\"colorscale\":[[0.0,\"#0d0887\"],[0.1111111111111111,\"#46039f\"],[0.2222222222222222,\"#7201a8\"],[0.3333333333333333,\"#9c179e\"],[0.4444444444444444,\"#bd3786\"],[0.5555555555555556,\"#d8576b\"],[0.6666666666666666,\"#ed7953\"],[0.7777777777777778,\"#fb9f3a\"],[0.8888888888888888,\"#fdca26\"],[1.0,\"#f0f921\"]]}],\"surface\":[{\"type\":\"surface\",\"colorbar\":{\"outlinewidth\":0,\"ticks\":\"\"},\"colorscale\":[[0.0,\"#0d0887\"],[0.1111111111111111,\"#46039f\"],[0.2222222222222222,\"#7201a8\"],[0.3333333333333333,\"#9c179e\"],[0.4444444444444444,\"#bd3786\"],[0.5555555555555556,\"#d8576b\"],[0.6666666666666666,\"#ed7953\"],[0.7777777777777778,\"#fb9f3a\"],[0.8888888888888888,\"#fdca26\"],[1.0,\"#f0f921\"]]}],\"mesh3d\":[{\"type\":\"mesh3d\",\"colorbar\":{\"outlinewidth\":0,\"ticks\":\"\"}}],\"scatter\":[{\"fillpattern\":{\"fillmode\":\"overlay\",\"size\":10,\"solidity\":0.2},\"type\":\"scatter\"}],\"parcoords\":[{\"type\":\"parcoords\",\"line\":{\"colorbar\":{\"outlinewidth\":0,\"ticks\":\"\"}}}],\"scatterpolargl\":[{\"type\":\"scatterpolargl\",\"marker\":{\"colorbar\":{\"outlinewidth\":0,\"ticks\":\"\"}}}],\"bar\":[{\"error_x\":{\"color\":\"#2a3f5f\"},\"error_y\":{\"color\":\"#2a3f5f\"},\"marker\":{\"line\":{\"color\":\"#E5ECF6\",\"width\":0.5},\"pattern\":{\"fillmode\":\"overlay\",\"size\":10,\"solidity\":0.2}},\"type\":\"bar\"}],\"scattergeo\":[{\"type\":\"scattergeo\",\"marker\":{\"colorbar\":{\"outlinewidth\":0,\"ticks\":\"\"}}}],\"scatterpolar\":[{\"type\":\"scatterpolar\",\"marker\":{\"colorbar\":{\"outlinewidth\":0,\"ticks\":\"\"}}}],\"histogram\":[{\"marker\":{\"pattern\":{\"fillmode\":\"overlay\",\"size\":10,\"solidity\":0.2}},\"type\":\"histogram\"}],\"scattergl\":[{\"type\":\"scattergl\",\"marker\":{\"colorbar\":{\"outlinewidth\":0,\"ticks\":\"\"}}}],\"scatter3d\":[{\"type\":\"scatter3d\",\"line\":{\"colorbar\":{\"outlinewidth\":0,\"ticks\":\"\"}},\"marker\":{\"colorbar\":{\"outlinewidth\":0,\"ticks\":\"\"}}}],\"scattermapbox\":[{\"type\":\"scattermapbox\",\"marker\":{\"colorbar\":{\"outlinewidth\":0,\"ticks\":\"\"}}}],\"scatterternary\":[{\"type\":\"scatterternary\",\"marker\":{\"colorbar\":{\"outlinewidth\":0,\"ticks\":\"\"}}}],\"scattercarpet\":[{\"type\":\"scattercarpet\",\"marker\":{\"colorbar\":{\"outlinewidth\":0,\"ticks\":\"\"}}}],\"carpet\":[{\"aaxis\":{\"endlinecolor\":\"#2a3f5f\",\"gridcolor\":\"white\",\"linecolor\":\"white\",\"minorgridcolor\":\"white\",\"startlinecolor\":\"#2a3f5f\"},\"baxis\":{\"endlinecolor\":\"#2a3f5f\",\"gridcolor\":\"white\",\"linecolor\":\"white\",\"minorgridcolor\":\"white\",\"startlinecolor\":\"#2a3f5f\"},\"type\":\"carpet\"}],\"table\":[{\"cells\":{\"fill\":{\"color\":\"#EBF0F8\"},\"line\":{\"color\":\"white\"}},\"header\":{\"fill\":{\"color\":\"#C8D4E3\"},\"line\":{\"color\":\"white\"}},\"type\":\"table\"}],\"barpolar\":[{\"marker\":{\"line\":{\"color\":\"#E5ECF6\",\"width\":0.5},\"pattern\":{\"fillmode\":\"overlay\",\"size\":10,\"solidity\":0.2}},\"type\":\"barpolar\"}],\"pie\":[{\"automargin\":true,\"type\":\"pie\"}]},\"layout\":{\"autotypenumbers\":\"strict\",\"colorway\":[\"#636efa\",\"#EF553B\",\"#00cc96\",\"#ab63fa\",\"#FFA15A\",\"#19d3f3\",\"#FF6692\",\"#B6E880\",\"#FF97FF\",\"#FECB52\"],\"font\":{\"color\":\"#2a3f5f\"},\"hovermode\":\"closest\",\"hoverlabel\":{\"align\":\"left\"},\"paper_bgcolor\":\"white\",\"plot_bgcolor\":\"#E5ECF6\",\"polar\":{\"bgcolor\":\"#E5ECF6\",\"angularaxis\":{\"gridcolor\":\"white\",\"linecolor\":\"white\",\"ticks\":\"\"},\"radialaxis\":{\"gridcolor\":\"white\",\"linecolor\":\"white\",\"ticks\":\"\"}},\"ternary\":{\"bgcolor\":\"#E5ECF6\",\"aaxis\":{\"gridcolor\":\"white\",\"linecolor\":\"white\",\"ticks\":\"\"},\"baxis\":{\"gridcolor\":\"white\",\"linecolor\":\"white\",\"ticks\":\"\"},\"caxis\":{\"gridcolor\":\"white\",\"linecolor\":\"white\",\"ticks\":\"\"}},\"coloraxis\":{\"colorbar\":{\"outlinewidth\":0,\"ticks\":\"\"}},\"colorscale\":{\"sequential\":[[0.0,\"#0d0887\"],[0.1111111111111111,\"#46039f\"],[0.2222222222222222,\"#7201a8\"],[0.3333333333333333,\"#9c179e\"],[0.4444444444444444,\"#bd3786\"],[0.5555555555555556,\"#d8576b\"],[0.6666666666666666,\"#ed7953\"],[0.7777777777777778,\"#fb9f3a\"],[0.8888888888888888,\"#fdca26\"],[1.0,\"#f0f921\"]],\"sequentialminus\":[[0.0,\"#0d0887\"],[0.1111111111111111,\"#46039f\"],[0.2222222222222222,\"#7201a8\"],[0.3333333333333333,\"#9c179e\"],[0.4444444444444444,\"#bd3786\"],[0.5555555555555556,\"#d8576b\"],[0.6666666666666666,\"#ed7953\"],[0.7777777777777778,\"#fb9f3a\"],[0.8888888888888888,\"#fdca26\"],[1.0,\"#f0f921\"]],\"diverging\":[[0,\"#8e0152\"],[0.1,\"#c51b7d\"],[0.2,\"#de77ae\"],[0.3,\"#f1b6da\"],[0.4,\"#fde0ef\"],[0.5,\"#f7f7f7\"],[0.6,\"#e6f5d0\"],[0.7,\"#b8e186\"],[0.8,\"#7fbc41\"],[0.9,\"#4d9221\"],[1,\"#276419\"]]},\"xaxis\":{\"gridcolor\":\"white\",\"linecolor\":\"white\",\"ticks\":\"\",\"title\":{\"standoff\":15},\"zerolinecolor\":\"white\",\"automargin\":true,\"zerolinewidth\":2},\"yaxis\":{\"gridcolor\":\"white\",\"linecolor\":\"white\",\"ticks\":\"\",\"title\":{\"standoff\":15},\"zerolinecolor\":\"white\",\"automargin\":true,\"zerolinewidth\":2},\"scene\":{\"xaxis\":{\"backgroundcolor\":\"#E5ECF6\",\"gridcolor\":\"white\",\"linecolor\":\"white\",\"showbackground\":true,\"ticks\":\"\",\"zerolinecolor\":\"white\",\"gridwidth\":2},\"yaxis\":{\"backgroundcolor\":\"#E5ECF6\",\"gridcolor\":\"white\",\"linecolor\":\"white\",\"showbackground\":true,\"ticks\":\"\",\"zerolinecolor\":\"white\",\"gridwidth\":2},\"zaxis\":{\"backgroundcolor\":\"#E5ECF6\",\"gridcolor\":\"white\",\"linecolor\":\"white\",\"showbackground\":true,\"ticks\":\"\",\"zerolinecolor\":\"white\",\"gridwidth\":2}},\"shapedefaults\":{\"line\":{\"color\":\"#2a3f5f\"}},\"annotationdefaults\":{\"arrowcolor\":\"#2a3f5f\",\"arrowhead\":0,\"arrowwidth\":1},\"geo\":{\"bgcolor\":\"white\",\"landcolor\":\"#E5ECF6\",\"subunitcolor\":\"white\",\"showland\":true,\"showlakes\":true,\"lakecolor\":\"white\"},\"title\":{\"x\":0.05},\"mapbox\":{\"style\":\"light\"}}},\"xaxis\":{\"anchor\":\"y\",\"domain\":[0.0,1.0]},\"yaxis\":{\"anchor\":\"x\",\"domain\":[0.0,1.0],\"title\":{\"text\":\"money\"}},\"legend\":{\"tracegroupgap\":0},\"title\":{\"text\":\"Outlier Detection for Sales (money)\"},\"boxmode\":\"group\"},                        {\"responsive\": true}                    ).then(function(){\n",
              "                            \n",
              "var gd = document.getElementById('19cfb4fa-0767-471a-9044-5b5a55b10548');\n",
              "var x = new MutationObserver(function (mutations, observer) {{\n",
              "        var display = window.getComputedStyle(gd).display;\n",
              "        if (!display || display === 'none') {{\n",
              "            console.log([gd, 'removed!']);\n",
              "            Plotly.purge(gd);\n",
              "            observer.disconnect();\n",
              "        }}\n",
              "}});\n",
              "\n",
              "// Listen for the removal of the full notebook cells\n",
              "var notebookContainer = gd.closest('#notebook-container');\n",
              "if (notebookContainer) {{\n",
              "    x.observe(notebookContainer, {childList: true});\n",
              "}}\n",
              "\n",
              "// Listen for the clearing of the current output cell\n",
              "var outputEl = gd.closest('.output');\n",
              "if (outputEl) {{\n",
              "    x.observe(outputEl, {childList: true});\n",
              "}}\n",
              "\n",
              "                        })                };                            </script>        </div>\n",
              "</body>\n",
              "</html>"
            ]
          },
          "metadata": {}
        }
      ],
      "source": [
        "# Check for outliers in 'money' using Plotly box plot\n",
        "\n",
        "fig = px.box(df, y='money', points='all', title='Outlier Detection for Sales (money)')\n",
        "fig.show()"
      ]
    },
    {
      "cell_type": "markdown",
      "id": "d116191d",
      "metadata": {
        "id": "d116191d"
      },
      "source": [
        "## EDA"
      ]
    },
    {
      "cell_type": "code",
      "execution_count": 8,
      "id": "0d697549",
      "metadata": {
        "colab": {
          "base_uri": "https://localhost:8080/",
          "height": 178
        },
        "id": "0d697549",
        "outputId": "ee9948fe-93cc-46d4-a6fa-8fa45fd59f0a"
      },
      "outputs": [
        {
          "output_type": "execute_result",
          "data": {
            "text/plain": [
              "year\n",
              "2024    2604\n",
              "2025     943\n",
              "Name: count, dtype: int64"
            ],
            "text/html": [
              "<div>\n",
              "<style scoped>\n",
              "    .dataframe tbody tr th:only-of-type {\n",
              "        vertical-align: middle;\n",
              "    }\n",
              "\n",
              "    .dataframe tbody tr th {\n",
              "        vertical-align: top;\n",
              "    }\n",
              "\n",
              "    .dataframe thead th {\n",
              "        text-align: right;\n",
              "    }\n",
              "</style>\n",
              "<table border=\"1\" class=\"dataframe\">\n",
              "  <thead>\n",
              "    <tr style=\"text-align: right;\">\n",
              "      <th></th>\n",
              "      <th>count</th>\n",
              "    </tr>\n",
              "    <tr>\n",
              "      <th>year</th>\n",
              "      <th></th>\n",
              "    </tr>\n",
              "  </thead>\n",
              "  <tbody>\n",
              "    <tr>\n",
              "      <th>2024</th>\n",
              "      <td>2604</td>\n",
              "    </tr>\n",
              "    <tr>\n",
              "      <th>2025</th>\n",
              "      <td>943</td>\n",
              "    </tr>\n",
              "  </tbody>\n",
              "</table>\n",
              "</div><br><label><b>dtype:</b> int64</label>"
            ]
          },
          "metadata": {},
          "execution_count": 8
        }
      ],
      "source": [
        "# see distribution of year from column 'Date'\n",
        "df['Date'] = pd.to_datetime(df['Date'])\n",
        "df['year'] = df['Date'].dt.year\n",
        "df['year'].value_counts()\n"
      ]
    },
    {
      "cell_type": "code",
      "execution_count": 9,
      "id": "26488979",
      "metadata": {
        "colab": {
          "base_uri": "https://localhost:8080/"
        },
        "id": "26488979",
        "outputId": "e66fab94-c176-43d8-fcca-e00427b6992c"
      },
      "outputs": [
        {
          "output_type": "stream",
          "name": "stdout",
          "text": [
            "Dataset stops at:\n",
            "Year: 2025\n",
            "Month: 3\n",
            "Last transaction date in dataset: 2025-03-23\n"
          ]
        }
      ],
      "source": [
        "# Make sure Date is in datetime format\n",
        "df['Date'] = pd.to_datetime(df['Date'])\n",
        "\n",
        "# Extract year and month\n",
        "df['year'] = df['Date'].dt.year\n",
        "df['month'] = df['Date'].dt.month\n",
        "\n",
        "# Find the maximum year and month in dataset\n",
        "last_year = df['year'].max()\n",
        "last_month = df[df['year'] == last_year]['month'].max()\n",
        "\n",
        "print(\"Dataset stops at:\")\n",
        "print(\"Year:\", last_year)\n",
        "print(\"Month:\", last_month)\n",
        "#  last transaction date\n",
        "last_date = df['Date'].max()\n",
        "print(\"Last transaction date in dataset:\", last_date.date())\n"
      ]
    },
    {
      "cell_type": "markdown",
      "id": "60977598",
      "metadata": {
        "id": "60977598"
      },
      "source": [
        "### 1-Which day of the week has the most total sales?"
      ]
    },
    {
      "cell_type": "code",
      "execution_count": 10,
      "id": "00a25f57",
      "metadata": {
        "id": "00a25f57"
      },
      "outputs": [],
      "source": [
        "# Definding the numpy arrays\n",
        "money         = df[\"money\"].to_numpy()\n",
        "weekday_str   = df[\"Weekday\"].to_numpy()\n",
        "weekday_sort  = df[\"Weekdaysort\"].to_numpy()   # numeric order for days\n",
        "coffee        = df[\"coffee_name\"].to_numpy()\n",
        "time_of_day   = df[\"Time_of_Day\"].to_numpy()\n",
        "hour  = df[\"hour_of_day\"].to_numpy()\n",
        "year  = df[\"year\"].to_numpy()"
      ]
    },
    {
      "cell_type": "code",
      "execution_count": 11,
      "id": "943325d1",
      "metadata": {
        "colab": {
          "base_uri": "https://localhost:8080/",
          "height": 629
        },
        "id": "943325d1",
        "outputId": "63441c0e-de09-4032-c391-92c1eda47f5c"
      },
      "outputs": [
        {
          "output_type": "stream",
          "name": "stdout",
          "text": [
            "[1 2 3 4 5 6 7] [4 4 4 ... 6 6 6]\n",
            "days sorted:  ['Mon' 'Tue' 'Wed' 'Thu' 'Fri' 'Sat' 'Sun']\n",
            "total sales sorted from the max till min:  [17363.1  18168.38 15750.46 16091.4  16802.66 14733.52 13336.06]\n",
            "Day with most total sales: Tue\n",
            "Total sales on that day: 18168.38\n"
          ]
        },
        {
          "output_type": "display_data",
          "data": {
            "text/html": [
              "<html>\n",
              "<head><meta charset=\"utf-8\" /></head>\n",
              "<body>\n",
              "    <div>            <script src=\"https://cdnjs.cloudflare.com/ajax/libs/mathjax/2.7.5/MathJax.js?config=TeX-AMS-MML_SVG\"></script><script type=\"text/javascript\">if (window.MathJax && window.MathJax.Hub && window.MathJax.Hub.Config) {window.MathJax.Hub.Config({SVG: {font: \"STIX-Web\"}});}</script>                <script type=\"text/javascript\">window.PlotlyConfig = {MathJaxConfig: 'local'};</script>\n",
              "        <script charset=\"utf-8\" src=\"https://cdn.plot.ly/plotly-2.35.2.min.js\"></script>                <div id=\"22a15178-2cd2-4e08-b26c-ad3a9293bb72\" class=\"plotly-graph-div\" style=\"height:525px; width:100%;\"></div>            <script type=\"text/javascript\">                                    window.PLOTLYENV=window.PLOTLYENV || {};                                    if (document.getElementById(\"22a15178-2cd2-4e08-b26c-ad3a9293bb72\")) {                    Plotly.newPlot(                        \"22a15178-2cd2-4e08-b26c-ad3a9293bb72\",                        [{\"alignmentgroup\":\"True\",\"hovertemplate\":\"Weekday=%{x}\\u003cbr\\u003eTotal Sales=%{y}\\u003cextra\\u003e\\u003c\\u002fextra\\u003e\",\"legendgroup\":\"\",\"marker\":{\"color\":\"#636efa\",\"pattern\":{\"shape\":\"\"}},\"name\":\"\",\"offsetgroup\":\"\",\"orientation\":\"v\",\"showlegend\":false,\"textposition\":\"auto\",\"x\":[\"Mon\",\"Tue\",\"Wed\",\"Thu\",\"Fri\",\"Sat\",\"Sun\"],\"xaxis\":\"x\",\"y\":[17363.099999999977,18168.379999999957,15750.459999999994,16091.400000000001,16802.65999999997,14733.519999999995,13336.06000000002],\"yaxis\":\"y\",\"type\":\"bar\"}],                        {\"template\":{\"data\":{\"histogram2dcontour\":[{\"type\":\"histogram2dcontour\",\"colorbar\":{\"outlinewidth\":0,\"ticks\":\"\"},\"colorscale\":[[0.0,\"#0d0887\"],[0.1111111111111111,\"#46039f\"],[0.2222222222222222,\"#7201a8\"],[0.3333333333333333,\"#9c179e\"],[0.4444444444444444,\"#bd3786\"],[0.5555555555555556,\"#d8576b\"],[0.6666666666666666,\"#ed7953\"],[0.7777777777777778,\"#fb9f3a\"],[0.8888888888888888,\"#fdca26\"],[1.0,\"#f0f921\"]]}],\"choropleth\":[{\"type\":\"choropleth\",\"colorbar\":{\"outlinewidth\":0,\"ticks\":\"\"}}],\"histogram2d\":[{\"type\":\"histogram2d\",\"colorbar\":{\"outlinewidth\":0,\"ticks\":\"\"},\"colorscale\":[[0.0,\"#0d0887\"],[0.1111111111111111,\"#46039f\"],[0.2222222222222222,\"#7201a8\"],[0.3333333333333333,\"#9c179e\"],[0.4444444444444444,\"#bd3786\"],[0.5555555555555556,\"#d8576b\"],[0.6666666666666666,\"#ed7953\"],[0.7777777777777778,\"#fb9f3a\"],[0.8888888888888888,\"#fdca26\"],[1.0,\"#f0f921\"]]}],\"heatmap\":[{\"type\":\"heatmap\",\"colorbar\":{\"outlinewidth\":0,\"ticks\":\"\"},\"colorscale\":[[0.0,\"#0d0887\"],[0.1111111111111111,\"#46039f\"],[0.2222222222222222,\"#7201a8\"],[0.3333333333333333,\"#9c179e\"],[0.4444444444444444,\"#bd3786\"],[0.5555555555555556,\"#d8576b\"],[0.6666666666666666,\"#ed7953\"],[0.7777777777777778,\"#fb9f3a\"],[0.8888888888888888,\"#fdca26\"],[1.0,\"#f0f921\"]]}],\"heatmapgl\":[{\"type\":\"heatmapgl\",\"colorbar\":{\"outlinewidth\":0,\"ticks\":\"\"},\"colorscale\":[[0.0,\"#0d0887\"],[0.1111111111111111,\"#46039f\"],[0.2222222222222222,\"#7201a8\"],[0.3333333333333333,\"#9c179e\"],[0.4444444444444444,\"#bd3786\"],[0.5555555555555556,\"#d8576b\"],[0.6666666666666666,\"#ed7953\"],[0.7777777777777778,\"#fb9f3a\"],[0.8888888888888888,\"#fdca26\"],[1.0,\"#f0f921\"]]}],\"contourcarpet\":[{\"type\":\"contourcarpet\",\"colorbar\":{\"outlinewidth\":0,\"ticks\":\"\"}}],\"contour\":[{\"type\":\"contour\",\"colorbar\":{\"outlinewidth\":0,\"ticks\":\"\"},\"colorscale\":[[0.0,\"#0d0887\"],[0.1111111111111111,\"#46039f\"],[0.2222222222222222,\"#7201a8\"],[0.3333333333333333,\"#9c179e\"],[0.4444444444444444,\"#bd3786\"],[0.5555555555555556,\"#d8576b\"],[0.6666666666666666,\"#ed7953\"],[0.7777777777777778,\"#fb9f3a\"],[0.8888888888888888,\"#fdca26\"],[1.0,\"#f0f921\"]]}],\"surface\":[{\"type\":\"surface\",\"colorbar\":{\"outlinewidth\":0,\"ticks\":\"\"},\"colorscale\":[[0.0,\"#0d0887\"],[0.1111111111111111,\"#46039f\"],[0.2222222222222222,\"#7201a8\"],[0.3333333333333333,\"#9c179e\"],[0.4444444444444444,\"#bd3786\"],[0.5555555555555556,\"#d8576b\"],[0.6666666666666666,\"#ed7953\"],[0.7777777777777778,\"#fb9f3a\"],[0.8888888888888888,\"#fdca26\"],[1.0,\"#f0f921\"]]}],\"mesh3d\":[{\"type\":\"mesh3d\",\"colorbar\":{\"outlinewidth\":0,\"ticks\":\"\"}}],\"scatter\":[{\"fillpattern\":{\"fillmode\":\"overlay\",\"size\":10,\"solidity\":0.2},\"type\":\"scatter\"}],\"parcoords\":[{\"type\":\"parcoords\",\"line\":{\"colorbar\":{\"outlinewidth\":0,\"ticks\":\"\"}}}],\"scatterpolargl\":[{\"type\":\"scatterpolargl\",\"marker\":{\"colorbar\":{\"outlinewidth\":0,\"ticks\":\"\"}}}],\"bar\":[{\"error_x\":{\"color\":\"#2a3f5f\"},\"error_y\":{\"color\":\"#2a3f5f\"},\"marker\":{\"line\":{\"color\":\"#E5ECF6\",\"width\":0.5},\"pattern\":{\"fillmode\":\"overlay\",\"size\":10,\"solidity\":0.2}},\"type\":\"bar\"}],\"scattergeo\":[{\"type\":\"scattergeo\",\"marker\":{\"colorbar\":{\"outlinewidth\":0,\"ticks\":\"\"}}}],\"scatterpolar\":[{\"type\":\"scatterpolar\",\"marker\":{\"colorbar\":{\"outlinewidth\":0,\"ticks\":\"\"}}}],\"histogram\":[{\"marker\":{\"pattern\":{\"fillmode\":\"overlay\",\"size\":10,\"solidity\":0.2}},\"type\":\"histogram\"}],\"scattergl\":[{\"type\":\"scattergl\",\"marker\":{\"colorbar\":{\"outlinewidth\":0,\"ticks\":\"\"}}}],\"scatter3d\":[{\"type\":\"scatter3d\",\"line\":{\"colorbar\":{\"outlinewidth\":0,\"ticks\":\"\"}},\"marker\":{\"colorbar\":{\"outlinewidth\":0,\"ticks\":\"\"}}}],\"scattermapbox\":[{\"type\":\"scattermapbox\",\"marker\":{\"colorbar\":{\"outlinewidth\":0,\"ticks\":\"\"}}}],\"scatterternary\":[{\"type\":\"scatterternary\",\"marker\":{\"colorbar\":{\"outlinewidth\":0,\"ticks\":\"\"}}}],\"scattercarpet\":[{\"type\":\"scattercarpet\",\"marker\":{\"colorbar\":{\"outlinewidth\":0,\"ticks\":\"\"}}}],\"carpet\":[{\"aaxis\":{\"endlinecolor\":\"#2a3f5f\",\"gridcolor\":\"white\",\"linecolor\":\"white\",\"minorgridcolor\":\"white\",\"startlinecolor\":\"#2a3f5f\"},\"baxis\":{\"endlinecolor\":\"#2a3f5f\",\"gridcolor\":\"white\",\"linecolor\":\"white\",\"minorgridcolor\":\"white\",\"startlinecolor\":\"#2a3f5f\"},\"type\":\"carpet\"}],\"table\":[{\"cells\":{\"fill\":{\"color\":\"#EBF0F8\"},\"line\":{\"color\":\"white\"}},\"header\":{\"fill\":{\"color\":\"#C8D4E3\"},\"line\":{\"color\":\"white\"}},\"type\":\"table\"}],\"barpolar\":[{\"marker\":{\"line\":{\"color\":\"#E5ECF6\",\"width\":0.5},\"pattern\":{\"fillmode\":\"overlay\",\"size\":10,\"solidity\":0.2}},\"type\":\"barpolar\"}],\"pie\":[{\"automargin\":true,\"type\":\"pie\"}]},\"layout\":{\"autotypenumbers\":\"strict\",\"colorway\":[\"#636efa\",\"#EF553B\",\"#00cc96\",\"#ab63fa\",\"#FFA15A\",\"#19d3f3\",\"#FF6692\",\"#B6E880\",\"#FF97FF\",\"#FECB52\"],\"font\":{\"color\":\"#2a3f5f\"},\"hovermode\":\"closest\",\"hoverlabel\":{\"align\":\"left\"},\"paper_bgcolor\":\"white\",\"plot_bgcolor\":\"#E5ECF6\",\"polar\":{\"bgcolor\":\"#E5ECF6\",\"angularaxis\":{\"gridcolor\":\"white\",\"linecolor\":\"white\",\"ticks\":\"\"},\"radialaxis\":{\"gridcolor\":\"white\",\"linecolor\":\"white\",\"ticks\":\"\"}},\"ternary\":{\"bgcolor\":\"#E5ECF6\",\"aaxis\":{\"gridcolor\":\"white\",\"linecolor\":\"white\",\"ticks\":\"\"},\"baxis\":{\"gridcolor\":\"white\",\"linecolor\":\"white\",\"ticks\":\"\"},\"caxis\":{\"gridcolor\":\"white\",\"linecolor\":\"white\",\"ticks\":\"\"}},\"coloraxis\":{\"colorbar\":{\"outlinewidth\":0,\"ticks\":\"\"}},\"colorscale\":{\"sequential\":[[0.0,\"#0d0887\"],[0.1111111111111111,\"#46039f\"],[0.2222222222222222,\"#7201a8\"],[0.3333333333333333,\"#9c179e\"],[0.4444444444444444,\"#bd3786\"],[0.5555555555555556,\"#d8576b\"],[0.6666666666666666,\"#ed7953\"],[0.7777777777777778,\"#fb9f3a\"],[0.8888888888888888,\"#fdca26\"],[1.0,\"#f0f921\"]],\"sequentialminus\":[[0.0,\"#0d0887\"],[0.1111111111111111,\"#46039f\"],[0.2222222222222222,\"#7201a8\"],[0.3333333333333333,\"#9c179e\"],[0.4444444444444444,\"#bd3786\"],[0.5555555555555556,\"#d8576b\"],[0.6666666666666666,\"#ed7953\"],[0.7777777777777778,\"#fb9f3a\"],[0.8888888888888888,\"#fdca26\"],[1.0,\"#f0f921\"]],\"diverging\":[[0,\"#8e0152\"],[0.1,\"#c51b7d\"],[0.2,\"#de77ae\"],[0.3,\"#f1b6da\"],[0.4,\"#fde0ef\"],[0.5,\"#f7f7f7\"],[0.6,\"#e6f5d0\"],[0.7,\"#b8e186\"],[0.8,\"#7fbc41\"],[0.9,\"#4d9221\"],[1,\"#276419\"]]},\"xaxis\":{\"gridcolor\":\"white\",\"linecolor\":\"white\",\"ticks\":\"\",\"title\":{\"standoff\":15},\"zerolinecolor\":\"white\",\"automargin\":true,\"zerolinewidth\":2},\"yaxis\":{\"gridcolor\":\"white\",\"linecolor\":\"white\",\"ticks\":\"\",\"title\":{\"standoff\":15},\"zerolinecolor\":\"white\",\"automargin\":true,\"zerolinewidth\":2},\"scene\":{\"xaxis\":{\"backgroundcolor\":\"#E5ECF6\",\"gridcolor\":\"white\",\"linecolor\":\"white\",\"showbackground\":true,\"ticks\":\"\",\"zerolinecolor\":\"white\",\"gridwidth\":2},\"yaxis\":{\"backgroundcolor\":\"#E5ECF6\",\"gridcolor\":\"white\",\"linecolor\":\"white\",\"showbackground\":true,\"ticks\":\"\",\"zerolinecolor\":\"white\",\"gridwidth\":2},\"zaxis\":{\"backgroundcolor\":\"#E5ECF6\",\"gridcolor\":\"white\",\"linecolor\":\"white\",\"showbackground\":true,\"ticks\":\"\",\"zerolinecolor\":\"white\",\"gridwidth\":2}},\"shapedefaults\":{\"line\":{\"color\":\"#2a3f5f\"}},\"annotationdefaults\":{\"arrowcolor\":\"#2a3f5f\",\"arrowhead\":0,\"arrowwidth\":1},\"geo\":{\"bgcolor\":\"white\",\"landcolor\":\"#E5ECF6\",\"subunitcolor\":\"white\",\"showland\":true,\"showlakes\":true,\"lakecolor\":\"white\"},\"title\":{\"x\":0.05},\"mapbox\":{\"style\":\"light\"}}},\"xaxis\":{\"anchor\":\"y\",\"domain\":[0.0,1.0],\"title\":{\"text\":\"Weekday\"}},\"yaxis\":{\"anchor\":\"x\",\"domain\":[0.0,1.0],\"title\":{\"text\":\"Total Sales\"}},\"legend\":{\"tracegroupgap\":0},\"title\":{\"text\":\"Total Sales by Weekday (All Years)\"},\"barmode\":\"relative\"},                        {\"responsive\": true}                    ).then(function(){\n",
              "                            \n",
              "var gd = document.getElementById('22a15178-2cd2-4e08-b26c-ad3a9293bb72');\n",
              "var x = new MutationObserver(function (mutations, observer) {{\n",
              "        var display = window.getComputedStyle(gd).display;\n",
              "        if (!display || display === 'none') {{\n",
              "            console.log([gd, 'removed!']);\n",
              "            Plotly.purge(gd);\n",
              "            observer.disconnect();\n",
              "        }}\n",
              "}});\n",
              "\n",
              "// Listen for the removal of the full notebook cells\n",
              "var notebookContainer = gd.closest('#notebook-container');\n",
              "if (notebookContainer) {{\n",
              "    x.observe(notebookContainer, {childList: true});\n",
              "}}\n",
              "\n",
              "// Listen for the clearing of the current output cell\n",
              "var outputEl = gd.closest('.output');\n",
              "if (outputEl) {{\n",
              "    x.observe(outputEl, {childList: true});\n",
              "}}\n",
              "\n",
              "                        })                };                            </script>        </div>\n",
              "</body>\n",
              "</html>"
            ]
          },
          "metadata": {}
        }
      ],
      "source": [
        "# 1. Group by Weekdaysort for all data\n",
        "# Starting from Monday, since the dataset considers Monday as the first day of the week.\n",
        "sort_keys, inv_weekdays = np.unique(weekday_sort, return_inverse=True)\n",
        "print(sort_keys, inv_weekdays)\n",
        "total_sales_by_sort = np.zeros(sort_keys.shape[0], dtype=float)\n",
        "for i, amt in enumerate(money):\n",
        "    total_sales_by_sort[inv_weekdays[i]] += amt\n",
        "\n",
        "# 2. pick a representative weekday label for each sort key (first occurrence)\n",
        "labels_by_sort = np.array([weekday_str[weekday_sort == k][0] for k in sort_keys])\n",
        "print(\"days sorted: \", labels_by_sort)\n",
        "print(\"total sales sorted from the max till min: \", total_sales_by_sort)\n",
        "\n",
        "# 3. finding the result\n",
        "max_idx = int(np.argmax(total_sales_by_sort))\n",
        "day_with_most_sales = labels_by_sort[max_idx]\n",
        "total_on_that_day = float(total_sales_by_sort[max_idx])\n",
        "\n",
        "print(\"Day with most total sales:\", day_with_most_sales)\n",
        "print(\"Total sales on that day:\", round(total_on_that_day, 2))\n",
        "\n",
        "# Visualization Using Plotly\n",
        "fig = px.bar(\n",
        "    x=labels_by_sort,\n",
        "    y=total_sales_by_sort,\n",
        "    labels={\"x\": \"Weekday\", \"y\": \"Total Sales\"},\n",
        "    title=\"Total Sales by Weekday (All Years)\"\n",
        ")\n",
        "fig.update_layout(xaxis_title=\"Weekday\", yaxis_title=\"Total Sales\")\n",
        "fig.show()\n",
        "\n",
        "\n",
        "\n"
      ]
    },
    {
      "cell_type": "markdown",
      "id": "a3bf8591",
      "metadata": {
        "id": "a3bf8591"
      },
      "source": [
        "### 2- What is the most popular coffee type by number of orders?\n",
        "\n"
      ]
    },
    {
      "cell_type": "code",
      "execution_count": 12,
      "id": "d0d04a87",
      "metadata": {
        "colab": {
          "base_uri": "https://localhost:8080/",
          "height": 716
        },
        "id": "d0d04a87",
        "outputId": "ed472f7d-f3c5-4206-bd09-4d387fe6c6aa"
      },
      "outputs": [
        {
          "output_type": "stream",
          "name": "stdout",
          "text": [
            "Most popular coffee: Americano with Milk\n",
            "Number of orders: 809\n",
            "Americano with Milk: 809\n",
            "Latte: 757\n",
            "Americano: 564\n",
            "Cappuccino: 486\n",
            "Cortado: 287\n",
            "Hot Chocolate: 276\n",
            "Cocoa: 239\n",
            "Espresso: 129\n"
          ]
        },
        {
          "output_type": "display_data",
          "data": {
            "text/html": [
              "<html>\n",
              "<head><meta charset=\"utf-8\" /></head>\n",
              "<body>\n",
              "    <div>            <script src=\"https://cdnjs.cloudflare.com/ajax/libs/mathjax/2.7.5/MathJax.js?config=TeX-AMS-MML_SVG\"></script><script type=\"text/javascript\">if (window.MathJax && window.MathJax.Hub && window.MathJax.Hub.Config) {window.MathJax.Hub.Config({SVG: {font: \"STIX-Web\"}});}</script>                <script type=\"text/javascript\">window.PlotlyConfig = {MathJaxConfig: 'local'};</script>\n",
              "        <script charset=\"utf-8\" src=\"https://cdn.plot.ly/plotly-2.35.2.min.js\"></script>                <div id=\"73db9b26-4f4c-4edc-bc07-ba362a5063a8\" class=\"plotly-graph-div\" style=\"height:525px; width:100%;\"></div>            <script type=\"text/javascript\">                                    window.PLOTLYENV=window.PLOTLYENV || {};                                    if (document.getElementById(\"73db9b26-4f4c-4edc-bc07-ba362a5063a8\")) {                    Plotly.newPlot(                        \"73db9b26-4f4c-4edc-bc07-ba362a5063a8\",                        [{\"alignmentgroup\":\"True\",\"hovertemplate\":\"Coffee Type=%{x}\\u003cbr\\u003eNumber of Orders=%{y}\\u003cextra\\u003e\\u003c\\u002fextra\\u003e\",\"legendgroup\":\"\",\"marker\":{\"color\":\"#636efa\",\"pattern\":{\"shape\":\"\"}},\"name\":\"\",\"offsetgroup\":\"\",\"orientation\":\"v\",\"showlegend\":false,\"textposition\":\"auto\",\"x\":[\"Americano with Milk\",\"Latte\",\"Americano\",\"Cappuccino\",\"Cortado\",\"Hot Chocolate\",\"Cocoa\",\"Espresso\"],\"xaxis\":\"x\",\"y\":[809,757,564,486,287,276,239,129],\"yaxis\":\"y\",\"type\":\"bar\"}],                        {\"template\":{\"data\":{\"histogram2dcontour\":[{\"type\":\"histogram2dcontour\",\"colorbar\":{\"outlinewidth\":0,\"ticks\":\"\"},\"colorscale\":[[0.0,\"#0d0887\"],[0.1111111111111111,\"#46039f\"],[0.2222222222222222,\"#7201a8\"],[0.3333333333333333,\"#9c179e\"],[0.4444444444444444,\"#bd3786\"],[0.5555555555555556,\"#d8576b\"],[0.6666666666666666,\"#ed7953\"],[0.7777777777777778,\"#fb9f3a\"],[0.8888888888888888,\"#fdca26\"],[1.0,\"#f0f921\"]]}],\"choropleth\":[{\"type\":\"choropleth\",\"colorbar\":{\"outlinewidth\":0,\"ticks\":\"\"}}],\"histogram2d\":[{\"type\":\"histogram2d\",\"colorbar\":{\"outlinewidth\":0,\"ticks\":\"\"},\"colorscale\":[[0.0,\"#0d0887\"],[0.1111111111111111,\"#46039f\"],[0.2222222222222222,\"#7201a8\"],[0.3333333333333333,\"#9c179e\"],[0.4444444444444444,\"#bd3786\"],[0.5555555555555556,\"#d8576b\"],[0.6666666666666666,\"#ed7953\"],[0.7777777777777778,\"#fb9f3a\"],[0.8888888888888888,\"#fdca26\"],[1.0,\"#f0f921\"]]}],\"heatmap\":[{\"type\":\"heatmap\",\"colorbar\":{\"outlinewidth\":0,\"ticks\":\"\"},\"colorscale\":[[0.0,\"#0d0887\"],[0.1111111111111111,\"#46039f\"],[0.2222222222222222,\"#7201a8\"],[0.3333333333333333,\"#9c179e\"],[0.4444444444444444,\"#bd3786\"],[0.5555555555555556,\"#d8576b\"],[0.6666666666666666,\"#ed7953\"],[0.7777777777777778,\"#fb9f3a\"],[0.8888888888888888,\"#fdca26\"],[1.0,\"#f0f921\"]]}],\"heatmapgl\":[{\"type\":\"heatmapgl\",\"colorbar\":{\"outlinewidth\":0,\"ticks\":\"\"},\"colorscale\":[[0.0,\"#0d0887\"],[0.1111111111111111,\"#46039f\"],[0.2222222222222222,\"#7201a8\"],[0.3333333333333333,\"#9c179e\"],[0.4444444444444444,\"#bd3786\"],[0.5555555555555556,\"#d8576b\"],[0.6666666666666666,\"#ed7953\"],[0.7777777777777778,\"#fb9f3a\"],[0.8888888888888888,\"#fdca26\"],[1.0,\"#f0f921\"]]}],\"contourcarpet\":[{\"type\":\"contourcarpet\",\"colorbar\":{\"outlinewidth\":0,\"ticks\":\"\"}}],\"contour\":[{\"type\":\"contour\",\"colorbar\":{\"outlinewidth\":0,\"ticks\":\"\"},\"colorscale\":[[0.0,\"#0d0887\"],[0.1111111111111111,\"#46039f\"],[0.2222222222222222,\"#7201a8\"],[0.3333333333333333,\"#9c179e\"],[0.4444444444444444,\"#bd3786\"],[0.5555555555555556,\"#d8576b\"],[0.6666666666666666,\"#ed7953\"],[0.7777777777777778,\"#fb9f3a\"],[0.8888888888888888,\"#fdca26\"],[1.0,\"#f0f921\"]]}],\"surface\":[{\"type\":\"surface\",\"colorbar\":{\"outlinewidth\":0,\"ticks\":\"\"},\"colorscale\":[[0.0,\"#0d0887\"],[0.1111111111111111,\"#46039f\"],[0.2222222222222222,\"#7201a8\"],[0.3333333333333333,\"#9c179e\"],[0.4444444444444444,\"#bd3786\"],[0.5555555555555556,\"#d8576b\"],[0.6666666666666666,\"#ed7953\"],[0.7777777777777778,\"#fb9f3a\"],[0.8888888888888888,\"#fdca26\"],[1.0,\"#f0f921\"]]}],\"mesh3d\":[{\"type\":\"mesh3d\",\"colorbar\":{\"outlinewidth\":0,\"ticks\":\"\"}}],\"scatter\":[{\"fillpattern\":{\"fillmode\":\"overlay\",\"size\":10,\"solidity\":0.2},\"type\":\"scatter\"}],\"parcoords\":[{\"type\":\"parcoords\",\"line\":{\"colorbar\":{\"outlinewidth\":0,\"ticks\":\"\"}}}],\"scatterpolargl\":[{\"type\":\"scatterpolargl\",\"marker\":{\"colorbar\":{\"outlinewidth\":0,\"ticks\":\"\"}}}],\"bar\":[{\"error_x\":{\"color\":\"#2a3f5f\"},\"error_y\":{\"color\":\"#2a3f5f\"},\"marker\":{\"line\":{\"color\":\"#E5ECF6\",\"width\":0.5},\"pattern\":{\"fillmode\":\"overlay\",\"size\":10,\"solidity\":0.2}},\"type\":\"bar\"}],\"scattergeo\":[{\"type\":\"scattergeo\",\"marker\":{\"colorbar\":{\"outlinewidth\":0,\"ticks\":\"\"}}}],\"scatterpolar\":[{\"type\":\"scatterpolar\",\"marker\":{\"colorbar\":{\"outlinewidth\":0,\"ticks\":\"\"}}}],\"histogram\":[{\"marker\":{\"pattern\":{\"fillmode\":\"overlay\",\"size\":10,\"solidity\":0.2}},\"type\":\"histogram\"}],\"scattergl\":[{\"type\":\"scattergl\",\"marker\":{\"colorbar\":{\"outlinewidth\":0,\"ticks\":\"\"}}}],\"scatter3d\":[{\"type\":\"scatter3d\",\"line\":{\"colorbar\":{\"outlinewidth\":0,\"ticks\":\"\"}},\"marker\":{\"colorbar\":{\"outlinewidth\":0,\"ticks\":\"\"}}}],\"scattermapbox\":[{\"type\":\"scattermapbox\",\"marker\":{\"colorbar\":{\"outlinewidth\":0,\"ticks\":\"\"}}}],\"scatterternary\":[{\"type\":\"scatterternary\",\"marker\":{\"colorbar\":{\"outlinewidth\":0,\"ticks\":\"\"}}}],\"scattercarpet\":[{\"type\":\"scattercarpet\",\"marker\":{\"colorbar\":{\"outlinewidth\":0,\"ticks\":\"\"}}}],\"carpet\":[{\"aaxis\":{\"endlinecolor\":\"#2a3f5f\",\"gridcolor\":\"white\",\"linecolor\":\"white\",\"minorgridcolor\":\"white\",\"startlinecolor\":\"#2a3f5f\"},\"baxis\":{\"endlinecolor\":\"#2a3f5f\",\"gridcolor\":\"white\",\"linecolor\":\"white\",\"minorgridcolor\":\"white\",\"startlinecolor\":\"#2a3f5f\"},\"type\":\"carpet\"}],\"table\":[{\"cells\":{\"fill\":{\"color\":\"#EBF0F8\"},\"line\":{\"color\":\"white\"}},\"header\":{\"fill\":{\"color\":\"#C8D4E3\"},\"line\":{\"color\":\"white\"}},\"type\":\"table\"}],\"barpolar\":[{\"marker\":{\"line\":{\"color\":\"#E5ECF6\",\"width\":0.5},\"pattern\":{\"fillmode\":\"overlay\",\"size\":10,\"solidity\":0.2}},\"type\":\"barpolar\"}],\"pie\":[{\"automargin\":true,\"type\":\"pie\"}]},\"layout\":{\"autotypenumbers\":\"strict\",\"colorway\":[\"#636efa\",\"#EF553B\",\"#00cc96\",\"#ab63fa\",\"#FFA15A\",\"#19d3f3\",\"#FF6692\",\"#B6E880\",\"#FF97FF\",\"#FECB52\"],\"font\":{\"color\":\"#2a3f5f\"},\"hovermode\":\"closest\",\"hoverlabel\":{\"align\":\"left\"},\"paper_bgcolor\":\"white\",\"plot_bgcolor\":\"#E5ECF6\",\"polar\":{\"bgcolor\":\"#E5ECF6\",\"angularaxis\":{\"gridcolor\":\"white\",\"linecolor\":\"white\",\"ticks\":\"\"},\"radialaxis\":{\"gridcolor\":\"white\",\"linecolor\":\"white\",\"ticks\":\"\"}},\"ternary\":{\"bgcolor\":\"#E5ECF6\",\"aaxis\":{\"gridcolor\":\"white\",\"linecolor\":\"white\",\"ticks\":\"\"},\"baxis\":{\"gridcolor\":\"white\",\"linecolor\":\"white\",\"ticks\":\"\"},\"caxis\":{\"gridcolor\":\"white\",\"linecolor\":\"white\",\"ticks\":\"\"}},\"coloraxis\":{\"colorbar\":{\"outlinewidth\":0,\"ticks\":\"\"}},\"colorscale\":{\"sequential\":[[0.0,\"#0d0887\"],[0.1111111111111111,\"#46039f\"],[0.2222222222222222,\"#7201a8\"],[0.3333333333333333,\"#9c179e\"],[0.4444444444444444,\"#bd3786\"],[0.5555555555555556,\"#d8576b\"],[0.6666666666666666,\"#ed7953\"],[0.7777777777777778,\"#fb9f3a\"],[0.8888888888888888,\"#fdca26\"],[1.0,\"#f0f921\"]],\"sequentialminus\":[[0.0,\"#0d0887\"],[0.1111111111111111,\"#46039f\"],[0.2222222222222222,\"#7201a8\"],[0.3333333333333333,\"#9c179e\"],[0.4444444444444444,\"#bd3786\"],[0.5555555555555556,\"#d8576b\"],[0.6666666666666666,\"#ed7953\"],[0.7777777777777778,\"#fb9f3a\"],[0.8888888888888888,\"#fdca26\"],[1.0,\"#f0f921\"]],\"diverging\":[[0,\"#8e0152\"],[0.1,\"#c51b7d\"],[0.2,\"#de77ae\"],[0.3,\"#f1b6da\"],[0.4,\"#fde0ef\"],[0.5,\"#f7f7f7\"],[0.6,\"#e6f5d0\"],[0.7,\"#b8e186\"],[0.8,\"#7fbc41\"],[0.9,\"#4d9221\"],[1,\"#276419\"]]},\"xaxis\":{\"gridcolor\":\"white\",\"linecolor\":\"white\",\"ticks\":\"\",\"title\":{\"standoff\":15},\"zerolinecolor\":\"white\",\"automargin\":true,\"zerolinewidth\":2},\"yaxis\":{\"gridcolor\":\"white\",\"linecolor\":\"white\",\"ticks\":\"\",\"title\":{\"standoff\":15},\"zerolinecolor\":\"white\",\"automargin\":true,\"zerolinewidth\":2},\"scene\":{\"xaxis\":{\"backgroundcolor\":\"#E5ECF6\",\"gridcolor\":\"white\",\"linecolor\":\"white\",\"showbackground\":true,\"ticks\":\"\",\"zerolinecolor\":\"white\",\"gridwidth\":2},\"yaxis\":{\"backgroundcolor\":\"#E5ECF6\",\"gridcolor\":\"white\",\"linecolor\":\"white\",\"showbackground\":true,\"ticks\":\"\",\"zerolinecolor\":\"white\",\"gridwidth\":2},\"zaxis\":{\"backgroundcolor\":\"#E5ECF6\",\"gridcolor\":\"white\",\"linecolor\":\"white\",\"showbackground\":true,\"ticks\":\"\",\"zerolinecolor\":\"white\",\"gridwidth\":2}},\"shapedefaults\":{\"line\":{\"color\":\"#2a3f5f\"}},\"annotationdefaults\":{\"arrowcolor\":\"#2a3f5f\",\"arrowhead\":0,\"arrowwidth\":1},\"geo\":{\"bgcolor\":\"white\",\"landcolor\":\"#E5ECF6\",\"subunitcolor\":\"white\",\"showland\":true,\"showlakes\":true,\"lakecolor\":\"white\"},\"title\":{\"x\":0.05},\"mapbox\":{\"style\":\"light\"}}},\"xaxis\":{\"anchor\":\"y\",\"domain\":[0.0,1.0],\"title\":{\"text\":\"Coffee Type\"}},\"yaxis\":{\"anchor\":\"x\",\"domain\":[0.0,1.0],\"title\":{\"text\":\"Orders\"}},\"legend\":{\"tracegroupgap\":0},\"title\":{\"text\":\"Coffee Popularity (Order Count)\"},\"barmode\":\"relative\"},                        {\"responsive\": true}                    ).then(function(){\n",
              "                            \n",
              "var gd = document.getElementById('73db9b26-4f4c-4edc-bc07-ba362a5063a8');\n",
              "var x = new MutationObserver(function (mutations, observer) {{\n",
              "        var display = window.getComputedStyle(gd).display;\n",
              "        if (!display || display === 'none') {{\n",
              "            console.log([gd, 'removed!']);\n",
              "            Plotly.purge(gd);\n",
              "            observer.disconnect();\n",
              "        }}\n",
              "}});\n",
              "\n",
              "// Listen for the removal of the full notebook cells\n",
              "var notebookContainer = gd.closest('#notebook-container');\n",
              "if (notebookContainer) {{\n",
              "    x.observe(notebookContainer, {childList: true});\n",
              "}}\n",
              "\n",
              "// Listen for the clearing of the current output cell\n",
              "var outputEl = gd.closest('.output');\n",
              "if (outputEl) {{\n",
              "    x.observe(outputEl, {childList: true});\n",
              "}}\n",
              "\n",
              "                        })                };                            </script>        </div>\n",
              "</body>\n",
              "</html>"
            ]
          },
          "metadata": {}
        }
      ],
      "source": [
        "# 1. Declearing the variables\n",
        "fav_coffee, coffee_counts = np.unique(coffee, return_counts=True)\n",
        "# 2. Finding the most ordered coffe by name and count\n",
        "top_idx = int(np.argmax(coffee_counts))\n",
        "most_popular_coffee = fav_coffee[top_idx]\n",
        "most_popular_count  = int(coffee_counts[top_idx])\n",
        "\n",
        "print(\"Most popular coffee:\", most_popular_coffee)\n",
        "print(\"Number of orders:\", most_popular_count)\n",
        "\n",
        "# 2. Sorting to start with largest number (descending)\n",
        "order = np.argsort(coffee_counts)[::-1]\n",
        "coffee_sorted = fav_coffee[order]\n",
        "counts_sorted = coffee_counts[order]\n",
        "\n",
        "# 3. Use a loop to neatly display each coffee type with its order count\n",
        "for coffee, count in zip(coffee_sorted, counts_sorted):\n",
        "    print(f\"{coffee}: {count}\")\n",
        "\n",
        "\n",
        "# Visualization Using Plotly\n",
        "fig = px.bar(\n",
        "    x=coffee_sorted,\n",
        "    y=counts_sorted,\n",
        "    labels={\"x\": \"Coffee Type\", \"y\": \"Number of Orders\"},\n",
        "    title=\"Coffee Popularity (Order Count)\"\n",
        ")\n",
        "fig.update_layout(xaxis_title=\"Coffee Type\", yaxis_title=\"Orders\")\n",
        "fig.show()\n"
      ]
    },
    {
      "cell_type": "markdown",
      "id": "4d871ec7",
      "metadata": {
        "id": "4d871ec7"
      },
      "source": [
        "### 3- What is the average money spent in the morning vs afternoon vs evening?"
      ]
    },
    {
      "cell_type": "code",
      "execution_count": 13,
      "id": "95df57e8",
      "metadata": {
        "colab": {
          "base_uri": "https://localhost:8080/",
          "height": 611
        },
        "id": "95df57e8",
        "outputId": "252d2b43-08c1-4e96-d3c5-dc8ba218f178"
      },
      "outputs": [
        {
          "output_type": "stream",
          "name": "stdout",
          "text": [
            "Average spending by time of day:\n",
            "Morning: 30.42\n",
            "Afternoon: 31.64\n",
            "Night: 32.89\n"
          ]
        },
        {
          "output_type": "display_data",
          "data": {
            "text/html": [
              "<html>\n",
              "<head><meta charset=\"utf-8\" /></head>\n",
              "<body>\n",
              "    <div>            <script src=\"https://cdnjs.cloudflare.com/ajax/libs/mathjax/2.7.5/MathJax.js?config=TeX-AMS-MML_SVG\"></script><script type=\"text/javascript\">if (window.MathJax && window.MathJax.Hub && window.MathJax.Hub.Config) {window.MathJax.Hub.Config({SVG: {font: \"STIX-Web\"}});}</script>                <script type=\"text/javascript\">window.PlotlyConfig = {MathJaxConfig: 'local'};</script>\n",
              "        <script charset=\"utf-8\" src=\"https://cdn.plot.ly/plotly-2.35.2.min.js\"></script>                <div id=\"e5b304ea-29fe-4f8e-97a6-6cedd744f6b4\" class=\"plotly-graph-div\" style=\"height:525px; width:100%;\"></div>            <script type=\"text/javascript\">                                    window.PLOTLYENV=window.PLOTLYENV || {};                                    if (document.getElementById(\"e5b304ea-29fe-4f8e-97a6-6cedd744f6b4\")) {                    Plotly.newPlot(                        \"e5b304ea-29fe-4f8e-97a6-6cedd744f6b4\",                        [{\"alignmentgroup\":\"True\",\"hovertemplate\":\"Time of Day=%{x}\\u003cbr\\u003eAverage Money Spent=%{y}\\u003cextra\\u003e\\u003c\\u002fextra\\u003e\",\"legendgroup\":\"\",\"marker\":{\"color\":\"#636efa\",\"pattern\":{\"shape\":\"\"}},\"name\":\"\",\"offsetgroup\":\"\",\"orientation\":\"v\",\"showlegend\":false,\"textposition\":\"auto\",\"x\":[\"Morning\",\"Afternoon\",\"Night\"],\"xaxis\":\"x\",\"y\":[30.42269263336156,31.6431867219917,32.89090439276485],\"yaxis\":\"y\",\"type\":\"bar\"}],                        {\"template\":{\"data\":{\"histogram2dcontour\":[{\"type\":\"histogram2dcontour\",\"colorbar\":{\"outlinewidth\":0,\"ticks\":\"\"},\"colorscale\":[[0.0,\"#0d0887\"],[0.1111111111111111,\"#46039f\"],[0.2222222222222222,\"#7201a8\"],[0.3333333333333333,\"#9c179e\"],[0.4444444444444444,\"#bd3786\"],[0.5555555555555556,\"#d8576b\"],[0.6666666666666666,\"#ed7953\"],[0.7777777777777778,\"#fb9f3a\"],[0.8888888888888888,\"#fdca26\"],[1.0,\"#f0f921\"]]}],\"choropleth\":[{\"type\":\"choropleth\",\"colorbar\":{\"outlinewidth\":0,\"ticks\":\"\"}}],\"histogram2d\":[{\"type\":\"histogram2d\",\"colorbar\":{\"outlinewidth\":0,\"ticks\":\"\"},\"colorscale\":[[0.0,\"#0d0887\"],[0.1111111111111111,\"#46039f\"],[0.2222222222222222,\"#7201a8\"],[0.3333333333333333,\"#9c179e\"],[0.4444444444444444,\"#bd3786\"],[0.5555555555555556,\"#d8576b\"],[0.6666666666666666,\"#ed7953\"],[0.7777777777777778,\"#fb9f3a\"],[0.8888888888888888,\"#fdca26\"],[1.0,\"#f0f921\"]]}],\"heatmap\":[{\"type\":\"heatmap\",\"colorbar\":{\"outlinewidth\":0,\"ticks\":\"\"},\"colorscale\":[[0.0,\"#0d0887\"],[0.1111111111111111,\"#46039f\"],[0.2222222222222222,\"#7201a8\"],[0.3333333333333333,\"#9c179e\"],[0.4444444444444444,\"#bd3786\"],[0.5555555555555556,\"#d8576b\"],[0.6666666666666666,\"#ed7953\"],[0.7777777777777778,\"#fb9f3a\"],[0.8888888888888888,\"#fdca26\"],[1.0,\"#f0f921\"]]}],\"heatmapgl\":[{\"type\":\"heatmapgl\",\"colorbar\":{\"outlinewidth\":0,\"ticks\":\"\"},\"colorscale\":[[0.0,\"#0d0887\"],[0.1111111111111111,\"#46039f\"],[0.2222222222222222,\"#7201a8\"],[0.3333333333333333,\"#9c179e\"],[0.4444444444444444,\"#bd3786\"],[0.5555555555555556,\"#d8576b\"],[0.6666666666666666,\"#ed7953\"],[0.7777777777777778,\"#fb9f3a\"],[0.8888888888888888,\"#fdca26\"],[1.0,\"#f0f921\"]]}],\"contourcarpet\":[{\"type\":\"contourcarpet\",\"colorbar\":{\"outlinewidth\":0,\"ticks\":\"\"}}],\"contour\":[{\"type\":\"contour\",\"colorbar\":{\"outlinewidth\":0,\"ticks\":\"\"},\"colorscale\":[[0.0,\"#0d0887\"],[0.1111111111111111,\"#46039f\"],[0.2222222222222222,\"#7201a8\"],[0.3333333333333333,\"#9c179e\"],[0.4444444444444444,\"#bd3786\"],[0.5555555555555556,\"#d8576b\"],[0.6666666666666666,\"#ed7953\"],[0.7777777777777778,\"#fb9f3a\"],[0.8888888888888888,\"#fdca26\"],[1.0,\"#f0f921\"]]}],\"surface\":[{\"type\":\"surface\",\"colorbar\":{\"outlinewidth\":0,\"ticks\":\"\"},\"colorscale\":[[0.0,\"#0d0887\"],[0.1111111111111111,\"#46039f\"],[0.2222222222222222,\"#7201a8\"],[0.3333333333333333,\"#9c179e\"],[0.4444444444444444,\"#bd3786\"],[0.5555555555555556,\"#d8576b\"],[0.6666666666666666,\"#ed7953\"],[0.7777777777777778,\"#fb9f3a\"],[0.8888888888888888,\"#fdca26\"],[1.0,\"#f0f921\"]]}],\"mesh3d\":[{\"type\":\"mesh3d\",\"colorbar\":{\"outlinewidth\":0,\"ticks\":\"\"}}],\"scatter\":[{\"fillpattern\":{\"fillmode\":\"overlay\",\"size\":10,\"solidity\":0.2},\"type\":\"scatter\"}],\"parcoords\":[{\"type\":\"parcoords\",\"line\":{\"colorbar\":{\"outlinewidth\":0,\"ticks\":\"\"}}}],\"scatterpolargl\":[{\"type\":\"scatterpolargl\",\"marker\":{\"colorbar\":{\"outlinewidth\":0,\"ticks\":\"\"}}}],\"bar\":[{\"error_x\":{\"color\":\"#2a3f5f\"},\"error_y\":{\"color\":\"#2a3f5f\"},\"marker\":{\"line\":{\"color\":\"#E5ECF6\",\"width\":0.5},\"pattern\":{\"fillmode\":\"overlay\",\"size\":10,\"solidity\":0.2}},\"type\":\"bar\"}],\"scattergeo\":[{\"type\":\"scattergeo\",\"marker\":{\"colorbar\":{\"outlinewidth\":0,\"ticks\":\"\"}}}],\"scatterpolar\":[{\"type\":\"scatterpolar\",\"marker\":{\"colorbar\":{\"outlinewidth\":0,\"ticks\":\"\"}}}],\"histogram\":[{\"marker\":{\"pattern\":{\"fillmode\":\"overlay\",\"size\":10,\"solidity\":0.2}},\"type\":\"histogram\"}],\"scattergl\":[{\"type\":\"scattergl\",\"marker\":{\"colorbar\":{\"outlinewidth\":0,\"ticks\":\"\"}}}],\"scatter3d\":[{\"type\":\"scatter3d\",\"line\":{\"colorbar\":{\"outlinewidth\":0,\"ticks\":\"\"}},\"marker\":{\"colorbar\":{\"outlinewidth\":0,\"ticks\":\"\"}}}],\"scattermapbox\":[{\"type\":\"scattermapbox\",\"marker\":{\"colorbar\":{\"outlinewidth\":0,\"ticks\":\"\"}}}],\"scatterternary\":[{\"type\":\"scatterternary\",\"marker\":{\"colorbar\":{\"outlinewidth\":0,\"ticks\":\"\"}}}],\"scattercarpet\":[{\"type\":\"scattercarpet\",\"marker\":{\"colorbar\":{\"outlinewidth\":0,\"ticks\":\"\"}}}],\"carpet\":[{\"aaxis\":{\"endlinecolor\":\"#2a3f5f\",\"gridcolor\":\"white\",\"linecolor\":\"white\",\"minorgridcolor\":\"white\",\"startlinecolor\":\"#2a3f5f\"},\"baxis\":{\"endlinecolor\":\"#2a3f5f\",\"gridcolor\":\"white\",\"linecolor\":\"white\",\"minorgridcolor\":\"white\",\"startlinecolor\":\"#2a3f5f\"},\"type\":\"carpet\"}],\"table\":[{\"cells\":{\"fill\":{\"color\":\"#EBF0F8\"},\"line\":{\"color\":\"white\"}},\"header\":{\"fill\":{\"color\":\"#C8D4E3\"},\"line\":{\"color\":\"white\"}},\"type\":\"table\"}],\"barpolar\":[{\"marker\":{\"line\":{\"color\":\"#E5ECF6\",\"width\":0.5},\"pattern\":{\"fillmode\":\"overlay\",\"size\":10,\"solidity\":0.2}},\"type\":\"barpolar\"}],\"pie\":[{\"automargin\":true,\"type\":\"pie\"}]},\"layout\":{\"autotypenumbers\":\"strict\",\"colorway\":[\"#636efa\",\"#EF553B\",\"#00cc96\",\"#ab63fa\",\"#FFA15A\",\"#19d3f3\",\"#FF6692\",\"#B6E880\",\"#FF97FF\",\"#FECB52\"],\"font\":{\"color\":\"#2a3f5f\"},\"hovermode\":\"closest\",\"hoverlabel\":{\"align\":\"left\"},\"paper_bgcolor\":\"white\",\"plot_bgcolor\":\"#E5ECF6\",\"polar\":{\"bgcolor\":\"#E5ECF6\",\"angularaxis\":{\"gridcolor\":\"white\",\"linecolor\":\"white\",\"ticks\":\"\"},\"radialaxis\":{\"gridcolor\":\"white\",\"linecolor\":\"white\",\"ticks\":\"\"}},\"ternary\":{\"bgcolor\":\"#E5ECF6\",\"aaxis\":{\"gridcolor\":\"white\",\"linecolor\":\"white\",\"ticks\":\"\"},\"baxis\":{\"gridcolor\":\"white\",\"linecolor\":\"white\",\"ticks\":\"\"},\"caxis\":{\"gridcolor\":\"white\",\"linecolor\":\"white\",\"ticks\":\"\"}},\"coloraxis\":{\"colorbar\":{\"outlinewidth\":0,\"ticks\":\"\"}},\"colorscale\":{\"sequential\":[[0.0,\"#0d0887\"],[0.1111111111111111,\"#46039f\"],[0.2222222222222222,\"#7201a8\"],[0.3333333333333333,\"#9c179e\"],[0.4444444444444444,\"#bd3786\"],[0.5555555555555556,\"#d8576b\"],[0.6666666666666666,\"#ed7953\"],[0.7777777777777778,\"#fb9f3a\"],[0.8888888888888888,\"#fdca26\"],[1.0,\"#f0f921\"]],\"sequentialminus\":[[0.0,\"#0d0887\"],[0.1111111111111111,\"#46039f\"],[0.2222222222222222,\"#7201a8\"],[0.3333333333333333,\"#9c179e\"],[0.4444444444444444,\"#bd3786\"],[0.5555555555555556,\"#d8576b\"],[0.6666666666666666,\"#ed7953\"],[0.7777777777777778,\"#fb9f3a\"],[0.8888888888888888,\"#fdca26\"],[1.0,\"#f0f921\"]],\"diverging\":[[0,\"#8e0152\"],[0.1,\"#c51b7d\"],[0.2,\"#de77ae\"],[0.3,\"#f1b6da\"],[0.4,\"#fde0ef\"],[0.5,\"#f7f7f7\"],[0.6,\"#e6f5d0\"],[0.7,\"#b8e186\"],[0.8,\"#7fbc41\"],[0.9,\"#4d9221\"],[1,\"#276419\"]]},\"xaxis\":{\"gridcolor\":\"white\",\"linecolor\":\"white\",\"ticks\":\"\",\"title\":{\"standoff\":15},\"zerolinecolor\":\"white\",\"automargin\":true,\"zerolinewidth\":2},\"yaxis\":{\"gridcolor\":\"white\",\"linecolor\":\"white\",\"ticks\":\"\",\"title\":{\"standoff\":15},\"zerolinecolor\":\"white\",\"automargin\":true,\"zerolinewidth\":2},\"scene\":{\"xaxis\":{\"backgroundcolor\":\"#E5ECF6\",\"gridcolor\":\"white\",\"linecolor\":\"white\",\"showbackground\":true,\"ticks\":\"\",\"zerolinecolor\":\"white\",\"gridwidth\":2},\"yaxis\":{\"backgroundcolor\":\"#E5ECF6\",\"gridcolor\":\"white\",\"linecolor\":\"white\",\"showbackground\":true,\"ticks\":\"\",\"zerolinecolor\":\"white\",\"gridwidth\":2},\"zaxis\":{\"backgroundcolor\":\"#E5ECF6\",\"gridcolor\":\"white\",\"linecolor\":\"white\",\"showbackground\":true,\"ticks\":\"\",\"zerolinecolor\":\"white\",\"gridwidth\":2}},\"shapedefaults\":{\"line\":{\"color\":\"#2a3f5f\"}},\"annotationdefaults\":{\"arrowcolor\":\"#2a3f5f\",\"arrowhead\":0,\"arrowwidth\":1},\"geo\":{\"bgcolor\":\"white\",\"landcolor\":\"#E5ECF6\",\"subunitcolor\":\"white\",\"showland\":true,\"showlakes\":true,\"lakecolor\":\"white\"},\"title\":{\"x\":0.05},\"mapbox\":{\"style\":\"light\"}}},\"xaxis\":{\"anchor\":\"y\",\"domain\":[0.0,1.0],\"title\":{\"text\":\"Time of Day\"}},\"yaxis\":{\"anchor\":\"x\",\"domain\":[0.0,1.0],\"title\":{\"text\":\"Average Spend\"}},\"legend\":{\"tracegroupgap\":0},\"title\":{\"text\":\"Average Spending by Time of Day\"},\"barmode\":\"relative\"},                        {\"responsive\": true}                    ).then(function(){\n",
              "                            \n",
              "var gd = document.getElementById('e5b304ea-29fe-4f8e-97a6-6cedd744f6b4');\n",
              "var x = new MutationObserver(function (mutations, observer) {{\n",
              "        var display = window.getComputedStyle(gd).display;\n",
              "        if (!display || display === 'none') {{\n",
              "            console.log([gd, 'removed!']);\n",
              "            Plotly.purge(gd);\n",
              "            observer.disconnect();\n",
              "        }}\n",
              "}});\n",
              "\n",
              "// Listen for the removal of the full notebook cells\n",
              "var notebookContainer = gd.closest('#notebook-container');\n",
              "if (notebookContainer) {{\n",
              "    x.observe(notebookContainer, {childList: true});\n",
              "}}\n",
              "\n",
              "// Listen for the clearing of the current output cell\n",
              "var outputEl = gd.closest('.output');\n",
              "if (outputEl) {{\n",
              "    x.observe(outputEl, {childList: true});\n",
              "}}\n",
              "\n",
              "                        })                };                            </script>        </div>\n",
              "</body>\n",
              "</html>"
            ]
          },
          "metadata": {}
        }
      ],
      "source": [
        "# 1. Declaring the variables\n",
        "period_of_time = np.array([\"Morning\", \"Afternoon\", \"Night\"])\n",
        "\n",
        "# Get arrays directly from the DataFrame to keep them aligned\n",
        "time_of_day = df[\"Time_of_Day\"].values\n",
        "money = df[\"money\"].values\n",
        "present = np.unique(time_of_day)\n",
        "\n",
        "# 2. Finding the averages per period of the day\n",
        "ordered_times = np.array(\n",
        "    [t for t in period_of_time if t in present] + [t for t in present if t not in period_of_time],\n",
        "    dtype=object\n",
        ")\n",
        "\n",
        "avg_spend = np.zeros(len(ordered_times), dtype=float)\n",
        "for i, t in enumerate(ordered_times):\n",
        "    mask = (time_of_day == t)\n",
        "    avg_spend[i] = np.mean(money[mask]) if np.any(mask) else np.nan\n",
        "\n",
        "# Print results\n",
        "print(\"Average spending by time of day:\")\n",
        "for t, a in zip(ordered_times, avg_spend):\n",
        "    print(f\"{t}: {np.round(a, 2)}\")\n",
        "\n",
        "# Visualization Using Plotly\n",
        "fig = px.bar(\n",
        "    x=ordered_times,\n",
        "    y=avg_spend,\n",
        "    labels={\"x\": \"Time of Day\", \"y\": \"Average Money Spent\"},\n",
        "    title=\"Average Spending by Time of Day\"\n",
        ")\n",
        "fig.update_layout(xaxis_title=\"Time of Day\", yaxis_title=\"Average Spend\")\n",
        "fig.show()\n",
        "\n"
      ]
    },
    {
      "cell_type": "markdown",
      "id": "ce807459",
      "metadata": {
        "id": "ce807459"
      },
      "source": [
        "### 4-Are weekends vs weekdays different in average sales?"
      ]
    },
    {
      "cell_type": "code",
      "execution_count": 14,
      "id": "6183f696",
      "metadata": {
        "colab": {
          "base_uri": "https://localhost:8080/",
          "height": 611
        },
        "id": "6183f696",
        "outputId": "98214610-b8ca-4781-d03f-6e7a24981beb"
      },
      "outputs": [
        {
          "output_type": "stream",
          "name": "stdout",
          "text": [
            "\n",
            "=== Average Sales: Weekday vs Weekend ===\n",
            "Weekday: 31.69\n",
            "Weekend: 31.58\n"
          ]
        },
        {
          "output_type": "display_data",
          "data": {
            "text/html": [
              "<html>\n",
              "<head><meta charset=\"utf-8\" /></head>\n",
              "<body>\n",
              "    <div>            <script src=\"https://cdnjs.cloudflare.com/ajax/libs/mathjax/2.7.5/MathJax.js?config=TeX-AMS-MML_SVG\"></script><script type=\"text/javascript\">if (window.MathJax && window.MathJax.Hub && window.MathJax.Hub.Config) {window.MathJax.Hub.Config({SVG: {font: \"STIX-Web\"}});}</script>                <script type=\"text/javascript\">window.PlotlyConfig = {MathJaxConfig: 'local'};</script>\n",
              "        <script charset=\"utf-8\" src=\"https://cdn.plot.ly/plotly-2.35.2.min.js\"></script>                <div id=\"71d42152-1ef7-4e90-8aa9-7669c473667b\" class=\"plotly-graph-div\" style=\"height:525px; width:100%;\"></div>            <script type=\"text/javascript\">                                    window.PLOTLYENV=window.PLOTLYENV || {};                                    if (document.getElementById(\"71d42152-1ef7-4e90-8aa9-7669c473667b\")) {                    Plotly.newPlot(                        \"71d42152-1ef7-4e90-8aa9-7669c473667b\",                        [{\"customdata\":[[\"Weekday\"],[\"Weekend\"]],\"domain\":{\"x\":[0.0,1.0],\"y\":[0.0,1.0]},\"hovertemplate\":\"is_weekend=%{customdata[0]}\\u003cbr\\u003emoney=%{value}\\u003cextra\\u003e\\u003c\\u002fextra\\u003e\",\"labels\":[\"Weekday\",\"Weekend\"],\"legendgroup\":\"\",\"marker\":{\"colors\":[\"skyblue\",\"orange\"]},\"name\":\"\",\"showlegend\":true,\"values\":[31.690188146754465,31.577931034482756],\"type\":\"pie\",\"textinfo\":\"percent+label\",\"textposition\":\"inside\"}],                        {\"template\":{\"data\":{\"histogram2dcontour\":[{\"type\":\"histogram2dcontour\",\"colorbar\":{\"outlinewidth\":0,\"ticks\":\"\"},\"colorscale\":[[0.0,\"#0d0887\"],[0.1111111111111111,\"#46039f\"],[0.2222222222222222,\"#7201a8\"],[0.3333333333333333,\"#9c179e\"],[0.4444444444444444,\"#bd3786\"],[0.5555555555555556,\"#d8576b\"],[0.6666666666666666,\"#ed7953\"],[0.7777777777777778,\"#fb9f3a\"],[0.8888888888888888,\"#fdca26\"],[1.0,\"#f0f921\"]]}],\"choropleth\":[{\"type\":\"choropleth\",\"colorbar\":{\"outlinewidth\":0,\"ticks\":\"\"}}],\"histogram2d\":[{\"type\":\"histogram2d\",\"colorbar\":{\"outlinewidth\":0,\"ticks\":\"\"},\"colorscale\":[[0.0,\"#0d0887\"],[0.1111111111111111,\"#46039f\"],[0.2222222222222222,\"#7201a8\"],[0.3333333333333333,\"#9c179e\"],[0.4444444444444444,\"#bd3786\"],[0.5555555555555556,\"#d8576b\"],[0.6666666666666666,\"#ed7953\"],[0.7777777777777778,\"#fb9f3a\"],[0.8888888888888888,\"#fdca26\"],[1.0,\"#f0f921\"]]}],\"heatmap\":[{\"type\":\"heatmap\",\"colorbar\":{\"outlinewidth\":0,\"ticks\":\"\"},\"colorscale\":[[0.0,\"#0d0887\"],[0.1111111111111111,\"#46039f\"],[0.2222222222222222,\"#7201a8\"],[0.3333333333333333,\"#9c179e\"],[0.4444444444444444,\"#bd3786\"],[0.5555555555555556,\"#d8576b\"],[0.6666666666666666,\"#ed7953\"],[0.7777777777777778,\"#fb9f3a\"],[0.8888888888888888,\"#fdca26\"],[1.0,\"#f0f921\"]]}],\"heatmapgl\":[{\"type\":\"heatmapgl\",\"colorbar\":{\"outlinewidth\":0,\"ticks\":\"\"},\"colorscale\":[[0.0,\"#0d0887\"],[0.1111111111111111,\"#46039f\"],[0.2222222222222222,\"#7201a8\"],[0.3333333333333333,\"#9c179e\"],[0.4444444444444444,\"#bd3786\"],[0.5555555555555556,\"#d8576b\"],[0.6666666666666666,\"#ed7953\"],[0.7777777777777778,\"#fb9f3a\"],[0.8888888888888888,\"#fdca26\"],[1.0,\"#f0f921\"]]}],\"contourcarpet\":[{\"type\":\"contourcarpet\",\"colorbar\":{\"outlinewidth\":0,\"ticks\":\"\"}}],\"contour\":[{\"type\":\"contour\",\"colorbar\":{\"outlinewidth\":0,\"ticks\":\"\"},\"colorscale\":[[0.0,\"#0d0887\"],[0.1111111111111111,\"#46039f\"],[0.2222222222222222,\"#7201a8\"],[0.3333333333333333,\"#9c179e\"],[0.4444444444444444,\"#bd3786\"],[0.5555555555555556,\"#d8576b\"],[0.6666666666666666,\"#ed7953\"],[0.7777777777777778,\"#fb9f3a\"],[0.8888888888888888,\"#fdca26\"],[1.0,\"#f0f921\"]]}],\"surface\":[{\"type\":\"surface\",\"colorbar\":{\"outlinewidth\":0,\"ticks\":\"\"},\"colorscale\":[[0.0,\"#0d0887\"],[0.1111111111111111,\"#46039f\"],[0.2222222222222222,\"#7201a8\"],[0.3333333333333333,\"#9c179e\"],[0.4444444444444444,\"#bd3786\"],[0.5555555555555556,\"#d8576b\"],[0.6666666666666666,\"#ed7953\"],[0.7777777777777778,\"#fb9f3a\"],[0.8888888888888888,\"#fdca26\"],[1.0,\"#f0f921\"]]}],\"mesh3d\":[{\"type\":\"mesh3d\",\"colorbar\":{\"outlinewidth\":0,\"ticks\":\"\"}}],\"scatter\":[{\"fillpattern\":{\"fillmode\":\"overlay\",\"size\":10,\"solidity\":0.2},\"type\":\"scatter\"}],\"parcoords\":[{\"type\":\"parcoords\",\"line\":{\"colorbar\":{\"outlinewidth\":0,\"ticks\":\"\"}}}],\"scatterpolargl\":[{\"type\":\"scatterpolargl\",\"marker\":{\"colorbar\":{\"outlinewidth\":0,\"ticks\":\"\"}}}],\"bar\":[{\"error_x\":{\"color\":\"#2a3f5f\"},\"error_y\":{\"color\":\"#2a3f5f\"},\"marker\":{\"line\":{\"color\":\"#E5ECF6\",\"width\":0.5},\"pattern\":{\"fillmode\":\"overlay\",\"size\":10,\"solidity\":0.2}},\"type\":\"bar\"}],\"scattergeo\":[{\"type\":\"scattergeo\",\"marker\":{\"colorbar\":{\"outlinewidth\":0,\"ticks\":\"\"}}}],\"scatterpolar\":[{\"type\":\"scatterpolar\",\"marker\":{\"colorbar\":{\"outlinewidth\":0,\"ticks\":\"\"}}}],\"histogram\":[{\"marker\":{\"pattern\":{\"fillmode\":\"overlay\",\"size\":10,\"solidity\":0.2}},\"type\":\"histogram\"}],\"scattergl\":[{\"type\":\"scattergl\",\"marker\":{\"colorbar\":{\"outlinewidth\":0,\"ticks\":\"\"}}}],\"scatter3d\":[{\"type\":\"scatter3d\",\"line\":{\"colorbar\":{\"outlinewidth\":0,\"ticks\":\"\"}},\"marker\":{\"colorbar\":{\"outlinewidth\":0,\"ticks\":\"\"}}}],\"scattermapbox\":[{\"type\":\"scattermapbox\",\"marker\":{\"colorbar\":{\"outlinewidth\":0,\"ticks\":\"\"}}}],\"scatterternary\":[{\"type\":\"scatterternary\",\"marker\":{\"colorbar\":{\"outlinewidth\":0,\"ticks\":\"\"}}}],\"scattercarpet\":[{\"type\":\"scattercarpet\",\"marker\":{\"colorbar\":{\"outlinewidth\":0,\"ticks\":\"\"}}}],\"carpet\":[{\"aaxis\":{\"endlinecolor\":\"#2a3f5f\",\"gridcolor\":\"white\",\"linecolor\":\"white\",\"minorgridcolor\":\"white\",\"startlinecolor\":\"#2a3f5f\"},\"baxis\":{\"endlinecolor\":\"#2a3f5f\",\"gridcolor\":\"white\",\"linecolor\":\"white\",\"minorgridcolor\":\"white\",\"startlinecolor\":\"#2a3f5f\"},\"type\":\"carpet\"}],\"table\":[{\"cells\":{\"fill\":{\"color\":\"#EBF0F8\"},\"line\":{\"color\":\"white\"}},\"header\":{\"fill\":{\"color\":\"#C8D4E3\"},\"line\":{\"color\":\"white\"}},\"type\":\"table\"}],\"barpolar\":[{\"marker\":{\"line\":{\"color\":\"#E5ECF6\",\"width\":0.5},\"pattern\":{\"fillmode\":\"overlay\",\"size\":10,\"solidity\":0.2}},\"type\":\"barpolar\"}],\"pie\":[{\"automargin\":true,\"type\":\"pie\"}]},\"layout\":{\"autotypenumbers\":\"strict\",\"colorway\":[\"#636efa\",\"#EF553B\",\"#00cc96\",\"#ab63fa\",\"#FFA15A\",\"#19d3f3\",\"#FF6692\",\"#B6E880\",\"#FF97FF\",\"#FECB52\"],\"font\":{\"color\":\"#2a3f5f\"},\"hovermode\":\"closest\",\"hoverlabel\":{\"align\":\"left\"},\"paper_bgcolor\":\"white\",\"plot_bgcolor\":\"#E5ECF6\",\"polar\":{\"bgcolor\":\"#E5ECF6\",\"angularaxis\":{\"gridcolor\":\"white\",\"linecolor\":\"white\",\"ticks\":\"\"},\"radialaxis\":{\"gridcolor\":\"white\",\"linecolor\":\"white\",\"ticks\":\"\"}},\"ternary\":{\"bgcolor\":\"#E5ECF6\",\"aaxis\":{\"gridcolor\":\"white\",\"linecolor\":\"white\",\"ticks\":\"\"},\"baxis\":{\"gridcolor\":\"white\",\"linecolor\":\"white\",\"ticks\":\"\"},\"caxis\":{\"gridcolor\":\"white\",\"linecolor\":\"white\",\"ticks\":\"\"}},\"coloraxis\":{\"colorbar\":{\"outlinewidth\":0,\"ticks\":\"\"}},\"colorscale\":{\"sequential\":[[0.0,\"#0d0887\"],[0.1111111111111111,\"#46039f\"],[0.2222222222222222,\"#7201a8\"],[0.3333333333333333,\"#9c179e\"],[0.4444444444444444,\"#bd3786\"],[0.5555555555555556,\"#d8576b\"],[0.6666666666666666,\"#ed7953\"],[0.7777777777777778,\"#fb9f3a\"],[0.8888888888888888,\"#fdca26\"],[1.0,\"#f0f921\"]],\"sequentialminus\":[[0.0,\"#0d0887\"],[0.1111111111111111,\"#46039f\"],[0.2222222222222222,\"#7201a8\"],[0.3333333333333333,\"#9c179e\"],[0.4444444444444444,\"#bd3786\"],[0.5555555555555556,\"#d8576b\"],[0.6666666666666666,\"#ed7953\"],[0.7777777777777778,\"#fb9f3a\"],[0.8888888888888888,\"#fdca26\"],[1.0,\"#f0f921\"]],\"diverging\":[[0,\"#8e0152\"],[0.1,\"#c51b7d\"],[0.2,\"#de77ae\"],[0.3,\"#f1b6da\"],[0.4,\"#fde0ef\"],[0.5,\"#f7f7f7\"],[0.6,\"#e6f5d0\"],[0.7,\"#b8e186\"],[0.8,\"#7fbc41\"],[0.9,\"#4d9221\"],[1,\"#276419\"]]},\"xaxis\":{\"gridcolor\":\"white\",\"linecolor\":\"white\",\"ticks\":\"\",\"title\":{\"standoff\":15},\"zerolinecolor\":\"white\",\"automargin\":true,\"zerolinewidth\":2},\"yaxis\":{\"gridcolor\":\"white\",\"linecolor\":\"white\",\"ticks\":\"\",\"title\":{\"standoff\":15},\"zerolinecolor\":\"white\",\"automargin\":true,\"zerolinewidth\":2},\"scene\":{\"xaxis\":{\"backgroundcolor\":\"#E5ECF6\",\"gridcolor\":\"white\",\"linecolor\":\"white\",\"showbackground\":true,\"ticks\":\"\",\"zerolinecolor\":\"white\",\"gridwidth\":2},\"yaxis\":{\"backgroundcolor\":\"#E5ECF6\",\"gridcolor\":\"white\",\"linecolor\":\"white\",\"showbackground\":true,\"ticks\":\"\",\"zerolinecolor\":\"white\",\"gridwidth\":2},\"zaxis\":{\"backgroundcolor\":\"#E5ECF6\",\"gridcolor\":\"white\",\"linecolor\":\"white\",\"showbackground\":true,\"ticks\":\"\",\"zerolinecolor\":\"white\",\"gridwidth\":2}},\"shapedefaults\":{\"line\":{\"color\":\"#2a3f5f\"}},\"annotationdefaults\":{\"arrowcolor\":\"#2a3f5f\",\"arrowhead\":0,\"arrowwidth\":1},\"geo\":{\"bgcolor\":\"white\",\"landcolor\":\"#E5ECF6\",\"subunitcolor\":\"white\",\"showland\":true,\"showlakes\":true,\"lakecolor\":\"white\"},\"title\":{\"x\":0.05},\"mapbox\":{\"style\":\"light\"}}},\"legend\":{\"tracegroupgap\":0},\"title\":{\"text\":\"Average Sales: Weekdays vs Weekends\"}},                        {\"responsive\": true}                    ).then(function(){\n",
              "                            \n",
              "var gd = document.getElementById('71d42152-1ef7-4e90-8aa9-7669c473667b');\n",
              "var x = new MutationObserver(function (mutations, observer) {{\n",
              "        var display = window.getComputedStyle(gd).display;\n",
              "        if (!display || display === 'none') {{\n",
              "            console.log([gd, 'removed!']);\n",
              "            Plotly.purge(gd);\n",
              "            observer.disconnect();\n",
              "        }}\n",
              "}});\n",
              "\n",
              "// Listen for the removal of the full notebook cells\n",
              "var notebookContainer = gd.closest('#notebook-container');\n",
              "if (notebookContainer) {{\n",
              "    x.observe(notebookContainer, {childList: true});\n",
              "}}\n",
              "\n",
              "// Listen for the clearing of the current output cell\n",
              "var outputEl = gd.closest('.output');\n",
              "if (outputEl) {{\n",
              "    x.observe(outputEl, {childList: true});\n",
              "}}\n",
              "\n",
              "                        })                };                            </script>        </div>\n",
              "</body>\n",
              "</html>"
            ]
          },
          "metadata": {}
        }
      ],
      "source": [
        "# 1. Create a new column for weekend flag\n",
        "df[\"is_weekend\"] = df[\"Weekdaysort\"].apply(lambda x: \"Weekend\" if x >= 5 else \"Weekday\")\n",
        "\n",
        "# 2. Calculate average spending for weekdays vs weekends\n",
        "avg_sales = df.groupby(\"is_weekend\")[\"money\"].mean().reset_index()\n",
        "\n",
        "print(\"\\n=== Average Sales: Weekday vs Weekend ===\")\n",
        "for row in avg_sales.itertuples(index=False):\n",
        "    print(f\"{row.is_weekend}: {round(row.money, 2)}\")\n",
        "\n",
        "# 3. Visualization\n",
        "fig = px.pie(\n",
        "    avg_sales,\n",
        "    names=\"is_weekend\",\n",
        "    values=\"money\",\n",
        "    color=\"is_weekend\",\n",
        "    color_discrete_map={\"Weekday\": \"skyblue\", \"Weekend\": \"orange\"},\n",
        "    title=\"Average Sales: Weekdays vs Weekends\"\n",
        ")\n",
        "\n",
        "fig.update_traces(textposition=\"inside\", textinfo=\"percent+label\")\n",
        "fig.show()\n"
      ]
    },
    {
      "cell_type": "markdown",
      "id": "51518183",
      "metadata": {
        "id": "51518183"
      },
      "source": [
        "### 5- Are there seasonal or monthly trends in coffee sales, and which months generate the highest revenue?  "
      ]
    },
    {
      "cell_type": "code",
      "execution_count": 15,
      "id": "4f68d3ea",
      "metadata": {
        "colab": {
          "base_uri": "https://localhost:8080/",
          "height": 1000
        },
        "id": "4f68d3ea",
        "outputId": "d716f379-21c8-4730-d995-37c565557084"
      },
      "outputs": [
        {
          "output_type": "stream",
          "name": "stdout",
          "text": [
            "\n",
            "=== Monthly Sales Analysis ===\n",
            "Month with highest total sales: Mar → 15891.64\n"
          ]
        },
        {
          "output_type": "display_data",
          "data": {
            "text/html": [
              "<html>\n",
              "<head><meta charset=\"utf-8\" /></head>\n",
              "<body>\n",
              "    <div>            <script src=\"https://cdnjs.cloudflare.com/ajax/libs/mathjax/2.7.5/MathJax.js?config=TeX-AMS-MML_SVG\"></script><script type=\"text/javascript\">if (window.MathJax && window.MathJax.Hub && window.MathJax.Hub.Config) {window.MathJax.Hub.Config({SVG: {font: \"STIX-Web\"}});}</script>                <script type=\"text/javascript\">window.PlotlyConfig = {MathJaxConfig: 'local'};</script>\n",
              "        <script charset=\"utf-8\" src=\"https://cdn.plot.ly/plotly-2.35.2.min.js\"></script>                <div id=\"2c6b2b1d-e792-4086-9a06-ac87d89744ac\" class=\"plotly-graph-div\" style=\"height:525px; width:100%;\"></div>            <script type=\"text/javascript\">                                    window.PLOTLYENV=window.PLOTLYENV || {};                                    if (document.getElementById(\"2c6b2b1d-e792-4086-9a06-ac87d89744ac\")) {                    Plotly.newPlot(                        \"2c6b2b1d-e792-4086-9a06-ac87d89744ac\",                        [{\"hovertemplate\":\"Month=%{x}\\u003cbr\\u003eTotal Sales=%{y}\\u003cbr\\u003eMonth_name=%{text}\\u003cextra\\u003e\\u003c\\u002fextra\\u003e\",\"legendgroup\":\"\",\"line\":{\"color\":\"#636efa\",\"dash\":\"solid\"},\"marker\":{\"symbol\":\"circle\"},\"mode\":\"lines+markers+text\",\"name\":\"\",\"orientation\":\"v\",\"showlegend\":false,\"text\":[\"Jan\",\"Feb\",\"Mar\",\"Apr\",\"May\",\"Jun\",\"Jul\",\"Aug\",\"Sep\",\"Oct\",\"Nov\",\"Dec\"],\"x\":[1,2,3,4,5,6,7,8,9,10,11,12],\"xaxis\":\"x\",\"y\":[6398.86,13215.48,15891.64,5719.56,8164.42,7617.76,6915.9400000000005,7613.84,9988.64,13891.16,8590.539999999999,8237.74],\"yaxis\":\"y\",\"type\":\"scatter\",\"textposition\":\"top center\"}],                        {\"template\":{\"data\":{\"histogram2dcontour\":[{\"type\":\"histogram2dcontour\",\"colorbar\":{\"outlinewidth\":0,\"ticks\":\"\"},\"colorscale\":[[0.0,\"#0d0887\"],[0.1111111111111111,\"#46039f\"],[0.2222222222222222,\"#7201a8\"],[0.3333333333333333,\"#9c179e\"],[0.4444444444444444,\"#bd3786\"],[0.5555555555555556,\"#d8576b\"],[0.6666666666666666,\"#ed7953\"],[0.7777777777777778,\"#fb9f3a\"],[0.8888888888888888,\"#fdca26\"],[1.0,\"#f0f921\"]]}],\"choropleth\":[{\"type\":\"choropleth\",\"colorbar\":{\"outlinewidth\":0,\"ticks\":\"\"}}],\"histogram2d\":[{\"type\":\"histogram2d\",\"colorbar\":{\"outlinewidth\":0,\"ticks\":\"\"},\"colorscale\":[[0.0,\"#0d0887\"],[0.1111111111111111,\"#46039f\"],[0.2222222222222222,\"#7201a8\"],[0.3333333333333333,\"#9c179e\"],[0.4444444444444444,\"#bd3786\"],[0.5555555555555556,\"#d8576b\"],[0.6666666666666666,\"#ed7953\"],[0.7777777777777778,\"#fb9f3a\"],[0.8888888888888888,\"#fdca26\"],[1.0,\"#f0f921\"]]}],\"heatmap\":[{\"type\":\"heatmap\",\"colorbar\":{\"outlinewidth\":0,\"ticks\":\"\"},\"colorscale\":[[0.0,\"#0d0887\"],[0.1111111111111111,\"#46039f\"],[0.2222222222222222,\"#7201a8\"],[0.3333333333333333,\"#9c179e\"],[0.4444444444444444,\"#bd3786\"],[0.5555555555555556,\"#d8576b\"],[0.6666666666666666,\"#ed7953\"],[0.7777777777777778,\"#fb9f3a\"],[0.8888888888888888,\"#fdca26\"],[1.0,\"#f0f921\"]]}],\"heatmapgl\":[{\"type\":\"heatmapgl\",\"colorbar\":{\"outlinewidth\":0,\"ticks\":\"\"},\"colorscale\":[[0.0,\"#0d0887\"],[0.1111111111111111,\"#46039f\"],[0.2222222222222222,\"#7201a8\"],[0.3333333333333333,\"#9c179e\"],[0.4444444444444444,\"#bd3786\"],[0.5555555555555556,\"#d8576b\"],[0.6666666666666666,\"#ed7953\"],[0.7777777777777778,\"#fb9f3a\"],[0.8888888888888888,\"#fdca26\"],[1.0,\"#f0f921\"]]}],\"contourcarpet\":[{\"type\":\"contourcarpet\",\"colorbar\":{\"outlinewidth\":0,\"ticks\":\"\"}}],\"contour\":[{\"type\":\"contour\",\"colorbar\":{\"outlinewidth\":0,\"ticks\":\"\"},\"colorscale\":[[0.0,\"#0d0887\"],[0.1111111111111111,\"#46039f\"],[0.2222222222222222,\"#7201a8\"],[0.3333333333333333,\"#9c179e\"],[0.4444444444444444,\"#bd3786\"],[0.5555555555555556,\"#d8576b\"],[0.6666666666666666,\"#ed7953\"],[0.7777777777777778,\"#fb9f3a\"],[0.8888888888888888,\"#fdca26\"],[1.0,\"#f0f921\"]]}],\"surface\":[{\"type\":\"surface\",\"colorbar\":{\"outlinewidth\":0,\"ticks\":\"\"},\"colorscale\":[[0.0,\"#0d0887\"],[0.1111111111111111,\"#46039f\"],[0.2222222222222222,\"#7201a8\"],[0.3333333333333333,\"#9c179e\"],[0.4444444444444444,\"#bd3786\"],[0.5555555555555556,\"#d8576b\"],[0.6666666666666666,\"#ed7953\"],[0.7777777777777778,\"#fb9f3a\"],[0.8888888888888888,\"#fdca26\"],[1.0,\"#f0f921\"]]}],\"mesh3d\":[{\"type\":\"mesh3d\",\"colorbar\":{\"outlinewidth\":0,\"ticks\":\"\"}}],\"scatter\":[{\"fillpattern\":{\"fillmode\":\"overlay\",\"size\":10,\"solidity\":0.2},\"type\":\"scatter\"}],\"parcoords\":[{\"type\":\"parcoords\",\"line\":{\"colorbar\":{\"outlinewidth\":0,\"ticks\":\"\"}}}],\"scatterpolargl\":[{\"type\":\"scatterpolargl\",\"marker\":{\"colorbar\":{\"outlinewidth\":0,\"ticks\":\"\"}}}],\"bar\":[{\"error_x\":{\"color\":\"#2a3f5f\"},\"error_y\":{\"color\":\"#2a3f5f\"},\"marker\":{\"line\":{\"color\":\"#E5ECF6\",\"width\":0.5},\"pattern\":{\"fillmode\":\"overlay\",\"size\":10,\"solidity\":0.2}},\"type\":\"bar\"}],\"scattergeo\":[{\"type\":\"scattergeo\",\"marker\":{\"colorbar\":{\"outlinewidth\":0,\"ticks\":\"\"}}}],\"scatterpolar\":[{\"type\":\"scatterpolar\",\"marker\":{\"colorbar\":{\"outlinewidth\":0,\"ticks\":\"\"}}}],\"histogram\":[{\"marker\":{\"pattern\":{\"fillmode\":\"overlay\",\"size\":10,\"solidity\":0.2}},\"type\":\"histogram\"}],\"scattergl\":[{\"type\":\"scattergl\",\"marker\":{\"colorbar\":{\"outlinewidth\":0,\"ticks\":\"\"}}}],\"scatter3d\":[{\"type\":\"scatter3d\",\"line\":{\"colorbar\":{\"outlinewidth\":0,\"ticks\":\"\"}},\"marker\":{\"colorbar\":{\"outlinewidth\":0,\"ticks\":\"\"}}}],\"scattermapbox\":[{\"type\":\"scattermapbox\",\"marker\":{\"colorbar\":{\"outlinewidth\":0,\"ticks\":\"\"}}}],\"scatterternary\":[{\"type\":\"scatterternary\",\"marker\":{\"colorbar\":{\"outlinewidth\":0,\"ticks\":\"\"}}}],\"scattercarpet\":[{\"type\":\"scattercarpet\",\"marker\":{\"colorbar\":{\"outlinewidth\":0,\"ticks\":\"\"}}}],\"carpet\":[{\"aaxis\":{\"endlinecolor\":\"#2a3f5f\",\"gridcolor\":\"white\",\"linecolor\":\"white\",\"minorgridcolor\":\"white\",\"startlinecolor\":\"#2a3f5f\"},\"baxis\":{\"endlinecolor\":\"#2a3f5f\",\"gridcolor\":\"white\",\"linecolor\":\"white\",\"minorgridcolor\":\"white\",\"startlinecolor\":\"#2a3f5f\"},\"type\":\"carpet\"}],\"table\":[{\"cells\":{\"fill\":{\"color\":\"#EBF0F8\"},\"line\":{\"color\":\"white\"}},\"header\":{\"fill\":{\"color\":\"#C8D4E3\"},\"line\":{\"color\":\"white\"}},\"type\":\"table\"}],\"barpolar\":[{\"marker\":{\"line\":{\"color\":\"#E5ECF6\",\"width\":0.5},\"pattern\":{\"fillmode\":\"overlay\",\"size\":10,\"solidity\":0.2}},\"type\":\"barpolar\"}],\"pie\":[{\"automargin\":true,\"type\":\"pie\"}]},\"layout\":{\"autotypenumbers\":\"strict\",\"colorway\":[\"#636efa\",\"#EF553B\",\"#00cc96\",\"#ab63fa\",\"#FFA15A\",\"#19d3f3\",\"#FF6692\",\"#B6E880\",\"#FF97FF\",\"#FECB52\"],\"font\":{\"color\":\"#2a3f5f\"},\"hovermode\":\"closest\",\"hoverlabel\":{\"align\":\"left\"},\"paper_bgcolor\":\"white\",\"plot_bgcolor\":\"#E5ECF6\",\"polar\":{\"bgcolor\":\"#E5ECF6\",\"angularaxis\":{\"gridcolor\":\"white\",\"linecolor\":\"white\",\"ticks\":\"\"},\"radialaxis\":{\"gridcolor\":\"white\",\"linecolor\":\"white\",\"ticks\":\"\"}},\"ternary\":{\"bgcolor\":\"#E5ECF6\",\"aaxis\":{\"gridcolor\":\"white\",\"linecolor\":\"white\",\"ticks\":\"\"},\"baxis\":{\"gridcolor\":\"white\",\"linecolor\":\"white\",\"ticks\":\"\"},\"caxis\":{\"gridcolor\":\"white\",\"linecolor\":\"white\",\"ticks\":\"\"}},\"coloraxis\":{\"colorbar\":{\"outlinewidth\":0,\"ticks\":\"\"}},\"colorscale\":{\"sequential\":[[0.0,\"#0d0887\"],[0.1111111111111111,\"#46039f\"],[0.2222222222222222,\"#7201a8\"],[0.3333333333333333,\"#9c179e\"],[0.4444444444444444,\"#bd3786\"],[0.5555555555555556,\"#d8576b\"],[0.6666666666666666,\"#ed7953\"],[0.7777777777777778,\"#fb9f3a\"],[0.8888888888888888,\"#fdca26\"],[1.0,\"#f0f921\"]],\"sequentialminus\":[[0.0,\"#0d0887\"],[0.1111111111111111,\"#46039f\"],[0.2222222222222222,\"#7201a8\"],[0.3333333333333333,\"#9c179e\"],[0.4444444444444444,\"#bd3786\"],[0.5555555555555556,\"#d8576b\"],[0.6666666666666666,\"#ed7953\"],[0.7777777777777778,\"#fb9f3a\"],[0.8888888888888888,\"#fdca26\"],[1.0,\"#f0f921\"]],\"diverging\":[[0,\"#8e0152\"],[0.1,\"#c51b7d\"],[0.2,\"#de77ae\"],[0.3,\"#f1b6da\"],[0.4,\"#fde0ef\"],[0.5,\"#f7f7f7\"],[0.6,\"#e6f5d0\"],[0.7,\"#b8e186\"],[0.8,\"#7fbc41\"],[0.9,\"#4d9221\"],[1,\"#276419\"]]},\"xaxis\":{\"gridcolor\":\"white\",\"linecolor\":\"white\",\"ticks\":\"\",\"title\":{\"standoff\":15},\"zerolinecolor\":\"white\",\"automargin\":true,\"zerolinewidth\":2},\"yaxis\":{\"gridcolor\":\"white\",\"linecolor\":\"white\",\"ticks\":\"\",\"title\":{\"standoff\":15},\"zerolinecolor\":\"white\",\"automargin\":true,\"zerolinewidth\":2},\"scene\":{\"xaxis\":{\"backgroundcolor\":\"#E5ECF6\",\"gridcolor\":\"white\",\"linecolor\":\"white\",\"showbackground\":true,\"ticks\":\"\",\"zerolinecolor\":\"white\",\"gridwidth\":2},\"yaxis\":{\"backgroundcolor\":\"#E5ECF6\",\"gridcolor\":\"white\",\"linecolor\":\"white\",\"showbackground\":true,\"ticks\":\"\",\"zerolinecolor\":\"white\",\"gridwidth\":2},\"zaxis\":{\"backgroundcolor\":\"#E5ECF6\",\"gridcolor\":\"white\",\"linecolor\":\"white\",\"showbackground\":true,\"ticks\":\"\",\"zerolinecolor\":\"white\",\"gridwidth\":2}},\"shapedefaults\":{\"line\":{\"color\":\"#2a3f5f\"}},\"annotationdefaults\":{\"arrowcolor\":\"#2a3f5f\",\"arrowhead\":0,\"arrowwidth\":1},\"geo\":{\"bgcolor\":\"white\",\"landcolor\":\"#E5ECF6\",\"subunitcolor\":\"white\",\"showland\":true,\"showlakes\":true,\"lakecolor\":\"white\"},\"title\":{\"x\":0.05},\"mapbox\":{\"style\":\"light\"}}},\"xaxis\":{\"anchor\":\"y\",\"domain\":[0.0,1.0],\"title\":{\"text\":\"Month\"},\"tickmode\":\"array\",\"tickvals\":[1,2,3,4,5,6,7,8,9,10,11,12],\"ticktext\":[\"Jan\",\"Feb\",\"Mar\",\"Apr\",\"May\",\"Jun\",\"Jul\",\"Aug\",\"Sep\",\"Oct\",\"Nov\",\"Dec\"]},\"yaxis\":{\"anchor\":\"x\",\"domain\":[0.0,1.0],\"title\":{\"text\":\"Total Sales\"}},\"legend\":{\"tracegroupgap\":0},\"title\":{\"text\":\"Monthly Coffee Sales Trend\"}},                        {\"responsive\": true}                    ).then(function(){\n",
              "                            \n",
              "var gd = document.getElementById('2c6b2b1d-e792-4086-9a06-ac87d89744ac');\n",
              "var x = new MutationObserver(function (mutations, observer) {{\n",
              "        var display = window.getComputedStyle(gd).display;\n",
              "        if (!display || display === 'none') {{\n",
              "            console.log([gd, 'removed!']);\n",
              "            Plotly.purge(gd);\n",
              "            observer.disconnect();\n",
              "        }}\n",
              "}});\n",
              "\n",
              "// Listen for the removal of the full notebook cells\n",
              "var notebookContainer = gd.closest('#notebook-container');\n",
              "if (notebookContainer) {{\n",
              "    x.observe(notebookContainer, {childList: true});\n",
              "}}\n",
              "\n",
              "// Listen for the clearing of the current output cell\n",
              "var outputEl = gd.closest('.output');\n",
              "if (outputEl) {{\n",
              "    x.observe(outputEl, {childList: true});\n",
              "}}\n",
              "\n",
              "                        })                };                            </script>        </div>\n",
              "</body>\n",
              "</html>"
            ]
          },
          "metadata": {}
        },
        {
          "output_type": "display_data",
          "data": {
            "text/html": [
              "<html>\n",
              "<head><meta charset=\"utf-8\" /></head>\n",
              "<body>\n",
              "    <div>            <script src=\"https://cdnjs.cloudflare.com/ajax/libs/mathjax/2.7.5/MathJax.js?config=TeX-AMS-MML_SVG\"></script><script type=\"text/javascript\">if (window.MathJax && window.MathJax.Hub && window.MathJax.Hub.Config) {window.MathJax.Hub.Config({SVG: {font: \"STIX-Web\"}});}</script>                <script type=\"text/javascript\">window.PlotlyConfig = {MathJaxConfig: 'local'};</script>\n",
              "        <script charset=\"utf-8\" src=\"https://cdn.plot.ly/plotly-2.35.2.min.js\"></script>                <div id=\"78e40463-2c1e-4390-b572-5a8d56a19f55\" class=\"plotly-graph-div\" style=\"height:525px; width:100%;\"></div>            <script type=\"text/javascript\">                                    window.PLOTLYENV=window.PLOTLYENV || {};                                    if (document.getElementById(\"78e40463-2c1e-4390-b572-5a8d56a19f55\")) {                    Plotly.newPlot(                        \"78e40463-2c1e-4390-b572-5a8d56a19f55\",                        [{\"alignmentgroup\":\"True\",\"hovertemplate\":\"Month=%{x}\\u003cbr\\u003eTotal Sales=%{marker.color}\\u003cextra\\u003e\\u003c\\u002fextra\\u003e\",\"legendgroup\":\"\",\"marker\":{\"color\":[6398.86,13215.48,15891.64,5719.56,8164.42,7617.76,6915.9400000000005,7613.84,9988.64,13891.16,8590.539999999999,8237.74],\"coloraxis\":\"coloraxis\",\"pattern\":{\"shape\":\"\"}},\"name\":\"\",\"offsetgroup\":\"\",\"orientation\":\"v\",\"showlegend\":false,\"textposition\":\"auto\",\"x\":[\"Jan\",\"Feb\",\"Mar\",\"Apr\",\"May\",\"Jun\",\"Jul\",\"Aug\",\"Sep\",\"Oct\",\"Nov\",\"Dec\"],\"xaxis\":\"x\",\"y\":[6398.86,13215.48,15891.64,5719.56,8164.42,7617.76,6915.9400000000005,7613.84,9988.64,13891.16,8590.539999999999,8237.74],\"yaxis\":\"y\",\"type\":\"bar\"}],                        {\"template\":{\"data\":{\"histogram2dcontour\":[{\"type\":\"histogram2dcontour\",\"colorbar\":{\"outlinewidth\":0,\"ticks\":\"\"},\"colorscale\":[[0.0,\"#0d0887\"],[0.1111111111111111,\"#46039f\"],[0.2222222222222222,\"#7201a8\"],[0.3333333333333333,\"#9c179e\"],[0.4444444444444444,\"#bd3786\"],[0.5555555555555556,\"#d8576b\"],[0.6666666666666666,\"#ed7953\"],[0.7777777777777778,\"#fb9f3a\"],[0.8888888888888888,\"#fdca26\"],[1.0,\"#f0f921\"]]}],\"choropleth\":[{\"type\":\"choropleth\",\"colorbar\":{\"outlinewidth\":0,\"ticks\":\"\"}}],\"histogram2d\":[{\"type\":\"histogram2d\",\"colorbar\":{\"outlinewidth\":0,\"ticks\":\"\"},\"colorscale\":[[0.0,\"#0d0887\"],[0.1111111111111111,\"#46039f\"],[0.2222222222222222,\"#7201a8\"],[0.3333333333333333,\"#9c179e\"],[0.4444444444444444,\"#bd3786\"],[0.5555555555555556,\"#d8576b\"],[0.6666666666666666,\"#ed7953\"],[0.7777777777777778,\"#fb9f3a\"],[0.8888888888888888,\"#fdca26\"],[1.0,\"#f0f921\"]]}],\"heatmap\":[{\"type\":\"heatmap\",\"colorbar\":{\"outlinewidth\":0,\"ticks\":\"\"},\"colorscale\":[[0.0,\"#0d0887\"],[0.1111111111111111,\"#46039f\"],[0.2222222222222222,\"#7201a8\"],[0.3333333333333333,\"#9c179e\"],[0.4444444444444444,\"#bd3786\"],[0.5555555555555556,\"#d8576b\"],[0.6666666666666666,\"#ed7953\"],[0.7777777777777778,\"#fb9f3a\"],[0.8888888888888888,\"#fdca26\"],[1.0,\"#f0f921\"]]}],\"heatmapgl\":[{\"type\":\"heatmapgl\",\"colorbar\":{\"outlinewidth\":0,\"ticks\":\"\"},\"colorscale\":[[0.0,\"#0d0887\"],[0.1111111111111111,\"#46039f\"],[0.2222222222222222,\"#7201a8\"],[0.3333333333333333,\"#9c179e\"],[0.4444444444444444,\"#bd3786\"],[0.5555555555555556,\"#d8576b\"],[0.6666666666666666,\"#ed7953\"],[0.7777777777777778,\"#fb9f3a\"],[0.8888888888888888,\"#fdca26\"],[1.0,\"#f0f921\"]]}],\"contourcarpet\":[{\"type\":\"contourcarpet\",\"colorbar\":{\"outlinewidth\":0,\"ticks\":\"\"}}],\"contour\":[{\"type\":\"contour\",\"colorbar\":{\"outlinewidth\":0,\"ticks\":\"\"},\"colorscale\":[[0.0,\"#0d0887\"],[0.1111111111111111,\"#46039f\"],[0.2222222222222222,\"#7201a8\"],[0.3333333333333333,\"#9c179e\"],[0.4444444444444444,\"#bd3786\"],[0.5555555555555556,\"#d8576b\"],[0.6666666666666666,\"#ed7953\"],[0.7777777777777778,\"#fb9f3a\"],[0.8888888888888888,\"#fdca26\"],[1.0,\"#f0f921\"]]}],\"surface\":[{\"type\":\"surface\",\"colorbar\":{\"outlinewidth\":0,\"ticks\":\"\"},\"colorscale\":[[0.0,\"#0d0887\"],[0.1111111111111111,\"#46039f\"],[0.2222222222222222,\"#7201a8\"],[0.3333333333333333,\"#9c179e\"],[0.4444444444444444,\"#bd3786\"],[0.5555555555555556,\"#d8576b\"],[0.6666666666666666,\"#ed7953\"],[0.7777777777777778,\"#fb9f3a\"],[0.8888888888888888,\"#fdca26\"],[1.0,\"#f0f921\"]]}],\"mesh3d\":[{\"type\":\"mesh3d\",\"colorbar\":{\"outlinewidth\":0,\"ticks\":\"\"}}],\"scatter\":[{\"fillpattern\":{\"fillmode\":\"overlay\",\"size\":10,\"solidity\":0.2},\"type\":\"scatter\"}],\"parcoords\":[{\"type\":\"parcoords\",\"line\":{\"colorbar\":{\"outlinewidth\":0,\"ticks\":\"\"}}}],\"scatterpolargl\":[{\"type\":\"scatterpolargl\",\"marker\":{\"colorbar\":{\"outlinewidth\":0,\"ticks\":\"\"}}}],\"bar\":[{\"error_x\":{\"color\":\"#2a3f5f\"},\"error_y\":{\"color\":\"#2a3f5f\"},\"marker\":{\"line\":{\"color\":\"#E5ECF6\",\"width\":0.5},\"pattern\":{\"fillmode\":\"overlay\",\"size\":10,\"solidity\":0.2}},\"type\":\"bar\"}],\"scattergeo\":[{\"type\":\"scattergeo\",\"marker\":{\"colorbar\":{\"outlinewidth\":0,\"ticks\":\"\"}}}],\"scatterpolar\":[{\"type\":\"scatterpolar\",\"marker\":{\"colorbar\":{\"outlinewidth\":0,\"ticks\":\"\"}}}],\"histogram\":[{\"marker\":{\"pattern\":{\"fillmode\":\"overlay\",\"size\":10,\"solidity\":0.2}},\"type\":\"histogram\"}],\"scattergl\":[{\"type\":\"scattergl\",\"marker\":{\"colorbar\":{\"outlinewidth\":0,\"ticks\":\"\"}}}],\"scatter3d\":[{\"type\":\"scatter3d\",\"line\":{\"colorbar\":{\"outlinewidth\":0,\"ticks\":\"\"}},\"marker\":{\"colorbar\":{\"outlinewidth\":0,\"ticks\":\"\"}}}],\"scattermapbox\":[{\"type\":\"scattermapbox\",\"marker\":{\"colorbar\":{\"outlinewidth\":0,\"ticks\":\"\"}}}],\"scatterternary\":[{\"type\":\"scatterternary\",\"marker\":{\"colorbar\":{\"outlinewidth\":0,\"ticks\":\"\"}}}],\"scattercarpet\":[{\"type\":\"scattercarpet\",\"marker\":{\"colorbar\":{\"outlinewidth\":0,\"ticks\":\"\"}}}],\"carpet\":[{\"aaxis\":{\"endlinecolor\":\"#2a3f5f\",\"gridcolor\":\"white\",\"linecolor\":\"white\",\"minorgridcolor\":\"white\",\"startlinecolor\":\"#2a3f5f\"},\"baxis\":{\"endlinecolor\":\"#2a3f5f\",\"gridcolor\":\"white\",\"linecolor\":\"white\",\"minorgridcolor\":\"white\",\"startlinecolor\":\"#2a3f5f\"},\"type\":\"carpet\"}],\"table\":[{\"cells\":{\"fill\":{\"color\":\"#EBF0F8\"},\"line\":{\"color\":\"white\"}},\"header\":{\"fill\":{\"color\":\"#C8D4E3\"},\"line\":{\"color\":\"white\"}},\"type\":\"table\"}],\"barpolar\":[{\"marker\":{\"line\":{\"color\":\"#E5ECF6\",\"width\":0.5},\"pattern\":{\"fillmode\":\"overlay\",\"size\":10,\"solidity\":0.2}},\"type\":\"barpolar\"}],\"pie\":[{\"automargin\":true,\"type\":\"pie\"}]},\"layout\":{\"autotypenumbers\":\"strict\",\"colorway\":[\"#636efa\",\"#EF553B\",\"#00cc96\",\"#ab63fa\",\"#FFA15A\",\"#19d3f3\",\"#FF6692\",\"#B6E880\",\"#FF97FF\",\"#FECB52\"],\"font\":{\"color\":\"#2a3f5f\"},\"hovermode\":\"closest\",\"hoverlabel\":{\"align\":\"left\"},\"paper_bgcolor\":\"white\",\"plot_bgcolor\":\"#E5ECF6\",\"polar\":{\"bgcolor\":\"#E5ECF6\",\"angularaxis\":{\"gridcolor\":\"white\",\"linecolor\":\"white\",\"ticks\":\"\"},\"radialaxis\":{\"gridcolor\":\"white\",\"linecolor\":\"white\",\"ticks\":\"\"}},\"ternary\":{\"bgcolor\":\"#E5ECF6\",\"aaxis\":{\"gridcolor\":\"white\",\"linecolor\":\"white\",\"ticks\":\"\"},\"baxis\":{\"gridcolor\":\"white\",\"linecolor\":\"white\",\"ticks\":\"\"},\"caxis\":{\"gridcolor\":\"white\",\"linecolor\":\"white\",\"ticks\":\"\"}},\"coloraxis\":{\"colorbar\":{\"outlinewidth\":0,\"ticks\":\"\"}},\"colorscale\":{\"sequential\":[[0.0,\"#0d0887\"],[0.1111111111111111,\"#46039f\"],[0.2222222222222222,\"#7201a8\"],[0.3333333333333333,\"#9c179e\"],[0.4444444444444444,\"#bd3786\"],[0.5555555555555556,\"#d8576b\"],[0.6666666666666666,\"#ed7953\"],[0.7777777777777778,\"#fb9f3a\"],[0.8888888888888888,\"#fdca26\"],[1.0,\"#f0f921\"]],\"sequentialminus\":[[0.0,\"#0d0887\"],[0.1111111111111111,\"#46039f\"],[0.2222222222222222,\"#7201a8\"],[0.3333333333333333,\"#9c179e\"],[0.4444444444444444,\"#bd3786\"],[0.5555555555555556,\"#d8576b\"],[0.6666666666666666,\"#ed7953\"],[0.7777777777777778,\"#fb9f3a\"],[0.8888888888888888,\"#fdca26\"],[1.0,\"#f0f921\"]],\"diverging\":[[0,\"#8e0152\"],[0.1,\"#c51b7d\"],[0.2,\"#de77ae\"],[0.3,\"#f1b6da\"],[0.4,\"#fde0ef\"],[0.5,\"#f7f7f7\"],[0.6,\"#e6f5d0\"],[0.7,\"#b8e186\"],[0.8,\"#7fbc41\"],[0.9,\"#4d9221\"],[1,\"#276419\"]]},\"xaxis\":{\"gridcolor\":\"white\",\"linecolor\":\"white\",\"ticks\":\"\",\"title\":{\"standoff\":15},\"zerolinecolor\":\"white\",\"automargin\":true,\"zerolinewidth\":2},\"yaxis\":{\"gridcolor\":\"white\",\"linecolor\":\"white\",\"ticks\":\"\",\"title\":{\"standoff\":15},\"zerolinecolor\":\"white\",\"automargin\":true,\"zerolinewidth\":2},\"scene\":{\"xaxis\":{\"backgroundcolor\":\"#E5ECF6\",\"gridcolor\":\"white\",\"linecolor\":\"white\",\"showbackground\":true,\"ticks\":\"\",\"zerolinecolor\":\"white\",\"gridwidth\":2},\"yaxis\":{\"backgroundcolor\":\"#E5ECF6\",\"gridcolor\":\"white\",\"linecolor\":\"white\",\"showbackground\":true,\"ticks\":\"\",\"zerolinecolor\":\"white\",\"gridwidth\":2},\"zaxis\":{\"backgroundcolor\":\"#E5ECF6\",\"gridcolor\":\"white\",\"linecolor\":\"white\",\"showbackground\":true,\"ticks\":\"\",\"zerolinecolor\":\"white\",\"gridwidth\":2}},\"shapedefaults\":{\"line\":{\"color\":\"#2a3f5f\"}},\"annotationdefaults\":{\"arrowcolor\":\"#2a3f5f\",\"arrowhead\":0,\"arrowwidth\":1},\"geo\":{\"bgcolor\":\"white\",\"landcolor\":\"#E5ECF6\",\"subunitcolor\":\"white\",\"showland\":true,\"showlakes\":true,\"lakecolor\":\"white\"},\"title\":{\"x\":0.05},\"mapbox\":{\"style\":\"light\"}}},\"xaxis\":{\"anchor\":\"y\",\"domain\":[0.0,1.0],\"title\":{\"text\":\"Month\"}},\"yaxis\":{\"anchor\":\"x\",\"domain\":[0.0,1.0],\"title\":{\"text\":\"Total Sales\"}},\"coloraxis\":{\"colorbar\":{\"title\":{\"text\":\"Total Sales\"}},\"colorscale\":[[0.0,\"rgb(176, 242, 188)\"],[0.16666666666666666,\"rgb(137, 232, 172)\"],[0.3333333333333333,\"rgb(103, 219, 165)\"],[0.5,\"rgb(76, 200, 163)\"],[0.6666666666666666,\"rgb(56, 178, 163)\"],[0.8333333333333334,\"rgb(44, 152, 160)\"],[1.0,\"rgb(37, 125, 152)\"]]},\"legend\":{\"tracegroupgap\":0},\"title\":{\"text\":\"Total Coffee Sales by Month\"},\"barmode\":\"relative\"},                        {\"responsive\": true}                    ).then(function(){\n",
              "                            \n",
              "var gd = document.getElementById('78e40463-2c1e-4390-b572-5a8d56a19f55');\n",
              "var x = new MutationObserver(function (mutations, observer) {{\n",
              "        var display = window.getComputedStyle(gd).display;\n",
              "        if (!display || display === 'none') {{\n",
              "            console.log([gd, 'removed!']);\n",
              "            Plotly.purge(gd);\n",
              "            observer.disconnect();\n",
              "        }}\n",
              "}});\n",
              "\n",
              "// Listen for the removal of the full notebook cells\n",
              "var notebookContainer = gd.closest('#notebook-container');\n",
              "if (notebookContainer) {{\n",
              "    x.observe(notebookContainer, {childList: true});\n",
              "}}\n",
              "\n",
              "// Listen for the clearing of the current output cell\n",
              "var outputEl = gd.closest('.output');\n",
              "if (outputEl) {{\n",
              "    x.observe(outputEl, {childList: true});\n",
              "}}\n",
              "\n",
              "                        })                };                            </script>        </div>\n",
              "</body>\n",
              "</html>"
            ]
          },
          "metadata": {}
        },
        {
          "output_type": "stream",
          "name": "stdout",
          "text": [
            "\n",
            "=== Seasonal Sales Analysis ===\n",
            "Season with highest total sales: Autumn → 32470.34\n"
          ]
        },
        {
          "output_type": "display_data",
          "data": {
            "text/html": [
              "<html>\n",
              "<head><meta charset=\"utf-8\" /></head>\n",
              "<body>\n",
              "    <div>            <script src=\"https://cdnjs.cloudflare.com/ajax/libs/mathjax/2.7.5/MathJax.js?config=TeX-AMS-MML_SVG\"></script><script type=\"text/javascript\">if (window.MathJax && window.MathJax.Hub && window.MathJax.Hub.Config) {window.MathJax.Hub.Config({SVG: {font: \"STIX-Web\"}});}</script>                <script type=\"text/javascript\">window.PlotlyConfig = {MathJaxConfig: 'local'};</script>\n",
              "        <script charset=\"utf-8\" src=\"https://cdn.plot.ly/plotly-2.35.2.min.js\"></script>                <div id=\"58f79487-2436-461e-8c1f-42e4f68c0ea1\" class=\"plotly-graph-div\" style=\"height:525px; width:100%;\"></div>            <script type=\"text/javascript\">                                    window.PLOTLYENV=window.PLOTLYENV || {};                                    if (document.getElementById(\"58f79487-2436-461e-8c1f-42e4f68c0ea1\")) {                    Plotly.newPlot(                        \"58f79487-2436-461e-8c1f-42e4f68c0ea1\",                        [{\"alignmentgroup\":\"True\",\"hovertemplate\":\"Season=%{x}\\u003cbr\\u003eTotal Sales=%{marker.color}\\u003cextra\\u003e\\u003c\\u002fextra\\u003e\",\"legendgroup\":\"\",\"marker\":{\"color\":[32470.34,29775.62,22147.54,27852.079999999998],\"coloraxis\":\"coloraxis\",\"pattern\":{\"shape\":\"\"}},\"name\":\"\",\"offsetgroup\":\"\",\"orientation\":\"v\",\"showlegend\":false,\"textposition\":\"auto\",\"x\":[\"Autumn\",\"Spring\",\"Summer\",\"Winter\"],\"xaxis\":\"x\",\"y\":[32470.34,29775.62,22147.54,27852.079999999998],\"yaxis\":\"y\",\"type\":\"bar\"}],                        {\"template\":{\"data\":{\"histogram2dcontour\":[{\"type\":\"histogram2dcontour\",\"colorbar\":{\"outlinewidth\":0,\"ticks\":\"\"},\"colorscale\":[[0.0,\"#0d0887\"],[0.1111111111111111,\"#46039f\"],[0.2222222222222222,\"#7201a8\"],[0.3333333333333333,\"#9c179e\"],[0.4444444444444444,\"#bd3786\"],[0.5555555555555556,\"#d8576b\"],[0.6666666666666666,\"#ed7953\"],[0.7777777777777778,\"#fb9f3a\"],[0.8888888888888888,\"#fdca26\"],[1.0,\"#f0f921\"]]}],\"choropleth\":[{\"type\":\"choropleth\",\"colorbar\":{\"outlinewidth\":0,\"ticks\":\"\"}}],\"histogram2d\":[{\"type\":\"histogram2d\",\"colorbar\":{\"outlinewidth\":0,\"ticks\":\"\"},\"colorscale\":[[0.0,\"#0d0887\"],[0.1111111111111111,\"#46039f\"],[0.2222222222222222,\"#7201a8\"],[0.3333333333333333,\"#9c179e\"],[0.4444444444444444,\"#bd3786\"],[0.5555555555555556,\"#d8576b\"],[0.6666666666666666,\"#ed7953\"],[0.7777777777777778,\"#fb9f3a\"],[0.8888888888888888,\"#fdca26\"],[1.0,\"#f0f921\"]]}],\"heatmap\":[{\"type\":\"heatmap\",\"colorbar\":{\"outlinewidth\":0,\"ticks\":\"\"},\"colorscale\":[[0.0,\"#0d0887\"],[0.1111111111111111,\"#46039f\"],[0.2222222222222222,\"#7201a8\"],[0.3333333333333333,\"#9c179e\"],[0.4444444444444444,\"#bd3786\"],[0.5555555555555556,\"#d8576b\"],[0.6666666666666666,\"#ed7953\"],[0.7777777777777778,\"#fb9f3a\"],[0.8888888888888888,\"#fdca26\"],[1.0,\"#f0f921\"]]}],\"heatmapgl\":[{\"type\":\"heatmapgl\",\"colorbar\":{\"outlinewidth\":0,\"ticks\":\"\"},\"colorscale\":[[0.0,\"#0d0887\"],[0.1111111111111111,\"#46039f\"],[0.2222222222222222,\"#7201a8\"],[0.3333333333333333,\"#9c179e\"],[0.4444444444444444,\"#bd3786\"],[0.5555555555555556,\"#d8576b\"],[0.6666666666666666,\"#ed7953\"],[0.7777777777777778,\"#fb9f3a\"],[0.8888888888888888,\"#fdca26\"],[1.0,\"#f0f921\"]]}],\"contourcarpet\":[{\"type\":\"contourcarpet\",\"colorbar\":{\"outlinewidth\":0,\"ticks\":\"\"}}],\"contour\":[{\"type\":\"contour\",\"colorbar\":{\"outlinewidth\":0,\"ticks\":\"\"},\"colorscale\":[[0.0,\"#0d0887\"],[0.1111111111111111,\"#46039f\"],[0.2222222222222222,\"#7201a8\"],[0.3333333333333333,\"#9c179e\"],[0.4444444444444444,\"#bd3786\"],[0.5555555555555556,\"#d8576b\"],[0.6666666666666666,\"#ed7953\"],[0.7777777777777778,\"#fb9f3a\"],[0.8888888888888888,\"#fdca26\"],[1.0,\"#f0f921\"]]}],\"surface\":[{\"type\":\"surface\",\"colorbar\":{\"outlinewidth\":0,\"ticks\":\"\"},\"colorscale\":[[0.0,\"#0d0887\"],[0.1111111111111111,\"#46039f\"],[0.2222222222222222,\"#7201a8\"],[0.3333333333333333,\"#9c179e\"],[0.4444444444444444,\"#bd3786\"],[0.5555555555555556,\"#d8576b\"],[0.6666666666666666,\"#ed7953\"],[0.7777777777777778,\"#fb9f3a\"],[0.8888888888888888,\"#fdca26\"],[1.0,\"#f0f921\"]]}],\"mesh3d\":[{\"type\":\"mesh3d\",\"colorbar\":{\"outlinewidth\":0,\"ticks\":\"\"}}],\"scatter\":[{\"fillpattern\":{\"fillmode\":\"overlay\",\"size\":10,\"solidity\":0.2},\"type\":\"scatter\"}],\"parcoords\":[{\"type\":\"parcoords\",\"line\":{\"colorbar\":{\"outlinewidth\":0,\"ticks\":\"\"}}}],\"scatterpolargl\":[{\"type\":\"scatterpolargl\",\"marker\":{\"colorbar\":{\"outlinewidth\":0,\"ticks\":\"\"}}}],\"bar\":[{\"error_x\":{\"color\":\"#2a3f5f\"},\"error_y\":{\"color\":\"#2a3f5f\"},\"marker\":{\"line\":{\"color\":\"#E5ECF6\",\"width\":0.5},\"pattern\":{\"fillmode\":\"overlay\",\"size\":10,\"solidity\":0.2}},\"type\":\"bar\"}],\"scattergeo\":[{\"type\":\"scattergeo\",\"marker\":{\"colorbar\":{\"outlinewidth\":0,\"ticks\":\"\"}}}],\"scatterpolar\":[{\"type\":\"scatterpolar\",\"marker\":{\"colorbar\":{\"outlinewidth\":0,\"ticks\":\"\"}}}],\"histogram\":[{\"marker\":{\"pattern\":{\"fillmode\":\"overlay\",\"size\":10,\"solidity\":0.2}},\"type\":\"histogram\"}],\"scattergl\":[{\"type\":\"scattergl\",\"marker\":{\"colorbar\":{\"outlinewidth\":0,\"ticks\":\"\"}}}],\"scatter3d\":[{\"type\":\"scatter3d\",\"line\":{\"colorbar\":{\"outlinewidth\":0,\"ticks\":\"\"}},\"marker\":{\"colorbar\":{\"outlinewidth\":0,\"ticks\":\"\"}}}],\"scattermapbox\":[{\"type\":\"scattermapbox\",\"marker\":{\"colorbar\":{\"outlinewidth\":0,\"ticks\":\"\"}}}],\"scatterternary\":[{\"type\":\"scatterternary\",\"marker\":{\"colorbar\":{\"outlinewidth\":0,\"ticks\":\"\"}}}],\"scattercarpet\":[{\"type\":\"scattercarpet\",\"marker\":{\"colorbar\":{\"outlinewidth\":0,\"ticks\":\"\"}}}],\"carpet\":[{\"aaxis\":{\"endlinecolor\":\"#2a3f5f\",\"gridcolor\":\"white\",\"linecolor\":\"white\",\"minorgridcolor\":\"white\",\"startlinecolor\":\"#2a3f5f\"},\"baxis\":{\"endlinecolor\":\"#2a3f5f\",\"gridcolor\":\"white\",\"linecolor\":\"white\",\"minorgridcolor\":\"white\",\"startlinecolor\":\"#2a3f5f\"},\"type\":\"carpet\"}],\"table\":[{\"cells\":{\"fill\":{\"color\":\"#EBF0F8\"},\"line\":{\"color\":\"white\"}},\"header\":{\"fill\":{\"color\":\"#C8D4E3\"},\"line\":{\"color\":\"white\"}},\"type\":\"table\"}],\"barpolar\":[{\"marker\":{\"line\":{\"color\":\"#E5ECF6\",\"width\":0.5},\"pattern\":{\"fillmode\":\"overlay\",\"size\":10,\"solidity\":0.2}},\"type\":\"barpolar\"}],\"pie\":[{\"automargin\":true,\"type\":\"pie\"}]},\"layout\":{\"autotypenumbers\":\"strict\",\"colorway\":[\"#636efa\",\"#EF553B\",\"#00cc96\",\"#ab63fa\",\"#FFA15A\",\"#19d3f3\",\"#FF6692\",\"#B6E880\",\"#FF97FF\",\"#FECB52\"],\"font\":{\"color\":\"#2a3f5f\"},\"hovermode\":\"closest\",\"hoverlabel\":{\"align\":\"left\"},\"paper_bgcolor\":\"white\",\"plot_bgcolor\":\"#E5ECF6\",\"polar\":{\"bgcolor\":\"#E5ECF6\",\"angularaxis\":{\"gridcolor\":\"white\",\"linecolor\":\"white\",\"ticks\":\"\"},\"radialaxis\":{\"gridcolor\":\"white\",\"linecolor\":\"white\",\"ticks\":\"\"}},\"ternary\":{\"bgcolor\":\"#E5ECF6\",\"aaxis\":{\"gridcolor\":\"white\",\"linecolor\":\"white\",\"ticks\":\"\"},\"baxis\":{\"gridcolor\":\"white\",\"linecolor\":\"white\",\"ticks\":\"\"},\"caxis\":{\"gridcolor\":\"white\",\"linecolor\":\"white\",\"ticks\":\"\"}},\"coloraxis\":{\"colorbar\":{\"outlinewidth\":0,\"ticks\":\"\"}},\"colorscale\":{\"sequential\":[[0.0,\"#0d0887\"],[0.1111111111111111,\"#46039f\"],[0.2222222222222222,\"#7201a8\"],[0.3333333333333333,\"#9c179e\"],[0.4444444444444444,\"#bd3786\"],[0.5555555555555556,\"#d8576b\"],[0.6666666666666666,\"#ed7953\"],[0.7777777777777778,\"#fb9f3a\"],[0.8888888888888888,\"#fdca26\"],[1.0,\"#f0f921\"]],\"sequentialminus\":[[0.0,\"#0d0887\"],[0.1111111111111111,\"#46039f\"],[0.2222222222222222,\"#7201a8\"],[0.3333333333333333,\"#9c179e\"],[0.4444444444444444,\"#bd3786\"],[0.5555555555555556,\"#d8576b\"],[0.6666666666666666,\"#ed7953\"],[0.7777777777777778,\"#fb9f3a\"],[0.8888888888888888,\"#fdca26\"],[1.0,\"#f0f921\"]],\"diverging\":[[0,\"#8e0152\"],[0.1,\"#c51b7d\"],[0.2,\"#de77ae\"],[0.3,\"#f1b6da\"],[0.4,\"#fde0ef\"],[0.5,\"#f7f7f7\"],[0.6,\"#e6f5d0\"],[0.7,\"#b8e186\"],[0.8,\"#7fbc41\"],[0.9,\"#4d9221\"],[1,\"#276419\"]]},\"xaxis\":{\"gridcolor\":\"white\",\"linecolor\":\"white\",\"ticks\":\"\",\"title\":{\"standoff\":15},\"zerolinecolor\":\"white\",\"automargin\":true,\"zerolinewidth\":2},\"yaxis\":{\"gridcolor\":\"white\",\"linecolor\":\"white\",\"ticks\":\"\",\"title\":{\"standoff\":15},\"zerolinecolor\":\"white\",\"automargin\":true,\"zerolinewidth\":2},\"scene\":{\"xaxis\":{\"backgroundcolor\":\"#E5ECF6\",\"gridcolor\":\"white\",\"linecolor\":\"white\",\"showbackground\":true,\"ticks\":\"\",\"zerolinecolor\":\"white\",\"gridwidth\":2},\"yaxis\":{\"backgroundcolor\":\"#E5ECF6\",\"gridcolor\":\"white\",\"linecolor\":\"white\",\"showbackground\":true,\"ticks\":\"\",\"zerolinecolor\":\"white\",\"gridwidth\":2},\"zaxis\":{\"backgroundcolor\":\"#E5ECF6\",\"gridcolor\":\"white\",\"linecolor\":\"white\",\"showbackground\":true,\"ticks\":\"\",\"zerolinecolor\":\"white\",\"gridwidth\":2}},\"shapedefaults\":{\"line\":{\"color\":\"#2a3f5f\"}},\"annotationdefaults\":{\"arrowcolor\":\"#2a3f5f\",\"arrowhead\":0,\"arrowwidth\":1},\"geo\":{\"bgcolor\":\"white\",\"landcolor\":\"#E5ECF6\",\"subunitcolor\":\"white\",\"showland\":true,\"showlakes\":true,\"lakecolor\":\"white\"},\"title\":{\"x\":0.05},\"mapbox\":{\"style\":\"light\"}}},\"xaxis\":{\"anchor\":\"y\",\"domain\":[0.0,1.0],\"title\":{\"text\":\"Season\"}},\"yaxis\":{\"anchor\":\"x\",\"domain\":[0.0,1.0],\"title\":{\"text\":\"Total Sales\"}},\"coloraxis\":{\"colorbar\":{\"title\":{\"text\":\"Total Sales\"}},\"colorscale\":[[0.0,\"#440154\"],[0.1111111111111111,\"#482878\"],[0.2222222222222222,\"#3e4989\"],[0.3333333333333333,\"#31688e\"],[0.4444444444444444,\"#26828e\"],[0.5555555555555556,\"#1f9e89\"],[0.6666666666666666,\"#35b779\"],[0.7777777777777778,\"#6ece58\"],[0.8888888888888888,\"#b5de2b\"],[1.0,\"#fde725\"]]},\"legend\":{\"tracegroupgap\":0},\"title\":{\"text\":\"Total Coffee Sales by Season\"},\"barmode\":\"relative\"},                        {\"responsive\": true}                    ).then(function(){\n",
              "                            \n",
              "var gd = document.getElementById('58f79487-2436-461e-8c1f-42e4f68c0ea1');\n",
              "var x = new MutationObserver(function (mutations, observer) {{\n",
              "        var display = window.getComputedStyle(gd).display;\n",
              "        if (!display || display === 'none') {{\n",
              "            console.log([gd, 'removed!']);\n",
              "            Plotly.purge(gd);\n",
              "            observer.disconnect();\n",
              "        }}\n",
              "}});\n",
              "\n",
              "// Listen for the removal of the full notebook cells\n",
              "var notebookContainer = gd.closest('#notebook-container');\n",
              "if (notebookContainer) {{\n",
              "    x.observe(notebookContainer, {childList: true});\n",
              "}}\n",
              "\n",
              "// Listen for the clearing of the current output cell\n",
              "var outputEl = gd.closest('.output');\n",
              "if (outputEl) {{\n",
              "    x.observe(outputEl, {childList: true});\n",
              "}}\n",
              "\n",
              "                        })                };                            </script>        </div>\n",
              "</body>\n",
              "</html>"
            ]
          },
          "metadata": {}
        },
        {
          "output_type": "display_data",
          "data": {
            "text/html": [
              "<html>\n",
              "<head><meta charset=\"utf-8\" /></head>\n",
              "<body>\n",
              "    <div>            <script src=\"https://cdnjs.cloudflare.com/ajax/libs/mathjax/2.7.5/MathJax.js?config=TeX-AMS-MML_SVG\"></script><script type=\"text/javascript\">if (window.MathJax && window.MathJax.Hub && window.MathJax.Hub.Config) {window.MathJax.Hub.Config({SVG: {font: \"STIX-Web\"}});}</script>                <script type=\"text/javascript\">window.PlotlyConfig = {MathJaxConfig: 'local'};</script>\n",
              "        <script charset=\"utf-8\" src=\"https://cdn.plot.ly/plotly-2.35.2.min.js\"></script>                <div id=\"42281ade-3be2-4740-86a3-a94b7c86d8f9\" class=\"plotly-graph-div\" style=\"height:525px; width:100%;\"></div>            <script type=\"text/javascript\">                                    window.PLOTLYENV=window.PLOTLYENV || {};                                    if (document.getElementById(\"42281ade-3be2-4740-86a3-a94b7c86d8f9\")) {                    Plotly.newPlot(                        \"42281ade-3be2-4740-86a3-a94b7c86d8f9\",                        [{\"customdata\":[[\"Autumn\"],[\"Spring\"],[\"Summer\"],[\"Winter\"]],\"domain\":{\"x\":[0.0,1.0],\"y\":[0.0,1.0]},\"hovertemplate\":\"Season=%{customdata[0]}\\u003cbr\\u003emoney=%{value}\\u003cextra\\u003e\\u003c\\u002fextra\\u003e\",\"labels\":[\"Autumn\",\"Spring\",\"Summer\",\"Winter\"],\"legendgroup\":\"\",\"marker\":{\"colors\":[\"brown\",\"green\",\"orange\",\"lightblue\"]},\"name\":\"\",\"showlegend\":true,\"values\":[32470.34,29775.62,22147.54,27852.079999999998],\"type\":\"pie\",\"textinfo\":\"percent+label\",\"textposition\":\"inside\"}],                        {\"template\":{\"data\":{\"histogram2dcontour\":[{\"type\":\"histogram2dcontour\",\"colorbar\":{\"outlinewidth\":0,\"ticks\":\"\"},\"colorscale\":[[0.0,\"#0d0887\"],[0.1111111111111111,\"#46039f\"],[0.2222222222222222,\"#7201a8\"],[0.3333333333333333,\"#9c179e\"],[0.4444444444444444,\"#bd3786\"],[0.5555555555555556,\"#d8576b\"],[0.6666666666666666,\"#ed7953\"],[0.7777777777777778,\"#fb9f3a\"],[0.8888888888888888,\"#fdca26\"],[1.0,\"#f0f921\"]]}],\"choropleth\":[{\"type\":\"choropleth\",\"colorbar\":{\"outlinewidth\":0,\"ticks\":\"\"}}],\"histogram2d\":[{\"type\":\"histogram2d\",\"colorbar\":{\"outlinewidth\":0,\"ticks\":\"\"},\"colorscale\":[[0.0,\"#0d0887\"],[0.1111111111111111,\"#46039f\"],[0.2222222222222222,\"#7201a8\"],[0.3333333333333333,\"#9c179e\"],[0.4444444444444444,\"#bd3786\"],[0.5555555555555556,\"#d8576b\"],[0.6666666666666666,\"#ed7953\"],[0.7777777777777778,\"#fb9f3a\"],[0.8888888888888888,\"#fdca26\"],[1.0,\"#f0f921\"]]}],\"heatmap\":[{\"type\":\"heatmap\",\"colorbar\":{\"outlinewidth\":0,\"ticks\":\"\"},\"colorscale\":[[0.0,\"#0d0887\"],[0.1111111111111111,\"#46039f\"],[0.2222222222222222,\"#7201a8\"],[0.3333333333333333,\"#9c179e\"],[0.4444444444444444,\"#bd3786\"],[0.5555555555555556,\"#d8576b\"],[0.6666666666666666,\"#ed7953\"],[0.7777777777777778,\"#fb9f3a\"],[0.8888888888888888,\"#fdca26\"],[1.0,\"#f0f921\"]]}],\"heatmapgl\":[{\"type\":\"heatmapgl\",\"colorbar\":{\"outlinewidth\":0,\"ticks\":\"\"},\"colorscale\":[[0.0,\"#0d0887\"],[0.1111111111111111,\"#46039f\"],[0.2222222222222222,\"#7201a8\"],[0.3333333333333333,\"#9c179e\"],[0.4444444444444444,\"#bd3786\"],[0.5555555555555556,\"#d8576b\"],[0.6666666666666666,\"#ed7953\"],[0.7777777777777778,\"#fb9f3a\"],[0.8888888888888888,\"#fdca26\"],[1.0,\"#f0f921\"]]}],\"contourcarpet\":[{\"type\":\"contourcarpet\",\"colorbar\":{\"outlinewidth\":0,\"ticks\":\"\"}}],\"contour\":[{\"type\":\"contour\",\"colorbar\":{\"outlinewidth\":0,\"ticks\":\"\"},\"colorscale\":[[0.0,\"#0d0887\"],[0.1111111111111111,\"#46039f\"],[0.2222222222222222,\"#7201a8\"],[0.3333333333333333,\"#9c179e\"],[0.4444444444444444,\"#bd3786\"],[0.5555555555555556,\"#d8576b\"],[0.6666666666666666,\"#ed7953\"],[0.7777777777777778,\"#fb9f3a\"],[0.8888888888888888,\"#fdca26\"],[1.0,\"#f0f921\"]]}],\"surface\":[{\"type\":\"surface\",\"colorbar\":{\"outlinewidth\":0,\"ticks\":\"\"},\"colorscale\":[[0.0,\"#0d0887\"],[0.1111111111111111,\"#46039f\"],[0.2222222222222222,\"#7201a8\"],[0.3333333333333333,\"#9c179e\"],[0.4444444444444444,\"#bd3786\"],[0.5555555555555556,\"#d8576b\"],[0.6666666666666666,\"#ed7953\"],[0.7777777777777778,\"#fb9f3a\"],[0.8888888888888888,\"#fdca26\"],[1.0,\"#f0f921\"]]}],\"mesh3d\":[{\"type\":\"mesh3d\",\"colorbar\":{\"outlinewidth\":0,\"ticks\":\"\"}}],\"scatter\":[{\"fillpattern\":{\"fillmode\":\"overlay\",\"size\":10,\"solidity\":0.2},\"type\":\"scatter\"}],\"parcoords\":[{\"type\":\"parcoords\",\"line\":{\"colorbar\":{\"outlinewidth\":0,\"ticks\":\"\"}}}],\"scatterpolargl\":[{\"type\":\"scatterpolargl\",\"marker\":{\"colorbar\":{\"outlinewidth\":0,\"ticks\":\"\"}}}],\"bar\":[{\"error_x\":{\"color\":\"#2a3f5f\"},\"error_y\":{\"color\":\"#2a3f5f\"},\"marker\":{\"line\":{\"color\":\"#E5ECF6\",\"width\":0.5},\"pattern\":{\"fillmode\":\"overlay\",\"size\":10,\"solidity\":0.2}},\"type\":\"bar\"}],\"scattergeo\":[{\"type\":\"scattergeo\",\"marker\":{\"colorbar\":{\"outlinewidth\":0,\"ticks\":\"\"}}}],\"scatterpolar\":[{\"type\":\"scatterpolar\",\"marker\":{\"colorbar\":{\"outlinewidth\":0,\"ticks\":\"\"}}}],\"histogram\":[{\"marker\":{\"pattern\":{\"fillmode\":\"overlay\",\"size\":10,\"solidity\":0.2}},\"type\":\"histogram\"}],\"scattergl\":[{\"type\":\"scattergl\",\"marker\":{\"colorbar\":{\"outlinewidth\":0,\"ticks\":\"\"}}}],\"scatter3d\":[{\"type\":\"scatter3d\",\"line\":{\"colorbar\":{\"outlinewidth\":0,\"ticks\":\"\"}},\"marker\":{\"colorbar\":{\"outlinewidth\":0,\"ticks\":\"\"}}}],\"scattermapbox\":[{\"type\":\"scattermapbox\",\"marker\":{\"colorbar\":{\"outlinewidth\":0,\"ticks\":\"\"}}}],\"scatterternary\":[{\"type\":\"scatterternary\",\"marker\":{\"colorbar\":{\"outlinewidth\":0,\"ticks\":\"\"}}}],\"scattercarpet\":[{\"type\":\"scattercarpet\",\"marker\":{\"colorbar\":{\"outlinewidth\":0,\"ticks\":\"\"}}}],\"carpet\":[{\"aaxis\":{\"endlinecolor\":\"#2a3f5f\",\"gridcolor\":\"white\",\"linecolor\":\"white\",\"minorgridcolor\":\"white\",\"startlinecolor\":\"#2a3f5f\"},\"baxis\":{\"endlinecolor\":\"#2a3f5f\",\"gridcolor\":\"white\",\"linecolor\":\"white\",\"minorgridcolor\":\"white\",\"startlinecolor\":\"#2a3f5f\"},\"type\":\"carpet\"}],\"table\":[{\"cells\":{\"fill\":{\"color\":\"#EBF0F8\"},\"line\":{\"color\":\"white\"}},\"header\":{\"fill\":{\"color\":\"#C8D4E3\"},\"line\":{\"color\":\"white\"}},\"type\":\"table\"}],\"barpolar\":[{\"marker\":{\"line\":{\"color\":\"#E5ECF6\",\"width\":0.5},\"pattern\":{\"fillmode\":\"overlay\",\"size\":10,\"solidity\":0.2}},\"type\":\"barpolar\"}],\"pie\":[{\"automargin\":true,\"type\":\"pie\"}]},\"layout\":{\"autotypenumbers\":\"strict\",\"colorway\":[\"#636efa\",\"#EF553B\",\"#00cc96\",\"#ab63fa\",\"#FFA15A\",\"#19d3f3\",\"#FF6692\",\"#B6E880\",\"#FF97FF\",\"#FECB52\"],\"font\":{\"color\":\"#2a3f5f\"},\"hovermode\":\"closest\",\"hoverlabel\":{\"align\":\"left\"},\"paper_bgcolor\":\"white\",\"plot_bgcolor\":\"#E5ECF6\",\"polar\":{\"bgcolor\":\"#E5ECF6\",\"angularaxis\":{\"gridcolor\":\"white\",\"linecolor\":\"white\",\"ticks\":\"\"},\"radialaxis\":{\"gridcolor\":\"white\",\"linecolor\":\"white\",\"ticks\":\"\"}},\"ternary\":{\"bgcolor\":\"#E5ECF6\",\"aaxis\":{\"gridcolor\":\"white\",\"linecolor\":\"white\",\"ticks\":\"\"},\"baxis\":{\"gridcolor\":\"white\",\"linecolor\":\"white\",\"ticks\":\"\"},\"caxis\":{\"gridcolor\":\"white\",\"linecolor\":\"white\",\"ticks\":\"\"}},\"coloraxis\":{\"colorbar\":{\"outlinewidth\":0,\"ticks\":\"\"}},\"colorscale\":{\"sequential\":[[0.0,\"#0d0887\"],[0.1111111111111111,\"#46039f\"],[0.2222222222222222,\"#7201a8\"],[0.3333333333333333,\"#9c179e\"],[0.4444444444444444,\"#bd3786\"],[0.5555555555555556,\"#d8576b\"],[0.6666666666666666,\"#ed7953\"],[0.7777777777777778,\"#fb9f3a\"],[0.8888888888888888,\"#fdca26\"],[1.0,\"#f0f921\"]],\"sequentialminus\":[[0.0,\"#0d0887\"],[0.1111111111111111,\"#46039f\"],[0.2222222222222222,\"#7201a8\"],[0.3333333333333333,\"#9c179e\"],[0.4444444444444444,\"#bd3786\"],[0.5555555555555556,\"#d8576b\"],[0.6666666666666666,\"#ed7953\"],[0.7777777777777778,\"#fb9f3a\"],[0.8888888888888888,\"#fdca26\"],[1.0,\"#f0f921\"]],\"diverging\":[[0,\"#8e0152\"],[0.1,\"#c51b7d\"],[0.2,\"#de77ae\"],[0.3,\"#f1b6da\"],[0.4,\"#fde0ef\"],[0.5,\"#f7f7f7\"],[0.6,\"#e6f5d0\"],[0.7,\"#b8e186\"],[0.8,\"#7fbc41\"],[0.9,\"#4d9221\"],[1,\"#276419\"]]},\"xaxis\":{\"gridcolor\":\"white\",\"linecolor\":\"white\",\"ticks\":\"\",\"title\":{\"standoff\":15},\"zerolinecolor\":\"white\",\"automargin\":true,\"zerolinewidth\":2},\"yaxis\":{\"gridcolor\":\"white\",\"linecolor\":\"white\",\"ticks\":\"\",\"title\":{\"standoff\":15},\"zerolinecolor\":\"white\",\"automargin\":true,\"zerolinewidth\":2},\"scene\":{\"xaxis\":{\"backgroundcolor\":\"#E5ECF6\",\"gridcolor\":\"white\",\"linecolor\":\"white\",\"showbackground\":true,\"ticks\":\"\",\"zerolinecolor\":\"white\",\"gridwidth\":2},\"yaxis\":{\"backgroundcolor\":\"#E5ECF6\",\"gridcolor\":\"white\",\"linecolor\":\"white\",\"showbackground\":true,\"ticks\":\"\",\"zerolinecolor\":\"white\",\"gridwidth\":2},\"zaxis\":{\"backgroundcolor\":\"#E5ECF6\",\"gridcolor\":\"white\",\"linecolor\":\"white\",\"showbackground\":true,\"ticks\":\"\",\"zerolinecolor\":\"white\",\"gridwidth\":2}},\"shapedefaults\":{\"line\":{\"color\":\"#2a3f5f\"}},\"annotationdefaults\":{\"arrowcolor\":\"#2a3f5f\",\"arrowhead\":0,\"arrowwidth\":1},\"geo\":{\"bgcolor\":\"white\",\"landcolor\":\"#E5ECF6\",\"subunitcolor\":\"white\",\"showland\":true,\"showlakes\":true,\"lakecolor\":\"white\"},\"title\":{\"x\":0.05},\"mapbox\":{\"style\":\"light\"}}},\"legend\":{\"tracegroupgap\":0},\"title\":{\"text\":\"Seasonal Share of Coffee Sales\"}},                        {\"responsive\": true}                    ).then(function(){\n",
              "                            \n",
              "var gd = document.getElementById('42281ade-3be2-4740-86a3-a94b7c86d8f9');\n",
              "var x = new MutationObserver(function (mutations, observer) {{\n",
              "        var display = window.getComputedStyle(gd).display;\n",
              "        if (!display || display === 'none') {{\n",
              "            console.log([gd, 'removed!']);\n",
              "            Plotly.purge(gd);\n",
              "            observer.disconnect();\n",
              "        }}\n",
              "}});\n",
              "\n",
              "// Listen for the removal of the full notebook cells\n",
              "var notebookContainer = gd.closest('#notebook-container');\n",
              "if (notebookContainer) {{\n",
              "    x.observe(notebookContainer, {childList: true});\n",
              "}}\n",
              "\n",
              "// Listen for the clearing of the current output cell\n",
              "var outputEl = gd.closest('.output');\n",
              "if (outputEl) {{\n",
              "    x.observe(outputEl, {childList: true});\n",
              "}}\n",
              "\n",
              "                        })                };                            </script>        </div>\n",
              "</body>\n",
              "</html>"
            ]
          },
          "metadata": {}
        }
      ],
      "source": [
        "# 1. Group by month\n",
        "monthly_sales = df.groupby([\"Monthsort\", \"Month_name\"])[\"money\"].sum().reset_index()\n",
        "\n",
        "# 2. Find the month with the highest revenue\n",
        "best_idx = monthly_sales[\"money\"].idxmax()\n",
        "best_month = monthly_sales.loc[best_idx, \"Month_name\"]\n",
        "best_value = monthly_sales.loc[best_idx, \"money\"]\n",
        "\n",
        "print(\"\\n=== Monthly Sales Analysis ===\")\n",
        "print(\"Month with highest total sales:\", best_month, \"→\", round(best_value, 2))\n",
        "\n",
        "# 3. Visualization\n",
        "fig = px.line(\n",
        "    monthly_sales,\n",
        "    x=\"Monthsort\",\n",
        "    y=\"money\",\n",
        "    text=\"Month_name\",\n",
        "    markers=True,\n",
        "    labels={\"Monthsort\": \"Month\", \"money\": \"Total Sales\"},\n",
        "    title=\"Monthly Coffee Sales Trend\"\n",
        ")\n",
        "fig.update_traces(textposition=\"top center\")\n",
        "fig.update_layout(\n",
        "    xaxis=dict(\n",
        "        tickmode=\"array\",\n",
        "        tickvals=monthly_sales[\"Monthsort\"],\n",
        "        ticktext=monthly_sales[\"Month_name\"]\n",
        "    ),\n",
        "    xaxis_title=\"Month\",\n",
        "    yaxis_title=\"Total Sales\"\n",
        ")\n",
        "fig.show()\n",
        "\n",
        "# 4. Visualization Using Plotly\n",
        "fig = px.bar(\n",
        "    monthly_sales,\n",
        "    x=\"Month_name\",\n",
        "    y=\"money\",\n",
        "    color=\"money\",\n",
        "    color_continuous_scale=\"tealgrn\",\n",
        "    labels={\"Month_name\": \"Month\", \"money\": \"Total Sales\"},\n",
        "    title=\"Total Coffee Sales by Month\"\n",
        ")\n",
        "fig.update_layout(xaxis_title=\"Month\", yaxis_title=\"Total Sales\")\n",
        "fig.show()\n",
        "\n",
        "\n",
        "\n",
        "# 1. Map months to seasons\n",
        "season_map = {\n",
        "    12: \"Winter\", 1: \"Winter\", 2: \"Winter\",\n",
        "    3: \"Spring\", 4: \"Spring\", 5: \"Spring\",\n",
        "    6: \"Summer\", 7: \"Summer\", 8: \"Summer\",\n",
        "    9: \"Autumn\", 10: \"Autumn\", 11: \"Autumn\"\n",
        "}\n",
        "df[\"Season\"] = df[\"Monthsort\"].map(season_map)\n",
        "\n",
        "# 2. Group sales by season\n",
        "seasonal_sales = df.groupby(\"Season\")[\"money\"].sum().reset_index()\n",
        "\n",
        "# 3. Find the season with the highest revenue\n",
        "best_idx = seasonal_sales[\"money\"].idxmax()\n",
        "best_season = seasonal_sales.loc[best_idx, \"Season\"]\n",
        "best_value = seasonal_sales.loc[best_idx, \"money\"]\n",
        "\n",
        "print(\"\\n=== Seasonal Sales Analysis ===\")\n",
        "print(\"Season with highest total sales:\", best_season, \"→\", round(best_value, 2))\n",
        "\n",
        "# 4. Visualization\n",
        "fig = px.bar(\n",
        "    seasonal_sales,\n",
        "    x=\"Season\",\n",
        "    y=\"money\",\n",
        "    color=\"money\",\n",
        "    color_continuous_scale=\"viridis\",\n",
        "    labels={\"Season\": \"Season\", \"money\": \"Total Sales\"},\n",
        "    title=\"Total Coffee Sales by Season\"\n",
        ")\n",
        "fig.update_layout(xaxis_title=\"Season\", yaxis_title=\"Total Sales\")\n",
        "fig.show()\n",
        "\n",
        "# 5. Visualization\n",
        "fig = px.pie(\n",
        "    seasonal_sales,\n",
        "    names=\"Season\",\n",
        "    values=\"money\",\n",
        "    color=\"Season\",\n",
        "    color_discrete_map={\"Winter\": \"lightblue\", \"Spring\": \"green\", \"Summer\": \"orange\", \"Autumn\": \"brown\"},\n",
        "    title=\"Seasonal Share of Coffee Sales\"\n",
        ")\n",
        "fig.update_traces(textposition=\"inside\", textinfo=\"percent+label\")\n",
        "fig.show()\n",
        "\n"
      ]
    },
    {
      "cell_type": "markdown",
      "id": "5abc03bc",
      "metadata": {
        "id": "5abc03bc"
      },
      "source": [
        "### 6- Best Coffee Type in March (highest month)"
      ]
    },
    {
      "cell_type": "code",
      "execution_count": 16,
      "id": "b44e35fb",
      "metadata": {
        "colab": {
          "base_uri": "https://localhost:8080/",
          "height": 594
        },
        "id": "b44e35fb",
        "outputId": "e01847cd-1b42-4816-a460-99d854f422a4"
      },
      "outputs": [
        {
          "output_type": "stream",
          "name": "stdout",
          "text": [
            "\n",
            "=== Best Coffee in March ===\n",
            "Coffee type with highest total sales: Americano → 3572.72\n"
          ]
        },
        {
          "output_type": "display_data",
          "data": {
            "text/html": [
              "<html>\n",
              "<head><meta charset=\"utf-8\" /></head>\n",
              "<body>\n",
              "    <div>            <script src=\"https://cdnjs.cloudflare.com/ajax/libs/mathjax/2.7.5/MathJax.js?config=TeX-AMS-MML_SVG\"></script><script type=\"text/javascript\">if (window.MathJax && window.MathJax.Hub && window.MathJax.Hub.Config) {window.MathJax.Hub.Config({SVG: {font: \"STIX-Web\"}});}</script>                <script type=\"text/javascript\">window.PlotlyConfig = {MathJaxConfig: 'local'};</script>\n",
              "        <script charset=\"utf-8\" src=\"https://cdn.plot.ly/plotly-2.35.2.min.js\"></script>                <div id=\"619c248c-c9af-45d1-9e44-1fad2d5ffe06\" class=\"plotly-graph-div\" style=\"height:525px; width:100%;\"></div>            <script type=\"text/javascript\">                                    window.PLOTLYENV=window.PLOTLYENV || {};                                    if (document.getElementById(\"619c248c-c9af-45d1-9e44-1fad2d5ffe06\")) {                    Plotly.newPlot(                        \"619c248c-c9af-45d1-9e44-1fad2d5ffe06\",                        [{\"alignmentgroup\":\"True\",\"hovertemplate\":\"Coffee Type=%{x}\\u003cbr\\u003eTotal Sales=%{marker.color}\\u003cextra\\u003e\\u003c\\u002fextra\\u003e\",\"legendgroup\":\"\",\"marker\":{\"color\":[3572.7200000000003,2618.72,2118.18,1305.0,861.12,426.59999999999997,1596.48,3392.82],\"coloraxis\":\"coloraxis\",\"pattern\":{\"shape\":\"\"}},\"name\":\"\",\"offsetgroup\":\"\",\"orientation\":\"v\",\"showlegend\":false,\"textposition\":\"auto\",\"x\":[\"Americano\",\"Americano with Milk\",\"Cappuccino\",\"Cocoa\",\"Cortado\",\"Espresso\",\"Hot Chocolate\",\"Latte\"],\"xaxis\":\"x\",\"y\":[3572.7200000000003,2618.72,2118.18,1305.0,861.12,426.59999999999997,1596.48,3392.82],\"yaxis\":\"y\",\"type\":\"bar\"}],                        {\"template\":{\"data\":{\"histogram2dcontour\":[{\"type\":\"histogram2dcontour\",\"colorbar\":{\"outlinewidth\":0,\"ticks\":\"\"},\"colorscale\":[[0.0,\"#0d0887\"],[0.1111111111111111,\"#46039f\"],[0.2222222222222222,\"#7201a8\"],[0.3333333333333333,\"#9c179e\"],[0.4444444444444444,\"#bd3786\"],[0.5555555555555556,\"#d8576b\"],[0.6666666666666666,\"#ed7953\"],[0.7777777777777778,\"#fb9f3a\"],[0.8888888888888888,\"#fdca26\"],[1.0,\"#f0f921\"]]}],\"choropleth\":[{\"type\":\"choropleth\",\"colorbar\":{\"outlinewidth\":0,\"ticks\":\"\"}}],\"histogram2d\":[{\"type\":\"histogram2d\",\"colorbar\":{\"outlinewidth\":0,\"ticks\":\"\"},\"colorscale\":[[0.0,\"#0d0887\"],[0.1111111111111111,\"#46039f\"],[0.2222222222222222,\"#7201a8\"],[0.3333333333333333,\"#9c179e\"],[0.4444444444444444,\"#bd3786\"],[0.5555555555555556,\"#d8576b\"],[0.6666666666666666,\"#ed7953\"],[0.7777777777777778,\"#fb9f3a\"],[0.8888888888888888,\"#fdca26\"],[1.0,\"#f0f921\"]]}],\"heatmap\":[{\"type\":\"heatmap\",\"colorbar\":{\"outlinewidth\":0,\"ticks\":\"\"},\"colorscale\":[[0.0,\"#0d0887\"],[0.1111111111111111,\"#46039f\"],[0.2222222222222222,\"#7201a8\"],[0.3333333333333333,\"#9c179e\"],[0.4444444444444444,\"#bd3786\"],[0.5555555555555556,\"#d8576b\"],[0.6666666666666666,\"#ed7953\"],[0.7777777777777778,\"#fb9f3a\"],[0.8888888888888888,\"#fdca26\"],[1.0,\"#f0f921\"]]}],\"heatmapgl\":[{\"type\":\"heatmapgl\",\"colorbar\":{\"outlinewidth\":0,\"ticks\":\"\"},\"colorscale\":[[0.0,\"#0d0887\"],[0.1111111111111111,\"#46039f\"],[0.2222222222222222,\"#7201a8\"],[0.3333333333333333,\"#9c179e\"],[0.4444444444444444,\"#bd3786\"],[0.5555555555555556,\"#d8576b\"],[0.6666666666666666,\"#ed7953\"],[0.7777777777777778,\"#fb9f3a\"],[0.8888888888888888,\"#fdca26\"],[1.0,\"#f0f921\"]]}],\"contourcarpet\":[{\"type\":\"contourcarpet\",\"colorbar\":{\"outlinewidth\":0,\"ticks\":\"\"}}],\"contour\":[{\"type\":\"contour\",\"colorbar\":{\"outlinewidth\":0,\"ticks\":\"\"},\"colorscale\":[[0.0,\"#0d0887\"],[0.1111111111111111,\"#46039f\"],[0.2222222222222222,\"#7201a8\"],[0.3333333333333333,\"#9c179e\"],[0.4444444444444444,\"#bd3786\"],[0.5555555555555556,\"#d8576b\"],[0.6666666666666666,\"#ed7953\"],[0.7777777777777778,\"#fb9f3a\"],[0.8888888888888888,\"#fdca26\"],[1.0,\"#f0f921\"]]}],\"surface\":[{\"type\":\"surface\",\"colorbar\":{\"outlinewidth\":0,\"ticks\":\"\"},\"colorscale\":[[0.0,\"#0d0887\"],[0.1111111111111111,\"#46039f\"],[0.2222222222222222,\"#7201a8\"],[0.3333333333333333,\"#9c179e\"],[0.4444444444444444,\"#bd3786\"],[0.5555555555555556,\"#d8576b\"],[0.6666666666666666,\"#ed7953\"],[0.7777777777777778,\"#fb9f3a\"],[0.8888888888888888,\"#fdca26\"],[1.0,\"#f0f921\"]]}],\"mesh3d\":[{\"type\":\"mesh3d\",\"colorbar\":{\"outlinewidth\":0,\"ticks\":\"\"}}],\"scatter\":[{\"fillpattern\":{\"fillmode\":\"overlay\",\"size\":10,\"solidity\":0.2},\"type\":\"scatter\"}],\"parcoords\":[{\"type\":\"parcoords\",\"line\":{\"colorbar\":{\"outlinewidth\":0,\"ticks\":\"\"}}}],\"scatterpolargl\":[{\"type\":\"scatterpolargl\",\"marker\":{\"colorbar\":{\"outlinewidth\":0,\"ticks\":\"\"}}}],\"bar\":[{\"error_x\":{\"color\":\"#2a3f5f\"},\"error_y\":{\"color\":\"#2a3f5f\"},\"marker\":{\"line\":{\"color\":\"#E5ECF6\",\"width\":0.5},\"pattern\":{\"fillmode\":\"overlay\",\"size\":10,\"solidity\":0.2}},\"type\":\"bar\"}],\"scattergeo\":[{\"type\":\"scattergeo\",\"marker\":{\"colorbar\":{\"outlinewidth\":0,\"ticks\":\"\"}}}],\"scatterpolar\":[{\"type\":\"scatterpolar\",\"marker\":{\"colorbar\":{\"outlinewidth\":0,\"ticks\":\"\"}}}],\"histogram\":[{\"marker\":{\"pattern\":{\"fillmode\":\"overlay\",\"size\":10,\"solidity\":0.2}},\"type\":\"histogram\"}],\"scattergl\":[{\"type\":\"scattergl\",\"marker\":{\"colorbar\":{\"outlinewidth\":0,\"ticks\":\"\"}}}],\"scatter3d\":[{\"type\":\"scatter3d\",\"line\":{\"colorbar\":{\"outlinewidth\":0,\"ticks\":\"\"}},\"marker\":{\"colorbar\":{\"outlinewidth\":0,\"ticks\":\"\"}}}],\"scattermapbox\":[{\"type\":\"scattermapbox\",\"marker\":{\"colorbar\":{\"outlinewidth\":0,\"ticks\":\"\"}}}],\"scatterternary\":[{\"type\":\"scatterternary\",\"marker\":{\"colorbar\":{\"outlinewidth\":0,\"ticks\":\"\"}}}],\"scattercarpet\":[{\"type\":\"scattercarpet\",\"marker\":{\"colorbar\":{\"outlinewidth\":0,\"ticks\":\"\"}}}],\"carpet\":[{\"aaxis\":{\"endlinecolor\":\"#2a3f5f\",\"gridcolor\":\"white\",\"linecolor\":\"white\",\"minorgridcolor\":\"white\",\"startlinecolor\":\"#2a3f5f\"},\"baxis\":{\"endlinecolor\":\"#2a3f5f\",\"gridcolor\":\"white\",\"linecolor\":\"white\",\"minorgridcolor\":\"white\",\"startlinecolor\":\"#2a3f5f\"},\"type\":\"carpet\"}],\"table\":[{\"cells\":{\"fill\":{\"color\":\"#EBF0F8\"},\"line\":{\"color\":\"white\"}},\"header\":{\"fill\":{\"color\":\"#C8D4E3\"},\"line\":{\"color\":\"white\"}},\"type\":\"table\"}],\"barpolar\":[{\"marker\":{\"line\":{\"color\":\"#E5ECF6\",\"width\":0.5},\"pattern\":{\"fillmode\":\"overlay\",\"size\":10,\"solidity\":0.2}},\"type\":\"barpolar\"}],\"pie\":[{\"automargin\":true,\"type\":\"pie\"}]},\"layout\":{\"autotypenumbers\":\"strict\",\"colorway\":[\"#636efa\",\"#EF553B\",\"#00cc96\",\"#ab63fa\",\"#FFA15A\",\"#19d3f3\",\"#FF6692\",\"#B6E880\",\"#FF97FF\",\"#FECB52\"],\"font\":{\"color\":\"#2a3f5f\"},\"hovermode\":\"closest\",\"hoverlabel\":{\"align\":\"left\"},\"paper_bgcolor\":\"white\",\"plot_bgcolor\":\"#E5ECF6\",\"polar\":{\"bgcolor\":\"#E5ECF6\",\"angularaxis\":{\"gridcolor\":\"white\",\"linecolor\":\"white\",\"ticks\":\"\"},\"radialaxis\":{\"gridcolor\":\"white\",\"linecolor\":\"white\",\"ticks\":\"\"}},\"ternary\":{\"bgcolor\":\"#E5ECF6\",\"aaxis\":{\"gridcolor\":\"white\",\"linecolor\":\"white\",\"ticks\":\"\"},\"baxis\":{\"gridcolor\":\"white\",\"linecolor\":\"white\",\"ticks\":\"\"},\"caxis\":{\"gridcolor\":\"white\",\"linecolor\":\"white\",\"ticks\":\"\"}},\"coloraxis\":{\"colorbar\":{\"outlinewidth\":0,\"ticks\":\"\"}},\"colorscale\":{\"sequential\":[[0.0,\"#0d0887\"],[0.1111111111111111,\"#46039f\"],[0.2222222222222222,\"#7201a8\"],[0.3333333333333333,\"#9c179e\"],[0.4444444444444444,\"#bd3786\"],[0.5555555555555556,\"#d8576b\"],[0.6666666666666666,\"#ed7953\"],[0.7777777777777778,\"#fb9f3a\"],[0.8888888888888888,\"#fdca26\"],[1.0,\"#f0f921\"]],\"sequentialminus\":[[0.0,\"#0d0887\"],[0.1111111111111111,\"#46039f\"],[0.2222222222222222,\"#7201a8\"],[0.3333333333333333,\"#9c179e\"],[0.4444444444444444,\"#bd3786\"],[0.5555555555555556,\"#d8576b\"],[0.6666666666666666,\"#ed7953\"],[0.7777777777777778,\"#fb9f3a\"],[0.8888888888888888,\"#fdca26\"],[1.0,\"#f0f921\"]],\"diverging\":[[0,\"#8e0152\"],[0.1,\"#c51b7d\"],[0.2,\"#de77ae\"],[0.3,\"#f1b6da\"],[0.4,\"#fde0ef\"],[0.5,\"#f7f7f7\"],[0.6,\"#e6f5d0\"],[0.7,\"#b8e186\"],[0.8,\"#7fbc41\"],[0.9,\"#4d9221\"],[1,\"#276419\"]]},\"xaxis\":{\"gridcolor\":\"white\",\"linecolor\":\"white\",\"ticks\":\"\",\"title\":{\"standoff\":15},\"zerolinecolor\":\"white\",\"automargin\":true,\"zerolinewidth\":2},\"yaxis\":{\"gridcolor\":\"white\",\"linecolor\":\"white\",\"ticks\":\"\",\"title\":{\"standoff\":15},\"zerolinecolor\":\"white\",\"automargin\":true,\"zerolinewidth\":2},\"scene\":{\"xaxis\":{\"backgroundcolor\":\"#E5ECF6\",\"gridcolor\":\"white\",\"linecolor\":\"white\",\"showbackground\":true,\"ticks\":\"\",\"zerolinecolor\":\"white\",\"gridwidth\":2},\"yaxis\":{\"backgroundcolor\":\"#E5ECF6\",\"gridcolor\":\"white\",\"linecolor\":\"white\",\"showbackground\":true,\"ticks\":\"\",\"zerolinecolor\":\"white\",\"gridwidth\":2},\"zaxis\":{\"backgroundcolor\":\"#E5ECF6\",\"gridcolor\":\"white\",\"linecolor\":\"white\",\"showbackground\":true,\"ticks\":\"\",\"zerolinecolor\":\"white\",\"gridwidth\":2}},\"shapedefaults\":{\"line\":{\"color\":\"#2a3f5f\"}},\"annotationdefaults\":{\"arrowcolor\":\"#2a3f5f\",\"arrowhead\":0,\"arrowwidth\":1},\"geo\":{\"bgcolor\":\"white\",\"landcolor\":\"#E5ECF6\",\"subunitcolor\":\"white\",\"showland\":true,\"showlakes\":true,\"lakecolor\":\"white\"},\"title\":{\"x\":0.05},\"mapbox\":{\"style\":\"light\"}}},\"xaxis\":{\"anchor\":\"y\",\"domain\":[0.0,1.0],\"title\":{\"text\":\"Coffee Type\"}},\"yaxis\":{\"anchor\":\"x\",\"domain\":[0.0,1.0],\"title\":{\"text\":\"Total Sales\"}},\"coloraxis\":{\"colorbar\":{\"title\":{\"text\":\"Total Sales\"}},\"colorscale\":[[0.0,\"rgb(176, 242, 188)\"],[0.16666666666666666,\"rgb(137, 232, 172)\"],[0.3333333333333333,\"rgb(103, 219, 165)\"],[0.5,\"rgb(76, 200, 163)\"],[0.6666666666666666,\"rgb(56, 178, 163)\"],[0.8333333333333334,\"rgb(44, 152, 160)\"],[1.0,\"rgb(37, 125, 152)\"]]},\"legend\":{\"tracegroupgap\":0},\"title\":{\"text\":\"Coffee Sales in March\"},\"barmode\":\"relative\"},                        {\"responsive\": true}                    ).then(function(){\n",
              "                            \n",
              "var gd = document.getElementById('619c248c-c9af-45d1-9e44-1fad2d5ffe06');\n",
              "var x = new MutationObserver(function (mutations, observer) {{\n",
              "        var display = window.getComputedStyle(gd).display;\n",
              "        if (!display || display === 'none') {{\n",
              "            console.log([gd, 'removed!']);\n",
              "            Plotly.purge(gd);\n",
              "            observer.disconnect();\n",
              "        }}\n",
              "}});\n",
              "\n",
              "// Listen for the removal of the full notebook cells\n",
              "var notebookContainer = gd.closest('#notebook-container');\n",
              "if (notebookContainer) {{\n",
              "    x.observe(notebookContainer, {childList: true});\n",
              "}}\n",
              "\n",
              "// Listen for the clearing of the current output cell\n",
              "var outputEl = gd.closest('.output');\n",
              "if (outputEl) {{\n",
              "    x.observe(outputEl, {childList: true});\n",
              "}}\n",
              "\n",
              "                        })                };                            </script>        </div>\n",
              "</body>\n",
              "</html>"
            ]
          },
          "metadata": {}
        }
      ],
      "source": [
        "# 1. Filter March\n",
        "df_march = df[df[\"Month_name\"] == \"Mar\"]\n",
        "\n",
        "# 2. Group sales by coffee type\n",
        "march_sales = df_march.groupby(\"coffee_name\")[\"money\"].sum().reset_index()\n",
        "\n",
        "# 3. Find top coffee type\n",
        "best_idx = march_sales[\"money\"].idxmax()\n",
        "best_type = march_sales.loc[best_idx, \"coffee_name\"]\n",
        "best_value = march_sales.loc[best_idx, \"money\"]\n",
        "\n",
        "print(\"\\n=== Best Coffee in March ===\")\n",
        "print(\"Coffee type with highest total sales:\", best_type, \"→\", round(best_value, 2))\n",
        "\n",
        "# 4. Visualization\n",
        "fig = px.bar(\n",
        "    march_sales,\n",
        "    x=\"coffee_name\",\n",
        "    y=\"money\",\n",
        "    color=\"money\",\n",
        "    color_continuous_scale=\"tealgrn\",\n",
        "    labels={\"coffee_name\": \"Coffee Type\", \"money\": \"Total Sales\"},\n",
        "    title=\"Coffee Sales in March\"\n",
        ")\n",
        "fig.update_layout(xaxis_title=\"Coffee Type\", yaxis_title=\"Total Sales\")\n",
        "fig.show()\n"
      ]
    },
    {
      "cell_type": "markdown",
      "id": "ad6d883c",
      "metadata": {
        "id": "ad6d883c"
      },
      "source": [
        "### 7- Best Coffee Type in Each Season"
      ]
    },
    {
      "cell_type": "code",
      "execution_count": 17,
      "id": "c5ce76c3",
      "metadata": {
        "colab": {
          "base_uri": "https://localhost:8080/",
          "height": 646
        },
        "id": "c5ce76c3",
        "outputId": "5ca1e176-c566-4f5a-b02d-9763c8172219"
      },
      "outputs": [
        {
          "output_type": "stream",
          "name": "stdout",
          "text": [
            "\n",
            "=== Best Coffee Type by Season ===\n",
            "Autumn: Latte → 9837.36\n",
            "Spring: Latte → 6312.94\n",
            "Summer: Americano with Milk → 6040.16\n",
            "Winter: Americano with Milk → 5986.84\n"
          ]
        },
        {
          "output_type": "display_data",
          "data": {
            "text/html": [
              "<html>\n",
              "<head><meta charset=\"utf-8\" /></head>\n",
              "<body>\n",
              "    <div>            <script src=\"https://cdnjs.cloudflare.com/ajax/libs/mathjax/2.7.5/MathJax.js?config=TeX-AMS-MML_SVG\"></script><script type=\"text/javascript\">if (window.MathJax && window.MathJax.Hub && window.MathJax.Hub.Config) {window.MathJax.Hub.Config({SVG: {font: \"STIX-Web\"}});}</script>                <script type=\"text/javascript\">window.PlotlyConfig = {MathJaxConfig: 'local'};</script>\n",
              "        <script charset=\"utf-8\" src=\"https://cdn.plot.ly/plotly-2.35.2.min.js\"></script>                <div id=\"a4a9922d-5e5d-4df1-94fb-565bcb2a59e4\" class=\"plotly-graph-div\" style=\"height:525px; width:100%;\"></div>            <script type=\"text/javascript\">                                    window.PLOTLYENV=window.PLOTLYENV || {};                                    if (document.getElementById(\"a4a9922d-5e5d-4df1-94fb-565bcb2a59e4\")) {                    Plotly.newPlot(                        \"a4a9922d-5e5d-4df1-94fb-565bcb2a59e4\",                        [{\"alignmentgroup\":\"True\",\"hovertemplate\":\"coffee_name=Americano\\u003cbr\\u003eSeason=%{x}\\u003cbr\\u003eTotal Sales=%{y}\\u003cextra\\u003e\\u003c\\u002fextra\\u003e\",\"legendgroup\":\"Americano\",\"marker\":{\"color\":\"#636efa\",\"pattern\":{\"shape\":\"\"}},\"name\":\"Americano\",\"offsetgroup\":\"Americano\",\"orientation\":\"v\",\"showlegend\":true,\"textposition\":\"auto\",\"x\":[\"Autumn\",\"Spring\",\"Summer\",\"Winter\"],\"xaxis\":\"x\",\"y\":[2530.82,5631.46,2100.74,4387.24],\"yaxis\":\"y\",\"type\":\"bar\"},{\"alignmentgroup\":\"True\",\"hovertemplate\":\"coffee_name=Americano with Milk\\u003cbr\\u003eSeason=%{x}\\u003cbr\\u003eTotal Sales=%{y}\\u003cextra\\u003e\\u003c\\u002fextra\\u003e\",\"legendgroup\":\"Americano with Milk\",\"marker\":{\"color\":\"#EF553B\",\"pattern\":{\"shape\":\"\"}},\"name\":\"Americano with Milk\",\"offsetgroup\":\"Americano with Milk\",\"orientation\":\"v\",\"showlegend\":true,\"textposition\":\"auto\",\"x\":[\"Autumn\",\"Spring\",\"Summer\",\"Winter\"],\"xaxis\":\"x\",\"y\":[7065.38,5658.74,6040.16,5986.84],\"yaxis\":\"y\",\"type\":\"bar\"},{\"alignmentgroup\":\"True\",\"hovertemplate\":\"coffee_name=Cappuccino\\u003cbr\\u003eSeason=%{x}\\u003cbr\\u003eTotal Sales=%{y}\\u003cextra\\u003e\\u003c\\u002fextra\\u003e\",\"legendgroup\":\"Cappuccino\",\"marker\":{\"color\":\"#00cc96\",\"pattern\":{\"shape\":\"\"}},\"name\":\"Cappuccino\",\"offsetgroup\":\"Cappuccino\",\"orientation\":\"v\",\"showlegend\":true,\"textposition\":\"auto\",\"x\":[\"Autumn\",\"Spring\",\"Summer\",\"Winter\"],\"xaxis\":\"x\",\"y\":[3863.52,5461.06,3930.64,4183.92],\"yaxis\":\"y\",\"type\":\"bar\"},{\"alignmentgroup\":\"True\",\"hovertemplate\":\"coffee_name=Cocoa\\u003cbr\\u003eSeason=%{x}\\u003cbr\\u003eTotal Sales=%{y}\\u003cextra\\u003e\\u003c\\u002fextra\\u003e\",\"legendgroup\":\"Cocoa\",\"marker\":{\"color\":\"#ab63fa\",\"pattern\":{\"shape\":\"\"}},\"name\":\"Cocoa\",\"offsetgroup\":\"Cocoa\",\"orientation\":\"v\",\"showlegend\":true,\"textposition\":\"auto\",\"x\":[\"Autumn\",\"Spring\",\"Summer\",\"Winter\"],\"xaxis\":\"x\",\"y\":[2694.24,1760.58,812.18,3254.16],\"yaxis\":\"y\",\"type\":\"bar\"},{\"alignmentgroup\":\"True\",\"hovertemplate\":\"coffee_name=Cortado\\u003cbr\\u003eSeason=%{x}\\u003cbr\\u003eTotal Sales=%{y}\\u003cextra\\u003e\\u003c\\u002fextra\\u003e\",\"legendgroup\":\"Cortado\",\"marker\":{\"color\":\"#FFA15A\",\"pattern\":{\"shape\":\"\"}},\"name\":\"Cortado\",\"offsetgroup\":\"Cortado\",\"orientation\":\"v\",\"showlegend\":true,\"textposition\":\"auto\",\"x\":[\"Autumn\",\"Spring\",\"Summer\",\"Winter\"],\"xaxis\":\"x\",\"y\":[2181.58,1794.24,1773.56,1635.48],\"yaxis\":\"y\",\"type\":\"bar\"},{\"alignmentgroup\":\"True\",\"hovertemplate\":\"coffee_name=Espresso\\u003cbr\\u003eSeason=%{x}\\u003cbr\\u003eTotal Sales=%{y}\\u003cextra\\u003e\\u003c\\u002fextra\\u003e\",\"legendgroup\":\"Espresso\",\"marker\":{\"color\":\"#19d3f3\",\"pattern\":{\"shape\":\"\"}},\"name\":\"Espresso\",\"offsetgroup\":\"Espresso\",\"orientation\":\"v\",\"showlegend\":true,\"textposition\":\"auto\",\"x\":[\"Autumn\",\"Spring\",\"Summer\",\"Winter\"],\"xaxis\":\"x\",\"y\":[533.34,683.74,757.16,716.04],\"yaxis\":\"y\",\"type\":\"bar\"},{\"alignmentgroup\":\"True\",\"hovertemplate\":\"coffee_name=Hot Chocolate\\u003cbr\\u003eSeason=%{x}\\u003cbr\\u003eTotal Sales=%{y}\\u003cextra\\u003e\\u003c\\u002fextra\\u003e\",\"legendgroup\":\"Hot Chocolate\",\"marker\":{\"color\":\"#FF6692\",\"pattern\":{\"shape\":\"\"}},\"name\":\"Hot Chocolate\",\"offsetgroup\":\"Hot Chocolate\",\"orientation\":\"v\",\"showlegend\":true,\"textposition\":\"auto\",\"x\":[\"Autumn\",\"Spring\",\"Summer\",\"Winter\"],\"xaxis\":\"x\",\"y\":[3764.1,2472.86,1086.02,2610.48],\"yaxis\":\"y\",\"type\":\"bar\"},{\"alignmentgroup\":\"True\",\"hovertemplate\":\"coffee_name=Latte\\u003cbr\\u003eSeason=%{x}\\u003cbr\\u003eTotal Sales=%{y}\\u003cextra\\u003e\\u003c\\u002fextra\\u003e\",\"legendgroup\":\"Latte\",\"marker\":{\"color\":\"#B6E880\",\"pattern\":{\"shape\":\"\"}},\"name\":\"Latte\",\"offsetgroup\":\"Latte\",\"orientation\":\"v\",\"showlegend\":true,\"textposition\":\"auto\",\"x\":[\"Autumn\",\"Spring\",\"Summer\",\"Winter\"],\"xaxis\":\"x\",\"y\":[9837.359999999999,6312.94,5647.08,5077.92],\"yaxis\":\"y\",\"type\":\"bar\"}],                        {\"template\":{\"data\":{\"histogram2dcontour\":[{\"type\":\"histogram2dcontour\",\"colorbar\":{\"outlinewidth\":0,\"ticks\":\"\"},\"colorscale\":[[0.0,\"#0d0887\"],[0.1111111111111111,\"#46039f\"],[0.2222222222222222,\"#7201a8\"],[0.3333333333333333,\"#9c179e\"],[0.4444444444444444,\"#bd3786\"],[0.5555555555555556,\"#d8576b\"],[0.6666666666666666,\"#ed7953\"],[0.7777777777777778,\"#fb9f3a\"],[0.8888888888888888,\"#fdca26\"],[1.0,\"#f0f921\"]]}],\"choropleth\":[{\"type\":\"choropleth\",\"colorbar\":{\"outlinewidth\":0,\"ticks\":\"\"}}],\"histogram2d\":[{\"type\":\"histogram2d\",\"colorbar\":{\"outlinewidth\":0,\"ticks\":\"\"},\"colorscale\":[[0.0,\"#0d0887\"],[0.1111111111111111,\"#46039f\"],[0.2222222222222222,\"#7201a8\"],[0.3333333333333333,\"#9c179e\"],[0.4444444444444444,\"#bd3786\"],[0.5555555555555556,\"#d8576b\"],[0.6666666666666666,\"#ed7953\"],[0.7777777777777778,\"#fb9f3a\"],[0.8888888888888888,\"#fdca26\"],[1.0,\"#f0f921\"]]}],\"heatmap\":[{\"type\":\"heatmap\",\"colorbar\":{\"outlinewidth\":0,\"ticks\":\"\"},\"colorscale\":[[0.0,\"#0d0887\"],[0.1111111111111111,\"#46039f\"],[0.2222222222222222,\"#7201a8\"],[0.3333333333333333,\"#9c179e\"],[0.4444444444444444,\"#bd3786\"],[0.5555555555555556,\"#d8576b\"],[0.6666666666666666,\"#ed7953\"],[0.7777777777777778,\"#fb9f3a\"],[0.8888888888888888,\"#fdca26\"],[1.0,\"#f0f921\"]]}],\"heatmapgl\":[{\"type\":\"heatmapgl\",\"colorbar\":{\"outlinewidth\":0,\"ticks\":\"\"},\"colorscale\":[[0.0,\"#0d0887\"],[0.1111111111111111,\"#46039f\"],[0.2222222222222222,\"#7201a8\"],[0.3333333333333333,\"#9c179e\"],[0.4444444444444444,\"#bd3786\"],[0.5555555555555556,\"#d8576b\"],[0.6666666666666666,\"#ed7953\"],[0.7777777777777778,\"#fb9f3a\"],[0.8888888888888888,\"#fdca26\"],[1.0,\"#f0f921\"]]}],\"contourcarpet\":[{\"type\":\"contourcarpet\",\"colorbar\":{\"outlinewidth\":0,\"ticks\":\"\"}}],\"contour\":[{\"type\":\"contour\",\"colorbar\":{\"outlinewidth\":0,\"ticks\":\"\"},\"colorscale\":[[0.0,\"#0d0887\"],[0.1111111111111111,\"#46039f\"],[0.2222222222222222,\"#7201a8\"],[0.3333333333333333,\"#9c179e\"],[0.4444444444444444,\"#bd3786\"],[0.5555555555555556,\"#d8576b\"],[0.6666666666666666,\"#ed7953\"],[0.7777777777777778,\"#fb9f3a\"],[0.8888888888888888,\"#fdca26\"],[1.0,\"#f0f921\"]]}],\"surface\":[{\"type\":\"surface\",\"colorbar\":{\"outlinewidth\":0,\"ticks\":\"\"},\"colorscale\":[[0.0,\"#0d0887\"],[0.1111111111111111,\"#46039f\"],[0.2222222222222222,\"#7201a8\"],[0.3333333333333333,\"#9c179e\"],[0.4444444444444444,\"#bd3786\"],[0.5555555555555556,\"#d8576b\"],[0.6666666666666666,\"#ed7953\"],[0.7777777777777778,\"#fb9f3a\"],[0.8888888888888888,\"#fdca26\"],[1.0,\"#f0f921\"]]}],\"mesh3d\":[{\"type\":\"mesh3d\",\"colorbar\":{\"outlinewidth\":0,\"ticks\":\"\"}}],\"scatter\":[{\"fillpattern\":{\"fillmode\":\"overlay\",\"size\":10,\"solidity\":0.2},\"type\":\"scatter\"}],\"parcoords\":[{\"type\":\"parcoords\",\"line\":{\"colorbar\":{\"outlinewidth\":0,\"ticks\":\"\"}}}],\"scatterpolargl\":[{\"type\":\"scatterpolargl\",\"marker\":{\"colorbar\":{\"outlinewidth\":0,\"ticks\":\"\"}}}],\"bar\":[{\"error_x\":{\"color\":\"#2a3f5f\"},\"error_y\":{\"color\":\"#2a3f5f\"},\"marker\":{\"line\":{\"color\":\"#E5ECF6\",\"width\":0.5},\"pattern\":{\"fillmode\":\"overlay\",\"size\":10,\"solidity\":0.2}},\"type\":\"bar\"}],\"scattergeo\":[{\"type\":\"scattergeo\",\"marker\":{\"colorbar\":{\"outlinewidth\":0,\"ticks\":\"\"}}}],\"scatterpolar\":[{\"type\":\"scatterpolar\",\"marker\":{\"colorbar\":{\"outlinewidth\":0,\"ticks\":\"\"}}}],\"histogram\":[{\"marker\":{\"pattern\":{\"fillmode\":\"overlay\",\"size\":10,\"solidity\":0.2}},\"type\":\"histogram\"}],\"scattergl\":[{\"type\":\"scattergl\",\"marker\":{\"colorbar\":{\"outlinewidth\":0,\"ticks\":\"\"}}}],\"scatter3d\":[{\"type\":\"scatter3d\",\"line\":{\"colorbar\":{\"outlinewidth\":0,\"ticks\":\"\"}},\"marker\":{\"colorbar\":{\"outlinewidth\":0,\"ticks\":\"\"}}}],\"scattermapbox\":[{\"type\":\"scattermapbox\",\"marker\":{\"colorbar\":{\"outlinewidth\":0,\"ticks\":\"\"}}}],\"scatterternary\":[{\"type\":\"scatterternary\",\"marker\":{\"colorbar\":{\"outlinewidth\":0,\"ticks\":\"\"}}}],\"scattercarpet\":[{\"type\":\"scattercarpet\",\"marker\":{\"colorbar\":{\"outlinewidth\":0,\"ticks\":\"\"}}}],\"carpet\":[{\"aaxis\":{\"endlinecolor\":\"#2a3f5f\",\"gridcolor\":\"white\",\"linecolor\":\"white\",\"minorgridcolor\":\"white\",\"startlinecolor\":\"#2a3f5f\"},\"baxis\":{\"endlinecolor\":\"#2a3f5f\",\"gridcolor\":\"white\",\"linecolor\":\"white\",\"minorgridcolor\":\"white\",\"startlinecolor\":\"#2a3f5f\"},\"type\":\"carpet\"}],\"table\":[{\"cells\":{\"fill\":{\"color\":\"#EBF0F8\"},\"line\":{\"color\":\"white\"}},\"header\":{\"fill\":{\"color\":\"#C8D4E3\"},\"line\":{\"color\":\"white\"}},\"type\":\"table\"}],\"barpolar\":[{\"marker\":{\"line\":{\"color\":\"#E5ECF6\",\"width\":0.5},\"pattern\":{\"fillmode\":\"overlay\",\"size\":10,\"solidity\":0.2}},\"type\":\"barpolar\"}],\"pie\":[{\"automargin\":true,\"type\":\"pie\"}]},\"layout\":{\"autotypenumbers\":\"strict\",\"colorway\":[\"#636efa\",\"#EF553B\",\"#00cc96\",\"#ab63fa\",\"#FFA15A\",\"#19d3f3\",\"#FF6692\",\"#B6E880\",\"#FF97FF\",\"#FECB52\"],\"font\":{\"color\":\"#2a3f5f\"},\"hovermode\":\"closest\",\"hoverlabel\":{\"align\":\"left\"},\"paper_bgcolor\":\"white\",\"plot_bgcolor\":\"#E5ECF6\",\"polar\":{\"bgcolor\":\"#E5ECF6\",\"angularaxis\":{\"gridcolor\":\"white\",\"linecolor\":\"white\",\"ticks\":\"\"},\"radialaxis\":{\"gridcolor\":\"white\",\"linecolor\":\"white\",\"ticks\":\"\"}},\"ternary\":{\"bgcolor\":\"#E5ECF6\",\"aaxis\":{\"gridcolor\":\"white\",\"linecolor\":\"white\",\"ticks\":\"\"},\"baxis\":{\"gridcolor\":\"white\",\"linecolor\":\"white\",\"ticks\":\"\"},\"caxis\":{\"gridcolor\":\"white\",\"linecolor\":\"white\",\"ticks\":\"\"}},\"coloraxis\":{\"colorbar\":{\"outlinewidth\":0,\"ticks\":\"\"}},\"colorscale\":{\"sequential\":[[0.0,\"#0d0887\"],[0.1111111111111111,\"#46039f\"],[0.2222222222222222,\"#7201a8\"],[0.3333333333333333,\"#9c179e\"],[0.4444444444444444,\"#bd3786\"],[0.5555555555555556,\"#d8576b\"],[0.6666666666666666,\"#ed7953\"],[0.7777777777777778,\"#fb9f3a\"],[0.8888888888888888,\"#fdca26\"],[1.0,\"#f0f921\"]],\"sequentialminus\":[[0.0,\"#0d0887\"],[0.1111111111111111,\"#46039f\"],[0.2222222222222222,\"#7201a8\"],[0.3333333333333333,\"#9c179e\"],[0.4444444444444444,\"#bd3786\"],[0.5555555555555556,\"#d8576b\"],[0.6666666666666666,\"#ed7953\"],[0.7777777777777778,\"#fb9f3a\"],[0.8888888888888888,\"#fdca26\"],[1.0,\"#f0f921\"]],\"diverging\":[[0,\"#8e0152\"],[0.1,\"#c51b7d\"],[0.2,\"#de77ae\"],[0.3,\"#f1b6da\"],[0.4,\"#fde0ef\"],[0.5,\"#f7f7f7\"],[0.6,\"#e6f5d0\"],[0.7,\"#b8e186\"],[0.8,\"#7fbc41\"],[0.9,\"#4d9221\"],[1,\"#276419\"]]},\"xaxis\":{\"gridcolor\":\"white\",\"linecolor\":\"white\",\"ticks\":\"\",\"title\":{\"standoff\":15},\"zerolinecolor\":\"white\",\"automargin\":true,\"zerolinewidth\":2},\"yaxis\":{\"gridcolor\":\"white\",\"linecolor\":\"white\",\"ticks\":\"\",\"title\":{\"standoff\":15},\"zerolinecolor\":\"white\",\"automargin\":true,\"zerolinewidth\":2},\"scene\":{\"xaxis\":{\"backgroundcolor\":\"#E5ECF6\",\"gridcolor\":\"white\",\"linecolor\":\"white\",\"showbackground\":true,\"ticks\":\"\",\"zerolinecolor\":\"white\",\"gridwidth\":2},\"yaxis\":{\"backgroundcolor\":\"#E5ECF6\",\"gridcolor\":\"white\",\"linecolor\":\"white\",\"showbackground\":true,\"ticks\":\"\",\"zerolinecolor\":\"white\",\"gridwidth\":2},\"zaxis\":{\"backgroundcolor\":\"#E5ECF6\",\"gridcolor\":\"white\",\"linecolor\":\"white\",\"showbackground\":true,\"ticks\":\"\",\"zerolinecolor\":\"white\",\"gridwidth\":2}},\"shapedefaults\":{\"line\":{\"color\":\"#2a3f5f\"}},\"annotationdefaults\":{\"arrowcolor\":\"#2a3f5f\",\"arrowhead\":0,\"arrowwidth\":1},\"geo\":{\"bgcolor\":\"white\",\"landcolor\":\"#E5ECF6\",\"subunitcolor\":\"white\",\"showland\":true,\"showlakes\":true,\"lakecolor\":\"white\"},\"title\":{\"x\":0.05},\"mapbox\":{\"style\":\"light\"}}},\"xaxis\":{\"anchor\":\"y\",\"domain\":[0.0,1.0],\"title\":{\"text\":\"Season\"}},\"yaxis\":{\"anchor\":\"x\",\"domain\":[0.0,1.0],\"title\":{\"text\":\"Total Sales\"}},\"legend\":{\"title\":{\"text\":\"coffee_name\"},\"tracegroupgap\":0},\"title\":{\"text\":\"Coffee Sales by Type Across Seasons\"},\"barmode\":\"group\"},                        {\"responsive\": true}                    ).then(function(){\n",
              "                            \n",
              "var gd = document.getElementById('a4a9922d-5e5d-4df1-94fb-565bcb2a59e4');\n",
              "var x = new MutationObserver(function (mutations, observer) {{\n",
              "        var display = window.getComputedStyle(gd).display;\n",
              "        if (!display || display === 'none') {{\n",
              "            console.log([gd, 'removed!']);\n",
              "            Plotly.purge(gd);\n",
              "            observer.disconnect();\n",
              "        }}\n",
              "}});\n",
              "\n",
              "// Listen for the removal of the full notebook cells\n",
              "var notebookContainer = gd.closest('#notebook-container');\n",
              "if (notebookContainer) {{\n",
              "    x.observe(notebookContainer, {childList: true});\n",
              "}}\n",
              "\n",
              "// Listen for the clearing of the current output cell\n",
              "var outputEl = gd.closest('.output');\n",
              "if (outputEl) {{\n",
              "    x.observe(outputEl, {childList: true});\n",
              "}}\n",
              "\n",
              "                        })                };                            </script>        </div>\n",
              "</body>\n",
              "</html>"
            ]
          },
          "metadata": {}
        }
      ],
      "source": [
        "# 1. Group sales by Season + Coffee Type\n",
        "season_coffee_sales = df.groupby([\"Season\", \"coffee_name\"])[\"money\"].sum().reset_index()\n",
        "\n",
        "# 2. For each season, find the top coffee\n",
        "best_coffee_per_season = season_coffee_sales.loc[season_coffee_sales.groupby(\"Season\")[\"money\"].idxmax()]\n",
        "\n",
        "print(\"\\n=== Best Coffee Type by Season ===\")\n",
        "for row in best_coffee_per_season.itertuples(index=False):\n",
        "    print(f\"{row.Season}: {row.coffee_name} → {round(row.money, 2)}\")\n",
        "\n",
        "# 3. Visualization\n",
        "fig = px.bar(\n",
        "    season_coffee_sales,\n",
        "    x=\"Season\",\n",
        "    y=\"money\",\n",
        "    color=\"coffee_name\",\n",
        "    barmode=\"group\",\n",
        "    labels={\"Season\": \"Season\", \"money\": \"Total Sales\"},\n",
        "    title=\"Coffee Sales by Type Across Seasons\"\n",
        ")\n",
        "fig.update_layout(xaxis_title=\"Season\", yaxis_title=\"Total Sales\")\n",
        "fig.show()\n"
      ]
    },
    {
      "cell_type": "markdown",
      "id": "9b718523",
      "metadata": {
        "id": "9b718523"
      },
      "source": [
        "### 8- Which hour of the day generates the most sales?"
      ]
    },
    {
      "cell_type": "code",
      "execution_count": 18,
      "id": "63aaa7f9",
      "metadata": {
        "colab": {
          "base_uri": "https://localhost:8080/",
          "height": 594
        },
        "id": "63aaa7f9",
        "outputId": "3f299af5-f57d-4c0c-99a9-e08c2c43cfa1"
      },
      "outputs": [
        {
          "output_type": "stream",
          "name": "stdout",
          "text": [
            "\n",
            "=== All Years ===\n",
            "Hour with highest total sales: 10 → 10198.52\n"
          ]
        },
        {
          "output_type": "display_data",
          "data": {
            "text/html": [
              "<html>\n",
              "<head><meta charset=\"utf-8\" /></head>\n",
              "<body>\n",
              "    <div>            <script src=\"https://cdnjs.cloudflare.com/ajax/libs/mathjax/2.7.5/MathJax.js?config=TeX-AMS-MML_SVG\"></script><script type=\"text/javascript\">if (window.MathJax && window.MathJax.Hub && window.MathJax.Hub.Config) {window.MathJax.Hub.Config({SVG: {font: \"STIX-Web\"}});}</script>                <script type=\"text/javascript\">window.PlotlyConfig = {MathJaxConfig: 'local'};</script>\n",
              "        <script charset=\"utf-8\" src=\"https://cdn.plot.ly/plotly-2.35.2.min.js\"></script>                <div id=\"5811e286-d91a-4204-a047-3455712a0d0d\" class=\"plotly-graph-div\" style=\"height:525px; width:100%;\"></div>            <script type=\"text/javascript\">                                    window.PLOTLYENV=window.PLOTLYENV || {};                                    if (document.getElementById(\"5811e286-d91a-4204-a047-3455712a0d0d\")) {                    Plotly.newPlot(                        \"5811e286-d91a-4204-a047-3455712a0d0d\",                        [{\"hovertemplate\":\"Hour of Day=%{x}\\u003cbr\\u003eTotal Sales=%{y}\\u003cextra\\u003e\\u003c\\u002fextra\\u003e\",\"legendgroup\":\"\",\"line\":{\"color\":\"#636efa\",\"dash\":\"solid\"},\"marker\":{\"symbol\":\"circle\"},\"mode\":\"lines+markers\",\"name\":\"\",\"orientation\":\"v\",\"showlegend\":false,\"x\":[6,7,8,9,10,11,12,13,14,15,16,17,18,19,20,21,22],\"xaxis\":\"x\",\"y\":[149.4,2846.020000000003,7017.880000000007,7264.280000000005,10198.519999999991,8453.100000000008,7419.620000000012,7028.760000000013,7173.8000000000175,7476.0200000000195,9031.840000000024,7659.760000000013,7162.600000000018,7751.9600000000155,5578.9200000000155,6397.940000000017,3635.160000000008],\"yaxis\":\"y\",\"type\":\"scatter\"}],                        {\"template\":{\"data\":{\"histogram2dcontour\":[{\"type\":\"histogram2dcontour\",\"colorbar\":{\"outlinewidth\":0,\"ticks\":\"\"},\"colorscale\":[[0.0,\"#0d0887\"],[0.1111111111111111,\"#46039f\"],[0.2222222222222222,\"#7201a8\"],[0.3333333333333333,\"#9c179e\"],[0.4444444444444444,\"#bd3786\"],[0.5555555555555556,\"#d8576b\"],[0.6666666666666666,\"#ed7953\"],[0.7777777777777778,\"#fb9f3a\"],[0.8888888888888888,\"#fdca26\"],[1.0,\"#f0f921\"]]}],\"choropleth\":[{\"type\":\"choropleth\",\"colorbar\":{\"outlinewidth\":0,\"ticks\":\"\"}}],\"histogram2d\":[{\"type\":\"histogram2d\",\"colorbar\":{\"outlinewidth\":0,\"ticks\":\"\"},\"colorscale\":[[0.0,\"#0d0887\"],[0.1111111111111111,\"#46039f\"],[0.2222222222222222,\"#7201a8\"],[0.3333333333333333,\"#9c179e\"],[0.4444444444444444,\"#bd3786\"],[0.5555555555555556,\"#d8576b\"],[0.6666666666666666,\"#ed7953\"],[0.7777777777777778,\"#fb9f3a\"],[0.8888888888888888,\"#fdca26\"],[1.0,\"#f0f921\"]]}],\"heatmap\":[{\"type\":\"heatmap\",\"colorbar\":{\"outlinewidth\":0,\"ticks\":\"\"},\"colorscale\":[[0.0,\"#0d0887\"],[0.1111111111111111,\"#46039f\"],[0.2222222222222222,\"#7201a8\"],[0.3333333333333333,\"#9c179e\"],[0.4444444444444444,\"#bd3786\"],[0.5555555555555556,\"#d8576b\"],[0.6666666666666666,\"#ed7953\"],[0.7777777777777778,\"#fb9f3a\"],[0.8888888888888888,\"#fdca26\"],[1.0,\"#f0f921\"]]}],\"heatmapgl\":[{\"type\":\"heatmapgl\",\"colorbar\":{\"outlinewidth\":0,\"ticks\":\"\"},\"colorscale\":[[0.0,\"#0d0887\"],[0.1111111111111111,\"#46039f\"],[0.2222222222222222,\"#7201a8\"],[0.3333333333333333,\"#9c179e\"],[0.4444444444444444,\"#bd3786\"],[0.5555555555555556,\"#d8576b\"],[0.6666666666666666,\"#ed7953\"],[0.7777777777777778,\"#fb9f3a\"],[0.8888888888888888,\"#fdca26\"],[1.0,\"#f0f921\"]]}],\"contourcarpet\":[{\"type\":\"contourcarpet\",\"colorbar\":{\"outlinewidth\":0,\"ticks\":\"\"}}],\"contour\":[{\"type\":\"contour\",\"colorbar\":{\"outlinewidth\":0,\"ticks\":\"\"},\"colorscale\":[[0.0,\"#0d0887\"],[0.1111111111111111,\"#46039f\"],[0.2222222222222222,\"#7201a8\"],[0.3333333333333333,\"#9c179e\"],[0.4444444444444444,\"#bd3786\"],[0.5555555555555556,\"#d8576b\"],[0.6666666666666666,\"#ed7953\"],[0.7777777777777778,\"#fb9f3a\"],[0.8888888888888888,\"#fdca26\"],[1.0,\"#f0f921\"]]}],\"surface\":[{\"type\":\"surface\",\"colorbar\":{\"outlinewidth\":0,\"ticks\":\"\"},\"colorscale\":[[0.0,\"#0d0887\"],[0.1111111111111111,\"#46039f\"],[0.2222222222222222,\"#7201a8\"],[0.3333333333333333,\"#9c179e\"],[0.4444444444444444,\"#bd3786\"],[0.5555555555555556,\"#d8576b\"],[0.6666666666666666,\"#ed7953\"],[0.7777777777777778,\"#fb9f3a\"],[0.8888888888888888,\"#fdca26\"],[1.0,\"#f0f921\"]]}],\"mesh3d\":[{\"type\":\"mesh3d\",\"colorbar\":{\"outlinewidth\":0,\"ticks\":\"\"}}],\"scatter\":[{\"fillpattern\":{\"fillmode\":\"overlay\",\"size\":10,\"solidity\":0.2},\"type\":\"scatter\"}],\"parcoords\":[{\"type\":\"parcoords\",\"line\":{\"colorbar\":{\"outlinewidth\":0,\"ticks\":\"\"}}}],\"scatterpolargl\":[{\"type\":\"scatterpolargl\",\"marker\":{\"colorbar\":{\"outlinewidth\":0,\"ticks\":\"\"}}}],\"bar\":[{\"error_x\":{\"color\":\"#2a3f5f\"},\"error_y\":{\"color\":\"#2a3f5f\"},\"marker\":{\"line\":{\"color\":\"#E5ECF6\",\"width\":0.5},\"pattern\":{\"fillmode\":\"overlay\",\"size\":10,\"solidity\":0.2}},\"type\":\"bar\"}],\"scattergeo\":[{\"type\":\"scattergeo\",\"marker\":{\"colorbar\":{\"outlinewidth\":0,\"ticks\":\"\"}}}],\"scatterpolar\":[{\"type\":\"scatterpolar\",\"marker\":{\"colorbar\":{\"outlinewidth\":0,\"ticks\":\"\"}}}],\"histogram\":[{\"marker\":{\"pattern\":{\"fillmode\":\"overlay\",\"size\":10,\"solidity\":0.2}},\"type\":\"histogram\"}],\"scattergl\":[{\"type\":\"scattergl\",\"marker\":{\"colorbar\":{\"outlinewidth\":0,\"ticks\":\"\"}}}],\"scatter3d\":[{\"type\":\"scatter3d\",\"line\":{\"colorbar\":{\"outlinewidth\":0,\"ticks\":\"\"}},\"marker\":{\"colorbar\":{\"outlinewidth\":0,\"ticks\":\"\"}}}],\"scattermapbox\":[{\"type\":\"scattermapbox\",\"marker\":{\"colorbar\":{\"outlinewidth\":0,\"ticks\":\"\"}}}],\"scatterternary\":[{\"type\":\"scatterternary\",\"marker\":{\"colorbar\":{\"outlinewidth\":0,\"ticks\":\"\"}}}],\"scattercarpet\":[{\"type\":\"scattercarpet\",\"marker\":{\"colorbar\":{\"outlinewidth\":0,\"ticks\":\"\"}}}],\"carpet\":[{\"aaxis\":{\"endlinecolor\":\"#2a3f5f\",\"gridcolor\":\"white\",\"linecolor\":\"white\",\"minorgridcolor\":\"white\",\"startlinecolor\":\"#2a3f5f\"},\"baxis\":{\"endlinecolor\":\"#2a3f5f\",\"gridcolor\":\"white\",\"linecolor\":\"white\",\"minorgridcolor\":\"white\",\"startlinecolor\":\"#2a3f5f\"},\"type\":\"carpet\"}],\"table\":[{\"cells\":{\"fill\":{\"color\":\"#EBF0F8\"},\"line\":{\"color\":\"white\"}},\"header\":{\"fill\":{\"color\":\"#C8D4E3\"},\"line\":{\"color\":\"white\"}},\"type\":\"table\"}],\"barpolar\":[{\"marker\":{\"line\":{\"color\":\"#E5ECF6\",\"width\":0.5},\"pattern\":{\"fillmode\":\"overlay\",\"size\":10,\"solidity\":0.2}},\"type\":\"barpolar\"}],\"pie\":[{\"automargin\":true,\"type\":\"pie\"}]},\"layout\":{\"autotypenumbers\":\"strict\",\"colorway\":[\"#636efa\",\"#EF553B\",\"#00cc96\",\"#ab63fa\",\"#FFA15A\",\"#19d3f3\",\"#FF6692\",\"#B6E880\",\"#FF97FF\",\"#FECB52\"],\"font\":{\"color\":\"#2a3f5f\"},\"hovermode\":\"closest\",\"hoverlabel\":{\"align\":\"left\"},\"paper_bgcolor\":\"white\",\"plot_bgcolor\":\"#E5ECF6\",\"polar\":{\"bgcolor\":\"#E5ECF6\",\"angularaxis\":{\"gridcolor\":\"white\",\"linecolor\":\"white\",\"ticks\":\"\"},\"radialaxis\":{\"gridcolor\":\"white\",\"linecolor\":\"white\",\"ticks\":\"\"}},\"ternary\":{\"bgcolor\":\"#E5ECF6\",\"aaxis\":{\"gridcolor\":\"white\",\"linecolor\":\"white\",\"ticks\":\"\"},\"baxis\":{\"gridcolor\":\"white\",\"linecolor\":\"white\",\"ticks\":\"\"},\"caxis\":{\"gridcolor\":\"white\",\"linecolor\":\"white\",\"ticks\":\"\"}},\"coloraxis\":{\"colorbar\":{\"outlinewidth\":0,\"ticks\":\"\"}},\"colorscale\":{\"sequential\":[[0.0,\"#0d0887\"],[0.1111111111111111,\"#46039f\"],[0.2222222222222222,\"#7201a8\"],[0.3333333333333333,\"#9c179e\"],[0.4444444444444444,\"#bd3786\"],[0.5555555555555556,\"#d8576b\"],[0.6666666666666666,\"#ed7953\"],[0.7777777777777778,\"#fb9f3a\"],[0.8888888888888888,\"#fdca26\"],[1.0,\"#f0f921\"]],\"sequentialminus\":[[0.0,\"#0d0887\"],[0.1111111111111111,\"#46039f\"],[0.2222222222222222,\"#7201a8\"],[0.3333333333333333,\"#9c179e\"],[0.4444444444444444,\"#bd3786\"],[0.5555555555555556,\"#d8576b\"],[0.6666666666666666,\"#ed7953\"],[0.7777777777777778,\"#fb9f3a\"],[0.8888888888888888,\"#fdca26\"],[1.0,\"#f0f921\"]],\"diverging\":[[0,\"#8e0152\"],[0.1,\"#c51b7d\"],[0.2,\"#de77ae\"],[0.3,\"#f1b6da\"],[0.4,\"#fde0ef\"],[0.5,\"#f7f7f7\"],[0.6,\"#e6f5d0\"],[0.7,\"#b8e186\"],[0.8,\"#7fbc41\"],[0.9,\"#4d9221\"],[1,\"#276419\"]]},\"xaxis\":{\"gridcolor\":\"white\",\"linecolor\":\"white\",\"ticks\":\"\",\"title\":{\"standoff\":15},\"zerolinecolor\":\"white\",\"automargin\":true,\"zerolinewidth\":2},\"yaxis\":{\"gridcolor\":\"white\",\"linecolor\":\"white\",\"ticks\":\"\",\"title\":{\"standoff\":15},\"zerolinecolor\":\"white\",\"automargin\":true,\"zerolinewidth\":2},\"scene\":{\"xaxis\":{\"backgroundcolor\":\"#E5ECF6\",\"gridcolor\":\"white\",\"linecolor\":\"white\",\"showbackground\":true,\"ticks\":\"\",\"zerolinecolor\":\"white\",\"gridwidth\":2},\"yaxis\":{\"backgroundcolor\":\"#E5ECF6\",\"gridcolor\":\"white\",\"linecolor\":\"white\",\"showbackground\":true,\"ticks\":\"\",\"zerolinecolor\":\"white\",\"gridwidth\":2},\"zaxis\":{\"backgroundcolor\":\"#E5ECF6\",\"gridcolor\":\"white\",\"linecolor\":\"white\",\"showbackground\":true,\"ticks\":\"\",\"zerolinecolor\":\"white\",\"gridwidth\":2}},\"shapedefaults\":{\"line\":{\"color\":\"#2a3f5f\"}},\"annotationdefaults\":{\"arrowcolor\":\"#2a3f5f\",\"arrowhead\":0,\"arrowwidth\":1},\"geo\":{\"bgcolor\":\"white\",\"landcolor\":\"#E5ECF6\",\"subunitcolor\":\"white\",\"showland\":true,\"showlakes\":true,\"lakecolor\":\"white\"},\"title\":{\"x\":0.05},\"mapbox\":{\"style\":\"light\"}}},\"xaxis\":{\"anchor\":\"y\",\"domain\":[0.0,1.0],\"title\":{\"text\":\"Hour of Day\"},\"dtick\":1},\"yaxis\":{\"anchor\":\"x\",\"domain\":[0.0,1.0],\"title\":{\"text\":\"Total Sales\"}},\"legend\":{\"tracegroupgap\":0},\"title\":{\"text\":\"Total Sales by Hour of Day (All Years)\"}},                        {\"responsive\": true}                    ).then(function(){\n",
              "                            \n",
              "var gd = document.getElementById('5811e286-d91a-4204-a047-3455712a0d0d');\n",
              "var x = new MutationObserver(function (mutations, observer) {{\n",
              "        var display = window.getComputedStyle(gd).display;\n",
              "        if (!display || display === 'none') {{\n",
              "            console.log([gd, 'removed!']);\n",
              "            Plotly.purge(gd);\n",
              "            observer.disconnect();\n",
              "        }}\n",
              "}});\n",
              "\n",
              "// Listen for the removal of the full notebook cells\n",
              "var notebookContainer = gd.closest('#notebook-container');\n",
              "if (notebookContainer) {{\n",
              "    x.observe(notebookContainer, {childList: true});\n",
              "}}\n",
              "\n",
              "// Listen for the clearing of the current output cell\n",
              "var outputEl = gd.closest('.output');\n",
              "if (outputEl) {{\n",
              "    x.observe(outputEl, {childList: true});\n",
              "}}\n",
              "\n",
              "                        })                };                            </script>        </div>\n",
              "</body>\n",
              "</html>"
            ]
          },
          "metadata": {}
        }
      ],
      "source": [
        "# 1. Declaring the variable and index\n",
        "hour = df[\"hour_of_day\"].values\n",
        "money = df[\"money\"].values\n",
        "hours, inv_hour = np.unique(hour, return_inverse=True)\n",
        "\n",
        "# 2. Finding the total sales per hour\n",
        "totals_by_hour = np.bincount(inv_hour, weights=money).astype(float)\n",
        "\n",
        "# 3. find top hour with most sales\n",
        "best_idx = np.argmax(totals_by_hour)\n",
        "best_hour = hours[best_idx]\n",
        "best_value = totals_by_hour[best_idx]\n",
        "\n",
        "print(\"\\n=== All Years ===\")\n",
        "print(\"Hour with highest total sales:\", best_hour, \"→\", round(best_value, 2))\n",
        "\n",
        "# Visualization\n",
        "fig = px.line(\n",
        "    x=hours,\n",
        "    y=totals_by_hour,\n",
        "    markers=True,\n",
        "    labels={\"x\": \"Hour of Day\", \"y\": \"Total Sales\"},\n",
        "    title=\"Total Sales by Hour of Day (All Years)\"\n",
        ")\n",
        "fig.update_layout(xaxis=dict(dtick=1))  #\n",
        "fig.show()"
      ]
    },
    {
      "cell_type": "markdown",
      "id": "63906f7e",
      "metadata": {
        "id": "63906f7e"
      },
      "source": [
        "### Correlation Heatmap"
      ]
    },
    {
      "cell_type": "code",
      "execution_count": 19,
      "id": "b0858ae3",
      "metadata": {
        "colab": {
          "base_uri": "https://localhost:8080/",
          "height": 542
        },
        "id": "b0858ae3",
        "outputId": "5ff5311a-519a-44b1-e291-d9c70bc56ae4"
      },
      "outputs": [
        {
          "output_type": "display_data",
          "data": {
            "text/html": [
              "<html>\n",
              "<head><meta charset=\"utf-8\" /></head>\n",
              "<body>\n",
              "    <div>            <script src=\"https://cdnjs.cloudflare.com/ajax/libs/mathjax/2.7.5/MathJax.js?config=TeX-AMS-MML_SVG\"></script><script type=\"text/javascript\">if (window.MathJax && window.MathJax.Hub && window.MathJax.Hub.Config) {window.MathJax.Hub.Config({SVG: {font: \"STIX-Web\"}});}</script>                <script type=\"text/javascript\">window.PlotlyConfig = {MathJaxConfig: 'local'};</script>\n",
              "        <script charset=\"utf-8\" src=\"https://cdn.plot.ly/plotly-2.35.2.min.js\"></script>                <div id=\"42449916-84bc-4ffd-b09d-5cb6f250d751\" class=\"plotly-graph-div\" style=\"height:525px; width:100%;\"></div>            <script type=\"text/javascript\">                                    window.PLOTLYENV=window.PLOTLYENV || {};                                    if (document.getElementById(\"42449916-84bc-4ffd-b09d-5cb6f250d751\")) {                    Plotly.newPlot(                        \"42449916-84bc-4ffd-b09d-5cb6f250d751\",                        [{\"coloraxis\":\"coloraxis\",\"name\":\"0\",\"texttemplate\":\"%{z}\",\"x\":[\"hour_of_day\",\"Weekdaysort\",\"Monthsort\",\"money\"],\"y\":[\"hour_of_day\",\"Weekdaysort\",\"Monthsort\",\"money\"],\"z\":[[1.0,-0.002613958842374278,0.008292999013961046,0.20274793514276118],[-0.002613958842374278,1.0,0.04414093043700222,-0.017264090689989044],[0.008292999013961046,0.04414093043700222,1.0,-0.05004319098569995],[0.20274793514276118,-0.017264090689989044,-0.05004319098569995,1.0]],\"type\":\"heatmap\",\"xaxis\":\"x\",\"yaxis\":\"y\",\"hovertemplate\":\"x: %{x}\\u003cbr\\u003ey: %{y}\\u003cbr\\u003ecolor: %{z}\\u003cextra\\u003e\\u003c\\u002fextra\\u003e\"}],                        {\"template\":{\"data\":{\"histogram2dcontour\":[{\"type\":\"histogram2dcontour\",\"colorbar\":{\"outlinewidth\":0,\"ticks\":\"\"},\"colorscale\":[[0.0,\"#0d0887\"],[0.1111111111111111,\"#46039f\"],[0.2222222222222222,\"#7201a8\"],[0.3333333333333333,\"#9c179e\"],[0.4444444444444444,\"#bd3786\"],[0.5555555555555556,\"#d8576b\"],[0.6666666666666666,\"#ed7953\"],[0.7777777777777778,\"#fb9f3a\"],[0.8888888888888888,\"#fdca26\"],[1.0,\"#f0f921\"]]}],\"choropleth\":[{\"type\":\"choropleth\",\"colorbar\":{\"outlinewidth\":0,\"ticks\":\"\"}}],\"histogram2d\":[{\"type\":\"histogram2d\",\"colorbar\":{\"outlinewidth\":0,\"ticks\":\"\"},\"colorscale\":[[0.0,\"#0d0887\"],[0.1111111111111111,\"#46039f\"],[0.2222222222222222,\"#7201a8\"],[0.3333333333333333,\"#9c179e\"],[0.4444444444444444,\"#bd3786\"],[0.5555555555555556,\"#d8576b\"],[0.6666666666666666,\"#ed7953\"],[0.7777777777777778,\"#fb9f3a\"],[0.8888888888888888,\"#fdca26\"],[1.0,\"#f0f921\"]]}],\"heatmap\":[{\"type\":\"heatmap\",\"colorbar\":{\"outlinewidth\":0,\"ticks\":\"\"},\"colorscale\":[[0.0,\"#0d0887\"],[0.1111111111111111,\"#46039f\"],[0.2222222222222222,\"#7201a8\"],[0.3333333333333333,\"#9c179e\"],[0.4444444444444444,\"#bd3786\"],[0.5555555555555556,\"#d8576b\"],[0.6666666666666666,\"#ed7953\"],[0.7777777777777778,\"#fb9f3a\"],[0.8888888888888888,\"#fdca26\"],[1.0,\"#f0f921\"]]}],\"heatmapgl\":[{\"type\":\"heatmapgl\",\"colorbar\":{\"outlinewidth\":0,\"ticks\":\"\"},\"colorscale\":[[0.0,\"#0d0887\"],[0.1111111111111111,\"#46039f\"],[0.2222222222222222,\"#7201a8\"],[0.3333333333333333,\"#9c179e\"],[0.4444444444444444,\"#bd3786\"],[0.5555555555555556,\"#d8576b\"],[0.6666666666666666,\"#ed7953\"],[0.7777777777777778,\"#fb9f3a\"],[0.8888888888888888,\"#fdca26\"],[1.0,\"#f0f921\"]]}],\"contourcarpet\":[{\"type\":\"contourcarpet\",\"colorbar\":{\"outlinewidth\":0,\"ticks\":\"\"}}],\"contour\":[{\"type\":\"contour\",\"colorbar\":{\"outlinewidth\":0,\"ticks\":\"\"},\"colorscale\":[[0.0,\"#0d0887\"],[0.1111111111111111,\"#46039f\"],[0.2222222222222222,\"#7201a8\"],[0.3333333333333333,\"#9c179e\"],[0.4444444444444444,\"#bd3786\"],[0.5555555555555556,\"#d8576b\"],[0.6666666666666666,\"#ed7953\"],[0.7777777777777778,\"#fb9f3a\"],[0.8888888888888888,\"#fdca26\"],[1.0,\"#f0f921\"]]}],\"surface\":[{\"type\":\"surface\",\"colorbar\":{\"outlinewidth\":0,\"ticks\":\"\"},\"colorscale\":[[0.0,\"#0d0887\"],[0.1111111111111111,\"#46039f\"],[0.2222222222222222,\"#7201a8\"],[0.3333333333333333,\"#9c179e\"],[0.4444444444444444,\"#bd3786\"],[0.5555555555555556,\"#d8576b\"],[0.6666666666666666,\"#ed7953\"],[0.7777777777777778,\"#fb9f3a\"],[0.8888888888888888,\"#fdca26\"],[1.0,\"#f0f921\"]]}],\"mesh3d\":[{\"type\":\"mesh3d\",\"colorbar\":{\"outlinewidth\":0,\"ticks\":\"\"}}],\"scatter\":[{\"fillpattern\":{\"fillmode\":\"overlay\",\"size\":10,\"solidity\":0.2},\"type\":\"scatter\"}],\"parcoords\":[{\"type\":\"parcoords\",\"line\":{\"colorbar\":{\"outlinewidth\":0,\"ticks\":\"\"}}}],\"scatterpolargl\":[{\"type\":\"scatterpolargl\",\"marker\":{\"colorbar\":{\"outlinewidth\":0,\"ticks\":\"\"}}}],\"bar\":[{\"error_x\":{\"color\":\"#2a3f5f\"},\"error_y\":{\"color\":\"#2a3f5f\"},\"marker\":{\"line\":{\"color\":\"#E5ECF6\",\"width\":0.5},\"pattern\":{\"fillmode\":\"overlay\",\"size\":10,\"solidity\":0.2}},\"type\":\"bar\"}],\"scattergeo\":[{\"type\":\"scattergeo\",\"marker\":{\"colorbar\":{\"outlinewidth\":0,\"ticks\":\"\"}}}],\"scatterpolar\":[{\"type\":\"scatterpolar\",\"marker\":{\"colorbar\":{\"outlinewidth\":0,\"ticks\":\"\"}}}],\"histogram\":[{\"marker\":{\"pattern\":{\"fillmode\":\"overlay\",\"size\":10,\"solidity\":0.2}},\"type\":\"histogram\"}],\"scattergl\":[{\"type\":\"scattergl\",\"marker\":{\"colorbar\":{\"outlinewidth\":0,\"ticks\":\"\"}}}],\"scatter3d\":[{\"type\":\"scatter3d\",\"line\":{\"colorbar\":{\"outlinewidth\":0,\"ticks\":\"\"}},\"marker\":{\"colorbar\":{\"outlinewidth\":0,\"ticks\":\"\"}}}],\"scattermapbox\":[{\"type\":\"scattermapbox\",\"marker\":{\"colorbar\":{\"outlinewidth\":0,\"ticks\":\"\"}}}],\"scatterternary\":[{\"type\":\"scatterternary\",\"marker\":{\"colorbar\":{\"outlinewidth\":0,\"ticks\":\"\"}}}],\"scattercarpet\":[{\"type\":\"scattercarpet\",\"marker\":{\"colorbar\":{\"outlinewidth\":0,\"ticks\":\"\"}}}],\"carpet\":[{\"aaxis\":{\"endlinecolor\":\"#2a3f5f\",\"gridcolor\":\"white\",\"linecolor\":\"white\",\"minorgridcolor\":\"white\",\"startlinecolor\":\"#2a3f5f\"},\"baxis\":{\"endlinecolor\":\"#2a3f5f\",\"gridcolor\":\"white\",\"linecolor\":\"white\",\"minorgridcolor\":\"white\",\"startlinecolor\":\"#2a3f5f\"},\"type\":\"carpet\"}],\"table\":[{\"cells\":{\"fill\":{\"color\":\"#EBF0F8\"},\"line\":{\"color\":\"white\"}},\"header\":{\"fill\":{\"color\":\"#C8D4E3\"},\"line\":{\"color\":\"white\"}},\"type\":\"table\"}],\"barpolar\":[{\"marker\":{\"line\":{\"color\":\"#E5ECF6\",\"width\":0.5},\"pattern\":{\"fillmode\":\"overlay\",\"size\":10,\"solidity\":0.2}},\"type\":\"barpolar\"}],\"pie\":[{\"automargin\":true,\"type\":\"pie\"}]},\"layout\":{\"autotypenumbers\":\"strict\",\"colorway\":[\"#636efa\",\"#EF553B\",\"#00cc96\",\"#ab63fa\",\"#FFA15A\",\"#19d3f3\",\"#FF6692\",\"#B6E880\",\"#FF97FF\",\"#FECB52\"],\"font\":{\"color\":\"#2a3f5f\"},\"hovermode\":\"closest\",\"hoverlabel\":{\"align\":\"left\"},\"paper_bgcolor\":\"white\",\"plot_bgcolor\":\"#E5ECF6\",\"polar\":{\"bgcolor\":\"#E5ECF6\",\"angularaxis\":{\"gridcolor\":\"white\",\"linecolor\":\"white\",\"ticks\":\"\"},\"radialaxis\":{\"gridcolor\":\"white\",\"linecolor\":\"white\",\"ticks\":\"\"}},\"ternary\":{\"bgcolor\":\"#E5ECF6\",\"aaxis\":{\"gridcolor\":\"white\",\"linecolor\":\"white\",\"ticks\":\"\"},\"baxis\":{\"gridcolor\":\"white\",\"linecolor\":\"white\",\"ticks\":\"\"},\"caxis\":{\"gridcolor\":\"white\",\"linecolor\":\"white\",\"ticks\":\"\"}},\"coloraxis\":{\"colorbar\":{\"outlinewidth\":0,\"ticks\":\"\"}},\"colorscale\":{\"sequential\":[[0.0,\"#0d0887\"],[0.1111111111111111,\"#46039f\"],[0.2222222222222222,\"#7201a8\"],[0.3333333333333333,\"#9c179e\"],[0.4444444444444444,\"#bd3786\"],[0.5555555555555556,\"#d8576b\"],[0.6666666666666666,\"#ed7953\"],[0.7777777777777778,\"#fb9f3a\"],[0.8888888888888888,\"#fdca26\"],[1.0,\"#f0f921\"]],\"sequentialminus\":[[0.0,\"#0d0887\"],[0.1111111111111111,\"#46039f\"],[0.2222222222222222,\"#7201a8\"],[0.3333333333333333,\"#9c179e\"],[0.4444444444444444,\"#bd3786\"],[0.5555555555555556,\"#d8576b\"],[0.6666666666666666,\"#ed7953\"],[0.7777777777777778,\"#fb9f3a\"],[0.8888888888888888,\"#fdca26\"],[1.0,\"#f0f921\"]],\"diverging\":[[0,\"#8e0152\"],[0.1,\"#c51b7d\"],[0.2,\"#de77ae\"],[0.3,\"#f1b6da\"],[0.4,\"#fde0ef\"],[0.5,\"#f7f7f7\"],[0.6,\"#e6f5d0\"],[0.7,\"#b8e186\"],[0.8,\"#7fbc41\"],[0.9,\"#4d9221\"],[1,\"#276419\"]]},\"xaxis\":{\"gridcolor\":\"white\",\"linecolor\":\"white\",\"ticks\":\"\",\"title\":{\"standoff\":15},\"zerolinecolor\":\"white\",\"automargin\":true,\"zerolinewidth\":2},\"yaxis\":{\"gridcolor\":\"white\",\"linecolor\":\"white\",\"ticks\":\"\",\"title\":{\"standoff\":15},\"zerolinecolor\":\"white\",\"automargin\":true,\"zerolinewidth\":2},\"scene\":{\"xaxis\":{\"backgroundcolor\":\"#E5ECF6\",\"gridcolor\":\"white\",\"linecolor\":\"white\",\"showbackground\":true,\"ticks\":\"\",\"zerolinecolor\":\"white\",\"gridwidth\":2},\"yaxis\":{\"backgroundcolor\":\"#E5ECF6\",\"gridcolor\":\"white\",\"linecolor\":\"white\",\"showbackground\":true,\"ticks\":\"\",\"zerolinecolor\":\"white\",\"gridwidth\":2},\"zaxis\":{\"backgroundcolor\":\"#E5ECF6\",\"gridcolor\":\"white\",\"linecolor\":\"white\",\"showbackground\":true,\"ticks\":\"\",\"zerolinecolor\":\"white\",\"gridwidth\":2}},\"shapedefaults\":{\"line\":{\"color\":\"#2a3f5f\"}},\"annotationdefaults\":{\"arrowcolor\":\"#2a3f5f\",\"arrowhead\":0,\"arrowwidth\":1},\"geo\":{\"bgcolor\":\"white\",\"landcolor\":\"#E5ECF6\",\"subunitcolor\":\"white\",\"showland\":true,\"showlakes\":true,\"lakecolor\":\"white\"},\"title\":{\"x\":0.05},\"mapbox\":{\"style\":\"light\"}}},\"xaxis\":{\"anchor\":\"y\",\"domain\":[0.0,1.0],\"scaleanchor\":\"y\",\"constrain\":\"domain\"},\"yaxis\":{\"anchor\":\"x\",\"domain\":[0.0,1.0],\"autorange\":\"reversed\",\"constrain\":\"domain\"},\"coloraxis\":{\"colorscale\":[[0.0,\"rgb(255,255,217)\"],[0.125,\"rgb(237,248,177)\"],[0.25,\"rgb(199,233,180)\"],[0.375,\"rgb(127,205,187)\"],[0.5,\"rgb(65,182,196)\"],[0.625,\"rgb(29,145,192)\"],[0.75,\"rgb(34,94,168)\"],[0.875,\"rgb(37,52,148)\"],[1.0,\"rgb(8,29,88)\"]]},\"title\":{\"text\":\"Correlation Heatmap\"}},                        {\"responsive\": true}                    ).then(function(){\n",
              "                            \n",
              "var gd = document.getElementById('42449916-84bc-4ffd-b09d-5cb6f250d751');\n",
              "var x = new MutationObserver(function (mutations, observer) {{\n",
              "        var display = window.getComputedStyle(gd).display;\n",
              "        if (!display || display === 'none') {{\n",
              "            console.log([gd, 'removed!']);\n",
              "            Plotly.purge(gd);\n",
              "            observer.disconnect();\n",
              "        }}\n",
              "}});\n",
              "\n",
              "// Listen for the removal of the full notebook cells\n",
              "var notebookContainer = gd.closest('#notebook-container');\n",
              "if (notebookContainer) {{\n",
              "    x.observe(notebookContainer, {childList: true});\n",
              "}}\n",
              "\n",
              "// Listen for the clearing of the current output cell\n",
              "var outputEl = gd.closest('.output');\n",
              "if (outputEl) {{\n",
              "    x.observe(outputEl, {childList: true});\n",
              "}}\n",
              "\n",
              "                        })                };                            </script>        </div>\n",
              "</body>\n",
              "</html>"
            ]
          },
          "metadata": {}
        }
      ],
      "source": [
        "import plotly.express as px\n",
        "\n",
        "# Select numeric columns for correlation\n",
        "numeric_cols = [\"hour_of_day\", \"Weekdaysort\", \"Monthsort\", \"money\"]\n",
        "corr = df[numeric_cols].corr()\n",
        "\n",
        "# Plotly heatmap\n",
        "fig = px.imshow(\n",
        "    corr,\n",
        "    text_auto=True,\n",
        "    color_continuous_scale=\"YlGnBu\",\n",
        "    title=\"Correlation Heatmap\"\n",
        ")\n",
        "fig.show()"
      ]
    },
    {
      "cell_type": "markdown",
      "id": "f692a9c8",
      "metadata": {
        "id": "f692a9c8"
      },
      "source": [
        "## Model"
      ]
    },
    {
      "cell_type": "code",
      "execution_count": 32,
      "id": "068caa12",
      "metadata": {
        "id": "068caa12"
      },
      "outputs": [],
      "source": [
        "# 1. Create a proper copy of the dataframe\n",
        "df_model = df.copy()"
      ]
    },
    {
      "cell_type": "code",
      "source": [
        " #2. Drop unwanted columns\n",
        "df_model.drop(['Time', 'cash_type', 'Month_name', 'Weekday'], axis=1, inplace=True)"
      ],
      "metadata": {
        "id": "cSV3BZtccxUm"
      },
      "id": "cSV3BZtccxUm",
      "execution_count": 33,
      "outputs": []
    },
    {
      "cell_type": "code",
      "source": [
        "# 3. Process the date column and extract feature\n",
        "df_model['Date'] = pd.to_datetime(df_model['Date'], format='%Y-%m-%d')\n",
        "df_model['Year'] = df_model['Date'].dt.year.astype(str)\n",
        "df_model['Month'] = df_model['Date'].dt.month\n",
        "df_model['Season'] = df_model['Month'].map({\n",
        "    12:'Winter',1:'Winter',2:'Winter',\n",
        "    3:'Spring',4:'Spring',5:'Spring',\n",
        "    6:'Summer',7:'Summer',8:'Summer',\n",
        "    9:'Autumn',10:'Autumn',11:'Autumn'\n",
        "})"
      ],
      "metadata": {
        "id": "IhgyEXs3bv3X"
      },
      "id": "IhgyEXs3bv3X",
      "execution_count": 34,
      "outputs": []
    },
    {
      "cell_type": "code",
      "source": [
        "# Target variable (log transform to reduce skewness)\n",
        "y = np.log1p(df_model[\"money\"])\n",
        "\n",
        "# Features\n",
        "categorical_cols = ['coffee_name', 'Time_of_Day', 'Year', 'Season']\n",
        "numerical_cols = [\"hour_of_day\", \"Weekdaysort\", \"Monthsort\"]"
      ],
      "metadata": {
        "id": "Z2j6-8B9i_83"
      },
      "id": "Z2j6-8B9i_83",
      "execution_count": 35,
      "outputs": []
    },
    {
      "cell_type": "code",
      "source": [
        "# Encoding\n",
        "X_cat = pd.get_dummies(df_model[categorical_cols], drop_first=True, dtype=int)\n",
        "X_num = (df_model[numerical_cols] - df_model[numerical_cols].mean()) / df_model[numerical_cols].std()\n",
        "X_combined = pd.concat([X_num, X_cat], axis=1)"
      ],
      "metadata": {
        "id": "TBuiZYjmjFCa"
      },
      "id": "TBuiZYjmjFCa",
      "execution_count": 36,
      "outputs": []
    },
    {
      "cell_type": "code",
      "source": [
        "# Add constant\n",
        "X_final = sm.add_constant(X_combined)\n",
        "\n",
        "# Split\n",
        "n = len(X_final)\n",
        "train_size = int(0.8*n)\n",
        "idx = np.random.permutation(n)\n",
        "train_idx, test_idx = idx[:train_size], idx[train_size:]\n",
        "\n",
        "X_train, X_test = X_final.iloc[train_idx], X_final.iloc[test_idx]\n",
        "y_train, y_test = y.iloc[train_idx], y.iloc[test_idx]\n"
      ],
      "metadata": {
        "id": "fDWMSbuejI_e"
      },
      "id": "fDWMSbuejI_e",
      "execution_count": 37,
      "outputs": []
    },
    {
      "cell_type": "code",
      "source": [
        "# Train with robust SE\n",
        "model = sm.OLS(y_train, X_train).fit(cov_type=\"HC3\")\n"
      ],
      "metadata": {
        "id": "lj-gRvy0b1cL"
      },
      "id": "lj-gRvy0b1cL",
      "execution_count": 38,
      "outputs": []
    },
    {
      "cell_type": "code",
      "source": [
        "# Predict\n",
        "y_pred = model.predict(X_test)\n"
      ],
      "metadata": {
        "id": "QvQEKRRmb7LU"
      },
      "id": "QvQEKRRmb7LU",
      "execution_count": 39,
      "outputs": []
    },
    {
      "cell_type": "code",
      "source": [
        "# Metrics\n",
        "ssr = np.sum((y_test - y_pred)**2)\n",
        "sst = np.sum((y_test - np.mean(y_test))**2)\n",
        "r2 = 1 - ssr/sst\n",
        "rmse = np.sqrt(np.mean((y_test - y_pred)**2))\n"
      ],
      "metadata": {
        "id": "arBh5i_ycEpK"
      },
      "id": "arBh5i_ycEpK",
      "execution_count": 40,
      "outputs": []
    },
    {
      "cell_type": "code",
      "source": [
        "print(model.summary())"
      ],
      "metadata": {
        "id": "i2AIAQM0cH4x",
        "colab": {
          "base_uri": "https://localhost:8080/"
        },
        "outputId": "88906f20-fa3d-4897-a238-d9e36a1666df"
      },
      "id": "i2AIAQM0cH4x",
      "execution_count": 41,
      "outputs": [
        {
          "output_type": "stream",
          "name": "stdout",
          "text": [
            "                            OLS Regression Results                            \n",
            "==============================================================================\n",
            "Dep. Variable:                  money   R-squared:                       0.931\n",
            "Model:                            OLS   Adj. R-squared:                  0.931\n",
            "Method:                 Least Squares   F-statistic:                     2786.\n",
            "Date:                Sat, 20 Sep 2025   Prob (F-statistic):               0.00\n",
            "Time:                        14:36:24   Log-Likelihood:                 5004.9\n",
            "No. Observations:                2837   AIC:                            -9976.\n",
            "Df Residuals:                    2820   BIC:                            -9875.\n",
            "Df Model:                          16                                         \n",
            "Covariance Type:                  HC3                                         \n",
            "===================================================================================================\n",
            "                                      coef    std err          z      P>|z|      [0.025      0.975]\n",
            "---------------------------------------------------------------------------------------------------\n",
            "const                               3.2938      0.003   1065.208      0.000       3.288       3.300\n",
            "hour_of_day                         0.0030      0.002      1.314      0.189      -0.001       0.008\n",
            "Weekdaysort                         0.0006      0.001      0.760      0.447      -0.001       0.002\n",
            "Monthsort                          -0.0288      0.001    -30.642      0.000      -0.031      -0.027\n",
            "coffee_name_Americano with Milk     0.1668      0.003     62.204      0.000       0.162       0.172\n",
            "coffee_name_Cappuccino              0.3157      0.003    112.639      0.000       0.310       0.321\n",
            "coffee_name_Cocoa                   0.3183      0.003    111.460      0.000       0.313       0.324\n",
            "coffee_name_Cortado                -0.0021      0.004     -0.515      0.606      -0.010       0.006\n",
            "coffee_name_Espresso               -0.2049      0.007    -29.531      0.000      -0.219      -0.191\n",
            "coffee_name_Hot Chocolate           0.3209      0.003    109.489      0.000       0.315       0.327\n",
            "coffee_name_Latte                   0.3126      0.003    120.211      0.000       0.307       0.318\n",
            "Time_of_Day_Morning                -0.0026      0.003     -0.772      0.440      -0.009       0.004\n",
            "Time_of_Day_Night                  -0.0054      0.003     -1.825      0.068      -0.011       0.000\n",
            "Year_2025                          -0.0842      0.002    -48.911      0.000      -0.088      -0.081\n",
            "Season_Spring                       0.0563      0.002     23.677      0.000       0.052       0.061\n",
            "Season_Summer                      -0.0396      0.003    -11.871      0.000      -0.046      -0.033\n",
            "Season_Winter                       0.0456      0.002     23.463      0.000       0.042       0.049\n",
            "==============================================================================\n",
            "Omnibus:                       50.310   Durbin-Watson:                   2.011\n",
            "Prob(Omnibus):                  0.000   Jarque-Bera (JB):               72.402\n",
            "Skew:                           0.199   Prob(JB):                     1.90e-16\n",
            "Kurtosis:                       3.674   Cond. No.                         10.7\n",
            "==============================================================================\n",
            "\n",
            "Notes:\n",
            "[1] Standard Errors are heteroscedasticity robust (HC3)\n"
          ]
        }
      ]
    },
    {
      "cell_type": "code",
      "source": [],
      "metadata": {
        "id": "jFSKPdX4jiqZ"
      },
      "id": "jFSKPdX4jiqZ",
      "execution_count": null,
      "outputs": []
    },
    {
      "cell_type": "code",
      "metadata": {
        "colab": {
          "base_uri": "https://localhost:8080/",
          "height": 542
        },
        "id": "ef05ebe8",
        "outputId": "ef8097da-957d-45dc-941b-c3a82252ffab"
      },
      "source": [
        "import plotly.graph_objects as go\n",
        "\n",
        "# Plot actual vs predicted sales for OLS model\n",
        "fig_ols = go.Figure()\n",
        "fig_ols.add_trace(go.Scatter(x=np.expm1(y_test), y=np.expm1(y_pred), mode='markers', name='OLS Predictions')) # Applying expm1 to revert log transformation\n",
        "fig_ols.add_trace(go.Scatter(x=[np.expm1(y_test).min(), np.expm1(y_test).max()], y=[np.expm1(y_test).min(), np.expm1(y_test).max()],\n",
        "                            mode='lines', name='Perfect Fit', line=dict(color='red', dash='dash')))\n",
        "fig_ols.update_layout(title='Actual vs Predicted Sales (OLS Model)',\n",
        "                      xaxis_title='Actual Sales (money)',\n",
        "                      yaxis_title='Predicted Sales (money)')\n",
        "fig_ols.show()"
      ],
      "id": "ef05ebe8",
      "execution_count": 43,
      "outputs": [
        {
          "output_type": "display_data",
          "data": {
            "text/html": [
              "<html>\n",
              "<head><meta charset=\"utf-8\" /></head>\n",
              "<body>\n",
              "    <div>            <script src=\"https://cdnjs.cloudflare.com/ajax/libs/mathjax/2.7.5/MathJax.js?config=TeX-AMS-MML_SVG\"></script><script type=\"text/javascript\">if (window.MathJax && window.MathJax.Hub && window.MathJax.Hub.Config) {window.MathJax.Hub.Config({SVG: {font: \"STIX-Web\"}});}</script>                <script type=\"text/javascript\">window.PlotlyConfig = {MathJaxConfig: 'local'};</script>\n",
              "        <script charset=\"utf-8\" src=\"https://cdn.plot.ly/plotly-2.35.2.min.js\"></script>                <div id=\"ab2c0d6b-ab9a-4973-8370-4eb9ebb25085\" class=\"plotly-graph-div\" style=\"height:525px; width:100%;\"></div>            <script type=\"text/javascript\">                                    window.PLOTLYENV=window.PLOTLYENV || {};                                    if (document.getElementById(\"ab2c0d6b-ab9a-4973-8370-4eb9ebb25085\")) {                    Plotly.newPlot(                        \"ab2c0d6b-ab9a-4973-8370-4eb9ebb25085\",                        [{\"mode\":\"markers\",\"name\":\"OLS Predictions\",\"x\":[28.89999999999999,30.86,30.86,21.060000000000002,30.86,35.76,30.86,25.960000000000004,38.7,25.960000000000004,35.76,25.960000000000004,23.020000000000003,32.82000000000001,25.960000000000004,32.82000000000001,37.71999999999999,27.919999999999995,38.7,35.76,23.020000000000003,35.76,27.919999999999995,35.76,30.86,25.960000000000004,35.76,35.76,38.7,35.76,32.82000000000001,32.82000000000001,35.76,35.76,32.82000000000001,25.960000000000004,35.76,27.919999999999995,37.71999999999999,37.71999999999999,30.86,27.919999999999995,35.76,28.89999999999999,35.76,37.71999999999999,37.71999999999999,35.76,38.7,37.71999999999999,37.71999999999999,33.8,35.76,27.919999999999995,25.960000000000004,27.919999999999995,35.76,30.86,27.919999999999995,35.76,30.86,32.82000000000001,35.76,32.82000000000001,32.82000000000001,35.76,27.919999999999995,32.82000000000001,30.86,30.86,27.919999999999995,37.71999999999999,35.76,37.71999999999999,35.76,27.919999999999995,35.76,27.919999999999995,37.71999999999999,30.86,37.71999999999999,35.76,38.7,37.71999999999999,25.960000000000004,35.76,32.82000000000001,35.76,23.020000000000003,37.71999999999999,21.060000000000002,35.76,35.76,25.960000000000004,35.76,32.82000000000001,37.71999999999999,35.76,37.71999999999999,35.76,30.86,37.71999999999999,35.76,32.82000000000001,35.76,38.7,35.76,35.76,25.960000000000004,25.960000000000004,35.76,32.82000000000001,35.76,27.919999999999995,35.76,30.86,35.76,25.960000000000004,35.76,35.76,25.960000000000004,35.76,32.82000000000001,35.76,23.020000000000003,35.76,25.960000000000004,30.86,35.76,35.76,30.86,32.82000000000001,23.020000000000003,37.71999999999999,27.919999999999995,32.82000000000001,23.020000000000003,21.060000000000002,25.960000000000004,30.86,32.82000000000001,32.82000000000001,32.82000000000001,23.020000000000003,25.960000000000004,27.919999999999995,30.86,32.82000000000001,30.86,32.82000000000001,25.960000000000004,35.76,32.82000000000001,30.86,25.960000000000004,25.960000000000004,35.76,25.960000000000004,27.919999999999995,23.020000000000003,21.060000000000002,27.919999999999995,23.020000000000003,25.960000000000004,35.76,37.71999999999999,37.71999999999999,35.76,25.960000000000004,35.76,25.960000000000004,18.120000000000005,37.71999999999999,32.82000000000001,32.82000000000001,27.919999999999995,28.89999999999999,25.960000000000004,37.71999999999999,27.919999999999995,38.7,30.86,32.82000000000001,27.919999999999995,25.960000000000004,30.86,27.919999999999995,25.960000000000004,25.960000000000004,30.86,35.76,25.960000000000004,35.76,38.7,35.76,35.76,32.82000000000001,27.919999999999995,35.76,27.919999999999995,32.82000000000001,32.82000000000001,27.919999999999995,38.7,25.960000000000004,35.76,32.82000000000001,37.71999999999999,30.86,32.82000000000001,38.7,37.71999999999999,25.960000000000004,37.71999999999999,27.919999999999995,37.71999999999999,32.82000000000001,30.86,30.86,25.960000000000004,23.020000000000003,35.76,32.82000000000001,28.89999999999999,35.76,35.76,27.919999999999995,21.060000000000002,38.7,32.82000000000001,23.020000000000003,27.919999999999995,25.960000000000004,35.76,35.76,25.960000000000004,38.7,25.960000000000004,30.86,35.76,35.76,25.960000000000004,35.76,35.76,35.76,30.86,23.020000000000003,27.919999999999995,37.71999999999999,25.960000000000004,27.919999999999995,32.82000000000001,25.960000000000004,32.82000000000001,32.82000000000001,35.76,38.7,30.86,25.960000000000004,27.919999999999995,23.020000000000003,35.76,23.020000000000003,27.919999999999995,25.960000000000004,23.020000000000003,23.020000000000003,32.82000000000001,35.76,35.76,23.020000000000003,25.960000000000004,33.8,35.76,32.82000000000001,23.020000000000003,35.76,27.919999999999995,35.76,32.82000000000001,30.86,25.960000000000004,37.71999999999999,27.919999999999995,25.960000000000004,27.919999999999995,28.89999999999999,37.71999999999999,37.71999999999999,32.82000000000001,25.960000000000004,21.060000000000002,37.71999999999999,32.82000000000001,35.76,35.76,32.82000000000001,35.76,35.76,23.999999999999996,35.76,32.82000000000001,35.76,35.76,32.82000000000001,37.71999999999999,32.82000000000001,25.960000000000004,25.960000000000004,25.960000000000004,32.82000000000001,27.919999999999995,23.999999999999996,23.020000000000003,21.060000000000002,35.76,35.76,23.020000000000003,35.76,30.86,30.86,35.76,25.960000000000004,37.71999999999999,35.76,35.76,37.71999999999999,32.82000000000001,30.86,32.82000000000001,33.8,35.76,23.020000000000003,23.020000000000003,35.76,38.7,35.76,25.960000000000004,32.82000000000001,30.86,25.960000000000004,23.020000000000003,35.76,35.76,37.71999999999999,25.960000000000004,35.76,35.76,23.020000000000003,27.919999999999995,18.120000000000005,38.7,32.82000000000001,35.76,30.86,23.020000000000003,27.919999999999995,35.76,27.919999999999995,32.82000000000001,35.76,38.7,30.86,35.76,27.919999999999995,35.76,35.76,35.76,32.82000000000001,35.76,38.7,37.71999999999999,32.82000000000001,23.020000000000003,32.82000000000001,37.71999999999999,38.7,21.060000000000002,30.86,30.86,27.919999999999995,28.89999999999999,38.7,35.76,37.71999999999999,35.76,37.71999999999999,21.060000000000002,18.120000000000005,35.76,35.76,27.919999999999995,25.960000000000004,35.76,35.76,25.960000000000004,35.76,35.76,23.020000000000003,25.960000000000004,23.020000000000003,37.71999999999999,27.919999999999995,35.76,35.76,30.86,27.919999999999995,37.71999999999999,32.82000000000001,37.71999999999999,25.960000000000004,23.020000000000003,18.120000000000005,32.82000000000001,37.71999999999999,25.960000000000004,32.82000000000001,32.82000000000001,35.76,32.82000000000001,23.020000000000003,27.919999999999995,30.86,32.82000000000001,37.71999999999999,35.76,35.76,32.82000000000001,25.960000000000004,32.82000000000001,30.86,35.76,25.960000000000004,18.120000000000005,27.919999999999995,30.86,27.919999999999995,35.76,30.86,35.76,25.960000000000004,30.86,25.960000000000004,35.76,25.960000000000004,35.76,23.020000000000003,25.960000000000004,37.71999999999999,30.86,30.86,35.76,25.960000000000004,35.76,35.76,27.919999999999995,38.7,35.76,30.86,35.76,27.919999999999995,35.76,35.76,25.960000000000004,32.82000000000001,25.960000000000004,35.76,35.76,35.76,23.020000000000003,25.960000000000004,35.76,30.86,32.82000000000001,35.76,32.82000000000001,27.919999999999995,25.960000000000004,35.76,35.76,37.71999999999999,35.76,18.120000000000005,38.7,32.82000000000001,27.919999999999995,30.86,28.89999999999999,37.71999999999999,35.76,35.76,33.8,21.060000000000002,27.919999999999995,37.71999999999999,37.71999999999999,28.89999999999999,25.960000000000004,32.82000000000001,33.8,25.960000000000004,35.76,32.82000000000001,35.76,32.82000000000001,21.060000000000002,30.86,18.120000000000005,32.82000000000001,27.919999999999995,30.86,21.060000000000002,32.82000000000001,23.020000000000003,27.919999999999995,37.71999999999999,35.76,25.960000000000004,33.8,30.86,37.71999999999999,35.76,30.86,30.86,32.82000000000001,32.82000000000001,35.76,30.86,30.86,23.020000000000003,32.82000000000001,32.82000000000001,32.82000000000001,30.86,35.76,37.71999999999999,35.76,35.76,35.76,35.76,32.82000000000001,35.76,25.960000000000004,38.7,35.76,38.7,37.71999999999999,35.76,23.020000000000003,38.7,30.86,35.76,35.76,30.86,33.8,30.86,37.71999999999999,35.76,27.919999999999995,33.8,23.020000000000003,23.020000000000003,35.76,32.82000000000001,35.76,35.76,33.8,25.960000000000004,35.76,27.919999999999995,37.71999999999999,25.960000000000004,27.919999999999995,23.020000000000003,35.76,27.919999999999995,23.020000000000003,25.960000000000004,28.89999999999999,23.020000000000003,38.7,23.020000000000003,35.76,27.919999999999995,35.76,35.76,30.86,30.86,23.020000000000003,25.960000000000004,32.82000000000001,25.960000000000004,30.86,35.76,37.71999999999999,25.960000000000004,25.960000000000004,27.919999999999995,28.89999999999999,25.960000000000004,30.86,27.919999999999995,37.71999999999999,37.71999999999999,32.82000000000001,35.76,35.76,35.76,27.919999999999995,32.82000000000001,32.82000000000001,35.76,35.76,32.82000000000001,38.7,25.960000000000004,35.76,32.82000000000001,23.020000000000003,30.86,25.960000000000004,30.86,35.76,38.7,18.120000000000005,30.86,25.960000000000004,35.76,25.960000000000004,35.76,35.76,37.71999999999999,25.960000000000004,35.76,38.7,18.120000000000005,35.76,30.86,32.82000000000001,35.76,35.76,32.82000000000001,32.82000000000001,32.82000000000001,23.020000000000003,30.86,25.960000000000004,35.76,35.76,35.76,35.76,27.919999999999995,25.960000000000004,35.76,30.86,32.82000000000001,32.82000000000001,25.960000000000004,35.76,32.82000000000001,30.86,30.86,32.82000000000001,32.82000000000001,27.919999999999995,23.020000000000003,27.919999999999995,27.919999999999995,37.71999999999999,28.89999999999999,35.76,35.76,30.86,23.020000000000003,32.82000000000001,35.76,28.89999999999999,32.82000000000001,30.86,37.71999999999999,30.86,32.82000000000001,35.76,30.86,27.919999999999995,35.76,32.82000000000001,35.76,35.76,35.76,32.82000000000001,28.89999999999999,32.82000000000001,21.060000000000002,32.82000000000001,35.76,35.76,30.86,37.71999999999999,27.919999999999995,25.960000000000004,35.76,35.76,30.86,23.020000000000003,37.71999999999999,30.86,28.89999999999999,35.76,35.76],\"y\":[28.28535751322678,30.631550832957643,30.67769484890411,20.841964167964377,30.82392451788314,34.99380738141689,30.831257167644242,25.954208614254327,38.81312313055,25.966474661439506,34.4595414591839,25.890542037005822,25.19459130144819,34.036298487118906,25.789499610531802,29.44942711201048,38.38476785858481,29.496817070458707,38.83114541039575,34.80572592099409,24.423699053089855,36.02026722761086,29.212242363688212,35.022565373888824,29.71140299104306,25.81367030410041,35.89001779676897,35.85617762045573,39.21796603632143,34.52792435099573,34.96603472108798,33.27758840819759,34.475549310103055,36.09295880773426,34.948223655627174,25.78116862224259,34.83084659826825,27.642570592704942,38.46750889300759,34.68195642268309,30.67384734036856,24.956661728765525,35.71992884463753,28.294467495465764,35.84450090618566,38.47978630177304,38.61870313567445,34.578709612216386,38.83981519241893,34.43204507355038,38.573128366344136,33.48164547143059,34.72663648961723,30.00362486356719,25.98683092472615,29.047693862736562,35.88747008129467,30.80964485443545,29.04492488907158,35.8628781245971,29.6990231146641,33.69211959330023,36.26089376261665,34.31757388888908,29.67901791368059,35.120613732474816,29.069161976516778,33.08185168378622,30.690635731085887,30.76448591707288,30.096924203863544,34.77756514442285,35.88747008129467,34.47615393562796,35.662462855730205,29.160691490309105,35.070733379034785,30.006482192087166,38.55401744439139,30.61962203869833,38.46240831869395,35.91694071624153,39.16695485504509,34.402264701226756,25.838701385445056,34.56261141934307,29.69950852793186,34.620474154086416,25.27703902802221,34.51581706293908,19.97307697989949,35.98019889003009,35.93966195162936,25.92898062374179,35.68865700985216,29.68713344625351,34.38894418344755,35.859481113857825,38.50114930173557,35.87514729866523,29.898712808042543,38.76876145504384,35.77863066723248,29.69667948783879,35.7941694408955,38.517127439396766,35.0819541312582,34.26529585648532,24.974312820414656,25.870347391795313,35.89001779676897,33.972649070172,35.91042329023753,30.018986056299738,36.16813038264606,30.703415491251416,34.43749049927671,25.720461613173608,34.65701244471372,35.88270377079123,25.862986883819698,35.95720229025672,35.097686874823225,34.5422515597093,25.253684899946947,35.93772531386053,25.920695413462223,31.099620948846653,34.76738557349815,35.70782358477736,30.67935687796609,34.20295732927039,25.186445317516213,34.354236269609395,29.00756888226014,29.52713179531566,25.293389901798047,20.332220093535888,25.770373037393412,30.5901320376744,33.7866346362161,34.37026057435845,34.000396251657875,20.026871223381896,25.898406453749416,30.096924203863544,29.76203547770183,34.38232120562868,30.825924662898124,34.99337343439117,25.873819816696717,34.703460700467716,29.543312381480384,29.74290572071489,25.810135201663833,25.728773716947785,34.75745137981998,25.91246488649907,29.405963419067223,24.634649633846607,20.92533119661523,30.018986056299738,25.4089389748577,25.909843584864504,36.149529021731254,34.26759510386607,34.514164459084135,34.475549310103055,25.78116862224259,35.90149340900191,25.831790092037803,20.401938421247156,34.417762289465536,34.8069426048837,33.854824911108295,29.974709371539703,28.333638943873837,25.730968428651074,34.38894418344755,27.774012299596286,39.31690368704703,29.40686990755756,33.99879941975393,27.684047427150833,25.832487640682174,29.5743547004091,30.096924203863544,24.950087909986173,25.812107064569833,29.878061187518583,36.010030627588016,25.92898062374179,34.49194623543763,39.018257751918185,34.66481758891608,35.786681328133135,35.1380448897521,24.842566631680796,35.909570963950905,29.463096160292046,33.10150320568562,34.16783149043516,30.128822388297042,38.54171695125373,25.93496444583226,35.985740321593056,34.39290220300445,34.22655858034333,30.035427344658956,33.95197446084689,39.16888906745902,38.38476785858481,25.758886150929506,38.46023515960095,29.1704076595049,38.860931868785066,29.702337828752402,30.602871268104003,29.953918676788867,25.73928380084709,24.457694657070526,35.932946656388665,33.303643689784316,28.249412341601023,34.74639621464317,36.08825889904341,27.79457040874047,20.276255740338446,38.55401744439139,35.097686874823225,24.358585187562433,27.777441524483123,25.17176739302196,34.70798223043671,35.87094722685077,25.8220114028943,38.765096659547005,25.88889147357866,29.6990231146641,35.81365230807316,34.49194623543763,25.720461613173608,36.09295880773426,34.852070468698074,35.67089391920472,30.757454756211875,19.955546998570394,27.839703995925017,38.69605906077436,24.990959020867294,29.264840891363587,33.19167856946319,25.92898062374179,32.94322865064022,29.502525563743518,35.86627544840867,38.90554641530799,29.740072681456887,25.816282237446476,30.20242026765687,24.54105920554061,36.01982090542313,24.52517617802947,24.826976754153154,25.986972576355175,24.536255461982925,25.23010586172086,34.16783149043516,36.07704398156259,36.461003832779056,24.498545593496644,25.98185733963952,33.58979397608027,35.12394264837516,34.94035648881071,25.371242698657234,35.8908696715283,24.985198252861537,34.408656341153666,34.08319089554986,30.676437542281985,25.904095658515608,38.455235302266,25.02282699021558,25.876088107994736,30.141375588167612,28.15394394174923,38.606907573010204,38.687678004479615,35.0606970183104,25.781257314224373,20.9134735454377,34.729788629210994,35.0606970183104,34.56764535878002,34.754065819619086,29.639108667183795,35.67020851176706,35.96330717156205,22.868125755812272,35.962223848987335,33.92542674058646,35.93542561648698,35.76807347454341,33.19167856946319,34.41749226396145,35.125605681323336,25.155202692923048,24.950087909986173,25.909843584864504,35.16386436405292,29.264840891363587,22.900041306309504,25.41715417130538,20.91832523014304,35.04498039633037,35.005004203781446,24.319179688438773,34.85635591313114,30.674775666380334,29.45033489627748,35.662462855730205,24.84940139354204,34.88941379788182,35.98886211200075,34.68906850777299,34.62365441361287,29.726765195716922,29.851764469133474,33.090898333329605,33.24246363465677,36.06028309243248,20.181510894161278,24.489453100786815,35.7233129940846,39.05975047691133,34.64060709584318,25.952978875597914,33.15180759095876,30.861154146496308,25.97595243666732,24.36092226295286,35.73360841935039,35.82529745671458,34.163643595454126,25.756191198757723,35.798690725867424,35.9713982572389,25.135213933935752,29.069161976516778,20.380007524842533,39.19758845067506,34.52086490302696,34.18981596877743,30.731585185964583,20.11355328279831,28.986144743352142,34.429735104963335,27.872945181204972,34.22486235103534,35.09317837399232,39.00949986968024,30.525423417537382,34.42808650663007,29.02624107628438,34.429735104963335,34.49478927669894,35.04774702185571,34.15758691583077,35.8085635081671,38.72424829415048,38.573128366344136,35.022010450441115,24.377175358793036,33.03478673576321,38.453923637613116,38.905497275123096,20.923123043458467,30.77756749324998,31.089638621065227,29.484861065693917,28.300879909951917,38.860931868785066,34.67564007669398,38.18120461704244,35.99227104663661,38.31601968178301,20.20021637911097,19.85269187667,35.791908846960915,35.9669077862294,28.036090446497383,24.94093254250479,34.80572592099409,35.912972591026445,24.92837304390804,35.97286813485287,35.673588078933015,24.358585187562433,25.86051138924152,24.421356192653846,38.47978630177304,29.965076868328097,35.9456168753274,36.18873045319385,30.77026146222735,29.00756888226014,38.57862991103466,34.036298487118906,38.43923101907278,25.79593229867477,25.186445317516213,20.371389167347907,33.90370792660561,38.784698239361475,25.94503667510744,32.897901665044046,29.68290562874729,35.9423047098434,34.88705327538428,24.621002598851486,29.15409090849656,30.74741219561767,34.79910635702459,34.62365441361287,35.77524142011698,36.031783357361846,29.67901791368059,25.847050270816467,33.83957082124502,30.190187637460372,36.065103578347944,25.891523096863075,20.401938421247156,28.13491758008613,29.851764469133474,27.67876105058791,34.68701000298577,30.77143900641205,36.006527425525505,26.1282889890706,30.62945815543504,25.682320667710655,35.91465675772015,25.26760039038718,34.79912704226862,24.41297771874492,25.735895767205076,34.46512157491646,30.73461470022327,29.596199096470357,34.71758302285612,25.89890704877812,35.7378373527854,35.89559000029362,29.111048780202694,39.16695485504509,34.49918601337774,30.54504009575142,34.56764535878002,24.91227408172372,36.39419267124916,35.212221308837535,25.099024665673827,34.020577404366584,25.815077133085786,35.8628781245971,34.73841818017804,35.87793724316512,24.4339515699272,24.817261841917464,34.75449688147962,30.109464540276573,34.920554535732755,36.031336896333826,29.53662806417073,29.253935028187282,25.799606196523666,35.88610292175638,35.79707148281291,34.49795831485515,36.06880564042292,19.821976610915684,38.88068154191619,34.09141101216717,28.074697077053372,29.727681248223195,28.339046034547813,34.62076581011221,34.62628411030948,34.89486457295421,33.360198539524546,20.88502193470751,29.463096160292046,34.44795086819942,38.39881703073523,28.245926874950275,26.056615307054972,34.217153489789304,33.14601980971533,25.909843584864504,35.87793724316512,34.213908136884214,34.96783171498031,32.84951559906092,20.834026199630955,30.801098261008196,19.880575303605234,29.730999056661393,28.114116477412402,30.839859263794345,20.847612411000817,35.022010450441115,24.38693664850573,29.405963419067223,34.403485262822,35.609851522562224,25.810135201663833,33.64401119342209,29.45033489627748,38.36526377135566,35.835072323512094,29.696194119303147,30.087253694330354,32.86628682937056,35.04774702185571,35.89554456660638,30.65507831047705,30.73461470022327,24.41297771874492,35.04774702185571,29.68713344625351,33.96890492051944,29.478760874560802,34.797338477054126,38.41712698498244,34.96451718511123,34.78910825409902,35.78927386611214,34.7418491683362,32.99364469197031,34.83868979390966,24.79597189779228,39.263065446391934,34.58198858563084,39.20638750457592,34.53791676150949,34.75572958696101,20.152260526002514,39.05975047691133,30.593313876760146,34.88370200176969,35.91042329023753,29.488242096366218,33.675153746507505,30.970843548833287,34.50321006069625,36.104498924779286,27.795884170625204,33.48164547143059,25.354843411144724,24.358585187562433,35.84992666073553,33.049688460529225,34.18981596877743,34.48814649015955,33.71832036505714,24.953376364265697,34.433954690724484,29.07574396780489,38.563285091597265,25.036208432046784,29.243233071089,25.19459130144819,35.695454224636244,30.189842460457697,24.599466260604515,25.747959150413237,28.184392210485143,24.480340707093134,38.81459967751893,24.73435912016421,35.9686062660824,29.397894635065356,34.44904274326504,35.72999017289912,30.5744880025729,29.685132819020748,24.485229763718316,24.96671858538074,34.10226361232013,25.8846571181287,30.73461470022327,34.95029722778918,34.62693752919015,25.158806635299385,25.9700488259664,24.901828751371244,28.315397453158905,25.77383530384574,29.44752881818699,24.792488019584713,38.48342480275025,38.25439159088274,33.875573979213286,36.12288150814185,34.63579846325847,34.505830866330946,27.816457906519908,32.99051208860452,33.028514235364476,35.80573849080079,34.204006829830696,33.11366775343272,38.93322005422324,25.733431984406053,35.665841709047896,34.338329009381155,25.293389901798047,30.58030815055869,25.98683092472615,30.706359000560234,35.92457762775508,38.896813199626465,20.540150493581407,30.632373161446644,25.98410339332261,35.83486204652047,25.90221396235563,35.79909880702418,34.74639621464317,34.372975411893854,25.022415523514937,35.92954318865071,38.77380104312737,19.881606507388007,35.63628740312981,29.605716850529646,29.524318640189843,35.84881999834046,34.49194623543763,29.651464382095124,29.64193240148606,33.958030303911634,25.4089389748577,30.90210568988075,25.8220114028943,35.90763453639514,34.54552717310911,35.99696016220621,34.43749049927671,27.633663337114147,25.155202692923048,35.84450090618566,30.825390770571566,34.103376560684424,35.01744623757108,25.98185733963952,34.83761837087431,35.11548066258772,30.674775666380334,29.793590144484472,29.477852242859576,34.06456209015083,29.03558152988086,25.223877435777666,30.14279642382186,29.066391024508903,38.32100189739727,28.318099192764706,34.44497735615528,35.73939185795359,29.904038306079386,24.581189321100027,35.14928658099487,35.04498039633037,27.947973791683566,33.01048733311608,30.795708859596715,34.48364896090701,31.053801759428627,33.054380189229796,35.96051579142491,30.785821042279945,24.795682932990992,35.810259833621764,34.174582173494976,34.505830866330946,35.87463209565124,34.17887265333677,35.014127135593824,27.936304759921438,34.282935971884456,20.3218919379119,29.429075778354726,35.86028279491246,35.87514729866523,29.84641996195526,34.523984438632986,29.965076868328097,25.7226556423663,35.91046874224661,35.85976779957866,29.86811712344355,24.70846716610663,34.712094557314806,30.831438880853543,28.209020696090263,34.819613352177065,36.00376145601283],\"type\":\"scatter\"},{\"line\":{\"color\":\"red\",\"dash\":\"dash\"},\"mode\":\"lines\",\"name\":\"Perfect Fit\",\"x\":[18.120000000000005,38.7],\"y\":[18.120000000000005,38.7],\"type\":\"scatter\"}],                        {\"template\":{\"data\":{\"histogram2dcontour\":[{\"type\":\"histogram2dcontour\",\"colorbar\":{\"outlinewidth\":0,\"ticks\":\"\"},\"colorscale\":[[0.0,\"#0d0887\"],[0.1111111111111111,\"#46039f\"],[0.2222222222222222,\"#7201a8\"],[0.3333333333333333,\"#9c179e\"],[0.4444444444444444,\"#bd3786\"],[0.5555555555555556,\"#d8576b\"],[0.6666666666666666,\"#ed7953\"],[0.7777777777777778,\"#fb9f3a\"],[0.8888888888888888,\"#fdca26\"],[1.0,\"#f0f921\"]]}],\"choropleth\":[{\"type\":\"choropleth\",\"colorbar\":{\"outlinewidth\":0,\"ticks\":\"\"}}],\"histogram2d\":[{\"type\":\"histogram2d\",\"colorbar\":{\"outlinewidth\":0,\"ticks\":\"\"},\"colorscale\":[[0.0,\"#0d0887\"],[0.1111111111111111,\"#46039f\"],[0.2222222222222222,\"#7201a8\"],[0.3333333333333333,\"#9c179e\"],[0.4444444444444444,\"#bd3786\"],[0.5555555555555556,\"#d8576b\"],[0.6666666666666666,\"#ed7953\"],[0.7777777777777778,\"#fb9f3a\"],[0.8888888888888888,\"#fdca26\"],[1.0,\"#f0f921\"]]}],\"heatmap\":[{\"type\":\"heatmap\",\"colorbar\":{\"outlinewidth\":0,\"ticks\":\"\"},\"colorscale\":[[0.0,\"#0d0887\"],[0.1111111111111111,\"#46039f\"],[0.2222222222222222,\"#7201a8\"],[0.3333333333333333,\"#9c179e\"],[0.4444444444444444,\"#bd3786\"],[0.5555555555555556,\"#d8576b\"],[0.6666666666666666,\"#ed7953\"],[0.7777777777777778,\"#fb9f3a\"],[0.8888888888888888,\"#fdca26\"],[1.0,\"#f0f921\"]]}],\"heatmapgl\":[{\"type\":\"heatmapgl\",\"colorbar\":{\"outlinewidth\":0,\"ticks\":\"\"},\"colorscale\":[[0.0,\"#0d0887\"],[0.1111111111111111,\"#46039f\"],[0.2222222222222222,\"#7201a8\"],[0.3333333333333333,\"#9c179e\"],[0.4444444444444444,\"#bd3786\"],[0.5555555555555556,\"#d8576b\"],[0.6666666666666666,\"#ed7953\"],[0.7777777777777778,\"#fb9f3a\"],[0.8888888888888888,\"#fdca26\"],[1.0,\"#f0f921\"]]}],\"contourcarpet\":[{\"type\":\"contourcarpet\",\"colorbar\":{\"outlinewidth\":0,\"ticks\":\"\"}}],\"contour\":[{\"type\":\"contour\",\"colorbar\":{\"outlinewidth\":0,\"ticks\":\"\"},\"colorscale\":[[0.0,\"#0d0887\"],[0.1111111111111111,\"#46039f\"],[0.2222222222222222,\"#7201a8\"],[0.3333333333333333,\"#9c179e\"],[0.4444444444444444,\"#bd3786\"],[0.5555555555555556,\"#d8576b\"],[0.6666666666666666,\"#ed7953\"],[0.7777777777777778,\"#fb9f3a\"],[0.8888888888888888,\"#fdca26\"],[1.0,\"#f0f921\"]]}],\"surface\":[{\"type\":\"surface\",\"colorbar\":{\"outlinewidth\":0,\"ticks\":\"\"},\"colorscale\":[[0.0,\"#0d0887\"],[0.1111111111111111,\"#46039f\"],[0.2222222222222222,\"#7201a8\"],[0.3333333333333333,\"#9c179e\"],[0.4444444444444444,\"#bd3786\"],[0.5555555555555556,\"#d8576b\"],[0.6666666666666666,\"#ed7953\"],[0.7777777777777778,\"#fb9f3a\"],[0.8888888888888888,\"#fdca26\"],[1.0,\"#f0f921\"]]}],\"mesh3d\":[{\"type\":\"mesh3d\",\"colorbar\":{\"outlinewidth\":0,\"ticks\":\"\"}}],\"scatter\":[{\"fillpattern\":{\"fillmode\":\"overlay\",\"size\":10,\"solidity\":0.2},\"type\":\"scatter\"}],\"parcoords\":[{\"type\":\"parcoords\",\"line\":{\"colorbar\":{\"outlinewidth\":0,\"ticks\":\"\"}}}],\"scatterpolargl\":[{\"type\":\"scatterpolargl\",\"marker\":{\"colorbar\":{\"outlinewidth\":0,\"ticks\":\"\"}}}],\"bar\":[{\"error_x\":{\"color\":\"#2a3f5f\"},\"error_y\":{\"color\":\"#2a3f5f\"},\"marker\":{\"line\":{\"color\":\"#E5ECF6\",\"width\":0.5},\"pattern\":{\"fillmode\":\"overlay\",\"size\":10,\"solidity\":0.2}},\"type\":\"bar\"}],\"scattergeo\":[{\"type\":\"scattergeo\",\"marker\":{\"colorbar\":{\"outlinewidth\":0,\"ticks\":\"\"}}}],\"scatterpolar\":[{\"type\":\"scatterpolar\",\"marker\":{\"colorbar\":{\"outlinewidth\":0,\"ticks\":\"\"}}}],\"histogram\":[{\"marker\":{\"pattern\":{\"fillmode\":\"overlay\",\"size\":10,\"solidity\":0.2}},\"type\":\"histogram\"}],\"scattergl\":[{\"type\":\"scattergl\",\"marker\":{\"colorbar\":{\"outlinewidth\":0,\"ticks\":\"\"}}}],\"scatter3d\":[{\"type\":\"scatter3d\",\"line\":{\"colorbar\":{\"outlinewidth\":0,\"ticks\":\"\"}},\"marker\":{\"colorbar\":{\"outlinewidth\":0,\"ticks\":\"\"}}}],\"scattermapbox\":[{\"type\":\"scattermapbox\",\"marker\":{\"colorbar\":{\"outlinewidth\":0,\"ticks\":\"\"}}}],\"scatterternary\":[{\"type\":\"scatterternary\",\"marker\":{\"colorbar\":{\"outlinewidth\":0,\"ticks\":\"\"}}}],\"scattercarpet\":[{\"type\":\"scattercarpet\",\"marker\":{\"colorbar\":{\"outlinewidth\":0,\"ticks\":\"\"}}}],\"carpet\":[{\"aaxis\":{\"endlinecolor\":\"#2a3f5f\",\"gridcolor\":\"white\",\"linecolor\":\"white\",\"minorgridcolor\":\"white\",\"startlinecolor\":\"#2a3f5f\"},\"baxis\":{\"endlinecolor\":\"#2a3f5f\",\"gridcolor\":\"white\",\"linecolor\":\"white\",\"minorgridcolor\":\"white\",\"startlinecolor\":\"#2a3f5f\"},\"type\":\"carpet\"}],\"table\":[{\"cells\":{\"fill\":{\"color\":\"#EBF0F8\"},\"line\":{\"color\":\"white\"}},\"header\":{\"fill\":{\"color\":\"#C8D4E3\"},\"line\":{\"color\":\"white\"}},\"type\":\"table\"}],\"barpolar\":[{\"marker\":{\"line\":{\"color\":\"#E5ECF6\",\"width\":0.5},\"pattern\":{\"fillmode\":\"overlay\",\"size\":10,\"solidity\":0.2}},\"type\":\"barpolar\"}],\"pie\":[{\"automargin\":true,\"type\":\"pie\"}]},\"layout\":{\"autotypenumbers\":\"strict\",\"colorway\":[\"#636efa\",\"#EF553B\",\"#00cc96\",\"#ab63fa\",\"#FFA15A\",\"#19d3f3\",\"#FF6692\",\"#B6E880\",\"#FF97FF\",\"#FECB52\"],\"font\":{\"color\":\"#2a3f5f\"},\"hovermode\":\"closest\",\"hoverlabel\":{\"align\":\"left\"},\"paper_bgcolor\":\"white\",\"plot_bgcolor\":\"#E5ECF6\",\"polar\":{\"bgcolor\":\"#E5ECF6\",\"angularaxis\":{\"gridcolor\":\"white\",\"linecolor\":\"white\",\"ticks\":\"\"},\"radialaxis\":{\"gridcolor\":\"white\",\"linecolor\":\"white\",\"ticks\":\"\"}},\"ternary\":{\"bgcolor\":\"#E5ECF6\",\"aaxis\":{\"gridcolor\":\"white\",\"linecolor\":\"white\",\"ticks\":\"\"},\"baxis\":{\"gridcolor\":\"white\",\"linecolor\":\"white\",\"ticks\":\"\"},\"caxis\":{\"gridcolor\":\"white\",\"linecolor\":\"white\",\"ticks\":\"\"}},\"coloraxis\":{\"colorbar\":{\"outlinewidth\":0,\"ticks\":\"\"}},\"colorscale\":{\"sequential\":[[0.0,\"#0d0887\"],[0.1111111111111111,\"#46039f\"],[0.2222222222222222,\"#7201a8\"],[0.3333333333333333,\"#9c179e\"],[0.4444444444444444,\"#bd3786\"],[0.5555555555555556,\"#d8576b\"],[0.6666666666666666,\"#ed7953\"],[0.7777777777777778,\"#fb9f3a\"],[0.8888888888888888,\"#fdca26\"],[1.0,\"#f0f921\"]],\"sequentialminus\":[[0.0,\"#0d0887\"],[0.1111111111111111,\"#46039f\"],[0.2222222222222222,\"#7201a8\"],[0.3333333333333333,\"#9c179e\"],[0.4444444444444444,\"#bd3786\"],[0.5555555555555556,\"#d8576b\"],[0.6666666666666666,\"#ed7953\"],[0.7777777777777778,\"#fb9f3a\"],[0.8888888888888888,\"#fdca26\"],[1.0,\"#f0f921\"]],\"diverging\":[[0,\"#8e0152\"],[0.1,\"#c51b7d\"],[0.2,\"#de77ae\"],[0.3,\"#f1b6da\"],[0.4,\"#fde0ef\"],[0.5,\"#f7f7f7\"],[0.6,\"#e6f5d0\"],[0.7,\"#b8e186\"],[0.8,\"#7fbc41\"],[0.9,\"#4d9221\"],[1,\"#276419\"]]},\"xaxis\":{\"gridcolor\":\"white\",\"linecolor\":\"white\",\"ticks\":\"\",\"title\":{\"standoff\":15},\"zerolinecolor\":\"white\",\"automargin\":true,\"zerolinewidth\":2},\"yaxis\":{\"gridcolor\":\"white\",\"linecolor\":\"white\",\"ticks\":\"\",\"title\":{\"standoff\":15},\"zerolinecolor\":\"white\",\"automargin\":true,\"zerolinewidth\":2},\"scene\":{\"xaxis\":{\"backgroundcolor\":\"#E5ECF6\",\"gridcolor\":\"white\",\"linecolor\":\"white\",\"showbackground\":true,\"ticks\":\"\",\"zerolinecolor\":\"white\",\"gridwidth\":2},\"yaxis\":{\"backgroundcolor\":\"#E5ECF6\",\"gridcolor\":\"white\",\"linecolor\":\"white\",\"showbackground\":true,\"ticks\":\"\",\"zerolinecolor\":\"white\",\"gridwidth\":2},\"zaxis\":{\"backgroundcolor\":\"#E5ECF6\",\"gridcolor\":\"white\",\"linecolor\":\"white\",\"showbackground\":true,\"ticks\":\"\",\"zerolinecolor\":\"white\",\"gridwidth\":2}},\"shapedefaults\":{\"line\":{\"color\":\"#2a3f5f\"}},\"annotationdefaults\":{\"arrowcolor\":\"#2a3f5f\",\"arrowhead\":0,\"arrowwidth\":1},\"geo\":{\"bgcolor\":\"white\",\"landcolor\":\"#E5ECF6\",\"subunitcolor\":\"white\",\"showland\":true,\"showlakes\":true,\"lakecolor\":\"white\"},\"title\":{\"x\":0.05},\"mapbox\":{\"style\":\"light\"}}},\"title\":{\"text\":\"Actual vs Predicted Sales (OLS Model)\"},\"xaxis\":{\"title\":{\"text\":\"Actual Sales (money)\"}},\"yaxis\":{\"title\":{\"text\":\"Predicted Sales (money)\"}}},                        {\"responsive\": true}                    ).then(function(){\n",
              "                            \n",
              "var gd = document.getElementById('ab2c0d6b-ab9a-4973-8370-4eb9ebb25085');\n",
              "var x = new MutationObserver(function (mutations, observer) {{\n",
              "        var display = window.getComputedStyle(gd).display;\n",
              "        if (!display || display === 'none') {{\n",
              "            console.log([gd, 'removed!']);\n",
              "            Plotly.purge(gd);\n",
              "            observer.disconnect();\n",
              "        }}\n",
              "}});\n",
              "\n",
              "// Listen for the removal of the full notebook cells\n",
              "var notebookContainer = gd.closest('#notebook-container');\n",
              "if (notebookContainer) {{\n",
              "    x.observe(notebookContainer, {childList: true});\n",
              "}}\n",
              "\n",
              "// Listen for the clearing of the current output cell\n",
              "var outputEl = gd.closest('.output');\n",
              "if (outputEl) {{\n",
              "    x.observe(outputEl, {childList: true});\n",
              "}}\n",
              "\n",
              "                        })                };                            </script>        </div>\n",
              "</body>\n",
              "</html>"
            ]
          },
          "metadata": {}
        }
      ]
    },
    {
      "cell_type": "code",
      "execution_count": 46,
      "id": "903b5f60",
      "metadata": {
        "colab": {
          "base_uri": "https://localhost:8080/"
        },
        "id": "903b5f60",
        "outputId": "d559d9dd-6367-4276-9940-c0784b8aa30d"
      },
      "outputs": [
        {
          "output_type": "stream",
          "name": "stdout",
          "text": [
            "Linear Regression Model R²: 0.8714\n",
            "Linear Regression Model MAE: 1.4949\n"
          ]
        }
      ],
      "source": [
        "from sklearn.linear_model import LinearRegression\n",
        "from sklearn.model_selection import train_test_split\n",
        "from sklearn.metrics import r2_score, mean_absolute_error\n",
        "\n",
        "# Prepare data\n",
        "X = df[[\"hour_of_day\", \"cash_type\", \"coffee_name\", \"Time_of_Day\",\n",
        "        \"Weekdaysort\", \"Monthsort\"]]\n",
        "y = df[\"money\"]\n",
        "X_encoded = pd.get_dummies(X, drop_first=True)\n",
        "X_encoded = X_encoded.astype(float)\n",
        "# Split data\n",
        "X_train, X_test, y_train, y_test = train_test_split(X_encoded, y, test_size=0.2, random_state=42)\n",
        "model = LinearRegression()\n",
        "model.fit(X_train, y_train)\n",
        "\n",
        "# Make predictions\n",
        "y_pred_lr = model.predict(X_test)\n",
        "\n",
        "# Calculate R2 and MAE\n",
        "r2_lr = r2_score(y_test, y_pred_lr)\n",
        "mae_lr = mean_absolute_error(y_test, y_pred_lr)\n",
        "\n",
        "print(f\"Linear Regression Model R²: {r2_lr:.4f}\")\n",
        "print(f\"Linear Regression Model MAE: {mae_lr:.4f}\")"
      ]
    },
    {
      "cell_type": "code",
      "source": [
        "import plotly.graph_objects as go\n",
        "\n",
        "# Linear Regression predictions\n",
        "y_pred_lr = model.predict(X_test)\n",
        "\n",
        "# Plot actual vs predicted sales for Linear Regression model\n",
        "fig_lr = go.Figure()\n",
        "fig_lr.add_trace(go.Scatter(x=y_test, y=y_pred_lr, mode='markers', name='Linear Regression Predictions'))\n",
        "fig_lr.add_trace(go.Scatter(x=[y_test.min(), y_test.max()], y=[y_test.min(), y_test.max()],\n",
        "                            mode='lines', name='Perfect Fit', line=dict(color='red', dash='dash')))\n",
        "fig_lr.update_layout(title='Actual vs Predicted Sales (Linear Regression Model)',\n",
        "                      xaxis_title='Actual Sales (money)',\n",
        "                      yaxis_title='Predicted Sales (money)')\n",
        "fig_lr.show()"
      ],
      "metadata": {
        "colab": {
          "base_uri": "https://localhost:8080/",
          "height": 542
        },
        "id": "M80bmmLfeems",
        "outputId": "80e14412-f8ae-442f-d47f-9312a79ea37d"
      },
      "id": "M80bmmLfeems",
      "execution_count": 47,
      "outputs": [
        {
          "output_type": "display_data",
          "data": {
            "text/html": [
              "<html>\n",
              "<head><meta charset=\"utf-8\" /></head>\n",
              "<body>\n",
              "    <div>            <script src=\"https://cdnjs.cloudflare.com/ajax/libs/mathjax/2.7.5/MathJax.js?config=TeX-AMS-MML_SVG\"></script><script type=\"text/javascript\">if (window.MathJax && window.MathJax.Hub && window.MathJax.Hub.Config) {window.MathJax.Hub.Config({SVG: {font: \"STIX-Web\"}});}</script>                <script type=\"text/javascript\">window.PlotlyConfig = {MathJaxConfig: 'local'};</script>\n",
              "        <script charset=\"utf-8\" src=\"https://cdn.plot.ly/plotly-2.35.2.min.js\"></script>                <div id=\"6075cf88-fa27-40e0-8983-1af666429e3c\" class=\"plotly-graph-div\" style=\"height:525px; width:100%;\"></div>            <script type=\"text/javascript\">                                    window.PLOTLYENV=window.PLOTLYENV || {};                                    if (document.getElementById(\"6075cf88-fa27-40e0-8983-1af666429e3c\")) {                    Plotly.newPlot(                        \"6075cf88-fa27-40e0-8983-1af666429e3c\",                        [{\"mode\":\"markers\",\"name\":\"Linear Regression Predictions\",\"x\":[32.82,35.76,35.76,35.76,18.12,35.76,23.02,35.76,25.96,30.86,23.02,37.72,35.76,35.76,35.76,35.76,27.92,35.76,35.76,23.02,35.76,25.96,35.76,32.82,35.76,30.86,38.7,28.9,32.82,27.92,35.76,28.9,35.76,25.96,35.76,27.92,32.82,38.7,37.72,27.92,30.86,35.76,35.76,33.8,35.76,35.76,37.72,25.96,35.76,30.86,28.9,35.76,27.92,35.76,35.76,35.76,30.86,23.02,30.86,30.86,35.76,18.12,35.76,32.82,35.76,35.76,25.96,37.72,32.82,27.92,35.76,32.82,35.76,33.8,27.92,38.7,32.82,27.92,37.72,38.7,25.96,32.82,35.76,28.9,37.72,32.82,30.86,27.92,25.96,32.82,37.72,25.96,21.06,25.96,37.72,27.92,25.96,30.86,35.76,25.96,27.92,28.9,30.86,35.76,25.96,37.72,27.92,27.92,32.82,30.86,27.92,35.76,30.86,35.76,38.7,21.06,27.92,27.92,35.76,32.82,35.76,25.96,27.92,25.96,32.82,35.76,32.82,25.96,27.92,30.86,27.92,30.86,32.82,37.72,27.92,32.82,30.86,32.82,25.96,32.82,35.76,35.76,35.76,35.76,27.92,30.86,35.76,33.8,30.86,27.92,27.92,25.96,37.72,30.86,37.72,30.86,38.7,35.76,25.96,28.9,23.02,30.86,38.7,35.76,27.92,35.76,23.02,25.96,37.72,32.82,32.82,25.96,35.76,30.86,37.72,18.12,25.96,32.82,33.8,35.76,35.76,23.02,27.92,25.96,32.82,30.86,27.92,35.76,35.76,35.76,30.86,38.7,35.76,18.12,32.82,23.02,38.7,35.76,37.72,25.96,37.72,37.72,37.72,21.06,27.92,37.72,35.76,30.86,35.76,32.82,38.7,30.86,32.82,28.9,35.76,30.86,32.82,37.72,27.92,28.9,32.82,35.76,35.76,32.82,30.86,35.76,32.82,28.9,38.7,38.7,25.96,35.76,27.92,35.76,21.06,32.82,30.86,30.86,32.82,35.76,35.76,32.82,35.76,18.12,23.02,32.82,35.76,33.8,32.82,30.86,37.72,23.02,23.02,32.82,28.9,25.96,27.92,35.76,35.76,35.76,25.96,37.72,25.96,32.82,25.96,23.02,28.9,32.82,35.76,37.72,35.76,32.82,25.96,27.92,30.86,32.82,35.76,35.76,23.02,32.82,32.82,30.86,30.86,25.96,35.76,24.0,27.92,25.96,30.86,27.92,35.76,25.96,28.9,27.92,27.92,37.72,25.96,27.92,38.7,25.96,30.86,30.86,25.96,25.96,35.76,32.82,33.8,21.06,37.72,28.9,32.82,35.76,35.76,25.96,25.96,35.76,25.96,38.7,25.96,35.76,37.72,35.76,35.76,35.76,25.96,35.76,28.9,35.76,35.76,35.76,32.82,35.76,35.76,35.76,32.82,37.72,35.76,32.82,25.96,30.86,21.06,25.96,35.76,27.92,37.72,27.92,35.76,38.7,27.92,35.76,35.76,35.76,35.76,35.76,35.76,27.92,28.9,27.92,25.96,27.92,35.76,30.86,37.72,27.92,25.96,32.82,28.9,25.96,32.82,23.02,32.82,28.9,35.76,32.82,37.72,25.96,27.92,27.92,32.82,27.92,32.82,35.76,35.76,25.96,33.8,25.96,35.76,35.76,37.72,23.02,35.76,35.76,25.96,35.76,35.76,35.76,28.9,35.76,33.8,25.96,32.82,32.82,25.96,32.82,35.76,35.76,23.02,30.86,35.76,35.76,35.76,25.96,35.76,32.82,27.92,32.82,25.96,35.76,38.7,38.7,25.96,25.96,33.8,37.72,33.8,30.86,30.86,38.7,30.86,25.96,25.96,27.92,32.82,28.9,32.82,32.82,33.8,30.86,35.76,35.76,35.76,35.76,35.76,30.86,35.76,32.82,24.0,35.76,27.92,27.92,35.76,27.92,35.76,32.82,32.82,35.76,25.96,35.76,25.96,25.96,37.72,30.86,38.7,23.02,23.02,35.76,35.76,35.76,25.96,27.92,23.02,30.86,38.7,30.86,38.7,23.02,32.82,35.76,28.9,30.86,23.02,28.9,28.9,30.86,25.96,32.82,35.76,37.72,32.82,37.72,25.96,35.76,35.76,35.76,35.76,37.72,35.76,30.86,35.76,35.76,28.9,35.76,37.72,25.96,27.92,23.02,38.7,35.76,30.86,30.86,35.76,30.86,35.76,32.82,27.92,27.92,27.92,35.76,30.86,27.92,35.76,35.76,25.96,35.76,38.7,27.92,25.96,37.72,32.82,32.82,33.8,32.82,30.86,30.86,37.72,32.82,28.9,33.8,27.92,32.82,32.82,23.02,30.86,27.92,35.76,38.7,23.02,25.96,37.72,37.72,27.92,32.82,30.86,23.02,25.96,23.02,37.72,37.72,35.76,27.92,35.76,25.96,35.76,27.92,35.76,35.76,35.76,23.02,35.76,28.9,27.92,30.86,35.76,35.76,30.86,32.82,35.76,35.76,32.82,30.86,35.76,35.76,35.76,23.02,32.82,35.76,25.96,37.72,35.76,30.86,38.7,35.76,35.76,37.72,35.76,35.76,35.76,25.96,23.02,35.76,32.82,30.86,30.86,37.72,35.76,35.76,32.82,35.76,32.82,33.8,25.96,35.76,23.02,25.96,32.82,27.92,25.96,35.76,32.82,35.76,27.92,33.8,25.96,25.96,25.96,32.82,38.7,27.92,32.82,35.76,37.72,27.92,35.76,35.76,35.76,38.7,30.86,35.76,25.96,27.92,35.76,38.7,23.02,25.96,37.72,30.86,25.96,27.92,35.76,35.76,27.92,25.96,25.96,25.96,25.96,32.82,25.96,35.76,30.86,23.02,37.72,32.82,27.92,23.02,25.96,37.72,33.8,18.12,32.82,27.92,32.82,35.76,35.76,35.76,32.82,30.86,37.72,35.76,30.86,27.92,32.82,33.8,35.76,35.76,32.82,35.76,37.72,35.76,37.72,25.96,32.82,35.76,25.96,27.92,23.02,25.96,38.7,35.76,37.72,37.72,25.96,37.72,37.72,23.02,18.12,18.12,32.82,25.96,27.92,35.76],\"y\":[31.064043627420006,34.64143129785508,36.59727503132839,35.02757517611234,20.81344428385947,34.64784127732886,25.29082555791207,35.046303100696925,25.17810783111591,31.416877101390295,21.12137123881371,35.37432454075906,35.45964840663452,36.47411840665858,34.66281011700087,36.230017798053815,25.774575908537628,36.36380835698651,34.98302183471519,25.087347186184008,35.514963083395386,24.984003333016272,36.21157957246686,35.28722288710759,36.23915904504916,31.383470036131325,36.389441871050245,26.520006423975715,35.362855827130815,30.41131326633762,34.842824728968864,25.84849110878226,36.38511627114701,26.46705640307135,35.311980304042066,30.189396669022603,35.53620348148921,36.53202637220514,36.33489106866944,30.72187482784144,30.96897881720781,36.348839517314495,36.359739273730185,31.39413471052304,35.86094857366205,34.7100947259196,35.68387158408166,26.670295699071566,34.46862872386441,30.181027414189852,26.43847997043266,36.544883524837935,26.114479445747964,35.16062761665167,36.15205739139769,35.09490478214599,29.41800688657635,25.454038437878886,29.466382791507336,31.020824108053734,36.393796659600326,20.999080133638092,34.64784127732886,31.05627007622477,36.20043329632867,35.04264067675635,26.481190463378006,36.0551432836389,35.17828053323563,26.04268581875911,36.921736297349334,35.25203343558345,35.478086632221476,31.042136015918114,30.396344426665603,35.849449119904975,35.69125991058408,25.714700549849564,36.06222047652076,36.14511861956781,25.308429004133664,30.729904895683575,35.96428597773501,26.49962868896496,35.33744808958516,31.115054138900575,29.783959902672063,30.149050831933756,26.06753402381985,36.0488717252171,35.88383453219257,25.157034998979373,19.85437974872253,24.86136549931654,36.447680853358314,30.105235608929966,26.29698509660226,31.401908261718276,36.29304323880716,25.25658371328774,26.13832656667366,25.991416465615533,30.058479792367333,34.75044056300845,26.92510400333564,35.90657692305983,25.920813528127205,30.306369090736695,35.259165245438965,29.811186197635486,26.332431064773296,36.33338907589601,31.601678171803556,34.64437189141392,36.24077913341752,20.50204794299029,29.923069145066286,30.27937200495151,37.05469207691667,31.034362464722875,35.919732636337855,26.082502863491868,25.727304733665083,24.87684336540948,35.49155347912006,34.49214310689427,35.5404616090673,24.997352084319935,30.236085574303814,31.61664701147557,25.674354712760717,30.159119802687957,35.0733363576347,36.1325586099273,26.23635173637987,35.53164279956201,31.3805963538539,35.28722288710759,25.167699673371093,35.12805533075806,36.934304886261295,36.415653647832436,36.987877946398726,35.282042624698036,25.98043237016837,31.162644734828568,36.1493767471459,31.416042322024936,29.787429288587003,30.174427829350588,30.588084268908744,25.02272908173677,35.78941146332009,31.365627514181885,36.128254444647,30.25478031653767,36.39667034187775,36.6009701937614,26.81102502983414,26.143645250135183,25.112704417665675,31.143115213229354,35.960078473426705,35.48611670006362,30.55551198301513,34.69401470709437,25.29082555791207,24.538469704690286,36.222533945856206,31.064043627420006,35.324837456674864,26.53733991950423,35.00308358133065,31.61664701147557,35.82569221085649,20.251028445696605,26.65185747348461,35.75776290748146,31.256874765675406,36.87708629498019,34.907951859837034,25.329551306632567,29.966884368070072,24.54303038661748,35.75087875262524,31.383470036131325,30.27590261903657,35.33735730145891,35.88706368947226,35.198531885216575,29.91344629632446,36.45571092120045,34.587996658769626,20.518609563561995,35.24713356666564,25.375562555707056,35.86441795957699,36.540676020529624,36.01068631929539,24.956686826175638,36.37896280832013,35.785346373767645,35.826480952519645,21.80834344452043,30.428916712559214,35.88447627353229,34.30303787120071,30.117263855043138,36.43724195548467,35.20527761902082,35.94510963375468,29.800778039890666,31.000955399463905,26.376226521841918,34.69239461872602,31.687092825805266,35.4947663483881,35.958422213905756,30.395509647300244,25.91877462521514,36.20135702638365,36.96315126959307,36.223079026223935,31.10008529922856,31.216272411939656,34.96085770656639,35.73160574767292,26.390104065501674,36.65887815930795,36.18199507074172,25.436385521294923,34.369498824099765,30.503923208816104,35.123751165477756,21.420320519026006,35.65765980729947,30.325226130867364,31.299904679676203,30.881877163556325,34.84120120794035,34.9632665365979,35.17828053323563,36.36380835698651,20.42169545580321,20.87838180936216,35.90683343970673,35.57027776015625,31.23843654008845,35.39785224062931,29.80975571463261,36.42230385594148,25.589449085179933,25.378456003919645,35.239103498823496,26.3124629626952,26.18635574308053,30.16401967160577,36.35266208084832,36.43377256956973,36.224190205377155,25.231206715870908,36.37045856509556,26.673765084986506,35.59887574462366,26.37199159285915,25.39180475522331,26.451252784033976,35.72813636175799,34.88736132086547,36.05533632166454,36.7414737480059,30.267872551194433,26.3004544825172,26.365838130032266,29.392629889159515,30.47194662656001,35.03461060891421,35.38680234154478,25.32371726486113,35.242892188588094,35.53620348148921,29.67392625278785,31.39843887580334,26.636888633812596,35.674387156391816,21.452297101282102,26.117948831662904,26.69220331057346,29.91344629632446,30.232616188388874,36.471483800109,26.07100340973479,26.365838130032266,30.09373615517289,25.57744060500193,36.41320465294446,26.397368590275985,30.49242375505903,36.22312964949372,26.37708106714244,30.058479792367333,30.243280862780594,24.818655006371195,26.370142295312565,34.30303787120071,35.63205703336456,31.42754177578201,21.40188229343905,35.793073887260675,26.365838130032266,35.56896880540846,36.52411783261808,36.64131603085025,24.75691691609036,26.72535385918553,35.09353309264199,26.636888633812596,35.90823318258077,26.34823468381067,35.02063640428246,36.22169916649084,36.640439933721,35.923202022252795,36.26657494537807,26.514597528636976,34.8270671476337,26.511128142722036,34.92346577987678,36.85492216683139,36.8111069438276,31.10008529922856,34.98623470398322,34.6513106632438,34.58780362074398,34.86232351043925,36.14775322611739,34.66281011700087,35.56896880540846,26.794782830317885,29.581735124853076,20.112338017846096,25.231206715870908,35.123751165477756,30.25452379989077,36.110650998425406,26.085646496462374,36.987877946398726,35.737566172474175,29.963414982155136,36.95621249776319,35.20116649176616,34.47370488130731,34.8202667968558,35.23535371941683,36.596440251963024,25.674354712760717,26.365838130032266,30.210708576886983,26.366672909397625,30.236085574303814,34.79019069645979,29.970014566994397,35.90985327094913,25.677824098675654,26.802556381513124,31.0862077555688,26.440844626289156,25.037121983706434,35.65222302824302,25.63479418467486,30.8302883893573,26.288615841769506,37.05552685628203,30.926783682572374,36.09562754177973,26.93551216108046,29.959945596240196,30.174427829350588,35.765847592297256,29.919599759151346,30.729648379036675,35.06496710280196,36.987877946398726,24.89477256457551,30.764904741842233,26.47425169154813,36.61918264283028,37.03972323724466,35.58846758687885,25.105785411770963,34.59414668893635,34.696745974615936,26.29698509660226,37.176983182092286,34.64563880216338,34.97309527871684,26.518066914551916,36.58548587857368,31.44141931944177,24.896811467487577,31.16815302365557,34.8219776733504,26.216293422424563,35.89880337186459,34.71356411183454,35.15368884482179,25.347989532219522,30.065675080844112,36.81804571565748,34.79955458633281,34.579966590927484,26.26357803134329,35.23392323641395,35.102678333341224,26.23635173637987,35.90683343970673,26.1078798609087,36.640439933721,36.61140909163504,36.14428384020245,26.522371079832215,26.056034570062774,30.97244820312275,35.385823994516144,31.43101116169695,29.767370974631696,31.453753552564205,36.23750278552822,29.49175978892417,25.279582620801893,26.49615930305002,30.537330274075078,30.63111418290954,26.457752975384974,35.103467075004374,34.91069941537024,31.223467700416435,31.412316419463096,35.2254743540281,34.73057185441862,35.525627757787106,36.061200085493795,35.15715823073673,29.767370974631696,35.202001271131515,35.4947663483881,21.633372269133524,34.93201132323462,25.861095292597778,30.267872551194433,34.72363308258875,26.10408472204933,34.68251525333729,35.48782757655822,30.438539561301038,35.01344111580569,26.481190463378006,36.57075212092563,26.47052578898629,26.670295699071566,36.12908922401236,29.709115704311984,36.3445353520342,25.563237308397742,25.366427757806477,34.68124834258783,34.97309527871684,34.71518420020289,24.8555314575451,25.552063607585097,25.616355959087905,29.730494523457786,36.444211467443374,30.251310930622733,36.67301221961461,25.559767922482802,35.13499410258794,34.94267599762634,26.128676410463168,31.34025051676505,20.77740261205092,26.440844626289156,26.12572238285814,31.34371990267999,24.88783379274563,35.11095092720198,34.736756057374336,36.49084575575093,35.67262864697148,36.073774547251496,24.982063823592473,34.7626781351589,36.6992239963968,34.56133532731489,34.68124834258783,35.977824334404154,36.20228259387526,29.935097391179454,34.93538404817757,34.82438650338191,26.484659849292946,36.39374603633054,35.96530636876197,26.6149810223107,25.774575908537628,25.6425677358701,36.62463631468363,34.87881577750763,30.036572180865438,29.767370974631696,35.16865768449381,31.139645827314414,36.29304323880716,35.15343232817489,25.680020124746356,30.470097329013424,30.462067261171285,36.51099485783249,30.97244820312275,30.022199044830938,36.68988497380687,35.49678137445533,25.10655095483879,36.64478541676519,35.923202022252795,29.91156969130921,26.089441635321744,35.73571687492758,30.74808660462363,30.508823077733922,31.038666630003174,35.51320457397505,29.63704980161394,31.40454286826786,36.17572351231991,35.54314225331909,25.84502172286732,31.256874765675406,30.510861980645984,30.774554898052724,35.31716056645162,25.229167812958842,30.06914446675905,26.230936509152144,36.196610732794845,35.700689721300265,25.394934954147633,26.7464069253869,35.987268597237524,36.110650998425406,30.264403165279496,35.20527761902082,30.177558028274913,21.229365985785858,25.286521392631773,25.682913572958945,35.88383453219257,35.87644620569016,36.20043329632867,26.136387057249856,37.03972323724466,26.44574449520697,35.109617105171104,29.90463091947933,35.321079507039094,34.974765990354975,36.496860797525834,25.559767922482802,36.533993765346644,26.1222529969432,26.13832656667366,31.564801720629646,34.9607610455944,34.65824943507368,31.1246769876424,30.807961963311694,34.964357832610155,34.91967709011218,30.508823077733922,31.387535125683776,34.68177713494392,35.47982824884491,34.69968656817478,25.193396091843372,35.32756872419643,35.90129441075089,26.238201033926455,36.09915154466833,35.16062761665167,29.78927858613359,36.255941011115176,34.69239461872602,34.4056371568803,35.67693281225178,34.87910547650526,36.19587261440147,35.046303100696925,26.40539865811812,25.501838405107524,34.54710460603625,35.77304288077403,31.34371990267999,29.767370974631696,35.9987680509946,35.321079507039094,36.582016492658745,31.190060635157465,34.443251726447585,30.959099451819085,31.286555928372536,25.34419439336015,36.71580705159144,25.17148848034148,26.179416971250653,35.07809007758755,29.948446142483117,26.50656746079484,34.35032248011944,35.61037519838074,36.85492216683139,30.16401967160577,31.40454286826786,25.119323768440108,24.82101966222769,26.53650514013887,35.55374344908954,36.75453867315767,30.29486963697962,35.46135928312913,35.19553667468407,36.09593867540029,30.170958443435648,35.86441795957699,35.525627757787106,34.987325999995484,36.73956983348565,30.128763308800213,36.95621249776319,24.98900259542235,30.137551378176678,36.5478713090064,36.27807439913514,25.37151723208977,24.67792567560862,35.89616876531501,29.850936331086817,26.049095798232894,25.72966938952158,36.35613146676326,34.86394359880761,30.429751491924574,26.481509884433454,26.673765084986506,24.972503879259197,26.708006929610836,35.53699222315236,24.717166782639026,36.577552471703534,29.899312236017806,25.254544810375673,35.8625686620304,34.87803046850464,30.770250732772425,25.08387780026907,24.852062071630165,36.172904447016144,30.761435355927294,20.672458436449997,31.04933130439489,30.551207817734834,35.147282298008165,36.38141180320811,37.213859633266196,35.45964840663452,30.86716484053121,29.585204510768015,36.31472507379098,36.529626121445084,29.9169156822394,30.55923788557697,35.52831183469905,30.761435355927294,35.079935942473966,36.60074441724333,35.431452343913925,36.20043329632867,36.22972923433298,34.990795385910424,35.73918626084252,25.122793154355044,30.77802428396766,34.61605430043824,25.301490232303788,25.351458918134462,25.272387332325113,26.629949861982716,36.25963617354819,34.964583609128226,35.62161813549092,35.96883037165057,24.930537953801995,35.85132572492022,35.94367915075181,25.581419017337797,20.843125446556602,20.76962906085568,35.42049797052458,26.975857998169307,30.689559058594728,35.39267197821977],\"type\":\"scatter\"},{\"line\":{\"color\":\"red\",\"dash\":\"dash\"},\"mode\":\"lines\",\"name\":\"Perfect Fit\",\"x\":[18.12,38.7],\"y\":[18.12,38.7],\"type\":\"scatter\"}],                        {\"template\":{\"data\":{\"histogram2dcontour\":[{\"type\":\"histogram2dcontour\",\"colorbar\":{\"outlinewidth\":0,\"ticks\":\"\"},\"colorscale\":[[0.0,\"#0d0887\"],[0.1111111111111111,\"#46039f\"],[0.2222222222222222,\"#7201a8\"],[0.3333333333333333,\"#9c179e\"],[0.4444444444444444,\"#bd3786\"],[0.5555555555555556,\"#d8576b\"],[0.6666666666666666,\"#ed7953\"],[0.7777777777777778,\"#fb9f3a\"],[0.8888888888888888,\"#fdca26\"],[1.0,\"#f0f921\"]]}],\"choropleth\":[{\"type\":\"choropleth\",\"colorbar\":{\"outlinewidth\":0,\"ticks\":\"\"}}],\"histogram2d\":[{\"type\":\"histogram2d\",\"colorbar\":{\"outlinewidth\":0,\"ticks\":\"\"},\"colorscale\":[[0.0,\"#0d0887\"],[0.1111111111111111,\"#46039f\"],[0.2222222222222222,\"#7201a8\"],[0.3333333333333333,\"#9c179e\"],[0.4444444444444444,\"#bd3786\"],[0.5555555555555556,\"#d8576b\"],[0.6666666666666666,\"#ed7953\"],[0.7777777777777778,\"#fb9f3a\"],[0.8888888888888888,\"#fdca26\"],[1.0,\"#f0f921\"]]}],\"heatmap\":[{\"type\":\"heatmap\",\"colorbar\":{\"outlinewidth\":0,\"ticks\":\"\"},\"colorscale\":[[0.0,\"#0d0887\"],[0.1111111111111111,\"#46039f\"],[0.2222222222222222,\"#7201a8\"],[0.3333333333333333,\"#9c179e\"],[0.4444444444444444,\"#bd3786\"],[0.5555555555555556,\"#d8576b\"],[0.6666666666666666,\"#ed7953\"],[0.7777777777777778,\"#fb9f3a\"],[0.8888888888888888,\"#fdca26\"],[1.0,\"#f0f921\"]]}],\"heatmapgl\":[{\"type\":\"heatmapgl\",\"colorbar\":{\"outlinewidth\":0,\"ticks\":\"\"},\"colorscale\":[[0.0,\"#0d0887\"],[0.1111111111111111,\"#46039f\"],[0.2222222222222222,\"#7201a8\"],[0.3333333333333333,\"#9c179e\"],[0.4444444444444444,\"#bd3786\"],[0.5555555555555556,\"#d8576b\"],[0.6666666666666666,\"#ed7953\"],[0.7777777777777778,\"#fb9f3a\"],[0.8888888888888888,\"#fdca26\"],[1.0,\"#f0f921\"]]}],\"contourcarpet\":[{\"type\":\"contourcarpet\",\"colorbar\":{\"outlinewidth\":0,\"ticks\":\"\"}}],\"contour\":[{\"type\":\"contour\",\"colorbar\":{\"outlinewidth\":0,\"ticks\":\"\"},\"colorscale\":[[0.0,\"#0d0887\"],[0.1111111111111111,\"#46039f\"],[0.2222222222222222,\"#7201a8\"],[0.3333333333333333,\"#9c179e\"],[0.4444444444444444,\"#bd3786\"],[0.5555555555555556,\"#d8576b\"],[0.6666666666666666,\"#ed7953\"],[0.7777777777777778,\"#fb9f3a\"],[0.8888888888888888,\"#fdca26\"],[1.0,\"#f0f921\"]]}],\"surface\":[{\"type\":\"surface\",\"colorbar\":{\"outlinewidth\":0,\"ticks\":\"\"},\"colorscale\":[[0.0,\"#0d0887\"],[0.1111111111111111,\"#46039f\"],[0.2222222222222222,\"#7201a8\"],[0.3333333333333333,\"#9c179e\"],[0.4444444444444444,\"#bd3786\"],[0.5555555555555556,\"#d8576b\"],[0.6666666666666666,\"#ed7953\"],[0.7777777777777778,\"#fb9f3a\"],[0.8888888888888888,\"#fdca26\"],[1.0,\"#f0f921\"]]}],\"mesh3d\":[{\"type\":\"mesh3d\",\"colorbar\":{\"outlinewidth\":0,\"ticks\":\"\"}}],\"scatter\":[{\"fillpattern\":{\"fillmode\":\"overlay\",\"size\":10,\"solidity\":0.2},\"type\":\"scatter\"}],\"parcoords\":[{\"type\":\"parcoords\",\"line\":{\"colorbar\":{\"outlinewidth\":0,\"ticks\":\"\"}}}],\"scatterpolargl\":[{\"type\":\"scatterpolargl\",\"marker\":{\"colorbar\":{\"outlinewidth\":0,\"ticks\":\"\"}}}],\"bar\":[{\"error_x\":{\"color\":\"#2a3f5f\"},\"error_y\":{\"color\":\"#2a3f5f\"},\"marker\":{\"line\":{\"color\":\"#E5ECF6\",\"width\":0.5},\"pattern\":{\"fillmode\":\"overlay\",\"size\":10,\"solidity\":0.2}},\"type\":\"bar\"}],\"scattergeo\":[{\"type\":\"scattergeo\",\"marker\":{\"colorbar\":{\"outlinewidth\":0,\"ticks\":\"\"}}}],\"scatterpolar\":[{\"type\":\"scatterpolar\",\"marker\":{\"colorbar\":{\"outlinewidth\":0,\"ticks\":\"\"}}}],\"histogram\":[{\"marker\":{\"pattern\":{\"fillmode\":\"overlay\",\"size\":10,\"solidity\":0.2}},\"type\":\"histogram\"}],\"scattergl\":[{\"type\":\"scattergl\",\"marker\":{\"colorbar\":{\"outlinewidth\":0,\"ticks\":\"\"}}}],\"scatter3d\":[{\"type\":\"scatter3d\",\"line\":{\"colorbar\":{\"outlinewidth\":0,\"ticks\":\"\"}},\"marker\":{\"colorbar\":{\"outlinewidth\":0,\"ticks\":\"\"}}}],\"scattermapbox\":[{\"type\":\"scattermapbox\",\"marker\":{\"colorbar\":{\"outlinewidth\":0,\"ticks\":\"\"}}}],\"scatterternary\":[{\"type\":\"scatterternary\",\"marker\":{\"colorbar\":{\"outlinewidth\":0,\"ticks\":\"\"}}}],\"scattercarpet\":[{\"type\":\"scattercarpet\",\"marker\":{\"colorbar\":{\"outlinewidth\":0,\"ticks\":\"\"}}}],\"carpet\":[{\"aaxis\":{\"endlinecolor\":\"#2a3f5f\",\"gridcolor\":\"white\",\"linecolor\":\"white\",\"minorgridcolor\":\"white\",\"startlinecolor\":\"#2a3f5f\"},\"baxis\":{\"endlinecolor\":\"#2a3f5f\",\"gridcolor\":\"white\",\"linecolor\":\"white\",\"minorgridcolor\":\"white\",\"startlinecolor\":\"#2a3f5f\"},\"type\":\"carpet\"}],\"table\":[{\"cells\":{\"fill\":{\"color\":\"#EBF0F8\"},\"line\":{\"color\":\"white\"}},\"header\":{\"fill\":{\"color\":\"#C8D4E3\"},\"line\":{\"color\":\"white\"}},\"type\":\"table\"}],\"barpolar\":[{\"marker\":{\"line\":{\"color\":\"#E5ECF6\",\"width\":0.5},\"pattern\":{\"fillmode\":\"overlay\",\"size\":10,\"solidity\":0.2}},\"type\":\"barpolar\"}],\"pie\":[{\"automargin\":true,\"type\":\"pie\"}]},\"layout\":{\"autotypenumbers\":\"strict\",\"colorway\":[\"#636efa\",\"#EF553B\",\"#00cc96\",\"#ab63fa\",\"#FFA15A\",\"#19d3f3\",\"#FF6692\",\"#B6E880\",\"#FF97FF\",\"#FECB52\"],\"font\":{\"color\":\"#2a3f5f\"},\"hovermode\":\"closest\",\"hoverlabel\":{\"align\":\"left\"},\"paper_bgcolor\":\"white\",\"plot_bgcolor\":\"#E5ECF6\",\"polar\":{\"bgcolor\":\"#E5ECF6\",\"angularaxis\":{\"gridcolor\":\"white\",\"linecolor\":\"white\",\"ticks\":\"\"},\"radialaxis\":{\"gridcolor\":\"white\",\"linecolor\":\"white\",\"ticks\":\"\"}},\"ternary\":{\"bgcolor\":\"#E5ECF6\",\"aaxis\":{\"gridcolor\":\"white\",\"linecolor\":\"white\",\"ticks\":\"\"},\"baxis\":{\"gridcolor\":\"white\",\"linecolor\":\"white\",\"ticks\":\"\"},\"caxis\":{\"gridcolor\":\"white\",\"linecolor\":\"white\",\"ticks\":\"\"}},\"coloraxis\":{\"colorbar\":{\"outlinewidth\":0,\"ticks\":\"\"}},\"colorscale\":{\"sequential\":[[0.0,\"#0d0887\"],[0.1111111111111111,\"#46039f\"],[0.2222222222222222,\"#7201a8\"],[0.3333333333333333,\"#9c179e\"],[0.4444444444444444,\"#bd3786\"],[0.5555555555555556,\"#d8576b\"],[0.6666666666666666,\"#ed7953\"],[0.7777777777777778,\"#fb9f3a\"],[0.8888888888888888,\"#fdca26\"],[1.0,\"#f0f921\"]],\"sequentialminus\":[[0.0,\"#0d0887\"],[0.1111111111111111,\"#46039f\"],[0.2222222222222222,\"#7201a8\"],[0.3333333333333333,\"#9c179e\"],[0.4444444444444444,\"#bd3786\"],[0.5555555555555556,\"#d8576b\"],[0.6666666666666666,\"#ed7953\"],[0.7777777777777778,\"#fb9f3a\"],[0.8888888888888888,\"#fdca26\"],[1.0,\"#f0f921\"]],\"diverging\":[[0,\"#8e0152\"],[0.1,\"#c51b7d\"],[0.2,\"#de77ae\"],[0.3,\"#f1b6da\"],[0.4,\"#fde0ef\"],[0.5,\"#f7f7f7\"],[0.6,\"#e6f5d0\"],[0.7,\"#b8e186\"],[0.8,\"#7fbc41\"],[0.9,\"#4d9221\"],[1,\"#276419\"]]},\"xaxis\":{\"gridcolor\":\"white\",\"linecolor\":\"white\",\"ticks\":\"\",\"title\":{\"standoff\":15},\"zerolinecolor\":\"white\",\"automargin\":true,\"zerolinewidth\":2},\"yaxis\":{\"gridcolor\":\"white\",\"linecolor\":\"white\",\"ticks\":\"\",\"title\":{\"standoff\":15},\"zerolinecolor\":\"white\",\"automargin\":true,\"zerolinewidth\":2},\"scene\":{\"xaxis\":{\"backgroundcolor\":\"#E5ECF6\",\"gridcolor\":\"white\",\"linecolor\":\"white\",\"showbackground\":true,\"ticks\":\"\",\"zerolinecolor\":\"white\",\"gridwidth\":2},\"yaxis\":{\"backgroundcolor\":\"#E5ECF6\",\"gridcolor\":\"white\",\"linecolor\":\"white\",\"showbackground\":true,\"ticks\":\"\",\"zerolinecolor\":\"white\",\"gridwidth\":2},\"zaxis\":{\"backgroundcolor\":\"#E5ECF6\",\"gridcolor\":\"white\",\"linecolor\":\"white\",\"showbackground\":true,\"ticks\":\"\",\"zerolinecolor\":\"white\",\"gridwidth\":2}},\"shapedefaults\":{\"line\":{\"color\":\"#2a3f5f\"}},\"annotationdefaults\":{\"arrowcolor\":\"#2a3f5f\",\"arrowhead\":0,\"arrowwidth\":1},\"geo\":{\"bgcolor\":\"white\",\"landcolor\":\"#E5ECF6\",\"subunitcolor\":\"white\",\"showland\":true,\"showlakes\":true,\"lakecolor\":\"white\"},\"title\":{\"x\":0.05},\"mapbox\":{\"style\":\"light\"}}},\"title\":{\"text\":\"Actual vs Predicted Sales (Linear Regression Model)\"},\"xaxis\":{\"title\":{\"text\":\"Actual Sales (money)\"}},\"yaxis\":{\"title\":{\"text\":\"Predicted Sales (money)\"}}},                        {\"responsive\": true}                    ).then(function(){\n",
              "                            \n",
              "var gd = document.getElementById('6075cf88-fa27-40e0-8983-1af666429e3c');\n",
              "var x = new MutationObserver(function (mutations, observer) {{\n",
              "        var display = window.getComputedStyle(gd).display;\n",
              "        if (!display || display === 'none') {{\n",
              "            console.log([gd, 'removed!']);\n",
              "            Plotly.purge(gd);\n",
              "            observer.disconnect();\n",
              "        }}\n",
              "}});\n",
              "\n",
              "// Listen for the removal of the full notebook cells\n",
              "var notebookContainer = gd.closest('#notebook-container');\n",
              "if (notebookContainer) {{\n",
              "    x.observe(notebookContainer, {childList: true});\n",
              "}}\n",
              "\n",
              "// Listen for the clearing of the current output cell\n",
              "var outputEl = gd.closest('.output');\n",
              "if (outputEl) {{\n",
              "    x.observe(outputEl, {childList: true});\n",
              "}}\n",
              "\n",
              "                        })                };                            </script>        </div>\n",
              "</body>\n",
              "</html>"
            ]
          },
          "metadata": {}
        }
      ]
    },
    {
      "cell_type": "code",
      "execution_count": 49,
      "id": "6db4280b",
      "metadata": {
        "colab": {
          "base_uri": "https://localhost:8080/",
          "height": 577
        },
        "id": "6db4280b",
        "outputId": "1df9e38a-6704-4c92-b685-4a5d0d68fd58"
      },
      "outputs": [
        {
          "output_type": "stream",
          "name": "stdout",
          "text": [
            "XGBoost Model R2: 0.9758\n",
            "XGBoost Model MAE: 0.3641\n"
          ]
        },
        {
          "output_type": "display_data",
          "data": {
            "text/html": [
              "<html>\n",
              "<head><meta charset=\"utf-8\" /></head>\n",
              "<body>\n",
              "    <div>            <script src=\"https://cdnjs.cloudflare.com/ajax/libs/mathjax/2.7.5/MathJax.js?config=TeX-AMS-MML_SVG\"></script><script type=\"text/javascript\">if (window.MathJax && window.MathJax.Hub && window.MathJax.Hub.Config) {window.MathJax.Hub.Config({SVG: {font: \"STIX-Web\"}});}</script>                <script type=\"text/javascript\">window.PlotlyConfig = {MathJaxConfig: 'local'};</script>\n",
              "        <script charset=\"utf-8\" src=\"https://cdn.plot.ly/plotly-2.35.2.min.js\"></script>                <div id=\"df7958cf-5abf-481a-aecf-31257089c1b6\" class=\"plotly-graph-div\" style=\"height:525px; width:100%;\"></div>            <script type=\"text/javascript\">                                    window.PLOTLYENV=window.PLOTLYENV || {};                                    if (document.getElementById(\"df7958cf-5abf-481a-aecf-31257089c1b6\")) {                    Plotly.newPlot(                        \"df7958cf-5abf-481a-aecf-31257089c1b6\",                        [{\"mode\":\"markers\",\"name\":\"XGBoost Predictions\",\"x\":[32.82,35.76,35.76,35.76,18.12,35.76,23.02,35.76,25.96,30.86,23.02,37.72,35.76,35.76,35.76,35.76,27.92,35.76,35.76,23.02,35.76,25.96,35.76,32.82,35.76,30.86,38.7,28.9,32.82,27.92,35.76,28.9,35.76,25.96,35.76,27.92,32.82,38.7,37.72,27.92,30.86,35.76,35.76,33.8,35.76,35.76,37.72,25.96,35.76,30.86,28.9,35.76,27.92,35.76,35.76,35.76,30.86,23.02,30.86,30.86,35.76,18.12,35.76,32.82,35.76,35.76,25.96,37.72,32.82,27.92,35.76,32.82,35.76,33.8,27.92,38.7,32.82,27.92,37.72,38.7,25.96,32.82,35.76,28.9,37.72,32.82,30.86,27.92,25.96,32.82,37.72,25.96,21.06,25.96,37.72,27.92,25.96,30.86,35.76,25.96,27.92,28.9,30.86,35.76,25.96,37.72,27.92,27.92,32.82,30.86,27.92,35.76,30.86,35.76,38.7,21.06,27.92,27.92,35.76,32.82,35.76,25.96,27.92,25.96,32.82,35.76,32.82,25.96,27.92,30.86,27.92,30.86,32.82,37.72,27.92,32.82,30.86,32.82,25.96,32.82,35.76,35.76,35.76,35.76,27.92,30.86,35.76,33.8,30.86,27.92,27.92,25.96,37.72,30.86,37.72,30.86,38.7,35.76,25.96,28.9,23.02,30.86,38.7,35.76,27.92,35.76,23.02,25.96,37.72,32.82,32.82,25.96,35.76,30.86,37.72,18.12,25.96,32.82,33.8,35.76,35.76,23.02,27.92,25.96,32.82,30.86,27.92,35.76,35.76,35.76,30.86,38.7,35.76,18.12,32.82,23.02,38.7,35.76,37.72,25.96,37.72,37.72,37.72,21.06,27.92,37.72,35.76,30.86,35.76,32.82,38.7,30.86,32.82,28.9,35.76,30.86,32.82,37.72,27.92,28.9,32.82,35.76,35.76,32.82,30.86,35.76,32.82,28.9,38.7,38.7,25.96,35.76,27.92,35.76,21.06,32.82,30.86,30.86,32.82,35.76,35.76,32.82,35.76,18.12,23.02,32.82,35.76,33.8,32.82,30.86,37.72,23.02,23.02,32.82,28.9,25.96,27.92,35.76,35.76,35.76,25.96,37.72,25.96,32.82,25.96,23.02,28.9,32.82,35.76,37.72,35.76,32.82,25.96,27.92,30.86,32.82,35.76,35.76,23.02,32.82,32.82,30.86,30.86,25.96,35.76,24.0,27.92,25.96,30.86,27.92,35.76,25.96,28.9,27.92,27.92,37.72,25.96,27.92,38.7,25.96,30.86,30.86,25.96,25.96,35.76,32.82,33.8,21.06,37.72,28.9,32.82,35.76,35.76,25.96,25.96,35.76,25.96,38.7,25.96,35.76,37.72,35.76,35.76,35.76,25.96,35.76,28.9,35.76,35.76,35.76,32.82,35.76,35.76,35.76,32.82,37.72,35.76,32.82,25.96,30.86,21.06,25.96,35.76,27.92,37.72,27.92,35.76,38.7,27.92,35.76,35.76,35.76,35.76,35.76,35.76,27.92,28.9,27.92,25.96,27.92,35.76,30.86,37.72,27.92,25.96,32.82,28.9,25.96,32.82,23.02,32.82,28.9,35.76,32.82,37.72,25.96,27.92,27.92,32.82,27.92,32.82,35.76,35.76,25.96,33.8,25.96,35.76,35.76,37.72,23.02,35.76,35.76,25.96,35.76,35.76,35.76,28.9,35.76,33.8,25.96,32.82,32.82,25.96,32.82,35.76,35.76,23.02,30.86,35.76,35.76,35.76,25.96,35.76,32.82,27.92,32.82,25.96,35.76,38.7,38.7,25.96,25.96,33.8,37.72,33.8,30.86,30.86,38.7,30.86,25.96,25.96,27.92,32.82,28.9,32.82,32.82,33.8,30.86,35.76,35.76,35.76,35.76,35.76,30.86,35.76,32.82,24.0,35.76,27.92,27.92,35.76,27.92,35.76,32.82,32.82,35.76,25.96,35.76,25.96,25.96,37.72,30.86,38.7,23.02,23.02,35.76,35.76,35.76,25.96,27.92,23.02,30.86,38.7,30.86,38.7,23.02,32.82,35.76,28.9,30.86,23.02,28.9,28.9,30.86,25.96,32.82,35.76,37.72,32.82,37.72,25.96,35.76,35.76,35.76,35.76,37.72,35.76,30.86,35.76,35.76,28.9,35.76,37.72,25.96,27.92,23.02,38.7,35.76,30.86,30.86,35.76,30.86,35.76,32.82,27.92,27.92,27.92,35.76,30.86,27.92,35.76,35.76,25.96,35.76,38.7,27.92,25.96,37.72,32.82,32.82,33.8,32.82,30.86,30.86,37.72,32.82,28.9,33.8,27.92,32.82,32.82,23.02,30.86,27.92,35.76,38.7,23.02,25.96,37.72,37.72,27.92,32.82,30.86,23.02,25.96,23.02,37.72,37.72,35.76,27.92,35.76,25.96,35.76,27.92,35.76,35.76,35.76,23.02,35.76,28.9,27.92,30.86,35.76,35.76,30.86,32.82,35.76,35.76,32.82,30.86,35.76,35.76,35.76,23.02,32.82,35.76,25.96,37.72,35.76,30.86,38.7,35.76,35.76,37.72,35.76,35.76,35.76,25.96,23.02,35.76,32.82,30.86,30.86,37.72,35.76,35.76,32.82,35.76,32.82,33.8,25.96,35.76,23.02,25.96,32.82,27.92,25.96,35.76,32.82,35.76,27.92,33.8,25.96,25.96,25.96,32.82,38.7,27.92,32.82,35.76,37.72,27.92,35.76,35.76,35.76,38.7,30.86,35.76,25.96,27.92,35.76,38.7,23.02,25.96,37.72,30.86,25.96,27.92,35.76,35.76,27.92,25.96,25.96,25.96,25.96,32.82,25.96,35.76,30.86,23.02,37.72,32.82,27.92,23.02,25.96,37.72,33.8,18.12,32.82,27.92,32.82,35.76,35.76,35.76,32.82,30.86,37.72,35.76,30.86,27.92,32.82,33.8,35.76,35.76,32.82,35.76,37.72,35.76,37.72,25.96,32.82,35.76,25.96,27.92,23.02,25.96,38.7,35.76,37.72,37.72,25.96,37.72,37.72,23.02,18.12,18.12,32.82,25.96,27.92,35.76],\"y\":[33.164574,35.814827,35.809742,35.73787,18.101976,35.71044,23.282187,35.84026,25.91613,30.82651,23.725042,37.77744,35.76717,35.725163,35.74792,37.594166,27.709885,35.737526,35.797672,23.283405,35.752846,25.969452,36.26837,32.44482,35.791595,31.277117,36.10852,29.277838,32.863335,27.877575,35.774185,28.263565,37.227966,25.944069,35.748833,28.08867,32.724552,38.802834,37.14318,30.697914,31.485664,35.763504,35.220356,32.159863,36.48095,35.788193,37.680653,25.987528,35.67375,30.839344,28.508713,35.707676,27.832243,35.69634,36.319862,35.658253,30.85594,22.800837,30.83505,31.006844,35.687878,17.462217,35.71044,32.764145,36.827286,35.636703,26.663786,38.149975,32.837242,27.843136,35.173954,33.11544,35.740482,33.88495,27.804249,38.148003,32.758724,27.641716,38.328304,36.759872,25.829166,30.22781,38.402027,27.206161,37.818626,32.666176,31.127056,27.8096,25.64993,33.083374,36.241146,25.923298,21.09434,25.915705,38.429657,27.816473,25.990643,30.900686,36.99383,25.922775,27.941517,28.76373,30.850481,35.687164,25.966179,37.60669,27.824406,27.989231,34.046665,30.827517,28.016207,36.727604,30.593811,35.703712,36.616493,21.04951,27.972181,27.858238,36.41595,32.943096,36.417027,25.932978,28.142887,26.177567,33.62781,35.74711,34.10846,25.990572,27.732155,30.362486,27.78721,30.78391,32.400455,37.77479,28.28653,32.99491,30.770966,32.44482,25.908773,33.011044,35.8412,35.878418,35.27531,35.78749,27.497568,30.848625,35.61813,32.74121,30.757706,27.799702,28.980787,25.888878,38.29597,31.131193,37.636257,30.85383,35.7104,35.869194,25.869514,28.78966,23.062721,30.889303,35.975266,35.711086,27.900911,35.730797,23.282187,25.911476,39.11591,33.164574,32.77562,25.954908,35.694,30.362486,37.83281,18.094088,25.948563,32.463566,33.43432,38.800858,35.77987,23.163706,27.85334,25.928926,33.48084,31.277117,27.858238,35.7649,35.81032,35.873188,30.87049,38.491352,35.768356,17.339622,32.921494,22.950684,36.493786,35.414433,37.6908,25.965998,37.942398,37.67614,37.855747,20.979366,27.924017,37.57096,35.708916,31.057173,35.73138,33.955822,36.80287,30.872753,32.682476,28.619928,35.76254,30.764948,32.97507,37.882,28.021341,28.525627,32.87743,35.67227,37.546413,32.963554,31.630167,35.76136,32.733276,28.582338,38.01025,37.534092,25.96836,35.811985,27.813566,35.707485,20.929033,33.42079,28.426523,30.90569,32.800602,35.748817,36.035164,32.837242,35.737526,18.097593,23.102118,33.571865,35.759716,33.341408,32.653343,30.817411,38.883667,22.638649,24.177921,32.673218,29.026846,25.929176,27.897448,35.795258,35.696144,35.7617,25.916285,38.411602,25.926414,33.10417,25.990068,23.463144,26.551788,32.578773,35.703423,37.72014,35.77452,28.201086,25.91055,28.247551,30.869293,32.832565,36.034958,35.71203,23.033743,32.91996,32.724552,30.88739,30.818598,26.03513,35.70389,24.299936,27.89083,25.937803,30.87049,28.280191,35.683926,26.598919,28.247551,27.88039,27.850512,37.70694,25.868998,27.781454,35.76672,26.825718,30.850481,30.878126,25.913979,27.824347,35.708916,32.708916,31.877672,20.868382,37.65743,28.247551,32.678986,35.747425,35.630314,25.910896,26.04391,35.711063,26.03513,36.234665,27.287523,35.78206,37.977097,36.01962,37.8124,36.257782,27.358065,35.80382,27.42444,35.736404,35.7528,35.670597,32.963554,35.82563,35.73006,35.748272,32.723793,38.467316,35.74792,32.678986,25.917765,30.842743,21.050148,25.916285,35.707485,27.91352,37.69455,27.756977,35.27531,38.126682,28.14342,35.607944,35.920822,35.7029,36.24784,35.63923,36.809917,27.78721,28.247551,27.98824,27.353905,27.732155,35.766293,30.886366,37.81537,27.854332,26.06748,32.832504,27.157124,25.88253,32.76777,23.229979,32.593605,28.259846,35.324417,32.862232,38.00443,25.97216,27.933962,27.799702,35.120327,27.916973,32.811043,35.747337,35.27531,25.919277,33.2966,26.931698,35.70641,35.862392,32.757915,23.558323,35.781677,35.971836,25.990643,35.6012,35.805016,36.20819,27.33338,35.745674,32.90316,25.9437,33.06316,32.83822,25.988953,33.910255,35.690933,35.80677,23.364338,30.936035,35.673912,35.746094,35.82341,25.803822,35.908627,32.77618,28.28653,33.571865,27.359243,36.01962,37.19,38.699516,25.957748,26.538252,32.02745,37.810333,32.107376,30.879122,30.918932,38.571545,30.913807,25.888697,27.485247,27.744047,32.736683,29.024628,32.849293,33.079376,33.626648,30.87458,35.764725,35.743946,35.750248,37.897472,36.239197,30.879122,35.726715,32.97507,22.21385,35.772488,28.013163,28.201086,35.76533,27.712936,35.73377,34.675117,32.75968,35.679684,26.663786,35.53369,25.934679,25.987528,37.951447,31.098705,35.142563,22.923845,23.43476,35.758717,36.20819,35.858604,25.916103,27.775452,23.402643,30.872284,38.651814,30.742413,38.15239,23.01771,32.580524,35.686462,28.904577,30.870104,21.880041,27.157124,28.205387,30.850014,25.92784,33.509987,35.71838,37.83232,32.774193,37.68875,25.9995,35.7583,38.605648,35.677727,35.758717,37.911182,35.81554,30.46852,35.728855,35.825924,26.68602,35.68384,37.742836,26.122887,27.709885,23.362694,38.915356,35.750538,30.761173,30.879122,36.22321,30.73547,36.99383,32.671013,27.935951,27.99177,27.677334,35.625412,32.02745,28.352493,35.66371,35.595547,25.900782,35.697636,37.8124,29.283144,26.891815,37.71778,32.6952,32.75722,33.38828,32.68567,30.838144,32.72302,37.5555,32.840748,28.262444,33.43432,27.694288,33.061115,33.177044,23.099861,30.926256,27.93192,35.726593,38.04282,23.45767,26.102753,37.37759,37.69455,27.828848,33.955822,30.87016,22.552214,25.876663,24.63098,36.241146,37.719925,36.827286,28.009495,35.862392,26.013933,33.801064,28.364063,35.56643,35.74945,35.677624,23.01771,35.67476,28.19073,27.941517,30.912289,35.74407,35.801613,30.760677,32.784042,35.78562,35.740215,32.75722,30.900126,35.842552,32.63947,35.771717,23.23964,32.78691,36.261337,25.909386,37.721664,35.69634,30.848341,38.610294,35.76254,35.80293,37.820995,35.644226,36.998245,35.84026,25.956993,23.369644,35.788193,32.633766,30.850014,30.879122,37.709343,35.56643,35.768566,33.242016,35.670414,32.874424,32.956207,25.969334,35.712692,22.983028,25.900505,32.876213,27.894955,27.310179,35.747105,33.177288,35.7528,27.897448,32.72302,25.87206,26.01415,26.46053,32.874706,38.163513,28.629967,32.513054,35.75391,37.98606,28.099646,36.493786,35.750248,35.82499,37.47284,30.960423,35.607944,25.952389,27.806917,35.832664,37.924934,23.4111,25.951323,37.99692,31.889174,25.858248,27.929825,35.79601,36.033276,27.801733,26.032278,25.926414,25.982456,25.96073,32.769745,25.93202,35.093327,30.923523,23.414522,37.755417,32.76202,29.11306,23.729836,25.893059,37.694195,33.429268,21.306232,32.7759,28.537868,32.76012,35.97633,35.8203,35.76717,32.95637,30.878614,38.395954,35.74958,30.839842,28.040857,32.704727,33.429268,35.731888,35.747158,32.66174,36.827286,38.277393,35.804153,37.743553,25.927698,33.244984,35.772594,26.023277,23.647331,23.392023,26.07381,37.195408,35.796272,37.713947,39.929867,25.979534,37.8513,37.77841,22.596706,21.974794,18.194088,32.840466,25.91955,28.191626,35.797386],\"type\":\"scatter\"},{\"line\":{\"color\":\"red\",\"dash\":\"dash\"},\"mode\":\"lines\",\"name\":\"Perfect Fit\",\"x\":[18.12,38.7],\"y\":[18.12,38.7],\"type\":\"scatter\"}],                        {\"template\":{\"data\":{\"histogram2dcontour\":[{\"type\":\"histogram2dcontour\",\"colorbar\":{\"outlinewidth\":0,\"ticks\":\"\"},\"colorscale\":[[0.0,\"#0d0887\"],[0.1111111111111111,\"#46039f\"],[0.2222222222222222,\"#7201a8\"],[0.3333333333333333,\"#9c179e\"],[0.4444444444444444,\"#bd3786\"],[0.5555555555555556,\"#d8576b\"],[0.6666666666666666,\"#ed7953\"],[0.7777777777777778,\"#fb9f3a\"],[0.8888888888888888,\"#fdca26\"],[1.0,\"#f0f921\"]]}],\"choropleth\":[{\"type\":\"choropleth\",\"colorbar\":{\"outlinewidth\":0,\"ticks\":\"\"}}],\"histogram2d\":[{\"type\":\"histogram2d\",\"colorbar\":{\"outlinewidth\":0,\"ticks\":\"\"},\"colorscale\":[[0.0,\"#0d0887\"],[0.1111111111111111,\"#46039f\"],[0.2222222222222222,\"#7201a8\"],[0.3333333333333333,\"#9c179e\"],[0.4444444444444444,\"#bd3786\"],[0.5555555555555556,\"#d8576b\"],[0.6666666666666666,\"#ed7953\"],[0.7777777777777778,\"#fb9f3a\"],[0.8888888888888888,\"#fdca26\"],[1.0,\"#f0f921\"]]}],\"heatmap\":[{\"type\":\"heatmap\",\"colorbar\":{\"outlinewidth\":0,\"ticks\":\"\"},\"colorscale\":[[0.0,\"#0d0887\"],[0.1111111111111111,\"#46039f\"],[0.2222222222222222,\"#7201a8\"],[0.3333333333333333,\"#9c179e\"],[0.4444444444444444,\"#bd3786\"],[0.5555555555555556,\"#d8576b\"],[0.6666666666666666,\"#ed7953\"],[0.7777777777777778,\"#fb9f3a\"],[0.8888888888888888,\"#fdca26\"],[1.0,\"#f0f921\"]]}],\"heatmapgl\":[{\"type\":\"heatmapgl\",\"colorbar\":{\"outlinewidth\":0,\"ticks\":\"\"},\"colorscale\":[[0.0,\"#0d0887\"],[0.1111111111111111,\"#46039f\"],[0.2222222222222222,\"#7201a8\"],[0.3333333333333333,\"#9c179e\"],[0.4444444444444444,\"#bd3786\"],[0.5555555555555556,\"#d8576b\"],[0.6666666666666666,\"#ed7953\"],[0.7777777777777778,\"#fb9f3a\"],[0.8888888888888888,\"#fdca26\"],[1.0,\"#f0f921\"]]}],\"contourcarpet\":[{\"type\":\"contourcarpet\",\"colorbar\":{\"outlinewidth\":0,\"ticks\":\"\"}}],\"contour\":[{\"type\":\"contour\",\"colorbar\":{\"outlinewidth\":0,\"ticks\":\"\"},\"colorscale\":[[0.0,\"#0d0887\"],[0.1111111111111111,\"#46039f\"],[0.2222222222222222,\"#7201a8\"],[0.3333333333333333,\"#9c179e\"],[0.4444444444444444,\"#bd3786\"],[0.5555555555555556,\"#d8576b\"],[0.6666666666666666,\"#ed7953\"],[0.7777777777777778,\"#fb9f3a\"],[0.8888888888888888,\"#fdca26\"],[1.0,\"#f0f921\"]]}],\"surface\":[{\"type\":\"surface\",\"colorbar\":{\"outlinewidth\":0,\"ticks\":\"\"},\"colorscale\":[[0.0,\"#0d0887\"],[0.1111111111111111,\"#46039f\"],[0.2222222222222222,\"#7201a8\"],[0.3333333333333333,\"#9c179e\"],[0.4444444444444444,\"#bd3786\"],[0.5555555555555556,\"#d8576b\"],[0.6666666666666666,\"#ed7953\"],[0.7777777777777778,\"#fb9f3a\"],[0.8888888888888888,\"#fdca26\"],[1.0,\"#f0f921\"]]}],\"mesh3d\":[{\"type\":\"mesh3d\",\"colorbar\":{\"outlinewidth\":0,\"ticks\":\"\"}}],\"scatter\":[{\"fillpattern\":{\"fillmode\":\"overlay\",\"size\":10,\"solidity\":0.2},\"type\":\"scatter\"}],\"parcoords\":[{\"type\":\"parcoords\",\"line\":{\"colorbar\":{\"outlinewidth\":0,\"ticks\":\"\"}}}],\"scatterpolargl\":[{\"type\":\"scatterpolargl\",\"marker\":{\"colorbar\":{\"outlinewidth\":0,\"ticks\":\"\"}}}],\"bar\":[{\"error_x\":{\"color\":\"#2a3f5f\"},\"error_y\":{\"color\":\"#2a3f5f\"},\"marker\":{\"line\":{\"color\":\"#E5ECF6\",\"width\":0.5},\"pattern\":{\"fillmode\":\"overlay\",\"size\":10,\"solidity\":0.2}},\"type\":\"bar\"}],\"scattergeo\":[{\"type\":\"scattergeo\",\"marker\":{\"colorbar\":{\"outlinewidth\":0,\"ticks\":\"\"}}}],\"scatterpolar\":[{\"type\":\"scatterpolar\",\"marker\":{\"colorbar\":{\"outlinewidth\":0,\"ticks\":\"\"}}}],\"histogram\":[{\"marker\":{\"pattern\":{\"fillmode\":\"overlay\",\"size\":10,\"solidity\":0.2}},\"type\":\"histogram\"}],\"scattergl\":[{\"type\":\"scattergl\",\"marker\":{\"colorbar\":{\"outlinewidth\":0,\"ticks\":\"\"}}}],\"scatter3d\":[{\"type\":\"scatter3d\",\"line\":{\"colorbar\":{\"outlinewidth\":0,\"ticks\":\"\"}},\"marker\":{\"colorbar\":{\"outlinewidth\":0,\"ticks\":\"\"}}}],\"scattermapbox\":[{\"type\":\"scattermapbox\",\"marker\":{\"colorbar\":{\"outlinewidth\":0,\"ticks\":\"\"}}}],\"scatterternary\":[{\"type\":\"scatterternary\",\"marker\":{\"colorbar\":{\"outlinewidth\":0,\"ticks\":\"\"}}}],\"scattercarpet\":[{\"type\":\"scattercarpet\",\"marker\":{\"colorbar\":{\"outlinewidth\":0,\"ticks\":\"\"}}}],\"carpet\":[{\"aaxis\":{\"endlinecolor\":\"#2a3f5f\",\"gridcolor\":\"white\",\"linecolor\":\"white\",\"minorgridcolor\":\"white\",\"startlinecolor\":\"#2a3f5f\"},\"baxis\":{\"endlinecolor\":\"#2a3f5f\",\"gridcolor\":\"white\",\"linecolor\":\"white\",\"minorgridcolor\":\"white\",\"startlinecolor\":\"#2a3f5f\"},\"type\":\"carpet\"}],\"table\":[{\"cells\":{\"fill\":{\"color\":\"#EBF0F8\"},\"line\":{\"color\":\"white\"}},\"header\":{\"fill\":{\"color\":\"#C8D4E3\"},\"line\":{\"color\":\"white\"}},\"type\":\"table\"}],\"barpolar\":[{\"marker\":{\"line\":{\"color\":\"#E5ECF6\",\"width\":0.5},\"pattern\":{\"fillmode\":\"overlay\",\"size\":10,\"solidity\":0.2}},\"type\":\"barpolar\"}],\"pie\":[{\"automargin\":true,\"type\":\"pie\"}]},\"layout\":{\"autotypenumbers\":\"strict\",\"colorway\":[\"#636efa\",\"#EF553B\",\"#00cc96\",\"#ab63fa\",\"#FFA15A\",\"#19d3f3\",\"#FF6692\",\"#B6E880\",\"#FF97FF\",\"#FECB52\"],\"font\":{\"color\":\"#2a3f5f\"},\"hovermode\":\"closest\",\"hoverlabel\":{\"align\":\"left\"},\"paper_bgcolor\":\"white\",\"plot_bgcolor\":\"#E5ECF6\",\"polar\":{\"bgcolor\":\"#E5ECF6\",\"angularaxis\":{\"gridcolor\":\"white\",\"linecolor\":\"white\",\"ticks\":\"\"},\"radialaxis\":{\"gridcolor\":\"white\",\"linecolor\":\"white\",\"ticks\":\"\"}},\"ternary\":{\"bgcolor\":\"#E5ECF6\",\"aaxis\":{\"gridcolor\":\"white\",\"linecolor\":\"white\",\"ticks\":\"\"},\"baxis\":{\"gridcolor\":\"white\",\"linecolor\":\"white\",\"ticks\":\"\"},\"caxis\":{\"gridcolor\":\"white\",\"linecolor\":\"white\",\"ticks\":\"\"}},\"coloraxis\":{\"colorbar\":{\"outlinewidth\":0,\"ticks\":\"\"}},\"colorscale\":{\"sequential\":[[0.0,\"#0d0887\"],[0.1111111111111111,\"#46039f\"],[0.2222222222222222,\"#7201a8\"],[0.3333333333333333,\"#9c179e\"],[0.4444444444444444,\"#bd3786\"],[0.5555555555555556,\"#d8576b\"],[0.6666666666666666,\"#ed7953\"],[0.7777777777777778,\"#fb9f3a\"],[0.8888888888888888,\"#fdca26\"],[1.0,\"#f0f921\"]],\"sequentialminus\":[[0.0,\"#0d0887\"],[0.1111111111111111,\"#46039f\"],[0.2222222222222222,\"#7201a8\"],[0.3333333333333333,\"#9c179e\"],[0.4444444444444444,\"#bd3786\"],[0.5555555555555556,\"#d8576b\"],[0.6666666666666666,\"#ed7953\"],[0.7777777777777778,\"#fb9f3a\"],[0.8888888888888888,\"#fdca26\"],[1.0,\"#f0f921\"]],\"diverging\":[[0,\"#8e0152\"],[0.1,\"#c51b7d\"],[0.2,\"#de77ae\"],[0.3,\"#f1b6da\"],[0.4,\"#fde0ef\"],[0.5,\"#f7f7f7\"],[0.6,\"#e6f5d0\"],[0.7,\"#b8e186\"],[0.8,\"#7fbc41\"],[0.9,\"#4d9221\"],[1,\"#276419\"]]},\"xaxis\":{\"gridcolor\":\"white\",\"linecolor\":\"white\",\"ticks\":\"\",\"title\":{\"standoff\":15},\"zerolinecolor\":\"white\",\"automargin\":true,\"zerolinewidth\":2},\"yaxis\":{\"gridcolor\":\"white\",\"linecolor\":\"white\",\"ticks\":\"\",\"title\":{\"standoff\":15},\"zerolinecolor\":\"white\",\"automargin\":true,\"zerolinewidth\":2},\"scene\":{\"xaxis\":{\"backgroundcolor\":\"#E5ECF6\",\"gridcolor\":\"white\",\"linecolor\":\"white\",\"showbackground\":true,\"ticks\":\"\",\"zerolinecolor\":\"white\",\"gridwidth\":2},\"yaxis\":{\"backgroundcolor\":\"#E5ECF6\",\"gridcolor\":\"white\",\"linecolor\":\"white\",\"showbackground\":true,\"ticks\":\"\",\"zerolinecolor\":\"white\",\"gridwidth\":2},\"zaxis\":{\"backgroundcolor\":\"#E5ECF6\",\"gridcolor\":\"white\",\"linecolor\":\"white\",\"showbackground\":true,\"ticks\":\"\",\"zerolinecolor\":\"white\",\"gridwidth\":2}},\"shapedefaults\":{\"line\":{\"color\":\"#2a3f5f\"}},\"annotationdefaults\":{\"arrowcolor\":\"#2a3f5f\",\"arrowhead\":0,\"arrowwidth\":1},\"geo\":{\"bgcolor\":\"white\",\"landcolor\":\"#E5ECF6\",\"subunitcolor\":\"white\",\"showland\":true,\"showlakes\":true,\"lakecolor\":\"white\"},\"title\":{\"x\":0.05},\"mapbox\":{\"style\":\"light\"}}},\"title\":{\"text\":\"Actual vs Predicted Sales (XGBoost Model)\"},\"xaxis\":{\"title\":{\"text\":\"Actual Sales (money)\"}},\"yaxis\":{\"title\":{\"text\":\"Predicted Sales (money)\"}}},                        {\"responsive\": true}                    ).then(function(){\n",
              "                            \n",
              "var gd = document.getElementById('df7958cf-5abf-481a-aecf-31257089c1b6');\n",
              "var x = new MutationObserver(function (mutations, observer) {{\n",
              "        var display = window.getComputedStyle(gd).display;\n",
              "        if (!display || display === 'none') {{\n",
              "            console.log([gd, 'removed!']);\n",
              "            Plotly.purge(gd);\n",
              "            observer.disconnect();\n",
              "        }}\n",
              "}});\n",
              "\n",
              "// Listen for the removal of the full notebook cells\n",
              "var notebookContainer = gd.closest('#notebook-container');\n",
              "if (notebookContainer) {{\n",
              "    x.observe(notebookContainer, {childList: true});\n",
              "}}\n",
              "\n",
              "// Listen for the clearing of the current output cell\n",
              "var outputEl = gd.closest('.output');\n",
              "if (outputEl) {{\n",
              "    x.observe(outputEl, {childList: true});\n",
              "}}\n",
              "\n",
              "                        })                };                            </script>        </div>\n",
              "</body>\n",
              "</html>"
            ]
          },
          "metadata": {}
        }
      ],
      "source": [
        "import xgboost as xgb\n",
        "from sklearn.metrics import r2_score, mean_absolute_error\n",
        "import plotly.graph_objects as go\n",
        "\n",
        "# Initialize and train the XGBoost Regressor model\n",
        "xgboost_model = xgb.XGBRegressor(objective='reg:squarederror', random_state=42)\n",
        "xgboost_model.fit(X_train, y_train)\n",
        "\n",
        "# Make predictions\n",
        "y_pred_xgboost = xgboost_model.predict(X_test)\n",
        "\n",
        "# Calculate R2 and MAE\n",
        "r2_xgboost = r2_score(y_test, y_pred_xgboost)\n",
        "mae_xgboost = mean_absolute_error(y_test, y_pred_xgboost)\n",
        "\n",
        "print(f\"XGBoost Model R2: {r2_xgboost:.4f}\")\n",
        "print(f\"XGBoost Model MAE: {mae_xgboost:.4f}\")\n",
        "\n",
        "# Plot actual vs predicted sales for XGBoost model\n",
        "fig_xgboost = go.Figure()\n",
        "fig_xgboost.add_trace(go.Scatter(x=y_test, y=y_pred_xgboost, mode='markers', name='XGBoost Predictions'))\n",
        "fig_xgboost.add_trace(go.Scatter(x=[y_test.min(), y_test.max()], y=[y_test.min(), y_test.max()],\n",
        "                            mode='lines', name='Perfect Fit', line=dict(color='red', dash='dash')))\n",
        "fig_xgboost.update_layout(title='Actual vs Predicted Sales (XGBoost Model)',\n",
        "                      xaxis_title='Actual Sales (money)',\n",
        "                      yaxis_title='Predicted Sales (money)')\n",
        "fig_xgboost.show()"
      ]
    },
    {
      "cell_type": "markdown",
      "id": "743b0976",
      "metadata": {
        "id": "743b0976"
      },
      "source": [
        "## Insights from EDA\n",
        "\n",
        "### 1. Sales by Weekday\n",
        "- **All Years Combined:** Sales peak on **Monday and Tuesday**, with weekends (Saturday and Sunday) showing lower totals.  \n",
        "---\n",
        "\n",
        "### 2. Coffee Popularity\n",
        "- **Top Drinks:** *Americano with Milk* and *Latte* dominate orders.  \n",
        "- **Lowest Demand:** Espresso is the least ordered.  \n",
        "\n",
        "---\n",
        "\n",
        "### 3. Average Spending by Time of Day\n",
        "- Customers spend around **30–32** on average across all times.  \n",
        "- Spending is **slightly higher at night**, suggesting evening customers may prefer larger or premium drinks.  \n",
        "\n",
        "---\n",
        "\n",
        "### 4. Weekday vs Weekend Split\n",
        "- **Average sales** are almost equal (**50.1% weekday vs 49.9% weekend**).  \n",
        "- Weekdays: higher transaction counts.  \n",
        "- Weekends: fewer customers but larger orders.  \n",
        "\n",
        "---\n",
        "\n",
        "### 5. Monthly & Seasonal Trends\n",
        "- **Monthly:**  \n",
        "  - *February & March* peak strongly, with **March 2025** having the highest sales.  \n",
        "  - Mid-year (June–August) shows dips.  \n",
        "- **Seasonal:**  \n",
        "  - *Autumn (29%)* leads, followed by *Spring (26%)*.  \n",
        "  - *Summer (20%)* is weakest.  \n",
        "\n",
        "---\n",
        "\n",
        "### 6. Coffee Type by Season\n",
        "- **Autumn:** Americano with Milk is most popular.  \n",
        "- **Spring:** Latte dominates.  \n",
        "- **Summer:** Americano with Milk leads but overall demand is weaker.  \n",
        "- **Winter:** Americano with Milk & Latte remain top sellers.  \n",
        "\n",
        "---\n",
        "\n",
        "\n"
      ]
    },
    {
      "cell_type": "code",
      "execution_count": null,
      "id": "f491ff05",
      "metadata": {
        "id": "f491ff05"
      },
      "outputs": [],
      "source": []
    }
  ],
  "metadata": {
    "kernelspec": {
      "display_name": "Python 3",
      "language": "python",
      "name": "python3"
    },
    "language_info": {
      "codemirror_mode": {
        "name": "ipython",
        "version": 3
      },
      "file_extension": ".py",
      "mimetype": "text/x-python",
      "name": "python",
      "nbconvert_exporter": "python",
      "pygments_lexer": "ipython3",
      "version": "3.13.2"
    },
    "colab": {
      "provenance": []
    }
  },
  "nbformat": 4,
  "nbformat_minor": 5
}